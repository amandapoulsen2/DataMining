{
  "cells": [
    {
      "cell_type": "markdown",
      "metadata": {
        "id": "view-in-github",
        "colab_type": "text"
      },
      "source": [
        "<a href=\"https://colab.research.google.com/github/mandimarquardt/DataMining/blob/main/A_first_look_at_deep_learning.ipynb\" target=\"_parent\"><img src=\"https://colab.research.google.com/assets/colab-badge.svg\" alt=\"Open In Colab\"/></a>"
      ]
    },
    {
      "cell_type": "markdown",
      "metadata": {
        "id": "0mKArb-b1_En"
      },
      "source": [
        "### Note:\n",
        "\n",
        "**First let's set the runtime to GPU -- click on 'runtime' in the menu above, select 'Change runtime type' and pick 'GPU'.**"
      ]
    },
    {
      "cell_type": "code",
      "execution_count": 1,
      "metadata": {
        "colab": {
          "base_uri": "https://localhost:8080/"
        },
        "id": "-n3xuc-8gykk",
        "outputId": "50ab4448-b271-4aaf-e2ff-ec72d000f0ff"
      },
      "outputs": [
        {
          "output_type": "stream",
          "name": "stdout",
          "text": [
            "Sun Nov 20 17:34:12 2022       \n",
            "+-----------------------------------------------------------------------------+\n",
            "| NVIDIA-SMI 460.32.03    Driver Version: 460.32.03    CUDA Version: 11.2     |\n",
            "|-------------------------------+----------------------+----------------------+\n",
            "| GPU  Name        Persistence-M| Bus-Id        Disp.A | Volatile Uncorr. ECC |\n",
            "| Fan  Temp  Perf  Pwr:Usage/Cap|         Memory-Usage | GPU-Util  Compute M. |\n",
            "|                               |                      |               MIG M. |\n",
            "|===============================+======================+======================|\n",
            "|   0  Tesla T4            Off  | 00000000:00:04.0 Off |                    0 |\n",
            "| N/A   58C    P8    10W /  70W |      0MiB / 15109MiB |      0%      Default |\n",
            "|                               |                      |                  N/A |\n",
            "+-------------------------------+----------------------+----------------------+\n",
            "                                                                               \n",
            "+-----------------------------------------------------------------------------+\n",
            "| Processes:                                                                  |\n",
            "|  GPU   GI   CI        PID   Type   Process name                  GPU Memory |\n",
            "|        ID   ID                                                   Usage      |\n",
            "|=============================================================================|\n",
            "|  No running processes found                                                 |\n",
            "+-----------------------------------------------------------------------------+\n"
          ]
        }
      ],
      "source": [
        "!nvidia-smi"
      ]
    },
    {
      "cell_type": "markdown",
      "metadata": {
        "id": "2ii5clez0HmE"
      },
      "source": [
        "# A First Look at Deep Learning using Keras  \n",
        "\n",
        "![](https://raw.githubusercontent.com/zacharski/ml-class/master/labs/pics/keras22.png)\n",
        "\n",
        "\n",
        "\n",
        "This notebook is intended to be a first quick hands-on introduction to deep learning using TensorFlow and Keras. \n",
        "\n",
        "\n",
        "First, let's cover a few definitions.\n",
        "\n",
        "#### Tensor\n",
        "Tensors, like arrays and matrices, are containers for numbers. For now, it is fine to think of tensors as arrays. Tensors have three defining characteristics. \n",
        "\n",
        "1. **Number of Axes or Dimensions**\n",
        "2. **The shape**\n",
        "3. **The Type of Data Stored in the Tensor**\n",
        "\n",
        "For example, the tensor `x` below \n",
        "\n",
        "* has one axis (it is one dimensional).\n",
        "* its shape is represented by the tuple `(4)` --- there are 4 elements in that one axis.\n",
        "* the datatype is `uint8` (the tensor contains integers).\n",
        "\n",
        "![](https://raw.githubusercontent.com/zacharski/datamining-guide/master/labs/pics/tensors43.png)\n",
        "\n",
        "The tensor `y`\n",
        "\n",
        "* has 2 axis (2 dimensional)\n",
        "* its shape is (3,4). Along one axis there are 3 rows and along the other, 4 columns\n",
        "* the datatype is `uint8`\n",
        "\n",
        "Finally, the tensor `z` \n",
        "\n",
        "* has 3 axis   -- it is 3 dimensional\n",
        "* its shape is (2, 3, 4)\n",
        "* the datatype is `uint8`\n",
        "\n",
        "**Tensors are the fundamental datatype for deep learning systems.**\n",
        "\n",
        "\n",
        "### Keras\n",
        "Keras is open source software that functions as an abstract interface to TensorFlow. \n",
        "\n",
        "My difficulty ranking of deep learning libraries (from easiest to hardest) is \n",
        "\n",
        "1. Keras\n",
        "2. PyTorch\n",
        "3. TensorFlow\n",
        "\n",
        "All have their strengths and it is difficult to recommend which one a beginner should start with. The excellent, free, Open.ai course uses PyTorch. However, in our exploration of deep learning we will start with Keras. In your path toward deepening your knowledge in machine learning you will likely encounter all three.\n",
        "\n",
        "# A first look at a neural network\n",
        "Let's go back to the example of recognizing hand written digits. \n",
        "\n",
        "\n",
        "![](https://raw.githubusercontent.com/zacharski/datamining-guide/master/labs/pics/mmnist.png)\n",
        "\n",
        "We are using the MNIST dataset (Modified National Institute of Standards) which is a dataset of 60,000 training instances and 10,000 testing instances of 28x28 grayscale images of the digits 0 through 9. This dataset was created in the 1980s as a testbed for various research groups. Back then it was considered a hard problem. Today it is considered the \"hello world\" equivalent in deep learning and you will see it again and again on your path learning about machine learning. \n"
      ]
    },
    {
      "cell_type": "markdown",
      "metadata": {
        "id": "fHO0x8YE0HmF"
      },
      "source": [
        "\n",
        "\n",
        "# Prelim steps\n",
        "\n",
        "## 1. Import Keras\n"
      ]
    },
    {
      "cell_type": "code",
      "execution_count": 2,
      "metadata": {
        "colab": {
          "base_uri": "https://localhost:8080/",
          "height": 35
        },
        "id": "DS58igpC0HmG",
        "outputId": "f51d2cd1-f7f8-4099-87c5-22cadb2eef96"
      },
      "outputs": [
        {
          "output_type": "execute_result",
          "data": {
            "text/plain": [
              "'2.9.0'"
            ],
            "application/vnd.google.colaboratory.intrinsic+json": {
              "type": "string"
            }
          },
          "metadata": {},
          "execution_count": 2
        }
      ],
      "source": [
        "import keras\n",
        "keras.__version__ "
      ]
    },
    {
      "cell_type": "markdown",
      "metadata": {
        "id": "noY1wNno0HmK"
      },
      "source": [
        "\n",
        "\n",
        "## 2. Define the datasets we are going to use.\n",
        "\n",
        "\n"
      ]
    },
    {
      "cell_type": "markdown",
      "metadata": {
        "id": "1tUaQ5q20HmK"
      },
      "source": [
        "The MNIST dataset is so common that Keras knows how to download the data into a set of four Numpy arrays:"
      ]
    },
    {
      "cell_type": "code",
      "execution_count": 3,
      "metadata": {
        "colab": {
          "base_uri": "https://localhost:8080/"
        },
        "id": "voWJ4eMm0HmL",
        "outputId": "e1915b9a-e9b0-4ccd-d229-e1bb7a7c0838"
      },
      "outputs": [
        {
          "output_type": "stream",
          "name": "stdout",
          "text": [
            "Downloading data from https://storage.googleapis.com/tensorflow/tf-keras-datasets/mnist.npz\n",
            "11490434/11490434 [==============================] - 0s 0us/step\n"
          ]
        }
      ],
      "source": [
        "from keras.datasets import mnist\n",
        "\n",
        "(train_images, train_labels), (test_images, test_labels) = mnist.load_data()"
      ]
    },
    {
      "cell_type": "markdown",
      "metadata": {
        "id": "AsarChQu0HmN"
      },
      "source": [
        "`train_images` and `train_labels` form the \"training set\", the data that the model will learn from. The model will then be tested on the \n",
        "\"test set\", `test_images` and `test_labels`. The Keras version of this dataset encodes the images as Numpy arrays, and the labels are simply an array of digits, ranging \n",
        "from 0 to 9. There is a one-to-one correspondence between the images and the labels.\n",
        "\n",
        "## 3. Examining the data\n",
        "\n",
        "As already mentioned, each digit in the data is represented by a 28x28 pixel image:\n",
        "\n",
        "\n",
        "![](https://raw.githubusercontent.com/zacharski/datamining-guide/master/labs/pics/mnist2.png)\n",
        "\n",
        "This is represented as a 2 dimensional array of 28 rows and 28 columns. The gray scale at each location is represented by a number. Total white is represented by 0, total black as 255, and shades of gray are represented by numbers between those two. \n",
        "\n",
        "Just for a sanity check, let's see if this format matches a sample of our training data. Let's get the first batch of our data:"
      ]
    },
    {
      "cell_type": "code",
      "execution_count": 4,
      "metadata": {
        "colab": {
          "base_uri": "https://localhost:8080/"
        },
        "id": "Z5UJNpAs0HmN",
        "outputId": "31bcadec-62d1-417b-958b-cae4a6c08409"
      },
      "outputs": [
        {
          "output_type": "execute_result",
          "data": {
            "text/plain": [
              "(60000, 28, 28)"
            ]
          },
          "metadata": {},
          "execution_count": 4
        }
      ],
      "source": [
        "train_images.shape"
      ]
    },
    {
      "cell_type": "markdown",
      "metadata": {
        "id": "_SexwMUDfdF-"
      },
      "source": [
        "That is not surprising---so 60,000 images that are a 28x28 array of pixel values"
      ]
    },
    {
      "cell_type": "code",
      "execution_count": 5,
      "metadata": {
        "colab": {
          "base_uri": "https://localhost:8080/"
        },
        "id": "iGoBVIWU0HmQ",
        "outputId": "eaf114bf-aeeb-4e94-c816-4b71c0cd5fd2"
      },
      "outputs": [
        {
          "output_type": "execute_result",
          "data": {
            "text/plain": [
              "60000"
            ]
          },
          "metadata": {},
          "execution_count": 5
        }
      ],
      "source": [
        "len(train_labels)"
      ]
    },
    {
      "cell_type": "code",
      "execution_count": 6,
      "metadata": {
        "colab": {
          "base_uri": "https://localhost:8080/"
        },
        "id": "6xrzLvCu0HmV",
        "outputId": "b6819daf-ffa4-4afc-d8b5-1bbd178720c9"
      },
      "outputs": [
        {
          "output_type": "execute_result",
          "data": {
            "text/plain": [
              "array([5, 0, 4, ..., 5, 6, 8], dtype=uint8)"
            ]
          },
          "metadata": {},
          "execution_count": 6
        }
      ],
      "source": [
        "train_labels"
      ]
    },
    {
      "cell_type": "markdown",
      "metadata": {
        "id": "sw4IhMIr0Hmm"
      },
      "source": [
        "# The data\n",
        "To get an idea of what the data looks like let's display a few images."
      ]
    },
    {
      "cell_type": "code",
      "execution_count": 7,
      "metadata": {
        "colab": {
          "base_uri": "https://localhost:8080/",
          "height": 727
        },
        "id": "K4oH15sT0Hmm",
        "outputId": "7628ac43-96dd-46dd-e56f-d49e0f79eb33"
      },
      "outputs": [
        {
          "output_type": "display_data",
          "data": {
            "text/plain": [
              "<Figure size 144x144 with 1 Axes>"
            ],
            "image/png": "[encoded data removed]"
          },
          "metadata": {
            "needs_background": "light"
          }
        },
        {
          "output_type": "display_data",
          "data": {
            "text/plain": [
              "<Figure size 144x144 with 1 Axes>"
            ],
            "image/png": "[encoded data removed]"
          },
          "metadata": {
            "needs_background": "light"
          }
        },
        {
          "output_type": "display_data",
          "data": {
            "text/plain": [
              "<Figure size 144x144 with 1 Axes>"
            ],
            "image/png": "[encoded data removed]"
          },
          "metadata": {
            "needs_background": "light"
          }
        },
        {
          "output_type": "display_data",
          "data": {
            "text/plain": [
              "<Figure size 144x144 with 1 Axes>"
            ],
            "image/png": "[encoded data removed]"
          },
          "metadata": {
            "needs_background": "light"
          }
        },
        {
          "output_type": "display_data",
          "data": {
            "text/plain": [
              "<Figure size 144x144 with 1 Axes>"
            ],
            "image/png": "[encoded data removed]"
          },
          "metadata": {
            "needs_background": "light"
          }
        }
      ],
      "source": [
        "import matplotlib.pyplot as plt\n",
        "\n",
        "def viewImage(x):\n",
        "    plt.figure(figsize=(2,2))\n",
        "    plt.imshow(x, interpolation='nearest', cmap='Greys')\n",
        "    plt.show()\n",
        "    \n",
        "viewImage(test_images[0])\n",
        "viewImage(test_images[1])\n",
        "viewImage(test_images[2])\n",
        "viewImage(test_images[3])\n",
        "viewImage(test_images[4])\n",
        "\n",
        "\n"
      ]
    },
    {
      "cell_type": "markdown",
      "metadata": {
        "id": "ereJKgeH_-5f"
      },
      "source": [
        "and let's look at the associated labels:"
      ]
    },
    {
      "cell_type": "code",
      "execution_count": 8,
      "metadata": {
        "colab": {
          "base_uri": "https://localhost:8080/"
        },
        "id": "h8HKsdisAC_x",
        "outputId": "3e802924-63ef-41b5-e6bd-d81b8a07a9c3"
      },
      "outputs": [
        {
          "output_type": "execute_result",
          "data": {
            "text/plain": [
              "array([7, 2, 1, 0, 4], dtype=uint8)"
            ]
          },
          "metadata": {},
          "execution_count": 8
        }
      ],
      "source": [
        "test_labels[:5]"
      ]
    },
    {
      "cell_type": "markdown",
      "metadata": {
        "id": "OHPEFxanojmP"
      },
      "source": [
        "![](https://raw.githubusercontent.com/zacharski/datamining-guide/master/labs/pics/torchdivide.png)\n",
        "\n",
        "# Our deep learning network design.\n",
        "\n",
        "Let us now turn our attention to the deep learning network we will implement.\n",
        "\n",
        "The input to our deep learning network will be a 28x28 image. Instead of using the two dimensional 28 x 28 representation, for simplicity we will flatten the image into a sequence of 784 pixels (28 times 28). These 784 pixel values will be our input. There are 10 possible outputs representing the digits 0 through 9. Thus, the architecture of our input values and output nodes looks like this:\n",
        "\n",
        "\n",
        "![](https://raw.githubusercontent.com/zacharski/datamining-guide/master/labs/pics/dense1a.png)\n",
        "\n",
        "Between the input and the output we will have one or more hidden layers. *Hidden layers* are simply the layers of nodes between the input and the output. \n",
        "\n",
        "![](https://raw.githubusercontent.com/zacharski/datamining-guide/master/labs/pics/hiddenpyt.png)\n",
        "\n",
        "\n",
        "For our initial network we are going to have one hidden layer of 256 nodes. The layer will be densely connected (also called *fully connected*) meaning that each input  (in this case each pixel) is connected to each node in the inner layer:\n",
        "\n",
        "![](https://raw.githubusercontent.com/zacharski/datamining-guide/master/labs/pics/connect1p.png)\n",
        "\n",
        "\n",
        "So each of the 784 pixel values is connected to each of the 256 nodes of the hidden layer.\n",
        "\n",
        "![](https://raw.githubusercontent.com/zacharski/datamining-guide/master/labs/pics/connect2p.png)\n",
        "\n",
        "Let's examine one of these nodes in the hidden layer in more detail. Each node has 784 inputs and each of these inputs has an associated weight. So *input<sub>1</sub>* has an associated *weight<sub>1</sub>*, *input<sub>2</sub>* has an associated *weight<sub>2</sub>* and *input<sub>784</sub>* has an associated *weight<sub>784</sub>*. Also, each node has an additional weight *weight<sub>0</sub>*. \n",
        "\n",
        "\n",
        "![](https://raw.githubusercontent.com/zacharski/datamining-guide/master/labs/pics/relu2.png)\n",
        "\n",
        "Each node multiplies its input by the associated weights:\n",
        "\n",
        "$$\n",
        "total = \\sum_{i=0}^{784}{x_i w_i}\n",
        "$$\n",
        "\n",
        "Since the inputs are represented by a tensor and the weights are as well, this operation can be done very efficiently on the parallel architecture of a GPU. Next, the node determines its output based on this total weighted input, using an **activation function**. One common activation function is **ReLU** (rectified linear unit) and is defined by \n",
        "\n",
        "$$\n",
        "relu(total) = \\max(0, total)\n",
        "$$\n",
        "\n",
        "So the output of a single node is\n",
        "\n",
        "$$\n",
        "output = \\max(0, \\sum_{i=0}^{784}{x_i w_i})\n",
        "$$\n",
        "\n",
        "Since each node has 785 weights and there are 256 nodes in our hidden layer, there are 200,960 weights in that layer. \n",
        "\n",
        "\n",
        "#### Output layer\n",
        "The output layer is also densely connected, mean each node in the hidden layer will be connected to each of the output nodes. \n",
        "\n",
        "![](https://raw.githubusercontent.com/zacharski/datamining-guide/master/labs/pics/connect3p.png)\n",
        "\n",
        "\n",
        "Resulting in a dense, or fully connected network.\n",
        "\n",
        "![](https://raw.githubusercontent.com/zacharski/datamining-guide/master/labs/pics/connect4p.png)\n",
        "\n",
        "\n",
        "Each node in the output layer has 256 + 1 weights (256 because each node in the output layer is connected to each of the outputs of the 256 nodes in the hidden layer). Thus, there are 2,570 trainable parameters in the output layer for a total of 203,530 trainable parameters. These weights, or trainable parameters, are what the model learns during the training phase. Typically, these parameters are initially set to random numbers.\n",
        "\n",
        "The network in these images is shown with the input on the left and the output on the right and the processing proceeds left to right. The hidden layer performs the calculations described above Each node in the hidden layer has a specific output and these outputs are then processed by the output layer. If we had more layers to our network (for example, three hidden layers), the progression on calculations would be similar. When processing proceeds in this direction it is known as **forward propagation**. *Forward* meaning that the calculations proceed from the initial inputs to the final output.  Using forward propagation, the networks takes inputs representing an image of the number 4 as an example and the network makes a prediction which may be correct (*it is a 4*) or incorrect (*it is a 9*). In what is called a **back propagation** step, the system uses the actual label and the prediction to adjust the weights throughout the network. This will be described in more detail later.\n",
        "\n",
        "As François Chollet, creator of Keras says:  \n",
        "\n",
        "> The core building block of neural networks is the \"layer\", a data-processing module which you can conceive as a \"filter\" for data. Some \n",
        "data comes in, and comes out in a more useful form. Precisely, layers extract _representations_ out of the data fed into them -- hopefully \n",
        "representations that are more meaningful for the problem at hand. Most of deep learning really consists of chaining together simple layers \n",
        "which will implement a form of progressive \"data distillation\". A deep learning model is like a sieve for data processing, made of a \n",
        "succession of increasingly refined data filters -- the \"layers\".\n",
        "\n",
        " \n",
        "\n",
        "#### The total network.\n",
        "This network image above represents the basic architecture of our system\n",
        "\n",
        "* 784 inputs (the pixels of the MNIST image)\n",
        "* 256 densely connected nodes of the hidden layer\n",
        "* 10 output nodes represented the 10 possible classifications of an image (the digits 0 through 9)\n",
        "\n",
        "### Implementing in Keras\n",
        "\n",
        "Just to introduce some code, let us look how to implement this architecture:\n",
        "\n",
        "```\n",
        "from keras import models\n",
        "from keras import layers\n",
        "\n",
        "input_size=784 \n",
        "hidden_size = 256\n",
        "output_size = 10\n",
        "\n",
        "network = models.Sequential()\n",
        "network.add(layers.Dense(hidden_size, activation='relu', input_shape=(input_size,)))\n",
        "network.add(layers.Dense(output_size, activation='softmax'))\n",
        "\n",
        "```\n",
        "\n",
        "First, we set up some variables representing, as the variable names suggest, the input size (the 28 by 28 image contains 784 pixels, the number of hidden nodes (256), and the number of classes in the output (10).\n",
        "\n",
        "Next, we define `network`. `Sequential` creates a sequential container, which means that the layers we add are organized sequentially.\n",
        "\n",
        "The `add` method adds a layer to the network.\n",
        "\n",
        "* `Layers.dense` creates a dense (fully connected) layer. \n",
        "  * The first parameter is the size of the hidden layer---in our case `hidden_size`\n",
        "  * `activation=relu,` specifies we are using the ReLU activation function.\n",
        "  * `input_shape` specifies, as the name suggests, the shape of the input. In our case the 784 pixels of the image.\n",
        "* `network.add(layers.Dense(output_size, activation='softmax'))` Next we add another densely connected layer to our network. \n",
        "  * `output_size` There will be 10 nodes in this layer. Each node represents one of the possible labels for the image--the digits 0 through 9.\n",
        "  * `activation='softmax',` specifies we are using the softmax activation function. This function will give us the probabilies of the possible labels. (For ex., 80% sure it is a '5', etc)\n",
        "\n",
        "\n",
        "If we instead wanted 64 nodes in our hidden layer our code would be\n",
        "\n",
        "\n",
        "\n",
        "```\n",
        "from keras import models\n",
        "from keras import layers\n",
        "\n",
        "input_size=784 \n",
        "hidden_size = 64\n",
        "output_size = 10\n",
        "\n",
        "network = models.Sequential()\n",
        "network.add(layers.Dense(hidden_size, activation='relu', input_shape=(input_size,)))\n",
        "network.add(layers.Dense(output_size, activation='softmax'))\n",
        "\n",
        "```\n",
        "\n",
        "And if we wanted a network with two hidden layers , the first with 256 nodes and the second with 64 nodes we might code it...\n",
        "\n",
        "```\n",
        "from keras import models\n",
        "from keras import layers\n",
        "\n",
        "input_size=784 \n",
        "hidden_size = [256, 64]\n",
        "output_size = 10\n",
        "\n",
        "network = models.Sequential()\n",
        "network.add(layers.Dense(hidden_size[0], activation='relu', input_shape=(input_size,)))\n",
        "network.add(layers.Dense(hidden_size[1], activation='relu'))\n",
        "network.add(layers.Dense(output_size, activation='softmax'))\n",
        "\n",
        "```\n",
        "\n",
        "\n",
        "\n"
      ]
    },
    {
      "cell_type": "markdown",
      "metadata": {
        "id": "P_XKnAu30Hmp"
      },
      "source": [
        "\n",
        "### Workflow\n",
        "\n",
        "\n",
        "Our workflow will be as follow: \n",
        "\n",
        "1. we will create a neural network containing a fully connected hidden layer.\n",
        "2. we will present our neural network with the training data, `train_images` and `train_labels`. The \n",
        "network will then learn to associate images and labels by adjusting the 2,570 weights.\n",
        "3. we will ask the network to produce predictions for `test_images`\n",
        "4. we will verify if these predictions match the labels from `test_labels`.\n",
        "\n",
        "#### Let's build our network."
      ]
    },
    {
      "cell_type": "code",
      "execution_count": 9,
      "metadata": {
        "id": "6I0sj6hW0Hmp"
      },
      "outputs": [],
      "source": [
        "from keras import models\n",
        "from keras import layers\n",
        "\n",
        "input_size=784 \n",
        "hidden_size = 256\n",
        "output_size = 10\n",
        "\n",
        "network = models.Sequential()\n",
        "network.add(layers.Dense(hidden_size, activation='relu', input_shape=(input_size,)))\n",
        "network.add(layers.Dense(output_size, activation='softmax'))"
      ]
    },
    {
      "cell_type": "markdown",
      "metadata": {
        "id": "ouiEONIe0Hms"
      },
      "source": [
        "\n",
        "The core building block of neural networks is the \"layer\", a data-processing module which you can conceive as a \"filter\" for data. Some \n",
        "data comes in, and comes out in a more useful form. Precisely, layers extract _representations_ out of the data fed into them -- hopefully \n",
        "representations that are more meaningful for the problem at hand. Most of deep learning really consists of chaining together simple layers \n",
        "which will implement a form of progressive \"data distillation\". A deep learning model is like a sieve for data processing, made of a \n",
        "succession of increasingly refined data filters -- the \"layers\".\n",
        "\n",
        "Here our network consists of a sequence of two `Dense` layers, which are densely-connected (also called \"fully-connected\") neural layers. \n",
        "The second (and last) layer is a 10-way \"softmax\" layer, which means it will return an array of 10 probability scores (summing to 1). Each \n",
        "score will be the probability that the current digit image belongs to one of our 10 digit classes.\n",
        "\n",
        "\n",
        "#### Compiling the model.\n",
        "To make our network ready for training, we need to pick three more things, as part of a compilation step:\n",
        "\n",
        "* An **optimizer**: this is the mechanism through which the network will update itself based on the data it sees and its loss function.\n",
        "* A **loss function**: this is how the network will be able to measure how good a job it is doing on its training data, and thus how it will be \n",
        "able to steer itself in the right direction.\n",
        "* **Metrics** to monitor during training and testing. Here we will only care about accuracy (the fraction of the images that were correctly \n",
        "classified).\n",
        "\n",
        "Keras makes this compilation step easy:"
      ]
    },
    {
      "cell_type": "code",
      "execution_count": 10,
      "metadata": {
        "id": "tXUIZUwN0Hmt"
      },
      "outputs": [],
      "source": [
        "network.compile(optimizer='rmsprop',\n",
        "                loss='categorical_crossentropy',\n",
        "                metrics=['accuracy'])"
      ]
    },
    {
      "cell_type": "markdown",
      "metadata": {
        "id": "mcclDPL10Hmu"
      },
      "source": [
        "\n",
        "Why did we select categorical crossentropy as the loss function? From the Tensorflow documentation:\n",
        "\n",
        "> Use this crossentropy loss function when there are two or more label classes. We expect labels to be provided in a one_hot representation. If you want to provide labels as integers, please use SparseCategoricalCrossentropy loss. There should be # classes floating point values per feature.\n",
        "\n",
        "Note that the documentation says that we need to one_hot encode the labels. You probably already know this but that means if we are labeling pictures of dogs, cats, squirrel and moose and our test_labels look like\n",
        "\n",
        "picture | label\n",
        ":---:   | :---\n",
        "1.  | dog\n",
        "2. | dog\n",
        "3. | cat\n",
        "4. | squirel\n",
        "5. | cat\n",
        "6. | moose\n",
        "\n",
        "We will one_hot encode this resulting in \n",
        "\n",
        "\n",
        "picture | dog | cat | squirrel | moose\n",
        ":---: | :----: |:--: | :---: | :---:\n",
        " 1.     | 1 | 0 | 0 | 0\n",
        " 2. | 1 | 0| 0 | 0\n",
        " 3. | 0 | 1 | 0 | 0\n",
        " 4. | 0 | 0 | 1 | 0\n",
        " 5. | 0 | 1 |0 | 0\n",
        " 6. | 0|0|0|1\n",
        "\n",
        "And again, the `metrics=['accuracy']` line means that we are calculating the percentage of predicted values that match with actual values.\n",
        "\n",
        "\n",
        "### Preprocessing the data\n",
        "Before training, we will preprocess our data by reshaping it into the shape that the network expects, and scaling it so that all values are in \n",
        "the `[0, 1]` interval. Previously, our training images for instance were stored in an array of shape `(60000, 28, 28)` of type `uint8` with \n",
        "values in the `[0, 255]` interval. We transform it into a `float32` array of shape `(60000, 28 * 28)` with values between 0 and 1.\n",
        "\n",
        "In other words, each image in our original data was a 28x28 array of integers ranging from 0 to 255. We are going to transform the integers 0-255 to a float between 0 and 1. In addition we are going to flatten each image array to look like\n",
        "\n",
        "```\n",
        "[0, 1, 2, 3, 4, 5 ... 784 ]\n",
        "```\n"
      ]
    },
    {
      "cell_type": "code",
      "execution_count": 11,
      "metadata": {
        "colab": {
          "base_uri": "https://localhost:8080/"
        },
        "id": "h-tevXPN0Hmv",
        "outputId": "0c4eddd6-7520-4338-ce03-41630baf2868"
      },
      "outputs": [
        {
          "output_type": "execute_result",
          "data": {
            "text/plain": [
              "array([[0., 0., 0., ..., 0., 0., 0.],\n",
              "       [0., 0., 0., ..., 0., 0., 0.],\n",
              "       [0., 0., 0., ..., 0., 0., 0.],\n",
              "       [0., 0., 0., ..., 0., 0., 0.],\n",
              "       [0., 0., 0., ..., 0., 0., 0.]], dtype=float32)"
            ]
          },
          "metadata": {},
          "execution_count": 11
        }
      ],
      "source": [
        "train_images = train_images.reshape((60000, 28 * 28))\n",
        "train_images = train_images.astype('float32') / 255\n",
        "\n",
        "test_images = test_images.reshape((10000, 28 * 28))\n",
        "test_images = test_images.astype('float32') / 255\n",
        "test_images[:5]"
      ]
    },
    {
      "cell_type": "markdown",
      "metadata": {
        "id": "efw6Tx4x0Hmy"
      },
      "source": [
        "#### Here's a question:\n",
        "Why are we dividing each pixel by 255? What did the original number represent?\n",
        "\n",
        "#### Encode the labels\n",
        "We also need to categorically encode the labels:"
      ]
    },
    {
      "cell_type": "code",
      "execution_count": 12,
      "metadata": {
        "id": "QBoQhwiX0Hmz"
      },
      "outputs": [],
      "source": [
        "from keras.utils import to_categorical\n",
        "\n",
        "train_labels = to_categorical(train_labels)\n",
        "test_labels = to_categorical(test_labels)"
      ]
    },
    {
      "cell_type": "markdown",
      "metadata": {
        "id": "eNSszmzz0Hm1"
      },
      "source": [
        "![](https://raw.githubusercontent.com/zacharski/datamining-guide/master/labs/pics/PyDivideTwo.png)\n",
        "\n",
        "## <font color='#EE4C2C'>1. What does the first test label look like? (print it out)</font> "
      ]
    },
    {
      "cell_type": "code",
      "execution_count": 13,
      "metadata": {
        "id": "6de8eFdF0Hm1",
        "colab": {
          "base_uri": "https://localhost:8080/"
        },
        "outputId": "b5539cc1-4eae-483f-a26f-9b4aec73a60f"
      },
      "outputs": [
        {
          "output_type": "execute_result",
          "data": {
            "text/plain": [
              "array([[0., 0., 0., ..., 1., 0., 0.],\n",
              "       [0., 0., 1., ..., 0., 0., 0.],\n",
              "       [0., 1., 0., ..., 0., 0., 0.],\n",
              "       ...,\n",
              "       [0., 0., 0., ..., 0., 0., 0.],\n",
              "       [0., 0., 0., ..., 0., 0., 0.],\n",
              "       [0., 0., 0., ..., 0., 0., 0.]], dtype=float32)"
            ]
          },
          "metadata": {},
          "execution_count": 13
        }
      ],
      "source": [
        "test_labels"
      ]
    },
    {
      "cell_type": "markdown",
      "metadata": {
        "id": "_3wWDY0g0Hm3"
      },
      "source": [
        "### Training our first deep learning model\n",
        "\n",
        "We are now ready to train our network, which, unsurprisingly, in Keras is done via a call to the `fit` method of the network: \n",
        "we \"fit\" the model to its training data."
      ]
    },
    {
      "cell_type": "code",
      "execution_count": 14,
      "metadata": {
        "colab": {
          "base_uri": "https://localhost:8080/"
        },
        "id": "3JQ7pH630Hm4",
        "outputId": "004b0dd7-e248-4a1e-fb89-ca819d7e2bf2"
      },
      "outputs": [
        {
          "output_type": "stream",
          "name": "stdout",
          "text": [
            "Epoch 1/5\n",
            "469/469 [==============================] - 6s 5ms/step - loss: 0.2914 - accuracy: 0.9166\n",
            "Epoch 2/5\n",
            "469/469 [==============================] - 3s 5ms/step - loss: 0.1284 - accuracy: 0.9626\n",
            "Epoch 3/5\n",
            "469/469 [==============================] - 2s 4ms/step - loss: 0.0883 - accuracy: 0.9735\n",
            "Epoch 4/5\n",
            "469/469 [==============================] - 1s 3ms/step - loss: 0.0671 - accuracy: 0.9805\n",
            "Epoch 5/5\n",
            "469/469 [==============================] - 1s 3ms/step - loss: 0.0529 - accuracy: 0.9841\n"
          ]
        },
        {
          "output_type": "execute_result",
          "data": {
            "text/plain": [
              "<keras.callbacks.History at 0x7f14ddc84e50>"
            ]
          },
          "metadata": {},
          "execution_count": 14
        }
      ],
      "source": [
        "network.fit(train_images, train_labels, epochs=5, batch_size=128)"
      ]
    },
    {
      "cell_type": "markdown",
      "metadata": {
        "id": "37PUt_b-0Hm7"
      },
      "source": [
        "Two quantities are being displayed during training: the \"loss\" of the network over the training data, and the accuracy of the network over \n",
        "the training data.\n",
        "\n",
        "We quickly reach an accuracy of 0.989 (i.e. 98.9%) on the training data. Now let's check that our model performs well on the test set too:"
      ]
    },
    {
      "cell_type": "code",
      "execution_count": 15,
      "metadata": {
        "colab": {
          "base_uri": "https://localhost:8080/"
        },
        "id": "Ig8FrFXQ0Hm8",
        "outputId": "264d0fd6-5a1d-4359-c83d-b807582adf17"
      },
      "outputs": [
        {
          "output_type": "stream",
          "name": "stdout",
          "text": [
            "313/313 [==============================] - 1s 2ms/step - loss: 0.0765 - accuracy: 0.9771\n"
          ]
        }
      ],
      "source": [
        "test_loss, test_acc = network.evaluate(test_images, test_labels)"
      ]
    },
    {
      "cell_type": "code",
      "execution_count": 16,
      "metadata": {
        "colab": {
          "base_uri": "https://localhost:8080/"
        },
        "id": "u6QizHgB0Hm-",
        "outputId": "0c703029-124c-48a1-db10-4ee1d6306795"
      },
      "outputs": [
        {
          "output_type": "stream",
          "name": "stdout",
          "text": [
            "test_acc: 0.9771000146865845\n"
          ]
        }
      ],
      "source": [
        "print('test_acc:', test_acc)"
      ]
    },
    {
      "cell_type": "markdown",
      "metadata": {
        "id": "mEzOBPol0HnA"
      },
      "source": [
        "\n",
        "Our test set accuracy turns out to be 97.8% -- that's quite a bit lower than the training set accuracy. \n",
        "This gap between training accuracy and test accuracy is an example of \"overfitting\", \n",
        "the fact that machine learning models tend to perform worse on new data than on their training data. \n",
        "\n",
        "![](https://raw.githubusercontent.com/zacharski/datamining-guide/master/labs/pics/PyDivideTwo.png)\n",
        "\n",
        "## <font color='#EE4C2C'>2. Accuracy with 7 epochs</font> \n",
        "What is the accuracy on our test data if we use 7 epochs?  You will need to build, compile, and fit a new model.\n",
        "\n",
        "### Build"
      ]
    },
    {
      "cell_type": "code",
      "execution_count": 17,
      "metadata": {
        "id": "i2awmR340HnA"
      },
      "outputs": [],
      "source": [
        "from keras import models\n",
        "from keras import layers\n",
        "\n",
        "input_size = 784 \n",
        "hidden_size = 256\n",
        "output_size = 10\n",
        "\n",
        "new_network = models.Sequential()\n",
        "new_network.add(layers.Dense(hidden_size, activation='relu', input_shape=(input_size,)))\n",
        "new_network.add(layers.Dense(output_size, activation='softmax'))"
      ]
    },
    {
      "cell_type": "markdown",
      "metadata": {
        "id": "8YdSlKfSwkFP"
      },
      "source": [
        "### Compile"
      ]
    },
    {
      "cell_type": "code",
      "execution_count": 18,
      "metadata": {
        "id": "egIaBbbSwmLd"
      },
      "outputs": [],
      "source": [
        "new_network.compile(optimizer='rmsprop',\n",
        "                loss='categorical_crossentropy',\n",
        "                metrics=['accuracy'])"
      ]
    },
    {
      "cell_type": "markdown",
      "metadata": {
        "id": "P-ADsdlAwmnM"
      },
      "source": [
        "### Fit"
      ]
    },
    {
      "cell_type": "code",
      "execution_count": 19,
      "metadata": {
        "id": "cWytfea1wreu",
        "colab": {
          "base_uri": "https://localhost:8080/"
        },
        "outputId": "61b72952-4d73-45b6-f4c7-cce26d4e8c67"
      },
      "outputs": [
        {
          "output_type": "stream",
          "name": "stdout",
          "text": [
            "Epoch 1/7\n",
            "469/469 [==============================] - 2s 3ms/step - loss: 0.2945 - accuracy: 0.9177\n",
            "Epoch 2/7\n",
            "469/469 [==============================] - 1s 3ms/step - loss: 0.1281 - accuracy: 0.9628\n",
            "Epoch 3/7\n",
            "469/469 [==============================] - 1s 3ms/step - loss: 0.0875 - accuracy: 0.9739\n",
            "Epoch 4/7\n",
            "469/469 [==============================] - 1s 3ms/step - loss: 0.0660 - accuracy: 0.9805\n",
            "Epoch 5/7\n",
            "469/469 [==============================] - 1s 3ms/step - loss: 0.0523 - accuracy: 0.9842\n",
            "Epoch 6/7\n",
            "469/469 [==============================] - 2s 3ms/step - loss: 0.0413 - accuracy: 0.9880\n",
            "Epoch 7/7\n",
            "469/469 [==============================] - 1s 3ms/step - loss: 0.0341 - accuracy: 0.9900\n"
          ]
        },
        {
          "output_type": "execute_result",
          "data": {
            "text/plain": [
              "<keras.callbacks.History at 0x7f14d06b7a50>"
            ]
          },
          "metadata": {},
          "execution_count": 19
        }
      ],
      "source": [
        "new_network.fit(train_images, train_labels, epochs=7, batch_size=128)"
      ]
    },
    {
      "cell_type": "markdown",
      "metadata": {
        "id": "KM7ibNFWwtoi"
      },
      "source": [
        "### Accuracy"
      ]
    },
    {
      "cell_type": "code",
      "execution_count": 20,
      "metadata": {
        "id": "_TZucb2gwxK-",
        "colab": {
          "base_uri": "https://localhost:8080/"
        },
        "outputId": "aefefc10-1fb2-49f4-be71-02892392c62d"
      },
      "outputs": [
        {
          "output_type": "stream",
          "name": "stdout",
          "text": [
            "313/313 [==============================] - 1s 2ms/step - loss: 0.0725 - accuracy: 0.9777\n",
            "new_test_acc: 0.9776999950408936\n"
          ]
        }
      ],
      "source": [
        "new_test_loss, new_test_acc = new_network.evaluate(test_images, test_labels)\n",
        "print('new_test_acc:', new_test_acc)"
      ]
    },
    {
      "cell_type": "markdown",
      "metadata": {
        "id": "HjZOO2O10HnD"
      },
      "source": [
        "![](https://raw.githubusercontent.com/zacharski/datamining-guide/master/labs/pics/PyDivideTwo.png)\n",
        "\n",
        "## <font color='#EE4C2C'>3. Accuracy without training</font> \n",
        "What is the accuracy on our test data using our network before we do any training (before `fit`)? You will need to build, and compile a new model."
      ]
    },
    {
      "cell_type": "code",
      "execution_count": 21,
      "metadata": {
        "id": "lKR6VDnd0HnD"
      },
      "outputs": [],
      "source": [
        "no_fit_network = models.Sequential()\n",
        "no_fit_network.add(layers.Dense(hidden_size, activation='relu', input_shape=(input_size,)))\n",
        "no_fit_network.add(layers.Dense(output_size, activation='softmax'))\n",
        "\n",
        "no_fit_network.compile(optimizer='rmsprop',\n",
        "                loss='categorical_crossentropy',\n",
        "                metrics=['accuracy'])"
      ]
    },
    {
      "cell_type": "code",
      "execution_count": 22,
      "metadata": {
        "id": "jdP1DMxjxB1H",
        "colab": {
          "base_uri": "https://localhost:8080/"
        },
        "outputId": "f500a009-965c-4d58-866e-cf1474140bef"
      },
      "outputs": [
        {
          "output_type": "stream",
          "name": "stdout",
          "text": [
            "313/313 [==============================] - 1s 2ms/step - loss: 2.3821 - accuracy: 0.1290\n",
            "no_fit_test_acc: 0.1289999932050705\n"
          ]
        }
      ],
      "source": [
        "no_fit_test_loss, no_fit_test_acc = no_fit_network.evaluate(test_images, test_labels)\n",
        "print('no_fit_test_acc:', no_fit_test_acc)"
      ]
    },
    {
      "cell_type": "markdown",
      "metadata": {
        "id": "E4qA1lPZ0HnG"
      },
      "source": [
        "### Training\n",
        "As you can see from your above experiment, before we fit the model the accuracy was not very good. Before training, the weight are set at random (not exactly, but let's keep it simple for now). \n",
        "\n",
        "\n",
        "\n",
        "\n",
        "![](http://zacharski.org/files/courses/cs419/deepLearning.png)\n",
        "\n",
        "When we were fitting the model:\n",
        "\n",
        "     network.fit(train_images, train_labels, epochs=5, batch_size=128)\n",
        "    \n",
        "we processed 128 images at a time (this is called batch_size). Everytime we processed the images in that batch we calculated the loss and adjusted the weights to improve the network's  performance. Each time we go through the entire dataset we call it an epoch. So in our initial training, we went through the dataset 5 times.  Once we have gone through the data 5 times we stop and now we have a trained neural network. 'Trained' simply means that we have a network with the weight adjusted to reduce loss.\n",
        "\n",
        "#### Epochs \n",
        "Again, epochs are how many times we go through the training data. You may wonder, are more epochs always better. Stop for a moment and ponder this. \n",
        "\n",
        "* .\n",
        "* .\n",
        "* .\n",
        "* .\n",
        "If you need a clue let me mention bias and variance. \n",
        "\n",
        "In the next notebook we will be displaying both the accuracy on the training data and the accuracy on the validation error.  If at some point you see the training data accuracy still going gradually down, but the validation error going up. You may be overfitting your data.\n",
        "\n",
        "\n",
        "![](https://raw.githubusercontent.com/zacharski/datamining-guide/master/labs/pics/PyDivideTwo.png)\n",
        "\n",
        "## <font color='#EE4C2C'>4. Fashion</font> \n",
        "\n",
        "As a small first step try out the FashionMNIST dataset.\n",
        "\n",
        "\n",
        "![](https://raw.githubusercontent.com/zacharski/datamining-guide/master/labs/pics/clothing.gif)\n",
        "\n",
        "\n",
        "The dataset consists of small 28x28 grayscale image icons of different articles of clothing. There are 60,000 images in the training set and 10,000 in the test set. Each image has an associated label from a list of 10:\n",
        "\n",
        "\n",
        "| Label | Description |\n",
        "| --- | --- |\n",
        "| 0 | T-shirt/top |\n",
        "| 1 | Trouser |\n",
        "| 2 | Pullover |\n",
        "| 3 | Dress |\n",
        "| 4 | Coat |\n",
        "| 5 | Sandal |\n",
        "| 6 | Shirt |\n",
        "| 7 | Sneaker |\n",
        "| 8 | Bag |\n",
        "| 9 | Ankle boot |\n",
        "\n",
        "\n",
        "\n",
        "#### The files\n",
        "\n",
        "* Training set: [clothes_train.csv](http://zacharski.org/files/courses/cs419/clothes_train.csv)\n",
        "* Test set: [clothing_test.csv](http://zacharski.org/files/courses/cs419/cTest.csv) Note: Don't use the test set for training.\n",
        "\n",
        "Can you create a network with one hidden layer similar to the example above and train it?\n"
      ]
    },
    {
      "cell_type": "code",
      "source": [
        "import pandas as pd\n",
        "from keras import models\n",
        "from keras import layers\n",
        "from keras.utils import to_categorical"
      ],
      "metadata": {
        "id": "SmvOxSfw27T5"
      },
      "execution_count": 23,
      "outputs": []
    },
    {
      "cell_type": "code",
      "source": [
        "clothes_train = pd.read_csv('http://zacharski.org/files/courses/cs419/clothes_train.csv')\n",
        "clothes_train[:3]"
      ],
      "metadata": {
        "colab": {
          "base_uri": "https://localhost:8080/",
          "height": 237
        },
        "id": "sabpt_5835ho",
        "outputId": "7c7fd586-c5d5-4649-f5f5-a619a508f970"
      },
      "execution_count": 24,
      "outputs": [
        {
          "output_type": "execute_result",
          "data": {
            "text/plain": [
              "   label  pixel1  pixel2  pixel3  pixel4  pixel5  pixel6  pixel7  pixel8  \\\n",
              "0      2       0       0       0       0       0       0       0       0   \n",
              "1      9       0       0       0       0       0       0       0       0   \n",
              "2      6       0       0       0       0       0       0       0       5   \n",
              "\n",
              "   pixel9  ...  pixel775  pixel776  pixel777  pixel778  pixel779  pixel780  \\\n",
              "0       0  ...         0         0         0         0         0         0   \n",
              "1       0  ...         0         0         0         0         0         0   \n",
              "2       0  ...         0         0         0        30        43         0   \n",
              "\n",
              "   pixel781  pixel782  pixel783  pixel784  \n",
              "0         0         0         0         0  \n",
              "1         0         0         0         0  \n",
              "2         0         0         0         0  \n",
              "\n",
              "[3 rows x 785 columns]"
            ],
            "text/html": [
              "\n",
              "  <div id=\"df-c50a6f18-5404-4a66-aacc-42d89e3a88da\">\n",
              "    <div class=\"colab-df-container\">\n",
              "      <div>\n",
              "<style scoped>\n",
              "    .dataframe tbody tr th:only-of-type {\n",
              "        vertical-align: middle;\n",
              "    }\n",
              "\n",
              "    .dataframe tbody tr th {\n",
              "        vertical-align: top;\n",
              "    }\n",
              "\n",
              "    .dataframe thead th {\n",
              "        text-align: right;\n",
              "    }\n",
              "</style>\n",
              "<table border=\"1\" class=\"dataframe\">\n",
              "  <thead>\n",
              "    <tr style=\"text-align: right;\">\n",
              "      <th></th>\n",
              "      <th>label</th>\n",
              "      <th>pixel1</th>\n",
              "      <th>pixel2</th>\n",
              "      <th>pixel3</th>\n",
              "      <th>pixel4</th>\n",
              "      <th>pixel5</th>\n",
              "      <th>pixel6</th>\n",
              "      <th>pixel7</th>\n",
              "      <th>pixel8</th>\n",
              "      <th>pixel9</th>\n",
              "      <th>...</th>\n",
              "      <th>pixel775</th>\n",
              "      <th>pixel776</th>\n",
              "      <th>pixel777</th>\n",
              "      <th>pixel778</th>\n",
              "      <th>pixel779</th>\n",
              "      <th>pixel780</th>\n",
              "      <th>pixel781</th>\n",
              "      <th>pixel782</th>\n",
              "      <th>pixel783</th>\n",
              "      <th>pixel784</th>\n",
              "    </tr>\n",
              "  </thead>\n",
              "  <tbody>\n",
              "    <tr>\n",
              "      <th>0</th>\n",
              "      <td>2</td>\n",
              "      <td>0</td>\n",
              "      <td>0</td>\n",
              "      <td>0</td>\n",
              "      <td>0</td>\n",
              "      <td>0</td>\n",
              "      <td>0</td>\n",
              "      <td>0</td>\n",
              "      <td>0</td>\n",
              "      <td>0</td>\n",
              "      <td>...</td>\n",
              "      <td>0</td>\n",
              "      <td>0</td>\n",
              "      <td>0</td>\n",
              "      <td>0</td>\n",
              "      <td>0</td>\n",
              "      <td>0</td>\n",
              "      <td>0</td>\n",
              "      <td>0</td>\n",
              "      <td>0</td>\n",
              "      <td>0</td>\n",
              "    </tr>\n",
              "    <tr>\n",
              "      <th>1</th>\n",
              "      <td>9</td>\n",
              "      <td>0</td>\n",
              "      <td>0</td>\n",
              "      <td>0</td>\n",
              "      <td>0</td>\n",
              "      <td>0</td>\n",
              "      <td>0</td>\n",
              "      <td>0</td>\n",
              "      <td>0</td>\n",
              "      <td>0</td>\n",
              "      <td>...</td>\n",
              "      <td>0</td>\n",
              "      <td>0</td>\n",
              "      <td>0</td>\n",
              "      <td>0</td>\n",
              "      <td>0</td>\n",
              "      <td>0</td>\n",
              "      <td>0</td>\n",
              "      <td>0</td>\n",
              "      <td>0</td>\n",
              "      <td>0</td>\n",
              "    </tr>\n",
              "    <tr>\n",
              "      <th>2</th>\n",
              "      <td>6</td>\n",
              "      <td>0</td>\n",
              "      <td>0</td>\n",
              "      <td>0</td>\n",
              "      <td>0</td>\n",
              "      <td>0</td>\n",
              "      <td>0</td>\n",
              "      <td>0</td>\n",
              "      <td>5</td>\n",
              "      <td>0</td>\n",
              "      <td>...</td>\n",
              "      <td>0</td>\n",
              "      <td>0</td>\n",
              "      <td>0</td>\n",
              "      <td>30</td>\n",
              "      <td>43</td>\n",
              "      <td>0</td>\n",
              "      <td>0</td>\n",
              "      <td>0</td>\n",
              "      <td>0</td>\n",
              "      <td>0</td>\n",
              "    </tr>\n",
              "  </tbody>\n",
              "</table>\n",
              "<p>3 rows × 785 columns</p>\n",
              "</div>\n",
              "      <button class=\"colab-df-convert\" onclick=\"convertToInteractive('df-c50a6f18-5404-4a66-aacc-42d89e3a88da')\"\n",
              "              title=\"Convert this dataframe to an interactive table.\"\n",
              "              style=\"display:none;\">\n",
              "        \n",
              "  <svg xmlns=\"http://www.w3.org/2000/svg\" height=\"24px\"viewBox=\"0 0 24 24\"\n",
              "       width=\"24px\">\n",
              "    <path d=\"M0 0h24v24H0V0z\" fill=\"none\"/>\n",
              "    <path d=\"M18.56 5.44l.94 2.06.94-2.06 2.06-.94-2.06-.94-.94-2.06-.94 2.06-2.06.94zm-11 1L8.5 8.5l.94-2.06 2.06-.94-2.06-.94L8.5 2.5l-.94 2.06-2.06.94zm10 10l.94 2.06.94-2.06 2.06-.94-2.06-.94-.94-2.06-.94 2.06-2.06.94z\"/><path d=\"M17.41 7.96l-1.37-1.37c-.4-.4-.92-.59-1.43-.59-.52 0-1.04.2-1.43.59L10.3 9.45l-7.72 7.72c-.78.78-.78 2.05 0 2.83L4 21.41c.39.39.9.59 1.41.59.51 0 1.02-.2 1.41-.59l7.78-7.78 2.81-2.81c.8-.78.8-2.07 0-2.86zM5.41 20L4 18.59l7.72-7.72 1.47 1.35L5.41 20z\"/>\n",
              "  </svg>\n",
              "      </button>\n",
              "      \n",
              "  <style>\n",
              "    .colab-df-container {\n",
              "      display:flex;\n",
              "      flex-wrap:wrap;\n",
              "      gap: 12px;\n",
              "    }\n",
              "\n",
              "    .colab-df-convert {\n",
              "      background-color: #E8F0FE;\n",
              "      border: none;\n",
              "      border-radius: 50%;\n",
              "      cursor: pointer;\n",
              "      display: none;\n",
              "      fill: #1967D2;\n",
              "      height: 32px;\n",
              "      padding: 0 0 0 0;\n",
              "      width: 32px;\n",
              "    }\n",
              "\n",
              "    .colab-df-convert:hover {\n",
              "      background-color: #E2EBFA;\n",
              "      box-shadow: 0px 1px 2px rgba(60, 64, 67, 0.3), 0px 1px 3px 1px rgba(60, 64, 67, 0.15);\n",
              "      fill: #174EA6;\n",
              "    }\n",
              "\n",
              "    [theme=dark] .colab-df-convert {\n",
              "      background-color: #3B4455;\n",
              "      fill: #D2E3FC;\n",
              "    }\n",
              "\n",
              "    [theme=dark] .colab-df-convert:hover {\n",
              "      background-color: #434B5C;\n",
              "      box-shadow: 0px 1px 3px 1px rgba(0, 0, 0, 0.15);\n",
              "      filter: drop-shadow(0px 1px 2px rgba(0, 0, 0, 0.3));\n",
              "      fill: #FFFFFF;\n",
              "    }\n",
              "  </style>\n",
              "\n",
              "      <script>\n",
              "        const buttonEl =\n",
              "          document.querySelector('#df-c50a6f18-5404-4a66-aacc-42d89e3a88da button.colab-df-convert');\n",
              "        buttonEl.style.display =\n",
              "          google.colab.kernel.accessAllowed ? 'block' : 'none';\n",
              "\n",
              "        async function convertToInteractive(key) {\n",
              "          const element = document.querySelector('#df-c50a6f18-5404-4a66-aacc-42d89e3a88da');\n",
              "          const dataTable =\n",
              "            await google.colab.kernel.invokeFunction('convertToInteractive',\n",
              "                                                     [key], {});\n",
              "          if (!dataTable) return;\n",
              "\n",
              "          const docLinkHtml = 'Like what you see? Visit the ' +\n",
              "            '<a target=\"_blank\" href=https://colab.research.google.com/notebooks/data_table.ipynb>data table notebook</a>'\n",
              "            + ' to learn more about interactive tables.';\n",
              "          element.innerHTML = '';\n",
              "          dataTable['output_type'] = 'display_data';\n",
              "          await google.colab.output.renderOutput(dataTable, element);\n",
              "          const docLink = document.createElement('div');\n",
              "          docLink.innerHTML = docLinkHtml;\n",
              "          element.appendChild(docLink);\n",
              "        }\n",
              "      </script>\n",
              "    </div>\n",
              "  </div>\n",
              "  "
            ]
          },
          "metadata": {},
          "execution_count": 24
        }
      ]
    },
    {
      "cell_type": "code",
      "source": [
        "clothes_train_features = clothes_train.drop('label', axis=1)\n",
        "\n",
        "clothes_train_features = clothes_train_features.to_numpy().reshape(60000, 28 * 28)\n",
        "clothes_train_features = clothes_train_features.astype('float32') / 255\n",
        "\n",
        "clothes_train_features.shape"
      ],
      "metadata": {
        "colab": {
          "base_uri": "https://localhost:8080/"
        },
        "id": "ckpSttPg4bou",
        "outputId": "fb5e2b26-96cb-478f-c04f-2fc7ec84a65d"
      },
      "execution_count": 25,
      "outputs": [
        {
          "output_type": "execute_result",
          "data": {
            "text/plain": [
              "(60000, 784)"
            ]
          },
          "metadata": {},
          "execution_count": 25
        }
      ]
    },
    {
      "cell_type": "code",
      "source": [
        "clothes_train_labels = clothes_train['label']\n",
        "clothes_train_labels = to_categorical(clothes_train_labels)\n",
        "clothes_train_labels[:3]"
      ],
      "metadata": {
        "colab": {
          "base_uri": "https://localhost:8080/"
        },
        "id": "DWzO4iH07PCW",
        "outputId": "a6748522-d7f2-4f1f-ff90-7b39dfd9e736"
      },
      "execution_count": 26,
      "outputs": [
        {
          "output_type": "execute_result",
          "data": {
            "text/plain": [
              "array([[0., 0., 1., 0., 0., 0., 0., 0., 0., 0.],\n",
              "       [0., 0., 0., 0., 0., 0., 0., 0., 0., 1.],\n",
              "       [0., 0., 0., 0., 0., 0., 1., 0., 0., 0.]], dtype=float32)"
            ]
          },
          "metadata": {},
          "execution_count": 26
        }
      ]
    },
    {
      "cell_type": "code",
      "source": [
        "clothes_test = pd.read_csv('http://zacharski.org/files/courses/cs419/cTest.csv')\n",
        "clothes_test[:3]"
      ],
      "metadata": {
        "colab": {
          "base_uri": "https://localhost:8080/",
          "height": 237
        },
        "id": "sUs4CY1P4IAz",
        "outputId": "660a2eaf-911b-4db9-8bbb-193d7be64dfb"
      },
      "execution_count": 27,
      "outputs": [
        {
          "output_type": "execute_result",
          "data": {
            "text/plain": [
              "   label  pixel1  pixel2  pixel3  pixel4  pixel5  pixel6  pixel7  pixel8  \\\n",
              "0      0       0       0       0       0       0       0       0       9   \n",
              "1      1       0       0       0       0       0       0       0       0   \n",
              "2      2       0       0       0       0       0       0      14      53   \n",
              "\n",
              "   pixel9  ...  pixel775  pixel776  pixel777  pixel778  pixel779  pixel780  \\\n",
              "0       8  ...       103        87        56         0         0         0   \n",
              "1       0  ...        34         0         0         0         0         0   \n",
              "2      99  ...         0         0         0         0        63        53   \n",
              "\n",
              "   pixel781  pixel782  pixel783  pixel784  \n",
              "0         0         0         0         0  \n",
              "1         0         0         0         0  \n",
              "2        31         0         0         0  \n",
              "\n",
              "[3 rows x 785 columns]"
            ],
            "text/html": [
              "\n",
              "  <div id=\"df-d2255966-45b6-4dd1-8c0c-8713d22f1f8b\">\n",
              "    <div class=\"colab-df-container\">\n",
              "      <div>\n",
              "<style scoped>\n",
              "    .dataframe tbody tr th:only-of-type {\n",
              "        vertical-align: middle;\n",
              "    }\n",
              "\n",
              "    .dataframe tbody tr th {\n",
              "        vertical-align: top;\n",
              "    }\n",
              "\n",
              "    .dataframe thead th {\n",
              "        text-align: right;\n",
              "    }\n",
              "</style>\n",
              "<table border=\"1\" class=\"dataframe\">\n",
              "  <thead>\n",
              "    <tr style=\"text-align: right;\">\n",
              "      <th></th>\n",
              "      <th>label</th>\n",
              "      <th>pixel1</th>\n",
              "      <th>pixel2</th>\n",
              "      <th>pixel3</th>\n",
              "      <th>pixel4</th>\n",
              "      <th>pixel5</th>\n",
              "      <th>pixel6</th>\n",
              "      <th>pixel7</th>\n",
              "      <th>pixel8</th>\n",
              "      <th>pixel9</th>\n",
              "      <th>...</th>\n",
              "      <th>pixel775</th>\n",
              "      <th>pixel776</th>\n",
              "      <th>pixel777</th>\n",
              "      <th>pixel778</th>\n",
              "      <th>pixel779</th>\n",
              "      <th>pixel780</th>\n",
              "      <th>pixel781</th>\n",
              "      <th>pixel782</th>\n",
              "      <th>pixel783</th>\n",
              "      <th>pixel784</th>\n",
              "    </tr>\n",
              "  </thead>\n",
              "  <tbody>\n",
              "    <tr>\n",
              "      <th>0</th>\n",
              "      <td>0</td>\n",
              "      <td>0</td>\n",
              "      <td>0</td>\n",
              "      <td>0</td>\n",
              "      <td>0</td>\n",
              "      <td>0</td>\n",
              "      <td>0</td>\n",
              "      <td>0</td>\n",
              "      <td>9</td>\n",
              "      <td>8</td>\n",
              "      <td>...</td>\n",
              "      <td>103</td>\n",
              "      <td>87</td>\n",
              "      <td>56</td>\n",
              "      <td>0</td>\n",
              "      <td>0</td>\n",
              "      <td>0</td>\n",
              "      <td>0</td>\n",
              "      <td>0</td>\n",
              "      <td>0</td>\n",
              "      <td>0</td>\n",
              "    </tr>\n",
              "    <tr>\n",
              "      <th>1</th>\n",
              "      <td>1</td>\n",
              "      <td>0</td>\n",
              "      <td>0</td>\n",
              "      <td>0</td>\n",
              "      <td>0</td>\n",
              "      <td>0</td>\n",
              "      <td>0</td>\n",
              "      <td>0</td>\n",
              "      <td>0</td>\n",
              "      <td>0</td>\n",
              "      <td>...</td>\n",
              "      <td>34</td>\n",
              "      <td>0</td>\n",
              "      <td>0</td>\n",
              "      <td>0</td>\n",
              "      <td>0</td>\n",
              "      <td>0</td>\n",
              "      <td>0</td>\n",
              "      <td>0</td>\n",
              "      <td>0</td>\n",
              "      <td>0</td>\n",
              "    </tr>\n",
              "    <tr>\n",
              "      <th>2</th>\n",
              "      <td>2</td>\n",
              "      <td>0</td>\n",
              "      <td>0</td>\n",
              "      <td>0</td>\n",
              "      <td>0</td>\n",
              "      <td>0</td>\n",
              "      <td>0</td>\n",
              "      <td>14</td>\n",
              "      <td>53</td>\n",
              "      <td>99</td>\n",
              "      <td>...</td>\n",
              "      <td>0</td>\n",
              "      <td>0</td>\n",
              "      <td>0</td>\n",
              "      <td>0</td>\n",
              "      <td>63</td>\n",
              "      <td>53</td>\n",
              "      <td>31</td>\n",
              "      <td>0</td>\n",
              "      <td>0</td>\n",
              "      <td>0</td>\n",
              "    </tr>\n",
              "  </tbody>\n",
              "</table>\n",
              "<p>3 rows × 785 columns</p>\n",
              "</div>\n",
              "      <button class=\"colab-df-convert\" onclick=\"convertToInteractive('df-d2255966-45b6-4dd1-8c0c-8713d22f1f8b')\"\n",
              "              title=\"Convert this dataframe to an interactive table.\"\n",
              "              style=\"display:none;\">\n",
              "        \n",
              "  <svg xmlns=\"http://www.w3.org/2000/svg\" height=\"24px\"viewBox=\"0 0 24 24\"\n",
              "       width=\"24px\">\n",
              "    <path d=\"M0 0h24v24H0V0z\" fill=\"none\"/>\n",
              "    <path d=\"M18.56 5.44l.94 2.06.94-2.06 2.06-.94-2.06-.94-.94-2.06-.94 2.06-2.06.94zm-11 1L8.5 8.5l.94-2.06 2.06-.94-2.06-.94L8.5 2.5l-.94 2.06-2.06.94zm10 10l.94 2.06.94-2.06 2.06-.94-2.06-.94-.94-2.06-.94 2.06-2.06.94z\"/><path d=\"M17.41 7.96l-1.37-1.37c-.4-.4-.92-.59-1.43-.59-.52 0-1.04.2-1.43.59L10.3 9.45l-7.72 7.72c-.78.78-.78 2.05 0 2.83L4 21.41c.39.39.9.59 1.41.59.51 0 1.02-.2 1.41-.59l7.78-7.78 2.81-2.81c.8-.78.8-2.07 0-2.86zM5.41 20L4 18.59l7.72-7.72 1.47 1.35L5.41 20z\"/>\n",
              "  </svg>\n",
              "      </button>\n",
              "      \n",
              "  <style>\n",
              "    .colab-df-container {\n",
              "      display:flex;\n",
              "      flex-wrap:wrap;\n",
              "      gap: 12px;\n",
              "    }\n",
              "\n",
              "    .colab-df-convert {\n",
              "      background-color: #E8F0FE;\n",
              "      border: none;\n",
              "      border-radius: 50%;\n",
              "      cursor: pointer;\n",
              "      display: none;\n",
              "      fill: #1967D2;\n",
              "      height: 32px;\n",
              "      padding: 0 0 0 0;\n",
              "      width: 32px;\n",
              "    }\n",
              "\n",
              "    .colab-df-convert:hover {\n",
              "      background-color: #E2EBFA;\n",
              "      box-shadow: 0px 1px 2px rgba(60, 64, 67, 0.3), 0px 1px 3px 1px rgba(60, 64, 67, 0.15);\n",
              "      fill: #174EA6;\n",
              "    }\n",
              "\n",
              "    [theme=dark] .colab-df-convert {\n",
              "      background-color: #3B4455;\n",
              "      fill: #D2E3FC;\n",
              "    }\n",
              "\n",
              "    [theme=dark] .colab-df-convert:hover {\n",
              "      background-color: #434B5C;\n",
              "      box-shadow: 0px 1px 3px 1px rgba(0, 0, 0, 0.15);\n",
              "      filter: drop-shadow(0px 1px 2px rgba(0, 0, 0, 0.3));\n",
              "      fill: #FFFFFF;\n",
              "    }\n",
              "  </style>\n",
              "\n",
              "      <script>\n",
              "        const buttonEl =\n",
              "          document.querySelector('#df-d2255966-45b6-4dd1-8c0c-8713d22f1f8b button.colab-df-convert');\n",
              "        buttonEl.style.display =\n",
              "          google.colab.kernel.accessAllowed ? 'block' : 'none';\n",
              "\n",
              "        async function convertToInteractive(key) {\n",
              "          const element = document.querySelector('#df-d2255966-45b6-4dd1-8c0c-8713d22f1f8b');\n",
              "          const dataTable =\n",
              "            await google.colab.kernel.invokeFunction('convertToInteractive',\n",
              "                                                     [key], {});\n",
              "          if (!dataTable) return;\n",
              "\n",
              "          const docLinkHtml = 'Like what you see? Visit the ' +\n",
              "            '<a target=\"_blank\" href=https://colab.research.google.com/notebooks/data_table.ipynb>data table notebook</a>'\n",
              "            + ' to learn more about interactive tables.';\n",
              "          element.innerHTML = '';\n",
              "          dataTable['output_type'] = 'display_data';\n",
              "          await google.colab.output.renderOutput(dataTable, element);\n",
              "          const docLink = document.createElement('div');\n",
              "          docLink.innerHTML = docLinkHtml;\n",
              "          element.appendChild(docLink);\n",
              "        }\n",
              "      </script>\n",
              "    </div>\n",
              "  </div>\n",
              "  "
            ]
          },
          "metadata": {},
          "execution_count": 27
        }
      ]
    },
    {
      "cell_type": "code",
      "source": [
        "clothes_test_features = clothes_test.drop('label', axis=1)\n",
        "\n",
        "clothes_test_features = clothes_test_features.to_numpy().reshape(10000, 28 * 28)\n",
        "clothes_test_features = clothes_test_features.astype('float32') / 255\n",
        "\n",
        "clothes_test_features.shape"
      ],
      "metadata": {
        "colab": {
          "base_uri": "https://localhost:8080/"
        },
        "id": "TZJiLWqv6r2z",
        "outputId": "5f11a6c8-7eba-491d-c668-966eed192803"
      },
      "execution_count": 28,
      "outputs": [
        {
          "output_type": "execute_result",
          "data": {
            "text/plain": [
              "(10000, 784)"
            ]
          },
          "metadata": {},
          "execution_count": 28
        }
      ]
    },
    {
      "cell_type": "code",
      "source": [
        "clothes_test_labels = clothes_test['label']\n",
        "clothes_test_labels = to_categorical(clothes_test_labels)\n",
        "clothes_test_labels[:3]"
      ],
      "metadata": {
        "colab": {
          "base_uri": "https://localhost:8080/"
        },
        "id": "-zdYiaOS7mlD",
        "outputId": "8c9382db-fc08-4505-93a8-7cb38236caa2"
      },
      "execution_count": 29,
      "outputs": [
        {
          "output_type": "execute_result",
          "data": {
            "text/plain": [
              "array([[1., 0., 0., 0., 0., 0., 0., 0., 0., 0.],\n",
              "       [0., 1., 0., 0., 0., 0., 0., 0., 0., 0.],\n",
              "       [0., 0., 1., 0., 0., 0., 0., 0., 0., 0.]], dtype=float32)"
            ]
          },
          "metadata": {},
          "execution_count": 29
        }
      ]
    },
    {
      "cell_type": "code",
      "execution_count": 30,
      "metadata": {
        "id": "2DZJmQ-g0HnG"
      },
      "outputs": [],
      "source": [
        "input_size = 784 \n",
        "hidden_size = 256\n",
        "output_size = 10\n",
        "\n",
        "clothing_network = models.Sequential()\n",
        "clothing_network.add(layers.Dense(hidden_size, activation='relu', input_shape=(input_size,)))\n",
        "clothing_network.add(layers.Dense(output_size, activation='softmax'))\n",
        "\n",
        "clothing_network.compile(optimizer='rmsprop',\n",
        "                loss='categorical_crossentropy',\n",
        "                metrics=['accuracy'])"
      ]
    },
    {
      "cell_type": "code",
      "source": [
        "clothing_network.fit(clothes_train_features, clothes_train_labels, epochs=7, batch_size=128)"
      ],
      "metadata": {
        "colab": {
          "base_uri": "https://localhost:8080/"
        },
        "id": "NziEEhQy2wzG",
        "outputId": "9e37200a-d573-48e8-d7de-133bacf92136"
      },
      "execution_count": 31,
      "outputs": [
        {
          "output_type": "stream",
          "name": "stdout",
          "text": [
            "Epoch 1/7\n",
            "469/469 [==============================] - 2s 3ms/step - loss: 0.5634 - accuracy: 0.8007\n",
            "Epoch 2/7\n",
            "469/469 [==============================] - 1s 3ms/step - loss: 0.3950 - accuracy: 0.8571\n",
            "Epoch 3/7\n",
            "469/469 [==============================] - 1s 3ms/step - loss: 0.3479 - accuracy: 0.8732\n",
            "Epoch 4/7\n",
            "469/469 [==============================] - 1s 3ms/step - loss: 0.3211 - accuracy: 0.8831\n",
            "Epoch 5/7\n",
            "469/469 [==============================] - 1s 3ms/step - loss: 0.3016 - accuracy: 0.8897\n",
            "Epoch 6/7\n",
            "469/469 [==============================] - 1s 3ms/step - loss: 0.2870 - accuracy: 0.8951\n",
            "Epoch 7/7\n",
            "469/469 [==============================] - 1s 3ms/step - loss: 0.2738 - accuracy: 0.8988\n"
          ]
        },
        {
          "output_type": "execute_result",
          "data": {
            "text/plain": [
              "<keras.callbacks.History at 0x7f14d07e1f50>"
            ]
          },
          "metadata": {},
          "execution_count": 31
        }
      ]
    },
    {
      "cell_type": "markdown",
      "metadata": {
        "id": "NgnlMXV90HnI"
      },
      "source": [
        "### What is its accuracy on the test data?"
      ]
    },
    {
      "cell_type": "code",
      "execution_count": 32,
      "metadata": {
        "id": "nR_lX8i90HnJ",
        "colab": {
          "base_uri": "https://localhost:8080/"
        },
        "outputId": "07c46e3a-7265-45e4-c99a-7247e4761191"
      },
      "outputs": [
        {
          "output_type": "stream",
          "name": "stdout",
          "text": [
            "313/313 [==============================] - 1s 2ms/step - loss: 0.3168 - accuracy: 0.8884\n",
            "clothing_test_acc: 0.8884000182151794\n"
          ]
        }
      ],
      "source": [
        "clothing_test_loss, clothing_test_acc = clothing_network.evaluate(clothes_test_features, clothes_test_labels)\n",
        "print('clothing_test_acc:', clothing_test_acc)"
      ]
    },
    {
      "cell_type": "markdown",
      "metadata": {
        "id": "tY3fZL-l0HnL"
      },
      "source": [
        "![](https://raw.githubusercontent.com/zacharski/datamining-guide/master/labs/pics/PyDivideTwo.png)\n",
        "\n",
        "## <font color='#EE4C2C'>5. Two Hidden Layers</font> .\n",
        "Can you construct and train a new network that has two hidden layers \n",
        "(as before, the first layer can have 512 neurons - the second should have 256)? What is its accuracy on the test data? "
      ]
    },
    {
      "cell_type": "code",
      "execution_count": 33,
      "metadata": {
        "id": "OiuUUZs30HnL"
      },
      "outputs": [],
      "source": [
        "input_size = 784 \n",
        "hidden_size = [512, 256]\n",
        "output_size = 10\n",
        "\n",
        "clothing_network2 = models.Sequential()\n",
        "clothing_network2.add(layers.Dense(hidden_size[0], activation='relu', input_shape=(input_size,)))\n",
        "clothing_network2.add(layers.Dense(hidden_size[1], activation='relu'))\n",
        "clothing_network2.add(layers.Dense(output_size, activation='softmax'))\n",
        "\n",
        "clothing_network2.compile(optimizer='rmsprop',\n",
        "                loss='categorical_crossentropy',\n",
        "                metrics=['accuracy'])"
      ]
    },
    {
      "cell_type": "code",
      "source": [
        "clothing_network2.fit(clothes_train_features, clothes_train_labels, epochs=7, batch_size=128)"
      ],
      "metadata": {
        "colab": {
          "base_uri": "https://localhost:8080/"
        },
        "id": "igCby-IG-YxY",
        "outputId": "93e86685-9e02-47fc-8360-527f959f4911"
      },
      "execution_count": 34,
      "outputs": [
        {
          "output_type": "stream",
          "name": "stdout",
          "text": [
            "Epoch 1/7\n",
            "469/469 [==============================] - 2s 3ms/step - loss: 0.5448 - accuracy: 0.7999\n",
            "Epoch 2/7\n",
            "469/469 [==============================] - 2s 3ms/step - loss: 0.3804 - accuracy: 0.8598\n",
            "Epoch 3/7\n",
            "469/469 [==============================] - 2s 3ms/step - loss: 0.3379 - accuracy: 0.8743\n",
            "Epoch 4/7\n",
            "469/469 [==============================] - 2s 3ms/step - loss: 0.3150 - accuracy: 0.8836\n",
            "Epoch 5/7\n",
            "469/469 [==============================] - 2s 4ms/step - loss: 0.2948 - accuracy: 0.8901\n",
            "Epoch 6/7\n",
            "469/469 [==============================] - 2s 4ms/step - loss: 0.2797 - accuracy: 0.8942\n",
            "Epoch 7/7\n",
            "469/469 [==============================] - 2s 4ms/step - loss: 0.2684 - accuracy: 0.9003\n"
          ]
        },
        {
          "output_type": "execute_result",
          "data": {
            "text/plain": [
              "<keras.callbacks.History at 0x7f14d0e7b8d0>"
            ]
          },
          "metadata": {},
          "execution_count": 34
        }
      ]
    },
    {
      "cell_type": "code",
      "source": [
        "clothing_test_loss2, clothing_test_acc2 = clothing_network2.evaluate(clothes_test_features, clothes_test_labels)\n",
        "print('clothing_test_acc2:', clothing_test_acc2)"
      ],
      "metadata": {
        "colab": {
          "base_uri": "https://localhost:8080/"
        },
        "id": "m2UCey34-ZGW",
        "outputId": "95f8d86b-0158-483a-b233-b18d8469a1c5"
      },
      "execution_count": 35,
      "outputs": [
        {
          "output_type": "stream",
          "name": "stdout",
          "text": [
            "313/313 [==============================] - 1s 3ms/step - loss: 0.3615 - accuracy: 0.8744\n",
            "clothing_test_acc2: 0.8744000196456909\n"
          ]
        }
      ]
    },
    {
      "cell_type": "markdown",
      "metadata": {
        "id": "S8ll6Pz00HnO"
      },
      "source": [
        "![](https://raw.githubusercontent.com/zacharski/datamining-guide/master/labs/pics/torchdivide.png)\n",
        "\n",
        "## <font color='#EE4C2C'>6. Volcanos on Venus</font> \n",
        "![](https://upload.wikimedia.org/wikipedia/commons/1/16/Maat_Mons_on_Venus.jpg)\n",
        "\n",
        "\n",
        "### First, no one has been to Venus\n",
        "I felt I needed to say that upfront because we don't really know if there are volcanoes on Venus. An analysis of the data by experts is not 100% accurate so the labels are the experts best guess.\n",
        "\n",
        "The images are from NASA's Magellan spacecraft which was launched on May 4, 1989 and made it to Venus on August 10, 1990. Magellan mapped the surface of Venus using synthetic aperture radar. Some images have black blocks in them caused by either problems with Magellan or with communication back to earth. \n",
        "\n",
        "### The data\n",
        "The images are 110x110 grayscale pixels. The value of each pixel ranges from 0 to 255. Your task it to build a classifier that will predict whether a volcano is present in the image or not.\n",
        "\n",
        "#### The files\n",
        "\n",
        "* Training images: [volcanoes_train_images.csv](http://zacharski.org/files/courses/cs419/volcanoes_train_images.csv)\n",
        "* Training labels: [volcanoes_train_labels.csv](http://zacharski.org/files/courses/cs419/volcanoes_train_labels.csv) \n",
        "* Testing images: [volcanoes_test_images.csv](http://zacharski.org/files/courses/cs419/volcanoes_test_images.csv)\n",
        "* Testing labels: [volcanoes_test_labels.csv](http://zacharski.org/files/courses/cs419/volcanoes_test_labels.csv) \n",
        "\n",
        "\n",
        "\n",
        "\n",
        "## Tasks\n",
        "\n",
        "There are 5 tasks\n",
        "\n",
        "1. A simple task: Can you display a few of the images from the dataset?\n",
        "2. Build a model with one hidden layer. Train it for 2 epochs. What is it's accuracy?\n",
        "3. Build a model with one hidden layer. Train it for 10 epochs. What is it's accuracy? \n",
        "4. Does increasing the epochs beyond 10 improve accuracy?\n",
        "5. Build a model with 2 hidden layers and test."
      ]
    },
    {
      "cell_type": "markdown",
      "source": [
        "Import the CSVs.\n",
        "\n",
        "This first one is large and will take a bit."
      ],
      "metadata": {
        "id": "_wZfE_cgCEd9"
      }
    },
    {
      "cell_type": "code",
      "source": [
        "import numpy as np\n",
        "col_names = np.arange(110 * 110)\n",
        "col_names[:110]"
      ],
      "metadata": {
        "colab": {
          "base_uri": "https://localhost:8080/"
        },
        "id": "YODARRuSVaa2",
        "outputId": "dc0b78ff-c517-4b39-a346-c6cd7c3760c9"
      },
      "execution_count": 36,
      "outputs": [
        {
          "output_type": "execute_result",
          "data": {
            "text/plain": [
              "array([  0,   1,   2,   3,   4,   5,   6,   7,   8,   9,  10,  11,  12,\n",
              "        13,  14,  15,  16,  17,  18,  19,  20,  21,  22,  23,  24,  25,\n",
              "        26,  27,  28,  29,  30,  31,  32,  33,  34,  35,  36,  37,  38,\n",
              "        39,  40,  41,  42,  43,  44,  45,  46,  47,  48,  49,  50,  51,\n",
              "        52,  53,  54,  55,  56,  57,  58,  59,  60,  61,  62,  63,  64,\n",
              "        65,  66,  67,  68,  69,  70,  71,  72,  73,  74,  75,  76,  77,\n",
              "        78,  79,  80,  81,  82,  83,  84,  85,  86,  87,  88,  89,  90,\n",
              "        91,  92,  93,  94,  95,  96,  97,  98,  99, 100, 101, 102, 103,\n",
              "       104, 105, 106, 107, 108, 109])"
            ]
          },
          "metadata": {},
          "execution_count": 36
        }
      ]
    },
    {
      "cell_type": "code",
      "execution_count": 37,
      "metadata": {
        "id": "6ZFUG8Fx0HnO",
        "colab": {
          "base_uri": "https://localhost:8080/",
          "height": 173
        },
        "outputId": "6499397b-cf2c-460e-b085-536c8b9341e8"
      },
      "outputs": [
        {
          "output_type": "execute_result",
          "data": {
            "text/plain": [
              "   0      1      2      3      4      5      6      7      8      9      ...  \\\n",
              "0     95    101     99    103     95     86     96     89     70    104  ...   \n",
              "1     91     92     91     89     92     93     96    101    107    104  ...   \n",
              "2     87     70     72     74     84     78     93    104    106    106  ...   \n",
              "\n",
              "   12090  12091  12092  12093  12094  12095  12096  12097  12098  12099  \n",
              "0    111    107     92     89    103     99    117    116    118     96  \n",
              "1    103     92     93     95     98    105    104    100     90     81  \n",
              "2     84     71     95    102     94     80     91     80     84     90  \n",
              "\n",
              "[3 rows x 12100 columns]"
            ],
            "text/html": [
              "\n",
              "  <div id=\"df-2f66bb13-3de7-4ca8-aadd-8b46f1a339fd\">\n",
              "    <div class=\"colab-df-container\">\n",
              "      <div>\n",
              "<style scoped>\n",
              "    .dataframe tbody tr th:only-of-type {\n",
              "        vertical-align: middle;\n",
              "    }\n",
              "\n",
              "    .dataframe tbody tr th {\n",
              "        vertical-align: top;\n",
              "    }\n",
              "\n",
              "    .dataframe thead th {\n",
              "        text-align: right;\n",
              "    }\n",
              "</style>\n",
              "<table border=\"1\" class=\"dataframe\">\n",
              "  <thead>\n",
              "    <tr style=\"text-align: right;\">\n",
              "      <th></th>\n",
              "      <th>0</th>\n",
              "      <th>1</th>\n",
              "      <th>2</th>\n",
              "      <th>3</th>\n",
              "      <th>4</th>\n",
              "      <th>5</th>\n",
              "      <th>6</th>\n",
              "      <th>7</th>\n",
              "      <th>8</th>\n",
              "      <th>9</th>\n",
              "      <th>...</th>\n",
              "      <th>12090</th>\n",
              "      <th>12091</th>\n",
              "      <th>12092</th>\n",
              "      <th>12093</th>\n",
              "      <th>12094</th>\n",
              "      <th>12095</th>\n",
              "      <th>12096</th>\n",
              "      <th>12097</th>\n",
              "      <th>12098</th>\n",
              "      <th>12099</th>\n",
              "    </tr>\n",
              "  </thead>\n",
              "  <tbody>\n",
              "    <tr>\n",
              "      <th>0</th>\n",
              "      <td>95</td>\n",
              "      <td>101</td>\n",
              "      <td>99</td>\n",
              "      <td>103</td>\n",
              "      <td>95</td>\n",
              "      <td>86</td>\n",
              "      <td>96</td>\n",
              "      <td>89</td>\n",
              "      <td>70</td>\n",
              "      <td>104</td>\n",
              "      <td>...</td>\n",
              "      <td>111</td>\n",
              "      <td>107</td>\n",
              "      <td>92</td>\n",
              "      <td>89</td>\n",
              "      <td>103</td>\n",
              "      <td>99</td>\n",
              "      <td>117</td>\n",
              "      <td>116</td>\n",
              "      <td>118</td>\n",
              "      <td>96</td>\n",
              "    </tr>\n",
              "    <tr>\n",
              "      <th>1</th>\n",
              "      <td>91</td>\n",
              "      <td>92</td>\n",
              "      <td>91</td>\n",
              "      <td>89</td>\n",
              "      <td>92</td>\n",
              "      <td>93</td>\n",
              "      <td>96</td>\n",
              "      <td>101</td>\n",
              "      <td>107</td>\n",
              "      <td>104</td>\n",
              "      <td>...</td>\n",
              "      <td>103</td>\n",
              "      <td>92</td>\n",
              "      <td>93</td>\n",
              "      <td>95</td>\n",
              "      <td>98</td>\n",
              "      <td>105</td>\n",
              "      <td>104</td>\n",
              "      <td>100</td>\n",
              "      <td>90</td>\n",
              "      <td>81</td>\n",
              "    </tr>\n",
              "    <tr>\n",
              "      <th>2</th>\n",
              "      <td>87</td>\n",
              "      <td>70</td>\n",
              "      <td>72</td>\n",
              "      <td>74</td>\n",
              "      <td>84</td>\n",
              "      <td>78</td>\n",
              "      <td>93</td>\n",
              "      <td>104</td>\n",
              "      <td>106</td>\n",
              "      <td>106</td>\n",
              "      <td>...</td>\n",
              "      <td>84</td>\n",
              "      <td>71</td>\n",
              "      <td>95</td>\n",
              "      <td>102</td>\n",
              "      <td>94</td>\n",
              "      <td>80</td>\n",
              "      <td>91</td>\n",
              "      <td>80</td>\n",
              "      <td>84</td>\n",
              "      <td>90</td>\n",
              "    </tr>\n",
              "  </tbody>\n",
              "</table>\n",
              "<p>3 rows × 12100 columns</p>\n",
              "</div>\n",
              "      <button class=\"colab-df-convert\" onclick=\"convertToInteractive('df-2f66bb13-3de7-4ca8-aadd-8b46f1a339fd')\"\n",
              "              title=\"Convert this dataframe to an interactive table.\"\n",
              "              style=\"display:none;\">\n",
              "        \n",
              "  <svg xmlns=\"http://www.w3.org/2000/svg\" height=\"24px\"viewBox=\"0 0 24 24\"\n",
              "       width=\"24px\">\n",
              "    <path d=\"M0 0h24v24H0V0z\" fill=\"none\"/>\n",
              "    <path d=\"M18.56 5.44l.94 2.06.94-2.06 2.06-.94-2.06-.94-.94-2.06-.94 2.06-2.06.94zm-11 1L8.5 8.5l.94-2.06 2.06-.94-2.06-.94L8.5 2.5l-.94 2.06-2.06.94zm10 10l.94 2.06.94-2.06 2.06-.94-2.06-.94-.94-2.06-.94 2.06-2.06.94z\"/><path d=\"M17.41 7.96l-1.37-1.37c-.4-.4-.92-.59-1.43-.59-.52 0-1.04.2-1.43.59L10.3 9.45l-7.72 7.72c-.78.78-.78 2.05 0 2.83L4 21.41c.39.39.9.59 1.41.59.51 0 1.02-.2 1.41-.59l7.78-7.78 2.81-2.81c.8-.78.8-2.07 0-2.86zM5.41 20L4 18.59l7.72-7.72 1.47 1.35L5.41 20z\"/>\n",
              "  </svg>\n",
              "      </button>\n",
              "      \n",
              "  <style>\n",
              "    .colab-df-container {\n",
              "      display:flex;\n",
              "      flex-wrap:wrap;\n",
              "      gap: 12px;\n",
              "    }\n",
              "\n",
              "    .colab-df-convert {\n",
              "      background-color: #E8F0FE;\n",
              "      border: none;\n",
              "      border-radius: 50%;\n",
              "      cursor: pointer;\n",
              "      display: none;\n",
              "      fill: #1967D2;\n",
              "      height: 32px;\n",
              "      padding: 0 0 0 0;\n",
              "      width: 32px;\n",
              "    }\n",
              "\n",
              "    .colab-df-convert:hover {\n",
              "      background-color: #E2EBFA;\n",
              "      box-shadow: 0px 1px 2px rgba(60, 64, 67, 0.3), 0px 1px 3px 1px rgba(60, 64, 67, 0.15);\n",
              "      fill: #174EA6;\n",
              "    }\n",
              "\n",
              "    [theme=dark] .colab-df-convert {\n",
              "      background-color: #3B4455;\n",
              "      fill: #D2E3FC;\n",
              "    }\n",
              "\n",
              "    [theme=dark] .colab-df-convert:hover {\n",
              "      background-color: #434B5C;\n",
              "      box-shadow: 0px 1px 3px 1px rgba(0, 0, 0, 0.15);\n",
              "      filter: drop-shadow(0px 1px 2px rgba(0, 0, 0, 0.3));\n",
              "      fill: #FFFFFF;\n",
              "    }\n",
              "  </style>\n",
              "\n",
              "      <script>\n",
              "        const buttonEl =\n",
              "          document.querySelector('#df-2f66bb13-3de7-4ca8-aadd-8b46f1a339fd button.colab-df-convert');\n",
              "        buttonEl.style.display =\n",
              "          google.colab.kernel.accessAllowed ? 'block' : 'none';\n",
              "\n",
              "        async function convertToInteractive(key) {\n",
              "          const element = document.querySelector('#df-2f66bb13-3de7-4ca8-aadd-8b46f1a339fd');\n",
              "          const dataTable =\n",
              "            await google.colab.kernel.invokeFunction('convertToInteractive',\n",
              "                                                     [key], {});\n",
              "          if (!dataTable) return;\n",
              "\n",
              "          const docLinkHtml = 'Like what you see? Visit the ' +\n",
              "            '<a target=\"_blank\" href=https://colab.research.google.com/notebooks/data_table.ipynb>data table notebook</a>'\n",
              "            + ' to learn more about interactive tables.';\n",
              "          element.innerHTML = '';\n",
              "          dataTable['output_type'] = 'display_data';\n",
              "          await google.colab.output.renderOutput(dataTable, element);\n",
              "          const docLink = document.createElement('div');\n",
              "          docLink.innerHTML = docLinkHtml;\n",
              "          element.appendChild(docLink);\n",
              "        }\n",
              "      </script>\n",
              "    </div>\n",
              "  </div>\n",
              "  "
            ]
          },
          "metadata": {},
          "execution_count": 37
        }
      ],
      "source": [
        "vol_train_images = pd.read_csv('http://zacharski.org/files/courses/cs419/volcanoes_train_images.csv', names=col_names)\n",
        "vol_train_images[:3]"
      ]
    },
    {
      "cell_type": "code",
      "source": [
        "vol_train_labels = pd.read_csv('http://zacharski.org/files/courses/cs419/volcanoes_train_labels.csv')\n",
        "vol_train_labels[:3]"
      ],
      "metadata": {
        "colab": {
          "base_uri": "https://localhost:8080/",
          "height": 143
        },
        "id": "JVkN6CAK_XAI",
        "outputId": "91abf0e3-bd59-4123-c6ad-784f10493769"
      },
      "execution_count": 38,
      "outputs": [
        {
          "output_type": "execute_result",
          "data": {
            "text/plain": [
              "   Volcano?  Type  Radius  Number Volcanoes\n",
              "0         1   3.0   17.46               1.0\n",
              "1         0   NaN     NaN               NaN\n",
              "2         0   NaN     NaN               NaN"
            ],
            "text/html": [
              "\n",
              "  <div id=\"df-eea7bda0-afa8-4110-99f7-c31aa530f706\">\n",
              "    <div class=\"colab-df-container\">\n",
              "      <div>\n",
              "<style scoped>\n",
              "    .dataframe tbody tr th:only-of-type {\n",
              "        vertical-align: middle;\n",
              "    }\n",
              "\n",
              "    .dataframe tbody tr th {\n",
              "        vertical-align: top;\n",
              "    }\n",
              "\n",
              "    .dataframe thead th {\n",
              "        text-align: right;\n",
              "    }\n",
              "</style>\n",
              "<table border=\"1\" class=\"dataframe\">\n",
              "  <thead>\n",
              "    <tr style=\"text-align: right;\">\n",
              "      <th></th>\n",
              "      <th>Volcano?</th>\n",
              "      <th>Type</th>\n",
              "      <th>Radius</th>\n",
              "      <th>Number Volcanoes</th>\n",
              "    </tr>\n",
              "  </thead>\n",
              "  <tbody>\n",
              "    <tr>\n",
              "      <th>0</th>\n",
              "      <td>1</td>\n",
              "      <td>3.0</td>\n",
              "      <td>17.46</td>\n",
              "      <td>1.0</td>\n",
              "    </tr>\n",
              "    <tr>\n",
              "      <th>1</th>\n",
              "      <td>0</td>\n",
              "      <td>NaN</td>\n",
              "      <td>NaN</td>\n",
              "      <td>NaN</td>\n",
              "    </tr>\n",
              "    <tr>\n",
              "      <th>2</th>\n",
              "      <td>0</td>\n",
              "      <td>NaN</td>\n",
              "      <td>NaN</td>\n",
              "      <td>NaN</td>\n",
              "    </tr>\n",
              "  </tbody>\n",
              "</table>\n",
              "</div>\n",
              "      <button class=\"colab-df-convert\" onclick=\"convertToInteractive('df-eea7bda0-afa8-4110-99f7-c31aa530f706')\"\n",
              "              title=\"Convert this dataframe to an interactive table.\"\n",
              "              style=\"display:none;\">\n",
              "        \n",
              "  <svg xmlns=\"http://www.w3.org/2000/svg\" height=\"24px\"viewBox=\"0 0 24 24\"\n",
              "       width=\"24px\">\n",
              "    <path d=\"M0 0h24v24H0V0z\" fill=\"none\"/>\n",
              "    <path d=\"M18.56 5.44l.94 2.06.94-2.06 2.06-.94-2.06-.94-.94-2.06-.94 2.06-2.06.94zm-11 1L8.5 8.5l.94-2.06 2.06-.94-2.06-.94L8.5 2.5l-.94 2.06-2.06.94zm10 10l.94 2.06.94-2.06 2.06-.94-2.06-.94-.94-2.06-.94 2.06-2.06.94z\"/><path d=\"M17.41 7.96l-1.37-1.37c-.4-.4-.92-.59-1.43-.59-.52 0-1.04.2-1.43.59L10.3 9.45l-7.72 7.72c-.78.78-.78 2.05 0 2.83L4 21.41c.39.39.9.59 1.41.59.51 0 1.02-.2 1.41-.59l7.78-7.78 2.81-2.81c.8-.78.8-2.07 0-2.86zM5.41 20L4 18.59l7.72-7.72 1.47 1.35L5.41 20z\"/>\n",
              "  </svg>\n",
              "      </button>\n",
              "      \n",
              "  <style>\n",
              "    .colab-df-container {\n",
              "      display:flex;\n",
              "      flex-wrap:wrap;\n",
              "      gap: 12px;\n",
              "    }\n",
              "\n",
              "    .colab-df-convert {\n",
              "      background-color: #E8F0FE;\n",
              "      border: none;\n",
              "      border-radius: 50%;\n",
              "      cursor: pointer;\n",
              "      display: none;\n",
              "      fill: #1967D2;\n",
              "      height: 32px;\n",
              "      padding: 0 0 0 0;\n",
              "      width: 32px;\n",
              "    }\n",
              "\n",
              "    .colab-df-convert:hover {\n",
              "      background-color: #E2EBFA;\n",
              "      box-shadow: 0px 1px 2px rgba(60, 64, 67, 0.3), 0px 1px 3px 1px rgba(60, 64, 67, 0.15);\n",
              "      fill: #174EA6;\n",
              "    }\n",
              "\n",
              "    [theme=dark] .colab-df-convert {\n",
              "      background-color: #3B4455;\n",
              "      fill: #D2E3FC;\n",
              "    }\n",
              "\n",
              "    [theme=dark] .colab-df-convert:hover {\n",
              "      background-color: #434B5C;\n",
              "      box-shadow: 0px 1px 3px 1px rgba(0, 0, 0, 0.15);\n",
              "      filter: drop-shadow(0px 1px 2px rgba(0, 0, 0, 0.3));\n",
              "      fill: #FFFFFF;\n",
              "    }\n",
              "  </style>\n",
              "\n",
              "      <script>\n",
              "        const buttonEl =\n",
              "          document.querySelector('#df-eea7bda0-afa8-4110-99f7-c31aa530f706 button.colab-df-convert');\n",
              "        buttonEl.style.display =\n",
              "          google.colab.kernel.accessAllowed ? 'block' : 'none';\n",
              "\n",
              "        async function convertToInteractive(key) {\n",
              "          const element = document.querySelector('#df-eea7bda0-afa8-4110-99f7-c31aa530f706');\n",
              "          const dataTable =\n",
              "            await google.colab.kernel.invokeFunction('convertToInteractive',\n",
              "                                                     [key], {});\n",
              "          if (!dataTable) return;\n",
              "\n",
              "          const docLinkHtml = 'Like what you see? Visit the ' +\n",
              "            '<a target=\"_blank\" href=https://colab.research.google.com/notebooks/data_table.ipynb>data table notebook</a>'\n",
              "            + ' to learn more about interactive tables.';\n",
              "          element.innerHTML = '';\n",
              "          dataTable['output_type'] = 'display_data';\n",
              "          await google.colab.output.renderOutput(dataTable, element);\n",
              "          const docLink = document.createElement('div');\n",
              "          docLink.innerHTML = docLinkHtml;\n",
              "          element.appendChild(docLink);\n",
              "        }\n",
              "      </script>\n",
              "    </div>\n",
              "  </div>\n",
              "  "
            ]
          },
          "metadata": {},
          "execution_count": 38
        }
      ]
    },
    {
      "cell_type": "code",
      "source": [
        "vol_test_images = pd.read_csv('http://zacharski.org/files/courses/cs419/volcanoes_test_images.csv', names=col_names)\n",
        "vol_test_images[:3]"
      ],
      "metadata": {
        "colab": {
          "base_uri": "https://localhost:8080/",
          "height": 173
        },
        "id": "X-L6VfVJ_W4c",
        "outputId": "5654ec60-3378-4175-f87a-de2057185e53"
      },
      "execution_count": 39,
      "outputs": [
        {
          "output_type": "execute_result",
          "data": {
            "text/plain": [
              "   0      1      2      3      4      5      6      7      8      9      ...  \\\n",
              "0    107    116    108    101    107    109    108    110    100    109  ...   \n",
              "1     93     95     98    100     90    100    108     98     90    103  ...   \n",
              "2    108    108     92    116    116    140    126    104    112    103  ...   \n",
              "\n",
              "   12090  12091  12092  12093  12094  12095  12096  12097  12098  12099  \n",
              "0    111    110    109    109    101    106    106    117    130    134  \n",
              "1     86     93     59     88     89     89     92     99     92    113  \n",
              "2    118    111    113    107    107    121    141    160    131    138  \n",
              "\n",
              "[3 rows x 12100 columns]"
            ],
            "text/html": [
              "\n",
              "  <div id=\"df-e409e6bc-09bc-4801-b3fc-6456fa0ed782\">\n",
              "    <div class=\"colab-df-container\">\n",
              "      <div>\n",
              "<style scoped>\n",
              "    .dataframe tbody tr th:only-of-type {\n",
              "        vertical-align: middle;\n",
              "    }\n",
              "\n",
              "    .dataframe tbody tr th {\n",
              "        vertical-align: top;\n",
              "    }\n",
              "\n",
              "    .dataframe thead th {\n",
              "        text-align: right;\n",
              "    }\n",
              "</style>\n",
              "<table border=\"1\" class=\"dataframe\">\n",
              "  <thead>\n",
              "    <tr style=\"text-align: right;\">\n",
              "      <th></th>\n",
              "      <th>0</th>\n",
              "      <th>1</th>\n",
              "      <th>2</th>\n",
              "      <th>3</th>\n",
              "      <th>4</th>\n",
              "      <th>5</th>\n",
              "      <th>6</th>\n",
              "      <th>7</th>\n",
              "      <th>8</th>\n",
              "      <th>9</th>\n",
              "      <th>...</th>\n",
              "      <th>12090</th>\n",
              "      <th>12091</th>\n",
              "      <th>12092</th>\n",
              "      <th>12093</th>\n",
              "      <th>12094</th>\n",
              "      <th>12095</th>\n",
              "      <th>12096</th>\n",
              "      <th>12097</th>\n",
              "      <th>12098</th>\n",
              "      <th>12099</th>\n",
              "    </tr>\n",
              "  </thead>\n",
              "  <tbody>\n",
              "    <tr>\n",
              "      <th>0</th>\n",
              "      <td>107</td>\n",
              "      <td>116</td>\n",
              "      <td>108</td>\n",
              "      <td>101</td>\n",
              "      <td>107</td>\n",
              "      <td>109</td>\n",
              "      <td>108</td>\n",
              "      <td>110</td>\n",
              "      <td>100</td>\n",
              "      <td>109</td>\n",
              "      <td>...</td>\n",
              "      <td>111</td>\n",
              "      <td>110</td>\n",
              "      <td>109</td>\n",
              "      <td>109</td>\n",
              "      <td>101</td>\n",
              "      <td>106</td>\n",
              "      <td>106</td>\n",
              "      <td>117</td>\n",
              "      <td>130</td>\n",
              "      <td>134</td>\n",
              "    </tr>\n",
              "    <tr>\n",
              "      <th>1</th>\n",
              "      <td>93</td>\n",
              "      <td>95</td>\n",
              "      <td>98</td>\n",
              "      <td>100</td>\n",
              "      <td>90</td>\n",
              "      <td>100</td>\n",
              "      <td>108</td>\n",
              "      <td>98</td>\n",
              "      <td>90</td>\n",
              "      <td>103</td>\n",
              "      <td>...</td>\n",
              "      <td>86</td>\n",
              "      <td>93</td>\n",
              "      <td>59</td>\n",
              "      <td>88</td>\n",
              "      <td>89</td>\n",
              "      <td>89</td>\n",
              "      <td>92</td>\n",
              "      <td>99</td>\n",
              "      <td>92</td>\n",
              "      <td>113</td>\n",
              "    </tr>\n",
              "    <tr>\n",
              "      <th>2</th>\n",
              "      <td>108</td>\n",
              "      <td>108</td>\n",
              "      <td>92</td>\n",
              "      <td>116</td>\n",
              "      <td>116</td>\n",
              "      <td>140</td>\n",
              "      <td>126</td>\n",
              "      <td>104</td>\n",
              "      <td>112</td>\n",
              "      <td>103</td>\n",
              "      <td>...</td>\n",
              "      <td>118</td>\n",
              "      <td>111</td>\n",
              "      <td>113</td>\n",
              "      <td>107</td>\n",
              "      <td>107</td>\n",
              "      <td>121</td>\n",
              "      <td>141</td>\n",
              "      <td>160</td>\n",
              "      <td>131</td>\n",
              "      <td>138</td>\n",
              "    </tr>\n",
              "  </tbody>\n",
              "</table>\n",
              "<p>3 rows × 12100 columns</p>\n",
              "</div>\n",
              "      <button class=\"colab-df-convert\" onclick=\"convertToInteractive('df-e409e6bc-09bc-4801-b3fc-6456fa0ed782')\"\n",
              "              title=\"Convert this dataframe to an interactive table.\"\n",
              "              style=\"display:none;\">\n",
              "        \n",
              "  <svg xmlns=\"http://www.w3.org/2000/svg\" height=\"24px\"viewBox=\"0 0 24 24\"\n",
              "       width=\"24px\">\n",
              "    <path d=\"M0 0h24v24H0V0z\" fill=\"none\"/>\n",
              "    <path d=\"M18.56 5.44l.94 2.06.94-2.06 2.06-.94-2.06-.94-.94-2.06-.94 2.06-2.06.94zm-11 1L8.5 8.5l.94-2.06 2.06-.94-2.06-.94L8.5 2.5l-.94 2.06-2.06.94zm10 10l.94 2.06.94-2.06 2.06-.94-2.06-.94-.94-2.06-.94 2.06-2.06.94z\"/><path d=\"M17.41 7.96l-1.37-1.37c-.4-.4-.92-.59-1.43-.59-.52 0-1.04.2-1.43.59L10.3 9.45l-7.72 7.72c-.78.78-.78 2.05 0 2.83L4 21.41c.39.39.9.59 1.41.59.51 0 1.02-.2 1.41-.59l7.78-7.78 2.81-2.81c.8-.78.8-2.07 0-2.86zM5.41 20L4 18.59l7.72-7.72 1.47 1.35L5.41 20z\"/>\n",
              "  </svg>\n",
              "      </button>\n",
              "      \n",
              "  <style>\n",
              "    .colab-df-container {\n",
              "      display:flex;\n",
              "      flex-wrap:wrap;\n",
              "      gap: 12px;\n",
              "    }\n",
              "\n",
              "    .colab-df-convert {\n",
              "      background-color: #E8F0FE;\n",
              "      border: none;\n",
              "      border-radius: 50%;\n",
              "      cursor: pointer;\n",
              "      display: none;\n",
              "      fill: #1967D2;\n",
              "      height: 32px;\n",
              "      padding: 0 0 0 0;\n",
              "      width: 32px;\n",
              "    }\n",
              "\n",
              "    .colab-df-convert:hover {\n",
              "      background-color: #E2EBFA;\n",
              "      box-shadow: 0px 1px 2px rgba(60, 64, 67, 0.3), 0px 1px 3px 1px rgba(60, 64, 67, 0.15);\n",
              "      fill: #174EA6;\n",
              "    }\n",
              "\n",
              "    [theme=dark] .colab-df-convert {\n",
              "      background-color: #3B4455;\n",
              "      fill: #D2E3FC;\n",
              "    }\n",
              "\n",
              "    [theme=dark] .colab-df-convert:hover {\n",
              "      background-color: #434B5C;\n",
              "      box-shadow: 0px 1px 3px 1px rgba(0, 0, 0, 0.15);\n",
              "      filter: drop-shadow(0px 1px 2px rgba(0, 0, 0, 0.3));\n",
              "      fill: #FFFFFF;\n",
              "    }\n",
              "  </style>\n",
              "\n",
              "      <script>\n",
              "        const buttonEl =\n",
              "          document.querySelector('#df-e409e6bc-09bc-4801-b3fc-6456fa0ed782 button.colab-df-convert');\n",
              "        buttonEl.style.display =\n",
              "          google.colab.kernel.accessAllowed ? 'block' : 'none';\n",
              "\n",
              "        async function convertToInteractive(key) {\n",
              "          const element = document.querySelector('#df-e409e6bc-09bc-4801-b3fc-6456fa0ed782');\n",
              "          const dataTable =\n",
              "            await google.colab.kernel.invokeFunction('convertToInteractive',\n",
              "                                                     [key], {});\n",
              "          if (!dataTable) return;\n",
              "\n",
              "          const docLinkHtml = 'Like what you see? Visit the ' +\n",
              "            '<a target=\"_blank\" href=https://colab.research.google.com/notebooks/data_table.ipynb>data table notebook</a>'\n",
              "            + ' to learn more about interactive tables.';\n",
              "          element.innerHTML = '';\n",
              "          dataTable['output_type'] = 'display_data';\n",
              "          await google.colab.output.renderOutput(dataTable, element);\n",
              "          const docLink = document.createElement('div');\n",
              "          docLink.innerHTML = docLinkHtml;\n",
              "          element.appendChild(docLink);\n",
              "        }\n",
              "      </script>\n",
              "    </div>\n",
              "  </div>\n",
              "  "
            ]
          },
          "metadata": {},
          "execution_count": 39
        }
      ]
    },
    {
      "cell_type": "code",
      "source": [
        "vol_test_labels = pd.read_csv('http://zacharski.org/files/courses/cs419/volcanoes_test_labels.csv')\n",
        "vol_test_labels[:3]"
      ],
      "metadata": {
        "colab": {
          "base_uri": "https://localhost:8080/",
          "height": 143
        },
        "id": "6TJ3gL3r_Wlt",
        "outputId": "2dfd0f0c-d423-4e0b-abf8-4e7d8c29e12d"
      },
      "execution_count": 40,
      "outputs": [
        {
          "output_type": "execute_result",
          "data": {
            "text/plain": [
              "   Volcano?  Type  Radius  Number Volcanoes\n",
              "0         0   NaN     NaN               NaN\n",
              "1         0   NaN     NaN               NaN\n",
              "2         1   1.0    17.0               1.0"
            ],
            "text/html": [
              "\n",
              "  <div id=\"df-93932eff-cccd-4013-be35-2b1b6ba39f94\">\n",
              "    <div class=\"colab-df-container\">\n",
              "      <div>\n",
              "<style scoped>\n",
              "    .dataframe tbody tr th:only-of-type {\n",
              "        vertical-align: middle;\n",
              "    }\n",
              "\n",
              "    .dataframe tbody tr th {\n",
              "        vertical-align: top;\n",
              "    }\n",
              "\n",
              "    .dataframe thead th {\n",
              "        text-align: right;\n",
              "    }\n",
              "</style>\n",
              "<table border=\"1\" class=\"dataframe\">\n",
              "  <thead>\n",
              "    <tr style=\"text-align: right;\">\n",
              "      <th></th>\n",
              "      <th>Volcano?</th>\n",
              "      <th>Type</th>\n",
              "      <th>Radius</th>\n",
              "      <th>Number Volcanoes</th>\n",
              "    </tr>\n",
              "  </thead>\n",
              "  <tbody>\n",
              "    <tr>\n",
              "      <th>0</th>\n",
              "      <td>0</td>\n",
              "      <td>NaN</td>\n",
              "      <td>NaN</td>\n",
              "      <td>NaN</td>\n",
              "    </tr>\n",
              "    <tr>\n",
              "      <th>1</th>\n",
              "      <td>0</td>\n",
              "      <td>NaN</td>\n",
              "      <td>NaN</td>\n",
              "      <td>NaN</td>\n",
              "    </tr>\n",
              "    <tr>\n",
              "      <th>2</th>\n",
              "      <td>1</td>\n",
              "      <td>1.0</td>\n",
              "      <td>17.0</td>\n",
              "      <td>1.0</td>\n",
              "    </tr>\n",
              "  </tbody>\n",
              "</table>\n",
              "</div>\n",
              "      <button class=\"colab-df-convert\" onclick=\"convertToInteractive('df-93932eff-cccd-4013-be35-2b1b6ba39f94')\"\n",
              "              title=\"Convert this dataframe to an interactive table.\"\n",
              "              style=\"display:none;\">\n",
              "        \n",
              "  <svg xmlns=\"http://www.w3.org/2000/svg\" height=\"24px\"viewBox=\"0 0 24 24\"\n",
              "       width=\"24px\">\n",
              "    <path d=\"M0 0h24v24H0V0z\" fill=\"none\"/>\n",
              "    <path d=\"M18.56 5.44l.94 2.06.94-2.06 2.06-.94-2.06-.94-.94-2.06-.94 2.06-2.06.94zm-11 1L8.5 8.5l.94-2.06 2.06-.94-2.06-.94L8.5 2.5l-.94 2.06-2.06.94zm10 10l.94 2.06.94-2.06 2.06-.94-2.06-.94-.94-2.06-.94 2.06-2.06.94z\"/><path d=\"M17.41 7.96l-1.37-1.37c-.4-.4-.92-.59-1.43-.59-.52 0-1.04.2-1.43.59L10.3 9.45l-7.72 7.72c-.78.78-.78 2.05 0 2.83L4 21.41c.39.39.9.59 1.41.59.51 0 1.02-.2 1.41-.59l7.78-7.78 2.81-2.81c.8-.78.8-2.07 0-2.86zM5.41 20L4 18.59l7.72-7.72 1.47 1.35L5.41 20z\"/>\n",
              "  </svg>\n",
              "      </button>\n",
              "      \n",
              "  <style>\n",
              "    .colab-df-container {\n",
              "      display:flex;\n",
              "      flex-wrap:wrap;\n",
              "      gap: 12px;\n",
              "    }\n",
              "\n",
              "    .colab-df-convert {\n",
              "      background-color: #E8F0FE;\n",
              "      border: none;\n",
              "      border-radius: 50%;\n",
              "      cursor: pointer;\n",
              "      display: none;\n",
              "      fill: #1967D2;\n",
              "      height: 32px;\n",
              "      padding: 0 0 0 0;\n",
              "      width: 32px;\n",
              "    }\n",
              "\n",
              "    .colab-df-convert:hover {\n",
              "      background-color: #E2EBFA;\n",
              "      box-shadow: 0px 1px 2px rgba(60, 64, 67, 0.3), 0px 1px 3px 1px rgba(60, 64, 67, 0.15);\n",
              "      fill: #174EA6;\n",
              "    }\n",
              "\n",
              "    [theme=dark] .colab-df-convert {\n",
              "      background-color: #3B4455;\n",
              "      fill: #D2E3FC;\n",
              "    }\n",
              "\n",
              "    [theme=dark] .colab-df-convert:hover {\n",
              "      background-color: #434B5C;\n",
              "      box-shadow: 0px 1px 3px 1px rgba(0, 0, 0, 0.15);\n",
              "      filter: drop-shadow(0px 1px 2px rgba(0, 0, 0, 0.3));\n",
              "      fill: #FFFFFF;\n",
              "    }\n",
              "  </style>\n",
              "\n",
              "      <script>\n",
              "        const buttonEl =\n",
              "          document.querySelector('#df-93932eff-cccd-4013-be35-2b1b6ba39f94 button.colab-df-convert');\n",
              "        buttonEl.style.display =\n",
              "          google.colab.kernel.accessAllowed ? 'block' : 'none';\n",
              "\n",
              "        async function convertToInteractive(key) {\n",
              "          const element = document.querySelector('#df-93932eff-cccd-4013-be35-2b1b6ba39f94');\n",
              "          const dataTable =\n",
              "            await google.colab.kernel.invokeFunction('convertToInteractive',\n",
              "                                                     [key], {});\n",
              "          if (!dataTable) return;\n",
              "\n",
              "          const docLinkHtml = 'Like what you see? Visit the ' +\n",
              "            '<a target=\"_blank\" href=https://colab.research.google.com/notebooks/data_table.ipynb>data table notebook</a>'\n",
              "            + ' to learn more about interactive tables.';\n",
              "          element.innerHTML = '';\n",
              "          dataTable['output_type'] = 'display_data';\n",
              "          await google.colab.output.renderOutput(dataTable, element);\n",
              "          const docLink = document.createElement('div');\n",
              "          docLink.innerHTML = docLinkHtml;\n",
              "          element.appendChild(docLink);\n",
              "        }\n",
              "      </script>\n",
              "    </div>\n",
              "  </div>\n",
              "  "
            ]
          },
          "metadata": {},
          "execution_count": 40
        }
      ]
    },
    {
      "cell_type": "markdown",
      "source": [
        "Let's look at the shape of the data."
      ],
      "metadata": {
        "id": "OAHH2hTHCBPW"
      }
    },
    {
      "cell_type": "code",
      "source": [
        "vol_train_images.shape"
      ],
      "metadata": {
        "colab": {
          "base_uri": "https://localhost:8080/"
        },
        "id": "ZEVl2p1kCBAo",
        "outputId": "04d72626-285f-402f-de29-42c44f91e217"
      },
      "execution_count": 41,
      "outputs": [
        {
          "output_type": "execute_result",
          "data": {
            "text/plain": [
              "(7000, 12100)"
            ]
          },
          "metadata": {},
          "execution_count": 41
        }
      ]
    },
    {
      "cell_type": "code",
      "source": [
        "vol_train_labels.shape"
      ],
      "metadata": {
        "colab": {
          "base_uri": "https://localhost:8080/"
        },
        "id": "l7Vrmp1rCAqx",
        "outputId": "f88faf65-a16e-4d27-abb7-af7689ced35e"
      },
      "execution_count": 42,
      "outputs": [
        {
          "output_type": "execute_result",
          "data": {
            "text/plain": [
              "(7000, 4)"
            ]
          },
          "metadata": {},
          "execution_count": 42
        }
      ]
    },
    {
      "cell_type": "code",
      "source": [
        "vol_test_images.shape"
      ],
      "metadata": {
        "colab": {
          "base_uri": "https://localhost:8080/"
        },
        "id": "bM5fvzb8CAgi",
        "outputId": "039f8aa8-3e61-4ae0-ae80-1d0d5516ad00"
      },
      "execution_count": 43,
      "outputs": [
        {
          "output_type": "execute_result",
          "data": {
            "text/plain": [
              "(2734, 12100)"
            ]
          },
          "metadata": {},
          "execution_count": 43
        }
      ]
    },
    {
      "cell_type": "code",
      "source": [
        "vol_test_labels.shape"
      ],
      "metadata": {
        "colab": {
          "base_uri": "https://localhost:8080/"
        },
        "id": "N6ke_ZMICAWE",
        "outputId": "9b112523-3f77-4003-df13-c43467da456a"
      },
      "execution_count": 44,
      "outputs": [
        {
          "output_type": "execute_result",
          "data": {
            "text/plain": [
              "(2734, 4)"
            ]
          },
          "metadata": {},
          "execution_count": 44
        }
      ]
    },
    {
      "cell_type": "markdown",
      "source": [
        "Let's reshape for the images.\n",
        "\n",
        "(We'll need to reshape the data differently for the learning model, but this is for displaying)\n",
        "\n",
        "The following implementation was taken from https://www.kaggle.com/code/fmena14/exploratory-analysis"
      ],
      "metadata": {
        "id": "nKAvOR_2CWHj"
      }
    },
    {
      "cell_type": "markdown",
      "source": [
        "But first, a quick example to explain the transpose step.\n",
        "\n",
        "Here's an example. The range is reshaped into a 4D array."
      ],
      "metadata": {
        "id": "mjnPbCpSNyHO"
      }
    },
    {
      "cell_type": "code",
      "source": [
        "x = np.arange(16).reshape(2,2,2,2)\n",
        "x"
      ],
      "metadata": {
        "colab": {
          "base_uri": "https://localhost:8080/"
        },
        "id": "27tRTe9BM8Z4",
        "outputId": "8593ae92-118d-435a-b2c2-539834e30464"
      },
      "execution_count": 45,
      "outputs": [
        {
          "output_type": "execute_result",
          "data": {
            "text/plain": [
              "array([[[[ 0,  1],\n",
              "         [ 2,  3]],\n",
              "\n",
              "        [[ 4,  5],\n",
              "         [ 6,  7]]],\n",
              "\n",
              "\n",
              "       [[[ 8,  9],\n",
              "         [10, 11]],\n",
              "\n",
              "        [[12, 13],\n",
              "         [14, 15]]]])"
            ]
          },
          "metadata": {},
          "execution_count": 45
        }
      ]
    },
    {
      "cell_type": "markdown",
      "source": [
        "In the output above, the values increase left to right in the first row and wrap to the second row.\n",
        "\n",
        "The next step is the same transpose step during the image reshaping process."
      ],
      "metadata": {
        "id": "YiaH75POOLbk"
      }
    },
    {
      "cell_type": "code",
      "source": [
        "x.transpose([0, 2, 3, 1])"
      ],
      "metadata": {
        "colab": {
          "base_uri": "https://localhost:8080/"
        },
        "id": "GEvYMUYdNOwn",
        "outputId": "39b4d0e6-e340-4f2c-90c1-1ef9e5147313"
      },
      "execution_count": 46,
      "outputs": [
        {
          "output_type": "execute_result",
          "data": {
            "text/plain": [
              "array([[[[ 0,  4],\n",
              "         [ 1,  5]],\n",
              "\n",
              "        [[ 2,  6],\n",
              "         [ 3,  7]]],\n",
              "\n",
              "\n",
              "       [[[ 8, 12],\n",
              "         [ 9, 13]],\n",
              "\n",
              "        [[10, 14],\n",
              "         [11, 15]]]])"
            ]
          },
          "metadata": {},
          "execution_count": 46
        }
      ]
    },
    {
      "cell_type": "markdown",
      "source": [
        "Notice how the values now increase top to bottom in the first column and wrap to the second column."
      ],
      "metadata": {
        "id": "hnrnhvkqOc8X"
      }
    },
    {
      "cell_type": "code",
      "source": [
        "# Reshape size = 7000, channel = 1, x = 110, y = 100\n",
        "vol_train_images_reshaped = vol_train_images.to_numpy().reshape(7000, 1, 110, 110)\n",
        "# Normalize values\n",
        "vol_train_images_reshaped = vol_train_images_reshaped.astype('float32') / 255\n",
        "# Transpose: the values are row-ranked, but need to be column ranked\n",
        "vol_train_images_reshaped = vol_train_images_reshaped.transpose([0, 2, 3, 1])\n",
        "# Display shape to ensure df has correct dimensions\n",
        "vol_train_images_reshaped.shape"
      ],
      "metadata": {
        "colab": {
          "base_uri": "https://localhost:8080/"
        },
        "id": "Tk-OvrRjCY4o",
        "outputId": "5633998e-295e-47fa-ead7-1227adef6962"
      },
      "execution_count": 47,
      "outputs": [
        {
          "output_type": "execute_result",
          "data": {
            "text/plain": [
              "(7000, 110, 110, 1)"
            ]
          },
          "metadata": {},
          "execution_count": 47
        }
      ]
    },
    {
      "cell_type": "code",
      "execution_count": 48,
      "metadata": {
        "id": "CfaIBXN_0HnQ",
        "colab": {
          "base_uri": "https://localhost:8080/"
        },
        "outputId": "ab4643f9-05e2-4d64-8eac-7a40e3aae72b"
      },
      "outputs": [
        {
          "output_type": "execute_result",
          "data": {
            "text/plain": [
              "(2734, 110, 110, 1)"
            ]
          },
          "metadata": {},
          "execution_count": 48
        }
      ],
      "source": [
        "# Reshape size = 2734, channel = 1, x = 110, y = 100\n",
        "vol_test_images_reshaped = vol_test_images.to_numpy().reshape(2734, 1, 110, 110)\n",
        "vol_test_images_reshaped = vol_test_images_reshaped.astype('float32') / 255\n",
        "vol_test_images_reshaped = vol_test_images_reshaped.transpose([0, 2, 3, 1])\n",
        "vol_test_images_reshaped.shape"
      ]
    },
    {
      "cell_type": "markdown",
      "source": [
        "Let's categorize the labels."
      ],
      "metadata": {
        "id": "evovvl9UDHSP"
      }
    },
    {
      "cell_type": "code",
      "source": [
        "vol_train_labels_cat = to_categorical(vol_train_labels['Volcano?'])\n",
        "vol_train_labels_cat[:3]"
      ],
      "metadata": {
        "colab": {
          "base_uri": "https://localhost:8080/"
        },
        "id": "DVjrG7kcDGqN",
        "outputId": "3d3ebb08-f7cc-4f50-dbc4-fb43b99abdd7"
      },
      "execution_count": 49,
      "outputs": [
        {
          "output_type": "execute_result",
          "data": {
            "text/plain": [
              "array([[0., 1.],\n",
              "       [1., 0.],\n",
              "       [1., 0.]], dtype=float32)"
            ]
          },
          "metadata": {},
          "execution_count": 49
        }
      ]
    },
    {
      "cell_type": "code",
      "execution_count": 50,
      "metadata": {
        "id": "HkepiU9S0HnS",
        "colab": {
          "base_uri": "https://localhost:8080/"
        },
        "outputId": "5aa00bb8-426d-4a65-f5c4-ab10472db213"
      },
      "outputs": [
        {
          "output_type": "execute_result",
          "data": {
            "text/plain": [
              "array([[1., 0.],\n",
              "       [1., 0.],\n",
              "       [0., 1.]], dtype=float32)"
            ]
          },
          "metadata": {},
          "execution_count": 50
        }
      ],
      "source": [
        "vol_test_labels_cat = to_categorical(vol_test_labels['Volcano?'])\n",
        "vol_test_labels_cat[:3]"
      ]
    },
    {
      "cell_type": "markdown",
      "source": [
        "Let's try to visualize a few."
      ],
      "metadata": {
        "id": "yzo0w3d-Dzbz"
      }
    },
    {
      "cell_type": "code",
      "source": [
        "import matplotlib.pyplot as plt"
      ],
      "metadata": {
        "id": "vp2fu876D2Lg"
      },
      "execution_count": 51,
      "outputs": []
    },
    {
      "cell_type": "code",
      "source": [
        "vol_image_42 = vol_train_images_reshaped[41]\n",
        "vol_image_4 = vol_train_images_reshaped[3]\n",
        "vol_image_8 = vol_train_images_reshaped[7]"
      ],
      "metadata": {
        "id": "4Ben-HZAD32F"
      },
      "execution_count": 52,
      "outputs": []
    },
    {
      "cell_type": "code",
      "source": [
        "figure, axes = plt.subplots(1, figsize=(8,3))\n",
        "axes.imshow(vol_image_42[:,:,0], cmap='gray')\n",
        "plt.show()"
      ],
      "metadata": {
        "colab": {
          "base_uri": "https://localhost:8080/",
          "height": 214
        },
        "id": "FqvRGhixEN0B",
        "outputId": "d12fc321-1b16-486b-c17f-e5694e634826"
      },
      "execution_count": 53,
      "outputs": [
        {
          "output_type": "display_data",
          "data": {
            "text/plain": [
              "<Figure size 576x216 with 1 Axes>"
            ],
            "image/png": "[encoded data removed]"
          },
          "metadata": {
            "needs_background": "light"
          }
        }
      ]
    },
    {
      "cell_type": "code",
      "source": [
        "figure, axes = plt.subplots(1, figsize=(8,3))\n",
        "axes.imshow(vol_image_4[:,:,0], cmap='gray')\n",
        "plt.show()"
      ],
      "metadata": {
        "colab": {
          "base_uri": "https://localhost:8080/",
          "height": 214
        },
        "id": "jF0jcBdWLBV0",
        "outputId": "39726a53-a96d-4437-cba5-ace7d1c191a1"
      },
      "execution_count": 54,
      "outputs": [
        {
          "output_type": "display_data",
          "data": {
            "text/plain": [
              "<Figure size 576x216 with 1 Axes>"
            ],
            "image/png": "[encoded data removed]"
          },
          "metadata": {
            "needs_background": "light"
          }
        }
      ]
    },
    {
      "cell_type": "code",
      "source": [
        "figure, axes = plt.subplots(1, figsize=(8,3))\n",
        "axes.imshow(vol_image_8[:,:,0], cmap='gray')\n",
        "plt.show()"
      ],
      "metadata": {
        "colab": {
          "base_uri": "https://localhost:8080/",
          "height": 214
        },
        "id": "Re0K9DnWSa_z",
        "outputId": "b0f42567-415a-4bc8-ad32-8df55d235a1e"
      },
      "execution_count": 55,
      "outputs": [
        {
          "output_type": "display_data",
          "data": {
            "text/plain": [
              "<Figure size 576x216 with 1 Axes>"
            ],
            "image/png": "[encoded data removed]"
          },
          "metadata": {
            "needs_background": "light"
          }
        }
      ]
    },
    {
      "cell_type": "markdown",
      "source": [
        "Let's shape for learning."
      ],
      "metadata": {
        "id": "LqqUepmtW-3d"
      }
    },
    {
      "cell_type": "code",
      "source": [
        "# Reshape\n",
        "vol_train_images_reshaped = vol_train_images.to_numpy().reshape(7000, 110 * 110)\n",
        "# Normalize values\n",
        "vol_train_images_reshaped = vol_train_images_reshaped.astype('float32') / 255\n",
        "# Display shape to ensure df has correct dimensions\n",
        "vol_train_images_reshaped.shape"
      ],
      "metadata": {
        "colab": {
          "base_uri": "https://localhost:8080/"
        },
        "id": "o-nyMTM0XBCz",
        "outputId": "52e4a598-47a6-4a45-f1a3-b063feb9ccfd"
      },
      "execution_count": 56,
      "outputs": [
        {
          "output_type": "execute_result",
          "data": {
            "text/plain": [
              "(7000, 12100)"
            ]
          },
          "metadata": {},
          "execution_count": 56
        }
      ]
    },
    {
      "cell_type": "code",
      "source": [
        "# Reshape\n",
        "vol_test_images_reshaped = vol_test_images.to_numpy().reshape(2734, 110 * 110)\n",
        "vol_test_images_reshaped = vol_test_images_reshaped.astype('float32') / 255\n",
        "vol_test_images_reshaped.shape"
      ],
      "metadata": {
        "colab": {
          "base_uri": "https://localhost:8080/"
        },
        "id": "DQQrnNQBXXLk",
        "outputId": "dbc8cc25-eabe-4562-b7d3-d70cfefc98da"
      },
      "execution_count": 57,
      "outputs": [
        {
          "output_type": "execute_result",
          "data": {
            "text/plain": [
              "(2734, 12100)"
            ]
          },
          "metadata": {},
          "execution_count": 57
        }
      ]
    },
    {
      "cell_type": "markdown",
      "source": [
        "Hidden Layers\n",
        "\n",
        "* Build a model with one hidden layer. Train it for 2 epochs. What is it's accuracy?"
      ],
      "metadata": {
        "id": "u6wbtkDJTNPy"
      }
    },
    {
      "cell_type": "code",
      "source": [
        "input_size = 110 * 110 \n",
        "hidden_size = 256\n",
        "output_size = 4\n",
        "\n",
        "vol_1_hid_network = models.Sequential()\n",
        "vol_1_hid_network.add(layers.Dense(hidden_size, activation='relu', input_shape=(input_size,)))\n",
        "vol_1_hid_network.add(layers.Dense(output_size, activation='softmax'))\n",
        "\n",
        "vol_1_hid_network.compile(optimizer='rmsprop',\n",
        "                loss='categorical_crossentropy',\n",
        "                metrics=['accuracy'])"
      ],
      "metadata": {
        "id": "RrrrSUB1TMoX"
      },
      "execution_count": 58,
      "outputs": []
    },
    {
      "cell_type": "code",
      "source": [
        "vol_1_hid_network.fit(vol_train_images_reshaped, vol_train_labels, epochs=2, batch_size=128)"
      ],
      "metadata": {
        "colab": {
          "base_uri": "https://localhost:8080/"
        },
        "id": "gprPU8NXT4G_",
        "outputId": "acca4b2e-990b-485e-df70-6933c2c7e9f2"
      },
      "execution_count": 59,
      "outputs": [
        {
          "output_type": "stream",
          "name": "stdout",
          "text": [
            "Epoch 1/2\n",
            "55/55 [==============================] - 1s 7ms/step - loss: nan - accuracy: 0.8419\n",
            "Epoch 2/2\n",
            "55/55 [==============================] - 0s 6ms/step - loss: nan - accuracy: 0.8571\n"
          ]
        },
        {
          "output_type": "execute_result",
          "data": {
            "text/plain": [
              "<keras.callbacks.History at 0x7f14d0810750>"
            ]
          },
          "metadata": {},
          "execution_count": 59
        }
      ]
    },
    {
      "cell_type": "code",
      "source": [
        "vol_test_loss, vol_test_acc = vol_1_hid_network.evaluate(vol_test_images_reshaped, vol_test_labels)\n",
        "print('vol_test_acc:', vol_test_acc)"
      ],
      "metadata": {
        "colab": {
          "base_uri": "https://localhost:8080/"
        },
        "id": "dFPPlrzST949",
        "outputId": "e4f5d247-ed62-4c74-8bfe-dd2df149e478"
      },
      "execution_count": 60,
      "outputs": [
        {
          "output_type": "stream",
          "name": "stdout",
          "text": [
            "86/86 [==============================] - 0s 3ms/step - loss: nan - accuracy: 0.8413\n",
            "vol_test_acc: 0.8412582278251648\n"
          ]
        }
      ]
    },
    {
      "cell_type": "markdown",
      "source": [
        "* Build a model with one hidden layer. Train it for 10 epochs. What is it's accuracy?"
      ],
      "metadata": {
        "id": "9huftR8PX-Uk"
      }
    },
    {
      "cell_type": "code",
      "source": [
        "vol_1_hid_network.fit(vol_train_images_reshaped, vol_train_labels, epochs=10, batch_size=128)"
      ],
      "metadata": {
        "colab": {
          "base_uri": "https://localhost:8080/"
        },
        "id": "JnKfprJoX7XB",
        "outputId": "142f5520-2805-4d49-d278-4265a17b40ef"
      },
      "execution_count": 61,
      "outputs": [
        {
          "output_type": "stream",
          "name": "stdout",
          "text": [
            "Epoch 1/10\n",
            "55/55 [==============================] - 0s 7ms/step - loss: nan - accuracy: 0.8571\n",
            "Epoch 2/10\n",
            "55/55 [==============================] - 0s 6ms/step - loss: nan - accuracy: 0.8571\n",
            "Epoch 3/10\n",
            "55/55 [==============================] - 0s 6ms/step - loss: nan - accuracy: 0.8571\n",
            "Epoch 4/10\n",
            "55/55 [==============================] - 0s 7ms/step - loss: nan - accuracy: 0.8571\n",
            "Epoch 5/10\n",
            "55/55 [==============================] - 0s 6ms/step - loss: nan - accuracy: 0.8571\n",
            "Epoch 6/10\n",
            "55/55 [==============================] - 0s 6ms/step - loss: nan - accuracy: 0.8571\n",
            "Epoch 7/10\n",
            "55/55 [==============================] - 0s 6ms/step - loss: nan - accuracy: 0.8571\n",
            "Epoch 8/10\n",
            "55/55 [==============================] - 0s 6ms/step - loss: nan - accuracy: 0.8571\n",
            "Epoch 9/10\n",
            "55/55 [==============================] - 0s 6ms/step - loss: nan - accuracy: 0.8571\n",
            "Epoch 10/10\n",
            "55/55 [==============================] - 0s 6ms/step - loss: nan - accuracy: 0.8571\n"
          ]
        },
        {
          "output_type": "execute_result",
          "data": {
            "text/plain": [
              "<keras.callbacks.History at 0x7f140d7951d0>"
            ]
          },
          "metadata": {},
          "execution_count": 61
        }
      ]
    },
    {
      "cell_type": "code",
      "source": [
        "vol_test_loss, vol_test_acc = vol_1_hid_network.evaluate(vol_test_images_reshaped, vol_test_labels)\n",
        "print('vol_test_acc:', vol_test_acc)"
      ],
      "metadata": {
        "colab": {
          "base_uri": "https://localhost:8080/"
        },
        "id": "TzGcl-HCjogX",
        "outputId": "b47a7a64-09af-4093-cfe8-5184fc1e4e78"
      },
      "execution_count": 62,
      "outputs": [
        {
          "output_type": "stream",
          "name": "stdout",
          "text": [
            "86/86 [==============================] - 0s 3ms/step - loss: nan - accuracy: 0.8413\n",
            "vol_test_acc: 0.8412582278251648\n"
          ]
        }
      ]
    },
    {
      "cell_type": "markdown",
      "source": [
        "* Does increasing the epochs beyond 10 improve accuracy?"
      ],
      "metadata": {
        "id": "58tCezsPYAuB"
      }
    },
    {
      "cell_type": "code",
      "source": [
        "# No, increasing the epcohs did not improve the accuracy\n",
        "# 2 Epochs: 0.8412582278251648\n",
        "# 10 Epochs: 0.8412582278251648"
      ],
      "metadata": {
        "id": "7AJggx5DYCUn"
      },
      "execution_count": 63,
      "outputs": []
    },
    {
      "cell_type": "markdown",
      "source": [
        "* Build a model with 2 hidden layers and test."
      ],
      "metadata": {
        "id": "PFzPLNS7YCwQ"
      }
    },
    {
      "cell_type": "code",
      "source": [
        "input_size = 110 * 110 \n",
        "hidden_size = [512, 256]\n",
        "output_size = 4\n",
        "\n",
        "vol_2_hid_network = models.Sequential()\n",
        "vol_2_hid_network.add(layers.Dense(hidden_size[0], activation='relu', input_shape=(input_size,)))\n",
        "vol_2_hid_network.add(layers.Dense(hidden_size[1], activation='relu'))\n",
        "vol_2_hid_network.add(layers.Dense(output_size, activation='softmax'))\n",
        "\n",
        "vol_2_hid_network.compile(optimizer='rmsprop',\n",
        "                loss='categorical_crossentropy',\n",
        "                metrics=['accuracy'])"
      ],
      "metadata": {
        "id": "yn_gng36YDwM"
      },
      "execution_count": 64,
      "outputs": []
    },
    {
      "cell_type": "code",
      "source": [
        "vol_2_hid_network.fit(vol_train_images_reshaped, vol_train_labels, epochs=10, batch_size=128)"
      ],
      "metadata": {
        "colab": {
          "base_uri": "https://localhost:8080/"
        },
        "id": "Yuk_sYCfjm7k",
        "outputId": "1835b9a7-3285-4a63-c940-68c1015a7cc7"
      },
      "execution_count": 65,
      "outputs": [
        {
          "output_type": "stream",
          "name": "stdout",
          "text": [
            "Epoch 1/10\n",
            "55/55 [==============================] - 1s 9ms/step - loss: nan - accuracy: 0.8571\n",
            "Epoch 2/10\n",
            "55/55 [==============================] - 0s 8ms/step - loss: nan - accuracy: 0.8571\n",
            "Epoch 3/10\n",
            "55/55 [==============================] - 0s 7ms/step - loss: nan - accuracy: 0.8571\n",
            "Epoch 4/10\n",
            "55/55 [==============================] - 0s 8ms/step - loss: nan - accuracy: 0.8571\n",
            "Epoch 5/10\n",
            "55/55 [==============================] - 0s 7ms/step - loss: nan - accuracy: 0.8571\n",
            "Epoch 6/10\n",
            "55/55 [==============================] - 0s 8ms/step - loss: nan - accuracy: 0.8571\n",
            "Epoch 7/10\n",
            "55/55 [==============================] - 0s 7ms/step - loss: nan - accuracy: 0.8571\n",
            "Epoch 8/10\n",
            "55/55 [==============================] - 0s 7ms/step - loss: nan - accuracy: 0.8571\n",
            "Epoch 9/10\n",
            "55/55 [==============================] - 0s 7ms/step - loss: nan - accuracy: 0.8571\n",
            "Epoch 10/10\n",
            "55/55 [==============================] - 0s 7ms/step - loss: nan - accuracy: 0.8571\n"
          ]
        },
        {
          "output_type": "execute_result",
          "data": {
            "text/plain": [
              "<keras.callbacks.History at 0x7f14300ce750>"
            ]
          },
          "metadata": {},
          "execution_count": 65
        }
      ]
    },
    {
      "cell_type": "code",
      "source": [
        "vol_test_loss, vol_test_acc = vol_2_hid_network.evaluate(vol_test_images_reshaped, vol_test_labels)\n",
        "print('vol_test_acc:', vol_test_acc)"
      ],
      "metadata": {
        "colab": {
          "base_uri": "https://localhost:8080/"
        },
        "id": "oFnUe0ctjrrY",
        "outputId": "62b96e3c-eca4-4c20-b7cf-4ea1fb83701d"
      },
      "execution_count": 66,
      "outputs": [
        {
          "output_type": "stream",
          "name": "stdout",
          "text": [
            "86/86 [==============================] - 0s 3ms/step - loss: nan - accuracy: 0.8413\n",
            "vol_test_acc: 0.8412582278251648\n"
          ]
        }
      ]
    },
    {
      "cell_type": "markdown",
      "metadata": {
        "id": "1oPtUCBi0HnU"
      },
      "source": [
        "#### Remix\n",
        "Remix by Ron Zacharski. Orginal Python notebook by François Chollet\n",
        "\n",
        "### MIT License\n",
        "\n",
        "Copyright (c) 2017 François Chollet\n",
        "\n",
        "Permission is hereby granted, free of charge, to any person obtaining a copy\n",
        "of this software and associated documentation files (the \"Software\"), to deal\n",
        "in the Software without restriction, including without limitation the rights\n",
        "to use, copy, modify, merge, publish, distribute, sublicense, and/or sell\n",
        "copies of the Software, and to permit persons to whom the Software is\n",
        "furnished to do so, subject to the following conditions:\n",
        "\n",
        "The above copyright notice and this permission notice shall be included in all\n",
        "copies or substantial portions of the Software.\n",
        "\n",
        "THE SOFTWARE IS PROVIDED \"AS IS\", WITHOUT WARRANTY OF ANY KIND, EXPRESS OR\n",
        "IMPLIED, INCLUDING BUT NOT LIMITED TO THE WARRANTIES OF MERCHANTABILITY,\n",
        "FITNESS FOR A PARTICULAR PURPOSE AND NONINFRINGEMENT. IN NO EVENT SHALL THE\n",
        "AUTHORS OR COPYRIGHT HOLDERS BE LIABLE FOR ANY CLAIM, DAMAGES OR OTHER\n",
        "LIABILITY, WHETHER IN AN ACTION OF CONTRACT, TORT OR OTHERWISE, ARISING FROM,\n",
        "OUT OF OR IN CONNECTION WITH THE SOFTWARE OR THE USE OR OTHER DEALINGS IN THE\n",
        "SOFTWARE."
      ]
    }
  ],
  "metadata": {
    "accelerator": "GPU",
    "colab": {
      "provenance": [],
      "include_colab_link": true
    },
    "kernelspec": {
      "display_name": "Python 3 (ipykernel)",
      "language": "python",
      "name": "python3"
    },
    "language_info": {
      "codemirror_mode": {
        "name": "ipython",
        "version": 3
      },
      "file_extension": ".py",
      "mimetype": "text/x-python",
      "name": "python",
      "nbconvert_exporter": "python",
      "pygments_lexer": "ipython3",
      "version": "3.9.12"
    },
    "gpuClass": "standard"
  },
  "nbformat": 4,
  "nbformat_minor": 0
}