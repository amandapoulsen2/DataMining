{
  "nbformat": 4,
  "nbformat_minor": 0,
  "metadata": {
    "colab": {
      "provenance": [],
      "include_colab_link": true
    },
    "kernelspec": {
      "name": "python3",
      "display_name": "Python 3"
    },
    "language_info": {
      "name": "python"
    },
    "accelerator": "GPU",
    "gpuClass": "standard"
  },
  "cells": [
    {
      "cell_type": "markdown",
      "metadata": {
        "id": "view-in-github",
        "colab_type": "text"
      },
      "source": [
        "<a href=\"https://colab.research.google.com/github/mandimarquardt/DataMining/blob/main/crate_and_barrel/crate_and_barrel_project.ipynb\" target=\"_parent\"><img src=\"https://colab.research.google.com/assets/colab-badge.svg\" alt=\"Open In Colab\"/></a>"
      ]
    },
    {
      "cell_type": "markdown",
      "source": [
        "# Crate and Barrel Project\n",
        "\n",
        "This notebook will explore a Crate and Barrel product dataset supplied by Kaggle for a competition. The dataset contains features for the product and the class to which the product belongs. The notebook will explore the dataset and then build models to predict product classes.\n",
        "\n",
        "Contents:\n",
        "\n",
        "1.   Import Necessary Libraries\n",
        "2.   Import the Data\n",
        "3.   Data Analysis\n",
        "4.   Data Visualization\n",
        "5.   Cleaning Data\n",
        "6.   Base Model\n",
        "7.   Dense Neural Network (DNN)\n",
        "8.   Conclusion\n",
        "9.   Kaggle Submission\n",
        "\n"
      ],
      "metadata": {
        "id": "741-CHxRRi_i"
      }
    },
    {
      "cell_type": "markdown",
      "source": [
        "## 1) Import Necessary Libraries\n",
        "\n",
        "### Runtime\n",
        "\n",
        "Before we import libraries, let's ensure the runtime for this notebook is set to GPU. Without the GPU runtime, the Dense Neural Network (DNN) will not run.\n",
        "\n",
        "If the following command produces a failure, do not proceed until the runtime has been set to GPU."
      ],
      "metadata": {
        "id": "fu0MsINPSv7l"
      }
    },
    {
      "cell_type": "code",
      "source": [
        "# Prove this notebook has GPU has the runtime type. If this fails, DNN will not work.\n",
        "!nvidia-smi"
      ],
      "metadata": {
        "id": "W9UXvRaiLUev",
        "colab": {
          "base_uri": "https://localhost:8080/"
        },
        "outputId": "93b9f2d3-e8c0-4814-b669-0e21453fe7d2"
      },
      "execution_count": 1,
      "outputs": [
        {
          "output_type": "stream",
          "name": "stdout",
          "text": [
            "Wed Nov 23 21:47:35 2022       \n",
            "+-----------------------------------------------------------------------------+\n",
            "| NVIDIA-SMI 460.32.03    Driver Version: 460.32.03    CUDA Version: 11.2     |\n",
            "|-------------------------------+----------------------+----------------------+\n",
            "| GPU  Name        Persistence-M| Bus-Id        Disp.A | Volatile Uncorr. ECC |\n",
            "| Fan  Temp  Perf  Pwr:Usage/Cap|         Memory-Usage | GPU-Util  Compute M. |\n",
            "|                               |                      |               MIG M. |\n",
            "|===============================+======================+======================|\n",
            "|   0  Tesla T4            Off  | 00000000:00:04.0 Off |                    0 |\n",
            "| N/A   60C    P8    10W /  70W |      0MiB / 15109MiB |      0%      Default |\n",
            "|                               |                      |                  N/A |\n",
            "+-------------------------------+----------------------+----------------------+\n",
            "                                                                               \n",
            "+-----------------------------------------------------------------------------+\n",
            "| Processes:                                                                  |\n",
            "|  GPU   GI   CI        PID   Type   Process name                  GPU Memory |\n",
            "|        ID   ID                                                   Usage      |\n",
            "|=============================================================================|\n",
            "|  No running processes found                                                 |\n",
            "+-----------------------------------------------------------------------------+\n"
          ]
        }
      ]
    },
    {
      "cell_type": "markdown",
      "source": [
        "### Import Libraries\n",
        "\n",
        "This project will utilize various data anaylsis and machine learning Python libraries.\n",
        "\n"
      ],
      "metadata": {
        "id": "IW2JahfwT22d"
      }
    },
    {
      "cell_type": "code",
      "source": [
        "# Data analysis libraries\n",
        "import pandas as pd\n",
        "import numpy as np\n",
        "\n",
        "# Visualizing data\n",
        "import seaborn as sns\n",
        "\n",
        "# Machine learning libraries\n",
        "from sklearn.preprocessing import MinMaxScaler\n",
        "from sklearn.model_selection import train_test_split\n",
        "from sklearn.neighbors import KNeighborsClassifier\n",
        "from sklearn.metrics import accuracy_score\n",
        "from keras import models, layers, optimizers\n",
        "from keras.utils import to_categorical"
      ],
      "metadata": {
        "id": "CAzT7RLbcxBW"
      },
      "execution_count": 2,
      "outputs": []
    },
    {
      "cell_type": "markdown",
      "source": [
        "## 2) Import the Data\n"
      ],
      "metadata": {
        "id": "4-lmZu3JWlM4"
      }
    },
    {
      "cell_type": "markdown",
      "source": [
        "### Upload Data\n",
        "\n",
        "Upload `train.csv`, `test.csv`, and `sampleSubmission.csv` to the local drive. These csv file can be found by downloading them from Kaggle: https://www.kaggle.com/c/otto-group-product-classification-challenge/data?select=train.csv.\n",
        "\n",
        "Note, the csv files can only be downloaded after registration."
      ],
      "metadata": {
        "id": "SXfAxQlEVIA6"
      }
    },
    {
      "cell_type": "code",
      "source": [
        "# Show train.csv, test.csv, and sampleSubmission.csv exists locally\n",
        "!ls"
      ],
      "metadata": {
        "colab": {
          "base_uri": "https://localhost:8080/"
        },
        "id": "IOhGnlwGcvOQ",
        "outputId": "19bd0be5-80cb-4a8e-8aa6-51cd11cf692d"
      },
      "execution_count": 3,
      "outputs": [
        {
          "output_type": "stream",
          "name": "stdout",
          "text": [
            "sample_data  sampleSubmission.csv  test.csv  train.csv\n"
          ]
        }
      ]
    },
    {
      "cell_type": "markdown",
      "source": [
        "### Pandas\n",
        "\n",
        "[Pandas](https://pandas.pydata.org/docs/reference/index.html) provides an easy way to read the contents of a csv file and instantiate an object, in this case a [DataFrame](https://pandas.pydata.org/docs/reference/api/pandas.DataFrame.html), that allows for easy manipulation of data. Plus, the machine learning libraries used in this notebook expect the data to be in a 2d array, which is how the contents are store in the DataFrame."
      ],
      "metadata": {
        "id": "57amNmjZEC05"
      }
    },
    {
      "cell_type": "code",
      "source": [
        "# Instantiate train dataframe\n",
        "train = pd.read_csv('train.csv')\n",
        "train"
      ],
      "metadata": {
        "colab": {
          "base_uri": "https://localhost:8080/",
          "height": 488
        },
        "id": "YPC5LS73c2pO",
        "outputId": "af738a6f-0890-4347-d1a8-0ffe98f4c6a3"
      },
      "execution_count": 4,
      "outputs": [
        {
          "output_type": "execute_result",
          "data": {
            "text/plain": [
              "          id  feat_1  feat_2  feat_3  feat_4  feat_5  feat_6  feat_7  feat_8  \\\n",
              "0          1       1       0       0       0       0       0       0       0   \n",
              "1          2       0       0       0       0       0       0       0       1   \n",
              "2          3       0       0       0       0       0       0       0       1   \n",
              "3          4       1       0       0       1       6       1       5       0   \n",
              "4          5       0       0       0       0       0       0       0       0   \n",
              "...      ...     ...     ...     ...     ...     ...     ...     ...     ...   \n",
              "61873  61874       1       0       0       1       1       0       0       0   \n",
              "61874  61875       4       0       0       0       0       0       0       0   \n",
              "61875  61876       0       0       0       0       0       0       0       3   \n",
              "61876  61877       1       0       0       0       0       0       0       0   \n",
              "61877  61878       0       0       0       0       0       0       0       0   \n",
              "\n",
              "       feat_9  ...  feat_85  feat_86  feat_87  feat_88  feat_89  feat_90  \\\n",
              "0           0  ...        1        0        0        0        0        0   \n",
              "1           0  ...        0        0        0        0        0        0   \n",
              "2           0  ...        0        0        0        0        0        0   \n",
              "3           0  ...        0        1        2        0        0        0   \n",
              "4           0  ...        1        0        0        0        0        1   \n",
              "...       ...  ...      ...      ...      ...      ...      ...      ...   \n",
              "61873       0  ...        1        0        0        0        0        0   \n",
              "61874       0  ...        0        2        0        0        2        0   \n",
              "61875       1  ...        0        3        1        0        0        0   \n",
              "61876       0  ...        0        0        0        0        1        0   \n",
              "61877       0  ...        0        0        0        0        0        0   \n",
              "\n",
              "       feat_91  feat_92  feat_93   target  \n",
              "0            0        0        0  Class_1  \n",
              "1            0        0        0  Class_1  \n",
              "2            0        0        0  Class_1  \n",
              "3            0        0        0  Class_1  \n",
              "4            0        0        0  Class_1  \n",
              "...        ...      ...      ...      ...  \n",
              "61873        0        2        0  Class_9  \n",
              "61874        0        1        0  Class_9  \n",
              "61875        0        0        0  Class_9  \n",
              "61876        3       10        0  Class_9  \n",
              "61877        0        2        0  Class_9  \n",
              "\n",
              "[61878 rows x 95 columns]"
            ],
            "text/html": [
              "\n",
              "  <div id=\"df-7daa32bf-c270-4573-9699-3a18b719b728\">\n",
              "    <div class=\"colab-df-container\">\n",
              "      <div>\n",
              "<style scoped>\n",
              "    .dataframe tbody tr th:only-of-type {\n",
              "        vertical-align: middle;\n",
              "    }\n",
              "\n",
              "    .dataframe tbody tr th {\n",
              "        vertical-align: top;\n",
              "    }\n",
              "\n",
              "    .dataframe thead th {\n",
              "        text-align: right;\n",
              "    }\n",
              "</style>\n",
              "<table border=\"1\" class=\"dataframe\">\n",
              "  <thead>\n",
              "    <tr style=\"text-align: right;\">\n",
              "      <th></th>\n",
              "      <th>id</th>\n",
              "      <th>feat_1</th>\n",
              "      <th>feat_2</th>\n",
              "      <th>feat_3</th>\n",
              "      <th>feat_4</th>\n",
              "      <th>feat_5</th>\n",
              "      <th>feat_6</th>\n",
              "      <th>feat_7</th>\n",
              "      <th>feat_8</th>\n",
              "      <th>feat_9</th>\n",
              "      <th>...</th>\n",
              "      <th>feat_85</th>\n",
              "      <th>feat_86</th>\n",
              "      <th>feat_87</th>\n",
              "      <th>feat_88</th>\n",
              "      <th>feat_89</th>\n",
              "      <th>feat_90</th>\n",
              "      <th>feat_91</th>\n",
              "      <th>feat_92</th>\n",
              "      <th>feat_93</th>\n",
              "      <th>target</th>\n",
              "    </tr>\n",
              "  </thead>\n",
              "  <tbody>\n",
              "    <tr>\n",
              "      <th>0</th>\n",
              "      <td>1</td>\n",
              "      <td>1</td>\n",
              "      <td>0</td>\n",
              "      <td>0</td>\n",
              "      <td>0</td>\n",
              "      <td>0</td>\n",
              "      <td>0</td>\n",
              "      <td>0</td>\n",
              "      <td>0</td>\n",
              "      <td>0</td>\n",
              "      <td>...</td>\n",
              "      <td>1</td>\n",
              "      <td>0</td>\n",
              "      <td>0</td>\n",
              "      <td>0</td>\n",
              "      <td>0</td>\n",
              "      <td>0</td>\n",
              "      <td>0</td>\n",
              "      <td>0</td>\n",
              "      <td>0</td>\n",
              "      <td>Class_1</td>\n",
              "    </tr>\n",
              "    <tr>\n",
              "      <th>1</th>\n",
              "      <td>2</td>\n",
              "      <td>0</td>\n",
              "      <td>0</td>\n",
              "      <td>0</td>\n",
              "      <td>0</td>\n",
              "      <td>0</td>\n",
              "      <td>0</td>\n",
              "      <td>0</td>\n",
              "      <td>1</td>\n",
              "      <td>0</td>\n",
              "      <td>...</td>\n",
              "      <td>0</td>\n",
              "      <td>0</td>\n",
              "      <td>0</td>\n",
              "      <td>0</td>\n",
              "      <td>0</td>\n",
              "      <td>0</td>\n",
              "      <td>0</td>\n",
              "      <td>0</td>\n",
              "      <td>0</td>\n",
              "      <td>Class_1</td>\n",
              "    </tr>\n",
              "    <tr>\n",
              "      <th>2</th>\n",
              "      <td>3</td>\n",
              "      <td>0</td>\n",
              "      <td>0</td>\n",
              "      <td>0</td>\n",
              "      <td>0</td>\n",
              "      <td>0</td>\n",
              "      <td>0</td>\n",
              "      <td>0</td>\n",
              "      <td>1</td>\n",
              "      <td>0</td>\n",
              "      <td>...</td>\n",
              "      <td>0</td>\n",
              "      <td>0</td>\n",
              "      <td>0</td>\n",
              "      <td>0</td>\n",
              "      <td>0</td>\n",
              "      <td>0</td>\n",
              "      <td>0</td>\n",
              "      <td>0</td>\n",
              "      <td>0</td>\n",
              "      <td>Class_1</td>\n",
              "    </tr>\n",
              "    <tr>\n",
              "      <th>3</th>\n",
              "      <td>4</td>\n",
              "      <td>1</td>\n",
              "      <td>0</td>\n",
              "      <td>0</td>\n",
              "      <td>1</td>\n",
              "      <td>6</td>\n",
              "      <td>1</td>\n",
              "      <td>5</td>\n",
              "      <td>0</td>\n",
              "      <td>0</td>\n",
              "      <td>...</td>\n",
              "      <td>0</td>\n",
              "      <td>1</td>\n",
              "      <td>2</td>\n",
              "      <td>0</td>\n",
              "      <td>0</td>\n",
              "      <td>0</td>\n",
              "      <td>0</td>\n",
              "      <td>0</td>\n",
              "      <td>0</td>\n",
              "      <td>Class_1</td>\n",
              "    </tr>\n",
              "    <tr>\n",
              "      <th>4</th>\n",
              "      <td>5</td>\n",
              "      <td>0</td>\n",
              "      <td>0</td>\n",
              "      <td>0</td>\n",
              "      <td>0</td>\n",
              "      <td>0</td>\n",
              "      <td>0</td>\n",
              "      <td>0</td>\n",
              "      <td>0</td>\n",
              "      <td>0</td>\n",
              "      <td>...</td>\n",
              "      <td>1</td>\n",
              "      <td>0</td>\n",
              "      <td>0</td>\n",
              "      <td>0</td>\n",
              "      <td>0</td>\n",
              "      <td>1</td>\n",
              "      <td>0</td>\n",
              "      <td>0</td>\n",
              "      <td>0</td>\n",
              "      <td>Class_1</td>\n",
              "    </tr>\n",
              "    <tr>\n",
              "      <th>...</th>\n",
              "      <td>...</td>\n",
              "      <td>...</td>\n",
              "      <td>...</td>\n",
              "      <td>...</td>\n",
              "      <td>...</td>\n",
              "      <td>...</td>\n",
              "      <td>...</td>\n",
              "      <td>...</td>\n",
              "      <td>...</td>\n",
              "      <td>...</td>\n",
              "      <td>...</td>\n",
              "      <td>...</td>\n",
              "      <td>...</td>\n",
              "      <td>...</td>\n",
              "      <td>...</td>\n",
              "      <td>...</td>\n",
              "      <td>...</td>\n",
              "      <td>...</td>\n",
              "      <td>...</td>\n",
              "      <td>...</td>\n",
              "      <td>...</td>\n",
              "    </tr>\n",
              "    <tr>\n",
              "      <th>61873</th>\n",
              "      <td>61874</td>\n",
              "      <td>1</td>\n",
              "      <td>0</td>\n",
              "      <td>0</td>\n",
              "      <td>1</td>\n",
              "      <td>1</td>\n",
              "      <td>0</td>\n",
              "      <td>0</td>\n",
              "      <td>0</td>\n",
              "      <td>0</td>\n",
              "      <td>...</td>\n",
              "      <td>1</td>\n",
              "      <td>0</td>\n",
              "      <td>0</td>\n",
              "      <td>0</td>\n",
              "      <td>0</td>\n",
              "      <td>0</td>\n",
              "      <td>0</td>\n",
              "      <td>2</td>\n",
              "      <td>0</td>\n",
              "      <td>Class_9</td>\n",
              "    </tr>\n",
              "    <tr>\n",
              "      <th>61874</th>\n",
              "      <td>61875</td>\n",
              "      <td>4</td>\n",
              "      <td>0</td>\n",
              "      <td>0</td>\n",
              "      <td>0</td>\n",
              "      <td>0</td>\n",
              "      <td>0</td>\n",
              "      <td>0</td>\n",
              "      <td>0</td>\n",
              "      <td>0</td>\n",
              "      <td>...</td>\n",
              "      <td>0</td>\n",
              "      <td>2</td>\n",
              "      <td>0</td>\n",
              "      <td>0</td>\n",
              "      <td>2</td>\n",
              "      <td>0</td>\n",
              "      <td>0</td>\n",
              "      <td>1</td>\n",
              "      <td>0</td>\n",
              "      <td>Class_9</td>\n",
              "    </tr>\n",
              "    <tr>\n",
              "      <th>61875</th>\n",
              "      <td>61876</td>\n",
              "      <td>0</td>\n",
              "      <td>0</td>\n",
              "      <td>0</td>\n",
              "      <td>0</td>\n",
              "      <td>0</td>\n",
              "      <td>0</td>\n",
              "      <td>0</td>\n",
              "      <td>3</td>\n",
              "      <td>1</td>\n",
              "      <td>...</td>\n",
              "      <td>0</td>\n",
              "      <td>3</td>\n",
              "      <td>1</td>\n",
              "      <td>0</td>\n",
              "      <td>0</td>\n",
              "      <td>0</td>\n",
              "      <td>0</td>\n",
              "      <td>0</td>\n",
              "      <td>0</td>\n",
              "      <td>Class_9</td>\n",
              "    </tr>\n",
              "    <tr>\n",
              "      <th>61876</th>\n",
              "      <td>61877</td>\n",
              "      <td>1</td>\n",
              "      <td>0</td>\n",
              "      <td>0</td>\n",
              "      <td>0</td>\n",
              "      <td>0</td>\n",
              "      <td>0</td>\n",
              "      <td>0</td>\n",
              "      <td>0</td>\n",
              "      <td>0</td>\n",
              "      <td>...</td>\n",
              "      <td>0</td>\n",
              "      <td>0</td>\n",
              "      <td>0</td>\n",
              "      <td>0</td>\n",
              "      <td>1</td>\n",
              "      <td>0</td>\n",
              "      <td>3</td>\n",
              "      <td>10</td>\n",
              "      <td>0</td>\n",
              "      <td>Class_9</td>\n",
              "    </tr>\n",
              "    <tr>\n",
              "      <th>61877</th>\n",
              "      <td>61878</td>\n",
              "      <td>0</td>\n",
              "      <td>0</td>\n",
              "      <td>0</td>\n",
              "      <td>0</td>\n",
              "      <td>0</td>\n",
              "      <td>0</td>\n",
              "      <td>0</td>\n",
              "      <td>0</td>\n",
              "      <td>0</td>\n",
              "      <td>...</td>\n",
              "      <td>0</td>\n",
              "      <td>0</td>\n",
              "      <td>0</td>\n",
              "      <td>0</td>\n",
              "      <td>0</td>\n",
              "      <td>0</td>\n",
              "      <td>0</td>\n",
              "      <td>2</td>\n",
              "      <td>0</td>\n",
              "      <td>Class_9</td>\n",
              "    </tr>\n",
              "  </tbody>\n",
              "</table>\n",
              "<p>61878 rows × 95 columns</p>\n",
              "</div>\n",
              "      <button class=\"colab-df-convert\" onclick=\"convertToInteractive('df-7daa32bf-c270-4573-9699-3a18b719b728')\"\n",
              "              title=\"Convert this dataframe to an interactive table.\"\n",
              "              style=\"display:none;\">\n",
              "        \n",
              "  <svg xmlns=\"http://www.w3.org/2000/svg\" height=\"24px\"viewBox=\"0 0 24 24\"\n",
              "       width=\"24px\">\n",
              "    <path d=\"M0 0h24v24H0V0z\" fill=\"none\"/>\n",
              "    <path d=\"M18.56 5.44l.94 2.06.94-2.06 2.06-.94-2.06-.94-.94-2.06-.94 2.06-2.06.94zm-11 1L8.5 8.5l.94-2.06 2.06-.94-2.06-.94L8.5 2.5l-.94 2.06-2.06.94zm10 10l.94 2.06.94-2.06 2.06-.94-2.06-.94-.94-2.06-.94 2.06-2.06.94z\"/><path d=\"M17.41 7.96l-1.37-1.37c-.4-.4-.92-.59-1.43-.59-.52 0-1.04.2-1.43.59L10.3 9.45l-7.72 7.72c-.78.78-.78 2.05 0 2.83L4 21.41c.39.39.9.59 1.41.59.51 0 1.02-.2 1.41-.59l7.78-7.78 2.81-2.81c.8-.78.8-2.07 0-2.86zM5.41 20L4 18.59l7.72-7.72 1.47 1.35L5.41 20z\"/>\n",
              "  </svg>\n",
              "      </button>\n",
              "      \n",
              "  <style>\n",
              "    .colab-df-container {\n",
              "      display:flex;\n",
              "      flex-wrap:wrap;\n",
              "      gap: 12px;\n",
              "    }\n",
              "\n",
              "    .colab-df-convert {\n",
              "      background-color: #E8F0FE;\n",
              "      border: none;\n",
              "      border-radius: 50%;\n",
              "      cursor: pointer;\n",
              "      display: none;\n",
              "      fill: #1967D2;\n",
              "      height: 32px;\n",
              "      padding: 0 0 0 0;\n",
              "      width: 32px;\n",
              "    }\n",
              "\n",
              "    .colab-df-convert:hover {\n",
              "      background-color: #E2EBFA;\n",
              "      box-shadow: 0px 1px 2px rgba(60, 64, 67, 0.3), 0px 1px 3px 1px rgba(60, 64, 67, 0.15);\n",
              "      fill: #174EA6;\n",
              "    }\n",
              "\n",
              "    [theme=dark] .colab-df-convert {\n",
              "      background-color: #3B4455;\n",
              "      fill: #D2E3FC;\n",
              "    }\n",
              "\n",
              "    [theme=dark] .colab-df-convert:hover {\n",
              "      background-color: #434B5C;\n",
              "      box-shadow: 0px 1px 3px 1px rgba(0, 0, 0, 0.15);\n",
              "      filter: drop-shadow(0px 1px 2px rgba(0, 0, 0, 0.3));\n",
              "      fill: #FFFFFF;\n",
              "    }\n",
              "  </style>\n",
              "\n",
              "      <script>\n",
              "        const buttonEl =\n",
              "          document.querySelector('#df-7daa32bf-c270-4573-9699-3a18b719b728 button.colab-df-convert');\n",
              "        buttonEl.style.display =\n",
              "          google.colab.kernel.accessAllowed ? 'block' : 'none';\n",
              "\n",
              "        async function convertToInteractive(key) {\n",
              "          const element = document.querySelector('#df-7daa32bf-c270-4573-9699-3a18b719b728');\n",
              "          const dataTable =\n",
              "            await google.colab.kernel.invokeFunction('convertToInteractive',\n",
              "                                                     [key], {});\n",
              "          if (!dataTable) return;\n",
              "\n",
              "          const docLinkHtml = 'Like what you see? Visit the ' +\n",
              "            '<a target=\"_blank\" href=https://colab.research.google.com/notebooks/data_table.ipynb>data table notebook</a>'\n",
              "            + ' to learn more about interactive tables.';\n",
              "          element.innerHTML = '';\n",
              "          dataTable['output_type'] = 'display_data';\n",
              "          await google.colab.output.renderOutput(dataTable, element);\n",
              "          const docLink = document.createElement('div');\n",
              "          docLink.innerHTML = docLinkHtml;\n",
              "          element.appendChild(docLink);\n",
              "        }\n",
              "      </script>\n",
              "    </div>\n",
              "  </div>\n",
              "  "
            ]
          },
          "metadata": {},
          "execution_count": 4
        }
      ]
    },
    {
      "cell_type": "code",
      "source": [
        "# Instantiate test dataframe\n",
        "test = pd.read_csv('test.csv')\n",
        "test"
      ],
      "metadata": {
        "colab": {
          "base_uri": "https://localhost:8080/",
          "height": 488
        },
        "id": "CDDlV18ieUbe",
        "outputId": "cf137563-d5c7-429b-f52e-8f31332a0a8a"
      },
      "execution_count": 5,
      "outputs": [
        {
          "output_type": "execute_result",
          "data": {
            "text/plain": [
              "            id  feat_1  feat_2  feat_3  feat_4  feat_5  feat_6  feat_7  \\\n",
              "0            1       0       0       0       0       0       0       0   \n",
              "1            2       2       2      14      16       0       0       0   \n",
              "2            3       0       1      12       1       0       0       0   \n",
              "3            4       0       0       0       1       0       0       0   \n",
              "4            5       1       0       0       1       0       0       1   \n",
              "...        ...     ...     ...     ...     ...     ...     ...     ...   \n",
              "141016  141017       0       0       0       0       1       0       0   \n",
              "141017  141018       1       0       0       0       0       0       0   \n",
              "141018  141019       0       0       0       0       0       1       0   \n",
              "141019  141020       0       0       0       0       0       0       0   \n",
              "141020  141021       0       0       0       0       0       2       0   \n",
              "\n",
              "        feat_8  feat_9  ...  feat_84  feat_85  feat_86  feat_87  feat_88  \\\n",
              "0            0       0  ...      0.0      0.0     11.0      1.0     20.0   \n",
              "1            0       0  ...      0.0      0.0      0.0      0.0      0.0   \n",
              "2            0       0  ...      0.0      0.0      0.0      0.0      2.0   \n",
              "3            0       0  ...      0.0      3.0      1.0      0.0      0.0   \n",
              "4            2       0  ...      0.0      0.0      0.0      0.0      0.0   \n",
              "...        ...     ...  ...      ...      ...      ...      ...      ...   \n",
              "141016       0       1  ...      0.0      0.0      0.0      0.0      0.0   \n",
              "141017       0      10  ...      0.0      0.0      0.0      0.0      1.0   \n",
              "141018       0       1  ...      0.0      0.0      2.0      0.0      6.0   \n",
              "141019       8       0  ...      0.0      0.0      0.0      0.0      2.0   \n",
              "141020       0       0  ...      NaN      NaN      NaN      NaN      NaN   \n",
              "\n",
              "        feat_89  feat_90  feat_91  feat_92  feat_93  \n",
              "0           0.0      0.0      0.0      0.0      0.0  \n",
              "1           4.0      0.0      0.0      2.0      0.0  \n",
              "2           0.0      0.0      0.0      0.0      1.0  \n",
              "3           0.0      0.0      0.0      0.0      0.0  \n",
              "4           0.0      0.0      9.0      0.0      0.0  \n",
              "...         ...      ...      ...      ...      ...  \n",
              "141016      2.0      0.0      0.0      0.0      0.0  \n",
              "141017      0.0      0.0      0.0      0.0      0.0  \n",
              "141018      0.0      1.0      0.0      0.0      0.0  \n",
              "141019      0.0      0.0      0.0      0.0      0.0  \n",
              "141020      NaN      NaN      NaN      NaN      NaN  \n",
              "\n",
              "[141021 rows x 94 columns]"
            ],
            "text/html": [
              "\n",
              "  <div id=\"df-d16484a9-8646-421b-b140-9db713a2d619\">\n",
              "    <div class=\"colab-df-container\">\n",
              "      <div>\n",
              "<style scoped>\n",
              "    .dataframe tbody tr th:only-of-type {\n",
              "        vertical-align: middle;\n",
              "    }\n",
              "\n",
              "    .dataframe tbody tr th {\n",
              "        vertical-align: top;\n",
              "    }\n",
              "\n",
              "    .dataframe thead th {\n",
              "        text-align: right;\n",
              "    }\n",
              "</style>\n",
              "<table border=\"1\" class=\"dataframe\">\n",
              "  <thead>\n",
              "    <tr style=\"text-align: right;\">\n",
              "      <th></th>\n",
              "      <th>id</th>\n",
              "      <th>feat_1</th>\n",
              "      <th>feat_2</th>\n",
              "      <th>feat_3</th>\n",
              "      <th>feat_4</th>\n",
              "      <th>feat_5</th>\n",
              "      <th>feat_6</th>\n",
              "      <th>feat_7</th>\n",
              "      <th>feat_8</th>\n",
              "      <th>feat_9</th>\n",
              "      <th>...</th>\n",
              "      <th>feat_84</th>\n",
              "      <th>feat_85</th>\n",
              "      <th>feat_86</th>\n",
              "      <th>feat_87</th>\n",
              "      <th>feat_88</th>\n",
              "      <th>feat_89</th>\n",
              "      <th>feat_90</th>\n",
              "      <th>feat_91</th>\n",
              "      <th>feat_92</th>\n",
              "      <th>feat_93</th>\n",
              "    </tr>\n",
              "  </thead>\n",
              "  <tbody>\n",
              "    <tr>\n",
              "      <th>0</th>\n",
              "      <td>1</td>\n",
              "      <td>0</td>\n",
              "      <td>0</td>\n",
              "      <td>0</td>\n",
              "      <td>0</td>\n",
              "      <td>0</td>\n",
              "      <td>0</td>\n",
              "      <td>0</td>\n",
              "      <td>0</td>\n",
              "      <td>0</td>\n",
              "      <td>...</td>\n",
              "      <td>0.0</td>\n",
              "      <td>0.0</td>\n",
              "      <td>11.0</td>\n",
              "      <td>1.0</td>\n",
              "      <td>20.0</td>\n",
              "      <td>0.0</td>\n",
              "      <td>0.0</td>\n",
              "      <td>0.0</td>\n",
              "      <td>0.0</td>\n",
              "      <td>0.0</td>\n",
              "    </tr>\n",
              "    <tr>\n",
              "      <th>1</th>\n",
              "      <td>2</td>\n",
              "      <td>2</td>\n",
              "      <td>2</td>\n",
              "      <td>14</td>\n",
              "      <td>16</td>\n",
              "      <td>0</td>\n",
              "      <td>0</td>\n",
              "      <td>0</td>\n",
              "      <td>0</td>\n",
              "      <td>0</td>\n",
              "      <td>...</td>\n",
              "      <td>0.0</td>\n",
              "      <td>0.0</td>\n",
              "      <td>0.0</td>\n",
              "      <td>0.0</td>\n",
              "      <td>0.0</td>\n",
              "      <td>4.0</td>\n",
              "      <td>0.0</td>\n",
              "      <td>0.0</td>\n",
              "      <td>2.0</td>\n",
              "      <td>0.0</td>\n",
              "    </tr>\n",
              "    <tr>\n",
              "      <th>2</th>\n",
              "      <td>3</td>\n",
              "      <td>0</td>\n",
              "      <td>1</td>\n",
              "      <td>12</td>\n",
              "      <td>1</td>\n",
              "      <td>0</td>\n",
              "      <td>0</td>\n",
              "      <td>0</td>\n",
              "      <td>0</td>\n",
              "      <td>0</td>\n",
              "      <td>...</td>\n",
              "      <td>0.0</td>\n",
              "      <td>0.0</td>\n",
              "      <td>0.0</td>\n",
              "      <td>0.0</td>\n",
              "      <td>2.0</td>\n",
              "      <td>0.0</td>\n",
              "      <td>0.0</td>\n",
              "      <td>0.0</td>\n",
              "      <td>0.0</td>\n",
              "      <td>1.0</td>\n",
              "    </tr>\n",
              "    <tr>\n",
              "      <th>3</th>\n",
              "      <td>4</td>\n",
              "      <td>0</td>\n",
              "      <td>0</td>\n",
              "      <td>0</td>\n",
              "      <td>1</td>\n",
              "      <td>0</td>\n",
              "      <td>0</td>\n",
              "      <td>0</td>\n",
              "      <td>0</td>\n",
              "      <td>0</td>\n",
              "      <td>...</td>\n",
              "      <td>0.0</td>\n",
              "      <td>3.0</td>\n",
              "      <td>1.0</td>\n",
              "      <td>0.0</td>\n",
              "      <td>0.0</td>\n",
              "      <td>0.0</td>\n",
              "      <td>0.0</td>\n",
              "      <td>0.0</td>\n",
              "      <td>0.0</td>\n",
              "      <td>0.0</td>\n",
              "    </tr>\n",
              "    <tr>\n",
              "      <th>4</th>\n",
              "      <td>5</td>\n",
              "      <td>1</td>\n",
              "      <td>0</td>\n",
              "      <td>0</td>\n",
              "      <td>1</td>\n",
              "      <td>0</td>\n",
              "      <td>0</td>\n",
              "      <td>1</td>\n",
              "      <td>2</td>\n",
              "      <td>0</td>\n",
              "      <td>...</td>\n",
              "      <td>0.0</td>\n",
              "      <td>0.0</td>\n",
              "      <td>0.0</td>\n",
              "      <td>0.0</td>\n",
              "      <td>0.0</td>\n",
              "      <td>0.0</td>\n",
              "      <td>0.0</td>\n",
              "      <td>9.0</td>\n",
              "      <td>0.0</td>\n",
              "      <td>0.0</td>\n",
              "    </tr>\n",
              "    <tr>\n",
              "      <th>...</th>\n",
              "      <td>...</td>\n",
              "      <td>...</td>\n",
              "      <td>...</td>\n",
              "      <td>...</td>\n",
              "      <td>...</td>\n",
              "      <td>...</td>\n",
              "      <td>...</td>\n",
              "      <td>...</td>\n",
              "      <td>...</td>\n",
              "      <td>...</td>\n",
              "      <td>...</td>\n",
              "      <td>...</td>\n",
              "      <td>...</td>\n",
              "      <td>...</td>\n",
              "      <td>...</td>\n",
              "      <td>...</td>\n",
              "      <td>...</td>\n",
              "      <td>...</td>\n",
              "      <td>...</td>\n",
              "      <td>...</td>\n",
              "      <td>...</td>\n",
              "    </tr>\n",
              "    <tr>\n",
              "      <th>141016</th>\n",
              "      <td>141017</td>\n",
              "      <td>0</td>\n",
              "      <td>0</td>\n",
              "      <td>0</td>\n",
              "      <td>0</td>\n",
              "      <td>1</td>\n",
              "      <td>0</td>\n",
              "      <td>0</td>\n",
              "      <td>0</td>\n",
              "      <td>1</td>\n",
              "      <td>...</td>\n",
              "      <td>0.0</td>\n",
              "      <td>0.0</td>\n",
              "      <td>0.0</td>\n",
              "      <td>0.0</td>\n",
              "      <td>0.0</td>\n",
              "      <td>2.0</td>\n",
              "      <td>0.0</td>\n",
              "      <td>0.0</td>\n",
              "      <td>0.0</td>\n",
              "      <td>0.0</td>\n",
              "    </tr>\n",
              "    <tr>\n",
              "      <th>141017</th>\n",
              "      <td>141018</td>\n",
              "      <td>1</td>\n",
              "      <td>0</td>\n",
              "      <td>0</td>\n",
              "      <td>0</td>\n",
              "      <td>0</td>\n",
              "      <td>0</td>\n",
              "      <td>0</td>\n",
              "      <td>0</td>\n",
              "      <td>10</td>\n",
              "      <td>...</td>\n",
              "      <td>0.0</td>\n",
              "      <td>0.0</td>\n",
              "      <td>0.0</td>\n",
              "      <td>0.0</td>\n",
              "      <td>1.0</td>\n",
              "      <td>0.0</td>\n",
              "      <td>0.0</td>\n",
              "      <td>0.0</td>\n",
              "      <td>0.0</td>\n",
              "      <td>0.0</td>\n",
              "    </tr>\n",
              "    <tr>\n",
              "      <th>141018</th>\n",
              "      <td>141019</td>\n",
              "      <td>0</td>\n",
              "      <td>0</td>\n",
              "      <td>0</td>\n",
              "      <td>0</td>\n",
              "      <td>0</td>\n",
              "      <td>1</td>\n",
              "      <td>0</td>\n",
              "      <td>0</td>\n",
              "      <td>1</td>\n",
              "      <td>...</td>\n",
              "      <td>0.0</td>\n",
              "      <td>0.0</td>\n",
              "      <td>2.0</td>\n",
              "      <td>0.0</td>\n",
              "      <td>6.0</td>\n",
              "      <td>0.0</td>\n",
              "      <td>1.0</td>\n",
              "      <td>0.0</td>\n",
              "      <td>0.0</td>\n",
              "      <td>0.0</td>\n",
              "    </tr>\n",
              "    <tr>\n",
              "      <th>141019</th>\n",
              "      <td>141020</td>\n",
              "      <td>0</td>\n",
              "      <td>0</td>\n",
              "      <td>0</td>\n",
              "      <td>0</td>\n",
              "      <td>0</td>\n",
              "      <td>0</td>\n",
              "      <td>0</td>\n",
              "      <td>8</td>\n",
              "      <td>0</td>\n",
              "      <td>...</td>\n",
              "      <td>0.0</td>\n",
              "      <td>0.0</td>\n",
              "      <td>0.0</td>\n",
              "      <td>0.0</td>\n",
              "      <td>2.0</td>\n",
              "      <td>0.0</td>\n",
              "      <td>0.0</td>\n",
              "      <td>0.0</td>\n",
              "      <td>0.0</td>\n",
              "      <td>0.0</td>\n",
              "    </tr>\n",
              "    <tr>\n",
              "      <th>141020</th>\n",
              "      <td>141021</td>\n",
              "      <td>0</td>\n",
              "      <td>0</td>\n",
              "      <td>0</td>\n",
              "      <td>0</td>\n",
              "      <td>0</td>\n",
              "      <td>2</td>\n",
              "      <td>0</td>\n",
              "      <td>0</td>\n",
              "      <td>0</td>\n",
              "      <td>...</td>\n",
              "      <td>NaN</td>\n",
              "      <td>NaN</td>\n",
              "      <td>NaN</td>\n",
              "      <td>NaN</td>\n",
              "      <td>NaN</td>\n",
              "      <td>NaN</td>\n",
              "      <td>NaN</td>\n",
              "      <td>NaN</td>\n",
              "      <td>NaN</td>\n",
              "      <td>NaN</td>\n",
              "    </tr>\n",
              "  </tbody>\n",
              "</table>\n",
              "<p>141021 rows × 94 columns</p>\n",
              "</div>\n",
              "      <button class=\"colab-df-convert\" onclick=\"convertToInteractive('df-d16484a9-8646-421b-b140-9db713a2d619')\"\n",
              "              title=\"Convert this dataframe to an interactive table.\"\n",
              "              style=\"display:none;\">\n",
              "        \n",
              "  <svg xmlns=\"http://www.w3.org/2000/svg\" height=\"24px\"viewBox=\"0 0 24 24\"\n",
              "       width=\"24px\">\n",
              "    <path d=\"M0 0h24v24H0V0z\" fill=\"none\"/>\n",
              "    <path d=\"M18.56 5.44l.94 2.06.94-2.06 2.06-.94-2.06-.94-.94-2.06-.94 2.06-2.06.94zm-11 1L8.5 8.5l.94-2.06 2.06-.94-2.06-.94L8.5 2.5l-.94 2.06-2.06.94zm10 10l.94 2.06.94-2.06 2.06-.94-2.06-.94-.94-2.06-.94 2.06-2.06.94z\"/><path d=\"M17.41 7.96l-1.37-1.37c-.4-.4-.92-.59-1.43-.59-.52 0-1.04.2-1.43.59L10.3 9.45l-7.72 7.72c-.78.78-.78 2.05 0 2.83L4 21.41c.39.39.9.59 1.41.59.51 0 1.02-.2 1.41-.59l7.78-7.78 2.81-2.81c.8-.78.8-2.07 0-2.86zM5.41 20L4 18.59l7.72-7.72 1.47 1.35L5.41 20z\"/>\n",
              "  </svg>\n",
              "      </button>\n",
              "      \n",
              "  <style>\n",
              "    .colab-df-container {\n",
              "      display:flex;\n",
              "      flex-wrap:wrap;\n",
              "      gap: 12px;\n",
              "    }\n",
              "\n",
              "    .colab-df-convert {\n",
              "      background-color: #E8F0FE;\n",
              "      border: none;\n",
              "      border-radius: 50%;\n",
              "      cursor: pointer;\n",
              "      display: none;\n",
              "      fill: #1967D2;\n",
              "      height: 32px;\n",
              "      padding: 0 0 0 0;\n",
              "      width: 32px;\n",
              "    }\n",
              "\n",
              "    .colab-df-convert:hover {\n",
              "      background-color: #E2EBFA;\n",
              "      box-shadow: 0px 1px 2px rgba(60, 64, 67, 0.3), 0px 1px 3px 1px rgba(60, 64, 67, 0.15);\n",
              "      fill: #174EA6;\n",
              "    }\n",
              "\n",
              "    [theme=dark] .colab-df-convert {\n",
              "      background-color: #3B4455;\n",
              "      fill: #D2E3FC;\n",
              "    }\n",
              "\n",
              "    [theme=dark] .colab-df-convert:hover {\n",
              "      background-color: #434B5C;\n",
              "      box-shadow: 0px 1px 3px 1px rgba(0, 0, 0, 0.15);\n",
              "      filter: drop-shadow(0px 1px 2px rgba(0, 0, 0, 0.3));\n",
              "      fill: #FFFFFF;\n",
              "    }\n",
              "  </style>\n",
              "\n",
              "      <script>\n",
              "        const buttonEl =\n",
              "          document.querySelector('#df-d16484a9-8646-421b-b140-9db713a2d619 button.colab-df-convert');\n",
              "        buttonEl.style.display =\n",
              "          google.colab.kernel.accessAllowed ? 'block' : 'none';\n",
              "\n",
              "        async function convertToInteractive(key) {\n",
              "          const element = document.querySelector('#df-d16484a9-8646-421b-b140-9db713a2d619');\n",
              "          const dataTable =\n",
              "            await google.colab.kernel.invokeFunction('convertToInteractive',\n",
              "                                                     [key], {});\n",
              "          if (!dataTable) return;\n",
              "\n",
              "          const docLinkHtml = 'Like what you see? Visit the ' +\n",
              "            '<a target=\"_blank\" href=https://colab.research.google.com/notebooks/data_table.ipynb>data table notebook</a>'\n",
              "            + ' to learn more about interactive tables.';\n",
              "          element.innerHTML = '';\n",
              "          dataTable['output_type'] = 'display_data';\n",
              "          await google.colab.output.renderOutput(dataTable, element);\n",
              "          const docLink = document.createElement('div');\n",
              "          docLink.innerHTML = docLinkHtml;\n",
              "          element.appendChild(docLink);\n",
              "        }\n",
              "      </script>\n",
              "    </div>\n",
              "  </div>\n",
              "  "
            ]
          },
          "metadata": {},
          "execution_count": 5
        }
      ]
    },
    {
      "cell_type": "markdown",
      "source": [
        "Something to note about the `test.csv` dataset is that it does not include the `target` feature column.\n",
        "\n",
        "This is peeking a bit ahead, but the `target` feature is the `label` the machine learning models will try to predict. Also, given this project comes from a competition from Kaggle, it makes sense the `test.csv` does not have the labels. The competition (and a requirement of this project) requires the `sampleSubmission.csv` to be overridden with the predictions from a model, where the accuracy will be compared against other submissions."
      ],
      "metadata": {
        "id": "h6PjYzQT7Jsh"
      }
    },
    {
      "cell_type": "markdown",
      "source": [
        "## 3) Data Analysis\n",
        "\n"
      ],
      "metadata": {
        "id": "dv0LbZhPWtj_"
      }
    },
    {
      "cell_type": "markdown",
      "source": [
        "### Possible Features\n",
        "\n",
        "Before picking a model, the dataset's features need to be explored because the data should determine the type of learning, such as supervised vs. unsupervised."
      ],
      "metadata": {
        "id": "iMgxC6Ycjyqr"
      }
    },
    {
      "cell_type": "code",
      "source": [
        "# Print the possible features\n",
        "print(train.columns)"
      ],
      "metadata": {
        "colab": {
          "base_uri": "https://localhost:8080/"
        },
        "id": "Y9hiqjUCJjmy",
        "outputId": "e5069e57-f70c-4303-99ef-dd3d2e9d2122"
      },
      "execution_count": 6,
      "outputs": [
        {
          "output_type": "stream",
          "name": "stdout",
          "text": [
            "Index(['id', 'feat_1', 'feat_2', 'feat_3', 'feat_4', 'feat_5', 'feat_6',\n",
            "       'feat_7', 'feat_8', 'feat_9', 'feat_10', 'feat_11', 'feat_12',\n",
            "       'feat_13', 'feat_14', 'feat_15', 'feat_16', 'feat_17', 'feat_18',\n",
            "       'feat_19', 'feat_20', 'feat_21', 'feat_22', 'feat_23', 'feat_24',\n",
            "       'feat_25', 'feat_26', 'feat_27', 'feat_28', 'feat_29', 'feat_30',\n",
            "       'feat_31', 'feat_32', 'feat_33', 'feat_34', 'feat_35', 'feat_36',\n",
            "       'feat_37', 'feat_38', 'feat_39', 'feat_40', 'feat_41', 'feat_42',\n",
            "       'feat_43', 'feat_44', 'feat_45', 'feat_46', 'feat_47', 'feat_48',\n",
            "       'feat_49', 'feat_50', 'feat_51', 'feat_52', 'feat_53', 'feat_54',\n",
            "       'feat_55', 'feat_56', 'feat_57', 'feat_58', 'feat_59', 'feat_60',\n",
            "       'feat_61', 'feat_62', 'feat_63', 'feat_64', 'feat_65', 'feat_66',\n",
            "       'feat_67', 'feat_68', 'feat_69', 'feat_70', 'feat_71', 'feat_72',\n",
            "       'feat_73', 'feat_74', 'feat_75', 'feat_76', 'feat_77', 'feat_78',\n",
            "       'feat_79', 'feat_80', 'feat_81', 'feat_82', 'feat_83', 'feat_84',\n",
            "       'feat_85', 'feat_86', 'feat_87', 'feat_88', 'feat_89', 'feat_90',\n",
            "       'feat_91', 'feat_92', 'feat_93', 'target'],\n",
            "      dtype='object')\n"
          ]
        }
      ]
    },
    {
      "cell_type": "markdown",
      "source": [
        "The dataset should have the following:\n",
        "```\n",
        "'id', 'feat_1', 'feat_2', 'feat_3', 'feat_4', 'feat_5', 'feat_6', 'feat_7', 'feat_8', 'feat_9', 'feat_10', 'feat_11', 'feat_12',\n",
        "'feat_13', 'feat_14', 'feat_15', 'feat_16', 'feat_17', 'feat_18', 'feat_19', 'feat_20', 'feat_21', 'feat_22', 'feat_23', 'feat_24',\n",
        "'feat_25', 'feat_26', 'feat_27', 'feat_28', 'feat_29', 'feat_30', 'feat_31', 'feat_32', 'feat_33', 'feat_34', 'feat_35', 'feat_36',\n",
        "'feat_37', 'feat_38', 'feat_39', 'feat_40', 'feat_41', 'feat_42', 'feat_43', 'feat_44', 'feat_45', 'feat_46', 'feat_47', 'feat_48',\n",
        "'feat_49', 'feat_50', 'feat_51', 'feat_52', 'feat_53', 'feat_54', 'feat_55', 'feat_56', 'feat_57', 'feat_58', 'feat_59', 'feat_60',\n",
        "'feat_61', 'feat_62', 'feat_63', 'feat_64', 'feat_65', 'feat_66', 'feat_67', 'feat_68', 'feat_69', 'feat_70', 'feat_71', 'feat_72',\n",
        "'feat_73', 'feat_74', 'feat_75', 'feat_76', 'feat_77', 'feat_78', 'feat_79', 'feat_80', 'feat_81', 'feat_82', 'feat_83', 'feat_84',\n",
        "'feat_85', 'feat_86', 'feat_87', 'feat_88', 'feat_89', 'feat_90', 'feat_91', 'feat_92', 'feat_93', 'target'\n",
        "```\n",
        "\n",
        "According to the Kaggle competition,\n",
        "\n",
        "* The `id` is an anonymous id unique to a product.\n",
        "\n",
        "* The feature fields `feat_1, feat_2, ..., feat_93` are the various features of the product. These are the features the DNN will use to learn.\n",
        "\n",
        "* The `target` is the class of the product. This will be the value the DNN predicts."
      ],
      "metadata": {
        "id": "znYbiuzCJ89E"
      }
    },
    {
      "cell_type": "markdown",
      "source": [
        "#### Taking a Look at the Data\n",
        "\n",
        "The dataset contains mostly `ints`. The only feature that's not an `int` is `target`, which is a `string`.\n",
        "\n",
        "The dataset is also complete, i.e. there are no `null` or equivalent value in the dataset. This is true becuase the count for each feature and label below is the same (61878). Had there been missing data, the values would need to be replaced with `np.NaN`, which could have been done during the DataFrame instantiation or during the Cleaning Data step.\n",
        "\n",
        "\n"
      ],
      "metadata": {
        "id": "Asb7fFj7yp_a"
      }
    },
    {
      "cell_type": "code",
      "source": [
        "# Take a look at the training data\n",
        "train.describe(include=\"all\")"
      ],
      "metadata": {
        "id": "XUGwCFmhg2Bv",
        "outputId": "b68018e2-a4e8-43f3-ce48-0dd90b2e8db1",
        "colab": {
          "base_uri": "https://localhost:8080/",
          "height": 488
        }
      },
      "execution_count": 7,
      "outputs": [
        {
          "output_type": "execute_result",
          "data": {
            "text/plain": [
              "                  id       feat_1        feat_2        feat_3        feat_4  \\\n",
              "count   61878.000000  61878.00000  61878.000000  61878.000000  61878.000000   \n",
              "unique           NaN          NaN           NaN           NaN           NaN   \n",
              "top              NaN          NaN           NaN           NaN           NaN   \n",
              "freq             NaN          NaN           NaN           NaN           NaN   \n",
              "mean    30939.500000      0.38668      0.263066      0.901467      0.779081   \n",
              "std     17862.784315      1.52533      1.252073      2.934818      2.788005   \n",
              "min         1.000000      0.00000      0.000000      0.000000      0.000000   \n",
              "25%     15470.250000      0.00000      0.000000      0.000000      0.000000   \n",
              "50%     30939.500000      0.00000      0.000000      0.000000      0.000000   \n",
              "75%     46408.750000      0.00000      0.000000      0.000000      0.000000   \n",
              "max     61878.000000     61.00000     51.000000     64.000000     70.000000   \n",
              "\n",
              "              feat_5        feat_6        feat_7        feat_8        feat_9  \\\n",
              "count   61878.000000  61878.000000  61878.000000  61878.000000  61878.000000   \n",
              "unique           NaN           NaN           NaN           NaN           NaN   \n",
              "top              NaN           NaN           NaN           NaN           NaN   \n",
              "freq             NaN           NaN           NaN           NaN           NaN   \n",
              "mean        0.071043      0.025696      0.193704      0.662433      1.011296   \n",
              "std         0.438902      0.215333      1.030102      2.255770      3.474822   \n",
              "min         0.000000      0.000000      0.000000      0.000000      0.000000   \n",
              "25%         0.000000      0.000000      0.000000      0.000000      0.000000   \n",
              "50%         0.000000      0.000000      0.000000      0.000000      0.000000   \n",
              "75%         0.000000      0.000000      0.000000      1.000000      0.000000   \n",
              "max        19.000000     10.000000     38.000000     76.000000     43.000000   \n",
              "\n",
              "        ...       feat_85       feat_86       feat_87       feat_88  \\\n",
              "count   ...  61878.000000  61878.000000  61878.000000  61878.000000   \n",
              "unique  ...           NaN           NaN           NaN           NaN   \n",
              "top     ...           NaN           NaN           NaN           NaN   \n",
              "freq    ...           NaN           NaN           NaN           NaN   \n",
              "mean    ...      0.532306      1.128576      0.393549      0.874915   \n",
              "std     ...      1.900438      2.681554      1.575455      2.115466   \n",
              "min     ...      0.000000      0.000000      0.000000      0.000000   \n",
              "25%     ...      0.000000      0.000000      0.000000      0.000000   \n",
              "50%     ...      0.000000      0.000000      0.000000      0.000000   \n",
              "75%     ...      0.000000      1.000000      0.000000      1.000000   \n",
              "max     ...     55.000000     65.000000     67.000000     30.000000   \n",
              "\n",
              "             feat_89       feat_90       feat_91       feat_92       feat_93  \\\n",
              "count   61878.000000  61878.000000  61878.000000  61878.000000  61878.000000   \n",
              "unique           NaN           NaN           NaN           NaN           NaN   \n",
              "top              NaN           NaN           NaN           NaN           NaN   \n",
              "freq             NaN           NaN           NaN           NaN           NaN   \n",
              "mean        0.457772      0.812421      0.264941      0.380119      0.126135   \n",
              "std         1.527385      4.597804      2.045646      0.982385      1.201720   \n",
              "min         0.000000      0.000000      0.000000      0.000000      0.000000   \n",
              "25%         0.000000      0.000000      0.000000      0.000000      0.000000   \n",
              "50%         0.000000      0.000000      0.000000      0.000000      0.000000   \n",
              "75%         0.000000      0.000000      0.000000      0.000000      0.000000   \n",
              "max        61.000000    130.000000     52.000000     19.000000     87.000000   \n",
              "\n",
              "         target  \n",
              "count     61878  \n",
              "unique        9  \n",
              "top     Class_2  \n",
              "freq      16122  \n",
              "mean        NaN  \n",
              "std         NaN  \n",
              "min         NaN  \n",
              "25%         NaN  \n",
              "50%         NaN  \n",
              "75%         NaN  \n",
              "max         NaN  \n",
              "\n",
              "[11 rows x 95 columns]"
            ],
            "text/html": [
              "\n",
              "  <div id=\"df-78a1a807-e351-40e3-9db8-ea6304e8f81e\">\n",
              "    <div class=\"colab-df-container\">\n",
              "      <div>\n",
              "<style scoped>\n",
              "    .dataframe tbody tr th:only-of-type {\n",
              "        vertical-align: middle;\n",
              "    }\n",
              "\n",
              "    .dataframe tbody tr th {\n",
              "        vertical-align: top;\n",
              "    }\n",
              "\n",
              "    .dataframe thead th {\n",
              "        text-align: right;\n",
              "    }\n",
              "</style>\n",
              "<table border=\"1\" class=\"dataframe\">\n",
              "  <thead>\n",
              "    <tr style=\"text-align: right;\">\n",
              "      <th></th>\n",
              "      <th>id</th>\n",
              "      <th>feat_1</th>\n",
              "      <th>feat_2</th>\n",
              "      <th>feat_3</th>\n",
              "      <th>feat_4</th>\n",
              "      <th>feat_5</th>\n",
              "      <th>feat_6</th>\n",
              "      <th>feat_7</th>\n",
              "      <th>feat_8</th>\n",
              "      <th>feat_9</th>\n",
              "      <th>...</th>\n",
              "      <th>feat_85</th>\n",
              "      <th>feat_86</th>\n",
              "      <th>feat_87</th>\n",
              "      <th>feat_88</th>\n",
              "      <th>feat_89</th>\n",
              "      <th>feat_90</th>\n",
              "      <th>feat_91</th>\n",
              "      <th>feat_92</th>\n",
              "      <th>feat_93</th>\n",
              "      <th>target</th>\n",
              "    </tr>\n",
              "  </thead>\n",
              "  <tbody>\n",
              "    <tr>\n",
              "      <th>count</th>\n",
              "      <td>61878.000000</td>\n",
              "      <td>61878.00000</td>\n",
              "      <td>61878.000000</td>\n",
              "      <td>61878.000000</td>\n",
              "      <td>61878.000000</td>\n",
              "      <td>61878.000000</td>\n",
              "      <td>61878.000000</td>\n",
              "      <td>61878.000000</td>\n",
              "      <td>61878.000000</td>\n",
              "      <td>61878.000000</td>\n",
              "      <td>...</td>\n",
              "      <td>61878.000000</td>\n",
              "      <td>61878.000000</td>\n",
              "      <td>61878.000000</td>\n",
              "      <td>61878.000000</td>\n",
              "      <td>61878.000000</td>\n",
              "      <td>61878.000000</td>\n",
              "      <td>61878.000000</td>\n",
              "      <td>61878.000000</td>\n",
              "      <td>61878.000000</td>\n",
              "      <td>61878</td>\n",
              "    </tr>\n",
              "    <tr>\n",
              "      <th>unique</th>\n",
              "      <td>NaN</td>\n",
              "      <td>NaN</td>\n",
              "      <td>NaN</td>\n",
              "      <td>NaN</td>\n",
              "      <td>NaN</td>\n",
              "      <td>NaN</td>\n",
              "      <td>NaN</td>\n",
              "      <td>NaN</td>\n",
              "      <td>NaN</td>\n",
              "      <td>NaN</td>\n",
              "      <td>...</td>\n",
              "      <td>NaN</td>\n",
              "      <td>NaN</td>\n",
              "      <td>NaN</td>\n",
              "      <td>NaN</td>\n",
              "      <td>NaN</td>\n",
              "      <td>NaN</td>\n",
              "      <td>NaN</td>\n",
              "      <td>NaN</td>\n",
              "      <td>NaN</td>\n",
              "      <td>9</td>\n",
              "    </tr>\n",
              "    <tr>\n",
              "      <th>top</th>\n",
              "      <td>NaN</td>\n",
              "      <td>NaN</td>\n",
              "      <td>NaN</td>\n",
              "      <td>NaN</td>\n",
              "      <td>NaN</td>\n",
              "      <td>NaN</td>\n",
              "      <td>NaN</td>\n",
              "      <td>NaN</td>\n",
              "      <td>NaN</td>\n",
              "      <td>NaN</td>\n",
              "      <td>...</td>\n",
              "      <td>NaN</td>\n",
              "      <td>NaN</td>\n",
              "      <td>NaN</td>\n",
              "      <td>NaN</td>\n",
              "      <td>NaN</td>\n",
              "      <td>NaN</td>\n",
              "      <td>NaN</td>\n",
              "      <td>NaN</td>\n",
              "      <td>NaN</td>\n",
              "      <td>Class_2</td>\n",
              "    </tr>\n",
              "    <tr>\n",
              "      <th>freq</th>\n",
              "      <td>NaN</td>\n",
              "      <td>NaN</td>\n",
              "      <td>NaN</td>\n",
              "      <td>NaN</td>\n",
              "      <td>NaN</td>\n",
              "      <td>NaN</td>\n",
              "      <td>NaN</td>\n",
              "      <td>NaN</td>\n",
              "      <td>NaN</td>\n",
              "      <td>NaN</td>\n",
              "      <td>...</td>\n",
              "      <td>NaN</td>\n",
              "      <td>NaN</td>\n",
              "      <td>NaN</td>\n",
              "      <td>NaN</td>\n",
              "      <td>NaN</td>\n",
              "      <td>NaN</td>\n",
              "      <td>NaN</td>\n",
              "      <td>NaN</td>\n",
              "      <td>NaN</td>\n",
              "      <td>16122</td>\n",
              "    </tr>\n",
              "    <tr>\n",
              "      <th>mean</th>\n",
              "      <td>30939.500000</td>\n",
              "      <td>0.38668</td>\n",
              "      <td>0.263066</td>\n",
              "      <td>0.901467</td>\n",
              "      <td>0.779081</td>\n",
              "      <td>0.071043</td>\n",
              "      <td>0.025696</td>\n",
              "      <td>0.193704</td>\n",
              "      <td>0.662433</td>\n",
              "      <td>1.011296</td>\n",
              "      <td>...</td>\n",
              "      <td>0.532306</td>\n",
              "      <td>1.128576</td>\n",
              "      <td>0.393549</td>\n",
              "      <td>0.874915</td>\n",
              "      <td>0.457772</td>\n",
              "      <td>0.812421</td>\n",
              "      <td>0.264941</td>\n",
              "      <td>0.380119</td>\n",
              "      <td>0.126135</td>\n",
              "      <td>NaN</td>\n",
              "    </tr>\n",
              "    <tr>\n",
              "      <th>std</th>\n",
              "      <td>17862.784315</td>\n",
              "      <td>1.52533</td>\n",
              "      <td>1.252073</td>\n",
              "      <td>2.934818</td>\n",
              "      <td>2.788005</td>\n",
              "      <td>0.438902</td>\n",
              "      <td>0.215333</td>\n",
              "      <td>1.030102</td>\n",
              "      <td>2.255770</td>\n",
              "      <td>3.474822</td>\n",
              "      <td>...</td>\n",
              "      <td>1.900438</td>\n",
              "      <td>2.681554</td>\n",
              "      <td>1.575455</td>\n",
              "      <td>2.115466</td>\n",
              "      <td>1.527385</td>\n",
              "      <td>4.597804</td>\n",
              "      <td>2.045646</td>\n",
              "      <td>0.982385</td>\n",
              "      <td>1.201720</td>\n",
              "      <td>NaN</td>\n",
              "    </tr>\n",
              "    <tr>\n",
              "      <th>min</th>\n",
              "      <td>1.000000</td>\n",
              "      <td>0.00000</td>\n",
              "      <td>0.000000</td>\n",
              "      <td>0.000000</td>\n",
              "      <td>0.000000</td>\n",
              "      <td>0.000000</td>\n",
              "      <td>0.000000</td>\n",
              "      <td>0.000000</td>\n",
              "      <td>0.000000</td>\n",
              "      <td>0.000000</td>\n",
              "      <td>...</td>\n",
              "      <td>0.000000</td>\n",
              "      <td>0.000000</td>\n",
              "      <td>0.000000</td>\n",
              "      <td>0.000000</td>\n",
              "      <td>0.000000</td>\n",
              "      <td>0.000000</td>\n",
              "      <td>0.000000</td>\n",
              "      <td>0.000000</td>\n",
              "      <td>0.000000</td>\n",
              "      <td>NaN</td>\n",
              "    </tr>\n",
              "    <tr>\n",
              "      <th>25%</th>\n",
              "      <td>15470.250000</td>\n",
              "      <td>0.00000</td>\n",
              "      <td>0.000000</td>\n",
              "      <td>0.000000</td>\n",
              "      <td>0.000000</td>\n",
              "      <td>0.000000</td>\n",
              "      <td>0.000000</td>\n",
              "      <td>0.000000</td>\n",
              "      <td>0.000000</td>\n",
              "      <td>0.000000</td>\n",
              "      <td>...</td>\n",
              "      <td>0.000000</td>\n",
              "      <td>0.000000</td>\n",
              "      <td>0.000000</td>\n",
              "      <td>0.000000</td>\n",
              "      <td>0.000000</td>\n",
              "      <td>0.000000</td>\n",
              "      <td>0.000000</td>\n",
              "      <td>0.000000</td>\n",
              "      <td>0.000000</td>\n",
              "      <td>NaN</td>\n",
              "    </tr>\n",
              "    <tr>\n",
              "      <th>50%</th>\n",
              "      <td>30939.500000</td>\n",
              "      <td>0.00000</td>\n",
              "      <td>0.000000</td>\n",
              "      <td>0.000000</td>\n",
              "      <td>0.000000</td>\n",
              "      <td>0.000000</td>\n",
              "      <td>0.000000</td>\n",
              "      <td>0.000000</td>\n",
              "      <td>0.000000</td>\n",
              "      <td>0.000000</td>\n",
              "      <td>...</td>\n",
              "      <td>0.000000</td>\n",
              "      <td>0.000000</td>\n",
              "      <td>0.000000</td>\n",
              "      <td>0.000000</td>\n",
              "      <td>0.000000</td>\n",
              "      <td>0.000000</td>\n",
              "      <td>0.000000</td>\n",
              "      <td>0.000000</td>\n",
              "      <td>0.000000</td>\n",
              "      <td>NaN</td>\n",
              "    </tr>\n",
              "    <tr>\n",
              "      <th>75%</th>\n",
              "      <td>46408.750000</td>\n",
              "      <td>0.00000</td>\n",
              "      <td>0.000000</td>\n",
              "      <td>0.000000</td>\n",
              "      <td>0.000000</td>\n",
              "      <td>0.000000</td>\n",
              "      <td>0.000000</td>\n",
              "      <td>0.000000</td>\n",
              "      <td>1.000000</td>\n",
              "      <td>0.000000</td>\n",
              "      <td>...</td>\n",
              "      <td>0.000000</td>\n",
              "      <td>1.000000</td>\n",
              "      <td>0.000000</td>\n",
              "      <td>1.000000</td>\n",
              "      <td>0.000000</td>\n",
              "      <td>0.000000</td>\n",
              "      <td>0.000000</td>\n",
              "      <td>0.000000</td>\n",
              "      <td>0.000000</td>\n",
              "      <td>NaN</td>\n",
              "    </tr>\n",
              "    <tr>\n",
              "      <th>max</th>\n",
              "      <td>61878.000000</td>\n",
              "      <td>61.00000</td>\n",
              "      <td>51.000000</td>\n",
              "      <td>64.000000</td>\n",
              "      <td>70.000000</td>\n",
              "      <td>19.000000</td>\n",
              "      <td>10.000000</td>\n",
              "      <td>38.000000</td>\n",
              "      <td>76.000000</td>\n",
              "      <td>43.000000</td>\n",
              "      <td>...</td>\n",
              "      <td>55.000000</td>\n",
              "      <td>65.000000</td>\n",
              "      <td>67.000000</td>\n",
              "      <td>30.000000</td>\n",
              "      <td>61.000000</td>\n",
              "      <td>130.000000</td>\n",
              "      <td>52.000000</td>\n",
              "      <td>19.000000</td>\n",
              "      <td>87.000000</td>\n",
              "      <td>NaN</td>\n",
              "    </tr>\n",
              "  </tbody>\n",
              "</table>\n",
              "<p>11 rows × 95 columns</p>\n",
              "</div>\n",
              "      <button class=\"colab-df-convert\" onclick=\"convertToInteractive('df-78a1a807-e351-40e3-9db8-ea6304e8f81e')\"\n",
              "              title=\"Convert this dataframe to an interactive table.\"\n",
              "              style=\"display:none;\">\n",
              "        \n",
              "  <svg xmlns=\"http://www.w3.org/2000/svg\" height=\"24px\"viewBox=\"0 0 24 24\"\n",
              "       width=\"24px\">\n",
              "    <path d=\"M0 0h24v24H0V0z\" fill=\"none\"/>\n",
              "    <path d=\"M18.56 5.44l.94 2.06.94-2.06 2.06-.94-2.06-.94-.94-2.06-.94 2.06-2.06.94zm-11 1L8.5 8.5l.94-2.06 2.06-.94-2.06-.94L8.5 2.5l-.94 2.06-2.06.94zm10 10l.94 2.06.94-2.06 2.06-.94-2.06-.94-.94-2.06-.94 2.06-2.06.94z\"/><path d=\"M17.41 7.96l-1.37-1.37c-.4-.4-.92-.59-1.43-.59-.52 0-1.04.2-1.43.59L10.3 9.45l-7.72 7.72c-.78.78-.78 2.05 0 2.83L4 21.41c.39.39.9.59 1.41.59.51 0 1.02-.2 1.41-.59l7.78-7.78 2.81-2.81c.8-.78.8-2.07 0-2.86zM5.41 20L4 18.59l7.72-7.72 1.47 1.35L5.41 20z\"/>\n",
              "  </svg>\n",
              "      </button>\n",
              "      \n",
              "  <style>\n",
              "    .colab-df-container {\n",
              "      display:flex;\n",
              "      flex-wrap:wrap;\n",
              "      gap: 12px;\n",
              "    }\n",
              "\n",
              "    .colab-df-convert {\n",
              "      background-color: #E8F0FE;\n",
              "      border: none;\n",
              "      border-radius: 50%;\n",
              "      cursor: pointer;\n",
              "      display: none;\n",
              "      fill: #1967D2;\n",
              "      height: 32px;\n",
              "      padding: 0 0 0 0;\n",
              "      width: 32px;\n",
              "    }\n",
              "\n",
              "    .colab-df-convert:hover {\n",
              "      background-color: #E2EBFA;\n",
              "      box-shadow: 0px 1px 2px rgba(60, 64, 67, 0.3), 0px 1px 3px 1px rgba(60, 64, 67, 0.15);\n",
              "      fill: #174EA6;\n",
              "    }\n",
              "\n",
              "    [theme=dark] .colab-df-convert {\n",
              "      background-color: #3B4455;\n",
              "      fill: #D2E3FC;\n",
              "    }\n",
              "\n",
              "    [theme=dark] .colab-df-convert:hover {\n",
              "      background-color: #434B5C;\n",
              "      box-shadow: 0px 1px 3px 1px rgba(0, 0, 0, 0.15);\n",
              "      filter: drop-shadow(0px 1px 2px rgba(0, 0, 0, 0.3));\n",
              "      fill: #FFFFFF;\n",
              "    }\n",
              "  </style>\n",
              "\n",
              "      <script>\n",
              "        const buttonEl =\n",
              "          document.querySelector('#df-78a1a807-e351-40e3-9db8-ea6304e8f81e button.colab-df-convert');\n",
              "        buttonEl.style.display =\n",
              "          google.colab.kernel.accessAllowed ? 'block' : 'none';\n",
              "\n",
              "        async function convertToInteractive(key) {\n",
              "          const element = document.querySelector('#df-78a1a807-e351-40e3-9db8-ea6304e8f81e');\n",
              "          const dataTable =\n",
              "            await google.colab.kernel.invokeFunction('convertToInteractive',\n",
              "                                                     [key], {});\n",
              "          if (!dataTable) return;\n",
              "\n",
              "          const docLinkHtml = 'Like what you see? Visit the ' +\n",
              "            '<a target=\"_blank\" href=https://colab.research.google.com/notebooks/data_table.ipynb>data table notebook</a>'\n",
              "            + ' to learn more about interactive tables.';\n",
              "          element.innerHTML = '';\n",
              "          dataTable['output_type'] = 'display_data';\n",
              "          await google.colab.output.renderOutput(dataTable, element);\n",
              "          const docLink = document.createElement('div');\n",
              "          docLink.innerHTML = docLinkHtml;\n",
              "          element.appendChild(docLink);\n",
              "        }\n",
              "      </script>\n",
              "    </div>\n",
              "  </div>\n",
              "  "
            ]
          },
          "metadata": {},
          "execution_count": 7
        }
      ]
    },
    {
      "cell_type": "markdown",
      "source": [
        "#### Some Observations:\n",
        "\n",
        "* The `max` value for the features shown above range quite a bit. Therefore, they should be normalized.\n",
        "* The min, 25, and 50 percent values are all zeroes. Given the table is truncated (i.e. not displaying the middle feature columns), that observation may not be fully accurate.\n",
        "* Some features have `1` at 75 percent, which could mean that those features are a bit more common in the dataset.\n",
        "* The top target value is `Class_2`. Its `freq` is 16122, which is just over a fourth of the total instances; (16122 / 61878) * 100 = 26.1\n",
        "* There are only 9 target classes, see the `unique` row and `target` column.\n"
      ],
      "metadata": {
        "id": "AtaJEA5HhPXE"
      }
    },
    {
      "cell_type": "markdown",
      "source": [
        "#### Some Predictions:\n",
        "\n",
        "* Given the training dataset is less than half of the test dataset (61878 / 144368 = 0.4286), the DNN will not achieve a high accuracy. I suspect this is the case because a majority of the feature values are `0`. So the DNN model will likely overfit because it trained on a small set of features.\n",
        "* The features with a mean greater than 1 will have more of an influence on learning than the others."
      ],
      "metadata": {
        "id": "0NcF9tiglN_A"
      }
    },
    {
      "cell_type": "markdown",
      "source": [
        "## 4) Data Visualization\n",
        "\n",
        "### Before Visualizing\n",
        "\n",
        "* There are 93 features in this dataset. So, the visualizations will focus on a subset of the data.\n",
        "\n",
        "* The graphs below are bar charts, and some bars have a thin black line. According to the [documentation](https://seaborn.pydata.org/generated/seaborn.barplot.html), that line represents the 95% confidence interval. No line, means `seaborn` is 95% or more confident the value is correct. On the other hand, the presence of the line shows the range of values until `seaborn`'s 95% confident or more."
      ],
      "metadata": {
        "id": "141O3qDWJ2a3"
      }
    },
    {
      "cell_type": "markdown",
      "source": [
        "### Features with Means >= 1\n",
        "\n",
        "Let's take a look at the features who's mean is greater than or equal 1. These should provide interesting graphs because they appear more within the dataset than the other features (see the `Data Analysis` section for evidence of `0` frequency within the dataset)."
      ],
      "metadata": {
        "id": "ioxDeliunilc"
      }
    },
    {
      "cell_type": "code",
      "source": [
        "train_feats_mean_greater_than_or_equal_to_1 = train.drop('target', axis=1)\n",
        "train_feats_mean_greater_than_or_equal_to_1 = train_feats_mean_greater_than_or_equal_to_1.drop('id', axis=1)\n",
        "train_feats_mean_greater_than_or_equal_to_1 = train_feats_mean_greater_than_or_equal_to_1[train_feats_mean_greater_than_or_equal_to_1.columns[train_feats_mean_greater_than_or_equal_to_1.mean(axis=0) >= 1.0]]\n",
        "print('Number of features with means greater than or equal to 1')\n",
        "print(len(train_feats_mean_greater_than_or_equal_to_1.columns))\n",
        "\n",
        "print(train_feats_mean_greater_than_or_equal_to_1.columns)"
      ],
      "metadata": {
        "colab": {
          "base_uri": "https://localhost:8080/"
        },
        "id": "S7ZsE0npoC7Y",
        "outputId": "8a130230-9426-4a58-8002-a1bbcc6e0ba1"
      },
      "execution_count": 8,
      "outputs": [
        {
          "output_type": "stream",
          "name": "stdout",
          "text": [
            "Number of features with means greater than or equal to 1\n",
            "16\n",
            "Index(['feat_9', 'feat_11', 'feat_14', 'feat_15', 'feat_16', 'feat_24',\n",
            "       'feat_25', 'feat_32', 'feat_40', 'feat_48', 'feat_54', 'feat_60',\n",
            "       'feat_62', 'feat_64', 'feat_67', 'feat_86'],\n",
            "      dtype='object')\n"
          ]
        }
      ]
    },
    {
      "cell_type": "markdown",
      "source": [
        "### `feat_9` feature"
      ],
      "metadata": {
        "id": "GUkotXa8sTF-"
      }
    },
    {
      "cell_type": "code",
      "source": [
        "sns.barplot(x='feat_9', y='target', data=train)"
      ],
      "metadata": {
        "colab": {
          "base_uri": "https://localhost:8080/",
          "height": 0
        },
        "id": "tpVGto5apwZn",
        "outputId": "94db9259-17ad-400e-e09e-23eccc2e039f"
      },
      "execution_count": 9,
      "outputs": [
        {
          "output_type": "execute_result",
          "data": {
            "text/plain": [
              "<matplotlib.axes._subplots.AxesSubplot at 0x7fcc1a408090>"
            ]
          },
          "metadata": {},
          "execution_count": 9
        },
        {
          "output_type": "display_data",
          "data": {
            "text/plain": [
              "<Figure size 432x288 with 1 Axes>"
            ],
            "image/png": "[encoded data removed]"
          },
          "metadata": {
            "needs_background": "light"
          }
        }
      ]
    },
    {
      "cell_type": "markdown",
      "source": [
        "### `feat_11` feature\n"
      ],
      "metadata": {
        "id": "02sYa4N9slz2"
      }
    },
    {
      "cell_type": "code",
      "source": [
        "sns.barplot(x='feat_11', y='target', data=train)"
      ],
      "metadata": {
        "colab": {
          "base_uri": "https://localhost:8080/",
          "height": 0
        },
        "id": "EsJ72-kOslIC",
        "outputId": "3c968fb7-f674-403e-aded-79a9b5529471"
      },
      "execution_count": 10,
      "outputs": [
        {
          "output_type": "execute_result",
          "data": {
            "text/plain": [
              "<matplotlib.axes._subplots.AxesSubplot at 0x7fcc1a3a9910>"
            ]
          },
          "metadata": {},
          "execution_count": 10
        },
        {
          "output_type": "display_data",
          "data": {
            "text/plain": [
              "<Figure size 432x288 with 1 Axes>"
            ],
            "image/png": "[encoded data removed]"
          },
          "metadata": {
            "needs_background": "light"
          }
        }
      ]
    },
    {
      "cell_type": "markdown",
      "source": [
        "### `feat_14` feature\n"
      ],
      "metadata": {
        "id": "ST1XlyN7tCcC"
      }
    },
    {
      "cell_type": "code",
      "source": [
        "sns.barplot(x='feat_14', y='target', data=train)"
      ],
      "metadata": {
        "colab": {
          "base_uri": "https://localhost:8080/",
          "height": 0
        },
        "id": "0jpaP3wMtCwB",
        "outputId": "f6bc4f20-662a-48a6-d245-244da36fcc70"
      },
      "execution_count": 11,
      "outputs": [
        {
          "output_type": "execute_result",
          "data": {
            "text/plain": [
              "<matplotlib.axes._subplots.AxesSubplot at 0x7fcc19dd47d0>"
            ]
          },
          "metadata": {},
          "execution_count": 11
        },
        {
          "output_type": "display_data",
          "data": {
            "text/plain": [
              "<Figure size 432x288 with 1 Axes>"
            ],
            "image/png": "[encoded data removed]"
          },
          "metadata": {
            "needs_background": "light"
          }
        }
      ]
    },
    {
      "cell_type": "markdown",
      "source": [
        "### `feat_15` feature\n"
      ],
      "metadata": {
        "id": "Em_K5utVtEG7"
      }
    },
    {
      "cell_type": "code",
      "source": [
        "sns.barplot(x='feat_15', y='target', data=train)"
      ],
      "metadata": {
        "colab": {
          "base_uri": "https://localhost:8080/",
          "height": 0
        },
        "id": "5oarnFs-tEiw",
        "outputId": "2cb6de7c-8294-4a60-c0e4-6059caa3f8ef"
      },
      "execution_count": 12,
      "outputs": [
        {
          "output_type": "execute_result",
          "data": {
            "text/plain": [
              "<matplotlib.axes._subplots.AxesSubplot at 0x7fcc19d09390>"
            ]
          },
          "metadata": {},
          "execution_count": 12
        },
        {
          "output_type": "display_data",
          "data": {
            "text/plain": [
              "<Figure size 432x288 with 1 Axes>"
            ],
            "image/png": "[encoded data removed]"
          },
          "metadata": {
            "needs_background": "light"
          }
        }
      ]
    },
    {
      "cell_type": "markdown",
      "source": [
        "### `feat_16` feature\n"
      ],
      "metadata": {
        "id": "aE1gxahptGeF"
      }
    },
    {
      "cell_type": "code",
      "source": [
        "sns.barplot(x='feat_16', y='target', data=train)"
      ],
      "metadata": {
        "colab": {
          "base_uri": "https://localhost:8080/",
          "height": 0
        },
        "id": "-DpnOsyhtG0K",
        "outputId": "74e016ac-0f47-4ae4-9036-12ee6ab80faf"
      },
      "execution_count": 13,
      "outputs": [
        {
          "output_type": "execute_result",
          "data": {
            "text/plain": [
              "<matplotlib.axes._subplots.AxesSubplot at 0x7fcc19c3f310>"
            ]
          },
          "metadata": {},
          "execution_count": 13
        },
        {
          "output_type": "display_data",
          "data": {
            "text/plain": [
              "<Figure size 432x288 with 1 Axes>"
            ],
            "image/png": "[encoded data removed]"
          },
          "metadata": {
            "needs_background": "light"
          }
        }
      ]
    },
    {
      "cell_type": "markdown",
      "source": [
        "### `feat_24` feature\n"
      ],
      "metadata": {
        "id": "6FLzQG7CtLeE"
      }
    },
    {
      "cell_type": "code",
      "source": [
        "sns.barplot(x='feat_24', y='target', data=train)"
      ],
      "metadata": {
        "colab": {
          "base_uri": "https://localhost:8080/",
          "height": 0
        },
        "id": "Sb73Hz8otL0B",
        "outputId": "b970b3cb-1f20-44ce-84da-b725a89fb67a"
      },
      "execution_count": 14,
      "outputs": [
        {
          "output_type": "execute_result",
          "data": {
            "text/plain": [
              "<matplotlib.axes._subplots.AxesSubplot at 0x7fcc19be3750>"
            ]
          },
          "metadata": {},
          "execution_count": 14
        },
        {
          "output_type": "display_data",
          "data": {
            "text/plain": [
              "<Figure size 432x288 with 1 Axes>"
            ],
            "image/png": "[encoded data removed]"
          },
          "metadata": {
            "needs_background": "light"
          }
        }
      ]
    },
    {
      "cell_type": "markdown",
      "source": [
        "### `feat_25` feature\n"
      ],
      "metadata": {
        "id": "AFvNHVBVtNf8"
      }
    },
    {
      "cell_type": "code",
      "source": [
        "sns.barplot(x='feat_25', y='target', data=train)"
      ],
      "metadata": {
        "colab": {
          "base_uri": "https://localhost:8080/",
          "height": 0
        },
        "id": "h9All0tGtN63",
        "outputId": "77c09e41-4ab9-4822-b1db-d0093a9d2db0"
      },
      "execution_count": 15,
      "outputs": [
        {
          "output_type": "execute_result",
          "data": {
            "text/plain": [
              "<matplotlib.axes._subplots.AxesSubplot at 0x7fcc19d6ecd0>"
            ]
          },
          "metadata": {},
          "execution_count": 15
        },
        {
          "output_type": "display_data",
          "data": {
            "text/plain": [
              "<Figure size 432x288 with 1 Axes>"
            ],
            "image/png": "[encoded data removed]"
          },
          "metadata": {
            "needs_background": "light"
          }
        }
      ]
    },
    {
      "cell_type": "markdown",
      "source": [
        "### `feat_32` feature\n"
      ],
      "metadata": {
        "id": "ZZTDkGBrtQht"
      }
    },
    {
      "cell_type": "code",
      "source": [
        "sns.barplot(x='feat_32', y='target', data=train)"
      ],
      "metadata": {
        "colab": {
          "base_uri": "https://localhost:8080/",
          "height": 0
        },
        "id": "78vyJmtStQZS",
        "outputId": "e8ce5286-1b39-4801-fb1e-3246f61a1dd1"
      },
      "execution_count": 16,
      "outputs": [
        {
          "output_type": "execute_result",
          "data": {
            "text/plain": [
              "<matplotlib.axes._subplots.AxesSubplot at 0x7fcc19a8fe90>"
            ]
          },
          "metadata": {},
          "execution_count": 16
        },
        {
          "output_type": "display_data",
          "data": {
            "text/plain": [
              "<Figure size 432x288 with 1 Axes>"
            ],
            "image/png": "[encoded data removed]"
          },
          "metadata": {
            "needs_background": "light"
          }
        }
      ]
    },
    {
      "cell_type": "markdown",
      "source": [
        "### `feat_40` feature\n"
      ],
      "metadata": {
        "id": "FL67samEtR43"
      }
    },
    {
      "cell_type": "code",
      "source": [
        "sns.barplot(x='feat_40', y='target', data=train)"
      ],
      "metadata": {
        "colab": {
          "base_uri": "https://localhost:8080/",
          "height": 0
        },
        "id": "gdiF_0LYtRvX",
        "outputId": "d33b154a-012f-439f-9127-22325efc24a7"
      },
      "execution_count": 17,
      "outputs": [
        {
          "output_type": "execute_result",
          "data": {
            "text/plain": [
              "<matplotlib.axes._subplots.AxesSubplot at 0x7fcc199b3b50>"
            ]
          },
          "metadata": {},
          "execution_count": 17
        },
        {
          "output_type": "display_data",
          "data": {
            "text/plain": [
              "<Figure size 432x288 with 1 Axes>"
            ],
            "image/png": "[encoded data removed]"
          },
          "metadata": {
            "needs_background": "light"
          }
        }
      ]
    },
    {
      "cell_type": "markdown",
      "source": [
        "### `feat_48` feature\n"
      ],
      "metadata": {
        "id": "wlzT3sEytTGy"
      }
    },
    {
      "cell_type": "code",
      "source": [
        "sns.barplot(x='feat_48', y='target', data=train)"
      ],
      "metadata": {
        "colab": {
          "base_uri": "https://localhost:8080/",
          "height": 0
        },
        "id": "OMOrabaNtS9Q",
        "outputId": "16d4150f-5701-4449-ed73-1fe1925bdaee"
      },
      "execution_count": 18,
      "outputs": [
        {
          "output_type": "execute_result",
          "data": {
            "text/plain": [
              "<matplotlib.axes._subplots.AxesSubplot at 0x7fcc1995a590>"
            ]
          },
          "metadata": {},
          "execution_count": 18
        },
        {
          "output_type": "display_data",
          "data": {
            "text/plain": [
              "<Figure size 432x288 with 1 Axes>"
            ],
            "image/png": "[encoded data removed]"
          },
          "metadata": {
            "needs_background": "light"
          }
        }
      ]
    },
    {
      "cell_type": "markdown",
      "source": [
        "### `feat_54` feature\n"
      ],
      "metadata": {
        "id": "3qJGwJFstUhE"
      }
    },
    {
      "cell_type": "code",
      "source": [
        "sns.barplot(x='feat_54', y='target', data=train)"
      ],
      "metadata": {
        "colab": {
          "base_uri": "https://localhost:8080/",
          "height": 0
        },
        "id": "WLZeAmzmtUZ-",
        "outputId": "2173bdbd-6d3d-4e04-d4cb-72c8e5526352"
      },
      "execution_count": 19,
      "outputs": [
        {
          "output_type": "execute_result",
          "data": {
            "text/plain": [
              "<matplotlib.axes._subplots.AxesSubplot at 0x7fcc1995bc90>"
            ]
          },
          "metadata": {},
          "execution_count": 19
        },
        {
          "output_type": "display_data",
          "data": {
            "text/plain": [
              "<Figure size 432x288 with 1 Axes>"
            ],
            "image/png": "[encoded data removed]"
          },
          "metadata": {
            "needs_background": "light"
          }
        }
      ]
    },
    {
      "cell_type": "markdown",
      "source": [
        "### `feat_60` feature\n"
      ],
      "metadata": {
        "id": "AM4kWXRxtVyA"
      }
    },
    {
      "cell_type": "code",
      "source": [
        "sns.barplot(x='feat_60', y='target', data=train)"
      ],
      "metadata": {
        "colab": {
          "base_uri": "https://localhost:8080/",
          "height": 0
        },
        "id": "PZ5xO2n9tVq2",
        "outputId": "4db19583-5ae5-4a07-88e1-833a1dd96474"
      },
      "execution_count": 20,
      "outputs": [
        {
          "output_type": "execute_result",
          "data": {
            "text/plain": [
              "<matplotlib.axes._subplots.AxesSubplot at 0x7fcc1982a910>"
            ]
          },
          "metadata": {},
          "execution_count": 20
        },
        {
          "output_type": "display_data",
          "data": {
            "text/plain": [
              "<Figure size 432x288 with 1 Axes>"
            ],
            "image/png": "[encoded data removed]"
          },
          "metadata": {
            "needs_background": "light"
          }
        }
      ]
    },
    {
      "cell_type": "markdown",
      "source": [
        "### `feat_62` feature\n"
      ],
      "metadata": {
        "id": "HtGzG7iTtXYl"
      }
    },
    {
      "cell_type": "code",
      "source": [
        "sns.barplot(x='feat_62', y='target', data=train)"
      ],
      "metadata": {
        "colab": {
          "base_uri": "https://localhost:8080/",
          "height": 0
        },
        "id": "pw0g_UY7tXPr",
        "outputId": "5a4f8dc1-b47a-485d-cabb-f7b409115aea"
      },
      "execution_count": 21,
      "outputs": [
        {
          "output_type": "execute_result",
          "data": {
            "text/plain": [
              "<matplotlib.axes._subplots.AxesSubplot at 0x7fcc19758410>"
            ]
          },
          "metadata": {},
          "execution_count": 21
        },
        {
          "output_type": "display_data",
          "data": {
            "text/plain": [
              "<Figure size 432x288 with 1 Axes>"
            ],
            "image/png": "[encoded data removed]"
          },
          "metadata": {
            "needs_background": "light"
          }
        }
      ]
    },
    {
      "cell_type": "markdown",
      "source": [
        "### `feat_64` feature\n"
      ],
      "metadata": {
        "id": "TqiazCsRtZJl"
      }
    },
    {
      "cell_type": "code",
      "source": [
        "sns.barplot(x='feat_64', y='target', data=train)"
      ],
      "metadata": {
        "colab": {
          "base_uri": "https://localhost:8080/",
          "height": 0
        },
        "id": "Jre4M0odtZAw",
        "outputId": "12a8edf5-da2e-493c-dc55-8fb21e421425"
      },
      "execution_count": 22,
      "outputs": [
        {
          "output_type": "execute_result",
          "data": {
            "text/plain": [
              "<matplotlib.axes._subplots.AxesSubplot at 0x7fcc1967e750>"
            ]
          },
          "metadata": {},
          "execution_count": 22
        },
        {
          "output_type": "display_data",
          "data": {
            "text/plain": [
              "<Figure size 432x288 with 1 Axes>"
            ],
            "image/png": "[encoded data removed]"
          },
          "metadata": {
            "needs_background": "light"
          }
        }
      ]
    },
    {
      "cell_type": "markdown",
      "source": [
        "### `feat_67` feature\n"
      ],
      "metadata": {
        "id": "aGoquYvvtaTL"
      }
    },
    {
      "cell_type": "code",
      "source": [
        "sns.barplot(x='feat_67', y='target', data=train)"
      ],
      "metadata": {
        "colab": {
          "base_uri": "https://localhost:8080/",
          "height": 0
        },
        "id": "SUpOiQwltaMI",
        "outputId": "e371cf33-bd7b-4291-a5da-26479f37b3d9"
      },
      "execution_count": 23,
      "outputs": [
        {
          "output_type": "execute_result",
          "data": {
            "text/plain": [
              "<matplotlib.axes._subplots.AxesSubplot at 0x7fcc196256d0>"
            ]
          },
          "metadata": {},
          "execution_count": 23
        },
        {
          "output_type": "display_data",
          "data": {
            "text/plain": [
              "<Figure size 432x288 with 1 Axes>"
            ],
            "image/png": "[encoded data removed]"
          },
          "metadata": {
            "needs_background": "light"
          }
        }
      ]
    },
    {
      "cell_type": "markdown",
      "source": [
        "### `feat_86` feature"
      ],
      "metadata": {
        "id": "i8u6wvGjtbne"
      }
    },
    {
      "cell_type": "code",
      "source": [
        "sns.barplot(x='feat_86', y='target', data=train)"
      ],
      "metadata": {
        "colab": {
          "base_uri": "https://localhost:8080/",
          "height": 0
        },
        "id": "yRrwyhjItbH_",
        "outputId": "e7ea3a61-3e6e-4bc2-997b-69406d0019b9"
      },
      "execution_count": 24,
      "outputs": [
        {
          "output_type": "execute_result",
          "data": {
            "text/plain": [
              "<matplotlib.axes._subplots.AxesSubplot at 0x7fcc19c3dc10>"
            ]
          },
          "metadata": {},
          "execution_count": 24
        },
        {
          "output_type": "display_data",
          "data": {
            "text/plain": [
              "<Figure size 432x288 with 1 Axes>"
            ],
            "image/png": "[encoded data removed]"
          },
          "metadata": {
            "needs_background": "light"
          }
        }
      ]
    },
    {
      "cell_type": "markdown",
      "source": [
        "### Analysis of Observations\n",
        "\n",
        "The following anaylsis only discusses the features that have a mean value greater than or equal to 1.0.\n",
        "\n",
        "* Out of the 16 features identified, 5 features appear to belong to 1 class. Taking a look at `feat_9`, `feat_11`, `feat_54`, `feat_60`, and `feat_62` have a fequency in one `target` class that's significantly greater than the others. Given the entire dataset was used to generate the charts, this analysis should hold true and is not a side-effect of having a subset of the data.\n",
        "* `Class_5` is never in the top 3. This likely means the class is made up of a variety of features.\n",
        "* `Class_6` is the top target value to appear within the analyzed dataset; frequency is 4. `Class_2` is the second top target, and `Class_3` is the third top target. (This analysis was done by counting the top 3 target classes for a feature and then counting the frequency of the class within its placement. For example, `Class_3` is the third top target. It appears in `feat_14`, `feat_15`, `feat_25`, `feat_32`, and `feat_86` as third highest.) So, classes 2, 3, and 6 are likely easier to predict but this might lead to overfitting because the test dataset could not include the same feature fequency distributions."
      ],
      "metadata": {
        "id": "jpg-EWJ9-EX5"
      }
    },
    {
      "cell_type": "markdown",
      "source": [
        "## 5) Cleaning Data\n",
        "\n",
        "Before training a model to make predictions, standard practices indicate that cleaning up the data is important. This cleaning can range from removing or replacing values that models cannot interpet to simply splitting the data into features and labels."
      ],
      "metadata": {
        "id": "Mg7mwvl2Wzvs"
      }
    },
    {
      "cell_type": "markdown",
      "source": [
        "### Splitting the data\n",
        "\n",
        "Standard practices of machine learning generally favor splitting the dataset into `training` and `test`. Their names are self-evident, but for clarity, the machine learning model will use the `training` set to learn (i.e. fit), and it will use the `test` set to make predictions.\n",
        "\n",
        "The Kaggle competition has already split the data into train and test data, and this means that both datasets need to be cleaned up at the same time. So, the following steps will be performed twice, except the drop `target` step because the test data does not include those values.\n",
        "\n",
        "Unfortunately, I still need a way to understand the model's accurarcy after fitting. Therefore, the `training` data will also be split."
      ],
      "metadata": {
        "id": "FJMU8K9BUiCm"
      }
    },
    {
      "cell_type": "markdown",
      "source": [
        "### Features\n",
        "\n",
        "These are the columns from the dataset that machine learning models will use to predict a `target` value. Therefore, the first step to clean up the data is to remove the `target`."
      ],
      "metadata": {
        "id": "44HoqabcN2VJ"
      }
    },
    {
      "cell_type": "code",
      "source": [
        "train_features = train.drop('target', axis=1)\n",
        "train_features[:3]"
      ],
      "metadata": {
        "id": "_ur6HctjKn0n",
        "outputId": "d49a8b0a-00eb-4f9c-c49d-8277945f6f75",
        "colab": {
          "base_uri": "https://localhost:8080/",
          "height": 0
        }
      },
      "execution_count": 25,
      "outputs": [
        {
          "output_type": "execute_result",
          "data": {
            "text/plain": [
              "   id  feat_1  feat_2  feat_3  feat_4  feat_5  feat_6  feat_7  feat_8  feat_9  \\\n",
              "0   1       1       0       0       0       0       0       0       0       0   \n",
              "1   2       0       0       0       0       0       0       0       1       0   \n",
              "2   3       0       0       0       0       0       0       0       1       0   \n",
              "\n",
              "   ...  feat_84  feat_85  feat_86  feat_87  feat_88  feat_89  feat_90  \\\n",
              "0  ...        0        1        0        0        0        0        0   \n",
              "1  ...        0        0        0        0        0        0        0   \n",
              "2  ...        0        0        0        0        0        0        0   \n",
              "\n",
              "   feat_91  feat_92  feat_93  \n",
              "0        0        0        0  \n",
              "1        0        0        0  \n",
              "2        0        0        0  \n",
              "\n",
              "[3 rows x 94 columns]"
            ],
            "text/html": [
              "\n",
              "  <div id=\"df-14708abe-9725-469e-b762-cbd613bb5bbe\">\n",
              "    <div class=\"colab-df-container\">\n",
              "      <div>\n",
              "<style scoped>\n",
              "    .dataframe tbody tr th:only-of-type {\n",
              "        vertical-align: middle;\n",
              "    }\n",
              "\n",
              "    .dataframe tbody tr th {\n",
              "        vertical-align: top;\n",
              "    }\n",
              "\n",
              "    .dataframe thead th {\n",
              "        text-align: right;\n",
              "    }\n",
              "</style>\n",
              "<table border=\"1\" class=\"dataframe\">\n",
              "  <thead>\n",
              "    <tr style=\"text-align: right;\">\n",
              "      <th></th>\n",
              "      <th>id</th>\n",
              "      <th>feat_1</th>\n",
              "      <th>feat_2</th>\n",
              "      <th>feat_3</th>\n",
              "      <th>feat_4</th>\n",
              "      <th>feat_5</th>\n",
              "      <th>feat_6</th>\n",
              "      <th>feat_7</th>\n",
              "      <th>feat_8</th>\n",
              "      <th>feat_9</th>\n",
              "      <th>...</th>\n",
              "      <th>feat_84</th>\n",
              "      <th>feat_85</th>\n",
              "      <th>feat_86</th>\n",
              "      <th>feat_87</th>\n",
              "      <th>feat_88</th>\n",
              "      <th>feat_89</th>\n",
              "      <th>feat_90</th>\n",
              "      <th>feat_91</th>\n",
              "      <th>feat_92</th>\n",
              "      <th>feat_93</th>\n",
              "    </tr>\n",
              "  </thead>\n",
              "  <tbody>\n",
              "    <tr>\n",
              "      <th>0</th>\n",
              "      <td>1</td>\n",
              "      <td>1</td>\n",
              "      <td>0</td>\n",
              "      <td>0</td>\n",
              "      <td>0</td>\n",
              "      <td>0</td>\n",
              "      <td>0</td>\n",
              "      <td>0</td>\n",
              "      <td>0</td>\n",
              "      <td>0</td>\n",
              "      <td>...</td>\n",
              "      <td>0</td>\n",
              "      <td>1</td>\n",
              "      <td>0</td>\n",
              "      <td>0</td>\n",
              "      <td>0</td>\n",
              "      <td>0</td>\n",
              "      <td>0</td>\n",
              "      <td>0</td>\n",
              "      <td>0</td>\n",
              "      <td>0</td>\n",
              "    </tr>\n",
              "    <tr>\n",
              "      <th>1</th>\n",
              "      <td>2</td>\n",
              "      <td>0</td>\n",
              "      <td>0</td>\n",
              "      <td>0</td>\n",
              "      <td>0</td>\n",
              "      <td>0</td>\n",
              "      <td>0</td>\n",
              "      <td>0</td>\n",
              "      <td>1</td>\n",
              "      <td>0</td>\n",
              "      <td>...</td>\n",
              "      <td>0</td>\n",
              "      <td>0</td>\n",
              "      <td>0</td>\n",
              "      <td>0</td>\n",
              "      <td>0</td>\n",
              "      <td>0</td>\n",
              "      <td>0</td>\n",
              "      <td>0</td>\n",
              "      <td>0</td>\n",
              "      <td>0</td>\n",
              "    </tr>\n",
              "    <tr>\n",
              "      <th>2</th>\n",
              "      <td>3</td>\n",
              "      <td>0</td>\n",
              "      <td>0</td>\n",
              "      <td>0</td>\n",
              "      <td>0</td>\n",
              "      <td>0</td>\n",
              "      <td>0</td>\n",
              "      <td>0</td>\n",
              "      <td>1</td>\n",
              "      <td>0</td>\n",
              "      <td>...</td>\n",
              "      <td>0</td>\n",
              "      <td>0</td>\n",
              "      <td>0</td>\n",
              "      <td>0</td>\n",
              "      <td>0</td>\n",
              "      <td>0</td>\n",
              "      <td>0</td>\n",
              "      <td>0</td>\n",
              "      <td>0</td>\n",
              "      <td>0</td>\n",
              "    </tr>\n",
              "  </tbody>\n",
              "</table>\n",
              "<p>3 rows × 94 columns</p>\n",
              "</div>\n",
              "      <button class=\"colab-df-convert\" onclick=\"convertToInteractive('df-14708abe-9725-469e-b762-cbd613bb5bbe')\"\n",
              "              title=\"Convert this dataframe to an interactive table.\"\n",
              "              style=\"display:none;\">\n",
              "        \n",
              "  <svg xmlns=\"http://www.w3.org/2000/svg\" height=\"24px\"viewBox=\"0 0 24 24\"\n",
              "       width=\"24px\">\n",
              "    <path d=\"M0 0h24v24H0V0z\" fill=\"none\"/>\n",
              "    <path d=\"M18.56 5.44l.94 2.06.94-2.06 2.06-.94-2.06-.94-.94-2.06-.94 2.06-2.06.94zm-11 1L8.5 8.5l.94-2.06 2.06-.94-2.06-.94L8.5 2.5l-.94 2.06-2.06.94zm10 10l.94 2.06.94-2.06 2.06-.94-2.06-.94-.94-2.06-.94 2.06-2.06.94z\"/><path d=\"M17.41 7.96l-1.37-1.37c-.4-.4-.92-.59-1.43-.59-.52 0-1.04.2-1.43.59L10.3 9.45l-7.72 7.72c-.78.78-.78 2.05 0 2.83L4 21.41c.39.39.9.59 1.41.59.51 0 1.02-.2 1.41-.59l7.78-7.78 2.81-2.81c.8-.78.8-2.07 0-2.86zM5.41 20L4 18.59l7.72-7.72 1.47 1.35L5.41 20z\"/>\n",
              "  </svg>\n",
              "      </button>\n",
              "      \n",
              "  <style>\n",
              "    .colab-df-container {\n",
              "      display:flex;\n",
              "      flex-wrap:wrap;\n",
              "      gap: 12px;\n",
              "    }\n",
              "\n",
              "    .colab-df-convert {\n",
              "      background-color: #E8F0FE;\n",
              "      border: none;\n",
              "      border-radius: 50%;\n",
              "      cursor: pointer;\n",
              "      display: none;\n",
              "      fill: #1967D2;\n",
              "      height: 32px;\n",
              "      padding: 0 0 0 0;\n",
              "      width: 32px;\n",
              "    }\n",
              "\n",
              "    .colab-df-convert:hover {\n",
              "      background-color: #E2EBFA;\n",
              "      box-shadow: 0px 1px 2px rgba(60, 64, 67, 0.3), 0px 1px 3px 1px rgba(60, 64, 67, 0.15);\n",
              "      fill: #174EA6;\n",
              "    }\n",
              "\n",
              "    [theme=dark] .colab-df-convert {\n",
              "      background-color: #3B4455;\n",
              "      fill: #D2E3FC;\n",
              "    }\n",
              "\n",
              "    [theme=dark] .colab-df-convert:hover {\n",
              "      background-color: #434B5C;\n",
              "      box-shadow: 0px 1px 3px 1px rgba(0, 0, 0, 0.15);\n",
              "      filter: drop-shadow(0px 1px 2px rgba(0, 0, 0, 0.3));\n",
              "      fill: #FFFFFF;\n",
              "    }\n",
              "  </style>\n",
              "\n",
              "      <script>\n",
              "        const buttonEl =\n",
              "          document.querySelector('#df-14708abe-9725-469e-b762-cbd613bb5bbe button.colab-df-convert');\n",
              "        buttonEl.style.display =\n",
              "          google.colab.kernel.accessAllowed ? 'block' : 'none';\n",
              "\n",
              "        async function convertToInteractive(key) {\n",
              "          const element = document.querySelector('#df-14708abe-9725-469e-b762-cbd613bb5bbe');\n",
              "          const dataTable =\n",
              "            await google.colab.kernel.invokeFunction('convertToInteractive',\n",
              "                                                     [key], {});\n",
              "          if (!dataTable) return;\n",
              "\n",
              "          const docLinkHtml = 'Like what you see? Visit the ' +\n",
              "            '<a target=\"_blank\" href=https://colab.research.google.com/notebooks/data_table.ipynb>data table notebook</a>'\n",
              "            + ' to learn more about interactive tables.';\n",
              "          element.innerHTML = '';\n",
              "          dataTable['output_type'] = 'display_data';\n",
              "          await google.colab.output.renderOutput(dataTable, element);\n",
              "          const docLink = document.createElement('div');\n",
              "          docLink.innerHTML = docLinkHtml;\n",
              "          element.appendChild(docLink);\n",
              "        }\n",
              "      </script>\n",
              "    </div>\n",
              "  </div>\n",
              "  "
            ]
          },
          "metadata": {},
          "execution_count": 25
        }
      ]
    },
    {
      "cell_type": "markdown",
      "source": [
        "While removing the label column, the `id` column will also be dropped. Dropping the `id` makes sense because it does not provide any value when predicting. The values in that column just increase with each entry."
      ],
      "metadata": {
        "id": "eC14xLqKKujZ"
      }
    },
    {
      "cell_type": "code",
      "source": [
        "train_features = train_features.drop('id', axis=1)\n",
        "train_features[:3]"
      ],
      "metadata": {
        "colab": {
          "base_uri": "https://localhost:8080/",
          "height": 0
        },
        "id": "M80-NIAWd_MA",
        "outputId": "acf128a4-d8c0-4204-b15b-3174c76936ea"
      },
      "execution_count": 26,
      "outputs": [
        {
          "output_type": "execute_result",
          "data": {
            "text/plain": [
              "   feat_1  feat_2  feat_3  feat_4  feat_5  feat_6  feat_7  feat_8  feat_9  \\\n",
              "0       1       0       0       0       0       0       0       0       0   \n",
              "1       0       0       0       0       0       0       0       1       0   \n",
              "2       0       0       0       0       0       0       0       1       0   \n",
              "\n",
              "   feat_10  ...  feat_84  feat_85  feat_86  feat_87  feat_88  feat_89  \\\n",
              "0        0  ...        0        1        0        0        0        0   \n",
              "1        0  ...        0        0        0        0        0        0   \n",
              "2        0  ...        0        0        0        0        0        0   \n",
              "\n",
              "   feat_90  feat_91  feat_92  feat_93  \n",
              "0        0        0        0        0  \n",
              "1        0        0        0        0  \n",
              "2        0        0        0        0  \n",
              "\n",
              "[3 rows x 93 columns]"
            ],
            "text/html": [
              "\n",
              "  <div id=\"df-bdad5a53-0c3b-4967-85eb-6bf4fdf129d4\">\n",
              "    <div class=\"colab-df-container\">\n",
              "      <div>\n",
              "<style scoped>\n",
              "    .dataframe tbody tr th:only-of-type {\n",
              "        vertical-align: middle;\n",
              "    }\n",
              "\n",
              "    .dataframe tbody tr th {\n",
              "        vertical-align: top;\n",
              "    }\n",
              "\n",
              "    .dataframe thead th {\n",
              "        text-align: right;\n",
              "    }\n",
              "</style>\n",
              "<table border=\"1\" class=\"dataframe\">\n",
              "  <thead>\n",
              "    <tr style=\"text-align: right;\">\n",
              "      <th></th>\n",
              "      <th>feat_1</th>\n",
              "      <th>feat_2</th>\n",
              "      <th>feat_3</th>\n",
              "      <th>feat_4</th>\n",
              "      <th>feat_5</th>\n",
              "      <th>feat_6</th>\n",
              "      <th>feat_7</th>\n",
              "      <th>feat_8</th>\n",
              "      <th>feat_9</th>\n",
              "      <th>feat_10</th>\n",
              "      <th>...</th>\n",
              "      <th>feat_84</th>\n",
              "      <th>feat_85</th>\n",
              "      <th>feat_86</th>\n",
              "      <th>feat_87</th>\n",
              "      <th>feat_88</th>\n",
              "      <th>feat_89</th>\n",
              "      <th>feat_90</th>\n",
              "      <th>feat_91</th>\n",
              "      <th>feat_92</th>\n",
              "      <th>feat_93</th>\n",
              "    </tr>\n",
              "  </thead>\n",
              "  <tbody>\n",
              "    <tr>\n",
              "      <th>0</th>\n",
              "      <td>1</td>\n",
              "      <td>0</td>\n",
              "      <td>0</td>\n",
              "      <td>0</td>\n",
              "      <td>0</td>\n",
              "      <td>0</td>\n",
              "      <td>0</td>\n",
              "      <td>0</td>\n",
              "      <td>0</td>\n",
              "      <td>0</td>\n",
              "      <td>...</td>\n",
              "      <td>0</td>\n",
              "      <td>1</td>\n",
              "      <td>0</td>\n",
              "      <td>0</td>\n",
              "      <td>0</td>\n",
              "      <td>0</td>\n",
              "      <td>0</td>\n",
              "      <td>0</td>\n",
              "      <td>0</td>\n",
              "      <td>0</td>\n",
              "    </tr>\n",
              "    <tr>\n",
              "      <th>1</th>\n",
              "      <td>0</td>\n",
              "      <td>0</td>\n",
              "      <td>0</td>\n",
              "      <td>0</td>\n",
              "      <td>0</td>\n",
              "      <td>0</td>\n",
              "      <td>0</td>\n",
              "      <td>1</td>\n",
              "      <td>0</td>\n",
              "      <td>0</td>\n",
              "      <td>...</td>\n",
              "      <td>0</td>\n",
              "      <td>0</td>\n",
              "      <td>0</td>\n",
              "      <td>0</td>\n",
              "      <td>0</td>\n",
              "      <td>0</td>\n",
              "      <td>0</td>\n",
              "      <td>0</td>\n",
              "      <td>0</td>\n",
              "      <td>0</td>\n",
              "    </tr>\n",
              "    <tr>\n",
              "      <th>2</th>\n",
              "      <td>0</td>\n",
              "      <td>0</td>\n",
              "      <td>0</td>\n",
              "      <td>0</td>\n",
              "      <td>0</td>\n",
              "      <td>0</td>\n",
              "      <td>0</td>\n",
              "      <td>1</td>\n",
              "      <td>0</td>\n",
              "      <td>0</td>\n",
              "      <td>...</td>\n",
              "      <td>0</td>\n",
              "      <td>0</td>\n",
              "      <td>0</td>\n",
              "      <td>0</td>\n",
              "      <td>0</td>\n",
              "      <td>0</td>\n",
              "      <td>0</td>\n",
              "      <td>0</td>\n",
              "      <td>0</td>\n",
              "      <td>0</td>\n",
              "    </tr>\n",
              "  </tbody>\n",
              "</table>\n",
              "<p>3 rows × 93 columns</p>\n",
              "</div>\n",
              "      <button class=\"colab-df-convert\" onclick=\"convertToInteractive('df-bdad5a53-0c3b-4967-85eb-6bf4fdf129d4')\"\n",
              "              title=\"Convert this dataframe to an interactive table.\"\n",
              "              style=\"display:none;\">\n",
              "        \n",
              "  <svg xmlns=\"http://www.w3.org/2000/svg\" height=\"24px\"viewBox=\"0 0 24 24\"\n",
              "       width=\"24px\">\n",
              "    <path d=\"M0 0h24v24H0V0z\" fill=\"none\"/>\n",
              "    <path d=\"M18.56 5.44l.94 2.06.94-2.06 2.06-.94-2.06-.94-.94-2.06-.94 2.06-2.06.94zm-11 1L8.5 8.5l.94-2.06 2.06-.94-2.06-.94L8.5 2.5l-.94 2.06-2.06.94zm10 10l.94 2.06.94-2.06 2.06-.94-2.06-.94-.94-2.06-.94 2.06-2.06.94z\"/><path d=\"M17.41 7.96l-1.37-1.37c-.4-.4-.92-.59-1.43-.59-.52 0-1.04.2-1.43.59L10.3 9.45l-7.72 7.72c-.78.78-.78 2.05 0 2.83L4 21.41c.39.39.9.59 1.41.59.51 0 1.02-.2 1.41-.59l7.78-7.78 2.81-2.81c.8-.78.8-2.07 0-2.86zM5.41 20L4 18.59l7.72-7.72 1.47 1.35L5.41 20z\"/>\n",
              "  </svg>\n",
              "      </button>\n",
              "      \n",
              "  <style>\n",
              "    .colab-df-container {\n",
              "      display:flex;\n",
              "      flex-wrap:wrap;\n",
              "      gap: 12px;\n",
              "    }\n",
              "\n",
              "    .colab-df-convert {\n",
              "      background-color: #E8F0FE;\n",
              "      border: none;\n",
              "      border-radius: 50%;\n",
              "      cursor: pointer;\n",
              "      display: none;\n",
              "      fill: #1967D2;\n",
              "      height: 32px;\n",
              "      padding: 0 0 0 0;\n",
              "      width: 32px;\n",
              "    }\n",
              "\n",
              "    .colab-df-convert:hover {\n",
              "      background-color: #E2EBFA;\n",
              "      box-shadow: 0px 1px 2px rgba(60, 64, 67, 0.3), 0px 1px 3px 1px rgba(60, 64, 67, 0.15);\n",
              "      fill: #174EA6;\n",
              "    }\n",
              "\n",
              "    [theme=dark] .colab-df-convert {\n",
              "      background-color: #3B4455;\n",
              "      fill: #D2E3FC;\n",
              "    }\n",
              "\n",
              "    [theme=dark] .colab-df-convert:hover {\n",
              "      background-color: #434B5C;\n",
              "      box-shadow: 0px 1px 3px 1px rgba(0, 0, 0, 0.15);\n",
              "      filter: drop-shadow(0px 1px 2px rgba(0, 0, 0, 0.3));\n",
              "      fill: #FFFFFF;\n",
              "    }\n",
              "  </style>\n",
              "\n",
              "      <script>\n",
              "        const buttonEl =\n",
              "          document.querySelector('#df-bdad5a53-0c3b-4967-85eb-6bf4fdf129d4 button.colab-df-convert');\n",
              "        buttonEl.style.display =\n",
              "          google.colab.kernel.accessAllowed ? 'block' : 'none';\n",
              "\n",
              "        async function convertToInteractive(key) {\n",
              "          const element = document.querySelector('#df-bdad5a53-0c3b-4967-85eb-6bf4fdf129d4');\n",
              "          const dataTable =\n",
              "            await google.colab.kernel.invokeFunction('convertToInteractive',\n",
              "                                                     [key], {});\n",
              "          if (!dataTable) return;\n",
              "\n",
              "          const docLinkHtml = 'Like what you see? Visit the ' +\n",
              "            '<a target=\"_blank\" href=https://colab.research.google.com/notebooks/data_table.ipynb>data table notebook</a>'\n",
              "            + ' to learn more about interactive tables.';\n",
              "          element.innerHTML = '';\n",
              "          dataTable['output_type'] = 'display_data';\n",
              "          await google.colab.output.renderOutput(dataTable, element);\n",
              "          const docLink = document.createElement('div');\n",
              "          docLink.innerHTML = docLinkHtml;\n",
              "          element.appendChild(docLink);\n",
              "        }\n",
              "      </script>\n",
              "    </div>\n",
              "  </div>\n",
              "  "
            ]
          },
          "metadata": {},
          "execution_count": 26
        }
      ]
    },
    {
      "cell_type": "code",
      "source": [
        "test_features = test.drop('id', axis=1)\n",
        "test_features[:3]"
      ],
      "metadata": {
        "colab": {
          "base_uri": "https://localhost:8080/",
          "height": 0
        },
        "id": "Gooc9_6R8peH",
        "outputId": "6380bd9b-45ec-47cd-e311-25d54e366c9e"
      },
      "execution_count": 27,
      "outputs": [
        {
          "output_type": "execute_result",
          "data": {
            "text/plain": [
              "   feat_1  feat_2  feat_3  feat_4  feat_5  feat_6  feat_7  feat_8  feat_9  \\\n",
              "0       0       0       0       0       0       0       0       0       0   \n",
              "1       2       2      14      16       0       0       0       0       0   \n",
              "2       0       1      12       1       0       0       0       0       0   \n",
              "\n",
              "   feat_10  ...  feat_84  feat_85  feat_86  feat_87  feat_88  feat_89  \\\n",
              "0        3  ...      0.0      0.0     11.0      1.0     20.0      0.0   \n",
              "1        0  ...      0.0      0.0      0.0      0.0      0.0      4.0   \n",
              "2        0  ...      0.0      0.0      0.0      0.0      2.0      0.0   \n",
              "\n",
              "   feat_90  feat_91  feat_92  feat_93  \n",
              "0      0.0      0.0      0.0      0.0  \n",
              "1      0.0      0.0      2.0      0.0  \n",
              "2      0.0      0.0      0.0      1.0  \n",
              "\n",
              "[3 rows x 93 columns]"
            ],
            "text/html": [
              "\n",
              "  <div id=\"df-63086591-5953-4cc7-a048-f27643addb48\">\n",
              "    <div class=\"colab-df-container\">\n",
              "      <div>\n",
              "<style scoped>\n",
              "    .dataframe tbody tr th:only-of-type {\n",
              "        vertical-align: middle;\n",
              "    }\n",
              "\n",
              "    .dataframe tbody tr th {\n",
              "        vertical-align: top;\n",
              "    }\n",
              "\n",
              "    .dataframe thead th {\n",
              "        text-align: right;\n",
              "    }\n",
              "</style>\n",
              "<table border=\"1\" class=\"dataframe\">\n",
              "  <thead>\n",
              "    <tr style=\"text-align: right;\">\n",
              "      <th></th>\n",
              "      <th>feat_1</th>\n",
              "      <th>feat_2</th>\n",
              "      <th>feat_3</th>\n",
              "      <th>feat_4</th>\n",
              "      <th>feat_5</th>\n",
              "      <th>feat_6</th>\n",
              "      <th>feat_7</th>\n",
              "      <th>feat_8</th>\n",
              "      <th>feat_9</th>\n",
              "      <th>feat_10</th>\n",
              "      <th>...</th>\n",
              "      <th>feat_84</th>\n",
              "      <th>feat_85</th>\n",
              "      <th>feat_86</th>\n",
              "      <th>feat_87</th>\n",
              "      <th>feat_88</th>\n",
              "      <th>feat_89</th>\n",
              "      <th>feat_90</th>\n",
              "      <th>feat_91</th>\n",
              "      <th>feat_92</th>\n",
              "      <th>feat_93</th>\n",
              "    </tr>\n",
              "  </thead>\n",
              "  <tbody>\n",
              "    <tr>\n",
              "      <th>0</th>\n",
              "      <td>0</td>\n",
              "      <td>0</td>\n",
              "      <td>0</td>\n",
              "      <td>0</td>\n",
              "      <td>0</td>\n",
              "      <td>0</td>\n",
              "      <td>0</td>\n",
              "      <td>0</td>\n",
              "      <td>0</td>\n",
              "      <td>3</td>\n",
              "      <td>...</td>\n",
              "      <td>0.0</td>\n",
              "      <td>0.0</td>\n",
              "      <td>11.0</td>\n",
              "      <td>1.0</td>\n",
              "      <td>20.0</td>\n",
              "      <td>0.0</td>\n",
              "      <td>0.0</td>\n",
              "      <td>0.0</td>\n",
              "      <td>0.0</td>\n",
              "      <td>0.0</td>\n",
              "    </tr>\n",
              "    <tr>\n",
              "      <th>1</th>\n",
              "      <td>2</td>\n",
              "      <td>2</td>\n",
              "      <td>14</td>\n",
              "      <td>16</td>\n",
              "      <td>0</td>\n",
              "      <td>0</td>\n",
              "      <td>0</td>\n",
              "      <td>0</td>\n",
              "      <td>0</td>\n",
              "      <td>0</td>\n",
              "      <td>...</td>\n",
              "      <td>0.0</td>\n",
              "      <td>0.0</td>\n",
              "      <td>0.0</td>\n",
              "      <td>0.0</td>\n",
              "      <td>0.0</td>\n",
              "      <td>4.0</td>\n",
              "      <td>0.0</td>\n",
              "      <td>0.0</td>\n",
              "      <td>2.0</td>\n",
              "      <td>0.0</td>\n",
              "    </tr>\n",
              "    <tr>\n",
              "      <th>2</th>\n",
              "      <td>0</td>\n",
              "      <td>1</td>\n",
              "      <td>12</td>\n",
              "      <td>1</td>\n",
              "      <td>0</td>\n",
              "      <td>0</td>\n",
              "      <td>0</td>\n",
              "      <td>0</td>\n",
              "      <td>0</td>\n",
              "      <td>0</td>\n",
              "      <td>...</td>\n",
              "      <td>0.0</td>\n",
              "      <td>0.0</td>\n",
              "      <td>0.0</td>\n",
              "      <td>0.0</td>\n",
              "      <td>2.0</td>\n",
              "      <td>0.0</td>\n",
              "      <td>0.0</td>\n",
              "      <td>0.0</td>\n",
              "      <td>0.0</td>\n",
              "      <td>1.0</td>\n",
              "    </tr>\n",
              "  </tbody>\n",
              "</table>\n",
              "<p>3 rows × 93 columns</p>\n",
              "</div>\n",
              "      <button class=\"colab-df-convert\" onclick=\"convertToInteractive('df-63086591-5953-4cc7-a048-f27643addb48')\"\n",
              "              title=\"Convert this dataframe to an interactive table.\"\n",
              "              style=\"display:none;\">\n",
              "        \n",
              "  <svg xmlns=\"http://www.w3.org/2000/svg\" height=\"24px\"viewBox=\"0 0 24 24\"\n",
              "       width=\"24px\">\n",
              "    <path d=\"M0 0h24v24H0V0z\" fill=\"none\"/>\n",
              "    <path d=\"M18.56 5.44l.94 2.06.94-2.06 2.06-.94-2.06-.94-.94-2.06-.94 2.06-2.06.94zm-11 1L8.5 8.5l.94-2.06 2.06-.94-2.06-.94L8.5 2.5l-.94 2.06-2.06.94zm10 10l.94 2.06.94-2.06 2.06-.94-2.06-.94-.94-2.06-.94 2.06-2.06.94z\"/><path d=\"M17.41 7.96l-1.37-1.37c-.4-.4-.92-.59-1.43-.59-.52 0-1.04.2-1.43.59L10.3 9.45l-7.72 7.72c-.78.78-.78 2.05 0 2.83L4 21.41c.39.39.9.59 1.41.59.51 0 1.02-.2 1.41-.59l7.78-7.78 2.81-2.81c.8-.78.8-2.07 0-2.86zM5.41 20L4 18.59l7.72-7.72 1.47 1.35L5.41 20z\"/>\n",
              "  </svg>\n",
              "      </button>\n",
              "      \n",
              "  <style>\n",
              "    .colab-df-container {\n",
              "      display:flex;\n",
              "      flex-wrap:wrap;\n",
              "      gap: 12px;\n",
              "    }\n",
              "\n",
              "    .colab-df-convert {\n",
              "      background-color: #E8F0FE;\n",
              "      border: none;\n",
              "      border-radius: 50%;\n",
              "      cursor: pointer;\n",
              "      display: none;\n",
              "      fill: #1967D2;\n",
              "      height: 32px;\n",
              "      padding: 0 0 0 0;\n",
              "      width: 32px;\n",
              "    }\n",
              "\n",
              "    .colab-df-convert:hover {\n",
              "      background-color: #E2EBFA;\n",
              "      box-shadow: 0px 1px 2px rgba(60, 64, 67, 0.3), 0px 1px 3px 1px rgba(60, 64, 67, 0.15);\n",
              "      fill: #174EA6;\n",
              "    }\n",
              "\n",
              "    [theme=dark] .colab-df-convert {\n",
              "      background-color: #3B4455;\n",
              "      fill: #D2E3FC;\n",
              "    }\n",
              "\n",
              "    [theme=dark] .colab-df-convert:hover {\n",
              "      background-color: #434B5C;\n",
              "      box-shadow: 0px 1px 3px 1px rgba(0, 0, 0, 0.15);\n",
              "      filter: drop-shadow(0px 1px 2px rgba(0, 0, 0, 0.3));\n",
              "      fill: #FFFFFF;\n",
              "    }\n",
              "  </style>\n",
              "\n",
              "      <script>\n",
              "        const buttonEl =\n",
              "          document.querySelector('#df-63086591-5953-4cc7-a048-f27643addb48 button.colab-df-convert');\n",
              "        buttonEl.style.display =\n",
              "          google.colab.kernel.accessAllowed ? 'block' : 'none';\n",
              "\n",
              "        async function convertToInteractive(key) {\n",
              "          const element = document.querySelector('#df-63086591-5953-4cc7-a048-f27643addb48');\n",
              "          const dataTable =\n",
              "            await google.colab.kernel.invokeFunction('convertToInteractive',\n",
              "                                                     [key], {});\n",
              "          if (!dataTable) return;\n",
              "\n",
              "          const docLinkHtml = 'Like what you see? Visit the ' +\n",
              "            '<a target=\"_blank\" href=https://colab.research.google.com/notebooks/data_table.ipynb>data table notebook</a>'\n",
              "            + ' to learn more about interactive tables.';\n",
              "          element.innerHTML = '';\n",
              "          dataTable['output_type'] = 'display_data';\n",
              "          await google.colab.output.renderOutput(dataTable, element);\n",
              "          const docLink = document.createElement('div');\n",
              "          docLink.innerHTML = docLinkHtml;\n",
              "          element.appendChild(docLink);\n",
              "        }\n",
              "      </script>\n",
              "    </div>\n",
              "  </div>\n",
              "  "
            ]
          },
          "metadata": {},
          "execution_count": 27
        }
      ]
    },
    {
      "cell_type": "markdown",
      "source": [
        "### Labels\n",
        "\n",
        "Labels are essentially the value a machine learning model should predict. It's effectively the answer. For this dataset, this the label column is `target`. "
      ],
      "metadata": {
        "id": "LNiLqUXTFOU6"
      }
    },
    {
      "cell_type": "code",
      "source": [
        "train_labels = train['target']\n",
        "\n",
        "train_labels[:3]"
      ],
      "metadata": {
        "colab": {
          "base_uri": "https://localhost:8080/"
        },
        "id": "c-d4NXnFFSjr",
        "outputId": "02bc8d5f-0dde-46b3-ff88-2f5866533b44"
      },
      "execution_count": 28,
      "outputs": [
        {
          "output_type": "execute_result",
          "data": {
            "text/plain": [
              "0    Class_1\n",
              "1    Class_1\n",
              "2    Class_1\n",
              "Name: target, dtype: object"
            ]
          },
          "metadata": {},
          "execution_count": 28
        }
      ]
    },
    {
      "cell_type": "markdown",
      "source": [
        "### Encoding\n",
        "\n",
        "Machine learning models (that have been introduced in this class so far) cannot make predictions with features that are `strings`. Fortunately, the features in this dataset are all `ints`. So no encoding is necessary.\n",
        "\n",
        "While the features do not need to be encoded, the labels need encoding for the DNN. This DataFrame will be created now but will not be used until the neural network section."
      ],
      "metadata": {
        "id": "Ee9KalRdRoI3"
      }
    },
    {
      "cell_type": "code",
      "source": [
        "# Get the unique values from the labels dataset.\n",
        "np.unique(train_labels)"
      ],
      "metadata": {
        "colab": {
          "base_uri": "https://localhost:8080/"
        },
        "id": "u33bBS3td51c",
        "outputId": "3c272e15-9bc3-468c-ffbb-6b9655857a74"
      },
      "execution_count": 29,
      "outputs": [
        {
          "output_type": "execute_result",
          "data": {
            "text/plain": [
              "array(['Class_1', 'Class_2', 'Class_3', 'Class_4', 'Class_5', 'Class_6',\n",
              "       'Class_7', 'Class_8', 'Class_9'], dtype=object)"
            ]
          },
          "metadata": {},
          "execution_count": 29
        }
      ]
    },
    {
      "cell_type": "code",
      "source": [
        "# Create the training label set for the DNN.\n",
        "# The train dataset is copied because the replace function doesn't work with a DataFrame that has 1 column.\n",
        "train_labels_cat = train.copy()\n",
        "# The Keras utility `to_categorical` can only transform ints, the values are replaced with their int value.\n",
        "train_labels_cat = train_labels_cat.replace({'target': {'Class_1': 1, 'Class_2': 2, 'Class_3': 3, 'Class_4': 4, 'Class_5': 5, 'Class_6': 6, 'Class_7': 7, 'Class_8': 8, 'Class_9': 9}})\n",
        "train_labels_cat = train_labels_cat['target']\n",
        "train_labels_cat = to_categorical(train_labels_cat)\n",
        "train_labels_cat[:3]"
      ],
      "metadata": {
        "colab": {
          "base_uri": "https://localhost:8080/"
        },
        "id": "UtZF4nNgdBUx",
        "outputId": "1ee1cb12-bca9-4846-d675-b9f5711bc479"
      },
      "execution_count": 30,
      "outputs": [
        {
          "output_type": "execute_result",
          "data": {
            "text/plain": [
              "array([[0., 1., 0., 0., 0., 0., 0., 0., 0., 0.],\n",
              "       [0., 1., 0., 0., 0., 0., 0., 0., 0., 0.],\n",
              "       [0., 1., 0., 0., 0., 0., 0., 0., 0., 0.]], dtype=float32)"
            ]
          },
          "metadata": {},
          "execution_count": 30
        }
      ]
    },
    {
      "cell_type": "markdown",
      "source": [
        "### Normalizing\n",
        "\n",
        "The values in the features columns range a decent amount, from `0` to `87` in some cases. Therefore, the feature values should be normalized. This is also a needed step because DNN's like the data to be normalized because it will help to stablize the gradient descent step."
      ],
      "metadata": {
        "id": "lF2OfEVr3EVS"
      }
    },
    {
      "cell_type": "code",
      "source": [
        "normalized_train_features = (train_features - train_features.min()) / (train_features.max() - train_features.min())\n",
        "normalized_train_features.describe(include=\"all\")"
      ],
      "metadata": {
        "colab": {
          "base_uri": "https://localhost:8080/",
          "height": 0
        },
        "id": "Pko-OHZ36FgZ",
        "outputId": "4b21bfe0-5b02-4105-b822-d771db65f101"
      },
      "execution_count": 31,
      "outputs": [
        {
          "output_type": "execute_result",
          "data": {
            "text/plain": [
              "             feat_1        feat_2        feat_3        feat_4        feat_5  \\\n",
              "count  61878.000000  61878.000000  61878.000000  61878.000000  61878.000000   \n",
              "mean       0.006339      0.005158      0.014085      0.011130      0.003739   \n",
              "std        0.025005      0.024550      0.045857      0.039829      0.023100   \n",
              "min        0.000000      0.000000      0.000000      0.000000      0.000000   \n",
              "25%        0.000000      0.000000      0.000000      0.000000      0.000000   \n",
              "50%        0.000000      0.000000      0.000000      0.000000      0.000000   \n",
              "75%        0.000000      0.000000      0.000000      0.000000      0.000000   \n",
              "max        1.000000      1.000000      1.000000      1.000000      1.000000   \n",
              "\n",
              "             feat_6        feat_7        feat_8        feat_9       feat_10  \\\n",
              "count  61878.000000  61878.000000  61878.000000  61878.000000  61878.000000   \n",
              "mean       0.002570      0.005097      0.008716      0.023519      0.008797   \n",
              "std        0.021533      0.027108      0.029681      0.080810      0.036111   \n",
              "min        0.000000      0.000000      0.000000      0.000000      0.000000   \n",
              "25%        0.000000      0.000000      0.000000      0.000000      0.000000   \n",
              "50%        0.000000      0.000000      0.000000      0.000000      0.000000   \n",
              "75%        0.000000      0.000000      0.013158      0.000000      0.000000   \n",
              "max        1.000000      1.000000      1.000000      1.000000      1.000000   \n",
              "\n",
              "       ...       feat_84       feat_85       feat_86       feat_87  \\\n",
              "count  ...  61878.000000  61878.000000  61878.000000  61878.000000   \n",
              "mean   ...      0.000931      0.009678      0.017363      0.005874   \n",
              "std    ...      0.015151      0.034553      0.041255      0.023514   \n",
              "min    ...      0.000000      0.000000      0.000000      0.000000   \n",
              "25%    ...      0.000000      0.000000      0.000000      0.000000   \n",
              "50%    ...      0.000000      0.000000      0.000000      0.000000   \n",
              "75%    ...      0.000000      0.000000      0.015385      0.000000   \n",
              "max    ...      1.000000      1.000000      1.000000      1.000000   \n",
              "\n",
              "            feat_88       feat_89       feat_90       feat_91       feat_92  \\\n",
              "count  61878.000000  61878.000000  61878.000000  61878.000000  61878.000000   \n",
              "mean       0.029164      0.007504      0.006249      0.005095      0.020006   \n",
              "std        0.070516      0.025039      0.035368      0.039339      0.051704   \n",
              "min        0.000000      0.000000      0.000000      0.000000      0.000000   \n",
              "25%        0.000000      0.000000      0.000000      0.000000      0.000000   \n",
              "50%        0.000000      0.000000      0.000000      0.000000      0.000000   \n",
              "75%        0.033333      0.000000      0.000000      0.000000      0.000000   \n",
              "max        1.000000      1.000000      1.000000      1.000000      1.000000   \n",
              "\n",
              "            feat_93  \n",
              "count  61878.000000  \n",
              "mean       0.001450  \n",
              "std        0.013813  \n",
              "min        0.000000  \n",
              "25%        0.000000  \n",
              "50%        0.000000  \n",
              "75%        0.000000  \n",
              "max        1.000000  \n",
              "\n",
              "[8 rows x 93 columns]"
            ],
            "text/html": [
              "\n",
              "  <div id=\"df-b2755903-a2a6-4a94-a8d8-fbab17eda1c9\">\n",
              "    <div class=\"colab-df-container\">\n",
              "      <div>\n",
              "<style scoped>\n",
              "    .dataframe tbody tr th:only-of-type {\n",
              "        vertical-align: middle;\n",
              "    }\n",
              "\n",
              "    .dataframe tbody tr th {\n",
              "        vertical-align: top;\n",
              "    }\n",
              "\n",
              "    .dataframe thead th {\n",
              "        text-align: right;\n",
              "    }\n",
              "</style>\n",
              "<table border=\"1\" class=\"dataframe\">\n",
              "  <thead>\n",
              "    <tr style=\"text-align: right;\">\n",
              "      <th></th>\n",
              "      <th>feat_1</th>\n",
              "      <th>feat_2</th>\n",
              "      <th>feat_3</th>\n",
              "      <th>feat_4</th>\n",
              "      <th>feat_5</th>\n",
              "      <th>feat_6</th>\n",
              "      <th>feat_7</th>\n",
              "      <th>feat_8</th>\n",
              "      <th>feat_9</th>\n",
              "      <th>feat_10</th>\n",
              "      <th>...</th>\n",
              "      <th>feat_84</th>\n",
              "      <th>feat_85</th>\n",
              "      <th>feat_86</th>\n",
              "      <th>feat_87</th>\n",
              "      <th>feat_88</th>\n",
              "      <th>feat_89</th>\n",
              "      <th>feat_90</th>\n",
              "      <th>feat_91</th>\n",
              "      <th>feat_92</th>\n",
              "      <th>feat_93</th>\n",
              "    </tr>\n",
              "  </thead>\n",
              "  <tbody>\n",
              "    <tr>\n",
              "      <th>count</th>\n",
              "      <td>61878.000000</td>\n",
              "      <td>61878.000000</td>\n",
              "      <td>61878.000000</td>\n",
              "      <td>61878.000000</td>\n",
              "      <td>61878.000000</td>\n",
              "      <td>61878.000000</td>\n",
              "      <td>61878.000000</td>\n",
              "      <td>61878.000000</td>\n",
              "      <td>61878.000000</td>\n",
              "      <td>61878.000000</td>\n",
              "      <td>...</td>\n",
              "      <td>61878.000000</td>\n",
              "      <td>61878.000000</td>\n",
              "      <td>61878.000000</td>\n",
              "      <td>61878.000000</td>\n",
              "      <td>61878.000000</td>\n",
              "      <td>61878.000000</td>\n",
              "      <td>61878.000000</td>\n",
              "      <td>61878.000000</td>\n",
              "      <td>61878.000000</td>\n",
              "      <td>61878.000000</td>\n",
              "    </tr>\n",
              "    <tr>\n",
              "      <th>mean</th>\n",
              "      <td>0.006339</td>\n",
              "      <td>0.005158</td>\n",
              "      <td>0.014085</td>\n",
              "      <td>0.011130</td>\n",
              "      <td>0.003739</td>\n",
              "      <td>0.002570</td>\n",
              "      <td>0.005097</td>\n",
              "      <td>0.008716</td>\n",
              "      <td>0.023519</td>\n",
              "      <td>0.008797</td>\n",
              "      <td>...</td>\n",
              "      <td>0.000931</td>\n",
              "      <td>0.009678</td>\n",
              "      <td>0.017363</td>\n",
              "      <td>0.005874</td>\n",
              "      <td>0.029164</td>\n",
              "      <td>0.007504</td>\n",
              "      <td>0.006249</td>\n",
              "      <td>0.005095</td>\n",
              "      <td>0.020006</td>\n",
              "      <td>0.001450</td>\n",
              "    </tr>\n",
              "    <tr>\n",
              "      <th>std</th>\n",
              "      <td>0.025005</td>\n",
              "      <td>0.024550</td>\n",
              "      <td>0.045857</td>\n",
              "      <td>0.039829</td>\n",
              "      <td>0.023100</td>\n",
              "      <td>0.021533</td>\n",
              "      <td>0.027108</td>\n",
              "      <td>0.029681</td>\n",
              "      <td>0.080810</td>\n",
              "      <td>0.036111</td>\n",
              "      <td>...</td>\n",
              "      <td>0.015151</td>\n",
              "      <td>0.034553</td>\n",
              "      <td>0.041255</td>\n",
              "      <td>0.023514</td>\n",
              "      <td>0.070516</td>\n",
              "      <td>0.025039</td>\n",
              "      <td>0.035368</td>\n",
              "      <td>0.039339</td>\n",
              "      <td>0.051704</td>\n",
              "      <td>0.013813</td>\n",
              "    </tr>\n",
              "    <tr>\n",
              "      <th>min</th>\n",
              "      <td>0.000000</td>\n",
              "      <td>0.000000</td>\n",
              "      <td>0.000000</td>\n",
              "      <td>0.000000</td>\n",
              "      <td>0.000000</td>\n",
              "      <td>0.000000</td>\n",
              "      <td>0.000000</td>\n",
              "      <td>0.000000</td>\n",
              "      <td>0.000000</td>\n",
              "      <td>0.000000</td>\n",
              "      <td>...</td>\n",
              "      <td>0.000000</td>\n",
              "      <td>0.000000</td>\n",
              "      <td>0.000000</td>\n",
              "      <td>0.000000</td>\n",
              "      <td>0.000000</td>\n",
              "      <td>0.000000</td>\n",
              "      <td>0.000000</td>\n",
              "      <td>0.000000</td>\n",
              "      <td>0.000000</td>\n",
              "      <td>0.000000</td>\n",
              "    </tr>\n",
              "    <tr>\n",
              "      <th>25%</th>\n",
              "      <td>0.000000</td>\n",
              "      <td>0.000000</td>\n",
              "      <td>0.000000</td>\n",
              "      <td>0.000000</td>\n",
              "      <td>0.000000</td>\n",
              "      <td>0.000000</td>\n",
              "      <td>0.000000</td>\n",
              "      <td>0.000000</td>\n",
              "      <td>0.000000</td>\n",
              "      <td>0.000000</td>\n",
              "      <td>...</td>\n",
              "      <td>0.000000</td>\n",
              "      <td>0.000000</td>\n",
              "      <td>0.000000</td>\n",
              "      <td>0.000000</td>\n",
              "      <td>0.000000</td>\n",
              "      <td>0.000000</td>\n",
              "      <td>0.000000</td>\n",
              "      <td>0.000000</td>\n",
              "      <td>0.000000</td>\n",
              "      <td>0.000000</td>\n",
              "    </tr>\n",
              "    <tr>\n",
              "      <th>50%</th>\n",
              "      <td>0.000000</td>\n",
              "      <td>0.000000</td>\n",
              "      <td>0.000000</td>\n",
              "      <td>0.000000</td>\n",
              "      <td>0.000000</td>\n",
              "      <td>0.000000</td>\n",
              "      <td>0.000000</td>\n",
              "      <td>0.000000</td>\n",
              "      <td>0.000000</td>\n",
              "      <td>0.000000</td>\n",
              "      <td>...</td>\n",
              "      <td>0.000000</td>\n",
              "      <td>0.000000</td>\n",
              "      <td>0.000000</td>\n",
              "      <td>0.000000</td>\n",
              "      <td>0.000000</td>\n",
              "      <td>0.000000</td>\n",
              "      <td>0.000000</td>\n",
              "      <td>0.000000</td>\n",
              "      <td>0.000000</td>\n",
              "      <td>0.000000</td>\n",
              "    </tr>\n",
              "    <tr>\n",
              "      <th>75%</th>\n",
              "      <td>0.000000</td>\n",
              "      <td>0.000000</td>\n",
              "      <td>0.000000</td>\n",
              "      <td>0.000000</td>\n",
              "      <td>0.000000</td>\n",
              "      <td>0.000000</td>\n",
              "      <td>0.000000</td>\n",
              "      <td>0.013158</td>\n",
              "      <td>0.000000</td>\n",
              "      <td>0.000000</td>\n",
              "      <td>...</td>\n",
              "      <td>0.000000</td>\n",
              "      <td>0.000000</td>\n",
              "      <td>0.015385</td>\n",
              "      <td>0.000000</td>\n",
              "      <td>0.033333</td>\n",
              "      <td>0.000000</td>\n",
              "      <td>0.000000</td>\n",
              "      <td>0.000000</td>\n",
              "      <td>0.000000</td>\n",
              "      <td>0.000000</td>\n",
              "    </tr>\n",
              "    <tr>\n",
              "      <th>max</th>\n",
              "      <td>1.000000</td>\n",
              "      <td>1.000000</td>\n",
              "      <td>1.000000</td>\n",
              "      <td>1.000000</td>\n",
              "      <td>1.000000</td>\n",
              "      <td>1.000000</td>\n",
              "      <td>1.000000</td>\n",
              "      <td>1.000000</td>\n",
              "      <td>1.000000</td>\n",
              "      <td>1.000000</td>\n",
              "      <td>...</td>\n",
              "      <td>1.000000</td>\n",
              "      <td>1.000000</td>\n",
              "      <td>1.000000</td>\n",
              "      <td>1.000000</td>\n",
              "      <td>1.000000</td>\n",
              "      <td>1.000000</td>\n",
              "      <td>1.000000</td>\n",
              "      <td>1.000000</td>\n",
              "      <td>1.000000</td>\n",
              "      <td>1.000000</td>\n",
              "    </tr>\n",
              "  </tbody>\n",
              "</table>\n",
              "<p>8 rows × 93 columns</p>\n",
              "</div>\n",
              "      <button class=\"colab-df-convert\" onclick=\"convertToInteractive('df-b2755903-a2a6-4a94-a8d8-fbab17eda1c9')\"\n",
              "              title=\"Convert this dataframe to an interactive table.\"\n",
              "              style=\"display:none;\">\n",
              "        \n",
              "  <svg xmlns=\"http://www.w3.org/2000/svg\" height=\"24px\"viewBox=\"0 0 24 24\"\n",
              "       width=\"24px\">\n",
              "    <path d=\"M0 0h24v24H0V0z\" fill=\"none\"/>\n",
              "    <path d=\"M18.56 5.44l.94 2.06.94-2.06 2.06-.94-2.06-.94-.94-2.06-.94 2.06-2.06.94zm-11 1L8.5 8.5l.94-2.06 2.06-.94-2.06-.94L8.5 2.5l-.94 2.06-2.06.94zm10 10l.94 2.06.94-2.06 2.06-.94-2.06-.94-.94-2.06-.94 2.06-2.06.94z\"/><path d=\"M17.41 7.96l-1.37-1.37c-.4-.4-.92-.59-1.43-.59-.52 0-1.04.2-1.43.59L10.3 9.45l-7.72 7.72c-.78.78-.78 2.05 0 2.83L4 21.41c.39.39.9.59 1.41.59.51 0 1.02-.2 1.41-.59l7.78-7.78 2.81-2.81c.8-.78.8-2.07 0-2.86zM5.41 20L4 18.59l7.72-7.72 1.47 1.35L5.41 20z\"/>\n",
              "  </svg>\n",
              "      </button>\n",
              "      \n",
              "  <style>\n",
              "    .colab-df-container {\n",
              "      display:flex;\n",
              "      flex-wrap:wrap;\n",
              "      gap: 12px;\n",
              "    }\n",
              "\n",
              "    .colab-df-convert {\n",
              "      background-color: #E8F0FE;\n",
              "      border: none;\n",
              "      border-radius: 50%;\n",
              "      cursor: pointer;\n",
              "      display: none;\n",
              "      fill: #1967D2;\n",
              "      height: 32px;\n",
              "      padding: 0 0 0 0;\n",
              "      width: 32px;\n",
              "    }\n",
              "\n",
              "    .colab-df-convert:hover {\n",
              "      background-color: #E2EBFA;\n",
              "      box-shadow: 0px 1px 2px rgba(60, 64, 67, 0.3), 0px 1px 3px 1px rgba(60, 64, 67, 0.15);\n",
              "      fill: #174EA6;\n",
              "    }\n",
              "\n",
              "    [theme=dark] .colab-df-convert {\n",
              "      background-color: #3B4455;\n",
              "      fill: #D2E3FC;\n",
              "    }\n",
              "\n",
              "    [theme=dark] .colab-df-convert:hover {\n",
              "      background-color: #434B5C;\n",
              "      box-shadow: 0px 1px 3px 1px rgba(0, 0, 0, 0.15);\n",
              "      filter: drop-shadow(0px 1px 2px rgba(0, 0, 0, 0.3));\n",
              "      fill: #FFFFFF;\n",
              "    }\n",
              "  </style>\n",
              "\n",
              "      <script>\n",
              "        const buttonEl =\n",
              "          document.querySelector('#df-b2755903-a2a6-4a94-a8d8-fbab17eda1c9 button.colab-df-convert');\n",
              "        buttonEl.style.display =\n",
              "          google.colab.kernel.accessAllowed ? 'block' : 'none';\n",
              "\n",
              "        async function convertToInteractive(key) {\n",
              "          const element = document.querySelector('#df-b2755903-a2a6-4a94-a8d8-fbab17eda1c9');\n",
              "          const dataTable =\n",
              "            await google.colab.kernel.invokeFunction('convertToInteractive',\n",
              "                                                     [key], {});\n",
              "          if (!dataTable) return;\n",
              "\n",
              "          const docLinkHtml = 'Like what you see? Visit the ' +\n",
              "            '<a target=\"_blank\" href=https://colab.research.google.com/notebooks/data_table.ipynb>data table notebook</a>'\n",
              "            + ' to learn more about interactive tables.';\n",
              "          element.innerHTML = '';\n",
              "          dataTable['output_type'] = 'display_data';\n",
              "          await google.colab.output.renderOutput(dataTable, element);\n",
              "          const docLink = document.createElement('div');\n",
              "          docLink.innerHTML = docLinkHtml;\n",
              "          element.appendChild(docLink);\n",
              "        }\n",
              "      </script>\n",
              "    </div>\n",
              "  </div>\n",
              "  "
            ]
          },
          "metadata": {},
          "execution_count": 31
        }
      ]
    },
    {
      "cell_type": "code",
      "source": [
        "normalized_test_features = (test_features - test_features.min()) / (test_features.max() - test_features.min())\n",
        "normalized_test_features.describe(include=\"all\")"
      ],
      "metadata": {
        "colab": {
          "base_uri": "https://localhost:8080/",
          "height": 0
        },
        "id": "0ZpR49Fg8w47",
        "outputId": "69270235-70d8-431f-f83b-8a0004980453"
      },
      "execution_count": 32,
      "outputs": [
        {
          "output_type": "execute_result",
          "data": {
            "text/plain": [
              "              feat_1         feat_2         feat_3         feat_4  \\\n",
              "count  141021.000000  141021.000000  141021.000000  141021.000000   \n",
              "mean        0.006035       0.005853       0.010707       0.009526   \n",
              "std         0.022919       0.027963       0.035038       0.034713   \n",
              "min         0.000000       0.000000       0.000000       0.000000   \n",
              "25%         0.000000       0.000000       0.000000       0.000000   \n",
              "50%         0.000000       0.000000       0.000000       0.000000   \n",
              "75%         0.000000       0.000000       0.000000       0.000000   \n",
              "max         1.000000       1.000000       1.000000       1.000000   \n",
              "\n",
              "              feat_5         feat_6         feat_7         feat_8  \\\n",
              "count  141021.000000  141021.000000  141021.000000  141021.000000   \n",
              "mean        0.005112       0.002415       0.004553       0.006682   \n",
              "std         0.030636       0.020834       0.024283       0.022905   \n",
              "min         0.000000       0.000000       0.000000       0.000000   \n",
              "25%         0.000000       0.000000       0.000000       0.000000   \n",
              "50%         0.000000       0.000000       0.000000       0.000000   \n",
              "75%         0.000000       0.000000       0.000000       0.010000   \n",
              "max         1.000000       1.000000       1.000000       1.000000   \n",
              "\n",
              "              feat_9        feat_10  ...        feat_84        feat_85  \\\n",
              "count  141021.000000  141021.000000  ...  141020.000000  141020.000000   \n",
              "mean        0.022013       0.004560  ...       0.000566       0.009649   \n",
              "std         0.075495       0.020142  ...       0.009702       0.034155   \n",
              "min         0.000000       0.000000  ...       0.000000       0.000000   \n",
              "25%         0.000000       0.000000  ...       0.000000       0.000000   \n",
              "50%         0.000000       0.000000  ...       0.000000       0.000000   \n",
              "75%         0.000000       0.000000  ...       0.000000       0.000000   \n",
              "max         1.000000       1.000000  ...       1.000000       1.000000   \n",
              "\n",
              "             feat_86        feat_87        feat_88        feat_89  \\\n",
              "count  141020.000000  141020.000000  141020.000000  141020.000000   \n",
              "mean        0.015470       0.007525       0.023668       0.007654   \n",
              "std         0.036796       0.030332       0.056465       0.026236   \n",
              "min         0.000000       0.000000       0.000000       0.000000   \n",
              "25%         0.000000       0.000000       0.000000       0.000000   \n",
              "50%         0.000000       0.000000       0.000000       0.000000   \n",
              "75%         0.013699       0.000000       0.027027       0.000000   \n",
              "max         1.000000       1.000000       1.000000       1.000000   \n",
              "\n",
              "             feat_90        feat_91        feat_92        feat_93  \n",
              "count  141020.000000  141020.000000  141020.000000  141020.000000  \n",
              "mean        0.006844       0.003669       0.017658       0.001465  \n",
              "std         0.038695       0.028090       0.045641       0.014364  \n",
              "min         0.000000       0.000000       0.000000       0.000000  \n",
              "25%         0.000000       0.000000       0.000000       0.000000  \n",
              "50%         0.000000       0.000000       0.000000       0.000000  \n",
              "75%         0.000000       0.000000       0.000000       0.000000  \n",
              "max         1.000000       1.000000       1.000000       1.000000  \n",
              "\n",
              "[8 rows x 93 columns]"
            ],
            "text/html": [
              "\n",
              "  <div id=\"df-8ab59a1c-b0a8-42e7-96a7-cca9384527c0\">\n",
              "    <div class=\"colab-df-container\">\n",
              "      <div>\n",
              "<style scoped>\n",
              "    .dataframe tbody tr th:only-of-type {\n",
              "        vertical-align: middle;\n",
              "    }\n",
              "\n",
              "    .dataframe tbody tr th {\n",
              "        vertical-align: top;\n",
              "    }\n",
              "\n",
              "    .dataframe thead th {\n",
              "        text-align: right;\n",
              "    }\n",
              "</style>\n",
              "<table border=\"1\" class=\"dataframe\">\n",
              "  <thead>\n",
              "    <tr style=\"text-align: right;\">\n",
              "      <th></th>\n",
              "      <th>feat_1</th>\n",
              "      <th>feat_2</th>\n",
              "      <th>feat_3</th>\n",
              "      <th>feat_4</th>\n",
              "      <th>feat_5</th>\n",
              "      <th>feat_6</th>\n",
              "      <th>feat_7</th>\n",
              "      <th>feat_8</th>\n",
              "      <th>feat_9</th>\n",
              "      <th>feat_10</th>\n",
              "      <th>...</th>\n",
              "      <th>feat_84</th>\n",
              "      <th>feat_85</th>\n",
              "      <th>feat_86</th>\n",
              "      <th>feat_87</th>\n",
              "      <th>feat_88</th>\n",
              "      <th>feat_89</th>\n",
              "      <th>feat_90</th>\n",
              "      <th>feat_91</th>\n",
              "      <th>feat_92</th>\n",
              "      <th>feat_93</th>\n",
              "    </tr>\n",
              "  </thead>\n",
              "  <tbody>\n",
              "    <tr>\n",
              "      <th>count</th>\n",
              "      <td>141021.000000</td>\n",
              "      <td>141021.000000</td>\n",
              "      <td>141021.000000</td>\n",
              "      <td>141021.000000</td>\n",
              "      <td>141021.000000</td>\n",
              "      <td>141021.000000</td>\n",
              "      <td>141021.000000</td>\n",
              "      <td>141021.000000</td>\n",
              "      <td>141021.000000</td>\n",
              "      <td>141021.000000</td>\n",
              "      <td>...</td>\n",
              "      <td>141020.000000</td>\n",
              "      <td>141020.000000</td>\n",
              "      <td>141020.000000</td>\n",
              "      <td>141020.000000</td>\n",
              "      <td>141020.000000</td>\n",
              "      <td>141020.000000</td>\n",
              "      <td>141020.000000</td>\n",
              "      <td>141020.000000</td>\n",
              "      <td>141020.000000</td>\n",
              "      <td>141020.000000</td>\n",
              "    </tr>\n",
              "    <tr>\n",
              "      <th>mean</th>\n",
              "      <td>0.006035</td>\n",
              "      <td>0.005853</td>\n",
              "      <td>0.010707</td>\n",
              "      <td>0.009526</td>\n",
              "      <td>0.005112</td>\n",
              "      <td>0.002415</td>\n",
              "      <td>0.004553</td>\n",
              "      <td>0.006682</td>\n",
              "      <td>0.022013</td>\n",
              "      <td>0.004560</td>\n",
              "      <td>...</td>\n",
              "      <td>0.000566</td>\n",
              "      <td>0.009649</td>\n",
              "      <td>0.015470</td>\n",
              "      <td>0.007525</td>\n",
              "      <td>0.023668</td>\n",
              "      <td>0.007654</td>\n",
              "      <td>0.006844</td>\n",
              "      <td>0.003669</td>\n",
              "      <td>0.017658</td>\n",
              "      <td>0.001465</td>\n",
              "    </tr>\n",
              "    <tr>\n",
              "      <th>std</th>\n",
              "      <td>0.022919</td>\n",
              "      <td>0.027963</td>\n",
              "      <td>0.035038</td>\n",
              "      <td>0.034713</td>\n",
              "      <td>0.030636</td>\n",
              "      <td>0.020834</td>\n",
              "      <td>0.024283</td>\n",
              "      <td>0.022905</td>\n",
              "      <td>0.075495</td>\n",
              "      <td>0.020142</td>\n",
              "      <td>...</td>\n",
              "      <td>0.009702</td>\n",
              "      <td>0.034155</td>\n",
              "      <td>0.036796</td>\n",
              "      <td>0.030332</td>\n",
              "      <td>0.056465</td>\n",
              "      <td>0.026236</td>\n",
              "      <td>0.038695</td>\n",
              "      <td>0.028090</td>\n",
              "      <td>0.045641</td>\n",
              "      <td>0.014364</td>\n",
              "    </tr>\n",
              "    <tr>\n",
              "      <th>min</th>\n",
              "      <td>0.000000</td>\n",
              "      <td>0.000000</td>\n",
              "      <td>0.000000</td>\n",
              "      <td>0.000000</td>\n",
              "      <td>0.000000</td>\n",
              "      <td>0.000000</td>\n",
              "      <td>0.000000</td>\n",
              "      <td>0.000000</td>\n",
              "      <td>0.000000</td>\n",
              "      <td>0.000000</td>\n",
              "      <td>...</td>\n",
              "      <td>0.000000</td>\n",
              "      <td>0.000000</td>\n",
              "      <td>0.000000</td>\n",
              "      <td>0.000000</td>\n",
              "      <td>0.000000</td>\n",
              "      <td>0.000000</td>\n",
              "      <td>0.000000</td>\n",
              "      <td>0.000000</td>\n",
              "      <td>0.000000</td>\n",
              "      <td>0.000000</td>\n",
              "    </tr>\n",
              "    <tr>\n",
              "      <th>25%</th>\n",
              "      <td>0.000000</td>\n",
              "      <td>0.000000</td>\n",
              "      <td>0.000000</td>\n",
              "      <td>0.000000</td>\n",
              "      <td>0.000000</td>\n",
              "      <td>0.000000</td>\n",
              "      <td>0.000000</td>\n",
              "      <td>0.000000</td>\n",
              "      <td>0.000000</td>\n",
              "      <td>0.000000</td>\n",
              "      <td>...</td>\n",
              "      <td>0.000000</td>\n",
              "      <td>0.000000</td>\n",
              "      <td>0.000000</td>\n",
              "      <td>0.000000</td>\n",
              "      <td>0.000000</td>\n",
              "      <td>0.000000</td>\n",
              "      <td>0.000000</td>\n",
              "      <td>0.000000</td>\n",
              "      <td>0.000000</td>\n",
              "      <td>0.000000</td>\n",
              "    </tr>\n",
              "    <tr>\n",
              "      <th>50%</th>\n",
              "      <td>0.000000</td>\n",
              "      <td>0.000000</td>\n",
              "      <td>0.000000</td>\n",
              "      <td>0.000000</td>\n",
              "      <td>0.000000</td>\n",
              "      <td>0.000000</td>\n",
              "      <td>0.000000</td>\n",
              "      <td>0.000000</td>\n",
              "      <td>0.000000</td>\n",
              "      <td>0.000000</td>\n",
              "      <td>...</td>\n",
              "      <td>0.000000</td>\n",
              "      <td>0.000000</td>\n",
              "      <td>0.000000</td>\n",
              "      <td>0.000000</td>\n",
              "      <td>0.000000</td>\n",
              "      <td>0.000000</td>\n",
              "      <td>0.000000</td>\n",
              "      <td>0.000000</td>\n",
              "      <td>0.000000</td>\n",
              "      <td>0.000000</td>\n",
              "    </tr>\n",
              "    <tr>\n",
              "      <th>75%</th>\n",
              "      <td>0.000000</td>\n",
              "      <td>0.000000</td>\n",
              "      <td>0.000000</td>\n",
              "      <td>0.000000</td>\n",
              "      <td>0.000000</td>\n",
              "      <td>0.000000</td>\n",
              "      <td>0.000000</td>\n",
              "      <td>0.010000</td>\n",
              "      <td>0.000000</td>\n",
              "      <td>0.000000</td>\n",
              "      <td>...</td>\n",
              "      <td>0.000000</td>\n",
              "      <td>0.000000</td>\n",
              "      <td>0.013699</td>\n",
              "      <td>0.000000</td>\n",
              "      <td>0.027027</td>\n",
              "      <td>0.000000</td>\n",
              "      <td>0.000000</td>\n",
              "      <td>0.000000</td>\n",
              "      <td>0.000000</td>\n",
              "      <td>0.000000</td>\n",
              "    </tr>\n",
              "    <tr>\n",
              "      <th>max</th>\n",
              "      <td>1.000000</td>\n",
              "      <td>1.000000</td>\n",
              "      <td>1.000000</td>\n",
              "      <td>1.000000</td>\n",
              "      <td>1.000000</td>\n",
              "      <td>1.000000</td>\n",
              "      <td>1.000000</td>\n",
              "      <td>1.000000</td>\n",
              "      <td>1.000000</td>\n",
              "      <td>1.000000</td>\n",
              "      <td>...</td>\n",
              "      <td>1.000000</td>\n",
              "      <td>1.000000</td>\n",
              "      <td>1.000000</td>\n",
              "      <td>1.000000</td>\n",
              "      <td>1.000000</td>\n",
              "      <td>1.000000</td>\n",
              "      <td>1.000000</td>\n",
              "      <td>1.000000</td>\n",
              "      <td>1.000000</td>\n",
              "      <td>1.000000</td>\n",
              "    </tr>\n",
              "  </tbody>\n",
              "</table>\n",
              "<p>8 rows × 93 columns</p>\n",
              "</div>\n",
              "      <button class=\"colab-df-convert\" onclick=\"convertToInteractive('df-8ab59a1c-b0a8-42e7-96a7-cca9384527c0')\"\n",
              "              title=\"Convert this dataframe to an interactive table.\"\n",
              "              style=\"display:none;\">\n",
              "        \n",
              "  <svg xmlns=\"http://www.w3.org/2000/svg\" height=\"24px\"viewBox=\"0 0 24 24\"\n",
              "       width=\"24px\">\n",
              "    <path d=\"M0 0h24v24H0V0z\" fill=\"none\"/>\n",
              "    <path d=\"M18.56 5.44l.94 2.06.94-2.06 2.06-.94-2.06-.94-.94-2.06-.94 2.06-2.06.94zm-11 1L8.5 8.5l.94-2.06 2.06-.94-2.06-.94L8.5 2.5l-.94 2.06-2.06.94zm10 10l.94 2.06.94-2.06 2.06-.94-2.06-.94-.94-2.06-.94 2.06-2.06.94z\"/><path d=\"M17.41 7.96l-1.37-1.37c-.4-.4-.92-.59-1.43-.59-.52 0-1.04.2-1.43.59L10.3 9.45l-7.72 7.72c-.78.78-.78 2.05 0 2.83L4 21.41c.39.39.9.59 1.41.59.51 0 1.02-.2 1.41-.59l7.78-7.78 2.81-2.81c.8-.78.8-2.07 0-2.86zM5.41 20L4 18.59l7.72-7.72 1.47 1.35L5.41 20z\"/>\n",
              "  </svg>\n",
              "      </button>\n",
              "      \n",
              "  <style>\n",
              "    .colab-df-container {\n",
              "      display:flex;\n",
              "      flex-wrap:wrap;\n",
              "      gap: 12px;\n",
              "    }\n",
              "\n",
              "    .colab-df-convert {\n",
              "      background-color: #E8F0FE;\n",
              "      border: none;\n",
              "      border-radius: 50%;\n",
              "      cursor: pointer;\n",
              "      display: none;\n",
              "      fill: #1967D2;\n",
              "      height: 32px;\n",
              "      padding: 0 0 0 0;\n",
              "      width: 32px;\n",
              "    }\n",
              "\n",
              "    .colab-df-convert:hover {\n",
              "      background-color: #E2EBFA;\n",
              "      box-shadow: 0px 1px 2px rgba(60, 64, 67, 0.3), 0px 1px 3px 1px rgba(60, 64, 67, 0.15);\n",
              "      fill: #174EA6;\n",
              "    }\n",
              "\n",
              "    [theme=dark] .colab-df-convert {\n",
              "      background-color: #3B4455;\n",
              "      fill: #D2E3FC;\n",
              "    }\n",
              "\n",
              "    [theme=dark] .colab-df-convert:hover {\n",
              "      background-color: #434B5C;\n",
              "      box-shadow: 0px 1px 3px 1px rgba(0, 0, 0, 0.15);\n",
              "      filter: drop-shadow(0px 1px 2px rgba(0, 0, 0, 0.3));\n",
              "      fill: #FFFFFF;\n",
              "    }\n",
              "  </style>\n",
              "\n",
              "      <script>\n",
              "        const buttonEl =\n",
              "          document.querySelector('#df-8ab59a1c-b0a8-42e7-96a7-cca9384527c0 button.colab-df-convert');\n",
              "        buttonEl.style.display =\n",
              "          google.colab.kernel.accessAllowed ? 'block' : 'none';\n",
              "\n",
              "        async function convertToInteractive(key) {\n",
              "          const element = document.querySelector('#df-8ab59a1c-b0a8-42e7-96a7-cca9384527c0');\n",
              "          const dataTable =\n",
              "            await google.colab.kernel.invokeFunction('convertToInteractive',\n",
              "                                                     [key], {});\n",
              "          if (!dataTable) return;\n",
              "\n",
              "          const docLinkHtml = 'Like what you see? Visit the ' +\n",
              "            '<a target=\"_blank\" href=https://colab.research.google.com/notebooks/data_table.ipynb>data table notebook</a>'\n",
              "            + ' to learn more about interactive tables.';\n",
              "          element.innerHTML = '';\n",
              "          dataTable['output_type'] = 'display_data';\n",
              "          await google.colab.output.renderOutput(dataTable, element);\n",
              "          const docLink = document.createElement('div');\n",
              "          docLink.innerHTML = docLinkHtml;\n",
              "          element.appendChild(docLink);\n",
              "        }\n",
              "      </script>\n",
              "    </div>\n",
              "  </div>\n",
              "  "
            ]
          },
          "metadata": {},
          "execution_count": 32
        }
      ]
    },
    {
      "cell_type": "markdown",
      "source": [
        "### Splitting the Training Data"
      ],
      "metadata": {
        "id": "acdgzvueAm1t"
      }
    },
    {
      "cell_type": "code",
      "source": [
        "cb_train_features, cb_test_features, cb_train_labels, cb_test_labels = train_test_split(normalized_train_features, train_labels, test_size = 0.2, random_state=42)"
      ],
      "metadata": {
        "id": "JMVm_9SjAqMv"
      },
      "execution_count": 33,
      "outputs": []
    },
    {
      "cell_type": "markdown",
      "source": [
        "## 6) Base Model\n",
        "\n",
        "Before creating a Dense Neural Network model, it's good practice to create a base model to have a baseline accuracy.\n",
        "\n",
        "The model used for a base accuracy will be a K-Nearest Neighbor Classifier. This classifier was chosen because it takes a supervised learning approach. This is desired because supervised learning works best with classification, and these features are meant to classify products."
      ],
      "metadata": {
        "id": "diq1t1V0_pC8"
      }
    },
    {
      "cell_type": "code",
      "source": [
        "knn = KNeighborsClassifier(n_neighbors=3)\n",
        "knn.fit(cb_train_features, cb_train_labels)\n",
        "knnPredictions = knn.predict(cb_test_features)\n",
        "\n",
        "accuracy_score(cb_test_labels, knnPredictions)"
      ],
      "metadata": {
        "colab": {
          "base_uri": "https://localhost:8080/"
        },
        "id": "kUC4cqpm_t1m",
        "outputId": "8f2ac37e-55fd-492a-c134-233eb2e4773a"
      },
      "execution_count": 34,
      "outputs": [
        {
          "output_type": "execute_result",
          "data": {
            "text/plain": [
              "0.7636554621848739"
            ]
          },
          "metadata": {},
          "execution_count": 34
        }
      ]
    },
    {
      "cell_type": "markdown",
      "source": [
        "Now that we know our base model can achieve 76.4%, let's see what a neural network can achieve."
      ],
      "metadata": {
        "id": "ivz7nTTVF-T6"
      }
    },
    {
      "cell_type": "markdown",
      "source": [
        "## 7) Dense Neural Network (DNN)\n",
        "\n",
        "To create a Dense Neural Network, I will be using [Keras](https://keras.io/api/). According to the Keras [documentation](https://keras.io/about/), \n",
        "\n",
        "> Keras is a deep learning API written in Python, running on top of the machine learning platform [TensorFlow](https://github.com/tensorflow/tensorflow).\n",
        "\n",
        "It's advantages are that it's simple, flexible, and powerful.\n",
        "\n",
        "While Keras provides the ability to create a variety of neural networks, the dense neural network will be used for this project. It was chosen because the dataset is a bit simple compared to other use cases.\n",
        "\n",
        "By simple, I mean the dataset has a dimension of 2. It's rows are the products and the features are the properties of those products. A complex dataset would be a set of images where the rows may represent the x-coordinate and the columns represent the y-coordinate of a pixel, and the value at x,y is the brightness of a pixel. A set of black and white images would therefore have a dimension of 3 because it takes 2 dimensions to store the x,y values and another dimension to store the set of pictures."
      ],
      "metadata": {
        "id": "q4riAX1pW-Yx"
      }
    },
    {
      "cell_type": "code",
      "source": [
        "# Resplit the data with a categorized training label set for the DNN.\n",
        "cb_train_features, cb_test_features, cb_train_labels, cb_test_labels = train_test_split(normalized_train_features, train_labels_cat, test_size = 0.2, random_state=42)"
      ],
      "metadata": {
        "id": "tqG-cvXtNagT"
      },
      "execution_count": 35,
      "outputs": []
    },
    {
      "cell_type": "markdown",
      "source": [
        "Take a look at the shapes to understand how to build the DNN."
      ],
      "metadata": {
        "id": "T1Q52sJEOAEg"
      }
    },
    {
      "cell_type": "code",
      "source": [
        "cb_train_features.shape"
      ],
      "metadata": {
        "colab": {
          "base_uri": "https://localhost:8080/"
        },
        "id": "QPwnQa0sJvL3",
        "outputId": "b73da43b-348a-4979-b768-4f3821a00a53"
      },
      "execution_count": 36,
      "outputs": [
        {
          "output_type": "execute_result",
          "data": {
            "text/plain": [
              "(49502, 93)"
            ]
          },
          "metadata": {},
          "execution_count": 36
        }
      ]
    },
    {
      "cell_type": "code",
      "source": [
        "cb_train_labels.shape"
      ],
      "metadata": {
        "colab": {
          "base_uri": "https://localhost:8080/"
        },
        "id": "sud2oEDiNtXw",
        "outputId": "dd9eaf72-5e3a-44a0-e028-2ed4e541c17c"
      },
      "execution_count": 37,
      "outputs": [
        {
          "output_type": "execute_result",
          "data": {
            "text/plain": [
              "(49502, 10)"
            ]
          },
          "metadata": {},
          "execution_count": 37
        }
      ]
    },
    {
      "cell_type": "code",
      "source": [
        "cb_test_features.shape"
      ],
      "metadata": {
        "colab": {
          "base_uri": "https://localhost:8080/"
        },
        "id": "ZBW2bPe1J52O",
        "outputId": "1ab8530e-3940-4db5-8a3a-86cc984569f5"
      },
      "execution_count": 38,
      "outputs": [
        {
          "output_type": "execute_result",
          "data": {
            "text/plain": [
              "(12376, 93)"
            ]
          },
          "metadata": {},
          "execution_count": 38
        }
      ]
    },
    {
      "cell_type": "code",
      "source": [
        "cb_test_labels.shape"
      ],
      "metadata": {
        "colab": {
          "base_uri": "https://localhost:8080/"
        },
        "id": "Ey4A92kyNv3o",
        "outputId": "3ec447c1-d0bc-4e07-c755-44183d746202"
      },
      "execution_count": 39,
      "outputs": [
        {
          "output_type": "execute_result",
          "data": {
            "text/plain": [
              "(12376, 10)"
            ]
          },
          "metadata": {},
          "execution_count": 39
        }
      ]
    },
    {
      "cell_type": "markdown",
      "source": [
        "Define the parameters for the network."
      ],
      "metadata": {
        "id": "eVsrJzYhOJSI"
      }
    },
    {
      "cell_type": "code",
      "source": [
        "input_size = 93 # The input size is the number of features, 93.\n",
        "hidden_size = [512, 256, 128, 64] # These 4 values are all powers of 2 to ensure the number of possible activations decreases with each hidden layer.\n",
        "output_size = 10 # There are 9 classes and the extra output maps to none of the classes, which is a side effect of the `to_categorical` step."
      ],
      "metadata": {
        "id": "WTv-OODfImT_"
      },
      "execution_count": 40,
      "outputs": []
    },
    {
      "cell_type": "markdown",
      "source": [
        "### Instantiating Networks\n",
        "\n",
        "Build the networks.\n",
        "\n",
        "A variety of networks will be instantiated, compiled, and fitted in the hopes of understanding how many hidden layers are needed."
      ],
      "metadata": {
        "id": "mkPGAPnvONhu"
      }
    },
    {
      "cell_type": "code",
      "source": [
        "network = models.Sequential()\n",
        "network.add(layers.Dense(hidden_size[0], activation='relu', input_shape=(input_size,)))\n",
        "network.add(layers.Dense(output_size, activation='softmax'))\n",
        "\n",
        "network.summary()"
      ],
      "metadata": {
        "colab": {
          "base_uri": "https://localhost:8080/"
        },
        "id": "8txaG1zrJUSM",
        "outputId": "3e04e32a-90e1-43d3-e10f-2f028aeecbcb"
      },
      "execution_count": 41,
      "outputs": [
        {
          "output_type": "stream",
          "name": "stdout",
          "text": [
            "Model: \"sequential\"\n",
            "_________________________________________________________________\n",
            " Layer (type)                Output Shape              Param #   \n",
            "=================================================================\n",
            " dense (Dense)               (None, 512)               48128     \n",
            "                                                                 \n",
            " dense_1 (Dense)             (None, 10)                5130      \n",
            "                                                                 \n",
            "=================================================================\n",
            "Total params: 53,258\n",
            "Trainable params: 53,258\n",
            "Non-trainable params: 0\n",
            "_________________________________________________________________\n"
          ]
        }
      ]
    },
    {
      "cell_type": "code",
      "source": [
        "network2 = models.Sequential()\n",
        "network2.add(layers.Dense(hidden_size[0], activation='relu', input_shape=(input_size,)))\n",
        "network2.add(layers.Dense(hidden_size[1], activation='relu'))\n",
        "network2.add(layers.Dense(output_size, activation='softmax'))\n",
        "\n",
        "network2.summary()"
      ],
      "metadata": {
        "colab": {
          "base_uri": "https://localhost:8080/"
        },
        "id": "ID1PYFgAWl8Z",
        "outputId": "4a593d25-c9e5-496b-af44-ee1fce08f9e4"
      },
      "execution_count": 42,
      "outputs": [
        {
          "output_type": "stream",
          "name": "stdout",
          "text": [
            "Model: \"sequential_1\"\n",
            "_________________________________________________________________\n",
            " Layer (type)                Output Shape              Param #   \n",
            "=================================================================\n",
            " dense_2 (Dense)             (None, 512)               48128     \n",
            "                                                                 \n",
            " dense_3 (Dense)             (None, 256)               131328    \n",
            "                                                                 \n",
            " dense_4 (Dense)             (None, 10)                2570      \n",
            "                                                                 \n",
            "=================================================================\n",
            "Total params: 182,026\n",
            "Trainable params: 182,026\n",
            "Non-trainable params: 0\n",
            "_________________________________________________________________\n"
          ]
        }
      ]
    },
    {
      "cell_type": "code",
      "source": [
        "network3 = models.Sequential()\n",
        "network3.add(layers.Dense(hidden_size[0], activation='relu', input_shape=(input_size,)))\n",
        "network3.add(layers.Dense(hidden_size[1], activation='relu'))\n",
        "network3.add(layers.Dense(hidden_size[2], activation='relu'))\n",
        "network3.add(layers.Dense(output_size, activation='softmax'))\n",
        "\n",
        "network3.summary()"
      ],
      "metadata": {
        "colab": {
          "base_uri": "https://localhost:8080/"
        },
        "id": "vfmpHfYJWyNb",
        "outputId": "1b1a5811-fff4-405c-a53d-111af7b37d85"
      },
      "execution_count": 43,
      "outputs": [
        {
          "output_type": "stream",
          "name": "stdout",
          "text": [
            "Model: \"sequential_2\"\n",
            "_________________________________________________________________\n",
            " Layer (type)                Output Shape              Param #   \n",
            "=================================================================\n",
            " dense_5 (Dense)             (None, 512)               48128     \n",
            "                                                                 \n",
            " dense_6 (Dense)             (None, 256)               131328    \n",
            "                                                                 \n",
            " dense_7 (Dense)             (None, 128)               32896     \n",
            "                                                                 \n",
            " dense_8 (Dense)             (None, 10)                1290      \n",
            "                                                                 \n",
            "=================================================================\n",
            "Total params: 213,642\n",
            "Trainable params: 213,642\n",
            "Non-trainable params: 0\n",
            "_________________________________________________________________\n"
          ]
        }
      ]
    },
    {
      "cell_type": "code",
      "source": [
        "network4 = models.Sequential()\n",
        "network4.add(layers.Dense(hidden_size[0], activation='relu', input_shape=(input_size,)))\n",
        "network4.add(layers.Dense(hidden_size[1], activation='relu'))\n",
        "network4.add(layers.Dense(hidden_size[2], activation='relu'))\n",
        "network4.add(layers.Dense(hidden_size[3], activation='relu'))\n",
        "network4.add(layers.Dense(output_size, activation='softmax'))\n",
        "\n",
        "network4.summary()"
      ],
      "metadata": {
        "id": "jsBwbQfEievM",
        "outputId": "93898126-77bb-40a6-91ef-c89d750b00ab",
        "colab": {
          "base_uri": "https://localhost:8080/"
        }
      },
      "execution_count": 44,
      "outputs": [
        {
          "output_type": "stream",
          "name": "stdout",
          "text": [
            "Model: \"sequential_3\"\n",
            "_________________________________________________________________\n",
            " Layer (type)                Output Shape              Param #   \n",
            "=================================================================\n",
            " dense_9 (Dense)             (None, 512)               48128     \n",
            "                                                                 \n",
            " dense_10 (Dense)            (None, 256)               131328    \n",
            "                                                                 \n",
            " dense_11 (Dense)            (None, 128)               32896     \n",
            "                                                                 \n",
            " dense_12 (Dense)            (None, 64)                8256      \n",
            "                                                                 \n",
            " dense_13 (Dense)            (None, 10)                650       \n",
            "                                                                 \n",
            "=================================================================\n",
            "Total params: 221,258\n",
            "Trainable params: 221,258\n",
            "Non-trainable params: 0\n",
            "_________________________________________________________________\n"
          ]
        }
      ]
    },
    {
      "cell_type": "markdown",
      "source": [
        "### Compile Networks\n",
        "\n",
        "Compile the networks."
      ],
      "metadata": {
        "id": "YvO1s3_lOP6A"
      }
    },
    {
      "cell_type": "code",
      "source": [
        "optimizer = optimizers.RMSprop(learning_rate=1e-4)\n",
        "\n",
        "network.compile(optimizer=optimizer,\n",
        "                loss='categorical_crossentropy',\n",
        "                metrics=['accuracy'])\n",
        "\n",
        "network2.compile(optimizer=optimizer,\n",
        "                loss='categorical_crossentropy',\n",
        "                metrics=['accuracy'])\n",
        "\n",
        "network3.compile(optimizer=optimizer,\n",
        "                loss='categorical_crossentropy',\n",
        "                metrics=['accuracy'])\n",
        "\n",
        "network4.compile(optimizer=optimizer,\n",
        "                loss='categorical_crossentropy',\n",
        "                metrics=['accuracy'])"
      ],
      "metadata": {
        "id": "IFX7G3HFLW_o"
      },
      "execution_count": 45,
      "outputs": []
    },
    {
      "cell_type": "markdown",
      "source": [
        "### Fitting\n",
        "\n",
        "Fit the networks to the dataset.\n",
        "\n",
        "The training dataset is 49502, which factors into `2 * 53 * 467`. So, any combination of the those factors can be used to ensure the fit uses the entire training dataset.\n",
        "\n",
        "To ensure the fitting not take a long time, there will be 53 epochs and each bach will be 934 (2 * 467 = 934)."
      ],
      "metadata": {
        "id": "aqcVd1dlORjV"
      }
    },
    {
      "cell_type": "code",
      "source": [
        "EPOCHS = 53\n",
        "BATCH_SIZE = 934"
      ],
      "metadata": {
        "id": "oRRNZj05RxEx"
      },
      "execution_count": 46,
      "outputs": []
    },
    {
      "cell_type": "code",
      "source": [
        "network.fit(cb_train_features, cb_train_labels, epochs=EPOCHS, batch_size=BATCH_SIZE)"
      ],
      "metadata": {
        "colab": {
          "base_uri": "https://localhost:8080/"
        },
        "id": "Yq0WXq6pLMrR",
        "outputId": "62a10b11-06d7-45e2-98be-7d9d45028329"
      },
      "execution_count": 47,
      "outputs": [
        {
          "output_type": "stream",
          "name": "stdout",
          "text": [
            "Epoch 1/53\n",
            "53/53 [==============================] - 3s 3ms/step - loss: 2.2542 - accuracy: 0.4261\n",
            "Epoch 2/53\n",
            "53/53 [==============================] - 0s 3ms/step - loss: 2.1648 - accuracy: 0.5527\n",
            "Epoch 3/53\n",
            "53/53 [==============================] - 0s 4ms/step - loss: 2.0656 - accuracy: 0.5557\n",
            "Epoch 4/53\n",
            "53/53 [==============================] - 0s 3ms/step - loss: 1.9576 - accuracy: 0.5558\n",
            "Epoch 5/53\n",
            "53/53 [==============================] - 0s 3ms/step - loss: 1.8473 - accuracy: 0.5561\n",
            "Epoch 6/53\n",
            "53/53 [==============================] - 0s 3ms/step - loss: 1.7408 - accuracy: 0.5574\n",
            "Epoch 7/53\n",
            "53/53 [==============================] - 0s 4ms/step - loss: 1.6436 - accuracy: 0.5603\n",
            "Epoch 8/53\n",
            "53/53 [==============================] - 0s 3ms/step - loss: 1.5568 - accuracy: 0.5677\n",
            "Epoch 9/53\n",
            "53/53 [==============================] - 0s 3ms/step - loss: 1.4790 - accuracy: 0.5791\n",
            "Epoch 10/53\n",
            "53/53 [==============================] - 0s 3ms/step - loss: 1.4095 - accuracy: 0.5927\n",
            "Epoch 11/53\n",
            "53/53 [==============================] - 0s 4ms/step - loss: 1.3462 - accuracy: 0.6058\n",
            "Epoch 12/53\n",
            "53/53 [==============================] - 0s 4ms/step - loss: 1.2888 - accuracy: 0.6172\n",
            "Epoch 13/53\n",
            "53/53 [==============================] - 0s 3ms/step - loss: 1.2366 - accuracy: 0.6277\n",
            "Epoch 14/53\n",
            "53/53 [==============================] - 0s 4ms/step - loss: 1.1895 - accuracy: 0.6381\n",
            "Epoch 15/53\n",
            "53/53 [==============================] - 0s 3ms/step - loss: 1.1463 - accuracy: 0.6475\n",
            "Epoch 16/53\n",
            "53/53 [==============================] - 0s 3ms/step - loss: 1.1073 - accuracy: 0.6552\n",
            "Epoch 17/53\n",
            "53/53 [==============================] - 0s 3ms/step - loss: 1.0716 - accuracy: 0.6643\n",
            "Epoch 18/53\n",
            "53/53 [==============================] - 0s 3ms/step - loss: 1.0391 - accuracy: 0.6727\n",
            "Epoch 19/53\n",
            "53/53 [==============================] - 0s 3ms/step - loss: 1.0093 - accuracy: 0.6805\n",
            "Epoch 20/53\n",
            "53/53 [==============================] - 0s 4ms/step - loss: 0.9822 - accuracy: 0.6874\n",
            "Epoch 21/53\n",
            "53/53 [==============================] - 0s 6ms/step - loss: 0.9576 - accuracy: 0.6939\n",
            "Epoch 22/53\n",
            "53/53 [==============================] - 0s 4ms/step - loss: 0.9352 - accuracy: 0.6999\n",
            "Epoch 23/53\n",
            "53/53 [==============================] - 0s 5ms/step - loss: 0.9149 - accuracy: 0.7042\n",
            "Epoch 24/53\n",
            "53/53 [==============================] - 0s 6ms/step - loss: 0.8963 - accuracy: 0.7080\n",
            "Epoch 25/53\n",
            "53/53 [==============================] - 0s 4ms/step - loss: 0.8791 - accuracy: 0.7116\n",
            "Epoch 26/53\n",
            "53/53 [==============================] - 0s 4ms/step - loss: 0.8634 - accuracy: 0.7144\n",
            "Epoch 27/53\n",
            "53/53 [==============================] - 0s 5ms/step - loss: 0.8491 - accuracy: 0.7171\n",
            "Epoch 28/53\n",
            "53/53 [==============================] - 0s 5ms/step - loss: 0.8360 - accuracy: 0.7186\n",
            "Epoch 29/53\n",
            "53/53 [==============================] - 0s 4ms/step - loss: 0.8239 - accuracy: 0.7206\n",
            "Epoch 30/53\n",
            "53/53 [==============================] - 0s 4ms/step - loss: 0.8128 - accuracy: 0.7213\n",
            "Epoch 31/53\n",
            "53/53 [==============================] - 0s 3ms/step - loss: 0.8026 - accuracy: 0.7234\n",
            "Epoch 32/53\n",
            "53/53 [==============================] - 0s 4ms/step - loss: 0.7932 - accuracy: 0.7254\n",
            "Epoch 33/53\n",
            "53/53 [==============================] - 0s 3ms/step - loss: 0.7844 - accuracy: 0.7264\n",
            "Epoch 34/53\n",
            "53/53 [==============================] - 0s 3ms/step - loss: 0.7762 - accuracy: 0.7274\n",
            "Epoch 35/53\n",
            "53/53 [==============================] - 0s 3ms/step - loss: 0.7687 - accuracy: 0.7286\n",
            "Epoch 36/53\n",
            "53/53 [==============================] - 0s 4ms/step - loss: 0.7617 - accuracy: 0.7296\n",
            "Epoch 37/53\n",
            "53/53 [==============================] - 0s 4ms/step - loss: 0.7554 - accuracy: 0.7302\n",
            "Epoch 38/53\n",
            "53/53 [==============================] - 0s 3ms/step - loss: 0.7493 - accuracy: 0.7313\n",
            "Epoch 39/53\n",
            "53/53 [==============================] - 0s 3ms/step - loss: 0.7435 - accuracy: 0.7321\n",
            "Epoch 40/53\n",
            "53/53 [==============================] - 0s 3ms/step - loss: 0.7382 - accuracy: 0.7330\n",
            "Epoch 41/53\n",
            "53/53 [==============================] - 0s 3ms/step - loss: 0.7331 - accuracy: 0.7335\n",
            "Epoch 42/53\n",
            "53/53 [==============================] - 0s 3ms/step - loss: 0.7284 - accuracy: 0.7342\n",
            "Epoch 43/53\n",
            "53/53 [==============================] - 0s 4ms/step - loss: 0.7238 - accuracy: 0.7352\n",
            "Epoch 44/53\n",
            "53/53 [==============================] - 0s 3ms/step - loss: 0.7195 - accuracy: 0.7358\n",
            "Epoch 45/53\n",
            "53/53 [==============================] - 0s 3ms/step - loss: 0.7154 - accuracy: 0.7360\n",
            "Epoch 46/53\n",
            "53/53 [==============================] - 0s 3ms/step - loss: 0.7114 - accuracy: 0.7367\n",
            "Epoch 47/53\n",
            "53/53 [==============================] - 0s 3ms/step - loss: 0.7077 - accuracy: 0.7380\n",
            "Epoch 48/53\n",
            "53/53 [==============================] - 0s 3ms/step - loss: 0.7043 - accuracy: 0.7384\n",
            "Epoch 49/53\n",
            "53/53 [==============================] - 0s 3ms/step - loss: 0.7008 - accuracy: 0.7390\n",
            "Epoch 50/53\n",
            "53/53 [==============================] - 0s 3ms/step - loss: 0.6976 - accuracy: 0.7398\n",
            "Epoch 51/53\n",
            "53/53 [==============================] - 0s 3ms/step - loss: 0.6945 - accuracy: 0.7406\n",
            "Epoch 52/53\n",
            "53/53 [==============================] - 0s 3ms/step - loss: 0.6915 - accuracy: 0.7411\n",
            "Epoch 53/53\n",
            "53/53 [==============================] - 0s 3ms/step - loss: 0.6886 - accuracy: 0.7419\n"
          ]
        },
        {
          "output_type": "execute_result",
          "data": {
            "text/plain": [
              "<keras.callbacks.History at 0x7fcbb25ed690>"
            ]
          },
          "metadata": {},
          "execution_count": 47
        }
      ]
    },
    {
      "cell_type": "code",
      "source": [
        "network2.fit(cb_train_features, cb_train_labels, epochs=EPOCHS, batch_size=BATCH_SIZE)"
      ],
      "metadata": {
        "colab": {
          "base_uri": "https://localhost:8080/"
        },
        "id": "vcTk5P6uXDp7",
        "outputId": "a20fd0ba-a88c-4615-b0c2-f46ca5f58dad"
      },
      "execution_count": 48,
      "outputs": [
        {
          "output_type": "stream",
          "name": "stdout",
          "text": [
            "Epoch 1/53\n",
            "53/53 [==============================] - 1s 3ms/step - loss: 2.1985 - accuracy: 0.4634\n",
            "Epoch 2/53\n",
            "53/53 [==============================] - 0s 3ms/step - loss: 1.9509 - accuracy: 0.5152\n",
            "Epoch 3/53\n",
            "53/53 [==============================] - 0s 3ms/step - loss: 1.6815 - accuracy: 0.5503\n",
            "Epoch 4/53\n",
            "53/53 [==============================] - 0s 3ms/step - loss: 1.4496 - accuracy: 0.5843\n",
            "Epoch 5/53\n",
            "53/53 [==============================] - 0s 4ms/step - loss: 1.2676 - accuracy: 0.6249\n",
            "Epoch 6/53\n",
            "53/53 [==============================] - 0s 3ms/step - loss: 1.1318 - accuracy: 0.6552\n",
            "Epoch 7/53\n",
            "53/53 [==============================] - 0s 3ms/step - loss: 1.0300 - accuracy: 0.6795\n",
            "Epoch 8/53\n",
            "53/53 [==============================] - 0s 3ms/step - loss: 0.9517 - accuracy: 0.6990\n",
            "Epoch 9/53\n",
            "53/53 [==============================] - 0s 3ms/step - loss: 0.8922 - accuracy: 0.7100\n",
            "Epoch 10/53\n",
            "53/53 [==============================] - 0s 3ms/step - loss: 0.8473 - accuracy: 0.7155\n",
            "Epoch 11/53\n",
            "53/53 [==============================] - 0s 3ms/step - loss: 0.8131 - accuracy: 0.7197\n",
            "Epoch 12/53\n",
            "53/53 [==============================] - 0s 4ms/step - loss: 0.7866 - accuracy: 0.7220\n",
            "Epoch 13/53\n",
            "53/53 [==============================] - 0s 3ms/step - loss: 0.7655 - accuracy: 0.7252\n",
            "Epoch 14/53\n",
            "53/53 [==============================] - 0s 3ms/step - loss: 0.7484 - accuracy: 0.7282\n",
            "Epoch 15/53\n",
            "53/53 [==============================] - 0s 3ms/step - loss: 0.7342 - accuracy: 0.7306\n",
            "Epoch 16/53\n",
            "53/53 [==============================] - 0s 3ms/step - loss: 0.7222 - accuracy: 0.7326\n",
            "Epoch 17/53\n",
            "53/53 [==============================] - 0s 3ms/step - loss: 0.7117 - accuracy: 0.7340\n",
            "Epoch 18/53\n",
            "53/53 [==============================] - 0s 3ms/step - loss: 0.7025 - accuracy: 0.7363\n",
            "Epoch 19/53\n",
            "53/53 [==============================] - 0s 3ms/step - loss: 0.6945 - accuracy: 0.7381\n",
            "Epoch 20/53\n",
            "53/53 [==============================] - 0s 3ms/step - loss: 0.6872 - accuracy: 0.7402\n",
            "Epoch 21/53\n",
            "53/53 [==============================] - 0s 3ms/step - loss: 0.6806 - accuracy: 0.7411\n",
            "Epoch 22/53\n",
            "53/53 [==============================] - 0s 3ms/step - loss: 0.6745 - accuracy: 0.7436\n",
            "Epoch 23/53\n",
            "53/53 [==============================] - 0s 4ms/step - loss: 0.6691 - accuracy: 0.7452\n",
            "Epoch 24/53\n",
            "53/53 [==============================] - 0s 3ms/step - loss: 0.6639 - accuracy: 0.7464\n",
            "Epoch 25/53\n",
            "53/53 [==============================] - 0s 3ms/step - loss: 0.6589 - accuracy: 0.7482\n",
            "Epoch 26/53\n",
            "53/53 [==============================] - 0s 3ms/step - loss: 0.6545 - accuracy: 0.7489\n",
            "Epoch 27/53\n",
            "53/53 [==============================] - 0s 3ms/step - loss: 0.6504 - accuracy: 0.7511\n",
            "Epoch 28/53\n",
            "53/53 [==============================] - 0s 4ms/step - loss: 0.6462 - accuracy: 0.7525\n",
            "Epoch 29/53\n",
            "53/53 [==============================] - 0s 3ms/step - loss: 0.6425 - accuracy: 0.7531\n",
            "Epoch 30/53\n",
            "53/53 [==============================] - 0s 3ms/step - loss: 0.6389 - accuracy: 0.7546\n",
            "Epoch 31/53\n",
            "53/53 [==============================] - 0s 3ms/step - loss: 0.6353 - accuracy: 0.7554\n",
            "Epoch 32/53\n",
            "53/53 [==============================] - 0s 3ms/step - loss: 0.6321 - accuracy: 0.7570\n",
            "Epoch 33/53\n",
            "53/53 [==============================] - 0s 3ms/step - loss: 0.6289 - accuracy: 0.7589\n",
            "Epoch 34/53\n",
            "53/53 [==============================] - 0s 3ms/step - loss: 0.6261 - accuracy: 0.7597\n",
            "Epoch 35/53\n",
            "53/53 [==============================] - 0s 3ms/step - loss: 0.6232 - accuracy: 0.7604\n",
            "Epoch 36/53\n",
            "53/53 [==============================] - 0s 3ms/step - loss: 0.6205 - accuracy: 0.7619\n",
            "Epoch 37/53\n",
            "53/53 [==============================] - 0s 4ms/step - loss: 0.6180 - accuracy: 0.7623\n",
            "Epoch 38/53\n",
            "53/53 [==============================] - 0s 3ms/step - loss: 0.6154 - accuracy: 0.7630\n",
            "Epoch 39/53\n",
            "53/53 [==============================] - 0s 3ms/step - loss: 0.6128 - accuracy: 0.7649\n",
            "Epoch 40/53\n",
            "53/53 [==============================] - 0s 3ms/step - loss: 0.6107 - accuracy: 0.7645\n",
            "Epoch 41/53\n",
            "53/53 [==============================] - 0s 3ms/step - loss: 0.6084 - accuracy: 0.7651\n",
            "Epoch 42/53\n",
            "53/53 [==============================] - 0s 3ms/step - loss: 0.6064 - accuracy: 0.7668\n",
            "Epoch 43/53\n",
            "53/53 [==============================] - 0s 3ms/step - loss: 0.6042 - accuracy: 0.7678\n",
            "Epoch 44/53\n",
            "53/53 [==============================] - 0s 3ms/step - loss: 0.6022 - accuracy: 0.7674\n",
            "Epoch 45/53\n",
            "53/53 [==============================] - 0s 3ms/step - loss: 0.6001 - accuracy: 0.7687\n",
            "Epoch 46/53\n",
            "53/53 [==============================] - 0s 3ms/step - loss: 0.5984 - accuracy: 0.7699\n",
            "Epoch 47/53\n",
            "53/53 [==============================] - 0s 4ms/step - loss: 0.5965 - accuracy: 0.7700\n",
            "Epoch 48/53\n",
            "53/53 [==============================] - 0s 3ms/step - loss: 0.5948 - accuracy: 0.7704\n",
            "Epoch 49/53\n",
            "53/53 [==============================] - 0s 3ms/step - loss: 0.5932 - accuracy: 0.7710\n",
            "Epoch 50/53\n",
            "53/53 [==============================] - 0s 4ms/step - loss: 0.5914 - accuracy: 0.7717\n",
            "Epoch 51/53\n",
            "53/53 [==============================] - 0s 3ms/step - loss: 0.5898 - accuracy: 0.7719\n",
            "Epoch 52/53\n",
            "53/53 [==============================] - 0s 3ms/step - loss: 0.5884 - accuracy: 0.7730\n",
            "Epoch 53/53\n",
            "53/53 [==============================] - 0s 3ms/step - loss: 0.5868 - accuracy: 0.7732\n"
          ]
        },
        {
          "output_type": "execute_result",
          "data": {
            "text/plain": [
              "<keras.callbacks.History at 0x7fcbb234fcd0>"
            ]
          },
          "metadata": {},
          "execution_count": 48
        }
      ]
    },
    {
      "cell_type": "code",
      "source": [
        "network3.fit(cb_train_features, cb_train_labels, epochs=EPOCHS, batch_size=BATCH_SIZE)"
      ],
      "metadata": {
        "colab": {
          "base_uri": "https://localhost:8080/"
        },
        "id": "3yM8FHeqXEFK",
        "outputId": "0e39abd9-6ac0-4788-b488-4864df40331c"
      },
      "execution_count": 49,
      "outputs": [
        {
          "output_type": "stream",
          "name": "stdout",
          "text": [
            "Epoch 1/53\n",
            "53/53 [==============================] - 1s 4ms/step - loss: 2.1920 - accuracy: 0.4699\n",
            "Epoch 2/53\n",
            "53/53 [==============================] - 0s 4ms/step - loss: 1.8468 - accuracy: 0.5363\n",
            "Epoch 3/53\n",
            "53/53 [==============================] - 0s 4ms/step - loss: 1.4678 - accuracy: 0.5732\n",
            "Epoch 4/53\n",
            "53/53 [==============================] - 0s 4ms/step - loss: 1.2115 - accuracy: 0.6252\n",
            "Epoch 5/53\n",
            "53/53 [==============================] - 0s 4ms/step - loss: 1.0454 - accuracy: 0.6681\n",
            "Epoch 6/53\n",
            "53/53 [==============================] - 0s 4ms/step - loss: 0.9320 - accuracy: 0.6958\n",
            "Epoch 7/53\n",
            "53/53 [==============================] - 0s 3ms/step - loss: 0.8533 - accuracy: 0.7112\n",
            "Epoch 8/53\n",
            "53/53 [==============================] - 0s 4ms/step - loss: 0.7991 - accuracy: 0.7203\n",
            "Epoch 9/53\n",
            "53/53 [==============================] - 0s 4ms/step - loss: 0.7627 - accuracy: 0.7254\n",
            "Epoch 10/53\n",
            "53/53 [==============================] - 0s 4ms/step - loss: 0.7368 - accuracy: 0.7300\n",
            "Epoch 11/53\n",
            "53/53 [==============================] - 0s 3ms/step - loss: 0.7177 - accuracy: 0.7338\n",
            "Epoch 12/53\n",
            "53/53 [==============================] - 0s 4ms/step - loss: 0.7029 - accuracy: 0.7363\n",
            "Epoch 13/53\n",
            "53/53 [==============================] - 0s 4ms/step - loss: 0.6911 - accuracy: 0.7392\n",
            "Epoch 14/53\n",
            "53/53 [==============================] - 0s 4ms/step - loss: 0.6812 - accuracy: 0.7408\n",
            "Epoch 15/53\n",
            "53/53 [==============================] - 0s 3ms/step - loss: 0.6723 - accuracy: 0.7434\n",
            "Epoch 16/53\n",
            "53/53 [==============================] - 0s 4ms/step - loss: 0.6648 - accuracy: 0.7448\n",
            "Epoch 17/53\n",
            "53/53 [==============================] - 0s 3ms/step - loss: 0.6583 - accuracy: 0.7474\n",
            "Epoch 18/53\n",
            "53/53 [==============================] - 0s 4ms/step - loss: 0.6524 - accuracy: 0.7489\n",
            "Epoch 19/53\n",
            "53/53 [==============================] - 0s 4ms/step - loss: 0.6471 - accuracy: 0.7513\n",
            "Epoch 20/53\n",
            "53/53 [==============================] - 0s 4ms/step - loss: 0.6422 - accuracy: 0.7528\n",
            "Epoch 21/53\n",
            "53/53 [==============================] - 0s 4ms/step - loss: 0.6378 - accuracy: 0.7544\n",
            "Epoch 22/53\n",
            "53/53 [==============================] - 0s 4ms/step - loss: 0.6333 - accuracy: 0.7562\n",
            "Epoch 23/53\n",
            "53/53 [==============================] - 0s 4ms/step - loss: 0.6295 - accuracy: 0.7576\n",
            "Epoch 24/53\n",
            "53/53 [==============================] - 0s 4ms/step - loss: 0.6257 - accuracy: 0.7588\n",
            "Epoch 25/53\n",
            "53/53 [==============================] - 0s 4ms/step - loss: 0.6221 - accuracy: 0.7600\n",
            "Epoch 26/53\n",
            "53/53 [==============================] - 0s 4ms/step - loss: 0.6189 - accuracy: 0.7609\n",
            "Epoch 27/53\n",
            "53/53 [==============================] - 0s 4ms/step - loss: 0.6156 - accuracy: 0.7622\n",
            "Epoch 28/53\n",
            "53/53 [==============================] - 0s 4ms/step - loss: 0.6124 - accuracy: 0.7629\n",
            "Epoch 29/53\n",
            "53/53 [==============================] - 0s 4ms/step - loss: 0.6095 - accuracy: 0.7638\n",
            "Epoch 30/53\n",
            "53/53 [==============================] - 0s 3ms/step - loss: 0.6066 - accuracy: 0.7643\n",
            "Epoch 31/53\n",
            "53/53 [==============================] - 0s 3ms/step - loss: 0.6040 - accuracy: 0.7658\n",
            "Epoch 32/53\n",
            "53/53 [==============================] - 0s 4ms/step - loss: 0.6013 - accuracy: 0.7667\n",
            "Epoch 33/53\n",
            "53/53 [==============================] - 0s 4ms/step - loss: 0.5989 - accuracy: 0.7673\n",
            "Epoch 34/53\n",
            "53/53 [==============================] - 0s 4ms/step - loss: 0.5967 - accuracy: 0.7679\n",
            "Epoch 35/53\n",
            "53/53 [==============================] - 0s 3ms/step - loss: 0.5941 - accuracy: 0.7694\n",
            "Epoch 36/53\n",
            "53/53 [==============================] - 0s 4ms/step - loss: 0.5919 - accuracy: 0.7700\n",
            "Epoch 37/53\n",
            "53/53 [==============================] - 0s 4ms/step - loss: 0.5898 - accuracy: 0.7711\n",
            "Epoch 38/53\n",
            "53/53 [==============================] - 0s 4ms/step - loss: 0.5877 - accuracy: 0.7712\n",
            "Epoch 39/53\n",
            "53/53 [==============================] - 0s 4ms/step - loss: 0.5856 - accuracy: 0.7716\n",
            "Epoch 40/53\n",
            "53/53 [==============================] - 0s 4ms/step - loss: 0.5832 - accuracy: 0.7725\n",
            "Epoch 41/53\n",
            "53/53 [==============================] - 0s 4ms/step - loss: 0.5815 - accuracy: 0.7733\n",
            "Epoch 42/53\n",
            "53/53 [==============================] - 0s 4ms/step - loss: 0.5798 - accuracy: 0.7744\n",
            "Epoch 43/53\n",
            "53/53 [==============================] - 0s 3ms/step - loss: 0.5776 - accuracy: 0.7748\n",
            "Epoch 44/53\n",
            "53/53 [==============================] - 0s 4ms/step - loss: 0.5760 - accuracy: 0.7765\n",
            "Epoch 45/53\n",
            "53/53 [==============================] - 0s 4ms/step - loss: 0.5741 - accuracy: 0.7757\n",
            "Epoch 46/53\n",
            "53/53 [==============================] - 0s 4ms/step - loss: 0.5725 - accuracy: 0.7770\n",
            "Epoch 47/53\n",
            "53/53 [==============================] - 0s 4ms/step - loss: 0.5706 - accuracy: 0.7781\n",
            "Epoch 48/53\n",
            "53/53 [==============================] - 0s 4ms/step - loss: 0.5692 - accuracy: 0.7783\n",
            "Epoch 49/53\n",
            "53/53 [==============================] - 0s 4ms/step - loss: 0.5677 - accuracy: 0.7782\n",
            "Epoch 50/53\n",
            "53/53 [==============================] - 0s 4ms/step - loss: 0.5660 - accuracy: 0.7786\n",
            "Epoch 51/53\n",
            "53/53 [==============================] - 0s 4ms/step - loss: 0.5646 - accuracy: 0.7799\n",
            "Epoch 52/53\n",
            "53/53 [==============================] - 0s 4ms/step - loss: 0.5631 - accuracy: 0.7810\n",
            "Epoch 53/53\n",
            "53/53 [==============================] - 0s 4ms/step - loss: 0.5615 - accuracy: 0.7798\n"
          ]
        },
        {
          "output_type": "execute_result",
          "data": {
            "text/plain": [
              "<keras.callbacks.History at 0x7fcbb21a79d0>"
            ]
          },
          "metadata": {},
          "execution_count": 49
        }
      ]
    },
    {
      "cell_type": "code",
      "source": [
        "network4.fit(cb_train_features, cb_train_labels, epochs=EPOCHS, batch_size=BATCH_SIZE)"
      ],
      "metadata": {
        "id": "Vf33i4P1iovK",
        "outputId": "ef587e0e-9edc-4ed9-872f-809caa6ee827",
        "colab": {
          "base_uri": "https://localhost:8080/"
        }
      },
      "execution_count": 50,
      "outputs": [
        {
          "output_type": "stream",
          "name": "stdout",
          "text": [
            "Epoch 1/53\n",
            "53/53 [==============================] - 1s 4ms/step - loss: 2.1886 - accuracy: 0.4042\n",
            "Epoch 2/53\n",
            "53/53 [==============================] - 0s 4ms/step - loss: 1.8541 - accuracy: 0.4654\n",
            "Epoch 3/53\n",
            "53/53 [==============================] - 0s 4ms/step - loss: 1.4906 - accuracy: 0.5558\n",
            "Epoch 4/53\n",
            "53/53 [==============================] - 0s 4ms/step - loss: 1.2348 - accuracy: 0.6082\n",
            "Epoch 5/53\n",
            "53/53 [==============================] - 0s 4ms/step - loss: 1.0800 - accuracy: 0.6486\n",
            "Epoch 6/53\n",
            "53/53 [==============================] - 0s 4ms/step - loss: 0.9703 - accuracy: 0.6817\n",
            "Epoch 7/53\n",
            "53/53 [==============================] - 0s 4ms/step - loss: 0.8869 - accuracy: 0.7050\n",
            "Epoch 8/53\n",
            "53/53 [==============================] - 0s 4ms/step - loss: 0.8272 - accuracy: 0.7162\n",
            "Epoch 9/53\n",
            "53/53 [==============================] - 0s 4ms/step - loss: 0.7852 - accuracy: 0.7218\n",
            "Epoch 10/53\n",
            "53/53 [==============================] - 0s 4ms/step - loss: 0.7553 - accuracy: 0.7268\n",
            "Epoch 11/53\n",
            "53/53 [==============================] - 0s 4ms/step - loss: 0.7344 - accuracy: 0.7290\n",
            "Epoch 12/53\n",
            "53/53 [==============================] - 0s 4ms/step - loss: 0.7182 - accuracy: 0.7330\n",
            "Epoch 13/53\n",
            "53/53 [==============================] - 0s 4ms/step - loss: 0.7047 - accuracy: 0.7347\n",
            "Epoch 14/53\n",
            "53/53 [==============================] - 0s 4ms/step - loss: 0.6931 - accuracy: 0.7375\n",
            "Epoch 15/53\n",
            "53/53 [==============================] - 0s 4ms/step - loss: 0.6830 - accuracy: 0.7399\n",
            "Epoch 16/53\n",
            "53/53 [==============================] - 0s 4ms/step - loss: 0.6745 - accuracy: 0.7419\n",
            "Epoch 17/53\n",
            "53/53 [==============================] - 0s 4ms/step - loss: 0.6664 - accuracy: 0.7447\n",
            "Epoch 18/53\n",
            "53/53 [==============================] - 0s 4ms/step - loss: 0.6590 - accuracy: 0.7470\n",
            "Epoch 19/53\n",
            "53/53 [==============================] - 0s 4ms/step - loss: 0.6526 - accuracy: 0.7495\n",
            "Epoch 20/53\n",
            "53/53 [==============================] - 0s 4ms/step - loss: 0.6473 - accuracy: 0.7504\n",
            "Epoch 21/53\n",
            "53/53 [==============================] - 0s 4ms/step - loss: 0.6419 - accuracy: 0.7525\n",
            "Epoch 22/53\n",
            "53/53 [==============================] - 0s 4ms/step - loss: 0.6369 - accuracy: 0.7541\n",
            "Epoch 23/53\n",
            "53/53 [==============================] - 0s 4ms/step - loss: 0.6320 - accuracy: 0.7562\n",
            "Epoch 24/53\n",
            "53/53 [==============================] - 0s 4ms/step - loss: 0.6283 - accuracy: 0.7577\n",
            "Epoch 25/53\n",
            "53/53 [==============================] - 0s 4ms/step - loss: 0.6242 - accuracy: 0.7583\n",
            "Epoch 26/53\n",
            "53/53 [==============================] - 0s 4ms/step - loss: 0.6207 - accuracy: 0.7601\n",
            "Epoch 27/53\n",
            "53/53 [==============================] - 0s 4ms/step - loss: 0.6169 - accuracy: 0.7615\n",
            "Epoch 28/53\n",
            "53/53 [==============================] - 0s 4ms/step - loss: 0.6138 - accuracy: 0.7623\n",
            "Epoch 29/53\n",
            "53/53 [==============================] - 0s 4ms/step - loss: 0.6108 - accuracy: 0.7633\n",
            "Epoch 30/53\n",
            "53/53 [==============================] - 0s 4ms/step - loss: 0.6072 - accuracy: 0.7644\n",
            "Epoch 31/53\n",
            "53/53 [==============================] - 0s 4ms/step - loss: 0.6048 - accuracy: 0.7664\n",
            "Epoch 32/53\n",
            "53/53 [==============================] - 0s 4ms/step - loss: 0.6021 - accuracy: 0.7673\n",
            "Epoch 33/53\n",
            "53/53 [==============================] - 0s 4ms/step - loss: 0.5992 - accuracy: 0.7665\n",
            "Epoch 34/53\n",
            "53/53 [==============================] - 0s 4ms/step - loss: 0.5968 - accuracy: 0.7688\n",
            "Epoch 35/53\n",
            "53/53 [==============================] - 0s 4ms/step - loss: 0.5940 - accuracy: 0.7700\n",
            "Epoch 36/53\n",
            "53/53 [==============================] - 0s 4ms/step - loss: 0.5921 - accuracy: 0.7696\n",
            "Epoch 37/53\n",
            "53/53 [==============================] - 0s 4ms/step - loss: 0.5895 - accuracy: 0.7704\n",
            "Epoch 38/53\n",
            "53/53 [==============================] - 0s 4ms/step - loss: 0.5874 - accuracy: 0.7716\n",
            "Epoch 39/53\n",
            "53/53 [==============================] - 0s 4ms/step - loss: 0.5853 - accuracy: 0.7723\n",
            "Epoch 40/53\n",
            "53/53 [==============================] - 0s 4ms/step - loss: 0.5829 - accuracy: 0.7722\n",
            "Epoch 41/53\n",
            "53/53 [==============================] - 0s 4ms/step - loss: 0.5811 - accuracy: 0.7738\n",
            "Epoch 42/53\n",
            "53/53 [==============================] - 0s 4ms/step - loss: 0.5791 - accuracy: 0.7735\n",
            "Epoch 43/53\n",
            "53/53 [==============================] - 0s 4ms/step - loss: 0.5771 - accuracy: 0.7752\n",
            "Epoch 44/53\n",
            "53/53 [==============================] - 0s 4ms/step - loss: 0.5751 - accuracy: 0.7754\n",
            "Epoch 45/53\n",
            "53/53 [==============================] - 0s 4ms/step - loss: 0.5736 - accuracy: 0.7755\n",
            "Epoch 46/53\n",
            "53/53 [==============================] - 0s 4ms/step - loss: 0.5717 - accuracy: 0.7774\n",
            "Epoch 47/53\n",
            "53/53 [==============================] - 0s 4ms/step - loss: 0.5696 - accuracy: 0.7775\n",
            "Epoch 48/53\n",
            "53/53 [==============================] - 0s 4ms/step - loss: 0.5684 - accuracy: 0.7779\n",
            "Epoch 49/53\n",
            "53/53 [==============================] - 0s 4ms/step - loss: 0.5666 - accuracy: 0.7780\n",
            "Epoch 50/53\n",
            "53/53 [==============================] - 0s 4ms/step - loss: 0.5650 - accuracy: 0.7789\n",
            "Epoch 51/53\n",
            "53/53 [==============================] - 0s 4ms/step - loss: 0.5635 - accuracy: 0.7794\n",
            "Epoch 52/53\n",
            "53/53 [==============================] - 0s 4ms/step - loss: 0.5618 - accuracy: 0.7804\n",
            "Epoch 53/53\n",
            "53/53 [==============================] - 0s 4ms/step - loss: 0.5600 - accuracy: 0.7797\n"
          ]
        },
        {
          "output_type": "execute_result",
          "data": {
            "text/plain": [
              "<keras.callbacks.History at 0x7fcbb2222410>"
            ]
          },
          "metadata": {},
          "execution_count": 50
        }
      ]
    },
    {
      "cell_type": "markdown",
      "source": [
        "### Accuracy of Networks"
      ],
      "metadata": {
        "id": "tLD0d0hlX7i1"
      }
    },
    {
      "cell_type": "markdown",
      "source": [
        "#### 1 Hidden Layer"
      ],
      "metadata": {
        "id": "LBz2zCW0XGRu"
      }
    },
    {
      "cell_type": "code",
      "source": [
        "test_loss, test_acc = network.evaluate(cb_test_features, cb_test_labels)"
      ],
      "metadata": {
        "colab": {
          "base_uri": "https://localhost:8080/"
        },
        "id": "9mlIZDiUPKkA",
        "outputId": "77f2ceeb-c0d8-43df-e72f-ea56009a09c2"
      },
      "execution_count": 51,
      "outputs": [
        {
          "output_type": "stream",
          "name": "stdout",
          "text": [
            "387/387 [==============================] - 1s 2ms/step - loss: 0.6836 - accuracy: 0.7468\n"
          ]
        }
      ]
    },
    {
      "cell_type": "code",
      "source": [
        "print('test_acc:', test_acc)"
      ],
      "metadata": {
        "colab": {
          "base_uri": "https://localhost:8080/"
        },
        "id": "ICy2EJXxPPwO",
        "outputId": "50ff3474-f780-4cf5-9917-c81fad2c7dec"
      },
      "execution_count": 52,
      "outputs": [
        {
          "output_type": "stream",
          "name": "stdout",
          "text": [
            "test_acc: 0.7467679381370544\n"
          ]
        }
      ]
    },
    {
      "cell_type": "markdown",
      "source": [
        "#### 2 Hidden Layers"
      ],
      "metadata": {
        "id": "TBHPe5cLXKQL"
      }
    },
    {
      "cell_type": "code",
      "source": [
        "test_loss, test_acc = network2.evaluate(cb_test_features, cb_test_labels)"
      ],
      "metadata": {
        "colab": {
          "base_uri": "https://localhost:8080/"
        },
        "id": "wCJCrZz6XMAi",
        "outputId": "7c4ea34d-0197-4b78-e432-90fa15bc6b7b"
      },
      "execution_count": 53,
      "outputs": [
        {
          "output_type": "stream",
          "name": "stdout",
          "text": [
            "387/387 [==============================] - 1s 2ms/step - loss: 0.5907 - accuracy: 0.7708\n"
          ]
        }
      ]
    },
    {
      "cell_type": "code",
      "source": [
        "print('test_acc:', test_acc)"
      ],
      "metadata": {
        "colab": {
          "base_uri": "https://localhost:8080/"
        },
        "id": "rWeje3XKXMg-",
        "outputId": "7efc3748-6ddc-47e1-efb9-8bee1989e0dd"
      },
      "execution_count": 54,
      "outputs": [
        {
          "output_type": "stream",
          "name": "stdout",
          "text": [
            "test_acc: 0.770766019821167\n"
          ]
        }
      ]
    },
    {
      "cell_type": "markdown",
      "source": [
        "#### 3 Hidden Layers"
      ],
      "metadata": {
        "id": "stimYslrXM51"
      }
    },
    {
      "cell_type": "code",
      "source": [
        "test_loss, test_acc = network3.evaluate(cb_test_features, cb_test_labels)"
      ],
      "metadata": {
        "colab": {
          "base_uri": "https://localhost:8080/"
        },
        "id": "IoZVL9LSXO4-",
        "outputId": "853b22d7-30f6-4eac-c3fa-963787e12785"
      },
      "execution_count": 55,
      "outputs": [
        {
          "output_type": "stream",
          "name": "stdout",
          "text": [
            "387/387 [==============================] - 1s 3ms/step - loss: 0.5701 - accuracy: 0.7781\n"
          ]
        }
      ]
    },
    {
      "cell_type": "code",
      "source": [
        "print('test_acc:', test_acc)"
      ],
      "metadata": {
        "colab": {
          "base_uri": "https://localhost:8080/"
        },
        "id": "jWkl8zZHXOyA",
        "outputId": "0f4d2b79-06b6-4acf-96bb-978c38323613"
      },
      "execution_count": 56,
      "outputs": [
        {
          "output_type": "stream",
          "name": "stdout",
          "text": [
            "test_acc: 0.7781189680099487\n"
          ]
        }
      ]
    },
    {
      "cell_type": "markdown",
      "source": [
        "#### 4 Hidden Layers"
      ],
      "metadata": {
        "id": "sqCqJ2QHirGj"
      }
    },
    {
      "cell_type": "code",
      "source": [
        "test_loss, test_acc = network4.evaluate(cb_test_features, cb_test_labels)"
      ],
      "metadata": {
        "id": "6UOGVtQbiruB",
        "outputId": "6514656d-efd4-487b-ac37-1ea346d36f3c",
        "colab": {
          "base_uri": "https://localhost:8080/"
        }
      },
      "execution_count": 57,
      "outputs": [
        {
          "output_type": "stream",
          "name": "stdout",
          "text": [
            "387/387 [==============================] - 1s 2ms/step - loss: 0.5673 - accuracy: 0.7807\n"
          ]
        }
      ]
    },
    {
      "cell_type": "code",
      "source": [
        "print('test_acc:', test_acc)"
      ],
      "metadata": {
        "id": "PrCX974pircp",
        "outputId": "458bdc49-cd4a-44c1-fb89-702246a28c0d",
        "colab": {
          "base_uri": "https://localhost:8080/"
        }
      },
      "execution_count": 58,
      "outputs": [
        {
          "output_type": "stream",
          "name": "stdout",
          "text": [
            "test_acc: 0.7807046175003052\n"
          ]
        }
      ]
    },
    {
      "cell_type": "markdown",
      "source": [
        "## 8) Conclusion\n",
        "\n",
        "The accuracy for the training dataset is 0.7931480407714844 with 4 hidden nodes. That was the best performance out of the tested models."
      ],
      "metadata": {
        "id": "7PpKPYNvXBuH"
      }
    },
    {
      "cell_type": "markdown",
      "source": [
        "### Summary of Scores\n",
        "\n",
        "| Classifier      | Score |\n",
        "| ----------- | ----------- |\n",
        "| KNN      | 0.7636554621848739       |\n",
        "| DNN (1 Hidden)   | 0.7459599375724792        |\n",
        "| DNN (2 Hidden)   | 0.7731092572212219        |\n",
        "| DNN (3 Hidden)   | 0.7781997323036194        |\n",
        "| DNN (4 Hidden)   | 0.7931480407714844        |\n",
        "\n",
        "### Best Hyperparameters\n",
        "\n",
        "Given the data above,\n",
        "\n",
        "* It seems that having at least 2 hidden layers will generate an accuracy greater than the base model (kNN, where k=3).\n",
        "* The 4th hidden layer did not improve the accuracy too much. It might be worth testing different unit values for the hidden layers to see if the last layer being 64 makes a difference. It could be that larger inputs larger than the initial input size of 93 perform better."
      ],
      "metadata": {
        "id": "KnJo30-wVY8-"
      }
    },
    {
      "cell_type": "markdown",
      "source": [
        "## 9) Kaggle Submission\n",
        "\n",
        "The Kaggle competition included a sample submission file. The file was included as a way to submit the predictions made by a model.\n",
        "\n",
        "Because DNN with 4 hidden layers performed the best, it will be used to make predictions based on the `test.csv` dataset."
      ],
      "metadata": {
        "id": "x-885yjekc5L"
      }
    },
    {
      "cell_type": "code",
      "source": [
        "best_dnn_predictions = network4.predict(test_features)"
      ],
      "metadata": {
        "id": "IOwqNVsfliti",
        "outputId": "103d113a-ab9a-46f3-fdf0-e3a9a7b5db50",
        "colab": {
          "base_uri": "https://localhost:8080/"
        }
      },
      "execution_count": 59,
      "outputs": [
        {
          "output_type": "stream",
          "name": "stdout",
          "text": [
            "4407/4407 [==============================] - 7s 2ms/step\n"
          ]
        }
      ]
    },
    {
      "cell_type": "code",
      "source": [
        "best_dnn_predictions"
      ],
      "metadata": {
        "id": "MbdTpkDlmJhk",
        "outputId": "15433b51-4a6c-4d6f-c2d5-768aaa489ed2",
        "colab": {
          "base_uri": "https://localhost:8080/"
        }
      },
      "execution_count": 60,
      "outputs": [
        {
          "output_type": "execute_result",
          "data": {
            "text/plain": [
              "array([[0.0000000e+00, 0.0000000e+00, 6.7751441e-04, ..., 2.5243559e-20,\n",
              "        0.0000000e+00, 0.0000000e+00],\n",
              "       [0.0000000e+00, 0.0000000e+00, 0.0000000e+00, ..., 0.0000000e+00,\n",
              "        1.0000000e+00, 0.0000000e+00],\n",
              "       [0.0000000e+00, 0.0000000e+00, 0.0000000e+00, ..., 0.0000000e+00,\n",
              "        0.0000000e+00, 0.0000000e+00],\n",
              "       ...,\n",
              "       [0.0000000e+00, 3.3383541e-36, 6.9174173e-11, ..., 2.0973906e-01,\n",
              "        2.3187097e-20, 0.0000000e+00],\n",
              "       [0.0000000e+00, 8.6339858e-34, 0.0000000e+00, ..., 0.0000000e+00,\n",
              "        0.0000000e+00, 1.0000000e+00],\n",
              "       [          nan,           nan,           nan, ...,           nan,\n",
              "                  nan,           nan]], dtype=float32)"
            ]
          },
          "metadata": {},
          "execution_count": 60
        }
      ]
    },
    {
      "cell_type": "code",
      "source": [
        "predictions_df = pd.DataFrame(best_dnn_predictions, columns=['Class_0', 'Class_1', 'Class_2', 'Class_3', 'Class_4', 'Class_5', 'Class_6', 'Class_7', 'Class_8', 'Class_9'])\n",
        "predictions_df[:3]"
      ],
      "metadata": {
        "id": "CFpG6dQvop1y",
        "outputId": "eece1553-b875-4670-fdb2-5c17803aa27e",
        "colab": {
          "base_uri": "https://localhost:8080/",
          "height": 143
        }
      },
      "execution_count": 61,
      "outputs": [
        {
          "output_type": "execute_result",
          "data": {
            "text/plain": [
              "   Class_0  Class_1   Class_2   Class_3       Class_4  Class_5  Class_6  \\\n",
              "0      0.0      0.0  0.000678  0.999323  8.965149e-09      0.0      0.0   \n",
              "1      0.0      0.0  0.000000  0.000000  0.000000e+00      0.0      0.0   \n",
              "2      0.0      0.0  0.000000  0.000000  0.000000e+00      0.0      1.0   \n",
              "\n",
              "        Class_7  Class_8  Class_9  \n",
              "0  2.524356e-20      0.0      0.0  \n",
              "1  0.000000e+00      1.0      0.0  \n",
              "2  0.000000e+00      0.0      0.0  "
            ],
            "text/html": [
              "\n",
              "  <div id=\"df-8eab139a-c106-4e85-974f-2dadae344a73\">\n",
              "    <div class=\"colab-df-container\">\n",
              "      <div>\n",
              "<style scoped>\n",
              "    .dataframe tbody tr th:only-of-type {\n",
              "        vertical-align: middle;\n",
              "    }\n",
              "\n",
              "    .dataframe tbody tr th {\n",
              "        vertical-align: top;\n",
              "    }\n",
              "\n",
              "    .dataframe thead th {\n",
              "        text-align: right;\n",
              "    }\n",
              "</style>\n",
              "<table border=\"1\" class=\"dataframe\">\n",
              "  <thead>\n",
              "    <tr style=\"text-align: right;\">\n",
              "      <th></th>\n",
              "      <th>Class_0</th>\n",
              "      <th>Class_1</th>\n",
              "      <th>Class_2</th>\n",
              "      <th>Class_3</th>\n",
              "      <th>Class_4</th>\n",
              "      <th>Class_5</th>\n",
              "      <th>Class_6</th>\n",
              "      <th>Class_7</th>\n",
              "      <th>Class_8</th>\n",
              "      <th>Class_9</th>\n",
              "    </tr>\n",
              "  </thead>\n",
              "  <tbody>\n",
              "    <tr>\n",
              "      <th>0</th>\n",
              "      <td>0.0</td>\n",
              "      <td>0.0</td>\n",
              "      <td>0.000678</td>\n",
              "      <td>0.999323</td>\n",
              "      <td>8.965149e-09</td>\n",
              "      <td>0.0</td>\n",
              "      <td>0.0</td>\n",
              "      <td>2.524356e-20</td>\n",
              "      <td>0.0</td>\n",
              "      <td>0.0</td>\n",
              "    </tr>\n",
              "    <tr>\n",
              "      <th>1</th>\n",
              "      <td>0.0</td>\n",
              "      <td>0.0</td>\n",
              "      <td>0.000000</td>\n",
              "      <td>0.000000</td>\n",
              "      <td>0.000000e+00</td>\n",
              "      <td>0.0</td>\n",
              "      <td>0.0</td>\n",
              "      <td>0.000000e+00</td>\n",
              "      <td>1.0</td>\n",
              "      <td>0.0</td>\n",
              "    </tr>\n",
              "    <tr>\n",
              "      <th>2</th>\n",
              "      <td>0.0</td>\n",
              "      <td>0.0</td>\n",
              "      <td>0.000000</td>\n",
              "      <td>0.000000</td>\n",
              "      <td>0.000000e+00</td>\n",
              "      <td>0.0</td>\n",
              "      <td>1.0</td>\n",
              "      <td>0.000000e+00</td>\n",
              "      <td>0.0</td>\n",
              "      <td>0.0</td>\n",
              "    </tr>\n",
              "  </tbody>\n",
              "</table>\n",
              "</div>\n",
              "      <button class=\"colab-df-convert\" onclick=\"convertToInteractive('df-8eab139a-c106-4e85-974f-2dadae344a73')\"\n",
              "              title=\"Convert this dataframe to an interactive table.\"\n",
              "              style=\"display:none;\">\n",
              "        \n",
              "  <svg xmlns=\"http://www.w3.org/2000/svg\" height=\"24px\"viewBox=\"0 0 24 24\"\n",
              "       width=\"24px\">\n",
              "    <path d=\"M0 0h24v24H0V0z\" fill=\"none\"/>\n",
              "    <path d=\"M18.56 5.44l.94 2.06.94-2.06 2.06-.94-2.06-.94-.94-2.06-.94 2.06-2.06.94zm-11 1L8.5 8.5l.94-2.06 2.06-.94-2.06-.94L8.5 2.5l-.94 2.06-2.06.94zm10 10l.94 2.06.94-2.06 2.06-.94-2.06-.94-.94-2.06-.94 2.06-2.06.94z\"/><path d=\"M17.41 7.96l-1.37-1.37c-.4-.4-.92-.59-1.43-.59-.52 0-1.04.2-1.43.59L10.3 9.45l-7.72 7.72c-.78.78-.78 2.05 0 2.83L4 21.41c.39.39.9.59 1.41.59.51 0 1.02-.2 1.41-.59l7.78-7.78 2.81-2.81c.8-.78.8-2.07 0-2.86zM5.41 20L4 18.59l7.72-7.72 1.47 1.35L5.41 20z\"/>\n",
              "  </svg>\n",
              "      </button>\n",
              "      \n",
              "  <style>\n",
              "    .colab-df-container {\n",
              "      display:flex;\n",
              "      flex-wrap:wrap;\n",
              "      gap: 12px;\n",
              "    }\n",
              "\n",
              "    .colab-df-convert {\n",
              "      background-color: #E8F0FE;\n",
              "      border: none;\n",
              "      border-radius: 50%;\n",
              "      cursor: pointer;\n",
              "      display: none;\n",
              "      fill: #1967D2;\n",
              "      height: 32px;\n",
              "      padding: 0 0 0 0;\n",
              "      width: 32px;\n",
              "    }\n",
              "\n",
              "    .colab-df-convert:hover {\n",
              "      background-color: #E2EBFA;\n",
              "      box-shadow: 0px 1px 2px rgba(60, 64, 67, 0.3), 0px 1px 3px 1px rgba(60, 64, 67, 0.15);\n",
              "      fill: #174EA6;\n",
              "    }\n",
              "\n",
              "    [theme=dark] .colab-df-convert {\n",
              "      background-color: #3B4455;\n",
              "      fill: #D2E3FC;\n",
              "    }\n",
              "\n",
              "    [theme=dark] .colab-df-convert:hover {\n",
              "      background-color: #434B5C;\n",
              "      box-shadow: 0px 1px 3px 1px rgba(0, 0, 0, 0.15);\n",
              "      filter: drop-shadow(0px 1px 2px rgba(0, 0, 0, 0.3));\n",
              "      fill: #FFFFFF;\n",
              "    }\n",
              "  </style>\n",
              "\n",
              "      <script>\n",
              "        const buttonEl =\n",
              "          document.querySelector('#df-8eab139a-c106-4e85-974f-2dadae344a73 button.colab-df-convert');\n",
              "        buttonEl.style.display =\n",
              "          google.colab.kernel.accessAllowed ? 'block' : 'none';\n",
              "\n",
              "        async function convertToInteractive(key) {\n",
              "          const element = document.querySelector('#df-8eab139a-c106-4e85-974f-2dadae344a73');\n",
              "          const dataTable =\n",
              "            await google.colab.kernel.invokeFunction('convertToInteractive',\n",
              "                                                     [key], {});\n",
              "          if (!dataTable) return;\n",
              "\n",
              "          const docLinkHtml = 'Like what you see? Visit the ' +\n",
              "            '<a target=\"_blank\" href=https://colab.research.google.com/notebooks/data_table.ipynb>data table notebook</a>'\n",
              "            + ' to learn more about interactive tables.';\n",
              "          element.innerHTML = '';\n",
              "          dataTable['output_type'] = 'display_data';\n",
              "          await google.colab.output.renderOutput(dataTable, element);\n",
              "          const docLink = document.createElement('div');\n",
              "          docLink.innerHTML = docLinkHtml;\n",
              "          element.appendChild(docLink);\n",
              "        }\n",
              "      </script>\n",
              "    </div>\n",
              "  </div>\n",
              "  "
            ]
          },
          "metadata": {},
          "execution_count": 61
        }
      ]
    },
    {
      "cell_type": "code",
      "source": [
        "submit = pd.read_csv(\"sampleSubmission.csv\")\n",
        "submit['Class_1'] = predictions_df['Class_1']\n",
        "submit['Class_2'] = predictions_df['Class_2']\n",
        "submit['Class_3'] = predictions_df['Class_3']\n",
        "submit['Class_4'] = predictions_df['Class_4']\n",
        "submit['Class_5'] = predictions_df['Class_5']\n",
        "submit['Class_6'] = predictions_df['Class_6']\n",
        "submit['Class_7'] = predictions_df['Class_7']\n",
        "submit['Class_8'] = predictions_df['Class_8']\n",
        "submit['Class_9'] = predictions_df['Class_9']\n",
        "\n",
        "submit[:3]"
      ],
      "metadata": {
        "id": "iEbZQAqclz-a",
        "outputId": "b163054e-83aa-41ee-d968-4c14f1dcc1e7",
        "colab": {
          "base_uri": "https://localhost:8080/",
          "height": 143
        }
      },
      "execution_count": 62,
      "outputs": [
        {
          "output_type": "execute_result",
          "data": {
            "text/plain": [
              "   id  Class_1   Class_2   Class_3       Class_4  Class_5  Class_6  \\\n",
              "0   1      0.0  0.000678  0.999323  8.965149e-09      0.0      0.0   \n",
              "1   2      0.0  0.000000  0.000000  0.000000e+00      0.0      0.0   \n",
              "2   3      0.0  0.000000  0.000000  0.000000e+00      0.0      1.0   \n",
              "\n",
              "        Class_7  Class_8  Class_9  \n",
              "0  2.524356e-20      0.0      0.0  \n",
              "1  0.000000e+00      1.0      0.0  \n",
              "2  0.000000e+00      0.0      0.0  "
            ],
            "text/html": [
              "\n",
              "  <div id=\"df-36507fc2-20d7-4f96-a0ce-ed149e53aeec\">\n",
              "    <div class=\"colab-df-container\">\n",
              "      <div>\n",
              "<style scoped>\n",
              "    .dataframe tbody tr th:only-of-type {\n",
              "        vertical-align: middle;\n",
              "    }\n",
              "\n",
              "    .dataframe tbody tr th {\n",
              "        vertical-align: top;\n",
              "    }\n",
              "\n",
              "    .dataframe thead th {\n",
              "        text-align: right;\n",
              "    }\n",
              "</style>\n",
              "<table border=\"1\" class=\"dataframe\">\n",
              "  <thead>\n",
              "    <tr style=\"text-align: right;\">\n",
              "      <th></th>\n",
              "      <th>id</th>\n",
              "      <th>Class_1</th>\n",
              "      <th>Class_2</th>\n",
              "      <th>Class_3</th>\n",
              "      <th>Class_4</th>\n",
              "      <th>Class_5</th>\n",
              "      <th>Class_6</th>\n",
              "      <th>Class_7</th>\n",
              "      <th>Class_8</th>\n",
              "      <th>Class_9</th>\n",
              "    </tr>\n",
              "  </thead>\n",
              "  <tbody>\n",
              "    <tr>\n",
              "      <th>0</th>\n",
              "      <td>1</td>\n",
              "      <td>0.0</td>\n",
              "      <td>0.000678</td>\n",
              "      <td>0.999323</td>\n",
              "      <td>8.965149e-09</td>\n",
              "      <td>0.0</td>\n",
              "      <td>0.0</td>\n",
              "      <td>2.524356e-20</td>\n",
              "      <td>0.0</td>\n",
              "      <td>0.0</td>\n",
              "    </tr>\n",
              "    <tr>\n",
              "      <th>1</th>\n",
              "      <td>2</td>\n",
              "      <td>0.0</td>\n",
              "      <td>0.000000</td>\n",
              "      <td>0.000000</td>\n",
              "      <td>0.000000e+00</td>\n",
              "      <td>0.0</td>\n",
              "      <td>0.0</td>\n",
              "      <td>0.000000e+00</td>\n",
              "      <td>1.0</td>\n",
              "      <td>0.0</td>\n",
              "    </tr>\n",
              "    <tr>\n",
              "      <th>2</th>\n",
              "      <td>3</td>\n",
              "      <td>0.0</td>\n",
              "      <td>0.000000</td>\n",
              "      <td>0.000000</td>\n",
              "      <td>0.000000e+00</td>\n",
              "      <td>0.0</td>\n",
              "      <td>1.0</td>\n",
              "      <td>0.000000e+00</td>\n",
              "      <td>0.0</td>\n",
              "      <td>0.0</td>\n",
              "    </tr>\n",
              "  </tbody>\n",
              "</table>\n",
              "</div>\n",
              "      <button class=\"colab-df-convert\" onclick=\"convertToInteractive('df-36507fc2-20d7-4f96-a0ce-ed149e53aeec')\"\n",
              "              title=\"Convert this dataframe to an interactive table.\"\n",
              "              style=\"display:none;\">\n",
              "        \n",
              "  <svg xmlns=\"http://www.w3.org/2000/svg\" height=\"24px\"viewBox=\"0 0 24 24\"\n",
              "       width=\"24px\">\n",
              "    <path d=\"M0 0h24v24H0V0z\" fill=\"none\"/>\n",
              "    <path d=\"M18.56 5.44l.94 2.06.94-2.06 2.06-.94-2.06-.94-.94-2.06-.94 2.06-2.06.94zm-11 1L8.5 8.5l.94-2.06 2.06-.94-2.06-.94L8.5 2.5l-.94 2.06-2.06.94zm10 10l.94 2.06.94-2.06 2.06-.94-2.06-.94-.94-2.06-.94 2.06-2.06.94z\"/><path d=\"M17.41 7.96l-1.37-1.37c-.4-.4-.92-.59-1.43-.59-.52 0-1.04.2-1.43.59L10.3 9.45l-7.72 7.72c-.78.78-.78 2.05 0 2.83L4 21.41c.39.39.9.59 1.41.59.51 0 1.02-.2 1.41-.59l7.78-7.78 2.81-2.81c.8-.78.8-2.07 0-2.86zM5.41 20L4 18.59l7.72-7.72 1.47 1.35L5.41 20z\"/>\n",
              "  </svg>\n",
              "      </button>\n",
              "      \n",
              "  <style>\n",
              "    .colab-df-container {\n",
              "      display:flex;\n",
              "      flex-wrap:wrap;\n",
              "      gap: 12px;\n",
              "    }\n",
              "\n",
              "    .colab-df-convert {\n",
              "      background-color: #E8F0FE;\n",
              "      border: none;\n",
              "      border-radius: 50%;\n",
              "      cursor: pointer;\n",
              "      display: none;\n",
              "      fill: #1967D2;\n",
              "      height: 32px;\n",
              "      padding: 0 0 0 0;\n",
              "      width: 32px;\n",
              "    }\n",
              "\n",
              "    .colab-df-convert:hover {\n",
              "      background-color: #E2EBFA;\n",
              "      box-shadow: 0px 1px 2px rgba(60, 64, 67, 0.3), 0px 1px 3px 1px rgba(60, 64, 67, 0.15);\n",
              "      fill: #174EA6;\n",
              "    }\n",
              "\n",
              "    [theme=dark] .colab-df-convert {\n",
              "      background-color: #3B4455;\n",
              "      fill: #D2E3FC;\n",
              "    }\n",
              "\n",
              "    [theme=dark] .colab-df-convert:hover {\n",
              "      background-color: #434B5C;\n",
              "      box-shadow: 0px 1px 3px 1px rgba(0, 0, 0, 0.15);\n",
              "      filter: drop-shadow(0px 1px 2px rgba(0, 0, 0, 0.3));\n",
              "      fill: #FFFFFF;\n",
              "    }\n",
              "  </style>\n",
              "\n",
              "      <script>\n",
              "        const buttonEl =\n",
              "          document.querySelector('#df-36507fc2-20d7-4f96-a0ce-ed149e53aeec button.colab-df-convert');\n",
              "        buttonEl.style.display =\n",
              "          google.colab.kernel.accessAllowed ? 'block' : 'none';\n",
              "\n",
              "        async function convertToInteractive(key) {\n",
              "          const element = document.querySelector('#df-36507fc2-20d7-4f96-a0ce-ed149e53aeec');\n",
              "          const dataTable =\n",
              "            await google.colab.kernel.invokeFunction('convertToInteractive',\n",
              "                                                     [key], {});\n",
              "          if (!dataTable) return;\n",
              "\n",
              "          const docLinkHtml = 'Like what you see? Visit the ' +\n",
              "            '<a target=\"_blank\" href=https://colab.research.google.com/notebooks/data_table.ipynb>data table notebook</a>'\n",
              "            + ' to learn more about interactive tables.';\n",
              "          element.innerHTML = '';\n",
              "          dataTable['output_type'] = 'display_data';\n",
              "          await google.colab.output.renderOutput(dataTable, element);\n",
              "          const docLink = document.createElement('div');\n",
              "          docLink.innerHTML = docLinkHtml;\n",
              "          element.appendChild(docLink);\n",
              "        }\n",
              "      </script>\n",
              "    </div>\n",
              "  </div>\n",
              "  "
            ]
          },
          "metadata": {},
          "execution_count": 62
        }
      ]
    },
    {
      "cell_type": "code",
      "source": [
        "submit.describe(include=\"all\")"
      ],
      "metadata": {
        "id": "GZflV9arnTnX",
        "outputId": "13b44fe8-a57c-41a7-eb80-e323bed60318",
        "colab": {
          "base_uri": "https://localhost:8080/",
          "height": 364
        }
      },
      "execution_count": 63,
      "outputs": [
        {
          "output_type": "execute_result",
          "data": {
            "text/plain": [
              "                  id       Class_1       Class_2       Class_3       Class_4  \\\n",
              "count  144368.000000  1.410200e+05  1.410200e+05  1.410200e+05  1.410200e+05   \n",
              "mean    72184.500000  2.298438e-02  1.816495e-01  1.989920e-01  4.422482e-02   \n",
              "std     41675.596169  1.455006e-01  3.718593e-01  3.853446e-01  1.991173e-01   \n",
              "min         1.000000  0.000000e+00  0.000000e+00  0.000000e+00  0.000000e+00   \n",
              "25%     36092.750000  0.000000e+00  0.000000e+00  0.000000e+00  0.000000e+00   \n",
              "50%     72184.500000  0.000000e+00  3.264672e-34  3.279014e-38  0.000000e+00   \n",
              "75%    108276.250000  1.217026e-30  1.997315e-03  8.084511e-03  9.323563e-21   \n",
              "max    144368.000000  1.000000e+00  1.000000e+00  1.000000e+00  1.000000e+00   \n",
              "\n",
              "             Class_5       Class_6       Class_7       Class_8       Class_9  \n",
              "count  141020.000000  1.410200e+05  1.410200e+05  1.410200e+05  1.410200e+05  \n",
              "mean        0.043824  2.104925e-01  5.368164e-02  1.613505e-01  8.280092e-02  \n",
              "std         0.204242  4.060353e-01  2.219156e-01  3.660248e-01  2.736279e-01  \n",
              "min         0.000000  0.000000e+00  0.000000e+00  0.000000e+00  0.000000e+00  \n",
              "25%         0.000000  0.000000e+00  0.000000e+00  0.000000e+00  0.000000e+00  \n",
              "50%         0.000000  5.233809e-37  0.000000e+00  0.000000e+00  0.000000e+00  \n",
              "75%         0.000000  6.261084e-10  2.477020e-23  1.171411e-18  5.431661e-34  \n",
              "max         1.000000  1.000000e+00  1.000000e+00  1.000000e+00  1.000000e+00  "
            ],
            "text/html": [
              "\n",
              "  <div id=\"df-ec97c7c3-5e3d-43af-a734-a480a25b22ea\">\n",
              "    <div class=\"colab-df-container\">\n",
              "      <div>\n",
              "<style scoped>\n",
              "    .dataframe tbody tr th:only-of-type {\n",
              "        vertical-align: middle;\n",
              "    }\n",
              "\n",
              "    .dataframe tbody tr th {\n",
              "        vertical-align: top;\n",
              "    }\n",
              "\n",
              "    .dataframe thead th {\n",
              "        text-align: right;\n",
              "    }\n",
              "</style>\n",
              "<table border=\"1\" class=\"dataframe\">\n",
              "  <thead>\n",
              "    <tr style=\"text-align: right;\">\n",
              "      <th></th>\n",
              "      <th>id</th>\n",
              "      <th>Class_1</th>\n",
              "      <th>Class_2</th>\n",
              "      <th>Class_3</th>\n",
              "      <th>Class_4</th>\n",
              "      <th>Class_5</th>\n",
              "      <th>Class_6</th>\n",
              "      <th>Class_7</th>\n",
              "      <th>Class_8</th>\n",
              "      <th>Class_9</th>\n",
              "    </tr>\n",
              "  </thead>\n",
              "  <tbody>\n",
              "    <tr>\n",
              "      <th>count</th>\n",
              "      <td>144368.000000</td>\n",
              "      <td>1.410200e+05</td>\n",
              "      <td>1.410200e+05</td>\n",
              "      <td>1.410200e+05</td>\n",
              "      <td>1.410200e+05</td>\n",
              "      <td>141020.000000</td>\n",
              "      <td>1.410200e+05</td>\n",
              "      <td>1.410200e+05</td>\n",
              "      <td>1.410200e+05</td>\n",
              "      <td>1.410200e+05</td>\n",
              "    </tr>\n",
              "    <tr>\n",
              "      <th>mean</th>\n",
              "      <td>72184.500000</td>\n",
              "      <td>2.298438e-02</td>\n",
              "      <td>1.816495e-01</td>\n",
              "      <td>1.989920e-01</td>\n",
              "      <td>4.422482e-02</td>\n",
              "      <td>0.043824</td>\n",
              "      <td>2.104925e-01</td>\n",
              "      <td>5.368164e-02</td>\n",
              "      <td>1.613505e-01</td>\n",
              "      <td>8.280092e-02</td>\n",
              "    </tr>\n",
              "    <tr>\n",
              "      <th>std</th>\n",
              "      <td>41675.596169</td>\n",
              "      <td>1.455006e-01</td>\n",
              "      <td>3.718593e-01</td>\n",
              "      <td>3.853446e-01</td>\n",
              "      <td>1.991173e-01</td>\n",
              "      <td>0.204242</td>\n",
              "      <td>4.060353e-01</td>\n",
              "      <td>2.219156e-01</td>\n",
              "      <td>3.660248e-01</td>\n",
              "      <td>2.736279e-01</td>\n",
              "    </tr>\n",
              "    <tr>\n",
              "      <th>min</th>\n",
              "      <td>1.000000</td>\n",
              "      <td>0.000000e+00</td>\n",
              "      <td>0.000000e+00</td>\n",
              "      <td>0.000000e+00</td>\n",
              "      <td>0.000000e+00</td>\n",
              "      <td>0.000000</td>\n",
              "      <td>0.000000e+00</td>\n",
              "      <td>0.000000e+00</td>\n",
              "      <td>0.000000e+00</td>\n",
              "      <td>0.000000e+00</td>\n",
              "    </tr>\n",
              "    <tr>\n",
              "      <th>25%</th>\n",
              "      <td>36092.750000</td>\n",
              "      <td>0.000000e+00</td>\n",
              "      <td>0.000000e+00</td>\n",
              "      <td>0.000000e+00</td>\n",
              "      <td>0.000000e+00</td>\n",
              "      <td>0.000000</td>\n",
              "      <td>0.000000e+00</td>\n",
              "      <td>0.000000e+00</td>\n",
              "      <td>0.000000e+00</td>\n",
              "      <td>0.000000e+00</td>\n",
              "    </tr>\n",
              "    <tr>\n",
              "      <th>50%</th>\n",
              "      <td>72184.500000</td>\n",
              "      <td>0.000000e+00</td>\n",
              "      <td>3.264672e-34</td>\n",
              "      <td>3.279014e-38</td>\n",
              "      <td>0.000000e+00</td>\n",
              "      <td>0.000000</td>\n",
              "      <td>5.233809e-37</td>\n",
              "      <td>0.000000e+00</td>\n",
              "      <td>0.000000e+00</td>\n",
              "      <td>0.000000e+00</td>\n",
              "    </tr>\n",
              "    <tr>\n",
              "      <th>75%</th>\n",
              "      <td>108276.250000</td>\n",
              "      <td>1.217026e-30</td>\n",
              "      <td>1.997315e-03</td>\n",
              "      <td>8.084511e-03</td>\n",
              "      <td>9.323563e-21</td>\n",
              "      <td>0.000000</td>\n",
              "      <td>6.261084e-10</td>\n",
              "      <td>2.477020e-23</td>\n",
              "      <td>1.171411e-18</td>\n",
              "      <td>5.431661e-34</td>\n",
              "    </tr>\n",
              "    <tr>\n",
              "      <th>max</th>\n",
              "      <td>144368.000000</td>\n",
              "      <td>1.000000e+00</td>\n",
              "      <td>1.000000e+00</td>\n",
              "      <td>1.000000e+00</td>\n",
              "      <td>1.000000e+00</td>\n",
              "      <td>1.000000</td>\n",
              "      <td>1.000000e+00</td>\n",
              "      <td>1.000000e+00</td>\n",
              "      <td>1.000000e+00</td>\n",
              "      <td>1.000000e+00</td>\n",
              "    </tr>\n",
              "  </tbody>\n",
              "</table>\n",
              "</div>\n",
              "      <button class=\"colab-df-convert\" onclick=\"convertToInteractive('df-ec97c7c3-5e3d-43af-a734-a480a25b22ea')\"\n",
              "              title=\"Convert this dataframe to an interactive table.\"\n",
              "              style=\"display:none;\">\n",
              "        \n",
              "  <svg xmlns=\"http://www.w3.org/2000/svg\" height=\"24px\"viewBox=\"0 0 24 24\"\n",
              "       width=\"24px\">\n",
              "    <path d=\"M0 0h24v24H0V0z\" fill=\"none\"/>\n",
              "    <path d=\"M18.56 5.44l.94 2.06.94-2.06 2.06-.94-2.06-.94-.94-2.06-.94 2.06-2.06.94zm-11 1L8.5 8.5l.94-2.06 2.06-.94-2.06-.94L8.5 2.5l-.94 2.06-2.06.94zm10 10l.94 2.06.94-2.06 2.06-.94-2.06-.94-.94-2.06-.94 2.06-2.06.94z\"/><path d=\"M17.41 7.96l-1.37-1.37c-.4-.4-.92-.59-1.43-.59-.52 0-1.04.2-1.43.59L10.3 9.45l-7.72 7.72c-.78.78-.78 2.05 0 2.83L4 21.41c.39.39.9.59 1.41.59.51 0 1.02-.2 1.41-.59l7.78-7.78 2.81-2.81c.8-.78.8-2.07 0-2.86zM5.41 20L4 18.59l7.72-7.72 1.47 1.35L5.41 20z\"/>\n",
              "  </svg>\n",
              "      </button>\n",
              "      \n",
              "  <style>\n",
              "    .colab-df-container {\n",
              "      display:flex;\n",
              "      flex-wrap:wrap;\n",
              "      gap: 12px;\n",
              "    }\n",
              "\n",
              "    .colab-df-convert {\n",
              "      background-color: #E8F0FE;\n",
              "      border: none;\n",
              "      border-radius: 50%;\n",
              "      cursor: pointer;\n",
              "      display: none;\n",
              "      fill: #1967D2;\n",
              "      height: 32px;\n",
              "      padding: 0 0 0 0;\n",
              "      width: 32px;\n",
              "    }\n",
              "\n",
              "    .colab-df-convert:hover {\n",
              "      background-color: #E2EBFA;\n",
              "      box-shadow: 0px 1px 2px rgba(60, 64, 67, 0.3), 0px 1px 3px 1px rgba(60, 64, 67, 0.15);\n",
              "      fill: #174EA6;\n",
              "    }\n",
              "\n",
              "    [theme=dark] .colab-df-convert {\n",
              "      background-color: #3B4455;\n",
              "      fill: #D2E3FC;\n",
              "    }\n",
              "\n",
              "    [theme=dark] .colab-df-convert:hover {\n",
              "      background-color: #434B5C;\n",
              "      box-shadow: 0px 1px 3px 1px rgba(0, 0, 0, 0.15);\n",
              "      filter: drop-shadow(0px 1px 2px rgba(0, 0, 0, 0.3));\n",
              "      fill: #FFFFFF;\n",
              "    }\n",
              "  </style>\n",
              "\n",
              "      <script>\n",
              "        const buttonEl =\n",
              "          document.querySelector('#df-ec97c7c3-5e3d-43af-a734-a480a25b22ea button.colab-df-convert');\n",
              "        buttonEl.style.display =\n",
              "          google.colab.kernel.accessAllowed ? 'block' : 'none';\n",
              "\n",
              "        async function convertToInteractive(key) {\n",
              "          const element = document.querySelector('#df-ec97c7c3-5e3d-43af-a734-a480a25b22ea');\n",
              "          const dataTable =\n",
              "            await google.colab.kernel.invokeFunction('convertToInteractive',\n",
              "                                                     [key], {});\n",
              "          if (!dataTable) return;\n",
              "\n",
              "          const docLinkHtml = 'Like what you see? Visit the ' +\n",
              "            '<a target=\"_blank\" href=https://colab.research.google.com/notebooks/data_table.ipynb>data table notebook</a>'\n",
              "            + ' to learn more about interactive tables.';\n",
              "          element.innerHTML = '';\n",
              "          dataTable['output_type'] = 'display_data';\n",
              "          await google.colab.output.renderOutput(dataTable, element);\n",
              "          const docLink = document.createElement('div');\n",
              "          docLink.innerHTML = docLinkHtml;\n",
              "          element.appendChild(docLink);\n",
              "        }\n",
              "      </script>\n",
              "    </div>\n",
              "  </div>\n",
              "  "
            ]
          },
          "metadata": {},
          "execution_count": 63
        }
      ]
    },
    {
      "cell_type": "code",
      "source": [
        "submit.to_csv('submit.csv', index=False)"
      ],
      "metadata": {
        "id": "jUevqvGYqnFt"
      },
      "execution_count": 64,
      "outputs": []
    }
  ]
}