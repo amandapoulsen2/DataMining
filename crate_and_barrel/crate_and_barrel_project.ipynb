{
  "nbformat": 4,
  "nbformat_minor": 0,
  "metadata": {
    "colab": {
      "provenance": [],
      "include_colab_link": true
    },
    "kernelspec": {
      "name": "python3",
      "display_name": "Python 3"
    },
    "language_info": {
      "name": "python"
    },
    "accelerator": "GPU",
    "gpuClass": "standard"
  },
  "cells": [
    {
      "cell_type": "markdown",
      "metadata": {
        "id": "view-in-github",
        "colab_type": "text"
      },
      "source": [
        "<a href=\"https://colab.research.google.com/github/mandimarquardt/DataMining/blob/main/crate_and_barrel/crate_and_barrel_project.ipynb\" target=\"_parent\"><img src=\"https://colab.research.google.com/assets/colab-badge.svg\" alt=\"Open In Colab\"/></a>"
      ]
    },
    {
      "cell_type": "markdown",
      "source": [
        "# Crate and Barrel Project\n",
        "\n",
        "This notebook will explore a Crate and Barrel product dataset supplied by Kaggle for a competition. The dataset contains features for the product and the class to which the product belongs. The notebook will explore the dataset and then build models to predict product classes.\n",
        "\n",
        "Contents:\n",
        "\n",
        "1.   Import Necessary Libraries\n",
        "2.   Import the Data\n",
        "3.   Data Analysis\n",
        "4.   Data Visualization\n",
        "5.   Cleaning Data\n",
        "6.   Base Model\n",
        "7.   Dense Neural Network (DNN)\n",
        "8.   Conclusion\n",
        "9.   Kaggle Submission\n",
        "\n"
      ],
      "metadata": {
        "id": "741-CHxRRi_i"
      }
    },
    {
      "cell_type": "markdown",
      "source": [
        "## 1) Import Necessary Libraries\n",
        "\n",
        "### Runtime\n",
        "\n",
        "Before we import libraries, let's ensure the runtime for this notebook is set to GPU. Without the GPU runtime, the Dense Neural Network (DNN) will not run.\n",
        "\n",
        "If the following command produces a failure, do not proceed until the runtime has been set to GPU."
      ],
      "metadata": {
        "id": "fu0MsINPSv7l"
      }
    },
    {
      "cell_type": "code",
      "source": [
        "# Prove this notebook has GPU has the runtime type. If this fails, DNN will not work.\n",
        "!nvidia-smi"
      ],
      "metadata": {
        "id": "W9UXvRaiLUev",
        "colab": {
          "base_uri": "https://localhost:8080/"
        },
        "outputId": "d6e92fe3-8def-40a5-8c92-892069abb44e"
      },
      "execution_count": 66,
      "outputs": [
        {
          "output_type": "stream",
          "name": "stdout",
          "text": [
            "Wed Nov 23 22:10:18 2022       \n",
            "+-----------------------------------------------------------------------------+\n",
            "| NVIDIA-SMI 460.32.03    Driver Version: 460.32.03    CUDA Version: 11.2     |\n",
            "|-------------------------------+----------------------+----------------------+\n",
            "| GPU  Name        Persistence-M| Bus-Id        Disp.A | Volatile Uncorr. ECC |\n",
            "| Fan  Temp  Perf  Pwr:Usage/Cap|         Memory-Usage | GPU-Util  Compute M. |\n",
            "|                               |                      |               MIG M. |\n",
            "|===============================+======================+======================|\n",
            "|   0  Tesla T4            Off  | 00000000:00:04.0 Off |                    0 |\n",
            "| N/A   56C    P0    29W /  70W |   1004MiB / 15109MiB |      0%      Default |\n",
            "|                               |                      |                  N/A |\n",
            "+-------------------------------+----------------------+----------------------+\n",
            "                                                                               \n",
            "+-----------------------------------------------------------------------------+\n",
            "| Processes:                                                                  |\n",
            "|  GPU   GI   CI        PID   Type   Process name                  GPU Memory |\n",
            "|        ID   ID                                                   Usage      |\n",
            "|=============================================================================|\n",
            "+-----------------------------------------------------------------------------+\n"
          ]
        }
      ]
    },
    {
      "cell_type": "markdown",
      "source": [
        "### Import Libraries\n",
        "\n",
        "This project will utilize various data anaylsis and machine learning Python libraries.\n",
        "\n"
      ],
      "metadata": {
        "id": "IW2JahfwT22d"
      }
    },
    {
      "cell_type": "code",
      "source": [
        "# Data analysis libraries\n",
        "import pandas as pd\n",
        "import numpy as np\n",
        "\n",
        "# Visualizing data\n",
        "import seaborn as sns\n",
        "\n",
        "# Machine learning libraries\n",
        "from sklearn.preprocessing import MinMaxScaler\n",
        "from sklearn.model_selection import train_test_split\n",
        "from sklearn.neighbors import KNeighborsClassifier\n",
        "from sklearn.metrics import accuracy_score\n",
        "from keras import models, layers, optimizers\n",
        "from keras.utils import to_categorical"
      ],
      "metadata": {
        "id": "CAzT7RLbcxBW"
      },
      "execution_count": 67,
      "outputs": []
    },
    {
      "cell_type": "markdown",
      "source": [
        "## 2) Import the Data\n"
      ],
      "metadata": {
        "id": "4-lmZu3JWlM4"
      }
    },
    {
      "cell_type": "markdown",
      "source": [
        "### Upload Data\n",
        "\n",
        "Upload `train.csv`, `test.csv`, and `sampleSubmission.csv` to the local drive. These csv file can be found by downloading them from Kaggle: https://www.kaggle.com/c/otto-group-product-classification-challenge/data?select=train.csv.\n",
        "\n",
        "Note, the csv files can only be downloaded after registration."
      ],
      "metadata": {
        "id": "SXfAxQlEVIA6"
      }
    },
    {
      "cell_type": "code",
      "source": [
        "# Show train.csv, test.csv, and sampleSubmission.csv exists locally\n",
        "!ls"
      ],
      "metadata": {
        "colab": {
          "base_uri": "https://localhost:8080/"
        },
        "id": "IOhGnlwGcvOQ",
        "outputId": "b70c9c4f-e53d-4e01-d340-fe042cbf7957"
      },
      "execution_count": 68,
      "outputs": [
        {
          "output_type": "stream",
          "name": "stdout",
          "text": [
            "sample_data  sampleSubmission.csv  submit.csv  test.csv  train.csv\n"
          ]
        }
      ]
    },
    {
      "cell_type": "markdown",
      "source": [
        "### Pandas\n",
        "\n",
        "[Pandas](https://pandas.pydata.org/docs/reference/index.html) provides an easy way to read the contents of a csv file and instantiate an object, in this case a [DataFrame](https://pandas.pydata.org/docs/reference/api/pandas.DataFrame.html), that allows for easy manipulation of data. Plus, the machine learning libraries used in this notebook expect the data to be in a 2d array, which is how the contents are store in the DataFrame."
      ],
      "metadata": {
        "id": "57amNmjZEC05"
      }
    },
    {
      "cell_type": "code",
      "source": [
        "# Instantiate train dataframe\n",
        "train = pd.read_csv('train.csv')\n",
        "train"
      ],
      "metadata": {
        "colab": {
          "base_uri": "https://localhost:8080/",
          "height": 488
        },
        "id": "YPC5LS73c2pO",
        "outputId": "a051542f-cc0a-4431-b20a-aca55d13a9e4"
      },
      "execution_count": 69,
      "outputs": [
        {
          "output_type": "execute_result",
          "data": {
            "text/plain": [
              "          id  feat_1  feat_2  feat_3  feat_4  feat_5  feat_6  feat_7  feat_8  \\\n",
              "0          1       1       0       0       0       0       0       0       0   \n",
              "1          2       0       0       0       0       0       0       0       1   \n",
              "2          3       0       0       0       0       0       0       0       1   \n",
              "3          4       1       0       0       1       6       1       5       0   \n",
              "4          5       0       0       0       0       0       0       0       0   \n",
              "...      ...     ...     ...     ...     ...     ...     ...     ...     ...   \n",
              "61873  61874       1       0       0       1       1       0       0       0   \n",
              "61874  61875       4       0       0       0       0       0       0       0   \n",
              "61875  61876       0       0       0       0       0       0       0       3   \n",
              "61876  61877       1       0       0       0       0       0       0       0   \n",
              "61877  61878       0       0       0       0       0       0       0       0   \n",
              "\n",
              "       feat_9  ...  feat_85  feat_86  feat_87  feat_88  feat_89  feat_90  \\\n",
              "0           0  ...        1        0        0        0        0        0   \n",
              "1           0  ...        0        0        0        0        0        0   \n",
              "2           0  ...        0        0        0        0        0        0   \n",
              "3           0  ...        0        1        2        0        0        0   \n",
              "4           0  ...        1        0        0        0        0        1   \n",
              "...       ...  ...      ...      ...      ...      ...      ...      ...   \n",
              "61873       0  ...        1        0        0        0        0        0   \n",
              "61874       0  ...        0        2        0        0        2        0   \n",
              "61875       1  ...        0        3        1        0        0        0   \n",
              "61876       0  ...        0        0        0        0        1        0   \n",
              "61877       0  ...        0        0        0        0        0        0   \n",
              "\n",
              "       feat_91  feat_92  feat_93   target  \n",
              "0            0        0        0  Class_1  \n",
              "1            0        0        0  Class_1  \n",
              "2            0        0        0  Class_1  \n",
              "3            0        0        0  Class_1  \n",
              "4            0        0        0  Class_1  \n",
              "...        ...      ...      ...      ...  \n",
              "61873        0        2        0  Class_9  \n",
              "61874        0        1        0  Class_9  \n",
              "61875        0        0        0  Class_9  \n",
              "61876        3       10        0  Class_9  \n",
              "61877        0        2        0  Class_9  \n",
              "\n",
              "[61878 rows x 95 columns]"
            ],
            "text/html": [
              "\n",
              "  <div id=\"df-f400e903-aa40-4e85-8e1f-c0f3324c30e3\">\n",
              "    <div class=\"colab-df-container\">\n",
              "      <div>\n",
              "<style scoped>\n",
              "    .dataframe tbody tr th:only-of-type {\n",
              "        vertical-align: middle;\n",
              "    }\n",
              "\n",
              "    .dataframe tbody tr th {\n",
              "        vertical-align: top;\n",
              "    }\n",
              "\n",
              "    .dataframe thead th {\n",
              "        text-align: right;\n",
              "    }\n",
              "</style>\n",
              "<table border=\"1\" class=\"dataframe\">\n",
              "  <thead>\n",
              "    <tr style=\"text-align: right;\">\n",
              "      <th></th>\n",
              "      <th>id</th>\n",
              "      <th>feat_1</th>\n",
              "      <th>feat_2</th>\n",
              "      <th>feat_3</th>\n",
              "      <th>feat_4</th>\n",
              "      <th>feat_5</th>\n",
              "      <th>feat_6</th>\n",
              "      <th>feat_7</th>\n",
              "      <th>feat_8</th>\n",
              "      <th>feat_9</th>\n",
              "      <th>...</th>\n",
              "      <th>feat_85</th>\n",
              "      <th>feat_86</th>\n",
              "      <th>feat_87</th>\n",
              "      <th>feat_88</th>\n",
              "      <th>feat_89</th>\n",
              "      <th>feat_90</th>\n",
              "      <th>feat_91</th>\n",
              "      <th>feat_92</th>\n",
              "      <th>feat_93</th>\n",
              "      <th>target</th>\n",
              "    </tr>\n",
              "  </thead>\n",
              "  <tbody>\n",
              "    <tr>\n",
              "      <th>0</th>\n",
              "      <td>1</td>\n",
              "      <td>1</td>\n",
              "      <td>0</td>\n",
              "      <td>0</td>\n",
              "      <td>0</td>\n",
              "      <td>0</td>\n",
              "      <td>0</td>\n",
              "      <td>0</td>\n",
              "      <td>0</td>\n",
              "      <td>0</td>\n",
              "      <td>...</td>\n",
              "      <td>1</td>\n",
              "      <td>0</td>\n",
              "      <td>0</td>\n",
              "      <td>0</td>\n",
              "      <td>0</td>\n",
              "      <td>0</td>\n",
              "      <td>0</td>\n",
              "      <td>0</td>\n",
              "      <td>0</td>\n",
              "      <td>Class_1</td>\n",
              "    </tr>\n",
              "    <tr>\n",
              "      <th>1</th>\n",
              "      <td>2</td>\n",
              "      <td>0</td>\n",
              "      <td>0</td>\n",
              "      <td>0</td>\n",
              "      <td>0</td>\n",
              "      <td>0</td>\n",
              "      <td>0</td>\n",
              "      <td>0</td>\n",
              "      <td>1</td>\n",
              "      <td>0</td>\n",
              "      <td>...</td>\n",
              "      <td>0</td>\n",
              "      <td>0</td>\n",
              "      <td>0</td>\n",
              "      <td>0</td>\n",
              "      <td>0</td>\n",
              "      <td>0</td>\n",
              "      <td>0</td>\n",
              "      <td>0</td>\n",
              "      <td>0</td>\n",
              "      <td>Class_1</td>\n",
              "    </tr>\n",
              "    <tr>\n",
              "      <th>2</th>\n",
              "      <td>3</td>\n",
              "      <td>0</td>\n",
              "      <td>0</td>\n",
              "      <td>0</td>\n",
              "      <td>0</td>\n",
              "      <td>0</td>\n",
              "      <td>0</td>\n",
              "      <td>0</td>\n",
              "      <td>1</td>\n",
              "      <td>0</td>\n",
              "      <td>...</td>\n",
              "      <td>0</td>\n",
              "      <td>0</td>\n",
              "      <td>0</td>\n",
              "      <td>0</td>\n",
              "      <td>0</td>\n",
              "      <td>0</td>\n",
              "      <td>0</td>\n",
              "      <td>0</td>\n",
              "      <td>0</td>\n",
              "      <td>Class_1</td>\n",
              "    </tr>\n",
              "    <tr>\n",
              "      <th>3</th>\n",
              "      <td>4</td>\n",
              "      <td>1</td>\n",
              "      <td>0</td>\n",
              "      <td>0</td>\n",
              "      <td>1</td>\n",
              "      <td>6</td>\n",
              "      <td>1</td>\n",
              "      <td>5</td>\n",
              "      <td>0</td>\n",
              "      <td>0</td>\n",
              "      <td>...</td>\n",
              "      <td>0</td>\n",
              "      <td>1</td>\n",
              "      <td>2</td>\n",
              "      <td>0</td>\n",
              "      <td>0</td>\n",
              "      <td>0</td>\n",
              "      <td>0</td>\n",
              "      <td>0</td>\n",
              "      <td>0</td>\n",
              "      <td>Class_1</td>\n",
              "    </tr>\n",
              "    <tr>\n",
              "      <th>4</th>\n",
              "      <td>5</td>\n",
              "      <td>0</td>\n",
              "      <td>0</td>\n",
              "      <td>0</td>\n",
              "      <td>0</td>\n",
              "      <td>0</td>\n",
              "      <td>0</td>\n",
              "      <td>0</td>\n",
              "      <td>0</td>\n",
              "      <td>0</td>\n",
              "      <td>...</td>\n",
              "      <td>1</td>\n",
              "      <td>0</td>\n",
              "      <td>0</td>\n",
              "      <td>0</td>\n",
              "      <td>0</td>\n",
              "      <td>1</td>\n",
              "      <td>0</td>\n",
              "      <td>0</td>\n",
              "      <td>0</td>\n",
              "      <td>Class_1</td>\n",
              "    </tr>\n",
              "    <tr>\n",
              "      <th>...</th>\n",
              "      <td>...</td>\n",
              "      <td>...</td>\n",
              "      <td>...</td>\n",
              "      <td>...</td>\n",
              "      <td>...</td>\n",
              "      <td>...</td>\n",
              "      <td>...</td>\n",
              "      <td>...</td>\n",
              "      <td>...</td>\n",
              "      <td>...</td>\n",
              "      <td>...</td>\n",
              "      <td>...</td>\n",
              "      <td>...</td>\n",
              "      <td>...</td>\n",
              "      <td>...</td>\n",
              "      <td>...</td>\n",
              "      <td>...</td>\n",
              "      <td>...</td>\n",
              "      <td>...</td>\n",
              "      <td>...</td>\n",
              "      <td>...</td>\n",
              "    </tr>\n",
              "    <tr>\n",
              "      <th>61873</th>\n",
              "      <td>61874</td>\n",
              "      <td>1</td>\n",
              "      <td>0</td>\n",
              "      <td>0</td>\n",
              "      <td>1</td>\n",
              "      <td>1</td>\n",
              "      <td>0</td>\n",
              "      <td>0</td>\n",
              "      <td>0</td>\n",
              "      <td>0</td>\n",
              "      <td>...</td>\n",
              "      <td>1</td>\n",
              "      <td>0</td>\n",
              "      <td>0</td>\n",
              "      <td>0</td>\n",
              "      <td>0</td>\n",
              "      <td>0</td>\n",
              "      <td>0</td>\n",
              "      <td>2</td>\n",
              "      <td>0</td>\n",
              "      <td>Class_9</td>\n",
              "    </tr>\n",
              "    <tr>\n",
              "      <th>61874</th>\n",
              "      <td>61875</td>\n",
              "      <td>4</td>\n",
              "      <td>0</td>\n",
              "      <td>0</td>\n",
              "      <td>0</td>\n",
              "      <td>0</td>\n",
              "      <td>0</td>\n",
              "      <td>0</td>\n",
              "      <td>0</td>\n",
              "      <td>0</td>\n",
              "      <td>...</td>\n",
              "      <td>0</td>\n",
              "      <td>2</td>\n",
              "      <td>0</td>\n",
              "      <td>0</td>\n",
              "      <td>2</td>\n",
              "      <td>0</td>\n",
              "      <td>0</td>\n",
              "      <td>1</td>\n",
              "      <td>0</td>\n",
              "      <td>Class_9</td>\n",
              "    </tr>\n",
              "    <tr>\n",
              "      <th>61875</th>\n",
              "      <td>61876</td>\n",
              "      <td>0</td>\n",
              "      <td>0</td>\n",
              "      <td>0</td>\n",
              "      <td>0</td>\n",
              "      <td>0</td>\n",
              "      <td>0</td>\n",
              "      <td>0</td>\n",
              "      <td>3</td>\n",
              "      <td>1</td>\n",
              "      <td>...</td>\n",
              "      <td>0</td>\n",
              "      <td>3</td>\n",
              "      <td>1</td>\n",
              "      <td>0</td>\n",
              "      <td>0</td>\n",
              "      <td>0</td>\n",
              "      <td>0</td>\n",
              "      <td>0</td>\n",
              "      <td>0</td>\n",
              "      <td>Class_9</td>\n",
              "    </tr>\n",
              "    <tr>\n",
              "      <th>61876</th>\n",
              "      <td>61877</td>\n",
              "      <td>1</td>\n",
              "      <td>0</td>\n",
              "      <td>0</td>\n",
              "      <td>0</td>\n",
              "      <td>0</td>\n",
              "      <td>0</td>\n",
              "      <td>0</td>\n",
              "      <td>0</td>\n",
              "      <td>0</td>\n",
              "      <td>...</td>\n",
              "      <td>0</td>\n",
              "      <td>0</td>\n",
              "      <td>0</td>\n",
              "      <td>0</td>\n",
              "      <td>1</td>\n",
              "      <td>0</td>\n",
              "      <td>3</td>\n",
              "      <td>10</td>\n",
              "      <td>0</td>\n",
              "      <td>Class_9</td>\n",
              "    </tr>\n",
              "    <tr>\n",
              "      <th>61877</th>\n",
              "      <td>61878</td>\n",
              "      <td>0</td>\n",
              "      <td>0</td>\n",
              "      <td>0</td>\n",
              "      <td>0</td>\n",
              "      <td>0</td>\n",
              "      <td>0</td>\n",
              "      <td>0</td>\n",
              "      <td>0</td>\n",
              "      <td>0</td>\n",
              "      <td>...</td>\n",
              "      <td>0</td>\n",
              "      <td>0</td>\n",
              "      <td>0</td>\n",
              "      <td>0</td>\n",
              "      <td>0</td>\n",
              "      <td>0</td>\n",
              "      <td>0</td>\n",
              "      <td>2</td>\n",
              "      <td>0</td>\n",
              "      <td>Class_9</td>\n",
              "    </tr>\n",
              "  </tbody>\n",
              "</table>\n",
              "<p>61878 rows × 95 columns</p>\n",
              "</div>\n",
              "      <button class=\"colab-df-convert\" onclick=\"convertToInteractive('df-f400e903-aa40-4e85-8e1f-c0f3324c30e3')\"\n",
              "              title=\"Convert this dataframe to an interactive table.\"\n",
              "              style=\"display:none;\">\n",
              "        \n",
              "  <svg xmlns=\"http://www.w3.org/2000/svg\" height=\"24px\"viewBox=\"0 0 24 24\"\n",
              "       width=\"24px\">\n",
              "    <path d=\"M0 0h24v24H0V0z\" fill=\"none\"/>\n",
              "    <path d=\"M18.56 5.44l.94 2.06.94-2.06 2.06-.94-2.06-.94-.94-2.06-.94 2.06-2.06.94zm-11 1L8.5 8.5l.94-2.06 2.06-.94-2.06-.94L8.5 2.5l-.94 2.06-2.06.94zm10 10l.94 2.06.94-2.06 2.06-.94-2.06-.94-.94-2.06-.94 2.06-2.06.94z\"/><path d=\"M17.41 7.96l-1.37-1.37c-.4-.4-.92-.59-1.43-.59-.52 0-1.04.2-1.43.59L10.3 9.45l-7.72 7.72c-.78.78-.78 2.05 0 2.83L4 21.41c.39.39.9.59 1.41.59.51 0 1.02-.2 1.41-.59l7.78-7.78 2.81-2.81c.8-.78.8-2.07 0-2.86zM5.41 20L4 18.59l7.72-7.72 1.47 1.35L5.41 20z\"/>\n",
              "  </svg>\n",
              "      </button>\n",
              "      \n",
              "  <style>\n",
              "    .colab-df-container {\n",
              "      display:flex;\n",
              "      flex-wrap:wrap;\n",
              "      gap: 12px;\n",
              "    }\n",
              "\n",
              "    .colab-df-convert {\n",
              "      background-color: #E8F0FE;\n",
              "      border: none;\n",
              "      border-radius: 50%;\n",
              "      cursor: pointer;\n",
              "      display: none;\n",
              "      fill: #1967D2;\n",
              "      height: 32px;\n",
              "      padding: 0 0 0 0;\n",
              "      width: 32px;\n",
              "    }\n",
              "\n",
              "    .colab-df-convert:hover {\n",
              "      background-color: #E2EBFA;\n",
              "      box-shadow: 0px 1px 2px rgba(60, 64, 67, 0.3), 0px 1px 3px 1px rgba(60, 64, 67, 0.15);\n",
              "      fill: #174EA6;\n",
              "    }\n",
              "\n",
              "    [theme=dark] .colab-df-convert {\n",
              "      background-color: #3B4455;\n",
              "      fill: #D2E3FC;\n",
              "    }\n",
              "\n",
              "    [theme=dark] .colab-df-convert:hover {\n",
              "      background-color: #434B5C;\n",
              "      box-shadow: 0px 1px 3px 1px rgba(0, 0, 0, 0.15);\n",
              "      filter: drop-shadow(0px 1px 2px rgba(0, 0, 0, 0.3));\n",
              "      fill: #FFFFFF;\n",
              "    }\n",
              "  </style>\n",
              "\n",
              "      <script>\n",
              "        const buttonEl =\n",
              "          document.querySelector('#df-f400e903-aa40-4e85-8e1f-c0f3324c30e3 button.colab-df-convert');\n",
              "        buttonEl.style.display =\n",
              "          google.colab.kernel.accessAllowed ? 'block' : 'none';\n",
              "\n",
              "        async function convertToInteractive(key) {\n",
              "          const element = document.querySelector('#df-f400e903-aa40-4e85-8e1f-c0f3324c30e3');\n",
              "          const dataTable =\n",
              "            await google.colab.kernel.invokeFunction('convertToInteractive',\n",
              "                                                     [key], {});\n",
              "          if (!dataTable) return;\n",
              "\n",
              "          const docLinkHtml = 'Like what you see? Visit the ' +\n",
              "            '<a target=\"_blank\" href=https://colab.research.google.com/notebooks/data_table.ipynb>data table notebook</a>'\n",
              "            + ' to learn more about interactive tables.';\n",
              "          element.innerHTML = '';\n",
              "          dataTable['output_type'] = 'display_data';\n",
              "          await google.colab.output.renderOutput(dataTable, element);\n",
              "          const docLink = document.createElement('div');\n",
              "          docLink.innerHTML = docLinkHtml;\n",
              "          element.appendChild(docLink);\n",
              "        }\n",
              "      </script>\n",
              "    </div>\n",
              "  </div>\n",
              "  "
            ]
          },
          "metadata": {},
          "execution_count": 69
        }
      ]
    },
    {
      "cell_type": "code",
      "source": [
        "# Instantiate test dataframe\n",
        "test = pd.read_csv('test.csv')\n",
        "test"
      ],
      "metadata": {
        "colab": {
          "base_uri": "https://localhost:8080/",
          "height": 488
        },
        "id": "CDDlV18ieUbe",
        "outputId": "8dbb7c81-64ad-45c7-d2e5-0aa4b4d90d72"
      },
      "execution_count": 70,
      "outputs": [
        {
          "output_type": "execute_result",
          "data": {
            "text/plain": [
              "            id  feat_1  feat_2  feat_3  feat_4  feat_5  feat_6  feat_7  \\\n",
              "0            1       0       0       0       0       0       0       0   \n",
              "1            2       2       2      14      16       0       0       0   \n",
              "2            3       0       1      12       1       0       0       0   \n",
              "3            4       0       0       0       1       0       0       0   \n",
              "4            5       1       0       0       1       0       0       1   \n",
              "...        ...     ...     ...     ...     ...     ...     ...     ...   \n",
              "144363  144364       0       0       0       0       0       0       0   \n",
              "144364  144365       0       0       0       0       0       0       0   \n",
              "144365  144366       0       1       0       0       0       0       1   \n",
              "144366  144367       0       0       0       0       0       0       0   \n",
              "144367  144368       0       0       0       0       0       0       0   \n",
              "\n",
              "        feat_8  feat_9  ...  feat_84  feat_85  feat_86  feat_87  feat_88  \\\n",
              "0            0       0  ...        0        0       11        1       20   \n",
              "1            0       0  ...        0        0        0        0        0   \n",
              "2            0       0  ...        0        0        0        0        2   \n",
              "3            0       0  ...        0        3        1        0        0   \n",
              "4            2       0  ...        0        0        0        0        0   \n",
              "...        ...     ...  ...      ...      ...      ...      ...      ...   \n",
              "144363       0       0  ...        0        0        2        1        1   \n",
              "144364       0       0  ...        0        1        4        1       11   \n",
              "144365       1       0  ...        0        1        3        1        1   \n",
              "144366       0       0  ...        0        0        0        0        5   \n",
              "144367       0       0  ...        0        0        9        1        6   \n",
              "\n",
              "        feat_89  feat_90  feat_91  feat_92  feat_93  \n",
              "0             0        0        0        0        0  \n",
              "1             4        0        0        2        0  \n",
              "2             0        0        0        0        1  \n",
              "3             0        0        0        0        0  \n",
              "4             0        0        9        0        0  \n",
              "...         ...      ...      ...      ...      ...  \n",
              "144363        0        0        0        0        0  \n",
              "144364        0        0        0        0        0  \n",
              "144365        0        0        1        0        0  \n",
              "144366        0        0        0        1        0  \n",
              "144367        0        0        0        0        0  \n",
              "\n",
              "[144368 rows x 94 columns]"
            ],
            "text/html": [
              "\n",
              "  <div id=\"df-694f3bfe-4b47-423b-9da5-7ab2732672eb\">\n",
              "    <div class=\"colab-df-container\">\n",
              "      <div>\n",
              "<style scoped>\n",
              "    .dataframe tbody tr th:only-of-type {\n",
              "        vertical-align: middle;\n",
              "    }\n",
              "\n",
              "    .dataframe tbody tr th {\n",
              "        vertical-align: top;\n",
              "    }\n",
              "\n",
              "    .dataframe thead th {\n",
              "        text-align: right;\n",
              "    }\n",
              "</style>\n",
              "<table border=\"1\" class=\"dataframe\">\n",
              "  <thead>\n",
              "    <tr style=\"text-align: right;\">\n",
              "      <th></th>\n",
              "      <th>id</th>\n",
              "      <th>feat_1</th>\n",
              "      <th>feat_2</th>\n",
              "      <th>feat_3</th>\n",
              "      <th>feat_4</th>\n",
              "      <th>feat_5</th>\n",
              "      <th>feat_6</th>\n",
              "      <th>feat_7</th>\n",
              "      <th>feat_8</th>\n",
              "      <th>feat_9</th>\n",
              "      <th>...</th>\n",
              "      <th>feat_84</th>\n",
              "      <th>feat_85</th>\n",
              "      <th>feat_86</th>\n",
              "      <th>feat_87</th>\n",
              "      <th>feat_88</th>\n",
              "      <th>feat_89</th>\n",
              "      <th>feat_90</th>\n",
              "      <th>feat_91</th>\n",
              "      <th>feat_92</th>\n",
              "      <th>feat_93</th>\n",
              "    </tr>\n",
              "  </thead>\n",
              "  <tbody>\n",
              "    <tr>\n",
              "      <th>0</th>\n",
              "      <td>1</td>\n",
              "      <td>0</td>\n",
              "      <td>0</td>\n",
              "      <td>0</td>\n",
              "      <td>0</td>\n",
              "      <td>0</td>\n",
              "      <td>0</td>\n",
              "      <td>0</td>\n",
              "      <td>0</td>\n",
              "      <td>0</td>\n",
              "      <td>...</td>\n",
              "      <td>0</td>\n",
              "      <td>0</td>\n",
              "      <td>11</td>\n",
              "      <td>1</td>\n",
              "      <td>20</td>\n",
              "      <td>0</td>\n",
              "      <td>0</td>\n",
              "      <td>0</td>\n",
              "      <td>0</td>\n",
              "      <td>0</td>\n",
              "    </tr>\n",
              "    <tr>\n",
              "      <th>1</th>\n",
              "      <td>2</td>\n",
              "      <td>2</td>\n",
              "      <td>2</td>\n",
              "      <td>14</td>\n",
              "      <td>16</td>\n",
              "      <td>0</td>\n",
              "      <td>0</td>\n",
              "      <td>0</td>\n",
              "      <td>0</td>\n",
              "      <td>0</td>\n",
              "      <td>...</td>\n",
              "      <td>0</td>\n",
              "      <td>0</td>\n",
              "      <td>0</td>\n",
              "      <td>0</td>\n",
              "      <td>0</td>\n",
              "      <td>4</td>\n",
              "      <td>0</td>\n",
              "      <td>0</td>\n",
              "      <td>2</td>\n",
              "      <td>0</td>\n",
              "    </tr>\n",
              "    <tr>\n",
              "      <th>2</th>\n",
              "      <td>3</td>\n",
              "      <td>0</td>\n",
              "      <td>1</td>\n",
              "      <td>12</td>\n",
              "      <td>1</td>\n",
              "      <td>0</td>\n",
              "      <td>0</td>\n",
              "      <td>0</td>\n",
              "      <td>0</td>\n",
              "      <td>0</td>\n",
              "      <td>...</td>\n",
              "      <td>0</td>\n",
              "      <td>0</td>\n",
              "      <td>0</td>\n",
              "      <td>0</td>\n",
              "      <td>2</td>\n",
              "      <td>0</td>\n",
              "      <td>0</td>\n",
              "      <td>0</td>\n",
              "      <td>0</td>\n",
              "      <td>1</td>\n",
              "    </tr>\n",
              "    <tr>\n",
              "      <th>3</th>\n",
              "      <td>4</td>\n",
              "      <td>0</td>\n",
              "      <td>0</td>\n",
              "      <td>0</td>\n",
              "      <td>1</td>\n",
              "      <td>0</td>\n",
              "      <td>0</td>\n",
              "      <td>0</td>\n",
              "      <td>0</td>\n",
              "      <td>0</td>\n",
              "      <td>...</td>\n",
              "      <td>0</td>\n",
              "      <td>3</td>\n",
              "      <td>1</td>\n",
              "      <td>0</td>\n",
              "      <td>0</td>\n",
              "      <td>0</td>\n",
              "      <td>0</td>\n",
              "      <td>0</td>\n",
              "      <td>0</td>\n",
              "      <td>0</td>\n",
              "    </tr>\n",
              "    <tr>\n",
              "      <th>4</th>\n",
              "      <td>5</td>\n",
              "      <td>1</td>\n",
              "      <td>0</td>\n",
              "      <td>0</td>\n",
              "      <td>1</td>\n",
              "      <td>0</td>\n",
              "      <td>0</td>\n",
              "      <td>1</td>\n",
              "      <td>2</td>\n",
              "      <td>0</td>\n",
              "      <td>...</td>\n",
              "      <td>0</td>\n",
              "      <td>0</td>\n",
              "      <td>0</td>\n",
              "      <td>0</td>\n",
              "      <td>0</td>\n",
              "      <td>0</td>\n",
              "      <td>0</td>\n",
              "      <td>9</td>\n",
              "      <td>0</td>\n",
              "      <td>0</td>\n",
              "    </tr>\n",
              "    <tr>\n",
              "      <th>...</th>\n",
              "      <td>...</td>\n",
              "      <td>...</td>\n",
              "      <td>...</td>\n",
              "      <td>...</td>\n",
              "      <td>...</td>\n",
              "      <td>...</td>\n",
              "      <td>...</td>\n",
              "      <td>...</td>\n",
              "      <td>...</td>\n",
              "      <td>...</td>\n",
              "      <td>...</td>\n",
              "      <td>...</td>\n",
              "      <td>...</td>\n",
              "      <td>...</td>\n",
              "      <td>...</td>\n",
              "      <td>...</td>\n",
              "      <td>...</td>\n",
              "      <td>...</td>\n",
              "      <td>...</td>\n",
              "      <td>...</td>\n",
              "      <td>...</td>\n",
              "    </tr>\n",
              "    <tr>\n",
              "      <th>144363</th>\n",
              "      <td>144364</td>\n",
              "      <td>0</td>\n",
              "      <td>0</td>\n",
              "      <td>0</td>\n",
              "      <td>0</td>\n",
              "      <td>0</td>\n",
              "      <td>0</td>\n",
              "      <td>0</td>\n",
              "      <td>0</td>\n",
              "      <td>0</td>\n",
              "      <td>...</td>\n",
              "      <td>0</td>\n",
              "      <td>0</td>\n",
              "      <td>2</td>\n",
              "      <td>1</td>\n",
              "      <td>1</td>\n",
              "      <td>0</td>\n",
              "      <td>0</td>\n",
              "      <td>0</td>\n",
              "      <td>0</td>\n",
              "      <td>0</td>\n",
              "    </tr>\n",
              "    <tr>\n",
              "      <th>144364</th>\n",
              "      <td>144365</td>\n",
              "      <td>0</td>\n",
              "      <td>0</td>\n",
              "      <td>0</td>\n",
              "      <td>0</td>\n",
              "      <td>0</td>\n",
              "      <td>0</td>\n",
              "      <td>0</td>\n",
              "      <td>0</td>\n",
              "      <td>0</td>\n",
              "      <td>...</td>\n",
              "      <td>0</td>\n",
              "      <td>1</td>\n",
              "      <td>4</td>\n",
              "      <td>1</td>\n",
              "      <td>11</td>\n",
              "      <td>0</td>\n",
              "      <td>0</td>\n",
              "      <td>0</td>\n",
              "      <td>0</td>\n",
              "      <td>0</td>\n",
              "    </tr>\n",
              "    <tr>\n",
              "      <th>144365</th>\n",
              "      <td>144366</td>\n",
              "      <td>0</td>\n",
              "      <td>1</td>\n",
              "      <td>0</td>\n",
              "      <td>0</td>\n",
              "      <td>0</td>\n",
              "      <td>0</td>\n",
              "      <td>1</td>\n",
              "      <td>1</td>\n",
              "      <td>0</td>\n",
              "      <td>...</td>\n",
              "      <td>0</td>\n",
              "      <td>1</td>\n",
              "      <td>3</td>\n",
              "      <td>1</td>\n",
              "      <td>1</td>\n",
              "      <td>0</td>\n",
              "      <td>0</td>\n",
              "      <td>1</td>\n",
              "      <td>0</td>\n",
              "      <td>0</td>\n",
              "    </tr>\n",
              "    <tr>\n",
              "      <th>144366</th>\n",
              "      <td>144367</td>\n",
              "      <td>0</td>\n",
              "      <td>0</td>\n",
              "      <td>0</td>\n",
              "      <td>0</td>\n",
              "      <td>0</td>\n",
              "      <td>0</td>\n",
              "      <td>0</td>\n",
              "      <td>0</td>\n",
              "      <td>0</td>\n",
              "      <td>...</td>\n",
              "      <td>0</td>\n",
              "      <td>0</td>\n",
              "      <td>0</td>\n",
              "      <td>0</td>\n",
              "      <td>5</td>\n",
              "      <td>0</td>\n",
              "      <td>0</td>\n",
              "      <td>0</td>\n",
              "      <td>1</td>\n",
              "      <td>0</td>\n",
              "    </tr>\n",
              "    <tr>\n",
              "      <th>144367</th>\n",
              "      <td>144368</td>\n",
              "      <td>0</td>\n",
              "      <td>0</td>\n",
              "      <td>0</td>\n",
              "      <td>0</td>\n",
              "      <td>0</td>\n",
              "      <td>0</td>\n",
              "      <td>0</td>\n",
              "      <td>0</td>\n",
              "      <td>0</td>\n",
              "      <td>...</td>\n",
              "      <td>0</td>\n",
              "      <td>0</td>\n",
              "      <td>9</td>\n",
              "      <td>1</td>\n",
              "      <td>6</td>\n",
              "      <td>0</td>\n",
              "      <td>0</td>\n",
              "      <td>0</td>\n",
              "      <td>0</td>\n",
              "      <td>0</td>\n",
              "    </tr>\n",
              "  </tbody>\n",
              "</table>\n",
              "<p>144368 rows × 94 columns</p>\n",
              "</div>\n",
              "      <button class=\"colab-df-convert\" onclick=\"convertToInteractive('df-694f3bfe-4b47-423b-9da5-7ab2732672eb')\"\n",
              "              title=\"Convert this dataframe to an interactive table.\"\n",
              "              style=\"display:none;\">\n",
              "        \n",
              "  <svg xmlns=\"http://www.w3.org/2000/svg\" height=\"24px\"viewBox=\"0 0 24 24\"\n",
              "       width=\"24px\">\n",
              "    <path d=\"M0 0h24v24H0V0z\" fill=\"none\"/>\n",
              "    <path d=\"M18.56 5.44l.94 2.06.94-2.06 2.06-.94-2.06-.94-.94-2.06-.94 2.06-2.06.94zm-11 1L8.5 8.5l.94-2.06 2.06-.94-2.06-.94L8.5 2.5l-.94 2.06-2.06.94zm10 10l.94 2.06.94-2.06 2.06-.94-2.06-.94-.94-2.06-.94 2.06-2.06.94z\"/><path d=\"M17.41 7.96l-1.37-1.37c-.4-.4-.92-.59-1.43-.59-.52 0-1.04.2-1.43.59L10.3 9.45l-7.72 7.72c-.78.78-.78 2.05 0 2.83L4 21.41c.39.39.9.59 1.41.59.51 0 1.02-.2 1.41-.59l7.78-7.78 2.81-2.81c.8-.78.8-2.07 0-2.86zM5.41 20L4 18.59l7.72-7.72 1.47 1.35L5.41 20z\"/>\n",
              "  </svg>\n",
              "      </button>\n",
              "      \n",
              "  <style>\n",
              "    .colab-df-container {\n",
              "      display:flex;\n",
              "      flex-wrap:wrap;\n",
              "      gap: 12px;\n",
              "    }\n",
              "\n",
              "    .colab-df-convert {\n",
              "      background-color: #E8F0FE;\n",
              "      border: none;\n",
              "      border-radius: 50%;\n",
              "      cursor: pointer;\n",
              "      display: none;\n",
              "      fill: #1967D2;\n",
              "      height: 32px;\n",
              "      padding: 0 0 0 0;\n",
              "      width: 32px;\n",
              "    }\n",
              "\n",
              "    .colab-df-convert:hover {\n",
              "      background-color: #E2EBFA;\n",
              "      box-shadow: 0px 1px 2px rgba(60, 64, 67, 0.3), 0px 1px 3px 1px rgba(60, 64, 67, 0.15);\n",
              "      fill: #174EA6;\n",
              "    }\n",
              "\n",
              "    [theme=dark] .colab-df-convert {\n",
              "      background-color: #3B4455;\n",
              "      fill: #D2E3FC;\n",
              "    }\n",
              "\n",
              "    [theme=dark] .colab-df-convert:hover {\n",
              "      background-color: #434B5C;\n",
              "      box-shadow: 0px 1px 3px 1px rgba(0, 0, 0, 0.15);\n",
              "      filter: drop-shadow(0px 1px 2px rgba(0, 0, 0, 0.3));\n",
              "      fill: #FFFFFF;\n",
              "    }\n",
              "  </style>\n",
              "\n",
              "      <script>\n",
              "        const buttonEl =\n",
              "          document.querySelector('#df-694f3bfe-4b47-423b-9da5-7ab2732672eb button.colab-df-convert');\n",
              "        buttonEl.style.display =\n",
              "          google.colab.kernel.accessAllowed ? 'block' : 'none';\n",
              "\n",
              "        async function convertToInteractive(key) {\n",
              "          const element = document.querySelector('#df-694f3bfe-4b47-423b-9da5-7ab2732672eb');\n",
              "          const dataTable =\n",
              "            await google.colab.kernel.invokeFunction('convertToInteractive',\n",
              "                                                     [key], {});\n",
              "          if (!dataTable) return;\n",
              "\n",
              "          const docLinkHtml = 'Like what you see? Visit the ' +\n",
              "            '<a target=\"_blank\" href=https://colab.research.google.com/notebooks/data_table.ipynb>data table notebook</a>'\n",
              "            + ' to learn more about interactive tables.';\n",
              "          element.innerHTML = '';\n",
              "          dataTable['output_type'] = 'display_data';\n",
              "          await google.colab.output.renderOutput(dataTable, element);\n",
              "          const docLink = document.createElement('div');\n",
              "          docLink.innerHTML = docLinkHtml;\n",
              "          element.appendChild(docLink);\n",
              "        }\n",
              "      </script>\n",
              "    </div>\n",
              "  </div>\n",
              "  "
            ]
          },
          "metadata": {},
          "execution_count": 70
        }
      ]
    },
    {
      "cell_type": "markdown",
      "source": [
        "Something to note about the `test.csv` dataset is that it does not include the `target` feature column.\n",
        "\n",
        "This is peeking a bit ahead, but the `target` feature is the `label` the machine learning models will try to predict. Also, given this project comes from a competition from Kaggle, it makes sense the `test.csv` does not have the labels. The competition (and a requirement of this project) requires the `sampleSubmission.csv` to be overridden with the predictions from a model, where the accuracy will be compared against other submissions."
      ],
      "metadata": {
        "id": "h6PjYzQT7Jsh"
      }
    },
    {
      "cell_type": "markdown",
      "source": [
        "## 3) Data Analysis\n",
        "\n"
      ],
      "metadata": {
        "id": "dv0LbZhPWtj_"
      }
    },
    {
      "cell_type": "markdown",
      "source": [
        "### Possible Features\n",
        "\n",
        "Before picking a model, the dataset's features need to be explored because the data should determine the type of learning, such as supervised vs. unsupervised."
      ],
      "metadata": {
        "id": "iMgxC6Ycjyqr"
      }
    },
    {
      "cell_type": "code",
      "source": [
        "# Print the possible features\n",
        "print(train.columns)"
      ],
      "metadata": {
        "colab": {
          "base_uri": "https://localhost:8080/"
        },
        "id": "Y9hiqjUCJjmy",
        "outputId": "33203c25-fec1-4e4e-e614-b8845ba12666"
      },
      "execution_count": 71,
      "outputs": [
        {
          "output_type": "stream",
          "name": "stdout",
          "text": [
            "Index(['id', 'feat_1', 'feat_2', 'feat_3', 'feat_4', 'feat_5', 'feat_6',\n",
            "       'feat_7', 'feat_8', 'feat_9', 'feat_10', 'feat_11', 'feat_12',\n",
            "       'feat_13', 'feat_14', 'feat_15', 'feat_16', 'feat_17', 'feat_18',\n",
            "       'feat_19', 'feat_20', 'feat_21', 'feat_22', 'feat_23', 'feat_24',\n",
            "       'feat_25', 'feat_26', 'feat_27', 'feat_28', 'feat_29', 'feat_30',\n",
            "       'feat_31', 'feat_32', 'feat_33', 'feat_34', 'feat_35', 'feat_36',\n",
            "       'feat_37', 'feat_38', 'feat_39', 'feat_40', 'feat_41', 'feat_42',\n",
            "       'feat_43', 'feat_44', 'feat_45', 'feat_46', 'feat_47', 'feat_48',\n",
            "       'feat_49', 'feat_50', 'feat_51', 'feat_52', 'feat_53', 'feat_54',\n",
            "       'feat_55', 'feat_56', 'feat_57', 'feat_58', 'feat_59', 'feat_60',\n",
            "       'feat_61', 'feat_62', 'feat_63', 'feat_64', 'feat_65', 'feat_66',\n",
            "       'feat_67', 'feat_68', 'feat_69', 'feat_70', 'feat_71', 'feat_72',\n",
            "       'feat_73', 'feat_74', 'feat_75', 'feat_76', 'feat_77', 'feat_78',\n",
            "       'feat_79', 'feat_80', 'feat_81', 'feat_82', 'feat_83', 'feat_84',\n",
            "       'feat_85', 'feat_86', 'feat_87', 'feat_88', 'feat_89', 'feat_90',\n",
            "       'feat_91', 'feat_92', 'feat_93', 'target'],\n",
            "      dtype='object')\n"
          ]
        }
      ]
    },
    {
      "cell_type": "markdown",
      "source": [
        "The dataset should have the following:\n",
        "```\n",
        "'id', 'feat_1', 'feat_2', 'feat_3', 'feat_4', 'feat_5', 'feat_6', 'feat_7', 'feat_8', 'feat_9', 'feat_10', 'feat_11', 'feat_12',\n",
        "'feat_13', 'feat_14', 'feat_15', 'feat_16', 'feat_17', 'feat_18', 'feat_19', 'feat_20', 'feat_21', 'feat_22', 'feat_23', 'feat_24',\n",
        "'feat_25', 'feat_26', 'feat_27', 'feat_28', 'feat_29', 'feat_30', 'feat_31', 'feat_32', 'feat_33', 'feat_34', 'feat_35', 'feat_36',\n",
        "'feat_37', 'feat_38', 'feat_39', 'feat_40', 'feat_41', 'feat_42', 'feat_43', 'feat_44', 'feat_45', 'feat_46', 'feat_47', 'feat_48',\n",
        "'feat_49', 'feat_50', 'feat_51', 'feat_52', 'feat_53', 'feat_54', 'feat_55', 'feat_56', 'feat_57', 'feat_58', 'feat_59', 'feat_60',\n",
        "'feat_61', 'feat_62', 'feat_63', 'feat_64', 'feat_65', 'feat_66', 'feat_67', 'feat_68', 'feat_69', 'feat_70', 'feat_71', 'feat_72',\n",
        "'feat_73', 'feat_74', 'feat_75', 'feat_76', 'feat_77', 'feat_78', 'feat_79', 'feat_80', 'feat_81', 'feat_82', 'feat_83', 'feat_84',\n",
        "'feat_85', 'feat_86', 'feat_87', 'feat_88', 'feat_89', 'feat_90', 'feat_91', 'feat_92', 'feat_93', 'target'\n",
        "```\n",
        "\n",
        "According to the Kaggle competition,\n",
        "\n",
        "* The `id` is an anonymous id unique to a product.\n",
        "\n",
        "* The feature fields `feat_1, feat_2, ..., feat_93` are the various features of the product. These are the features the DNN will use to learn.\n",
        "\n",
        "* The `target` is the class of the product. This will be the value the DNN predicts."
      ],
      "metadata": {
        "id": "znYbiuzCJ89E"
      }
    },
    {
      "cell_type": "markdown",
      "source": [
        "#### Taking a Look at the Data\n",
        "\n",
        "The dataset contains mostly `ints`. The only feature that's not an `int` is `target`, which is a `string`.\n",
        "\n",
        "The dataset is also complete, i.e. there are no `null` or equivalent value in the dataset. This is true becuase the count for each feature and label below is the same (61878). Had there been missing data, the values would need to be replaced with `np.NaN`, which could have been done during the DataFrame instantiation or during the Cleaning Data step.\n",
        "\n",
        "\n"
      ],
      "metadata": {
        "id": "Asb7fFj7yp_a"
      }
    },
    {
      "cell_type": "code",
      "source": [
        "# Take a look at the training data\n",
        "train.describe(include=\"all\")"
      ],
      "metadata": {
        "id": "XUGwCFmhg2Bv",
        "outputId": "bed233c1-b3cc-4180-d381-d96d566876d9",
        "colab": {
          "base_uri": "https://localhost:8080/",
          "height": 488
        }
      },
      "execution_count": 72,
      "outputs": [
        {
          "output_type": "execute_result",
          "data": {
            "text/plain": [
              "                  id       feat_1        feat_2        feat_3        feat_4  \\\n",
              "count   61878.000000  61878.00000  61878.000000  61878.000000  61878.000000   \n",
              "unique           NaN          NaN           NaN           NaN           NaN   \n",
              "top              NaN          NaN           NaN           NaN           NaN   \n",
              "freq             NaN          NaN           NaN           NaN           NaN   \n",
              "mean    30939.500000      0.38668      0.263066      0.901467      0.779081   \n",
              "std     17862.784315      1.52533      1.252073      2.934818      2.788005   \n",
              "min         1.000000      0.00000      0.000000      0.000000      0.000000   \n",
              "25%     15470.250000      0.00000      0.000000      0.000000      0.000000   \n",
              "50%     30939.500000      0.00000      0.000000      0.000000      0.000000   \n",
              "75%     46408.750000      0.00000      0.000000      0.000000      0.000000   \n",
              "max     61878.000000     61.00000     51.000000     64.000000     70.000000   \n",
              "\n",
              "              feat_5        feat_6        feat_7        feat_8        feat_9  \\\n",
              "count   61878.000000  61878.000000  61878.000000  61878.000000  61878.000000   \n",
              "unique           NaN           NaN           NaN           NaN           NaN   \n",
              "top              NaN           NaN           NaN           NaN           NaN   \n",
              "freq             NaN           NaN           NaN           NaN           NaN   \n",
              "mean        0.071043      0.025696      0.193704      0.662433      1.011296   \n",
              "std         0.438902      0.215333      1.030102      2.255770      3.474822   \n",
              "min         0.000000      0.000000      0.000000      0.000000      0.000000   \n",
              "25%         0.000000      0.000000      0.000000      0.000000      0.000000   \n",
              "50%         0.000000      0.000000      0.000000      0.000000      0.000000   \n",
              "75%         0.000000      0.000000      0.000000      1.000000      0.000000   \n",
              "max        19.000000     10.000000     38.000000     76.000000     43.000000   \n",
              "\n",
              "        ...       feat_85       feat_86       feat_87       feat_88  \\\n",
              "count   ...  61878.000000  61878.000000  61878.000000  61878.000000   \n",
              "unique  ...           NaN           NaN           NaN           NaN   \n",
              "top     ...           NaN           NaN           NaN           NaN   \n",
              "freq    ...           NaN           NaN           NaN           NaN   \n",
              "mean    ...      0.532306      1.128576      0.393549      0.874915   \n",
              "std     ...      1.900438      2.681554      1.575455      2.115466   \n",
              "min     ...      0.000000      0.000000      0.000000      0.000000   \n",
              "25%     ...      0.000000      0.000000      0.000000      0.000000   \n",
              "50%     ...      0.000000      0.000000      0.000000      0.000000   \n",
              "75%     ...      0.000000      1.000000      0.000000      1.000000   \n",
              "max     ...     55.000000     65.000000     67.000000     30.000000   \n",
              "\n",
              "             feat_89       feat_90       feat_91       feat_92       feat_93  \\\n",
              "count   61878.000000  61878.000000  61878.000000  61878.000000  61878.000000   \n",
              "unique           NaN           NaN           NaN           NaN           NaN   \n",
              "top              NaN           NaN           NaN           NaN           NaN   \n",
              "freq             NaN           NaN           NaN           NaN           NaN   \n",
              "mean        0.457772      0.812421      0.264941      0.380119      0.126135   \n",
              "std         1.527385      4.597804      2.045646      0.982385      1.201720   \n",
              "min         0.000000      0.000000      0.000000      0.000000      0.000000   \n",
              "25%         0.000000      0.000000      0.000000      0.000000      0.000000   \n",
              "50%         0.000000      0.000000      0.000000      0.000000      0.000000   \n",
              "75%         0.000000      0.000000      0.000000      0.000000      0.000000   \n",
              "max        61.000000    130.000000     52.000000     19.000000     87.000000   \n",
              "\n",
              "         target  \n",
              "count     61878  \n",
              "unique        9  \n",
              "top     Class_2  \n",
              "freq      16122  \n",
              "mean        NaN  \n",
              "std         NaN  \n",
              "min         NaN  \n",
              "25%         NaN  \n",
              "50%         NaN  \n",
              "75%         NaN  \n",
              "max         NaN  \n",
              "\n",
              "[11 rows x 95 columns]"
            ],
            "text/html": [
              "\n",
              "  <div id=\"df-2e624cf4-a598-4dd4-a1ac-8ecd51dda38b\">\n",
              "    <div class=\"colab-df-container\">\n",
              "      <div>\n",
              "<style scoped>\n",
              "    .dataframe tbody tr th:only-of-type {\n",
              "        vertical-align: middle;\n",
              "    }\n",
              "\n",
              "    .dataframe tbody tr th {\n",
              "        vertical-align: top;\n",
              "    }\n",
              "\n",
              "    .dataframe thead th {\n",
              "        text-align: right;\n",
              "    }\n",
              "</style>\n",
              "<table border=\"1\" class=\"dataframe\">\n",
              "  <thead>\n",
              "    <tr style=\"text-align: right;\">\n",
              "      <th></th>\n",
              "      <th>id</th>\n",
              "      <th>feat_1</th>\n",
              "      <th>feat_2</th>\n",
              "      <th>feat_3</th>\n",
              "      <th>feat_4</th>\n",
              "      <th>feat_5</th>\n",
              "      <th>feat_6</th>\n",
              "      <th>feat_7</th>\n",
              "      <th>feat_8</th>\n",
              "      <th>feat_9</th>\n",
              "      <th>...</th>\n",
              "      <th>feat_85</th>\n",
              "      <th>feat_86</th>\n",
              "      <th>feat_87</th>\n",
              "      <th>feat_88</th>\n",
              "      <th>feat_89</th>\n",
              "      <th>feat_90</th>\n",
              "      <th>feat_91</th>\n",
              "      <th>feat_92</th>\n",
              "      <th>feat_93</th>\n",
              "      <th>target</th>\n",
              "    </tr>\n",
              "  </thead>\n",
              "  <tbody>\n",
              "    <tr>\n",
              "      <th>count</th>\n",
              "      <td>61878.000000</td>\n",
              "      <td>61878.00000</td>\n",
              "      <td>61878.000000</td>\n",
              "      <td>61878.000000</td>\n",
              "      <td>61878.000000</td>\n",
              "      <td>61878.000000</td>\n",
              "      <td>61878.000000</td>\n",
              "      <td>61878.000000</td>\n",
              "      <td>61878.000000</td>\n",
              "      <td>61878.000000</td>\n",
              "      <td>...</td>\n",
              "      <td>61878.000000</td>\n",
              "      <td>61878.000000</td>\n",
              "      <td>61878.000000</td>\n",
              "      <td>61878.000000</td>\n",
              "      <td>61878.000000</td>\n",
              "      <td>61878.000000</td>\n",
              "      <td>61878.000000</td>\n",
              "      <td>61878.000000</td>\n",
              "      <td>61878.000000</td>\n",
              "      <td>61878</td>\n",
              "    </tr>\n",
              "    <tr>\n",
              "      <th>unique</th>\n",
              "      <td>NaN</td>\n",
              "      <td>NaN</td>\n",
              "      <td>NaN</td>\n",
              "      <td>NaN</td>\n",
              "      <td>NaN</td>\n",
              "      <td>NaN</td>\n",
              "      <td>NaN</td>\n",
              "      <td>NaN</td>\n",
              "      <td>NaN</td>\n",
              "      <td>NaN</td>\n",
              "      <td>...</td>\n",
              "      <td>NaN</td>\n",
              "      <td>NaN</td>\n",
              "      <td>NaN</td>\n",
              "      <td>NaN</td>\n",
              "      <td>NaN</td>\n",
              "      <td>NaN</td>\n",
              "      <td>NaN</td>\n",
              "      <td>NaN</td>\n",
              "      <td>NaN</td>\n",
              "      <td>9</td>\n",
              "    </tr>\n",
              "    <tr>\n",
              "      <th>top</th>\n",
              "      <td>NaN</td>\n",
              "      <td>NaN</td>\n",
              "      <td>NaN</td>\n",
              "      <td>NaN</td>\n",
              "      <td>NaN</td>\n",
              "      <td>NaN</td>\n",
              "      <td>NaN</td>\n",
              "      <td>NaN</td>\n",
              "      <td>NaN</td>\n",
              "      <td>NaN</td>\n",
              "      <td>...</td>\n",
              "      <td>NaN</td>\n",
              "      <td>NaN</td>\n",
              "      <td>NaN</td>\n",
              "      <td>NaN</td>\n",
              "      <td>NaN</td>\n",
              "      <td>NaN</td>\n",
              "      <td>NaN</td>\n",
              "      <td>NaN</td>\n",
              "      <td>NaN</td>\n",
              "      <td>Class_2</td>\n",
              "    </tr>\n",
              "    <tr>\n",
              "      <th>freq</th>\n",
              "      <td>NaN</td>\n",
              "      <td>NaN</td>\n",
              "      <td>NaN</td>\n",
              "      <td>NaN</td>\n",
              "      <td>NaN</td>\n",
              "      <td>NaN</td>\n",
              "      <td>NaN</td>\n",
              "      <td>NaN</td>\n",
              "      <td>NaN</td>\n",
              "      <td>NaN</td>\n",
              "      <td>...</td>\n",
              "      <td>NaN</td>\n",
              "      <td>NaN</td>\n",
              "      <td>NaN</td>\n",
              "      <td>NaN</td>\n",
              "      <td>NaN</td>\n",
              "      <td>NaN</td>\n",
              "      <td>NaN</td>\n",
              "      <td>NaN</td>\n",
              "      <td>NaN</td>\n",
              "      <td>16122</td>\n",
              "    </tr>\n",
              "    <tr>\n",
              "      <th>mean</th>\n",
              "      <td>30939.500000</td>\n",
              "      <td>0.38668</td>\n",
              "      <td>0.263066</td>\n",
              "      <td>0.901467</td>\n",
              "      <td>0.779081</td>\n",
              "      <td>0.071043</td>\n",
              "      <td>0.025696</td>\n",
              "      <td>0.193704</td>\n",
              "      <td>0.662433</td>\n",
              "      <td>1.011296</td>\n",
              "      <td>...</td>\n",
              "      <td>0.532306</td>\n",
              "      <td>1.128576</td>\n",
              "      <td>0.393549</td>\n",
              "      <td>0.874915</td>\n",
              "      <td>0.457772</td>\n",
              "      <td>0.812421</td>\n",
              "      <td>0.264941</td>\n",
              "      <td>0.380119</td>\n",
              "      <td>0.126135</td>\n",
              "      <td>NaN</td>\n",
              "    </tr>\n",
              "    <tr>\n",
              "      <th>std</th>\n",
              "      <td>17862.784315</td>\n",
              "      <td>1.52533</td>\n",
              "      <td>1.252073</td>\n",
              "      <td>2.934818</td>\n",
              "      <td>2.788005</td>\n",
              "      <td>0.438902</td>\n",
              "      <td>0.215333</td>\n",
              "      <td>1.030102</td>\n",
              "      <td>2.255770</td>\n",
              "      <td>3.474822</td>\n",
              "      <td>...</td>\n",
              "      <td>1.900438</td>\n",
              "      <td>2.681554</td>\n",
              "      <td>1.575455</td>\n",
              "      <td>2.115466</td>\n",
              "      <td>1.527385</td>\n",
              "      <td>4.597804</td>\n",
              "      <td>2.045646</td>\n",
              "      <td>0.982385</td>\n",
              "      <td>1.201720</td>\n",
              "      <td>NaN</td>\n",
              "    </tr>\n",
              "    <tr>\n",
              "      <th>min</th>\n",
              "      <td>1.000000</td>\n",
              "      <td>0.00000</td>\n",
              "      <td>0.000000</td>\n",
              "      <td>0.000000</td>\n",
              "      <td>0.000000</td>\n",
              "      <td>0.000000</td>\n",
              "      <td>0.000000</td>\n",
              "      <td>0.000000</td>\n",
              "      <td>0.000000</td>\n",
              "      <td>0.000000</td>\n",
              "      <td>...</td>\n",
              "      <td>0.000000</td>\n",
              "      <td>0.000000</td>\n",
              "      <td>0.000000</td>\n",
              "      <td>0.000000</td>\n",
              "      <td>0.000000</td>\n",
              "      <td>0.000000</td>\n",
              "      <td>0.000000</td>\n",
              "      <td>0.000000</td>\n",
              "      <td>0.000000</td>\n",
              "      <td>NaN</td>\n",
              "    </tr>\n",
              "    <tr>\n",
              "      <th>25%</th>\n",
              "      <td>15470.250000</td>\n",
              "      <td>0.00000</td>\n",
              "      <td>0.000000</td>\n",
              "      <td>0.000000</td>\n",
              "      <td>0.000000</td>\n",
              "      <td>0.000000</td>\n",
              "      <td>0.000000</td>\n",
              "      <td>0.000000</td>\n",
              "      <td>0.000000</td>\n",
              "      <td>0.000000</td>\n",
              "      <td>...</td>\n",
              "      <td>0.000000</td>\n",
              "      <td>0.000000</td>\n",
              "      <td>0.000000</td>\n",
              "      <td>0.000000</td>\n",
              "      <td>0.000000</td>\n",
              "      <td>0.000000</td>\n",
              "      <td>0.000000</td>\n",
              "      <td>0.000000</td>\n",
              "      <td>0.000000</td>\n",
              "      <td>NaN</td>\n",
              "    </tr>\n",
              "    <tr>\n",
              "      <th>50%</th>\n",
              "      <td>30939.500000</td>\n",
              "      <td>0.00000</td>\n",
              "      <td>0.000000</td>\n",
              "      <td>0.000000</td>\n",
              "      <td>0.000000</td>\n",
              "      <td>0.000000</td>\n",
              "      <td>0.000000</td>\n",
              "      <td>0.000000</td>\n",
              "      <td>0.000000</td>\n",
              "      <td>0.000000</td>\n",
              "      <td>...</td>\n",
              "      <td>0.000000</td>\n",
              "      <td>0.000000</td>\n",
              "      <td>0.000000</td>\n",
              "      <td>0.000000</td>\n",
              "      <td>0.000000</td>\n",
              "      <td>0.000000</td>\n",
              "      <td>0.000000</td>\n",
              "      <td>0.000000</td>\n",
              "      <td>0.000000</td>\n",
              "      <td>NaN</td>\n",
              "    </tr>\n",
              "    <tr>\n",
              "      <th>75%</th>\n",
              "      <td>46408.750000</td>\n",
              "      <td>0.00000</td>\n",
              "      <td>0.000000</td>\n",
              "      <td>0.000000</td>\n",
              "      <td>0.000000</td>\n",
              "      <td>0.000000</td>\n",
              "      <td>0.000000</td>\n",
              "      <td>0.000000</td>\n",
              "      <td>1.000000</td>\n",
              "      <td>0.000000</td>\n",
              "      <td>...</td>\n",
              "      <td>0.000000</td>\n",
              "      <td>1.000000</td>\n",
              "      <td>0.000000</td>\n",
              "      <td>1.000000</td>\n",
              "      <td>0.000000</td>\n",
              "      <td>0.000000</td>\n",
              "      <td>0.000000</td>\n",
              "      <td>0.000000</td>\n",
              "      <td>0.000000</td>\n",
              "      <td>NaN</td>\n",
              "    </tr>\n",
              "    <tr>\n",
              "      <th>max</th>\n",
              "      <td>61878.000000</td>\n",
              "      <td>61.00000</td>\n",
              "      <td>51.000000</td>\n",
              "      <td>64.000000</td>\n",
              "      <td>70.000000</td>\n",
              "      <td>19.000000</td>\n",
              "      <td>10.000000</td>\n",
              "      <td>38.000000</td>\n",
              "      <td>76.000000</td>\n",
              "      <td>43.000000</td>\n",
              "      <td>...</td>\n",
              "      <td>55.000000</td>\n",
              "      <td>65.000000</td>\n",
              "      <td>67.000000</td>\n",
              "      <td>30.000000</td>\n",
              "      <td>61.000000</td>\n",
              "      <td>130.000000</td>\n",
              "      <td>52.000000</td>\n",
              "      <td>19.000000</td>\n",
              "      <td>87.000000</td>\n",
              "      <td>NaN</td>\n",
              "    </tr>\n",
              "  </tbody>\n",
              "</table>\n",
              "<p>11 rows × 95 columns</p>\n",
              "</div>\n",
              "      <button class=\"colab-df-convert\" onclick=\"convertToInteractive('df-2e624cf4-a598-4dd4-a1ac-8ecd51dda38b')\"\n",
              "              title=\"Convert this dataframe to an interactive table.\"\n",
              "              style=\"display:none;\">\n",
              "        \n",
              "  <svg xmlns=\"http://www.w3.org/2000/svg\" height=\"24px\"viewBox=\"0 0 24 24\"\n",
              "       width=\"24px\">\n",
              "    <path d=\"M0 0h24v24H0V0z\" fill=\"none\"/>\n",
              "    <path d=\"M18.56 5.44l.94 2.06.94-2.06 2.06-.94-2.06-.94-.94-2.06-.94 2.06-2.06.94zm-11 1L8.5 8.5l.94-2.06 2.06-.94-2.06-.94L8.5 2.5l-.94 2.06-2.06.94zm10 10l.94 2.06.94-2.06 2.06-.94-2.06-.94-.94-2.06-.94 2.06-2.06.94z\"/><path d=\"M17.41 7.96l-1.37-1.37c-.4-.4-.92-.59-1.43-.59-.52 0-1.04.2-1.43.59L10.3 9.45l-7.72 7.72c-.78.78-.78 2.05 0 2.83L4 21.41c.39.39.9.59 1.41.59.51 0 1.02-.2 1.41-.59l7.78-7.78 2.81-2.81c.8-.78.8-2.07 0-2.86zM5.41 20L4 18.59l7.72-7.72 1.47 1.35L5.41 20z\"/>\n",
              "  </svg>\n",
              "      </button>\n",
              "      \n",
              "  <style>\n",
              "    .colab-df-container {\n",
              "      display:flex;\n",
              "      flex-wrap:wrap;\n",
              "      gap: 12px;\n",
              "    }\n",
              "\n",
              "    .colab-df-convert {\n",
              "      background-color: #E8F0FE;\n",
              "      border: none;\n",
              "      border-radius: 50%;\n",
              "      cursor: pointer;\n",
              "      display: none;\n",
              "      fill: #1967D2;\n",
              "      height: 32px;\n",
              "      padding: 0 0 0 0;\n",
              "      width: 32px;\n",
              "    }\n",
              "\n",
              "    .colab-df-convert:hover {\n",
              "      background-color: #E2EBFA;\n",
              "      box-shadow: 0px 1px 2px rgba(60, 64, 67, 0.3), 0px 1px 3px 1px rgba(60, 64, 67, 0.15);\n",
              "      fill: #174EA6;\n",
              "    }\n",
              "\n",
              "    [theme=dark] .colab-df-convert {\n",
              "      background-color: #3B4455;\n",
              "      fill: #D2E3FC;\n",
              "    }\n",
              "\n",
              "    [theme=dark] .colab-df-convert:hover {\n",
              "      background-color: #434B5C;\n",
              "      box-shadow: 0px 1px 3px 1px rgba(0, 0, 0, 0.15);\n",
              "      filter: drop-shadow(0px 1px 2px rgba(0, 0, 0, 0.3));\n",
              "      fill: #FFFFFF;\n",
              "    }\n",
              "  </style>\n",
              "\n",
              "      <script>\n",
              "        const buttonEl =\n",
              "          document.querySelector('#df-2e624cf4-a598-4dd4-a1ac-8ecd51dda38b button.colab-df-convert');\n",
              "        buttonEl.style.display =\n",
              "          google.colab.kernel.accessAllowed ? 'block' : 'none';\n",
              "\n",
              "        async function convertToInteractive(key) {\n",
              "          const element = document.querySelector('#df-2e624cf4-a598-4dd4-a1ac-8ecd51dda38b');\n",
              "          const dataTable =\n",
              "            await google.colab.kernel.invokeFunction('convertToInteractive',\n",
              "                                                     [key], {});\n",
              "          if (!dataTable) return;\n",
              "\n",
              "          const docLinkHtml = 'Like what you see? Visit the ' +\n",
              "            '<a target=\"_blank\" href=https://colab.research.google.com/notebooks/data_table.ipynb>data table notebook</a>'\n",
              "            + ' to learn more about interactive tables.';\n",
              "          element.innerHTML = '';\n",
              "          dataTable['output_type'] = 'display_data';\n",
              "          await google.colab.output.renderOutput(dataTable, element);\n",
              "          const docLink = document.createElement('div');\n",
              "          docLink.innerHTML = docLinkHtml;\n",
              "          element.appendChild(docLink);\n",
              "        }\n",
              "      </script>\n",
              "    </div>\n",
              "  </div>\n",
              "  "
            ]
          },
          "metadata": {},
          "execution_count": 72
        }
      ]
    },
    {
      "cell_type": "markdown",
      "source": [
        "#### Some Observations:\n",
        "\n",
        "* The `max` value for the features shown above range quite a bit. Therefore, they should be normalized.\n",
        "* The min, 25, and 50 percent values are all zeroes. Given the table is truncated (i.e. not displaying the middle feature columns), that observation may not be fully accurate.\n",
        "* Some features have `1` at 75 percent, which could mean that those features are a bit more common in the dataset.\n",
        "* The top target value is `Class_2`. Its `freq` is 16122, which is just over a fourth of the total instances; (16122 / 61878) * 100 = 26.1\n",
        "* There are only 9 target classes, see the `unique` row and `target` column.\n"
      ],
      "metadata": {
        "id": "AtaJEA5HhPXE"
      }
    },
    {
      "cell_type": "markdown",
      "source": [
        "#### Some Predictions:\n",
        "\n",
        "* Given the training dataset is less than half of the test dataset (61878 / 144368 = 0.4286), the DNN will not achieve a high accuracy. I suspect this is the case because a majority of the feature values are `0`. So the DNN model will likely overfit because it trained on a small set of features.\n",
        "* The features with a mean greater than 1 will have more of an influence on learning than the others."
      ],
      "metadata": {
        "id": "0NcF9tiglN_A"
      }
    },
    {
      "cell_type": "markdown",
      "source": [
        "## 4) Data Visualization\n",
        "\n",
        "### Before Visualizing\n",
        "\n",
        "* There are 93 features in this dataset. So, the visualizations will focus on a subset of the data.\n",
        "\n",
        "* The graphs below are bar charts, and some bars have a thin black line. According to the [documentation](https://seaborn.pydata.org/generated/seaborn.barplot.html), that line represents the 95% confidence interval. No line, means `seaborn` is 95% or more confident the value is correct. On the other hand, the presence of the line shows the range of values until `seaborn`'s 95% confident or more."
      ],
      "metadata": {
        "id": "141O3qDWJ2a3"
      }
    },
    {
      "cell_type": "markdown",
      "source": [
        "### Features with Means >= 1\n",
        "\n",
        "Let's take a look at the features who's mean is greater than or equal 1. These should provide interesting graphs because they appear more within the dataset than the other features (see the `Data Analysis` section for evidence of `0` frequency within the dataset)."
      ],
      "metadata": {
        "id": "ioxDeliunilc"
      }
    },
    {
      "cell_type": "code",
      "source": [
        "train_feats_mean_greater_than_or_equal_to_1 = train.drop('target', axis=1)\n",
        "train_feats_mean_greater_than_or_equal_to_1 = train_feats_mean_greater_than_or_equal_to_1.drop('id', axis=1)\n",
        "train_feats_mean_greater_than_or_equal_to_1 = train_feats_mean_greater_than_or_equal_to_1[train_feats_mean_greater_than_or_equal_to_1.columns[train_feats_mean_greater_than_or_equal_to_1.mean(axis=0) >= 1.0]]\n",
        "print('Number of features with means greater than or equal to 1')\n",
        "print(len(train_feats_mean_greater_than_or_equal_to_1.columns))\n",
        "\n",
        "print(train_feats_mean_greater_than_or_equal_to_1.columns)"
      ],
      "metadata": {
        "colab": {
          "base_uri": "https://localhost:8080/"
        },
        "id": "S7ZsE0npoC7Y",
        "outputId": "4b42c7ed-7f77-49d3-ef9e-a03d938c37b4"
      },
      "execution_count": 73,
      "outputs": [
        {
          "output_type": "stream",
          "name": "stdout",
          "text": [
            "Number of features with means greater than or equal to 1\n",
            "16\n",
            "Index(['feat_9', 'feat_11', 'feat_14', 'feat_15', 'feat_16', 'feat_24',\n",
            "       'feat_25', 'feat_32', 'feat_40', 'feat_48', 'feat_54', 'feat_60',\n",
            "       'feat_62', 'feat_64', 'feat_67', 'feat_86'],\n",
            "      dtype='object')\n"
          ]
        }
      ]
    },
    {
      "cell_type": "markdown",
      "source": [
        "### `feat_9` feature"
      ],
      "metadata": {
        "id": "GUkotXa8sTF-"
      }
    },
    {
      "cell_type": "code",
      "source": [
        "sns.barplot(x='feat_9', y='target', data=train)"
      ],
      "metadata": {
        "colab": {
          "base_uri": "https://localhost:8080/",
          "height": 0
        },
        "id": "tpVGto5apwZn",
        "outputId": "f3306876-0f56-499e-8740-44e43fbc8521"
      },
      "execution_count": 74,
      "outputs": [
        {
          "output_type": "execute_result",
          "data": {
            "text/plain": [
              "<matplotlib.axes._subplots.AxesSubplot at 0x7fcc1a4031d0>"
            ]
          },
          "metadata": {},
          "execution_count": 74
        },
        {
          "output_type": "display_data",
          "data": {
            "text/plain": [
              "<Figure size 432x288 with 1 Axes>"
            ],
            "image/png": "[encoded data removed]"
          },
          "metadata": {
            "needs_background": "light"
          }
        }
      ]
    },
    {
      "cell_type": "markdown",
      "source": [
        "### `feat_11` feature\n"
      ],
      "metadata": {
        "id": "02sYa4N9slz2"
      }
    },
    {
      "cell_type": "code",
      "source": [
        "sns.barplot(x='feat_11', y='target', data=train)"
      ],
      "metadata": {
        "colab": {
          "base_uri": "https://localhost:8080/",
          "height": 0
        },
        "id": "EsJ72-kOslIC",
        "outputId": "0cb4954c-ec32-4cc4-f31f-fb938ef9e3f0"
      },
      "execution_count": 75,
      "outputs": [
        {
          "output_type": "execute_result",
          "data": {
            "text/plain": [
              "<matplotlib.axes._subplots.AxesSubplot at 0x7fcb927a3990>"
            ]
          },
          "metadata": {},
          "execution_count": 75
        },
        {
          "output_type": "display_data",
          "data": {
            "text/plain": [
              "<Figure size 432x288 with 1 Axes>"
            ],
            "image/png": "[encoded data removed]"
          },
          "metadata": {
            "needs_background": "light"
          }
        }
      ]
    },
    {
      "cell_type": "markdown",
      "source": [
        "### `feat_14` feature\n"
      ],
      "metadata": {
        "id": "ST1XlyN7tCcC"
      }
    },
    {
      "cell_type": "code",
      "source": [
        "sns.barplot(x='feat_14', y='target', data=train)"
      ],
      "metadata": {
        "colab": {
          "base_uri": "https://localhost:8080/",
          "height": 0
        },
        "id": "0jpaP3wMtCwB",
        "outputId": "f2b6848d-cc95-4c24-f122-f4c3628299f7"
      },
      "execution_count": 76,
      "outputs": [
        {
          "output_type": "execute_result",
          "data": {
            "text/plain": [
              "<matplotlib.axes._subplots.AxesSubplot at 0x7fcb9a364dd0>"
            ]
          },
          "metadata": {},
          "execution_count": 76
        },
        {
          "output_type": "display_data",
          "data": {
            "text/plain": [
              "<Figure size 432x288 with 1 Axes>"
            ],
            "image/png": "[encoded data removed]"
          },
          "metadata": {
            "needs_background": "light"
          }
        }
      ]
    },
    {
      "cell_type": "markdown",
      "source": [
        "### `feat_15` feature\n"
      ],
      "metadata": {
        "id": "Em_K5utVtEG7"
      }
    },
    {
      "cell_type": "code",
      "source": [
        "sns.barplot(x='feat_15', y='target', data=train)"
      ],
      "metadata": {
        "colab": {
          "base_uri": "https://localhost:8080/",
          "height": 0
        },
        "id": "5oarnFs-tEiw",
        "outputId": "b6f78614-c566-42b3-be8c-37e1646d327b"
      },
      "execution_count": 77,
      "outputs": [
        {
          "output_type": "execute_result",
          "data": {
            "text/plain": [
              "<matplotlib.axes._subplots.AxesSubplot at 0x7fcb9a4b3390>"
            ]
          },
          "metadata": {},
          "execution_count": 77
        },
        {
          "output_type": "display_data",
          "data": {
            "text/plain": [
              "<Figure size 432x288 with 1 Axes>"
            ],
            "image/png": "[encoded data removed]"
          },
          "metadata": {
            "needs_background": "light"
          }
        }
      ]
    },
    {
      "cell_type": "markdown",
      "source": [
        "### `feat_16` feature\n"
      ],
      "metadata": {
        "id": "aE1gxahptGeF"
      }
    },
    {
      "cell_type": "code",
      "source": [
        "sns.barplot(x='feat_16', y='target', data=train)"
      ],
      "metadata": {
        "colab": {
          "base_uri": "https://localhost:8080/",
          "height": 0
        },
        "id": "-DpnOsyhtG0K",
        "outputId": "7f7f0eee-5959-480b-c52b-532d14e081b1"
      },
      "execution_count": 78,
      "outputs": [
        {
          "output_type": "execute_result",
          "data": {
            "text/plain": [
              "<matplotlib.axes._subplots.AxesSubplot at 0x7fcb9a416050>"
            ]
          },
          "metadata": {},
          "execution_count": 78
        },
        {
          "output_type": "display_data",
          "data": {
            "text/plain": [
              "<Figure size 432x288 with 1 Axes>"
            ],
            "image/png": "[encoded data removed]"
          },
          "metadata": {
            "needs_background": "light"
          }
        }
      ]
    },
    {
      "cell_type": "markdown",
      "source": [
        "### `feat_24` feature\n"
      ],
      "metadata": {
        "id": "6FLzQG7CtLeE"
      }
    },
    {
      "cell_type": "code",
      "source": [
        "sns.barplot(x='feat_24', y='target', data=train)"
      ],
      "metadata": {
        "colab": {
          "base_uri": "https://localhost:8080/",
          "height": 0
        },
        "id": "Sb73Hz8otL0B",
        "outputId": "8b03eb33-8379-4c60-dcf3-886d552d3390"
      },
      "execution_count": 79,
      "outputs": [
        {
          "output_type": "execute_result",
          "data": {
            "text/plain": [
              "<matplotlib.axes._subplots.AxesSubplot at 0x7fcb9a2e3e50>"
            ]
          },
          "metadata": {},
          "execution_count": 79
        },
        {
          "output_type": "display_data",
          "data": {
            "text/plain": [
              "<Figure size 432x288 with 1 Axes>"
            ],
            "image/png": "[encoded data removed]"
          },
          "metadata": {
            "needs_background": "light"
          }
        }
      ]
    },
    {
      "cell_type": "markdown",
      "source": [
        "### `feat_25` feature\n"
      ],
      "metadata": {
        "id": "AFvNHVBVtNf8"
      }
    },
    {
      "cell_type": "code",
      "source": [
        "sns.barplot(x='feat_25', y='target', data=train)"
      ],
      "metadata": {
        "colab": {
          "base_uri": "https://localhost:8080/",
          "height": 0
        },
        "id": "h9All0tGtN63",
        "outputId": "2f0ce868-cd0f-4414-ba32-c0d20ff3b17c"
      },
      "execution_count": 80,
      "outputs": [
        {
          "output_type": "execute_result",
          "data": {
            "text/plain": [
              "<matplotlib.axes._subplots.AxesSubplot at 0x7fcb9a205cd0>"
            ]
          },
          "metadata": {},
          "execution_count": 80
        },
        {
          "output_type": "display_data",
          "data": {
            "text/plain": [
              "<Figure size 432x288 with 1 Axes>"
            ],
            "image/png": "[encoded data removed]"
          },
          "metadata": {
            "needs_background": "light"
          }
        }
      ]
    },
    {
      "cell_type": "markdown",
      "source": [
        "### `feat_32` feature\n"
      ],
      "metadata": {
        "id": "ZZTDkGBrtQht"
      }
    },
    {
      "cell_type": "code",
      "source": [
        "sns.barplot(x='feat_32', y='target', data=train)"
      ],
      "metadata": {
        "colab": {
          "base_uri": "https://localhost:8080/",
          "height": 0
        },
        "id": "78vyJmtStQZS",
        "outputId": "cb1588d9-acce-4621-8741-53cf385a1a03"
      },
      "execution_count": 81,
      "outputs": [
        {
          "output_type": "execute_result",
          "data": {
            "text/plain": [
              "<matplotlib.axes._subplots.AxesSubplot at 0x7fcb9a1a5850>"
            ]
          },
          "metadata": {},
          "execution_count": 81
        },
        {
          "output_type": "display_data",
          "data": {
            "text/plain": [
              "<Figure size 432x288 with 1 Axes>"
            ],
            "image/png": "[encoded data removed]"
          },
          "metadata": {
            "needs_background": "light"
          }
        }
      ]
    },
    {
      "cell_type": "markdown",
      "source": [
        "### `feat_40` feature\n"
      ],
      "metadata": {
        "id": "FL67samEtR43"
      }
    },
    {
      "cell_type": "code",
      "source": [
        "sns.barplot(x='feat_40', y='target', data=train)"
      ],
      "metadata": {
        "colab": {
          "base_uri": "https://localhost:8080/",
          "height": 0
        },
        "id": "gdiF_0LYtRvX",
        "outputId": "6eaf4223-4e8d-4ea3-fc6b-d0cf02cb4a0d"
      },
      "execution_count": 82,
      "outputs": [
        {
          "output_type": "execute_result",
          "data": {
            "text/plain": [
              "<matplotlib.axes._subplots.AxesSubplot at 0x7fcb9a0c7b50>"
            ]
          },
          "metadata": {},
          "execution_count": 82
        },
        {
          "output_type": "display_data",
          "data": {
            "text/plain": [
              "<Figure size 432x288 with 1 Axes>"
            ],
            "image/png": "[encoded data removed]"
          },
          "metadata": {
            "needs_background": "light"
          }
        }
      ]
    },
    {
      "cell_type": "markdown",
      "source": [
        "### `feat_48` feature\n"
      ],
      "metadata": {
        "id": "wlzT3sEytTGy"
      }
    },
    {
      "cell_type": "code",
      "source": [
        "sns.barplot(x='feat_48', y='target', data=train)"
      ],
      "metadata": {
        "colab": {
          "base_uri": "https://localhost:8080/",
          "height": 0
        },
        "id": "OMOrabaNtS9Q",
        "outputId": "f4e65d65-53f7-4164-ac6b-f485d92e6e1f"
      },
      "execution_count": 83,
      "outputs": [
        {
          "output_type": "execute_result",
          "data": {
            "text/plain": [
              "<matplotlib.axes._subplots.AxesSubplot at 0x7fcb9a06e290>"
            ]
          },
          "metadata": {},
          "execution_count": 83
        },
        {
          "output_type": "display_data",
          "data": {
            "text/plain": [
              "<Figure size 432x288 with 1 Axes>"
            ],
            "image/png": "[encoded data removed]"
          },
          "metadata": {
            "needs_background": "light"
          }
        }
      ]
    },
    {
      "cell_type": "markdown",
      "source": [
        "### `feat_54` feature\n"
      ],
      "metadata": {
        "id": "3qJGwJFstUhE"
      }
    },
    {
      "cell_type": "code",
      "source": [
        "sns.barplot(x='feat_54', y='target', data=train)"
      ],
      "metadata": {
        "colab": {
          "base_uri": "https://localhost:8080/",
          "height": 0
        },
        "id": "WLZeAmzmtUZ-",
        "outputId": "561877bf-9fa2-4896-ceee-7de5f4dc0724"
      },
      "execution_count": 84,
      "outputs": [
        {
          "output_type": "execute_result",
          "data": {
            "text/plain": [
              "<matplotlib.axes._subplots.AxesSubplot at 0x7fcb926b4b50>"
            ]
          },
          "metadata": {},
          "execution_count": 84
        },
        {
          "output_type": "display_data",
          "data": {
            "text/plain": [
              "<Figure size 432x288 with 1 Axes>"
            ],
            "image/png": "[encoded data removed]"
          },
          "metadata": {
            "needs_background": "light"
          }
        }
      ]
    },
    {
      "cell_type": "markdown",
      "source": [
        "### `feat_60` feature\n"
      ],
      "metadata": {
        "id": "AM4kWXRxtVyA"
      }
    },
    {
      "cell_type": "code",
      "source": [
        "sns.barplot(x='feat_60', y='target', data=train)"
      ],
      "metadata": {
        "colab": {
          "base_uri": "https://localhost:8080/",
          "height": 0
        },
        "id": "PZ5xO2n9tVq2",
        "outputId": "183fb041-5971-4300-bf9b-57510a70802f"
      },
      "execution_count": 85,
      "outputs": [
        {
          "output_type": "execute_result",
          "data": {
            "text/plain": [
              "<matplotlib.axes._subplots.AxesSubplot at 0x7fcb92631910>"
            ]
          },
          "metadata": {},
          "execution_count": 85
        },
        {
          "output_type": "display_data",
          "data": {
            "text/plain": [
              "<Figure size 432x288 with 1 Axes>"
            ],
            "image/png": "[encoded data removed]"
          },
          "metadata": {
            "needs_background": "light"
          }
        }
      ]
    },
    {
      "cell_type": "markdown",
      "source": [
        "### `feat_62` feature\n"
      ],
      "metadata": {
        "id": "HtGzG7iTtXYl"
      }
    },
    {
      "cell_type": "code",
      "source": [
        "sns.barplot(x='feat_62', y='target', data=train)"
      ],
      "metadata": {
        "colab": {
          "base_uri": "https://localhost:8080/",
          "height": 0
        },
        "id": "pw0g_UY7tXPr",
        "outputId": "a7f902fc-e0dc-4f01-fb09-f745379e2bbd"
      },
      "execution_count": 86,
      "outputs": [
        {
          "output_type": "execute_result",
          "data": {
            "text/plain": [
              "<matplotlib.axes._subplots.AxesSubplot at 0x7fcb9255ce50>"
            ]
          },
          "metadata": {},
          "execution_count": 86
        },
        {
          "output_type": "display_data",
          "data": {
            "text/plain": [
              "<Figure size 432x288 with 1 Axes>"
            ],
            "image/png": "[encoded data removed]"
          },
          "metadata": {
            "needs_background": "light"
          }
        }
      ]
    },
    {
      "cell_type": "markdown",
      "source": [
        "### `feat_64` feature\n"
      ],
      "metadata": {
        "id": "TqiazCsRtZJl"
      }
    },
    {
      "cell_type": "code",
      "source": [
        "sns.barplot(x='feat_64', y='target', data=train)"
      ],
      "metadata": {
        "colab": {
          "base_uri": "https://localhost:8080/",
          "height": 0
        },
        "id": "Jre4M0odtZAw",
        "outputId": "2d3b29d9-9a8a-4ed0-fbf2-ab8bf73248bd"
      },
      "execution_count": 87,
      "outputs": [
        {
          "output_type": "execute_result",
          "data": {
            "text/plain": [
              "<matplotlib.axes._subplots.AxesSubplot at 0x7fcb924f6f50>"
            ]
          },
          "metadata": {},
          "execution_count": 87
        },
        {
          "output_type": "display_data",
          "data": {
            "text/plain": [
              "<Figure size 432x288 with 1 Axes>"
            ],
            "image/png": "[encoded data removed]"
          },
          "metadata": {
            "needs_background": "light"
          }
        }
      ]
    },
    {
      "cell_type": "markdown",
      "source": [
        "### `feat_67` feature\n"
      ],
      "metadata": {
        "id": "aGoquYvvtaTL"
      }
    },
    {
      "cell_type": "code",
      "source": [
        "sns.barplot(x='feat_67', y='target', data=train)"
      ],
      "metadata": {
        "colab": {
          "base_uri": "https://localhost:8080/",
          "height": 0
        },
        "id": "SUpOiQwltaMI",
        "outputId": "d90c016c-405d-4f9f-b12d-d6fd4adc1310"
      },
      "execution_count": 88,
      "outputs": [
        {
          "output_type": "execute_result",
          "data": {
            "text/plain": [
              "<matplotlib.axes._subplots.AxesSubplot at 0x7fcb92416150>"
            ]
          },
          "metadata": {},
          "execution_count": 88
        },
        {
          "output_type": "display_data",
          "data": {
            "text/plain": [
              "<Figure size 432x288 with 1 Axes>"
            ],
            "image/png": "[encoded data removed]"
          },
          "metadata": {
            "needs_background": "light"
          }
        }
      ]
    },
    {
      "cell_type": "markdown",
      "source": [
        "### `feat_86` feature"
      ],
      "metadata": {
        "id": "i8u6wvGjtbne"
      }
    },
    {
      "cell_type": "code",
      "source": [
        "sns.barplot(x='feat_86', y='target', data=train)"
      ],
      "metadata": {
        "colab": {
          "base_uri": "https://localhost:8080/",
          "height": 0
        },
        "id": "yRrwyhjItbH_",
        "outputId": "4f8deae1-da44-48b8-da7c-59cb0b85bf90"
      },
      "execution_count": 89,
      "outputs": [
        {
          "output_type": "execute_result",
          "data": {
            "text/plain": [
              "<matplotlib.axes._subplots.AxesSubplot at 0x7fcb9236a450>"
            ]
          },
          "metadata": {},
          "execution_count": 89
        },
        {
          "output_type": "display_data",
          "data": {
            "text/plain": [
              "<Figure size 432x288 with 1 Axes>"
            ],
            "image/png": "[encoded data removed]"
          },
          "metadata": {
            "needs_background": "light"
          }
        }
      ]
    },
    {
      "cell_type": "markdown",
      "source": [
        "### Analysis of Observations\n",
        "\n",
        "The following anaylsis only discusses the features that have a mean value greater than or equal to 1.0.\n",
        "\n",
        "* Out of the 16 features identified, 5 features appear to belong to 1 class. Taking a look at `feat_9`, `feat_11`, `feat_54`, `feat_60`, and `feat_62` have a fequency in one `target` class that's significantly greater than the others. Given the entire dataset was used to generate the charts, this analysis should hold true and is not a side-effect of having a subset of the data.\n",
        "* `Class_5` is never in the top 3. This likely means the class is made up of a variety of features.\n",
        "* `Class_6` is the top target value to appear within the analyzed dataset; frequency is 4. `Class_2` is the second top target, and `Class_3` is the third top target. (This analysis was done by counting the top 3 target classes for a feature and then counting the frequency of the class within its placement. For example, `Class_3` is the third top target. It appears in `feat_14`, `feat_15`, `feat_25`, `feat_32`, and `feat_86` as third highest.) So, classes 2, 3, and 6 are likely easier to predict but this might lead to overfitting because the test dataset could not include the same feature fequency distributions."
      ],
      "metadata": {
        "id": "jpg-EWJ9-EX5"
      }
    },
    {
      "cell_type": "markdown",
      "source": [
        "## 5) Cleaning Data\n",
        "\n",
        "Before training a model to make predictions, standard practices indicate that cleaning up the data is important. This cleaning can range from removing or replacing values that models cannot interpet to simply splitting the data into features and labels."
      ],
      "metadata": {
        "id": "Mg7mwvl2Wzvs"
      }
    },
    {
      "cell_type": "markdown",
      "source": [
        "### Splitting the data\n",
        "\n",
        "Standard practices of machine learning generally favor splitting the dataset into `training` and `test`. Their names are self-evident, but for clarity, the machine learning model will use the `training` set to learn (i.e. fit), and it will use the `test` set to make predictions.\n",
        "\n",
        "The Kaggle competition has already split the data into train and test data, and this means that both datasets need to be cleaned up at the same time. So, the following steps will be performed twice, except the drop `target` step because the test data does not include those values.\n",
        "\n",
        "Unfortunately, I still need a way to understand the model's accurarcy after fitting. Therefore, the `training` data will also be split."
      ],
      "metadata": {
        "id": "FJMU8K9BUiCm"
      }
    },
    {
      "cell_type": "markdown",
      "source": [
        "### Features\n",
        "\n",
        "These are the columns from the dataset that machine learning models will use to predict a `target` value. Therefore, the first step to clean up the data is to remove the `target`."
      ],
      "metadata": {
        "id": "44HoqabcN2VJ"
      }
    },
    {
      "cell_type": "code",
      "source": [
        "train_features = train.drop('target', axis=1)\n",
        "train_features[:3]"
      ],
      "metadata": {
        "id": "_ur6HctjKn0n",
        "outputId": "20aea08a-b629-4c8c-9764-8f9d87490b0f",
        "colab": {
          "base_uri": "https://localhost:8080/",
          "height": 0
        }
      },
      "execution_count": 90,
      "outputs": [
        {
          "output_type": "execute_result",
          "data": {
            "text/plain": [
              "   id  feat_1  feat_2  feat_3  feat_4  feat_5  feat_6  feat_7  feat_8  feat_9  \\\n",
              "0   1       1       0       0       0       0       0       0       0       0   \n",
              "1   2       0       0       0       0       0       0       0       1       0   \n",
              "2   3       0       0       0       0       0       0       0       1       0   \n",
              "\n",
              "   ...  feat_84  feat_85  feat_86  feat_87  feat_88  feat_89  feat_90  \\\n",
              "0  ...        0        1        0        0        0        0        0   \n",
              "1  ...        0        0        0        0        0        0        0   \n",
              "2  ...        0        0        0        0        0        0        0   \n",
              "\n",
              "   feat_91  feat_92  feat_93  \n",
              "0        0        0        0  \n",
              "1        0        0        0  \n",
              "2        0        0        0  \n",
              "\n",
              "[3 rows x 94 columns]"
            ],
            "text/html": [
              "\n",
              "  <div id=\"df-49922b2a-4275-4505-bd0f-d56c498c910f\">\n",
              "    <div class=\"colab-df-container\">\n",
              "      <div>\n",
              "<style scoped>\n",
              "    .dataframe tbody tr th:only-of-type {\n",
              "        vertical-align: middle;\n",
              "    }\n",
              "\n",
              "    .dataframe tbody tr th {\n",
              "        vertical-align: top;\n",
              "    }\n",
              "\n",
              "    .dataframe thead th {\n",
              "        text-align: right;\n",
              "    }\n",
              "</style>\n",
              "<table border=\"1\" class=\"dataframe\">\n",
              "  <thead>\n",
              "    <tr style=\"text-align: right;\">\n",
              "      <th></th>\n",
              "      <th>id</th>\n",
              "      <th>feat_1</th>\n",
              "      <th>feat_2</th>\n",
              "      <th>feat_3</th>\n",
              "      <th>feat_4</th>\n",
              "      <th>feat_5</th>\n",
              "      <th>feat_6</th>\n",
              "      <th>feat_7</th>\n",
              "      <th>feat_8</th>\n",
              "      <th>feat_9</th>\n",
              "      <th>...</th>\n",
              "      <th>feat_84</th>\n",
              "      <th>feat_85</th>\n",
              "      <th>feat_86</th>\n",
              "      <th>feat_87</th>\n",
              "      <th>feat_88</th>\n",
              "      <th>feat_89</th>\n",
              "      <th>feat_90</th>\n",
              "      <th>feat_91</th>\n",
              "      <th>feat_92</th>\n",
              "      <th>feat_93</th>\n",
              "    </tr>\n",
              "  </thead>\n",
              "  <tbody>\n",
              "    <tr>\n",
              "      <th>0</th>\n",
              "      <td>1</td>\n",
              "      <td>1</td>\n",
              "      <td>0</td>\n",
              "      <td>0</td>\n",
              "      <td>0</td>\n",
              "      <td>0</td>\n",
              "      <td>0</td>\n",
              "      <td>0</td>\n",
              "      <td>0</td>\n",
              "      <td>0</td>\n",
              "      <td>...</td>\n",
              "      <td>0</td>\n",
              "      <td>1</td>\n",
              "      <td>0</td>\n",
              "      <td>0</td>\n",
              "      <td>0</td>\n",
              "      <td>0</td>\n",
              "      <td>0</td>\n",
              "      <td>0</td>\n",
              "      <td>0</td>\n",
              "      <td>0</td>\n",
              "    </tr>\n",
              "    <tr>\n",
              "      <th>1</th>\n",
              "      <td>2</td>\n",
              "      <td>0</td>\n",
              "      <td>0</td>\n",
              "      <td>0</td>\n",
              "      <td>0</td>\n",
              "      <td>0</td>\n",
              "      <td>0</td>\n",
              "      <td>0</td>\n",
              "      <td>1</td>\n",
              "      <td>0</td>\n",
              "      <td>...</td>\n",
              "      <td>0</td>\n",
              "      <td>0</td>\n",
              "      <td>0</td>\n",
              "      <td>0</td>\n",
              "      <td>0</td>\n",
              "      <td>0</td>\n",
              "      <td>0</td>\n",
              "      <td>0</td>\n",
              "      <td>0</td>\n",
              "      <td>0</td>\n",
              "    </tr>\n",
              "    <tr>\n",
              "      <th>2</th>\n",
              "      <td>3</td>\n",
              "      <td>0</td>\n",
              "      <td>0</td>\n",
              "      <td>0</td>\n",
              "      <td>0</td>\n",
              "      <td>0</td>\n",
              "      <td>0</td>\n",
              "      <td>0</td>\n",
              "      <td>1</td>\n",
              "      <td>0</td>\n",
              "      <td>...</td>\n",
              "      <td>0</td>\n",
              "      <td>0</td>\n",
              "      <td>0</td>\n",
              "      <td>0</td>\n",
              "      <td>0</td>\n",
              "      <td>0</td>\n",
              "      <td>0</td>\n",
              "      <td>0</td>\n",
              "      <td>0</td>\n",
              "      <td>0</td>\n",
              "    </tr>\n",
              "  </tbody>\n",
              "</table>\n",
              "<p>3 rows × 94 columns</p>\n",
              "</div>\n",
              "      <button class=\"colab-df-convert\" onclick=\"convertToInteractive('df-49922b2a-4275-4505-bd0f-d56c498c910f')\"\n",
              "              title=\"Convert this dataframe to an interactive table.\"\n",
              "              style=\"display:none;\">\n",
              "        \n",
              "  <svg xmlns=\"http://www.w3.org/2000/svg\" height=\"24px\"viewBox=\"0 0 24 24\"\n",
              "       width=\"24px\">\n",
              "    <path d=\"M0 0h24v24H0V0z\" fill=\"none\"/>\n",
              "    <path d=\"M18.56 5.44l.94 2.06.94-2.06 2.06-.94-2.06-.94-.94-2.06-.94 2.06-2.06.94zm-11 1L8.5 8.5l.94-2.06 2.06-.94-2.06-.94L8.5 2.5l-.94 2.06-2.06.94zm10 10l.94 2.06.94-2.06 2.06-.94-2.06-.94-.94-2.06-.94 2.06-2.06.94z\"/><path d=\"M17.41 7.96l-1.37-1.37c-.4-.4-.92-.59-1.43-.59-.52 0-1.04.2-1.43.59L10.3 9.45l-7.72 7.72c-.78.78-.78 2.05 0 2.83L4 21.41c.39.39.9.59 1.41.59.51 0 1.02-.2 1.41-.59l7.78-7.78 2.81-2.81c.8-.78.8-2.07 0-2.86zM5.41 20L4 18.59l7.72-7.72 1.47 1.35L5.41 20z\"/>\n",
              "  </svg>\n",
              "      </button>\n",
              "      \n",
              "  <style>\n",
              "    .colab-df-container {\n",
              "      display:flex;\n",
              "      flex-wrap:wrap;\n",
              "      gap: 12px;\n",
              "    }\n",
              "\n",
              "    .colab-df-convert {\n",
              "      background-color: #E8F0FE;\n",
              "      border: none;\n",
              "      border-radius: 50%;\n",
              "      cursor: pointer;\n",
              "      display: none;\n",
              "      fill: #1967D2;\n",
              "      height: 32px;\n",
              "      padding: 0 0 0 0;\n",
              "      width: 32px;\n",
              "    }\n",
              "\n",
              "    .colab-df-convert:hover {\n",
              "      background-color: #E2EBFA;\n",
              "      box-shadow: 0px 1px 2px rgba(60, 64, 67, 0.3), 0px 1px 3px 1px rgba(60, 64, 67, 0.15);\n",
              "      fill: #174EA6;\n",
              "    }\n",
              "\n",
              "    [theme=dark] .colab-df-convert {\n",
              "      background-color: #3B4455;\n",
              "      fill: #D2E3FC;\n",
              "    }\n",
              "\n",
              "    [theme=dark] .colab-df-convert:hover {\n",
              "      background-color: #434B5C;\n",
              "      box-shadow: 0px 1px 3px 1px rgba(0, 0, 0, 0.15);\n",
              "      filter: drop-shadow(0px 1px 2px rgba(0, 0, 0, 0.3));\n",
              "      fill: #FFFFFF;\n",
              "    }\n",
              "  </style>\n",
              "\n",
              "      <script>\n",
              "        const buttonEl =\n",
              "          document.querySelector('#df-49922b2a-4275-4505-bd0f-d56c498c910f button.colab-df-convert');\n",
              "        buttonEl.style.display =\n",
              "          google.colab.kernel.accessAllowed ? 'block' : 'none';\n",
              "\n",
              "        async function convertToInteractive(key) {\n",
              "          const element = document.querySelector('#df-49922b2a-4275-4505-bd0f-d56c498c910f');\n",
              "          const dataTable =\n",
              "            await google.colab.kernel.invokeFunction('convertToInteractive',\n",
              "                                                     [key], {});\n",
              "          if (!dataTable) return;\n",
              "\n",
              "          const docLinkHtml = 'Like what you see? Visit the ' +\n",
              "            '<a target=\"_blank\" href=https://colab.research.google.com/notebooks/data_table.ipynb>data table notebook</a>'\n",
              "            + ' to learn more about interactive tables.';\n",
              "          element.innerHTML = '';\n",
              "          dataTable['output_type'] = 'display_data';\n",
              "          await google.colab.output.renderOutput(dataTable, element);\n",
              "          const docLink = document.createElement('div');\n",
              "          docLink.innerHTML = docLinkHtml;\n",
              "          element.appendChild(docLink);\n",
              "        }\n",
              "      </script>\n",
              "    </div>\n",
              "  </div>\n",
              "  "
            ]
          },
          "metadata": {},
          "execution_count": 90
        }
      ]
    },
    {
      "cell_type": "markdown",
      "source": [
        "While removing the label column, the `id` column will also be dropped. Dropping the `id` makes sense because it does not provide any value when predicting. The values in that column just increase with each entry."
      ],
      "metadata": {
        "id": "eC14xLqKKujZ"
      }
    },
    {
      "cell_type": "code",
      "source": [
        "train_features = train_features.drop('id', axis=1)\n",
        "train_features[:3]"
      ],
      "metadata": {
        "colab": {
          "base_uri": "https://localhost:8080/",
          "height": 0
        },
        "id": "M80-NIAWd_MA",
        "outputId": "2ac463b4-f1fd-4623-adad-6b9319ef5aa2"
      },
      "execution_count": 91,
      "outputs": [
        {
          "output_type": "execute_result",
          "data": {
            "text/plain": [
              "   feat_1  feat_2  feat_3  feat_4  feat_5  feat_6  feat_7  feat_8  feat_9  \\\n",
              "0       1       0       0       0       0       0       0       0       0   \n",
              "1       0       0       0       0       0       0       0       1       0   \n",
              "2       0       0       0       0       0       0       0       1       0   \n",
              "\n",
              "   feat_10  ...  feat_84  feat_85  feat_86  feat_87  feat_88  feat_89  \\\n",
              "0        0  ...        0        1        0        0        0        0   \n",
              "1        0  ...        0        0        0        0        0        0   \n",
              "2        0  ...        0        0        0        0        0        0   \n",
              "\n",
              "   feat_90  feat_91  feat_92  feat_93  \n",
              "0        0        0        0        0  \n",
              "1        0        0        0        0  \n",
              "2        0        0        0        0  \n",
              "\n",
              "[3 rows x 93 columns]"
            ],
            "text/html": [
              "\n",
              "  <div id=\"df-d82c4465-8c63-47cd-8c89-35eafa04eca8\">\n",
              "    <div class=\"colab-df-container\">\n",
              "      <div>\n",
              "<style scoped>\n",
              "    .dataframe tbody tr th:only-of-type {\n",
              "        vertical-align: middle;\n",
              "    }\n",
              "\n",
              "    .dataframe tbody tr th {\n",
              "        vertical-align: top;\n",
              "    }\n",
              "\n",
              "    .dataframe thead th {\n",
              "        text-align: right;\n",
              "    }\n",
              "</style>\n",
              "<table border=\"1\" class=\"dataframe\">\n",
              "  <thead>\n",
              "    <tr style=\"text-align: right;\">\n",
              "      <th></th>\n",
              "      <th>feat_1</th>\n",
              "      <th>feat_2</th>\n",
              "      <th>feat_3</th>\n",
              "      <th>feat_4</th>\n",
              "      <th>feat_5</th>\n",
              "      <th>feat_6</th>\n",
              "      <th>feat_7</th>\n",
              "      <th>feat_8</th>\n",
              "      <th>feat_9</th>\n",
              "      <th>feat_10</th>\n",
              "      <th>...</th>\n",
              "      <th>feat_84</th>\n",
              "      <th>feat_85</th>\n",
              "      <th>feat_86</th>\n",
              "      <th>feat_87</th>\n",
              "      <th>feat_88</th>\n",
              "      <th>feat_89</th>\n",
              "      <th>feat_90</th>\n",
              "      <th>feat_91</th>\n",
              "      <th>feat_92</th>\n",
              "      <th>feat_93</th>\n",
              "    </tr>\n",
              "  </thead>\n",
              "  <tbody>\n",
              "    <tr>\n",
              "      <th>0</th>\n",
              "      <td>1</td>\n",
              "      <td>0</td>\n",
              "      <td>0</td>\n",
              "      <td>0</td>\n",
              "      <td>0</td>\n",
              "      <td>0</td>\n",
              "      <td>0</td>\n",
              "      <td>0</td>\n",
              "      <td>0</td>\n",
              "      <td>0</td>\n",
              "      <td>...</td>\n",
              "      <td>0</td>\n",
              "      <td>1</td>\n",
              "      <td>0</td>\n",
              "      <td>0</td>\n",
              "      <td>0</td>\n",
              "      <td>0</td>\n",
              "      <td>0</td>\n",
              "      <td>0</td>\n",
              "      <td>0</td>\n",
              "      <td>0</td>\n",
              "    </tr>\n",
              "    <tr>\n",
              "      <th>1</th>\n",
              "      <td>0</td>\n",
              "      <td>0</td>\n",
              "      <td>0</td>\n",
              "      <td>0</td>\n",
              "      <td>0</td>\n",
              "      <td>0</td>\n",
              "      <td>0</td>\n",
              "      <td>1</td>\n",
              "      <td>0</td>\n",
              "      <td>0</td>\n",
              "      <td>...</td>\n",
              "      <td>0</td>\n",
              "      <td>0</td>\n",
              "      <td>0</td>\n",
              "      <td>0</td>\n",
              "      <td>0</td>\n",
              "      <td>0</td>\n",
              "      <td>0</td>\n",
              "      <td>0</td>\n",
              "      <td>0</td>\n",
              "      <td>0</td>\n",
              "    </tr>\n",
              "    <tr>\n",
              "      <th>2</th>\n",
              "      <td>0</td>\n",
              "      <td>0</td>\n",
              "      <td>0</td>\n",
              "      <td>0</td>\n",
              "      <td>0</td>\n",
              "      <td>0</td>\n",
              "      <td>0</td>\n",
              "      <td>1</td>\n",
              "      <td>0</td>\n",
              "      <td>0</td>\n",
              "      <td>...</td>\n",
              "      <td>0</td>\n",
              "      <td>0</td>\n",
              "      <td>0</td>\n",
              "      <td>0</td>\n",
              "      <td>0</td>\n",
              "      <td>0</td>\n",
              "      <td>0</td>\n",
              "      <td>0</td>\n",
              "      <td>0</td>\n",
              "      <td>0</td>\n",
              "    </tr>\n",
              "  </tbody>\n",
              "</table>\n",
              "<p>3 rows × 93 columns</p>\n",
              "</div>\n",
              "      <button class=\"colab-df-convert\" onclick=\"convertToInteractive('df-d82c4465-8c63-47cd-8c89-35eafa04eca8')\"\n",
              "              title=\"Convert this dataframe to an interactive table.\"\n",
              "              style=\"display:none;\">\n",
              "        \n",
              "  <svg xmlns=\"http://www.w3.org/2000/svg\" height=\"24px\"viewBox=\"0 0 24 24\"\n",
              "       width=\"24px\">\n",
              "    <path d=\"M0 0h24v24H0V0z\" fill=\"none\"/>\n",
              "    <path d=\"M18.56 5.44l.94 2.06.94-2.06 2.06-.94-2.06-.94-.94-2.06-.94 2.06-2.06.94zm-11 1L8.5 8.5l.94-2.06 2.06-.94-2.06-.94L8.5 2.5l-.94 2.06-2.06.94zm10 10l.94 2.06.94-2.06 2.06-.94-2.06-.94-.94-2.06-.94 2.06-2.06.94z\"/><path d=\"M17.41 7.96l-1.37-1.37c-.4-.4-.92-.59-1.43-.59-.52 0-1.04.2-1.43.59L10.3 9.45l-7.72 7.72c-.78.78-.78 2.05 0 2.83L4 21.41c.39.39.9.59 1.41.59.51 0 1.02-.2 1.41-.59l7.78-7.78 2.81-2.81c.8-.78.8-2.07 0-2.86zM5.41 20L4 18.59l7.72-7.72 1.47 1.35L5.41 20z\"/>\n",
              "  </svg>\n",
              "      </button>\n",
              "      \n",
              "  <style>\n",
              "    .colab-df-container {\n",
              "      display:flex;\n",
              "      flex-wrap:wrap;\n",
              "      gap: 12px;\n",
              "    }\n",
              "\n",
              "    .colab-df-convert {\n",
              "      background-color: #E8F0FE;\n",
              "      border: none;\n",
              "      border-radius: 50%;\n",
              "      cursor: pointer;\n",
              "      display: none;\n",
              "      fill: #1967D2;\n",
              "      height: 32px;\n",
              "      padding: 0 0 0 0;\n",
              "      width: 32px;\n",
              "    }\n",
              "\n",
              "    .colab-df-convert:hover {\n",
              "      background-color: #E2EBFA;\n",
              "      box-shadow: 0px 1px 2px rgba(60, 64, 67, 0.3), 0px 1px 3px 1px rgba(60, 64, 67, 0.15);\n",
              "      fill: #174EA6;\n",
              "    }\n",
              "\n",
              "    [theme=dark] .colab-df-convert {\n",
              "      background-color: #3B4455;\n",
              "      fill: #D2E3FC;\n",
              "    }\n",
              "\n",
              "    [theme=dark] .colab-df-convert:hover {\n",
              "      background-color: #434B5C;\n",
              "      box-shadow: 0px 1px 3px 1px rgba(0, 0, 0, 0.15);\n",
              "      filter: drop-shadow(0px 1px 2px rgba(0, 0, 0, 0.3));\n",
              "      fill: #FFFFFF;\n",
              "    }\n",
              "  </style>\n",
              "\n",
              "      <script>\n",
              "        const buttonEl =\n",
              "          document.querySelector('#df-d82c4465-8c63-47cd-8c89-35eafa04eca8 button.colab-df-convert');\n",
              "        buttonEl.style.display =\n",
              "          google.colab.kernel.accessAllowed ? 'block' : 'none';\n",
              "\n",
              "        async function convertToInteractive(key) {\n",
              "          const element = document.querySelector('#df-d82c4465-8c63-47cd-8c89-35eafa04eca8');\n",
              "          const dataTable =\n",
              "            await google.colab.kernel.invokeFunction('convertToInteractive',\n",
              "                                                     [key], {});\n",
              "          if (!dataTable) return;\n",
              "\n",
              "          const docLinkHtml = 'Like what you see? Visit the ' +\n",
              "            '<a target=\"_blank\" href=https://colab.research.google.com/notebooks/data_table.ipynb>data table notebook</a>'\n",
              "            + ' to learn more about interactive tables.';\n",
              "          element.innerHTML = '';\n",
              "          dataTable['output_type'] = 'display_data';\n",
              "          await google.colab.output.renderOutput(dataTable, element);\n",
              "          const docLink = document.createElement('div');\n",
              "          docLink.innerHTML = docLinkHtml;\n",
              "          element.appendChild(docLink);\n",
              "        }\n",
              "      </script>\n",
              "    </div>\n",
              "  </div>\n",
              "  "
            ]
          },
          "metadata": {},
          "execution_count": 91
        }
      ]
    },
    {
      "cell_type": "code",
      "source": [
        "test_features = test.drop('id', axis=1)\n",
        "test_features[:3]"
      ],
      "metadata": {
        "colab": {
          "base_uri": "https://localhost:8080/",
          "height": 0
        },
        "id": "Gooc9_6R8peH",
        "outputId": "11e0b576-f1dd-4fce-877b-d8596261996e"
      },
      "execution_count": 92,
      "outputs": [
        {
          "output_type": "execute_result",
          "data": {
            "text/plain": [
              "   feat_1  feat_2  feat_3  feat_4  feat_5  feat_6  feat_7  feat_8  feat_9  \\\n",
              "0       0       0       0       0       0       0       0       0       0   \n",
              "1       2       2      14      16       0       0       0       0       0   \n",
              "2       0       1      12       1       0       0       0       0       0   \n",
              "\n",
              "   feat_10  ...  feat_84  feat_85  feat_86  feat_87  feat_88  feat_89  \\\n",
              "0        3  ...        0        0       11        1       20        0   \n",
              "1        0  ...        0        0        0        0        0        4   \n",
              "2        0  ...        0        0        0        0        2        0   \n",
              "\n",
              "   feat_90  feat_91  feat_92  feat_93  \n",
              "0        0        0        0        0  \n",
              "1        0        0        2        0  \n",
              "2        0        0        0        1  \n",
              "\n",
              "[3 rows x 93 columns]"
            ],
            "text/html": [
              "\n",
              "  <div id=\"df-8cdabd32-44f2-44d8-b139-c3a9550a122e\">\n",
              "    <div class=\"colab-df-container\">\n",
              "      <div>\n",
              "<style scoped>\n",
              "    .dataframe tbody tr th:only-of-type {\n",
              "        vertical-align: middle;\n",
              "    }\n",
              "\n",
              "    .dataframe tbody tr th {\n",
              "        vertical-align: top;\n",
              "    }\n",
              "\n",
              "    .dataframe thead th {\n",
              "        text-align: right;\n",
              "    }\n",
              "</style>\n",
              "<table border=\"1\" class=\"dataframe\">\n",
              "  <thead>\n",
              "    <tr style=\"text-align: right;\">\n",
              "      <th></th>\n",
              "      <th>feat_1</th>\n",
              "      <th>feat_2</th>\n",
              "      <th>feat_3</th>\n",
              "      <th>feat_4</th>\n",
              "      <th>feat_5</th>\n",
              "      <th>feat_6</th>\n",
              "      <th>feat_7</th>\n",
              "      <th>feat_8</th>\n",
              "      <th>feat_9</th>\n",
              "      <th>feat_10</th>\n",
              "      <th>...</th>\n",
              "      <th>feat_84</th>\n",
              "      <th>feat_85</th>\n",
              "      <th>feat_86</th>\n",
              "      <th>feat_87</th>\n",
              "      <th>feat_88</th>\n",
              "      <th>feat_89</th>\n",
              "      <th>feat_90</th>\n",
              "      <th>feat_91</th>\n",
              "      <th>feat_92</th>\n",
              "      <th>feat_93</th>\n",
              "    </tr>\n",
              "  </thead>\n",
              "  <tbody>\n",
              "    <tr>\n",
              "      <th>0</th>\n",
              "      <td>0</td>\n",
              "      <td>0</td>\n",
              "      <td>0</td>\n",
              "      <td>0</td>\n",
              "      <td>0</td>\n",
              "      <td>0</td>\n",
              "      <td>0</td>\n",
              "      <td>0</td>\n",
              "      <td>0</td>\n",
              "      <td>3</td>\n",
              "      <td>...</td>\n",
              "      <td>0</td>\n",
              "      <td>0</td>\n",
              "      <td>11</td>\n",
              "      <td>1</td>\n",
              "      <td>20</td>\n",
              "      <td>0</td>\n",
              "      <td>0</td>\n",
              "      <td>0</td>\n",
              "      <td>0</td>\n",
              "      <td>0</td>\n",
              "    </tr>\n",
              "    <tr>\n",
              "      <th>1</th>\n",
              "      <td>2</td>\n",
              "      <td>2</td>\n",
              "      <td>14</td>\n",
              "      <td>16</td>\n",
              "      <td>0</td>\n",
              "      <td>0</td>\n",
              "      <td>0</td>\n",
              "      <td>0</td>\n",
              "      <td>0</td>\n",
              "      <td>0</td>\n",
              "      <td>...</td>\n",
              "      <td>0</td>\n",
              "      <td>0</td>\n",
              "      <td>0</td>\n",
              "      <td>0</td>\n",
              "      <td>0</td>\n",
              "      <td>4</td>\n",
              "      <td>0</td>\n",
              "      <td>0</td>\n",
              "      <td>2</td>\n",
              "      <td>0</td>\n",
              "    </tr>\n",
              "    <tr>\n",
              "      <th>2</th>\n",
              "      <td>0</td>\n",
              "      <td>1</td>\n",
              "      <td>12</td>\n",
              "      <td>1</td>\n",
              "      <td>0</td>\n",
              "      <td>0</td>\n",
              "      <td>0</td>\n",
              "      <td>0</td>\n",
              "      <td>0</td>\n",
              "      <td>0</td>\n",
              "      <td>...</td>\n",
              "      <td>0</td>\n",
              "      <td>0</td>\n",
              "      <td>0</td>\n",
              "      <td>0</td>\n",
              "      <td>2</td>\n",
              "      <td>0</td>\n",
              "      <td>0</td>\n",
              "      <td>0</td>\n",
              "      <td>0</td>\n",
              "      <td>1</td>\n",
              "    </tr>\n",
              "  </tbody>\n",
              "</table>\n",
              "<p>3 rows × 93 columns</p>\n",
              "</div>\n",
              "      <button class=\"colab-df-convert\" onclick=\"convertToInteractive('df-8cdabd32-44f2-44d8-b139-c3a9550a122e')\"\n",
              "              title=\"Convert this dataframe to an interactive table.\"\n",
              "              style=\"display:none;\">\n",
              "        \n",
              "  <svg xmlns=\"http://www.w3.org/2000/svg\" height=\"24px\"viewBox=\"0 0 24 24\"\n",
              "       width=\"24px\">\n",
              "    <path d=\"M0 0h24v24H0V0z\" fill=\"none\"/>\n",
              "    <path d=\"M18.56 5.44l.94 2.06.94-2.06 2.06-.94-2.06-.94-.94-2.06-.94 2.06-2.06.94zm-11 1L8.5 8.5l.94-2.06 2.06-.94-2.06-.94L8.5 2.5l-.94 2.06-2.06.94zm10 10l.94 2.06.94-2.06 2.06-.94-2.06-.94-.94-2.06-.94 2.06-2.06.94z\"/><path d=\"M17.41 7.96l-1.37-1.37c-.4-.4-.92-.59-1.43-.59-.52 0-1.04.2-1.43.59L10.3 9.45l-7.72 7.72c-.78.78-.78 2.05 0 2.83L4 21.41c.39.39.9.59 1.41.59.51 0 1.02-.2 1.41-.59l7.78-7.78 2.81-2.81c.8-.78.8-2.07 0-2.86zM5.41 20L4 18.59l7.72-7.72 1.47 1.35L5.41 20z\"/>\n",
              "  </svg>\n",
              "      </button>\n",
              "      \n",
              "  <style>\n",
              "    .colab-df-container {\n",
              "      display:flex;\n",
              "      flex-wrap:wrap;\n",
              "      gap: 12px;\n",
              "    }\n",
              "\n",
              "    .colab-df-convert {\n",
              "      background-color: #E8F0FE;\n",
              "      border: none;\n",
              "      border-radius: 50%;\n",
              "      cursor: pointer;\n",
              "      display: none;\n",
              "      fill: #1967D2;\n",
              "      height: 32px;\n",
              "      padding: 0 0 0 0;\n",
              "      width: 32px;\n",
              "    }\n",
              "\n",
              "    .colab-df-convert:hover {\n",
              "      background-color: #E2EBFA;\n",
              "      box-shadow: 0px 1px 2px rgba(60, 64, 67, 0.3), 0px 1px 3px 1px rgba(60, 64, 67, 0.15);\n",
              "      fill: #174EA6;\n",
              "    }\n",
              "\n",
              "    [theme=dark] .colab-df-convert {\n",
              "      background-color: #3B4455;\n",
              "      fill: #D2E3FC;\n",
              "    }\n",
              "\n",
              "    [theme=dark] .colab-df-convert:hover {\n",
              "      background-color: #434B5C;\n",
              "      box-shadow: 0px 1px 3px 1px rgba(0, 0, 0, 0.15);\n",
              "      filter: drop-shadow(0px 1px 2px rgba(0, 0, 0, 0.3));\n",
              "      fill: #FFFFFF;\n",
              "    }\n",
              "  </style>\n",
              "\n",
              "      <script>\n",
              "        const buttonEl =\n",
              "          document.querySelector('#df-8cdabd32-44f2-44d8-b139-c3a9550a122e button.colab-df-convert');\n",
              "        buttonEl.style.display =\n",
              "          google.colab.kernel.accessAllowed ? 'block' : 'none';\n",
              "\n",
              "        async function convertToInteractive(key) {\n",
              "          const element = document.querySelector('#df-8cdabd32-44f2-44d8-b139-c3a9550a122e');\n",
              "          const dataTable =\n",
              "            await google.colab.kernel.invokeFunction('convertToInteractive',\n",
              "                                                     [key], {});\n",
              "          if (!dataTable) return;\n",
              "\n",
              "          const docLinkHtml = 'Like what you see? Visit the ' +\n",
              "            '<a target=\"_blank\" href=https://colab.research.google.com/notebooks/data_table.ipynb>data table notebook</a>'\n",
              "            + ' to learn more about interactive tables.';\n",
              "          element.innerHTML = '';\n",
              "          dataTable['output_type'] = 'display_data';\n",
              "          await google.colab.output.renderOutput(dataTable, element);\n",
              "          const docLink = document.createElement('div');\n",
              "          docLink.innerHTML = docLinkHtml;\n",
              "          element.appendChild(docLink);\n",
              "        }\n",
              "      </script>\n",
              "    </div>\n",
              "  </div>\n",
              "  "
            ]
          },
          "metadata": {},
          "execution_count": 92
        }
      ]
    },
    {
      "cell_type": "markdown",
      "source": [
        "### Labels\n",
        "\n",
        "Labels are essentially the value a machine learning model should predict. It's effectively the answer. For this dataset, this the label column is `target`. "
      ],
      "metadata": {
        "id": "LNiLqUXTFOU6"
      }
    },
    {
      "cell_type": "code",
      "source": [
        "train_labels = train['target']\n",
        "\n",
        "train_labels[:3]"
      ],
      "metadata": {
        "colab": {
          "base_uri": "https://localhost:8080/"
        },
        "id": "c-d4NXnFFSjr",
        "outputId": "9631b7a7-bfeb-4276-87fe-a39396635451"
      },
      "execution_count": 93,
      "outputs": [
        {
          "output_type": "execute_result",
          "data": {
            "text/plain": [
              "0    Class_1\n",
              "1    Class_1\n",
              "2    Class_1\n",
              "Name: target, dtype: object"
            ]
          },
          "metadata": {},
          "execution_count": 93
        }
      ]
    },
    {
      "cell_type": "markdown",
      "source": [
        "### Encoding\n",
        "\n",
        "Machine learning models (that have been introduced in this class so far) cannot make predictions with features that are `strings`. Fortunately, the features in this dataset are all `ints`. So no encoding is necessary.\n",
        "\n",
        "While the features do not need to be encoded, the labels need encoding for the DNN. This DataFrame will be created now but will not be used until the neural network section."
      ],
      "metadata": {
        "id": "Ee9KalRdRoI3"
      }
    },
    {
      "cell_type": "code",
      "source": [
        "# Get the unique values from the labels dataset.\n",
        "np.unique(train_labels)"
      ],
      "metadata": {
        "colab": {
          "base_uri": "https://localhost:8080/"
        },
        "id": "u33bBS3td51c",
        "outputId": "38e02371-7a2b-4b69-ab9c-4fe1f4a4c330"
      },
      "execution_count": 94,
      "outputs": [
        {
          "output_type": "execute_result",
          "data": {
            "text/plain": [
              "array(['Class_1', 'Class_2', 'Class_3', 'Class_4', 'Class_5', 'Class_6',\n",
              "       'Class_7', 'Class_8', 'Class_9'], dtype=object)"
            ]
          },
          "metadata": {},
          "execution_count": 94
        }
      ]
    },
    {
      "cell_type": "code",
      "source": [
        "# Create the training label set for the DNN.\n",
        "# The train dataset is copied because the replace function doesn't work with a DataFrame that has 1 column.\n",
        "train_labels_cat = train.copy()\n",
        "# The Keras utility `to_categorical` can only transform ints, the values are replaced with their int value.\n",
        "train_labels_cat = train_labels_cat.replace({'target': {'Class_1': 1, 'Class_2': 2, 'Class_3': 3, 'Class_4': 4, 'Class_5': 5, 'Class_6': 6, 'Class_7': 7, 'Class_8': 8, 'Class_9': 9}})\n",
        "train_labels_cat = train_labels_cat['target']\n",
        "train_labels_cat = to_categorical(train_labels_cat)\n",
        "train_labels_cat[:3]"
      ],
      "metadata": {
        "colab": {
          "base_uri": "https://localhost:8080/"
        },
        "id": "UtZF4nNgdBUx",
        "outputId": "d51a9827-28f1-4994-845e-505adb332f4a"
      },
      "execution_count": 95,
      "outputs": [
        {
          "output_type": "execute_result",
          "data": {
            "text/plain": [
              "array([[0., 1., 0., 0., 0., 0., 0., 0., 0., 0.],\n",
              "       [0., 1., 0., 0., 0., 0., 0., 0., 0., 0.],\n",
              "       [0., 1., 0., 0., 0., 0., 0., 0., 0., 0.]], dtype=float32)"
            ]
          },
          "metadata": {},
          "execution_count": 95
        }
      ]
    },
    {
      "cell_type": "markdown",
      "source": [
        "### Normalizing\n",
        "\n",
        "The values in the features columns range a decent amount, from `0` to `87` in some cases. Therefore, the feature values should be normalized. This is also a needed step because DNN's like the data to be normalized because it will help to stablize the gradient descent step."
      ],
      "metadata": {
        "id": "lF2OfEVr3EVS"
      }
    },
    {
      "cell_type": "code",
      "source": [
        "normalized_train_features = (train_features - train_features.min()) / (train_features.max() - train_features.min())\n",
        "normalized_train_features.describe(include=\"all\")"
      ],
      "metadata": {
        "colab": {
          "base_uri": "https://localhost:8080/",
          "height": 0
        },
        "id": "Pko-OHZ36FgZ",
        "outputId": "f070b167-854e-49f5-b7ac-720f2370dcb8"
      },
      "execution_count": 96,
      "outputs": [
        {
          "output_type": "execute_result",
          "data": {
            "text/plain": [
              "             feat_1        feat_2        feat_3        feat_4        feat_5  \\\n",
              "count  61878.000000  61878.000000  61878.000000  61878.000000  61878.000000   \n",
              "mean       0.006339      0.005158      0.014085      0.011130      0.003739   \n",
              "std        0.025005      0.024550      0.045857      0.039829      0.023100   \n",
              "min        0.000000      0.000000      0.000000      0.000000      0.000000   \n",
              "25%        0.000000      0.000000      0.000000      0.000000      0.000000   \n",
              "50%        0.000000      0.000000      0.000000      0.000000      0.000000   \n",
              "75%        0.000000      0.000000      0.000000      0.000000      0.000000   \n",
              "max        1.000000      1.000000      1.000000      1.000000      1.000000   \n",
              "\n",
              "             feat_6        feat_7        feat_8        feat_9       feat_10  \\\n",
              "count  61878.000000  61878.000000  61878.000000  61878.000000  61878.000000   \n",
              "mean       0.002570      0.005097      0.008716      0.023519      0.008797   \n",
              "std        0.021533      0.027108      0.029681      0.080810      0.036111   \n",
              "min        0.000000      0.000000      0.000000      0.000000      0.000000   \n",
              "25%        0.000000      0.000000      0.000000      0.000000      0.000000   \n",
              "50%        0.000000      0.000000      0.000000      0.000000      0.000000   \n",
              "75%        0.000000      0.000000      0.013158      0.000000      0.000000   \n",
              "max        1.000000      1.000000      1.000000      1.000000      1.000000   \n",
              "\n",
              "       ...       feat_84       feat_85       feat_86       feat_87  \\\n",
              "count  ...  61878.000000  61878.000000  61878.000000  61878.000000   \n",
              "mean   ...      0.000931      0.009678      0.017363      0.005874   \n",
              "std    ...      0.015151      0.034553      0.041255      0.023514   \n",
              "min    ...      0.000000      0.000000      0.000000      0.000000   \n",
              "25%    ...      0.000000      0.000000      0.000000      0.000000   \n",
              "50%    ...      0.000000      0.000000      0.000000      0.000000   \n",
              "75%    ...      0.000000      0.000000      0.015385      0.000000   \n",
              "max    ...      1.000000      1.000000      1.000000      1.000000   \n",
              "\n",
              "            feat_88       feat_89       feat_90       feat_91       feat_92  \\\n",
              "count  61878.000000  61878.000000  61878.000000  61878.000000  61878.000000   \n",
              "mean       0.029164      0.007504      0.006249      0.005095      0.020006   \n",
              "std        0.070516      0.025039      0.035368      0.039339      0.051704   \n",
              "min        0.000000      0.000000      0.000000      0.000000      0.000000   \n",
              "25%        0.000000      0.000000      0.000000      0.000000      0.000000   \n",
              "50%        0.000000      0.000000      0.000000      0.000000      0.000000   \n",
              "75%        0.033333      0.000000      0.000000      0.000000      0.000000   \n",
              "max        1.000000      1.000000      1.000000      1.000000      1.000000   \n",
              "\n",
              "            feat_93  \n",
              "count  61878.000000  \n",
              "mean       0.001450  \n",
              "std        0.013813  \n",
              "min        0.000000  \n",
              "25%        0.000000  \n",
              "50%        0.000000  \n",
              "75%        0.000000  \n",
              "max        1.000000  \n",
              "\n",
              "[8 rows x 93 columns]"
            ],
            "text/html": [
              "\n",
              "  <div id=\"df-9d4d0479-1e3f-4e22-9f07-e99fa6b1f224\">\n",
              "    <div class=\"colab-df-container\">\n",
              "      <div>\n",
              "<style scoped>\n",
              "    .dataframe tbody tr th:only-of-type {\n",
              "        vertical-align: middle;\n",
              "    }\n",
              "\n",
              "    .dataframe tbody tr th {\n",
              "        vertical-align: top;\n",
              "    }\n",
              "\n",
              "    .dataframe thead th {\n",
              "        text-align: right;\n",
              "    }\n",
              "</style>\n",
              "<table border=\"1\" class=\"dataframe\">\n",
              "  <thead>\n",
              "    <tr style=\"text-align: right;\">\n",
              "      <th></th>\n",
              "      <th>feat_1</th>\n",
              "      <th>feat_2</th>\n",
              "      <th>feat_3</th>\n",
              "      <th>feat_4</th>\n",
              "      <th>feat_5</th>\n",
              "      <th>feat_6</th>\n",
              "      <th>feat_7</th>\n",
              "      <th>feat_8</th>\n",
              "      <th>feat_9</th>\n",
              "      <th>feat_10</th>\n",
              "      <th>...</th>\n",
              "      <th>feat_84</th>\n",
              "      <th>feat_85</th>\n",
              "      <th>feat_86</th>\n",
              "      <th>feat_87</th>\n",
              "      <th>feat_88</th>\n",
              "      <th>feat_89</th>\n",
              "      <th>feat_90</th>\n",
              "      <th>feat_91</th>\n",
              "      <th>feat_92</th>\n",
              "      <th>feat_93</th>\n",
              "    </tr>\n",
              "  </thead>\n",
              "  <tbody>\n",
              "    <tr>\n",
              "      <th>count</th>\n",
              "      <td>61878.000000</td>\n",
              "      <td>61878.000000</td>\n",
              "      <td>61878.000000</td>\n",
              "      <td>61878.000000</td>\n",
              "      <td>61878.000000</td>\n",
              "      <td>61878.000000</td>\n",
              "      <td>61878.000000</td>\n",
              "      <td>61878.000000</td>\n",
              "      <td>61878.000000</td>\n",
              "      <td>61878.000000</td>\n",
              "      <td>...</td>\n",
              "      <td>61878.000000</td>\n",
              "      <td>61878.000000</td>\n",
              "      <td>61878.000000</td>\n",
              "      <td>61878.000000</td>\n",
              "      <td>61878.000000</td>\n",
              "      <td>61878.000000</td>\n",
              "      <td>61878.000000</td>\n",
              "      <td>61878.000000</td>\n",
              "      <td>61878.000000</td>\n",
              "      <td>61878.000000</td>\n",
              "    </tr>\n",
              "    <tr>\n",
              "      <th>mean</th>\n",
              "      <td>0.006339</td>\n",
              "      <td>0.005158</td>\n",
              "      <td>0.014085</td>\n",
              "      <td>0.011130</td>\n",
              "      <td>0.003739</td>\n",
              "      <td>0.002570</td>\n",
              "      <td>0.005097</td>\n",
              "      <td>0.008716</td>\n",
              "      <td>0.023519</td>\n",
              "      <td>0.008797</td>\n",
              "      <td>...</td>\n",
              "      <td>0.000931</td>\n",
              "      <td>0.009678</td>\n",
              "      <td>0.017363</td>\n",
              "      <td>0.005874</td>\n",
              "      <td>0.029164</td>\n",
              "      <td>0.007504</td>\n",
              "      <td>0.006249</td>\n",
              "      <td>0.005095</td>\n",
              "      <td>0.020006</td>\n",
              "      <td>0.001450</td>\n",
              "    </tr>\n",
              "    <tr>\n",
              "      <th>std</th>\n",
              "      <td>0.025005</td>\n",
              "      <td>0.024550</td>\n",
              "      <td>0.045857</td>\n",
              "      <td>0.039829</td>\n",
              "      <td>0.023100</td>\n",
              "      <td>0.021533</td>\n",
              "      <td>0.027108</td>\n",
              "      <td>0.029681</td>\n",
              "      <td>0.080810</td>\n",
              "      <td>0.036111</td>\n",
              "      <td>...</td>\n",
              "      <td>0.015151</td>\n",
              "      <td>0.034553</td>\n",
              "      <td>0.041255</td>\n",
              "      <td>0.023514</td>\n",
              "      <td>0.070516</td>\n",
              "      <td>0.025039</td>\n",
              "      <td>0.035368</td>\n",
              "      <td>0.039339</td>\n",
              "      <td>0.051704</td>\n",
              "      <td>0.013813</td>\n",
              "    </tr>\n",
              "    <tr>\n",
              "      <th>min</th>\n",
              "      <td>0.000000</td>\n",
              "      <td>0.000000</td>\n",
              "      <td>0.000000</td>\n",
              "      <td>0.000000</td>\n",
              "      <td>0.000000</td>\n",
              "      <td>0.000000</td>\n",
              "      <td>0.000000</td>\n",
              "      <td>0.000000</td>\n",
              "      <td>0.000000</td>\n",
              "      <td>0.000000</td>\n",
              "      <td>...</td>\n",
              "      <td>0.000000</td>\n",
              "      <td>0.000000</td>\n",
              "      <td>0.000000</td>\n",
              "      <td>0.000000</td>\n",
              "      <td>0.000000</td>\n",
              "      <td>0.000000</td>\n",
              "      <td>0.000000</td>\n",
              "      <td>0.000000</td>\n",
              "      <td>0.000000</td>\n",
              "      <td>0.000000</td>\n",
              "    </tr>\n",
              "    <tr>\n",
              "      <th>25%</th>\n",
              "      <td>0.000000</td>\n",
              "      <td>0.000000</td>\n",
              "      <td>0.000000</td>\n",
              "      <td>0.000000</td>\n",
              "      <td>0.000000</td>\n",
              "      <td>0.000000</td>\n",
              "      <td>0.000000</td>\n",
              "      <td>0.000000</td>\n",
              "      <td>0.000000</td>\n",
              "      <td>0.000000</td>\n",
              "      <td>...</td>\n",
              "      <td>0.000000</td>\n",
              "      <td>0.000000</td>\n",
              "      <td>0.000000</td>\n",
              "      <td>0.000000</td>\n",
              "      <td>0.000000</td>\n",
              "      <td>0.000000</td>\n",
              "      <td>0.000000</td>\n",
              "      <td>0.000000</td>\n",
              "      <td>0.000000</td>\n",
              "      <td>0.000000</td>\n",
              "    </tr>\n",
              "    <tr>\n",
              "      <th>50%</th>\n",
              "      <td>0.000000</td>\n",
              "      <td>0.000000</td>\n",
              "      <td>0.000000</td>\n",
              "      <td>0.000000</td>\n",
              "      <td>0.000000</td>\n",
              "      <td>0.000000</td>\n",
              "      <td>0.000000</td>\n",
              "      <td>0.000000</td>\n",
              "      <td>0.000000</td>\n",
              "      <td>0.000000</td>\n",
              "      <td>...</td>\n",
              "      <td>0.000000</td>\n",
              "      <td>0.000000</td>\n",
              "      <td>0.000000</td>\n",
              "      <td>0.000000</td>\n",
              "      <td>0.000000</td>\n",
              "      <td>0.000000</td>\n",
              "      <td>0.000000</td>\n",
              "      <td>0.000000</td>\n",
              "      <td>0.000000</td>\n",
              "      <td>0.000000</td>\n",
              "    </tr>\n",
              "    <tr>\n",
              "      <th>75%</th>\n",
              "      <td>0.000000</td>\n",
              "      <td>0.000000</td>\n",
              "      <td>0.000000</td>\n",
              "      <td>0.000000</td>\n",
              "      <td>0.000000</td>\n",
              "      <td>0.000000</td>\n",
              "      <td>0.000000</td>\n",
              "      <td>0.013158</td>\n",
              "      <td>0.000000</td>\n",
              "      <td>0.000000</td>\n",
              "      <td>...</td>\n",
              "      <td>0.000000</td>\n",
              "      <td>0.000000</td>\n",
              "      <td>0.015385</td>\n",
              "      <td>0.000000</td>\n",
              "      <td>0.033333</td>\n",
              "      <td>0.000000</td>\n",
              "      <td>0.000000</td>\n",
              "      <td>0.000000</td>\n",
              "      <td>0.000000</td>\n",
              "      <td>0.000000</td>\n",
              "    </tr>\n",
              "    <tr>\n",
              "      <th>max</th>\n",
              "      <td>1.000000</td>\n",
              "      <td>1.000000</td>\n",
              "      <td>1.000000</td>\n",
              "      <td>1.000000</td>\n",
              "      <td>1.000000</td>\n",
              "      <td>1.000000</td>\n",
              "      <td>1.000000</td>\n",
              "      <td>1.000000</td>\n",
              "      <td>1.000000</td>\n",
              "      <td>1.000000</td>\n",
              "      <td>...</td>\n",
              "      <td>1.000000</td>\n",
              "      <td>1.000000</td>\n",
              "      <td>1.000000</td>\n",
              "      <td>1.000000</td>\n",
              "      <td>1.000000</td>\n",
              "      <td>1.000000</td>\n",
              "      <td>1.000000</td>\n",
              "      <td>1.000000</td>\n",
              "      <td>1.000000</td>\n",
              "      <td>1.000000</td>\n",
              "    </tr>\n",
              "  </tbody>\n",
              "</table>\n",
              "<p>8 rows × 93 columns</p>\n",
              "</div>\n",
              "      <button class=\"colab-df-convert\" onclick=\"convertToInteractive('df-9d4d0479-1e3f-4e22-9f07-e99fa6b1f224')\"\n",
              "              title=\"Convert this dataframe to an interactive table.\"\n",
              "              style=\"display:none;\">\n",
              "        \n",
              "  <svg xmlns=\"http://www.w3.org/2000/svg\" height=\"24px\"viewBox=\"0 0 24 24\"\n",
              "       width=\"24px\">\n",
              "    <path d=\"M0 0h24v24H0V0z\" fill=\"none\"/>\n",
              "    <path d=\"M18.56 5.44l.94 2.06.94-2.06 2.06-.94-2.06-.94-.94-2.06-.94 2.06-2.06.94zm-11 1L8.5 8.5l.94-2.06 2.06-.94-2.06-.94L8.5 2.5l-.94 2.06-2.06.94zm10 10l.94 2.06.94-2.06 2.06-.94-2.06-.94-.94-2.06-.94 2.06-2.06.94z\"/><path d=\"M17.41 7.96l-1.37-1.37c-.4-.4-.92-.59-1.43-.59-.52 0-1.04.2-1.43.59L10.3 9.45l-7.72 7.72c-.78.78-.78 2.05 0 2.83L4 21.41c.39.39.9.59 1.41.59.51 0 1.02-.2 1.41-.59l7.78-7.78 2.81-2.81c.8-.78.8-2.07 0-2.86zM5.41 20L4 18.59l7.72-7.72 1.47 1.35L5.41 20z\"/>\n",
              "  </svg>\n",
              "      </button>\n",
              "      \n",
              "  <style>\n",
              "    .colab-df-container {\n",
              "      display:flex;\n",
              "      flex-wrap:wrap;\n",
              "      gap: 12px;\n",
              "    }\n",
              "\n",
              "    .colab-df-convert {\n",
              "      background-color: #E8F0FE;\n",
              "      border: none;\n",
              "      border-radius: 50%;\n",
              "      cursor: pointer;\n",
              "      display: none;\n",
              "      fill: #1967D2;\n",
              "      height: 32px;\n",
              "      padding: 0 0 0 0;\n",
              "      width: 32px;\n",
              "    }\n",
              "\n",
              "    .colab-df-convert:hover {\n",
              "      background-color: #E2EBFA;\n",
              "      box-shadow: 0px 1px 2px rgba(60, 64, 67, 0.3), 0px 1px 3px 1px rgba(60, 64, 67, 0.15);\n",
              "      fill: #174EA6;\n",
              "    }\n",
              "\n",
              "    [theme=dark] .colab-df-convert {\n",
              "      background-color: #3B4455;\n",
              "      fill: #D2E3FC;\n",
              "    }\n",
              "\n",
              "    [theme=dark] .colab-df-convert:hover {\n",
              "      background-color: #434B5C;\n",
              "      box-shadow: 0px 1px 3px 1px rgba(0, 0, 0, 0.15);\n",
              "      filter: drop-shadow(0px 1px 2px rgba(0, 0, 0, 0.3));\n",
              "      fill: #FFFFFF;\n",
              "    }\n",
              "  </style>\n",
              "\n",
              "      <script>\n",
              "        const buttonEl =\n",
              "          document.querySelector('#df-9d4d0479-1e3f-4e22-9f07-e99fa6b1f224 button.colab-df-convert');\n",
              "        buttonEl.style.display =\n",
              "          google.colab.kernel.accessAllowed ? 'block' : 'none';\n",
              "\n",
              "        async function convertToInteractive(key) {\n",
              "          const element = document.querySelector('#df-9d4d0479-1e3f-4e22-9f07-e99fa6b1f224');\n",
              "          const dataTable =\n",
              "            await google.colab.kernel.invokeFunction('convertToInteractive',\n",
              "                                                     [key], {});\n",
              "          if (!dataTable) return;\n",
              "\n",
              "          const docLinkHtml = 'Like what you see? Visit the ' +\n",
              "            '<a target=\"_blank\" href=https://colab.research.google.com/notebooks/data_table.ipynb>data table notebook</a>'\n",
              "            + ' to learn more about interactive tables.';\n",
              "          element.innerHTML = '';\n",
              "          dataTable['output_type'] = 'display_data';\n",
              "          await google.colab.output.renderOutput(dataTable, element);\n",
              "          const docLink = document.createElement('div');\n",
              "          docLink.innerHTML = docLinkHtml;\n",
              "          element.appendChild(docLink);\n",
              "        }\n",
              "      </script>\n",
              "    </div>\n",
              "  </div>\n",
              "  "
            ]
          },
          "metadata": {},
          "execution_count": 96
        }
      ]
    },
    {
      "cell_type": "code",
      "source": [
        "normalized_test_features = (test_features - test_features.min()) / (test_features.max() - test_features.min())\n",
        "normalized_test_features.describe(include=\"all\")"
      ],
      "metadata": {
        "colab": {
          "base_uri": "https://localhost:8080/",
          "height": 0
        },
        "id": "0ZpR49Fg8w47",
        "outputId": "a4b2eaec-d501-4de6-a331-534ca65d4324"
      },
      "execution_count": 97,
      "outputs": [
        {
          "output_type": "execute_result",
          "data": {
            "text/plain": [
              "              feat_1         feat_2         feat_3         feat_4  \\\n",
              "count  144368.000000  144368.000000  144368.000000  144368.000000   \n",
              "mean        0.006034       0.005858       0.010712       0.009521   \n",
              "std         0.022951       0.028042       0.035108       0.034710   \n",
              "min         0.000000       0.000000       0.000000       0.000000   \n",
              "25%         0.000000       0.000000       0.000000       0.000000   \n",
              "50%         0.000000       0.000000       0.000000       0.000000   \n",
              "75%         0.000000       0.000000       0.000000       0.000000   \n",
              "max         1.000000       1.000000       1.000000       1.000000   \n",
              "\n",
              "              feat_5         feat_6         feat_7         feat_8  \\\n",
              "count  144368.000000  144368.000000  144368.000000  144368.000000   \n",
              "mean        0.005107       0.002404       0.004549       0.006674   \n",
              "std         0.030612       0.020759       0.024301       0.022868   \n",
              "min         0.000000       0.000000       0.000000       0.000000   \n",
              "25%         0.000000       0.000000       0.000000       0.000000   \n",
              "50%         0.000000       0.000000       0.000000       0.000000   \n",
              "75%         0.000000       0.000000       0.000000       0.010000   \n",
              "max         1.000000       1.000000       1.000000       1.000000   \n",
              "\n",
              "              feat_9        feat_10  ...        feat_84        feat_85  \\\n",
              "count  144368.000000  144368.000000  ...  144368.000000  144368.000000   \n",
              "mean        0.022027       0.004556  ...       0.000568       0.009616   \n",
              "std         0.075503       0.020125  ...       0.009762       0.034038   \n",
              "min         0.000000       0.000000  ...       0.000000       0.000000   \n",
              "25%         0.000000       0.000000  ...       0.000000       0.000000   \n",
              "50%         0.000000       0.000000  ...       0.000000       0.000000   \n",
              "75%         0.000000       0.000000  ...       0.000000       0.000000   \n",
              "max         1.000000       1.000000  ...       1.000000       1.000000   \n",
              "\n",
              "             feat_86        feat_87        feat_88        feat_89  \\\n",
              "count  144368.000000  144368.000000  144368.000000  144368.000000   \n",
              "mean        0.015463       0.007505       0.023663       0.007634   \n",
              "std         0.036747       0.030214       0.056494       0.026094   \n",
              "min         0.000000       0.000000       0.000000       0.000000   \n",
              "25%         0.000000       0.000000       0.000000       0.000000   \n",
              "50%         0.000000       0.000000       0.000000       0.000000   \n",
              "75%         0.013699       0.000000       0.027027       0.000000   \n",
              "max         1.000000       1.000000       1.000000       1.000000   \n",
              "\n",
              "             feat_90        feat_91        feat_92        feat_93  \n",
              "count  144368.000000  144368.000000  144368.000000  144368.000000  \n",
              "mean        0.006840       0.003664       0.017652       0.001458  \n",
              "std         0.038686       0.028022       0.045770       0.014315  \n",
              "min         0.000000       0.000000       0.000000       0.000000  \n",
              "25%         0.000000       0.000000       0.000000       0.000000  \n",
              "50%         0.000000       0.000000       0.000000       0.000000  \n",
              "75%         0.000000       0.000000       0.000000       0.000000  \n",
              "max         1.000000       1.000000       1.000000       1.000000  \n",
              "\n",
              "[8 rows x 93 columns]"
            ],
            "text/html": [
              "\n",
              "  <div id=\"df-df6ee261-8515-4d24-bca9-4fa1b0d98b0d\">\n",
              "    <div class=\"colab-df-container\">\n",
              "      <div>\n",
              "<style scoped>\n",
              "    .dataframe tbody tr th:only-of-type {\n",
              "        vertical-align: middle;\n",
              "    }\n",
              "\n",
              "    .dataframe tbody tr th {\n",
              "        vertical-align: top;\n",
              "    }\n",
              "\n",
              "    .dataframe thead th {\n",
              "        text-align: right;\n",
              "    }\n",
              "</style>\n",
              "<table border=\"1\" class=\"dataframe\">\n",
              "  <thead>\n",
              "    <tr style=\"text-align: right;\">\n",
              "      <th></th>\n",
              "      <th>feat_1</th>\n",
              "      <th>feat_2</th>\n",
              "      <th>feat_3</th>\n",
              "      <th>feat_4</th>\n",
              "      <th>feat_5</th>\n",
              "      <th>feat_6</th>\n",
              "      <th>feat_7</th>\n",
              "      <th>feat_8</th>\n",
              "      <th>feat_9</th>\n",
              "      <th>feat_10</th>\n",
              "      <th>...</th>\n",
              "      <th>feat_84</th>\n",
              "      <th>feat_85</th>\n",
              "      <th>feat_86</th>\n",
              "      <th>feat_87</th>\n",
              "      <th>feat_88</th>\n",
              "      <th>feat_89</th>\n",
              "      <th>feat_90</th>\n",
              "      <th>feat_91</th>\n",
              "      <th>feat_92</th>\n",
              "      <th>feat_93</th>\n",
              "    </tr>\n",
              "  </thead>\n",
              "  <tbody>\n",
              "    <tr>\n",
              "      <th>count</th>\n",
              "      <td>144368.000000</td>\n",
              "      <td>144368.000000</td>\n",
              "      <td>144368.000000</td>\n",
              "      <td>144368.000000</td>\n",
              "      <td>144368.000000</td>\n",
              "      <td>144368.000000</td>\n",
              "      <td>144368.000000</td>\n",
              "      <td>144368.000000</td>\n",
              "      <td>144368.000000</td>\n",
              "      <td>144368.000000</td>\n",
              "      <td>...</td>\n",
              "      <td>144368.000000</td>\n",
              "      <td>144368.000000</td>\n",
              "      <td>144368.000000</td>\n",
              "      <td>144368.000000</td>\n",
              "      <td>144368.000000</td>\n",
              "      <td>144368.000000</td>\n",
              "      <td>144368.000000</td>\n",
              "      <td>144368.000000</td>\n",
              "      <td>144368.000000</td>\n",
              "      <td>144368.000000</td>\n",
              "    </tr>\n",
              "    <tr>\n",
              "      <th>mean</th>\n",
              "      <td>0.006034</td>\n",
              "      <td>0.005858</td>\n",
              "      <td>0.010712</td>\n",
              "      <td>0.009521</td>\n",
              "      <td>0.005107</td>\n",
              "      <td>0.002404</td>\n",
              "      <td>0.004549</td>\n",
              "      <td>0.006674</td>\n",
              "      <td>0.022027</td>\n",
              "      <td>0.004556</td>\n",
              "      <td>...</td>\n",
              "      <td>0.000568</td>\n",
              "      <td>0.009616</td>\n",
              "      <td>0.015463</td>\n",
              "      <td>0.007505</td>\n",
              "      <td>0.023663</td>\n",
              "      <td>0.007634</td>\n",
              "      <td>0.006840</td>\n",
              "      <td>0.003664</td>\n",
              "      <td>0.017652</td>\n",
              "      <td>0.001458</td>\n",
              "    </tr>\n",
              "    <tr>\n",
              "      <th>std</th>\n",
              "      <td>0.022951</td>\n",
              "      <td>0.028042</td>\n",
              "      <td>0.035108</td>\n",
              "      <td>0.034710</td>\n",
              "      <td>0.030612</td>\n",
              "      <td>0.020759</td>\n",
              "      <td>0.024301</td>\n",
              "      <td>0.022868</td>\n",
              "      <td>0.075503</td>\n",
              "      <td>0.020125</td>\n",
              "      <td>...</td>\n",
              "      <td>0.009762</td>\n",
              "      <td>0.034038</td>\n",
              "      <td>0.036747</td>\n",
              "      <td>0.030214</td>\n",
              "      <td>0.056494</td>\n",
              "      <td>0.026094</td>\n",
              "      <td>0.038686</td>\n",
              "      <td>0.028022</td>\n",
              "      <td>0.045770</td>\n",
              "      <td>0.014315</td>\n",
              "    </tr>\n",
              "    <tr>\n",
              "      <th>min</th>\n",
              "      <td>0.000000</td>\n",
              "      <td>0.000000</td>\n",
              "      <td>0.000000</td>\n",
              "      <td>0.000000</td>\n",
              "      <td>0.000000</td>\n",
              "      <td>0.000000</td>\n",
              "      <td>0.000000</td>\n",
              "      <td>0.000000</td>\n",
              "      <td>0.000000</td>\n",
              "      <td>0.000000</td>\n",
              "      <td>...</td>\n",
              "      <td>0.000000</td>\n",
              "      <td>0.000000</td>\n",
              "      <td>0.000000</td>\n",
              "      <td>0.000000</td>\n",
              "      <td>0.000000</td>\n",
              "      <td>0.000000</td>\n",
              "      <td>0.000000</td>\n",
              "      <td>0.000000</td>\n",
              "      <td>0.000000</td>\n",
              "      <td>0.000000</td>\n",
              "    </tr>\n",
              "    <tr>\n",
              "      <th>25%</th>\n",
              "      <td>0.000000</td>\n",
              "      <td>0.000000</td>\n",
              "      <td>0.000000</td>\n",
              "      <td>0.000000</td>\n",
              "      <td>0.000000</td>\n",
              "      <td>0.000000</td>\n",
              "      <td>0.000000</td>\n",
              "      <td>0.000000</td>\n",
              "      <td>0.000000</td>\n",
              "      <td>0.000000</td>\n",
              "      <td>...</td>\n",
              "      <td>0.000000</td>\n",
              "      <td>0.000000</td>\n",
              "      <td>0.000000</td>\n",
              "      <td>0.000000</td>\n",
              "      <td>0.000000</td>\n",
              "      <td>0.000000</td>\n",
              "      <td>0.000000</td>\n",
              "      <td>0.000000</td>\n",
              "      <td>0.000000</td>\n",
              "      <td>0.000000</td>\n",
              "    </tr>\n",
              "    <tr>\n",
              "      <th>50%</th>\n",
              "      <td>0.000000</td>\n",
              "      <td>0.000000</td>\n",
              "      <td>0.000000</td>\n",
              "      <td>0.000000</td>\n",
              "      <td>0.000000</td>\n",
              "      <td>0.000000</td>\n",
              "      <td>0.000000</td>\n",
              "      <td>0.000000</td>\n",
              "      <td>0.000000</td>\n",
              "      <td>0.000000</td>\n",
              "      <td>...</td>\n",
              "      <td>0.000000</td>\n",
              "      <td>0.000000</td>\n",
              "      <td>0.000000</td>\n",
              "      <td>0.000000</td>\n",
              "      <td>0.000000</td>\n",
              "      <td>0.000000</td>\n",
              "      <td>0.000000</td>\n",
              "      <td>0.000000</td>\n",
              "      <td>0.000000</td>\n",
              "      <td>0.000000</td>\n",
              "    </tr>\n",
              "    <tr>\n",
              "      <th>75%</th>\n",
              "      <td>0.000000</td>\n",
              "      <td>0.000000</td>\n",
              "      <td>0.000000</td>\n",
              "      <td>0.000000</td>\n",
              "      <td>0.000000</td>\n",
              "      <td>0.000000</td>\n",
              "      <td>0.000000</td>\n",
              "      <td>0.010000</td>\n",
              "      <td>0.000000</td>\n",
              "      <td>0.000000</td>\n",
              "      <td>...</td>\n",
              "      <td>0.000000</td>\n",
              "      <td>0.000000</td>\n",
              "      <td>0.013699</td>\n",
              "      <td>0.000000</td>\n",
              "      <td>0.027027</td>\n",
              "      <td>0.000000</td>\n",
              "      <td>0.000000</td>\n",
              "      <td>0.000000</td>\n",
              "      <td>0.000000</td>\n",
              "      <td>0.000000</td>\n",
              "    </tr>\n",
              "    <tr>\n",
              "      <th>max</th>\n",
              "      <td>1.000000</td>\n",
              "      <td>1.000000</td>\n",
              "      <td>1.000000</td>\n",
              "      <td>1.000000</td>\n",
              "      <td>1.000000</td>\n",
              "      <td>1.000000</td>\n",
              "      <td>1.000000</td>\n",
              "      <td>1.000000</td>\n",
              "      <td>1.000000</td>\n",
              "      <td>1.000000</td>\n",
              "      <td>...</td>\n",
              "      <td>1.000000</td>\n",
              "      <td>1.000000</td>\n",
              "      <td>1.000000</td>\n",
              "      <td>1.000000</td>\n",
              "      <td>1.000000</td>\n",
              "      <td>1.000000</td>\n",
              "      <td>1.000000</td>\n",
              "      <td>1.000000</td>\n",
              "      <td>1.000000</td>\n",
              "      <td>1.000000</td>\n",
              "    </tr>\n",
              "  </tbody>\n",
              "</table>\n",
              "<p>8 rows × 93 columns</p>\n",
              "</div>\n",
              "      <button class=\"colab-df-convert\" onclick=\"convertToInteractive('df-df6ee261-8515-4d24-bca9-4fa1b0d98b0d')\"\n",
              "              title=\"Convert this dataframe to an interactive table.\"\n",
              "              style=\"display:none;\">\n",
              "        \n",
              "  <svg xmlns=\"http://www.w3.org/2000/svg\" height=\"24px\"viewBox=\"0 0 24 24\"\n",
              "       width=\"24px\">\n",
              "    <path d=\"M0 0h24v24H0V0z\" fill=\"none\"/>\n",
              "    <path d=\"M18.56 5.44l.94 2.06.94-2.06 2.06-.94-2.06-.94-.94-2.06-.94 2.06-2.06.94zm-11 1L8.5 8.5l.94-2.06 2.06-.94-2.06-.94L8.5 2.5l-.94 2.06-2.06.94zm10 10l.94 2.06.94-2.06 2.06-.94-2.06-.94-.94-2.06-.94 2.06-2.06.94z\"/><path d=\"M17.41 7.96l-1.37-1.37c-.4-.4-.92-.59-1.43-.59-.52 0-1.04.2-1.43.59L10.3 9.45l-7.72 7.72c-.78.78-.78 2.05 0 2.83L4 21.41c.39.39.9.59 1.41.59.51 0 1.02-.2 1.41-.59l7.78-7.78 2.81-2.81c.8-.78.8-2.07 0-2.86zM5.41 20L4 18.59l7.72-7.72 1.47 1.35L5.41 20z\"/>\n",
              "  </svg>\n",
              "      </button>\n",
              "      \n",
              "  <style>\n",
              "    .colab-df-container {\n",
              "      display:flex;\n",
              "      flex-wrap:wrap;\n",
              "      gap: 12px;\n",
              "    }\n",
              "\n",
              "    .colab-df-convert {\n",
              "      background-color: #E8F0FE;\n",
              "      border: none;\n",
              "      border-radius: 50%;\n",
              "      cursor: pointer;\n",
              "      display: none;\n",
              "      fill: #1967D2;\n",
              "      height: 32px;\n",
              "      padding: 0 0 0 0;\n",
              "      width: 32px;\n",
              "    }\n",
              "\n",
              "    .colab-df-convert:hover {\n",
              "      background-color: #E2EBFA;\n",
              "      box-shadow: 0px 1px 2px rgba(60, 64, 67, 0.3), 0px 1px 3px 1px rgba(60, 64, 67, 0.15);\n",
              "      fill: #174EA6;\n",
              "    }\n",
              "\n",
              "    [theme=dark] .colab-df-convert {\n",
              "      background-color: #3B4455;\n",
              "      fill: #D2E3FC;\n",
              "    }\n",
              "\n",
              "    [theme=dark] .colab-df-convert:hover {\n",
              "      background-color: #434B5C;\n",
              "      box-shadow: 0px 1px 3px 1px rgba(0, 0, 0, 0.15);\n",
              "      filter: drop-shadow(0px 1px 2px rgba(0, 0, 0, 0.3));\n",
              "      fill: #FFFFFF;\n",
              "    }\n",
              "  </style>\n",
              "\n",
              "      <script>\n",
              "        const buttonEl =\n",
              "          document.querySelector('#df-df6ee261-8515-4d24-bca9-4fa1b0d98b0d button.colab-df-convert');\n",
              "        buttonEl.style.display =\n",
              "          google.colab.kernel.accessAllowed ? 'block' : 'none';\n",
              "\n",
              "        async function convertToInteractive(key) {\n",
              "          const element = document.querySelector('#df-df6ee261-8515-4d24-bca9-4fa1b0d98b0d');\n",
              "          const dataTable =\n",
              "            await google.colab.kernel.invokeFunction('convertToInteractive',\n",
              "                                                     [key], {});\n",
              "          if (!dataTable) return;\n",
              "\n",
              "          const docLinkHtml = 'Like what you see? Visit the ' +\n",
              "            '<a target=\"_blank\" href=https://colab.research.google.com/notebooks/data_table.ipynb>data table notebook</a>'\n",
              "            + ' to learn more about interactive tables.';\n",
              "          element.innerHTML = '';\n",
              "          dataTable['output_type'] = 'display_data';\n",
              "          await google.colab.output.renderOutput(dataTable, element);\n",
              "          const docLink = document.createElement('div');\n",
              "          docLink.innerHTML = docLinkHtml;\n",
              "          element.appendChild(docLink);\n",
              "        }\n",
              "      </script>\n",
              "    </div>\n",
              "  </div>\n",
              "  "
            ]
          },
          "metadata": {},
          "execution_count": 97
        }
      ]
    },
    {
      "cell_type": "markdown",
      "source": [
        "### Splitting the Training Data"
      ],
      "metadata": {
        "id": "acdgzvueAm1t"
      }
    },
    {
      "cell_type": "code",
      "source": [
        "cb_train_features, cb_test_features, cb_train_labels, cb_test_labels = train_test_split(normalized_train_features, train_labels, test_size = 0.2, random_state=42)"
      ],
      "metadata": {
        "id": "JMVm_9SjAqMv"
      },
      "execution_count": 98,
      "outputs": []
    },
    {
      "cell_type": "markdown",
      "source": [
        "## 6) Base Model\n",
        "\n",
        "Before creating a Dense Neural Network model, it's good practice to create a base model to have a baseline accuracy.\n",
        "\n",
        "The model used for a base accuracy will be a K-Nearest Neighbor Classifier. This classifier was chosen because it takes a supervised learning approach. This is desired because supervised learning works best with classification, and these features are meant to classify products."
      ],
      "metadata": {
        "id": "diq1t1V0_pC8"
      }
    },
    {
      "cell_type": "code",
      "source": [
        "knn = KNeighborsClassifier(n_neighbors=3)\n",
        "knn.fit(cb_train_features, cb_train_labels)\n",
        "knnPredictions = knn.predict(cb_test_features)\n",
        "\n",
        "accuracy_score(cb_test_labels, knnPredictions)"
      ],
      "metadata": {
        "colab": {
          "base_uri": "https://localhost:8080/"
        },
        "id": "kUC4cqpm_t1m",
        "outputId": "d02f0d25-1d6f-4803-bbf4-0d802b86ea91"
      },
      "execution_count": 99,
      "outputs": [
        {
          "output_type": "execute_result",
          "data": {
            "text/plain": [
              "0.7636554621848739"
            ]
          },
          "metadata": {},
          "execution_count": 99
        }
      ]
    },
    {
      "cell_type": "markdown",
      "source": [
        "Now that we know our base model can achieve 76.4%, let's see what a neural network can achieve."
      ],
      "metadata": {
        "id": "ivz7nTTVF-T6"
      }
    },
    {
      "cell_type": "markdown",
      "source": [
        "## 7) Dense Neural Network (DNN)\n",
        "\n",
        "To create a Dense Neural Network, I will be using [Keras](https://keras.io/api/). According to the Keras [documentation](https://keras.io/about/), \n",
        "\n",
        "> Keras is a deep learning API written in Python, running on top of the machine learning platform [TensorFlow](https://github.com/tensorflow/tensorflow).\n",
        "\n",
        "It's advantages are that it's simple, flexible, and powerful.\n",
        "\n",
        "While Keras provides the ability to create a variety of neural networks, the dense neural network will be used for this project. It was chosen because the dataset is a bit simple compared to other use cases.\n",
        "\n",
        "By simple, I mean the dataset has a dimension of 2. It's rows are the products and the features are the properties of those products. A complex dataset would be a set of images where the rows may represent the x-coordinate and the columns represent the y-coordinate of a pixel, and the value at x,y is the brightness of a pixel. A set of black and white images would therefore have a dimension of 3 because it takes 2 dimensions to store the x,y values and another dimension to store the set of pictures."
      ],
      "metadata": {
        "id": "q4riAX1pW-Yx"
      }
    },
    {
      "cell_type": "code",
      "source": [
        "# Resplit the data with a categorized training label set for the DNN.\n",
        "cb_train_features, cb_test_features, cb_train_labels, cb_test_labels = train_test_split(normalized_train_features, train_labels_cat, test_size = 0.2, random_state=42)"
      ],
      "metadata": {
        "id": "tqG-cvXtNagT"
      },
      "execution_count": 135,
      "outputs": []
    },
    {
      "cell_type": "markdown",
      "source": [
        "Take a look at the shapes to understand how to build the DNN."
      ],
      "metadata": {
        "id": "T1Q52sJEOAEg"
      }
    },
    {
      "cell_type": "code",
      "source": [
        "cb_train_features.shape"
      ],
      "metadata": {
        "colab": {
          "base_uri": "https://localhost:8080/"
        },
        "id": "QPwnQa0sJvL3",
        "outputId": "0b205ded-3003-4f3f-b22d-50dcae6fdd62"
      },
      "execution_count": 101,
      "outputs": [
        {
          "output_type": "execute_result",
          "data": {
            "text/plain": [
              "(49502, 93)"
            ]
          },
          "metadata": {},
          "execution_count": 101
        }
      ]
    },
    {
      "cell_type": "code",
      "source": [
        "cb_train_labels.shape"
      ],
      "metadata": {
        "colab": {
          "base_uri": "https://localhost:8080/"
        },
        "id": "sud2oEDiNtXw",
        "outputId": "cb1c3fa5-1385-4926-bb9d-a6840de602a8"
      },
      "execution_count": 102,
      "outputs": [
        {
          "output_type": "execute_result",
          "data": {
            "text/plain": [
              "(49502, 10)"
            ]
          },
          "metadata": {},
          "execution_count": 102
        }
      ]
    },
    {
      "cell_type": "code",
      "source": [
        "cb_test_features.shape"
      ],
      "metadata": {
        "colab": {
          "base_uri": "https://localhost:8080/"
        },
        "id": "ZBW2bPe1J52O",
        "outputId": "f2a5092c-59a8-42d6-fc5d-276cff66e810"
      },
      "execution_count": 103,
      "outputs": [
        {
          "output_type": "execute_result",
          "data": {
            "text/plain": [
              "(12376, 93)"
            ]
          },
          "metadata": {},
          "execution_count": 103
        }
      ]
    },
    {
      "cell_type": "code",
      "source": [
        "cb_test_labels.shape"
      ],
      "metadata": {
        "colab": {
          "base_uri": "https://localhost:8080/"
        },
        "id": "Ey4A92kyNv3o",
        "outputId": "d567d2c9-9768-4e4f-ec74-9409eabd0243"
      },
      "execution_count": 104,
      "outputs": [
        {
          "output_type": "execute_result",
          "data": {
            "text/plain": [
              "(12376, 10)"
            ]
          },
          "metadata": {},
          "execution_count": 104
        }
      ]
    },
    {
      "cell_type": "markdown",
      "source": [
        "Define the parameters for the network."
      ],
      "metadata": {
        "id": "eVsrJzYhOJSI"
      }
    },
    {
      "cell_type": "code",
      "source": [
        "input_size = 93 # The input size is the number of features, 93.\n",
        "hidden_size = [512, 256, 128, 64] # These 4 values are all powers of 2 to ensure the number of possible activations decreases with each hidden layer.\n",
        "output_size = 10 # There are 9 classes and the extra output maps to none of the classes, which is a side effect of the `to_categorical` step."
      ],
      "metadata": {
        "id": "WTv-OODfImT_"
      },
      "execution_count": 105,
      "outputs": []
    },
    {
      "cell_type": "markdown",
      "source": [
        "### Instantiating Networks\n",
        "\n",
        "Build the networks.\n",
        "\n",
        "A variety of networks will be instantiated, compiled, and fitted in the hopes of understanding how many hidden layers are needed."
      ],
      "metadata": {
        "id": "mkPGAPnvONhu"
      }
    },
    {
      "cell_type": "code",
      "source": [
        "network = models.Sequential()\n",
        "network.add(layers.Dense(hidden_size[0], activation='relu', input_shape=(input_size,)))\n",
        "network.add(layers.Dense(output_size, activation='softmax'))\n",
        "\n",
        "network.summary()"
      ],
      "metadata": {
        "colab": {
          "base_uri": "https://localhost:8080/"
        },
        "id": "8txaG1zrJUSM",
        "outputId": "7359b723-9674-4e02-c136-4fd4048c4b89"
      },
      "execution_count": 136,
      "outputs": [
        {
          "output_type": "stream",
          "name": "stdout",
          "text": [
            "Model: \"sequential_8\"\n",
            "_________________________________________________________________\n",
            " Layer (type)                Output Shape              Param #   \n",
            "=================================================================\n",
            " dense_28 (Dense)            (None, 512)               48128     \n",
            "                                                                 \n",
            " dense_29 (Dense)            (None, 10)                5130      \n",
            "                                                                 \n",
            "=================================================================\n",
            "Total params: 53,258\n",
            "Trainable params: 53,258\n",
            "Non-trainable params: 0\n",
            "_________________________________________________________________\n"
          ]
        }
      ]
    },
    {
      "cell_type": "code",
      "source": [
        "network2 = models.Sequential()\n",
        "network2.add(layers.Dense(hidden_size[0], activation='relu', input_shape=(input_size,)))\n",
        "network2.add(layers.Dense(hidden_size[1], activation='relu'))\n",
        "network2.add(layers.Dense(output_size, activation='softmax'))\n",
        "\n",
        "network2.summary()"
      ],
      "metadata": {
        "colab": {
          "base_uri": "https://localhost:8080/"
        },
        "id": "ID1PYFgAWl8Z",
        "outputId": "1246a2e0-1ce2-4b6b-a2a1-5f6e4cd5aea9"
      },
      "execution_count": 137,
      "outputs": [
        {
          "output_type": "stream",
          "name": "stdout",
          "text": [
            "Model: \"sequential_9\"\n",
            "_________________________________________________________________\n",
            " Layer (type)                Output Shape              Param #   \n",
            "=================================================================\n",
            " dense_30 (Dense)            (None, 512)               48128     \n",
            "                                                                 \n",
            " dense_31 (Dense)            (None, 256)               131328    \n",
            "                                                                 \n",
            " dense_32 (Dense)            (None, 10)                2570      \n",
            "                                                                 \n",
            "=================================================================\n",
            "Total params: 182,026\n",
            "Trainable params: 182,026\n",
            "Non-trainable params: 0\n",
            "_________________________________________________________________\n"
          ]
        }
      ]
    },
    {
      "cell_type": "code",
      "source": [
        "network3 = models.Sequential()\n",
        "network3.add(layers.Dense(hidden_size[0], activation='relu', input_shape=(input_size,)))\n",
        "network3.add(layers.Dense(hidden_size[1], activation='relu'))\n",
        "network3.add(layers.Dense(hidden_size[2], activation='relu'))\n",
        "network3.add(layers.Dense(output_size, activation='softmax'))\n",
        "\n",
        "network3.summary()"
      ],
      "metadata": {
        "colab": {
          "base_uri": "https://localhost:8080/"
        },
        "id": "vfmpHfYJWyNb",
        "outputId": "d977246b-fd94-4cac-b7bb-b1fe8e4e18b6"
      },
      "execution_count": 138,
      "outputs": [
        {
          "output_type": "stream",
          "name": "stdout",
          "text": [
            "Model: \"sequential_10\"\n",
            "_________________________________________________________________\n",
            " Layer (type)                Output Shape              Param #   \n",
            "=================================================================\n",
            " dense_33 (Dense)            (None, 512)               48128     \n",
            "                                                                 \n",
            " dense_34 (Dense)            (None, 256)               131328    \n",
            "                                                                 \n",
            " dense_35 (Dense)            (None, 128)               32896     \n",
            "                                                                 \n",
            " dense_36 (Dense)            (None, 10)                1290      \n",
            "                                                                 \n",
            "=================================================================\n",
            "Total params: 213,642\n",
            "Trainable params: 213,642\n",
            "Non-trainable params: 0\n",
            "_________________________________________________________________\n"
          ]
        }
      ]
    },
    {
      "cell_type": "code",
      "source": [
        "network4 = models.Sequential()\n",
        "network4.add(layers.Dense(hidden_size[0], activation='relu', input_shape=(input_size,)))\n",
        "network4.add(layers.Dense(hidden_size[1], activation='relu'))\n",
        "network4.add(layers.Dense(hidden_size[2], activation='relu'))\n",
        "network4.add(layers.Dense(hidden_size[3], activation='relu'))\n",
        "network4.add(layers.Dense(output_size, activation='softmax'))\n",
        "\n",
        "network4.summary()"
      ],
      "metadata": {
        "id": "jsBwbQfEievM",
        "outputId": "24900703-e3f3-4cd7-b21c-5dcd36feaf95",
        "colab": {
          "base_uri": "https://localhost:8080/"
        }
      },
      "execution_count": 139,
      "outputs": [
        {
          "output_type": "stream",
          "name": "stdout",
          "text": [
            "Model: \"sequential_11\"\n",
            "_________________________________________________________________\n",
            " Layer (type)                Output Shape              Param #   \n",
            "=================================================================\n",
            " dense_37 (Dense)            (None, 512)               48128     \n",
            "                                                                 \n",
            " dense_38 (Dense)            (None, 256)               131328    \n",
            "                                                                 \n",
            " dense_39 (Dense)            (None, 128)               32896     \n",
            "                                                                 \n",
            " dense_40 (Dense)            (None, 64)                8256      \n",
            "                                                                 \n",
            " dense_41 (Dense)            (None, 10)                650       \n",
            "                                                                 \n",
            "=================================================================\n",
            "Total params: 221,258\n",
            "Trainable params: 221,258\n",
            "Non-trainable params: 0\n",
            "_________________________________________________________________\n"
          ]
        }
      ]
    },
    {
      "cell_type": "markdown",
      "source": [
        "### Compile Networks\n",
        "\n",
        "Compile the networks."
      ],
      "metadata": {
        "id": "YvO1s3_lOP6A"
      }
    },
    {
      "cell_type": "code",
      "source": [
        "optimizer = optimizers.RMSprop(learning_rate=1e-4)\n",
        "\n",
        "network.compile(optimizer=optimizer,\n",
        "                loss='categorical_crossentropy',\n",
        "                metrics=['accuracy'])\n",
        "\n",
        "network2.compile(optimizer=optimizer,\n",
        "                loss='categorical_crossentropy',\n",
        "                metrics=['accuracy'])\n",
        "\n",
        "network3.compile(optimizer=optimizer,\n",
        "                loss='categorical_crossentropy',\n",
        "                metrics=['accuracy'])\n",
        "\n",
        "network4.compile(optimizer=optimizer,\n",
        "                loss='categorical_crossentropy',\n",
        "                metrics=['accuracy'])"
      ],
      "metadata": {
        "id": "IFX7G3HFLW_o"
      },
      "execution_count": 140,
      "outputs": []
    },
    {
      "cell_type": "markdown",
      "source": [
        "### Fitting\n",
        "\n",
        "Fit the networks to the dataset.\n",
        "\n",
        "The training dataset is 49502, which factors into `2 * 53 * 467`. So, any combination of the those factors can be used to ensure the fit uses the entire training dataset.\n",
        "\n",
        "To ensure the fitting not take a long time, there will be 53 epochs and each bach will be 934 (2 * 467 = 934)."
      ],
      "metadata": {
        "id": "aqcVd1dlORjV"
      }
    },
    {
      "cell_type": "code",
      "source": [
        "EPOCHS = 53\n",
        "BATCH_SIZE = 934"
      ],
      "metadata": {
        "id": "oRRNZj05RxEx"
      },
      "execution_count": 141,
      "outputs": []
    },
    {
      "cell_type": "code",
      "source": [
        "network.fit(cb_train_features, cb_train_labels, epochs=EPOCHS, batch_size=BATCH_SIZE)"
      ],
      "metadata": {
        "colab": {
          "base_uri": "https://localhost:8080/"
        },
        "id": "Yq0WXq6pLMrR",
        "outputId": "c3eacdf2-33bb-40f0-c09b-e157c9639ffc"
      },
      "execution_count": 142,
      "outputs": [
        {
          "output_type": "stream",
          "name": "stdout",
          "text": [
            "Epoch 1/53\n",
            "53/53 [==============================] - 1s 3ms/step - loss: 2.2458 - accuracy: 0.4719\n",
            "Epoch 2/53\n",
            "53/53 [==============================] - 0s 6ms/step - loss: 2.1542 - accuracy: 0.5179\n",
            "Epoch 3/53\n",
            "53/53 [==============================] - 0s 6ms/step - loss: 2.0532 - accuracy: 0.5255\n",
            "Epoch 4/53\n",
            "53/53 [==============================] - 0s 3ms/step - loss: 1.9441 - accuracy: 0.5317\n",
            "Epoch 5/53\n",
            "53/53 [==============================] - 0s 3ms/step - loss: 1.8339 - accuracy: 0.5372\n",
            "Epoch 6/53\n",
            "53/53 [==============================] - 0s 3ms/step - loss: 1.7297 - accuracy: 0.5433\n",
            "Epoch 7/53\n",
            "53/53 [==============================] - 0s 3ms/step - loss: 1.6350 - accuracy: 0.5514\n",
            "Epoch 8/53\n",
            "53/53 [==============================] - 0s 3ms/step - loss: 1.5510 - accuracy: 0.5629\n",
            "Epoch 9/53\n",
            "53/53 [==============================] - 0s 3ms/step - loss: 1.4753 - accuracy: 0.5784\n",
            "Epoch 10/53\n",
            "53/53 [==============================] - 0s 3ms/step - loss: 1.4066 - accuracy: 0.5925\n",
            "Epoch 11/53\n",
            "53/53 [==============================] - 0s 3ms/step - loss: 1.3439 - accuracy: 0.6064\n",
            "Epoch 12/53\n",
            "53/53 [==============================] - 0s 3ms/step - loss: 1.2868 - accuracy: 0.6190\n",
            "Epoch 13/53\n",
            "53/53 [==============================] - 0s 3ms/step - loss: 1.2350 - accuracy: 0.6305\n",
            "Epoch 14/53\n",
            "53/53 [==============================] - 0s 3ms/step - loss: 1.1884 - accuracy: 0.6413\n",
            "Epoch 15/53\n",
            "53/53 [==============================] - 0s 3ms/step - loss: 1.1458 - accuracy: 0.6501\n",
            "Epoch 16/53\n",
            "53/53 [==============================] - 0s 3ms/step - loss: 1.1070 - accuracy: 0.6590\n",
            "Epoch 17/53\n",
            "53/53 [==============================] - 0s 3ms/step - loss: 1.0714 - accuracy: 0.6668\n",
            "Epoch 18/53\n",
            "53/53 [==============================] - 0s 3ms/step - loss: 1.0390 - accuracy: 0.6762\n",
            "Epoch 19/53\n",
            "53/53 [==============================] - 0s 3ms/step - loss: 1.0094 - accuracy: 0.6826\n",
            "Epoch 20/53\n",
            "53/53 [==============================] - 0s 3ms/step - loss: 0.9824 - accuracy: 0.6903\n",
            "Epoch 21/53\n",
            "53/53 [==============================] - 0s 3ms/step - loss: 0.9575 - accuracy: 0.6964\n",
            "Epoch 22/53\n",
            "53/53 [==============================] - 0s 3ms/step - loss: 0.9348 - accuracy: 0.7012\n",
            "Epoch 23/53\n",
            "53/53 [==============================] - 0s 3ms/step - loss: 0.9143 - accuracy: 0.7068\n",
            "Epoch 24/53\n",
            "53/53 [==============================] - 0s 3ms/step - loss: 0.8956 - accuracy: 0.7090\n",
            "Epoch 25/53\n",
            "53/53 [==============================] - 0s 3ms/step - loss: 0.8785 - accuracy: 0.7120\n",
            "Epoch 26/53\n",
            "53/53 [==============================] - 0s 3ms/step - loss: 0.8629 - accuracy: 0.7150\n",
            "Epoch 27/53\n",
            "53/53 [==============================] - 0s 3ms/step - loss: 0.8487 - accuracy: 0.7174\n",
            "Epoch 28/53\n",
            "53/53 [==============================] - 0s 3ms/step - loss: 0.8356 - accuracy: 0.7191\n",
            "Epoch 29/53\n",
            "53/53 [==============================] - 0s 3ms/step - loss: 0.8235 - accuracy: 0.7209\n",
            "Epoch 30/53\n",
            "53/53 [==============================] - 0s 3ms/step - loss: 0.8125 - accuracy: 0.7223\n",
            "Epoch 31/53\n",
            "53/53 [==============================] - 0s 3ms/step - loss: 0.8023 - accuracy: 0.7233\n",
            "Epoch 32/53\n",
            "53/53 [==============================] - 0s 3ms/step - loss: 0.7928 - accuracy: 0.7253\n",
            "Epoch 33/53\n",
            "53/53 [==============================] - 0s 3ms/step - loss: 0.7843 - accuracy: 0.7262\n",
            "Epoch 34/53\n",
            "53/53 [==============================] - 0s 3ms/step - loss: 0.7763 - accuracy: 0.7273\n",
            "Epoch 35/53\n",
            "53/53 [==============================] - 0s 3ms/step - loss: 0.7688 - accuracy: 0.7284\n",
            "Epoch 36/53\n",
            "53/53 [==============================] - 0s 3ms/step - loss: 0.7619 - accuracy: 0.7296\n",
            "Epoch 37/53\n",
            "53/53 [==============================] - 0s 3ms/step - loss: 0.7554 - accuracy: 0.7305\n",
            "Epoch 38/53\n",
            "53/53 [==============================] - 0s 3ms/step - loss: 0.7494 - accuracy: 0.7309\n",
            "Epoch 39/53\n",
            "53/53 [==============================] - 0s 3ms/step - loss: 0.7437 - accuracy: 0.7316\n",
            "Epoch 40/53\n",
            "53/53 [==============================] - 0s 3ms/step - loss: 0.7384 - accuracy: 0.7329\n",
            "Epoch 41/53\n",
            "53/53 [==============================] - 0s 3ms/step - loss: 0.7333 - accuracy: 0.7334\n",
            "Epoch 42/53\n",
            "53/53 [==============================] - 0s 3ms/step - loss: 0.7285 - accuracy: 0.7338\n",
            "Epoch 43/53\n",
            "53/53 [==============================] - 0s 3ms/step - loss: 0.7241 - accuracy: 0.7344\n",
            "Epoch 44/53\n",
            "53/53 [==============================] - 0s 3ms/step - loss: 0.7199 - accuracy: 0.7353\n",
            "Epoch 45/53\n",
            "53/53 [==============================] - 0s 3ms/step - loss: 0.7157 - accuracy: 0.7365\n",
            "Epoch 46/53\n",
            "53/53 [==============================] - 0s 3ms/step - loss: 0.7119 - accuracy: 0.7369\n",
            "Epoch 47/53\n",
            "53/53 [==============================] - 0s 3ms/step - loss: 0.7082 - accuracy: 0.7376\n",
            "Epoch 48/53\n",
            "53/53 [==============================] - 0s 3ms/step - loss: 0.7047 - accuracy: 0.7381\n",
            "Epoch 49/53\n",
            "53/53 [==============================] - 0s 3ms/step - loss: 0.7013 - accuracy: 0.7392\n",
            "Epoch 50/53\n",
            "53/53 [==============================] - 0s 3ms/step - loss: 0.6982 - accuracy: 0.7398\n",
            "Epoch 51/53\n",
            "53/53 [==============================] - 0s 3ms/step - loss: 0.6951 - accuracy: 0.7405\n",
            "Epoch 52/53\n",
            "53/53 [==============================] - 0s 3ms/step - loss: 0.6922 - accuracy: 0.7411\n",
            "Epoch 53/53\n",
            "53/53 [==============================] - 0s 3ms/step - loss: 0.6894 - accuracy: 0.7423\n"
          ]
        },
        {
          "output_type": "execute_result",
          "data": {
            "text/plain": [
              "<keras.callbacks.History at 0x7fcb86362390>"
            ]
          },
          "metadata": {},
          "execution_count": 142
        }
      ]
    },
    {
      "cell_type": "code",
      "source": [
        "network2.fit(cb_train_features, cb_train_labels, epochs=EPOCHS, batch_size=BATCH_SIZE)"
      ],
      "metadata": {
        "colab": {
          "base_uri": "https://localhost:8080/"
        },
        "id": "vcTk5P6uXDp7",
        "outputId": "5afc6833-cc81-4257-96da-e22dc00ae267"
      },
      "execution_count": 143,
      "outputs": [
        {
          "output_type": "stream",
          "name": "stdout",
          "text": [
            "Epoch 1/53\n",
            "53/53 [==============================] - 1s 3ms/step - loss: 2.2004 - accuracy: 0.4408\n",
            "Epoch 2/53\n",
            "53/53 [==============================] - 0s 4ms/step - loss: 1.9490 - accuracy: 0.5362\n",
            "Epoch 3/53\n",
            "53/53 [==============================] - 0s 3ms/step - loss: 1.6691 - accuracy: 0.5599\n",
            "Epoch 4/53\n",
            "53/53 [==============================] - 0s 3ms/step - loss: 1.4375 - accuracy: 0.5829\n",
            "Epoch 5/53\n",
            "53/53 [==============================] - 0s 3ms/step - loss: 1.2593 - accuracy: 0.6175\n",
            "Epoch 6/53\n",
            "53/53 [==============================] - 0s 4ms/step - loss: 1.1254 - accuracy: 0.6481\n",
            "Epoch 7/53\n",
            "53/53 [==============================] - 0s 3ms/step - loss: 1.0259 - accuracy: 0.6737\n",
            "Epoch 8/53\n",
            "53/53 [==============================] - 0s 3ms/step - loss: 0.9505 - accuracy: 0.6953\n",
            "Epoch 9/53\n",
            "53/53 [==============================] - 0s 3ms/step - loss: 0.8931 - accuracy: 0.7069\n",
            "Epoch 10/53\n",
            "53/53 [==============================] - 0s 3ms/step - loss: 0.8484 - accuracy: 0.7141\n",
            "Epoch 11/53\n",
            "53/53 [==============================] - 0s 3ms/step - loss: 0.8138 - accuracy: 0.7186\n",
            "Epoch 12/53\n",
            "53/53 [==============================] - 0s 3ms/step - loss: 0.7871 - accuracy: 0.7221\n",
            "Epoch 13/53\n",
            "53/53 [==============================] - 0s 3ms/step - loss: 0.7657 - accuracy: 0.7253\n",
            "Epoch 14/53\n",
            "53/53 [==============================] - 0s 3ms/step - loss: 0.7484 - accuracy: 0.7275\n",
            "Epoch 15/53\n",
            "53/53 [==============================] - 0s 3ms/step - loss: 0.7338 - accuracy: 0.7295\n",
            "Epoch 16/53\n",
            "53/53 [==============================] - 0s 4ms/step - loss: 0.7214 - accuracy: 0.7319\n",
            "Epoch 17/53\n",
            "53/53 [==============================] - 0s 3ms/step - loss: 0.7108 - accuracy: 0.7340\n",
            "Epoch 18/53\n",
            "53/53 [==============================] - 0s 4ms/step - loss: 0.7015 - accuracy: 0.7356\n",
            "Epoch 19/53\n",
            "53/53 [==============================] - 0s 3ms/step - loss: 0.6933 - accuracy: 0.7378\n",
            "Epoch 20/53\n",
            "53/53 [==============================] - 0s 3ms/step - loss: 0.6859 - accuracy: 0.7396\n",
            "Epoch 21/53\n",
            "53/53 [==============================] - 0s 3ms/step - loss: 0.6792 - accuracy: 0.7411\n",
            "Epoch 22/53\n",
            "53/53 [==============================] - 0s 4ms/step - loss: 0.6730 - accuracy: 0.7433\n",
            "Epoch 23/53\n",
            "53/53 [==============================] - 0s 3ms/step - loss: 0.6676 - accuracy: 0.7444\n",
            "Epoch 24/53\n",
            "53/53 [==============================] - 0s 3ms/step - loss: 0.6624 - accuracy: 0.7463\n",
            "Epoch 25/53\n",
            "53/53 [==============================] - 0s 3ms/step - loss: 0.6574 - accuracy: 0.7480\n",
            "Epoch 26/53\n",
            "53/53 [==============================] - 0s 3ms/step - loss: 0.6528 - accuracy: 0.7497\n",
            "Epoch 27/53\n",
            "53/53 [==============================] - 0s 3ms/step - loss: 0.6484 - accuracy: 0.7508\n",
            "Epoch 28/53\n",
            "53/53 [==============================] - 0s 3ms/step - loss: 0.6445 - accuracy: 0.7521\n",
            "Epoch 29/53\n",
            "53/53 [==============================] - 0s 3ms/step - loss: 0.6407 - accuracy: 0.7537\n",
            "Epoch 30/53\n",
            "53/53 [==============================] - 0s 3ms/step - loss: 0.6371 - accuracy: 0.7554\n",
            "Epoch 31/53\n",
            "53/53 [==============================] - 0s 3ms/step - loss: 0.6335 - accuracy: 0.7559\n",
            "Epoch 32/53\n",
            "53/53 [==============================] - 0s 3ms/step - loss: 0.6304 - accuracy: 0.7572\n",
            "Epoch 33/53\n",
            "53/53 [==============================] - 0s 3ms/step - loss: 0.6272 - accuracy: 0.7587\n",
            "Epoch 34/53\n",
            "53/53 [==============================] - 0s 3ms/step - loss: 0.6242 - accuracy: 0.7599\n",
            "Epoch 35/53\n",
            "53/53 [==============================] - 0s 3ms/step - loss: 0.6214 - accuracy: 0.7606\n",
            "Epoch 36/53\n",
            "53/53 [==============================] - 0s 3ms/step - loss: 0.6187 - accuracy: 0.7611\n",
            "Epoch 37/53\n",
            "53/53 [==============================] - 0s 3ms/step - loss: 0.6162 - accuracy: 0.7623\n",
            "Epoch 38/53\n",
            "53/53 [==============================] - 0s 4ms/step - loss: 0.6135 - accuracy: 0.7633\n",
            "Epoch 39/53\n",
            "53/53 [==============================] - 0s 3ms/step - loss: 0.6113 - accuracy: 0.7644\n",
            "Epoch 40/53\n",
            "53/53 [==============================] - 0s 4ms/step - loss: 0.6090 - accuracy: 0.7652\n",
            "Epoch 41/53\n",
            "53/53 [==============================] - 0s 3ms/step - loss: 0.6067 - accuracy: 0.7656\n",
            "Epoch 42/53\n",
            "53/53 [==============================] - 0s 3ms/step - loss: 0.6044 - accuracy: 0.7668\n",
            "Epoch 43/53\n",
            "53/53 [==============================] - 0s 3ms/step - loss: 0.6025 - accuracy: 0.7672\n",
            "Epoch 44/53\n",
            "53/53 [==============================] - 0s 4ms/step - loss: 0.6004 - accuracy: 0.7681\n",
            "Epoch 45/53\n",
            "53/53 [==============================] - 0s 3ms/step - loss: 0.5984 - accuracy: 0.7692\n",
            "Epoch 46/53\n",
            "53/53 [==============================] - 0s 3ms/step - loss: 0.5966 - accuracy: 0.7692\n",
            "Epoch 47/53\n",
            "53/53 [==============================] - 0s 3ms/step - loss: 0.5948 - accuracy: 0.7701\n",
            "Epoch 48/53\n",
            "53/53 [==============================] - 0s 3ms/step - loss: 0.5931 - accuracy: 0.7709\n",
            "Epoch 49/53\n",
            "53/53 [==============================] - 0s 4ms/step - loss: 0.5914 - accuracy: 0.7712\n",
            "Epoch 50/53\n",
            "53/53 [==============================] - 0s 3ms/step - loss: 0.5899 - accuracy: 0.7724\n",
            "Epoch 51/53\n",
            "53/53 [==============================] - 0s 3ms/step - loss: 0.5882 - accuracy: 0.7726\n",
            "Epoch 52/53\n",
            "53/53 [==============================] - 0s 3ms/step - loss: 0.5867 - accuracy: 0.7733\n",
            "Epoch 53/53\n",
            "53/53 [==============================] - 0s 3ms/step - loss: 0.5852 - accuracy: 0.7740\n"
          ]
        },
        {
          "output_type": "execute_result",
          "data": {
            "text/plain": [
              "<keras.callbacks.History at 0x7fcb86295750>"
            ]
          },
          "metadata": {},
          "execution_count": 143
        }
      ]
    },
    {
      "cell_type": "code",
      "source": [
        "network3.fit(cb_train_features, cb_train_labels, epochs=EPOCHS, batch_size=BATCH_SIZE)"
      ],
      "metadata": {
        "colab": {
          "base_uri": "https://localhost:8080/"
        },
        "id": "3yM8FHeqXEFK",
        "outputId": "eb5fe35c-f124-4c3d-99b2-eca4c4fd21a3"
      },
      "execution_count": 144,
      "outputs": [
        {
          "output_type": "stream",
          "name": "stdout",
          "text": [
            "Epoch 1/53\n",
            "53/53 [==============================] - 1s 4ms/step - loss: 2.1892 - accuracy: 0.4967\n",
            "Epoch 2/53\n",
            "53/53 [==============================] - 0s 3ms/step - loss: 1.8230 - accuracy: 0.5421\n",
            "Epoch 3/53\n",
            "53/53 [==============================] - 0s 4ms/step - loss: 1.4475 - accuracy: 0.5779\n",
            "Epoch 4/53\n",
            "53/53 [==============================] - 0s 4ms/step - loss: 1.2123 - accuracy: 0.6234\n",
            "Epoch 5/53\n",
            "53/53 [==============================] - 0s 4ms/step - loss: 1.0574 - accuracy: 0.6627\n",
            "Epoch 6/53\n",
            "53/53 [==============================] - 0s 4ms/step - loss: 0.9465 - accuracy: 0.6951\n",
            "Epoch 7/53\n",
            "53/53 [==============================] - 0s 5ms/step - loss: 0.8674 - accuracy: 0.7109\n",
            "Epoch 8/53\n",
            "53/53 [==============================] - 0s 5ms/step - loss: 0.8125 - accuracy: 0.7180\n",
            "Epoch 9/53\n",
            "53/53 [==============================] - 0s 5ms/step - loss: 0.7742 - accuracy: 0.7234\n",
            "Epoch 10/53\n",
            "53/53 [==============================] - 0s 5ms/step - loss: 0.7466 - accuracy: 0.7278\n",
            "Epoch 11/53\n",
            "53/53 [==============================] - 0s 5ms/step - loss: 0.7262 - accuracy: 0.7314\n",
            "Epoch 12/53\n",
            "53/53 [==============================] - 0s 5ms/step - loss: 0.7104 - accuracy: 0.7348\n",
            "Epoch 13/53\n",
            "53/53 [==============================] - 0s 5ms/step - loss: 0.6974 - accuracy: 0.7388\n",
            "Epoch 14/53\n",
            "53/53 [==============================] - 0s 5ms/step - loss: 0.6866 - accuracy: 0.7411\n",
            "Epoch 15/53\n",
            "53/53 [==============================] - 0s 5ms/step - loss: 0.6769 - accuracy: 0.7435\n",
            "Epoch 16/53\n",
            "53/53 [==============================] - 0s 4ms/step - loss: 0.6692 - accuracy: 0.7464\n",
            "Epoch 17/53\n",
            "53/53 [==============================] - 0s 4ms/step - loss: 0.6618 - accuracy: 0.7470\n",
            "Epoch 18/53\n",
            "53/53 [==============================] - 0s 4ms/step - loss: 0.6553 - accuracy: 0.7499\n",
            "Epoch 19/53\n",
            "53/53 [==============================] - 0s 4ms/step - loss: 0.6498 - accuracy: 0.7517\n",
            "Epoch 20/53\n",
            "53/53 [==============================] - 0s 4ms/step - loss: 0.6442 - accuracy: 0.7533\n",
            "Epoch 21/53\n",
            "53/53 [==============================] - 0s 4ms/step - loss: 0.6393 - accuracy: 0.7543\n",
            "Epoch 22/53\n",
            "53/53 [==============================] - 0s 3ms/step - loss: 0.6348 - accuracy: 0.7556\n",
            "Epoch 23/53\n",
            "53/53 [==============================] - 0s 4ms/step - loss: 0.6305 - accuracy: 0.7578\n",
            "Epoch 24/53\n",
            "53/53 [==============================] - 0s 3ms/step - loss: 0.6264 - accuracy: 0.7580\n",
            "Epoch 25/53\n",
            "53/53 [==============================] - 0s 4ms/step - loss: 0.6227 - accuracy: 0.7601\n",
            "Epoch 26/53\n",
            "53/53 [==============================] - 0s 4ms/step - loss: 0.6190 - accuracy: 0.7611\n",
            "Epoch 27/53\n",
            "53/53 [==============================] - 0s 3ms/step - loss: 0.6155 - accuracy: 0.7631\n",
            "Epoch 28/53\n",
            "53/53 [==============================] - 0s 3ms/step - loss: 0.6121 - accuracy: 0.7644\n",
            "Epoch 29/53\n",
            "53/53 [==============================] - 0s 4ms/step - loss: 0.6093 - accuracy: 0.7644\n",
            "Epoch 30/53\n",
            "53/53 [==============================] - 0s 4ms/step - loss: 0.6062 - accuracy: 0.7659\n",
            "Epoch 31/53\n",
            "53/53 [==============================] - 0s 4ms/step - loss: 0.6036 - accuracy: 0.7667\n",
            "Epoch 32/53\n",
            "53/53 [==============================] - 0s 3ms/step - loss: 0.6005 - accuracy: 0.7674\n",
            "Epoch 33/53\n",
            "53/53 [==============================] - 0s 4ms/step - loss: 0.5983 - accuracy: 0.7687\n",
            "Epoch 34/53\n",
            "53/53 [==============================] - 0s 3ms/step - loss: 0.5955 - accuracy: 0.7695\n",
            "Epoch 35/53\n",
            "53/53 [==============================] - 0s 4ms/step - loss: 0.5932 - accuracy: 0.7701\n",
            "Epoch 36/53\n",
            "53/53 [==============================] - 0s 4ms/step - loss: 0.5907 - accuracy: 0.7716\n",
            "Epoch 37/53\n",
            "53/53 [==============================] - 0s 4ms/step - loss: 0.5886 - accuracy: 0.7713\n",
            "Epoch 38/53\n",
            "53/53 [==============================] - 0s 4ms/step - loss: 0.5864 - accuracy: 0.7727\n",
            "Epoch 39/53\n",
            "53/53 [==============================] - 0s 4ms/step - loss: 0.5842 - accuracy: 0.7733\n",
            "Epoch 40/53\n",
            "53/53 [==============================] - 0s 4ms/step - loss: 0.5825 - accuracy: 0.7740\n",
            "Epoch 41/53\n",
            "53/53 [==============================] - 0s 4ms/step - loss: 0.5804 - accuracy: 0.7746\n",
            "Epoch 42/53\n",
            "53/53 [==============================] - 0s 4ms/step - loss: 0.5787 - accuracy: 0.7742\n",
            "Epoch 43/53\n",
            "53/53 [==============================] - 0s 4ms/step - loss: 0.5769 - accuracy: 0.7751\n",
            "Epoch 44/53\n",
            "53/53 [==============================] - 0s 3ms/step - loss: 0.5751 - accuracy: 0.7768\n",
            "Epoch 45/53\n",
            "53/53 [==============================] - 0s 4ms/step - loss: 0.5735 - accuracy: 0.7764\n",
            "Epoch 46/53\n",
            "53/53 [==============================] - 0s 4ms/step - loss: 0.5716 - accuracy: 0.7771\n",
            "Epoch 47/53\n",
            "53/53 [==============================] - 0s 4ms/step - loss: 0.5699 - accuracy: 0.7776\n",
            "Epoch 48/53\n",
            "53/53 [==============================] - 0s 4ms/step - loss: 0.5686 - accuracy: 0.7774\n",
            "Epoch 49/53\n",
            "53/53 [==============================] - 0s 3ms/step - loss: 0.5668 - accuracy: 0.7785\n",
            "Epoch 50/53\n",
            "53/53 [==============================] - 0s 4ms/step - loss: 0.5656 - accuracy: 0.7785\n",
            "Epoch 51/53\n",
            "53/53 [==============================] - 0s 4ms/step - loss: 0.5640 - accuracy: 0.7796\n",
            "Epoch 52/53\n",
            "53/53 [==============================] - 0s 4ms/step - loss: 0.5623 - accuracy: 0.7796\n",
            "Epoch 53/53\n",
            "53/53 [==============================] - 0s 3ms/step - loss: 0.5608 - accuracy: 0.7810\n"
          ]
        },
        {
          "output_type": "execute_result",
          "data": {
            "text/plain": [
              "<keras.callbacks.History at 0x7fcb86160c50>"
            ]
          },
          "metadata": {},
          "execution_count": 144
        }
      ]
    },
    {
      "cell_type": "code",
      "source": [
        "network4.fit(cb_train_features, cb_train_labels, epochs=EPOCHS, batch_size=BATCH_SIZE)"
      ],
      "metadata": {
        "id": "Vf33i4P1iovK",
        "outputId": "39f659a9-d539-43cb-eb30-79b0a9ebe491",
        "colab": {
          "base_uri": "https://localhost:8080/"
        }
      },
      "execution_count": 145,
      "outputs": [
        {
          "output_type": "stream",
          "name": "stdout",
          "text": [
            "Epoch 1/53\n",
            "53/53 [==============================] - 1s 4ms/step - loss: 2.2068 - accuracy: 0.4452\n",
            "Epoch 2/53\n",
            "53/53 [==============================] - 0s 4ms/step - loss: 1.8714 - accuracy: 0.5287\n",
            "Epoch 3/53\n",
            "53/53 [==============================] - 0s 4ms/step - loss: 1.4875 - accuracy: 0.5761\n",
            "Epoch 4/53\n",
            "53/53 [==============================] - 0s 4ms/step - loss: 1.2302 - accuracy: 0.6019\n",
            "Epoch 5/53\n",
            "53/53 [==============================] - 0s 4ms/step - loss: 1.0699 - accuracy: 0.6399\n",
            "Epoch 6/53\n",
            "53/53 [==============================] - 0s 4ms/step - loss: 0.9654 - accuracy: 0.6755\n",
            "Epoch 7/53\n",
            "53/53 [==============================] - 0s 4ms/step - loss: 0.8928 - accuracy: 0.6984\n",
            "Epoch 8/53\n",
            "53/53 [==============================] - 0s 4ms/step - loss: 0.8402 - accuracy: 0.7119\n",
            "Epoch 9/53\n",
            "53/53 [==============================] - 0s 4ms/step - loss: 0.8001 - accuracy: 0.7174\n",
            "Epoch 10/53\n",
            "53/53 [==============================] - 0s 4ms/step - loss: 0.7694 - accuracy: 0.7226\n",
            "Epoch 11/53\n",
            "53/53 [==============================] - 0s 4ms/step - loss: 0.7457 - accuracy: 0.7271\n",
            "Epoch 12/53\n",
            "53/53 [==============================] - 0s 4ms/step - loss: 0.7271 - accuracy: 0.7301\n",
            "Epoch 13/53\n",
            "53/53 [==============================] - 0s 4ms/step - loss: 0.7120 - accuracy: 0.7342\n",
            "Epoch 14/53\n",
            "53/53 [==============================] - 0s 4ms/step - loss: 0.6999 - accuracy: 0.7377\n",
            "Epoch 15/53\n",
            "53/53 [==============================] - 0s 4ms/step - loss: 0.6898 - accuracy: 0.7392\n",
            "Epoch 16/53\n",
            "53/53 [==============================] - 0s 4ms/step - loss: 0.6807 - accuracy: 0.7424\n",
            "Epoch 17/53\n",
            "53/53 [==============================] - 0s 4ms/step - loss: 0.6727 - accuracy: 0.7452\n",
            "Epoch 18/53\n",
            "53/53 [==============================] - 0s 4ms/step - loss: 0.6660 - accuracy: 0.7458\n",
            "Epoch 19/53\n",
            "53/53 [==============================] - 0s 4ms/step - loss: 0.6597 - accuracy: 0.7485\n",
            "Epoch 20/53\n",
            "53/53 [==============================] - 0s 4ms/step - loss: 0.6538 - accuracy: 0.7503\n",
            "Epoch 21/53\n",
            "53/53 [==============================] - 0s 4ms/step - loss: 0.6483 - accuracy: 0.7519\n",
            "Epoch 22/53\n",
            "53/53 [==============================] - 0s 4ms/step - loss: 0.6436 - accuracy: 0.7531\n",
            "Epoch 23/53\n",
            "53/53 [==============================] - 0s 4ms/step - loss: 0.6394 - accuracy: 0.7547\n",
            "Epoch 24/53\n",
            "53/53 [==============================] - 0s 4ms/step - loss: 0.6341 - accuracy: 0.7559\n",
            "Epoch 25/53\n",
            "53/53 [==============================] - 0s 4ms/step - loss: 0.6303 - accuracy: 0.7572\n",
            "Epoch 26/53\n",
            "53/53 [==============================] - 0s 4ms/step - loss: 0.6265 - accuracy: 0.7588\n",
            "Epoch 27/53\n",
            "53/53 [==============================] - 0s 4ms/step - loss: 0.6227 - accuracy: 0.7606\n",
            "Epoch 28/53\n",
            "53/53 [==============================] - 0s 4ms/step - loss: 0.6193 - accuracy: 0.7613\n",
            "Epoch 29/53\n",
            "53/53 [==============================] - 0s 4ms/step - loss: 0.6155 - accuracy: 0.7630\n",
            "Epoch 30/53\n",
            "53/53 [==============================] - 0s 4ms/step - loss: 0.6125 - accuracy: 0.7630\n",
            "Epoch 31/53\n",
            "53/53 [==============================] - 0s 4ms/step - loss: 0.6092 - accuracy: 0.7646\n",
            "Epoch 32/53\n",
            "53/53 [==============================] - 0s 4ms/step - loss: 0.6060 - accuracy: 0.7658\n",
            "Epoch 33/53\n",
            "53/53 [==============================] - 0s 4ms/step - loss: 0.6034 - accuracy: 0.7664\n",
            "Epoch 34/53\n",
            "53/53 [==============================] - 0s 4ms/step - loss: 0.6004 - accuracy: 0.7683\n",
            "Epoch 35/53\n",
            "53/53 [==============================] - 0s 4ms/step - loss: 0.5980 - accuracy: 0.7676\n",
            "Epoch 36/53\n",
            "53/53 [==============================] - 0s 4ms/step - loss: 0.5952 - accuracy: 0.7688\n",
            "Epoch 37/53\n",
            "53/53 [==============================] - 0s 4ms/step - loss: 0.5930 - accuracy: 0.7692\n",
            "Epoch 38/53\n",
            "53/53 [==============================] - 0s 4ms/step - loss: 0.5901 - accuracy: 0.7713\n",
            "Epoch 39/53\n",
            "53/53 [==============================] - 0s 4ms/step - loss: 0.5875 - accuracy: 0.7722\n",
            "Epoch 40/53\n",
            "53/53 [==============================] - 0s 4ms/step - loss: 0.5857 - accuracy: 0.7721\n",
            "Epoch 41/53\n",
            "53/53 [==============================] - 0s 4ms/step - loss: 0.5840 - accuracy: 0.7723\n",
            "Epoch 42/53\n",
            "53/53 [==============================] - 0s 4ms/step - loss: 0.5814 - accuracy: 0.7744\n",
            "Epoch 43/53\n",
            "53/53 [==============================] - 0s 4ms/step - loss: 0.5797 - accuracy: 0.7746\n",
            "Epoch 44/53\n",
            "53/53 [==============================] - 0s 4ms/step - loss: 0.5778 - accuracy: 0.7758\n",
            "Epoch 45/53\n",
            "53/53 [==============================] - 0s 4ms/step - loss: 0.5757 - accuracy: 0.7762\n",
            "Epoch 46/53\n",
            "53/53 [==============================] - 0s 4ms/step - loss: 0.5740 - accuracy: 0.7774\n",
            "Epoch 47/53\n",
            "53/53 [==============================] - 0s 4ms/step - loss: 0.5721 - accuracy: 0.7788\n",
            "Epoch 48/53\n",
            "53/53 [==============================] - 0s 4ms/step - loss: 0.5707 - accuracy: 0.7785\n",
            "Epoch 49/53\n",
            "53/53 [==============================] - 0s 4ms/step - loss: 0.5688 - accuracy: 0.7801\n",
            "Epoch 50/53\n",
            "53/53 [==============================] - 0s 4ms/step - loss: 0.5670 - accuracy: 0.7800\n",
            "Epoch 51/53\n",
            "53/53 [==============================] - 0s 4ms/step - loss: 0.5654 - accuracy: 0.7802\n",
            "Epoch 52/53\n",
            "53/53 [==============================] - 0s 4ms/step - loss: 0.5638 - accuracy: 0.7813\n",
            "Epoch 53/53\n",
            "53/53 [==============================] - 0s 4ms/step - loss: 0.5619 - accuracy: 0.7817\n"
          ]
        },
        {
          "output_type": "execute_result",
          "data": {
            "text/plain": [
              "<keras.callbacks.History at 0x7fcb767f83d0>"
            ]
          },
          "metadata": {},
          "execution_count": 145
        }
      ]
    },
    {
      "cell_type": "markdown",
      "source": [
        "### Accuracy of Networks"
      ],
      "metadata": {
        "id": "tLD0d0hlX7i1"
      }
    },
    {
      "cell_type": "markdown",
      "source": [
        "#### 1 Hidden Layer"
      ],
      "metadata": {
        "id": "LBz2zCW0XGRu"
      }
    },
    {
      "cell_type": "code",
      "source": [
        "test_loss, test_acc = network.evaluate(cb_test_features, cb_test_labels)"
      ],
      "metadata": {
        "colab": {
          "base_uri": "https://localhost:8080/"
        },
        "id": "9mlIZDiUPKkA",
        "outputId": "00f89e44-2037-48ac-bbab-72edcea1a2fd"
      },
      "execution_count": 146,
      "outputs": [
        {
          "output_type": "stream",
          "name": "stdout",
          "text": [
            "387/387 [==============================] - 1s 2ms/step - loss: 0.6846 - accuracy: 0.7464\n"
          ]
        }
      ]
    },
    {
      "cell_type": "code",
      "source": [
        "print('test_acc:', test_acc)"
      ],
      "metadata": {
        "colab": {
          "base_uri": "https://localhost:8080/"
        },
        "id": "ICy2EJXxPPwO",
        "outputId": "f2aa9c71-394a-4189-e89b-253dc34b7de5"
      },
      "execution_count": 147,
      "outputs": [
        {
          "output_type": "stream",
          "name": "stdout",
          "text": [
            "test_acc: 0.7463639378547668\n"
          ]
        }
      ]
    },
    {
      "cell_type": "markdown",
      "source": [
        "#### 2 Hidden Layers"
      ],
      "metadata": {
        "id": "TBHPe5cLXKQL"
      }
    },
    {
      "cell_type": "code",
      "source": [
        "test_loss, test_acc = network2.evaluate(cb_test_features, cb_test_labels)"
      ],
      "metadata": {
        "colab": {
          "base_uri": "https://localhost:8080/"
        },
        "id": "wCJCrZz6XMAi",
        "outputId": "02810994-52e0-47a5-9bc6-82a94f1f7977"
      },
      "execution_count": 148,
      "outputs": [
        {
          "output_type": "stream",
          "name": "stdout",
          "text": [
            "387/387 [==============================] - 1s 2ms/step - loss: 0.5882 - accuracy: 0.7731\n"
          ]
        }
      ]
    },
    {
      "cell_type": "code",
      "source": [
        "print('test_acc:', test_acc)"
      ],
      "metadata": {
        "colab": {
          "base_uri": "https://localhost:8080/"
        },
        "id": "rWeje3XKXMg-",
        "outputId": "3f37e680-49d2-4a50-d35a-48653422e438"
      },
      "execution_count": 149,
      "outputs": [
        {
          "output_type": "stream",
          "name": "stdout",
          "text": [
            "test_acc: 0.7731092572212219\n"
          ]
        }
      ]
    },
    {
      "cell_type": "markdown",
      "source": [
        "#### 3 Hidden Layers"
      ],
      "metadata": {
        "id": "stimYslrXM51"
      }
    },
    {
      "cell_type": "code",
      "source": [
        "test_loss, test_acc = network3.evaluate(cb_test_features, cb_test_labels)"
      ],
      "metadata": {
        "colab": {
          "base_uri": "https://localhost:8080/"
        },
        "id": "IoZVL9LSXO4-",
        "outputId": "a41e4b34-32fe-478f-f648-dfb1cc8d40e4"
      },
      "execution_count": 150,
      "outputs": [
        {
          "output_type": "stream",
          "name": "stdout",
          "text": [
            "387/387 [==============================] - 1s 2ms/step - loss: 0.5685 - accuracy: 0.7772\n"
          ]
        }
      ]
    },
    {
      "cell_type": "code",
      "source": [
        "print('test_acc:', test_acc)"
      ],
      "metadata": {
        "colab": {
          "base_uri": "https://localhost:8080/"
        },
        "id": "jWkl8zZHXOyA",
        "outputId": "5812ea57-f64d-420e-d5af-28859511f733"
      },
      "execution_count": 151,
      "outputs": [
        {
          "output_type": "stream",
          "name": "stdout",
          "text": [
            "test_acc: 0.7772301435470581\n"
          ]
        }
      ]
    },
    {
      "cell_type": "markdown",
      "source": [
        "#### 4 Hidden Layers"
      ],
      "metadata": {
        "id": "sqCqJ2QHirGj"
      }
    },
    {
      "cell_type": "code",
      "source": [
        "test_loss, test_acc = network4.evaluate(cb_test_features, cb_test_labels)"
      ],
      "metadata": {
        "id": "6UOGVtQbiruB",
        "outputId": "779adca5-6c22-4856-ab96-8589dd8cac29",
        "colab": {
          "base_uri": "https://localhost:8080/"
        }
      },
      "execution_count": 152,
      "outputs": [
        {
          "output_type": "stream",
          "name": "stdout",
          "text": [
            "387/387 [==============================] - 1s 3ms/step - loss: 0.5697 - accuracy: 0.7774\n"
          ]
        }
      ]
    },
    {
      "cell_type": "code",
      "source": [
        "print('test_acc:', test_acc)"
      ],
      "metadata": {
        "id": "PrCX974pircp",
        "outputId": "540c2756-8cc7-4f2d-dbdd-5affdbddba12",
        "colab": {
          "base_uri": "https://localhost:8080/"
        }
      },
      "execution_count": 153,
      "outputs": [
        {
          "output_type": "stream",
          "name": "stdout",
          "text": [
            "test_acc: 0.7773917317390442\n"
          ]
        }
      ]
    },
    {
      "cell_type": "markdown",
      "source": [
        "## 8) Conclusion\n",
        "\n",
        "The accuracy for the training dataset is 0.7773917317390442 with 4 hidden nodes. That was the best performance out of the tested models."
      ],
      "metadata": {
        "id": "7PpKPYNvXBuH"
      }
    },
    {
      "cell_type": "markdown",
      "source": [
        "### Summary of Scores\n",
        "\n",
        "| Classifier      | Score |\n",
        "| ----------- | ----------- |\n",
        "| KNN      | 0.7636554621848739       |\n",
        "| DNN (1 Hidden)   | 0.7463639378547668        |\n",
        "| DNN (2 Hidden)   | 0.7731092572212219        |\n",
        "| DNN (3 Hidden)   | 0.7772301435470581        |\n",
        "| DNN (4 Hidden)   | 0.7773917317390442        |\n",
        "\n",
        "### Best Hyperparameters\n",
        "\n",
        "Given the data above,\n",
        "\n",
        "* It seems that having at least 2 hidden layers will generate an accuracy greater than the base model (kNN, where k=3).\n",
        "* The 4th hidden layer did not improve the accuracy too much. It might be worth testing different unit values for the hidden layers to see if the last layer being 64 makes a difference. It could be that larger inputs larger than the initial input size of 93 perform better."
      ],
      "metadata": {
        "id": "KnJo30-wVY8-"
      }
    },
    {
      "cell_type": "markdown",
      "source": [
        "## 9) Kaggle Submission\n",
        "\n",
        "The Kaggle competition included a sample submission file. The file was included as a way to submit the predictions made by a model.\n",
        "\n",
        "Because DNN with 4 hidden layers performed the best, it will be used to make predictions based on the `test.csv` dataset."
      ],
      "metadata": {
        "id": "x-885yjekc5L"
      }
    },
    {
      "cell_type": "code",
      "source": [
        "best_dnn_predictions = network4.predict(test_features)"
      ],
      "metadata": {
        "id": "IOwqNVsfliti",
        "outputId": "3299fee9-dfe4-4246-f643-1eed49b5ff2f",
        "colab": {
          "base_uri": "https://localhost:8080/"
        }
      },
      "execution_count": 124,
      "outputs": [
        {
          "output_type": "stream",
          "name": "stdout",
          "text": [
            "4512/4512 [==============================] - 8s 2ms/step\n"
          ]
        }
      ]
    },
    {
      "cell_type": "code",
      "source": [
        "best_dnn_predictions"
      ],
      "metadata": {
        "id": "MbdTpkDlmJhk",
        "outputId": "2bbadcb6-07db-4882-c128-4e9fd2cfec31",
        "colab": {
          "base_uri": "https://localhost:8080/"
        }
      },
      "execution_count": 125,
      "outputs": [
        {
          "output_type": "execute_result",
          "data": {
            "text/plain": [
              "array([[0.0000000e+00, 0.0000000e+00, 2.7194434e-07, ..., 5.2710626e-21,\n",
              "        0.0000000e+00, 0.0000000e+00],\n",
              "       [0.0000000e+00, 0.0000000e+00, 0.0000000e+00, ..., 0.0000000e+00,\n",
              "        1.0000000e+00, 0.0000000e+00],\n",
              "       [0.0000000e+00, 0.0000000e+00, 0.0000000e+00, ..., 0.0000000e+00,\n",
              "        0.0000000e+00, 0.0000000e+00],\n",
              "       ...,\n",
              "       [0.0000000e+00, 0.0000000e+00, 1.5039428e-12, ..., 0.0000000e+00,\n",
              "        0.0000000e+00, 0.0000000e+00],\n",
              "       [0.0000000e+00, 0.0000000e+00, 9.9996829e-01, ..., 0.0000000e+00,\n",
              "        0.0000000e+00, 0.0000000e+00],\n",
              "       [0.0000000e+00, 0.0000000e+00, 1.7328684e-04, ..., 2.5859535e-08,\n",
              "        0.0000000e+00, 0.0000000e+00]], dtype=float32)"
            ]
          },
          "metadata": {},
          "execution_count": 125
        }
      ]
    },
    {
      "cell_type": "code",
      "source": [
        "predictions_df = pd.DataFrame(best_dnn_predictions, columns=['Class_0', 'Class_1', 'Class_2', 'Class_3', 'Class_4', 'Class_5', 'Class_6', 'Class_7', 'Class_8', 'Class_9'])\n",
        "predictions_df[:3]"
      ],
      "metadata": {
        "id": "CFpG6dQvop1y",
        "outputId": "ec6de43c-8bb9-4d51-e47d-864c59ca9e81",
        "colab": {
          "base_uri": "https://localhost:8080/",
          "height": 143
        }
      },
      "execution_count": 126,
      "outputs": [
        {
          "output_type": "execute_result",
          "data": {
            "text/plain": [
              "   Class_0  Class_1       Class_2  Class_3       Class_4  Class_5  Class_6  \\\n",
              "0      0.0      0.0  2.719443e-07      1.0  1.583411e-10      0.0      0.0   \n",
              "1      0.0      0.0  0.000000e+00      0.0  0.000000e+00      0.0      0.0   \n",
              "2      0.0      0.0  0.000000e+00      0.0  0.000000e+00      0.0      1.0   \n",
              "\n",
              "        Class_7  Class_8  Class_9  \n",
              "0  5.271063e-21      0.0      0.0  \n",
              "1  0.000000e+00      1.0      0.0  \n",
              "2  0.000000e+00      0.0      0.0  "
            ],
            "text/html": [
              "\n",
              "  <div id=\"df-6c58ad8e-4229-4831-a1eb-9ef1db4f0337\">\n",
              "    <div class=\"colab-df-container\">\n",
              "      <div>\n",
              "<style scoped>\n",
              "    .dataframe tbody tr th:only-of-type {\n",
              "        vertical-align: middle;\n",
              "    }\n",
              "\n",
              "    .dataframe tbody tr th {\n",
              "        vertical-align: top;\n",
              "    }\n",
              "\n",
              "    .dataframe thead th {\n",
              "        text-align: right;\n",
              "    }\n",
              "</style>\n",
              "<table border=\"1\" class=\"dataframe\">\n",
              "  <thead>\n",
              "    <tr style=\"text-align: right;\">\n",
              "      <th></th>\n",
              "      <th>Class_0</th>\n",
              "      <th>Class_1</th>\n",
              "      <th>Class_2</th>\n",
              "      <th>Class_3</th>\n",
              "      <th>Class_4</th>\n",
              "      <th>Class_5</th>\n",
              "      <th>Class_6</th>\n",
              "      <th>Class_7</th>\n",
              "      <th>Class_8</th>\n",
              "      <th>Class_9</th>\n",
              "    </tr>\n",
              "  </thead>\n",
              "  <tbody>\n",
              "    <tr>\n",
              "      <th>0</th>\n",
              "      <td>0.0</td>\n",
              "      <td>0.0</td>\n",
              "      <td>2.719443e-07</td>\n",
              "      <td>1.0</td>\n",
              "      <td>1.583411e-10</td>\n",
              "      <td>0.0</td>\n",
              "      <td>0.0</td>\n",
              "      <td>5.271063e-21</td>\n",
              "      <td>0.0</td>\n",
              "      <td>0.0</td>\n",
              "    </tr>\n",
              "    <tr>\n",
              "      <th>1</th>\n",
              "      <td>0.0</td>\n",
              "      <td>0.0</td>\n",
              "      <td>0.000000e+00</td>\n",
              "      <td>0.0</td>\n",
              "      <td>0.000000e+00</td>\n",
              "      <td>0.0</td>\n",
              "      <td>0.0</td>\n",
              "      <td>0.000000e+00</td>\n",
              "      <td>1.0</td>\n",
              "      <td>0.0</td>\n",
              "    </tr>\n",
              "    <tr>\n",
              "      <th>2</th>\n",
              "      <td>0.0</td>\n",
              "      <td>0.0</td>\n",
              "      <td>0.000000e+00</td>\n",
              "      <td>0.0</td>\n",
              "      <td>0.000000e+00</td>\n",
              "      <td>0.0</td>\n",
              "      <td>1.0</td>\n",
              "      <td>0.000000e+00</td>\n",
              "      <td>0.0</td>\n",
              "      <td>0.0</td>\n",
              "    </tr>\n",
              "  </tbody>\n",
              "</table>\n",
              "</div>\n",
              "      <button class=\"colab-df-convert\" onclick=\"convertToInteractive('df-6c58ad8e-4229-4831-a1eb-9ef1db4f0337')\"\n",
              "              title=\"Convert this dataframe to an interactive table.\"\n",
              "              style=\"display:none;\">\n",
              "        \n",
              "  <svg xmlns=\"http://www.w3.org/2000/svg\" height=\"24px\"viewBox=\"0 0 24 24\"\n",
              "       width=\"24px\">\n",
              "    <path d=\"M0 0h24v24H0V0z\" fill=\"none\"/>\n",
              "    <path d=\"M18.56 5.44l.94 2.06.94-2.06 2.06-.94-2.06-.94-.94-2.06-.94 2.06-2.06.94zm-11 1L8.5 8.5l.94-2.06 2.06-.94-2.06-.94L8.5 2.5l-.94 2.06-2.06.94zm10 10l.94 2.06.94-2.06 2.06-.94-2.06-.94-.94-2.06-.94 2.06-2.06.94z\"/><path d=\"M17.41 7.96l-1.37-1.37c-.4-.4-.92-.59-1.43-.59-.52 0-1.04.2-1.43.59L10.3 9.45l-7.72 7.72c-.78.78-.78 2.05 0 2.83L4 21.41c.39.39.9.59 1.41.59.51 0 1.02-.2 1.41-.59l7.78-7.78 2.81-2.81c.8-.78.8-2.07 0-2.86zM5.41 20L4 18.59l7.72-7.72 1.47 1.35L5.41 20z\"/>\n",
              "  </svg>\n",
              "      </button>\n",
              "      \n",
              "  <style>\n",
              "    .colab-df-container {\n",
              "      display:flex;\n",
              "      flex-wrap:wrap;\n",
              "      gap: 12px;\n",
              "    }\n",
              "\n",
              "    .colab-df-convert {\n",
              "      background-color: #E8F0FE;\n",
              "      border: none;\n",
              "      border-radius: 50%;\n",
              "      cursor: pointer;\n",
              "      display: none;\n",
              "      fill: #1967D2;\n",
              "      height: 32px;\n",
              "      padding: 0 0 0 0;\n",
              "      width: 32px;\n",
              "    }\n",
              "\n",
              "    .colab-df-convert:hover {\n",
              "      background-color: #E2EBFA;\n",
              "      box-shadow: 0px 1px 2px rgba(60, 64, 67, 0.3), 0px 1px 3px 1px rgba(60, 64, 67, 0.15);\n",
              "      fill: #174EA6;\n",
              "    }\n",
              "\n",
              "    [theme=dark] .colab-df-convert {\n",
              "      background-color: #3B4455;\n",
              "      fill: #D2E3FC;\n",
              "    }\n",
              "\n",
              "    [theme=dark] .colab-df-convert:hover {\n",
              "      background-color: #434B5C;\n",
              "      box-shadow: 0px 1px 3px 1px rgba(0, 0, 0, 0.15);\n",
              "      filter: drop-shadow(0px 1px 2px rgba(0, 0, 0, 0.3));\n",
              "      fill: #FFFFFF;\n",
              "    }\n",
              "  </style>\n",
              "\n",
              "      <script>\n",
              "        const buttonEl =\n",
              "          document.querySelector('#df-6c58ad8e-4229-4831-a1eb-9ef1db4f0337 button.colab-df-convert');\n",
              "        buttonEl.style.display =\n",
              "          google.colab.kernel.accessAllowed ? 'block' : 'none';\n",
              "\n",
              "        async function convertToInteractive(key) {\n",
              "          const element = document.querySelector('#df-6c58ad8e-4229-4831-a1eb-9ef1db4f0337');\n",
              "          const dataTable =\n",
              "            await google.colab.kernel.invokeFunction('convertToInteractive',\n",
              "                                                     [key], {});\n",
              "          if (!dataTable) return;\n",
              "\n",
              "          const docLinkHtml = 'Like what you see? Visit the ' +\n",
              "            '<a target=\"_blank\" href=https://colab.research.google.com/notebooks/data_table.ipynb>data table notebook</a>'\n",
              "            + ' to learn more about interactive tables.';\n",
              "          element.innerHTML = '';\n",
              "          dataTable['output_type'] = 'display_data';\n",
              "          await google.colab.output.renderOutput(dataTable, element);\n",
              "          const docLink = document.createElement('div');\n",
              "          docLink.innerHTML = docLinkHtml;\n",
              "          element.appendChild(docLink);\n",
              "        }\n",
              "      </script>\n",
              "    </div>\n",
              "  </div>\n",
              "  "
            ]
          },
          "metadata": {},
          "execution_count": 126
        }
      ]
    },
    {
      "cell_type": "code",
      "source": [
        "submit = pd.read_csv(\"sampleSubmission.csv\")\n",
        "submit['Class_1'] = predictions_df['Class_1']\n",
        "submit['Class_2'] = predictions_df['Class_2']\n",
        "submit['Class_3'] = predictions_df['Class_3']\n",
        "submit['Class_4'] = predictions_df['Class_4']\n",
        "submit['Class_5'] = predictions_df['Class_5']\n",
        "submit['Class_6'] = predictions_df['Class_6']\n",
        "submit['Class_7'] = predictions_df['Class_7']\n",
        "submit['Class_8'] = predictions_df['Class_8']\n",
        "submit['Class_9'] = predictions_df['Class_9']\n",
        "\n",
        "submit[:3]"
      ],
      "metadata": {
        "id": "iEbZQAqclz-a",
        "outputId": "d277ad5a-2ab4-42c1-82c2-ea67aa155186",
        "colab": {
          "base_uri": "https://localhost:8080/",
          "height": 143
        }
      },
      "execution_count": 127,
      "outputs": [
        {
          "output_type": "execute_result",
          "data": {
            "text/plain": [
              "   id  Class_1       Class_2  Class_3       Class_4  Class_5  Class_6  \\\n",
              "0   1      0.0  2.719443e-07      1.0  1.583411e-10      0.0      0.0   \n",
              "1   2      0.0  0.000000e+00      0.0  0.000000e+00      0.0      0.0   \n",
              "2   3      0.0  0.000000e+00      0.0  0.000000e+00      0.0      1.0   \n",
              "\n",
              "        Class_7  Class_8  Class_9  \n",
              "0  5.271063e-21      0.0      0.0  \n",
              "1  0.000000e+00      1.0      0.0  \n",
              "2  0.000000e+00      0.0      0.0  "
            ],
            "text/html": [
              "\n",
              "  <div id=\"df-41364489-c20b-4a63-b227-8b2de7b1d291\">\n",
              "    <div class=\"colab-df-container\">\n",
              "      <div>\n",
              "<style scoped>\n",
              "    .dataframe tbody tr th:only-of-type {\n",
              "        vertical-align: middle;\n",
              "    }\n",
              "\n",
              "    .dataframe tbody tr th {\n",
              "        vertical-align: top;\n",
              "    }\n",
              "\n",
              "    .dataframe thead th {\n",
              "        text-align: right;\n",
              "    }\n",
              "</style>\n",
              "<table border=\"1\" class=\"dataframe\">\n",
              "  <thead>\n",
              "    <tr style=\"text-align: right;\">\n",
              "      <th></th>\n",
              "      <th>id</th>\n",
              "      <th>Class_1</th>\n",
              "      <th>Class_2</th>\n",
              "      <th>Class_3</th>\n",
              "      <th>Class_4</th>\n",
              "      <th>Class_5</th>\n",
              "      <th>Class_6</th>\n",
              "      <th>Class_7</th>\n",
              "      <th>Class_8</th>\n",
              "      <th>Class_9</th>\n",
              "    </tr>\n",
              "  </thead>\n",
              "  <tbody>\n",
              "    <tr>\n",
              "      <th>0</th>\n",
              "      <td>1</td>\n",
              "      <td>0.0</td>\n",
              "      <td>2.719443e-07</td>\n",
              "      <td>1.0</td>\n",
              "      <td>1.583411e-10</td>\n",
              "      <td>0.0</td>\n",
              "      <td>0.0</td>\n",
              "      <td>5.271063e-21</td>\n",
              "      <td>0.0</td>\n",
              "      <td>0.0</td>\n",
              "    </tr>\n",
              "    <tr>\n",
              "      <th>1</th>\n",
              "      <td>2</td>\n",
              "      <td>0.0</td>\n",
              "      <td>0.000000e+00</td>\n",
              "      <td>0.0</td>\n",
              "      <td>0.000000e+00</td>\n",
              "      <td>0.0</td>\n",
              "      <td>0.0</td>\n",
              "      <td>0.000000e+00</td>\n",
              "      <td>1.0</td>\n",
              "      <td>0.0</td>\n",
              "    </tr>\n",
              "    <tr>\n",
              "      <th>2</th>\n",
              "      <td>3</td>\n",
              "      <td>0.0</td>\n",
              "      <td>0.000000e+00</td>\n",
              "      <td>0.0</td>\n",
              "      <td>0.000000e+00</td>\n",
              "      <td>0.0</td>\n",
              "      <td>1.0</td>\n",
              "      <td>0.000000e+00</td>\n",
              "      <td>0.0</td>\n",
              "      <td>0.0</td>\n",
              "    </tr>\n",
              "  </tbody>\n",
              "</table>\n",
              "</div>\n",
              "      <button class=\"colab-df-convert\" onclick=\"convertToInteractive('df-41364489-c20b-4a63-b227-8b2de7b1d291')\"\n",
              "              title=\"Convert this dataframe to an interactive table.\"\n",
              "              style=\"display:none;\">\n",
              "        \n",
              "  <svg xmlns=\"http://www.w3.org/2000/svg\" height=\"24px\"viewBox=\"0 0 24 24\"\n",
              "       width=\"24px\">\n",
              "    <path d=\"M0 0h24v24H0V0z\" fill=\"none\"/>\n",
              "    <path d=\"M18.56 5.44l.94 2.06.94-2.06 2.06-.94-2.06-.94-.94-2.06-.94 2.06-2.06.94zm-11 1L8.5 8.5l.94-2.06 2.06-.94-2.06-.94L8.5 2.5l-.94 2.06-2.06.94zm10 10l.94 2.06.94-2.06 2.06-.94-2.06-.94-.94-2.06-.94 2.06-2.06.94z\"/><path d=\"M17.41 7.96l-1.37-1.37c-.4-.4-.92-.59-1.43-.59-.52 0-1.04.2-1.43.59L10.3 9.45l-7.72 7.72c-.78.78-.78 2.05 0 2.83L4 21.41c.39.39.9.59 1.41.59.51 0 1.02-.2 1.41-.59l7.78-7.78 2.81-2.81c.8-.78.8-2.07 0-2.86zM5.41 20L4 18.59l7.72-7.72 1.47 1.35L5.41 20z\"/>\n",
              "  </svg>\n",
              "      </button>\n",
              "      \n",
              "  <style>\n",
              "    .colab-df-container {\n",
              "      display:flex;\n",
              "      flex-wrap:wrap;\n",
              "      gap: 12px;\n",
              "    }\n",
              "\n",
              "    .colab-df-convert {\n",
              "      background-color: #E8F0FE;\n",
              "      border: none;\n",
              "      border-radius: 50%;\n",
              "      cursor: pointer;\n",
              "      display: none;\n",
              "      fill: #1967D2;\n",
              "      height: 32px;\n",
              "      padding: 0 0 0 0;\n",
              "      width: 32px;\n",
              "    }\n",
              "\n",
              "    .colab-df-convert:hover {\n",
              "      background-color: #E2EBFA;\n",
              "      box-shadow: 0px 1px 2px rgba(60, 64, 67, 0.3), 0px 1px 3px 1px rgba(60, 64, 67, 0.15);\n",
              "      fill: #174EA6;\n",
              "    }\n",
              "\n",
              "    [theme=dark] .colab-df-convert {\n",
              "      background-color: #3B4455;\n",
              "      fill: #D2E3FC;\n",
              "    }\n",
              "\n",
              "    [theme=dark] .colab-df-convert:hover {\n",
              "      background-color: #434B5C;\n",
              "      box-shadow: 0px 1px 3px 1px rgba(0, 0, 0, 0.15);\n",
              "      filter: drop-shadow(0px 1px 2px rgba(0, 0, 0, 0.3));\n",
              "      fill: #FFFFFF;\n",
              "    }\n",
              "  </style>\n",
              "\n",
              "      <script>\n",
              "        const buttonEl =\n",
              "          document.querySelector('#df-41364489-c20b-4a63-b227-8b2de7b1d291 button.colab-df-convert');\n",
              "        buttonEl.style.display =\n",
              "          google.colab.kernel.accessAllowed ? 'block' : 'none';\n",
              "\n",
              "        async function convertToInteractive(key) {\n",
              "          const element = document.querySelector('#df-41364489-c20b-4a63-b227-8b2de7b1d291');\n",
              "          const dataTable =\n",
              "            await google.colab.kernel.invokeFunction('convertToInteractive',\n",
              "                                                     [key], {});\n",
              "          if (!dataTable) return;\n",
              "\n",
              "          const docLinkHtml = 'Like what you see? Visit the ' +\n",
              "            '<a target=\"_blank\" href=https://colab.research.google.com/notebooks/data_table.ipynb>data table notebook</a>'\n",
              "            + ' to learn more about interactive tables.';\n",
              "          element.innerHTML = '';\n",
              "          dataTable['output_type'] = 'display_data';\n",
              "          await google.colab.output.renderOutput(dataTable, element);\n",
              "          const docLink = document.createElement('div');\n",
              "          docLink.innerHTML = docLinkHtml;\n",
              "          element.appendChild(docLink);\n",
              "        }\n",
              "      </script>\n",
              "    </div>\n",
              "  </div>\n",
              "  "
            ]
          },
          "metadata": {},
          "execution_count": 127
        }
      ]
    },
    {
      "cell_type": "code",
      "source": [
        "submit.describe(include=\"all\")"
      ],
      "metadata": {
        "id": "GZflV9arnTnX",
        "outputId": "9fdcb3b4-c29a-4d88-c23d-02770de2d791",
        "colab": {
          "base_uri": "https://localhost:8080/",
          "height": 364
        }
      },
      "execution_count": 128,
      "outputs": [
        {
          "output_type": "execute_result",
          "data": {
            "text/plain": [
              "                  id       Class_1        Class_2        Class_3  \\\n",
              "count  144368.000000  1.443680e+05  144368.000000  144368.000000   \n",
              "mean    72184.500000  2.596695e-02       0.163787       0.225609   \n",
              "std     41675.596169  1.552501e-01       0.357088       0.406061   \n",
              "min         1.000000  0.000000e+00       0.000000       0.000000   \n",
              "25%     36092.750000  0.000000e+00       0.000000       0.000000   \n",
              "50%     72184.500000  0.000000e+00       0.000000       0.000000   \n",
              "75%    108276.250000  1.595179e-31       0.000220       0.075000   \n",
              "max    144368.000000  1.000000e+00       1.000000       1.000000   \n",
              "\n",
              "            Class_4        Class_5       Class_6       Class_7       Class_8  \\\n",
              "count  1.443680e+05  144368.000000  1.443680e+05  1.443680e+05  1.443680e+05   \n",
              "mean   3.568775e-02       0.045991  2.117872e-01  4.888743e-02  1.583964e-01   \n",
              "std    1.798698e-01       0.209129  4.071002e-01  2.125264e-01  3.635458e-01   \n",
              "min    0.000000e+00       0.000000  0.000000e+00  0.000000e+00  0.000000e+00   \n",
              "25%    0.000000e+00       0.000000  0.000000e+00  0.000000e+00  0.000000e+00   \n",
              "50%    0.000000e+00       0.000000  0.000000e+00  0.000000e+00  0.000000e+00   \n",
              "75%    4.419869e-25       0.000000  3.476558e-10  3.168098e-25  9.687051e-23   \n",
              "max    1.000000e+00       1.000000  1.000000e+00  1.000000e+00  1.000000e+00   \n",
              "\n",
              "            Class_9  \n",
              "count  1.443680e+05  \n",
              "mean   8.388665e-02  \n",
              "std    2.753166e-01  \n",
              "min    0.000000e+00  \n",
              "25%    0.000000e+00  \n",
              "50%    0.000000e+00  \n",
              "75%    2.411547e-32  \n",
              "max    1.000000e+00  "
            ],
            "text/html": [
              "\n",
              "  <div id=\"df-f0435dc3-3e32-4165-8959-8e2da139e13d\">\n",
              "    <div class=\"colab-df-container\">\n",
              "      <div>\n",
              "<style scoped>\n",
              "    .dataframe tbody tr th:only-of-type {\n",
              "        vertical-align: middle;\n",
              "    }\n",
              "\n",
              "    .dataframe tbody tr th {\n",
              "        vertical-align: top;\n",
              "    }\n",
              "\n",
              "    .dataframe thead th {\n",
              "        text-align: right;\n",
              "    }\n",
              "</style>\n",
              "<table border=\"1\" class=\"dataframe\">\n",
              "  <thead>\n",
              "    <tr style=\"text-align: right;\">\n",
              "      <th></th>\n",
              "      <th>id</th>\n",
              "      <th>Class_1</th>\n",
              "      <th>Class_2</th>\n",
              "      <th>Class_3</th>\n",
              "      <th>Class_4</th>\n",
              "      <th>Class_5</th>\n",
              "      <th>Class_6</th>\n",
              "      <th>Class_7</th>\n",
              "      <th>Class_8</th>\n",
              "      <th>Class_9</th>\n",
              "    </tr>\n",
              "  </thead>\n",
              "  <tbody>\n",
              "    <tr>\n",
              "      <th>count</th>\n",
              "      <td>144368.000000</td>\n",
              "      <td>1.443680e+05</td>\n",
              "      <td>144368.000000</td>\n",
              "      <td>144368.000000</td>\n",
              "      <td>1.443680e+05</td>\n",
              "      <td>144368.000000</td>\n",
              "      <td>1.443680e+05</td>\n",
              "      <td>1.443680e+05</td>\n",
              "      <td>1.443680e+05</td>\n",
              "      <td>1.443680e+05</td>\n",
              "    </tr>\n",
              "    <tr>\n",
              "      <th>mean</th>\n",
              "      <td>72184.500000</td>\n",
              "      <td>2.596695e-02</td>\n",
              "      <td>0.163787</td>\n",
              "      <td>0.225609</td>\n",
              "      <td>3.568775e-02</td>\n",
              "      <td>0.045991</td>\n",
              "      <td>2.117872e-01</td>\n",
              "      <td>4.888743e-02</td>\n",
              "      <td>1.583964e-01</td>\n",
              "      <td>8.388665e-02</td>\n",
              "    </tr>\n",
              "    <tr>\n",
              "      <th>std</th>\n",
              "      <td>41675.596169</td>\n",
              "      <td>1.552501e-01</td>\n",
              "      <td>0.357088</td>\n",
              "      <td>0.406061</td>\n",
              "      <td>1.798698e-01</td>\n",
              "      <td>0.209129</td>\n",
              "      <td>4.071002e-01</td>\n",
              "      <td>2.125264e-01</td>\n",
              "      <td>3.635458e-01</td>\n",
              "      <td>2.753166e-01</td>\n",
              "    </tr>\n",
              "    <tr>\n",
              "      <th>min</th>\n",
              "      <td>1.000000</td>\n",
              "      <td>0.000000e+00</td>\n",
              "      <td>0.000000</td>\n",
              "      <td>0.000000</td>\n",
              "      <td>0.000000e+00</td>\n",
              "      <td>0.000000</td>\n",
              "      <td>0.000000e+00</td>\n",
              "      <td>0.000000e+00</td>\n",
              "      <td>0.000000e+00</td>\n",
              "      <td>0.000000e+00</td>\n",
              "    </tr>\n",
              "    <tr>\n",
              "      <th>25%</th>\n",
              "      <td>36092.750000</td>\n",
              "      <td>0.000000e+00</td>\n",
              "      <td>0.000000</td>\n",
              "      <td>0.000000</td>\n",
              "      <td>0.000000e+00</td>\n",
              "      <td>0.000000</td>\n",
              "      <td>0.000000e+00</td>\n",
              "      <td>0.000000e+00</td>\n",
              "      <td>0.000000e+00</td>\n",
              "      <td>0.000000e+00</td>\n",
              "    </tr>\n",
              "    <tr>\n",
              "      <th>50%</th>\n",
              "      <td>72184.500000</td>\n",
              "      <td>0.000000e+00</td>\n",
              "      <td>0.000000</td>\n",
              "      <td>0.000000</td>\n",
              "      <td>0.000000e+00</td>\n",
              "      <td>0.000000</td>\n",
              "      <td>0.000000e+00</td>\n",
              "      <td>0.000000e+00</td>\n",
              "      <td>0.000000e+00</td>\n",
              "      <td>0.000000e+00</td>\n",
              "    </tr>\n",
              "    <tr>\n",
              "      <th>75%</th>\n",
              "      <td>108276.250000</td>\n",
              "      <td>1.595179e-31</td>\n",
              "      <td>0.000220</td>\n",
              "      <td>0.075000</td>\n",
              "      <td>4.419869e-25</td>\n",
              "      <td>0.000000</td>\n",
              "      <td>3.476558e-10</td>\n",
              "      <td>3.168098e-25</td>\n",
              "      <td>9.687051e-23</td>\n",
              "      <td>2.411547e-32</td>\n",
              "    </tr>\n",
              "    <tr>\n",
              "      <th>max</th>\n",
              "      <td>144368.000000</td>\n",
              "      <td>1.000000e+00</td>\n",
              "      <td>1.000000</td>\n",
              "      <td>1.000000</td>\n",
              "      <td>1.000000e+00</td>\n",
              "      <td>1.000000</td>\n",
              "      <td>1.000000e+00</td>\n",
              "      <td>1.000000e+00</td>\n",
              "      <td>1.000000e+00</td>\n",
              "      <td>1.000000e+00</td>\n",
              "    </tr>\n",
              "  </tbody>\n",
              "</table>\n",
              "</div>\n",
              "      <button class=\"colab-df-convert\" onclick=\"convertToInteractive('df-f0435dc3-3e32-4165-8959-8e2da139e13d')\"\n",
              "              title=\"Convert this dataframe to an interactive table.\"\n",
              "              style=\"display:none;\">\n",
              "        \n",
              "  <svg xmlns=\"http://www.w3.org/2000/svg\" height=\"24px\"viewBox=\"0 0 24 24\"\n",
              "       width=\"24px\">\n",
              "    <path d=\"M0 0h24v24H0V0z\" fill=\"none\"/>\n",
              "    <path d=\"M18.56 5.44l.94 2.06.94-2.06 2.06-.94-2.06-.94-.94-2.06-.94 2.06-2.06.94zm-11 1L8.5 8.5l.94-2.06 2.06-.94-2.06-.94L8.5 2.5l-.94 2.06-2.06.94zm10 10l.94 2.06.94-2.06 2.06-.94-2.06-.94-.94-2.06-.94 2.06-2.06.94z\"/><path d=\"M17.41 7.96l-1.37-1.37c-.4-.4-.92-.59-1.43-.59-.52 0-1.04.2-1.43.59L10.3 9.45l-7.72 7.72c-.78.78-.78 2.05 0 2.83L4 21.41c.39.39.9.59 1.41.59.51 0 1.02-.2 1.41-.59l7.78-7.78 2.81-2.81c.8-.78.8-2.07 0-2.86zM5.41 20L4 18.59l7.72-7.72 1.47 1.35L5.41 20z\"/>\n",
              "  </svg>\n",
              "      </button>\n",
              "      \n",
              "  <style>\n",
              "    .colab-df-container {\n",
              "      display:flex;\n",
              "      flex-wrap:wrap;\n",
              "      gap: 12px;\n",
              "    }\n",
              "\n",
              "    .colab-df-convert {\n",
              "      background-color: #E8F0FE;\n",
              "      border: none;\n",
              "      border-radius: 50%;\n",
              "      cursor: pointer;\n",
              "      display: none;\n",
              "      fill: #1967D2;\n",
              "      height: 32px;\n",
              "      padding: 0 0 0 0;\n",
              "      width: 32px;\n",
              "    }\n",
              "\n",
              "    .colab-df-convert:hover {\n",
              "      background-color: #E2EBFA;\n",
              "      box-shadow: 0px 1px 2px rgba(60, 64, 67, 0.3), 0px 1px 3px 1px rgba(60, 64, 67, 0.15);\n",
              "      fill: #174EA6;\n",
              "    }\n",
              "\n",
              "    [theme=dark] .colab-df-convert {\n",
              "      background-color: #3B4455;\n",
              "      fill: #D2E3FC;\n",
              "    }\n",
              "\n",
              "    [theme=dark] .colab-df-convert:hover {\n",
              "      background-color: #434B5C;\n",
              "      box-shadow: 0px 1px 3px 1px rgba(0, 0, 0, 0.15);\n",
              "      filter: drop-shadow(0px 1px 2px rgba(0, 0, 0, 0.3));\n",
              "      fill: #FFFFFF;\n",
              "    }\n",
              "  </style>\n",
              "\n",
              "      <script>\n",
              "        const buttonEl =\n",
              "          document.querySelector('#df-f0435dc3-3e32-4165-8959-8e2da139e13d button.colab-df-convert');\n",
              "        buttonEl.style.display =\n",
              "          google.colab.kernel.accessAllowed ? 'block' : 'none';\n",
              "\n",
              "        async function convertToInteractive(key) {\n",
              "          const element = document.querySelector('#df-f0435dc3-3e32-4165-8959-8e2da139e13d');\n",
              "          const dataTable =\n",
              "            await google.colab.kernel.invokeFunction('convertToInteractive',\n",
              "                                                     [key], {});\n",
              "          if (!dataTable) return;\n",
              "\n",
              "          const docLinkHtml = 'Like what you see? Visit the ' +\n",
              "            '<a target=\"_blank\" href=https://colab.research.google.com/notebooks/data_table.ipynb>data table notebook</a>'\n",
              "            + ' to learn more about interactive tables.';\n",
              "          element.innerHTML = '';\n",
              "          dataTable['output_type'] = 'display_data';\n",
              "          await google.colab.output.renderOutput(dataTable, element);\n",
              "          const docLink = document.createElement('div');\n",
              "          docLink.innerHTML = docLinkHtml;\n",
              "          element.appendChild(docLink);\n",
              "        }\n",
              "      </script>\n",
              "    </div>\n",
              "  </div>\n",
              "  "
            ]
          },
          "metadata": {},
          "execution_count": 128
        }
      ]
    },
    {
      "cell_type": "code",
      "source": [
        "submit.to_csv('submit.csv', index=False)"
      ],
      "metadata": {
        "id": "jUevqvGYqnFt"
      },
      "execution_count": 129,
      "outputs": []
    }
  ]
}