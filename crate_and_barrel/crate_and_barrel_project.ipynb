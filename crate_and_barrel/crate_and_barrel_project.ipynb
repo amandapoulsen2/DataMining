{
  "nbformat": 4,
  "nbformat_minor": 0,
  "metadata": {
    "colab": {
      "provenance": [],
      "authorship_tag": "ABX9TyN328sq90QIlIV02xVrkYfu",
      "include_colab_link": true
    },
    "kernelspec": {
      "name": "python3",
      "display_name": "Python 3"
    },
    "language_info": {
      "name": "python"
    },
    "accelerator": "GPU",
    "gpuClass": "standard"
  },
  "cells": [
    {
      "cell_type": "markdown",
      "metadata": {
        "id": "view-in-github",
        "colab_type": "text"
      },
      "source": [
        "<a href=\"https://colab.research.google.com/github/mjpoulsen/ml-class/blob/main/crate_and_barrel_project.ipynb\" target=\"_parent\"><img src=\"https://colab.research.google.com/assets/colab-badge.svg\" alt=\"Open In Colab\"/></a>"
      ]
    },
    {
      "cell_type": "markdown",
      "source": [
        "# Crate and Barrel\n",
        "\n",
        "\n",
        "\n",
        "You can work by yourself or with a partner.\n",
        "\n",
        "\n",
        "\n",
        "![](https://raw.githubusercontent.com/zacharski/ml-class/master/labs/pics/CB_N_00370.jpg)\n",
        "\n",
        "We are going to use the datasets from the Kaggle Competition [Otto Group Product Classification Challenge](https://www.kaggle.com/c/otto-group-product-classification-challenge/data?select=train.csv). You will need to register with Kaggle to get the data. Download both the training and test sets.\n",
        "\n",
        "\n",
        "\n",
        "The following is the text from that page:\n",
        "\n",
        "\n",
        "\n",
        "----\n",
        "\n",
        "The Otto Group is one of the world’s biggest e-commerce companies, with subsidiaries in more than 20 countries, including Crate & Barrel (USA), Otto.de (Germany) and 3 Suisses (France). We are selling millions of products worldwide every day, with several thousand products being added to our product line.\n",
        "\n",
        "A consistent analysis of the performance of our products is crucial. However, due to our diverse global infrastructure, many identical products get classified differently. Therefore, the quality of our product analysis depends heavily on the ability to accurately cluster similar products. The better the classification, the more insights we can generate about our product range.\n",
        "\n",
        "![\n",
        "](https://storage.googleapis.com/kaggle-competitions/kaggle/4280/media/Grafik.jpg)\n",
        "\n",
        "For this competition, we have provided a dataset with 93 features for more than 200,000 products. The objective is to build a predictive model which is able to distinguish between our main product categories. The winning models will be open sourced.\n",
        "\n",
        "### Submission\n",
        "\n",
        "You will submit your solution to Kaggle using the Late Submission button. In your github repository place your code and your Kaggle results (an image is fine). If your code is a Python Jupyter Notebook make sure you have a writeup explaining your solution. If your code is just a source code file, have an additional readme file outlining and discussing your solution.\n",
        "\n",
        "\n",
        "\n",
        "### XP\n",
        "\n",
        "XP is based on having a solution that works, how you place in Kaggle, and how you place relative to others in the class. For this project you can work with a partner if you wish. If you do work with a partner, make sure your writeup outlines what each of you contributed to the project. "
      ],
      "metadata": {
        "id": "F7zUrLlXccqE"
      }
    },
    {
      "cell_type": "code",
      "source": [],
      "metadata": {
        "id": "ReNEeGgHWWAZ"
      },
      "execution_count": null,
      "outputs": []
    },
    {
      "cell_type": "code",
      "source": [],
      "metadata": {
        "id": "RaSENXWmWV3h"
      },
      "execution_count": null,
      "outputs": []
    },
    {
      "cell_type": "code",
      "source": [],
      "metadata": {
        "id": "1IJZi4aLWVuU"
      },
      "execution_count": null,
      "outputs": []
    },
    {
      "cell_type": "code",
      "source": [],
      "metadata": {
        "id": "6ss5whyhWVgy"
      },
      "execution_count": null,
      "outputs": []
    },
    {
      "cell_type": "markdown",
      "source": [
        "# Crate and Barrel Project\n",
        "\n",
        "This notebook will explore a Crate and Barrel product dataset supplied by Kaggle for a competition. The dataset contains features for the product and the class to which the product belongs. The notebook will explore the dataset and then build models to predict product classes.\n",
        "\n",
        "Contents:\n",
        "\n",
        "1.   Import Necessary Libraries\n",
        "2.   Import the Data\n",
        "3.   Data Analysis\n",
        "4.   Data Visualization\n",
        "5.   Cleaning Data\n",
        "6.   Base Model\n",
        "7.   Dense Neural Network (DNN)\n",
        "8.   Conclusion\n",
        "9.   Kaggle Submission\n",
        "\n"
      ],
      "metadata": {
        "id": "741-CHxRRi_i"
      }
    },
    {
      "cell_type": "markdown",
      "source": [
        "## 1) Import Necessary Libraries\n",
        "\n",
        "### Runtime\n",
        "\n",
        "Before we import libraries, let's ensure the runtime for this notebook is set to GPU. Without the GPU runtime, the Dense Neural Network (DNN) will not run.\n",
        "\n",
        "If the following command produces a failure, do not proceed until the runtime has been set to GPU."
      ],
      "metadata": {
        "id": "fu0MsINPSv7l"
      }
    },
    {
      "cell_type": "code",
      "source": [
        "# Prove this notebook has GPU has the runtime type. If this fails, DNN will not work.\n",
        "!nvidia-smi"
      ],
      "metadata": {
        "id": "W9UXvRaiLUev",
        "colab": {
          "base_uri": "https://localhost:8080/"
        },
        "outputId": "b1b8190a-e02c-4e13-9407-13d91d530766"
      },
      "execution_count": null,
      "outputs": [
        {
          "output_type": "stream",
          "name": "stdout",
          "text": [
            "Sun Nov 20 19:20:42 2022       \n",
            "+-----------------------------------------------------------------------------+\n",
            "| NVIDIA-SMI 460.32.03    Driver Version: 460.32.03    CUDA Version: 11.2     |\n",
            "|-------------------------------+----------------------+----------------------+\n",
            "| GPU  Name        Persistence-M| Bus-Id        Disp.A | Volatile Uncorr. ECC |\n",
            "| Fan  Temp  Perf  Pwr:Usage/Cap|         Memory-Usage | GPU-Util  Compute M. |\n",
            "|                               |                      |               MIG M. |\n",
            "|===============================+======================+======================|\n",
            "|   0  Tesla T4            Off  | 00000000:00:04.0 Off |                    0 |\n",
            "| N/A   41C    P8     9W /  70W |      0MiB / 15109MiB |      0%      Default |\n",
            "|                               |                      |                  N/A |\n",
            "+-------------------------------+----------------------+----------------------+\n",
            "                                                                               \n",
            "+-----------------------------------------------------------------------------+\n",
            "| Processes:                                                                  |\n",
            "|  GPU   GI   CI        PID   Type   Process name                  GPU Memory |\n",
            "|        ID   ID                                                   Usage      |\n",
            "|=============================================================================|\n",
            "|  No running processes found                                                 |\n",
            "+-----------------------------------------------------------------------------+\n"
          ]
        }
      ]
    },
    {
      "cell_type": "markdown",
      "source": [
        "### Import Libraries\n",
        "\n",
        "This project will utilize various data anaylsis and machine learning Python libraries.\n",
        "\n"
      ],
      "metadata": {
        "id": "IW2JahfwT22d"
      }
    },
    {
      "cell_type": "code",
      "source": [
        "# Data analysis libraries\n",
        "import pandas as pd\n",
        "import numpy as np\n",
        "\n",
        "# Visualizing data\n",
        "import seaborn as sns\n",
        "\n",
        "# Machine learning libraries\n",
        "from sklearn.preprocessing import MinMaxScaler\n",
        "from sklearn.model_selection import train_test_split\n",
        "from sklearn.neighbors import KNeighborsClassifier\n",
        "from sklearn.metrics import accuracy_score\n",
        "from keras import models, layers, optimizers\n",
        "from keras.utils import to_categorical"
      ],
      "metadata": {
        "id": "CAzT7RLbcxBW"
      },
      "execution_count": null,
      "outputs": []
    },
    {
      "cell_type": "markdown",
      "source": [
        "## 2) Import the Data\n"
      ],
      "metadata": {
        "id": "4-lmZu3JWlM4"
      }
    },
    {
      "cell_type": "markdown",
      "source": [
        "### Upload Data\n",
        "\n",
        "Upload `train.csv`, `test.csv`, and `sampleSubmission.csv` to the local drive. These csv file can be found by downloading them from Kaggle: https://www.kaggle.com/c/otto-group-product-classification-challenge/data?select=train.csv.\n",
        "\n",
        "Note, the csv files can only be downloaded after registration."
      ],
      "metadata": {
        "id": "SXfAxQlEVIA6"
      }
    },
    {
      "cell_type": "code",
      "source": [
        "# Show train.csv, test.csv, and sampleSubmission.csv exists locally\n",
        "!ls"
      ],
      "metadata": {
        "colab": {
          "base_uri": "https://localhost:8080/"
        },
        "id": "IOhGnlwGcvOQ",
        "outputId": "759e3287-e799-433e-adff-57a54263044d"
      },
      "execution_count": null,
      "outputs": [
        {
          "output_type": "stream",
          "name": "stdout",
          "text": [
            "sample_data  sampleSubmission.csv  test.csv  train.csv\n"
          ]
        }
      ]
    },
    {
      "cell_type": "markdown",
      "source": [
        "### Pandas\n",
        "\n",
        "[Pandas](https://pandas.pydata.org/docs/reference/index.html) provides an easy way to read the contents of a csv file and instantiate an object, in this case a [DataFrame](https://pandas.pydata.org/docs/reference/api/pandas.DataFrame.html), that allows for easy manipulation of data. Plus, the machine learning libraries used in this notebook expect the data to be in a 2d array, which is how the contents are store in the DataFrame."
      ],
      "metadata": {
        "id": "57amNmjZEC05"
      }
    },
    {
      "cell_type": "code",
      "source": [
        "# Instantiate train dataframe\n",
        "train = pd.read_csv('train.csv')\n",
        "train"
      ],
      "metadata": {
        "colab": {
          "base_uri": "https://localhost:8080/",
          "height": 424
        },
        "id": "YPC5LS73c2pO",
        "outputId": "e301fb51-4b29-44e2-a6e1-1b1e13a35073"
      },
      "execution_count": null,
      "outputs": [
        {
          "output_type": "execute_result",
          "data": {
            "text/plain": [
              "          id  feat_1  feat_2  feat_3  feat_4  feat_5  feat_6  feat_7  feat_8  \\\n",
              "0          1       1       0       0       0       0       0       0       0   \n",
              "1          2       0       0       0       0       0       0       0       1   \n",
              "2          3       0       0       0       0       0       0       0       1   \n",
              "3          4       1       0       0       1       6       1       5       0   \n",
              "4          5       0       0       0       0       0       0       0       0   \n",
              "...      ...     ...     ...     ...     ...     ...     ...     ...     ...   \n",
              "61873  61874       1       0       0       1       1       0       0       0   \n",
              "61874  61875       4       0       0       0       0       0       0       0   \n",
              "61875  61876       0       0       0       0       0       0       0       3   \n",
              "61876  61877       1       0       0       0       0       0       0       0   \n",
              "61877  61878       0       0       0       0       0       0       0       0   \n",
              "\n",
              "       feat_9  ...  feat_85  feat_86  feat_87  feat_88  feat_89  feat_90  \\\n",
              "0           0  ...        1        0        0        0        0        0   \n",
              "1           0  ...        0        0        0        0        0        0   \n",
              "2           0  ...        0        0        0        0        0        0   \n",
              "3           0  ...        0        1        2        0        0        0   \n",
              "4           0  ...        1        0        0        0        0        1   \n",
              "...       ...  ...      ...      ...      ...      ...      ...      ...   \n",
              "61873       0  ...        1        0        0        0        0        0   \n",
              "61874       0  ...        0        2        0        0        2        0   \n",
              "61875       1  ...        0        3        1        0        0        0   \n",
              "61876       0  ...        0        0        0        0        1        0   \n",
              "61877       0  ...        0        0        0        0        0        0   \n",
              "\n",
              "       feat_91  feat_92  feat_93   target  \n",
              "0            0        0        0  Class_1  \n",
              "1            0        0        0  Class_1  \n",
              "2            0        0        0  Class_1  \n",
              "3            0        0        0  Class_1  \n",
              "4            0        0        0  Class_1  \n",
              "...        ...      ...      ...      ...  \n",
              "61873        0        2        0  Class_9  \n",
              "61874        0        1        0  Class_9  \n",
              "61875        0        0        0  Class_9  \n",
              "61876        3       10        0  Class_9  \n",
              "61877        0        2        0  Class_9  \n",
              "\n",
              "[61878 rows x 95 columns]"
            ],
            "text/html": [
              "\n",
              "  <div id=\"df-b7ed517c-7e41-4c15-b98f-832d478c9a1e\">\n",
              "    <div class=\"colab-df-container\">\n",
              "      <div>\n",
              "<style scoped>\n",
              "    .dataframe tbody tr th:only-of-type {\n",
              "        vertical-align: middle;\n",
              "    }\n",
              "\n",
              "    .dataframe tbody tr th {\n",
              "        vertical-align: top;\n",
              "    }\n",
              "\n",
              "    .dataframe thead th {\n",
              "        text-align: right;\n",
              "    }\n",
              "</style>\n",
              "<table border=\"1\" class=\"dataframe\">\n",
              "  <thead>\n",
              "    <tr style=\"text-align: right;\">\n",
              "      <th></th>\n",
              "      <th>id</th>\n",
              "      <th>feat_1</th>\n",
              "      <th>feat_2</th>\n",
              "      <th>feat_3</th>\n",
              "      <th>feat_4</th>\n",
              "      <th>feat_5</th>\n",
              "      <th>feat_6</th>\n",
              "      <th>feat_7</th>\n",
              "      <th>feat_8</th>\n",
              "      <th>feat_9</th>\n",
              "      <th>...</th>\n",
              "      <th>feat_85</th>\n",
              "      <th>feat_86</th>\n",
              "      <th>feat_87</th>\n",
              "      <th>feat_88</th>\n",
              "      <th>feat_89</th>\n",
              "      <th>feat_90</th>\n",
              "      <th>feat_91</th>\n",
              "      <th>feat_92</th>\n",
              "      <th>feat_93</th>\n",
              "      <th>target</th>\n",
              "    </tr>\n",
              "  </thead>\n",
              "  <tbody>\n",
              "    <tr>\n",
              "      <th>0</th>\n",
              "      <td>1</td>\n",
              "      <td>1</td>\n",
              "      <td>0</td>\n",
              "      <td>0</td>\n",
              "      <td>0</td>\n",
              "      <td>0</td>\n",
              "      <td>0</td>\n",
              "      <td>0</td>\n",
              "      <td>0</td>\n",
              "      <td>0</td>\n",
              "      <td>...</td>\n",
              "      <td>1</td>\n",
              "      <td>0</td>\n",
              "      <td>0</td>\n",
              "      <td>0</td>\n",
              "      <td>0</td>\n",
              "      <td>0</td>\n",
              "      <td>0</td>\n",
              "      <td>0</td>\n",
              "      <td>0</td>\n",
              "      <td>Class_1</td>\n",
              "    </tr>\n",
              "    <tr>\n",
              "      <th>1</th>\n",
              "      <td>2</td>\n",
              "      <td>0</td>\n",
              "      <td>0</td>\n",
              "      <td>0</td>\n",
              "      <td>0</td>\n",
              "      <td>0</td>\n",
              "      <td>0</td>\n",
              "      <td>0</td>\n",
              "      <td>1</td>\n",
              "      <td>0</td>\n",
              "      <td>...</td>\n",
              "      <td>0</td>\n",
              "      <td>0</td>\n",
              "      <td>0</td>\n",
              "      <td>0</td>\n",
              "      <td>0</td>\n",
              "      <td>0</td>\n",
              "      <td>0</td>\n",
              "      <td>0</td>\n",
              "      <td>0</td>\n",
              "      <td>Class_1</td>\n",
              "    </tr>\n",
              "    <tr>\n",
              "      <th>2</th>\n",
              "      <td>3</td>\n",
              "      <td>0</td>\n",
              "      <td>0</td>\n",
              "      <td>0</td>\n",
              "      <td>0</td>\n",
              "      <td>0</td>\n",
              "      <td>0</td>\n",
              "      <td>0</td>\n",
              "      <td>1</td>\n",
              "      <td>0</td>\n",
              "      <td>...</td>\n",
              "      <td>0</td>\n",
              "      <td>0</td>\n",
              "      <td>0</td>\n",
              "      <td>0</td>\n",
              "      <td>0</td>\n",
              "      <td>0</td>\n",
              "      <td>0</td>\n",
              "      <td>0</td>\n",
              "      <td>0</td>\n",
              "      <td>Class_1</td>\n",
              "    </tr>\n",
              "    <tr>\n",
              "      <th>3</th>\n",
              "      <td>4</td>\n",
              "      <td>1</td>\n",
              "      <td>0</td>\n",
              "      <td>0</td>\n",
              "      <td>1</td>\n",
              "      <td>6</td>\n",
              "      <td>1</td>\n",
              "      <td>5</td>\n",
              "      <td>0</td>\n",
              "      <td>0</td>\n",
              "      <td>...</td>\n",
              "      <td>0</td>\n",
              "      <td>1</td>\n",
              "      <td>2</td>\n",
              "      <td>0</td>\n",
              "      <td>0</td>\n",
              "      <td>0</td>\n",
              "      <td>0</td>\n",
              "      <td>0</td>\n",
              "      <td>0</td>\n",
              "      <td>Class_1</td>\n",
              "    </tr>\n",
              "    <tr>\n",
              "      <th>4</th>\n",
              "      <td>5</td>\n",
              "      <td>0</td>\n",
              "      <td>0</td>\n",
              "      <td>0</td>\n",
              "      <td>0</td>\n",
              "      <td>0</td>\n",
              "      <td>0</td>\n",
              "      <td>0</td>\n",
              "      <td>0</td>\n",
              "      <td>0</td>\n",
              "      <td>...</td>\n",
              "      <td>1</td>\n",
              "      <td>0</td>\n",
              "      <td>0</td>\n",
              "      <td>0</td>\n",
              "      <td>0</td>\n",
              "      <td>1</td>\n",
              "      <td>0</td>\n",
              "      <td>0</td>\n",
              "      <td>0</td>\n",
              "      <td>Class_1</td>\n",
              "    </tr>\n",
              "    <tr>\n",
              "      <th>...</th>\n",
              "      <td>...</td>\n",
              "      <td>...</td>\n",
              "      <td>...</td>\n",
              "      <td>...</td>\n",
              "      <td>...</td>\n",
              "      <td>...</td>\n",
              "      <td>...</td>\n",
              "      <td>...</td>\n",
              "      <td>...</td>\n",
              "      <td>...</td>\n",
              "      <td>...</td>\n",
              "      <td>...</td>\n",
              "      <td>...</td>\n",
              "      <td>...</td>\n",
              "      <td>...</td>\n",
              "      <td>...</td>\n",
              "      <td>...</td>\n",
              "      <td>...</td>\n",
              "      <td>...</td>\n",
              "      <td>...</td>\n",
              "      <td>...</td>\n",
              "    </tr>\n",
              "    <tr>\n",
              "      <th>61873</th>\n",
              "      <td>61874</td>\n",
              "      <td>1</td>\n",
              "      <td>0</td>\n",
              "      <td>0</td>\n",
              "      <td>1</td>\n",
              "      <td>1</td>\n",
              "      <td>0</td>\n",
              "      <td>0</td>\n",
              "      <td>0</td>\n",
              "      <td>0</td>\n",
              "      <td>...</td>\n",
              "      <td>1</td>\n",
              "      <td>0</td>\n",
              "      <td>0</td>\n",
              "      <td>0</td>\n",
              "      <td>0</td>\n",
              "      <td>0</td>\n",
              "      <td>0</td>\n",
              "      <td>2</td>\n",
              "      <td>0</td>\n",
              "      <td>Class_9</td>\n",
              "    </tr>\n",
              "    <tr>\n",
              "      <th>61874</th>\n",
              "      <td>61875</td>\n",
              "      <td>4</td>\n",
              "      <td>0</td>\n",
              "      <td>0</td>\n",
              "      <td>0</td>\n",
              "      <td>0</td>\n",
              "      <td>0</td>\n",
              "      <td>0</td>\n",
              "      <td>0</td>\n",
              "      <td>0</td>\n",
              "      <td>...</td>\n",
              "      <td>0</td>\n",
              "      <td>2</td>\n",
              "      <td>0</td>\n",
              "      <td>0</td>\n",
              "      <td>2</td>\n",
              "      <td>0</td>\n",
              "      <td>0</td>\n",
              "      <td>1</td>\n",
              "      <td>0</td>\n",
              "      <td>Class_9</td>\n",
              "    </tr>\n",
              "    <tr>\n",
              "      <th>61875</th>\n",
              "      <td>61876</td>\n",
              "      <td>0</td>\n",
              "      <td>0</td>\n",
              "      <td>0</td>\n",
              "      <td>0</td>\n",
              "      <td>0</td>\n",
              "      <td>0</td>\n",
              "      <td>0</td>\n",
              "      <td>3</td>\n",
              "      <td>1</td>\n",
              "      <td>...</td>\n",
              "      <td>0</td>\n",
              "      <td>3</td>\n",
              "      <td>1</td>\n",
              "      <td>0</td>\n",
              "      <td>0</td>\n",
              "      <td>0</td>\n",
              "      <td>0</td>\n",
              "      <td>0</td>\n",
              "      <td>0</td>\n",
              "      <td>Class_9</td>\n",
              "    </tr>\n",
              "    <tr>\n",
              "      <th>61876</th>\n",
              "      <td>61877</td>\n",
              "      <td>1</td>\n",
              "      <td>0</td>\n",
              "      <td>0</td>\n",
              "      <td>0</td>\n",
              "      <td>0</td>\n",
              "      <td>0</td>\n",
              "      <td>0</td>\n",
              "      <td>0</td>\n",
              "      <td>0</td>\n",
              "      <td>...</td>\n",
              "      <td>0</td>\n",
              "      <td>0</td>\n",
              "      <td>0</td>\n",
              "      <td>0</td>\n",
              "      <td>1</td>\n",
              "      <td>0</td>\n",
              "      <td>3</td>\n",
              "      <td>10</td>\n",
              "      <td>0</td>\n",
              "      <td>Class_9</td>\n",
              "    </tr>\n",
              "    <tr>\n",
              "      <th>61877</th>\n",
              "      <td>61878</td>\n",
              "      <td>0</td>\n",
              "      <td>0</td>\n",
              "      <td>0</td>\n",
              "      <td>0</td>\n",
              "      <td>0</td>\n",
              "      <td>0</td>\n",
              "      <td>0</td>\n",
              "      <td>0</td>\n",
              "      <td>0</td>\n",
              "      <td>...</td>\n",
              "      <td>0</td>\n",
              "      <td>0</td>\n",
              "      <td>0</td>\n",
              "      <td>0</td>\n",
              "      <td>0</td>\n",
              "      <td>0</td>\n",
              "      <td>0</td>\n",
              "      <td>2</td>\n",
              "      <td>0</td>\n",
              "      <td>Class_9</td>\n",
              "    </tr>\n",
              "  </tbody>\n",
              "</table>\n",
              "<p>61878 rows × 95 columns</p>\n",
              "</div>\n",
              "      <button class=\"colab-df-convert\" onclick=\"convertToInteractive('df-b7ed517c-7e41-4c15-b98f-832d478c9a1e')\"\n",
              "              title=\"Convert this dataframe to an interactive table.\"\n",
              "              style=\"display:none;\">\n",
              "        \n",
              "  <svg xmlns=\"http://www.w3.org/2000/svg\" height=\"24px\"viewBox=\"0 0 24 24\"\n",
              "       width=\"24px\">\n",
              "    <path d=\"M0 0h24v24H0V0z\" fill=\"none\"/>\n",
              "    <path d=\"M18.56 5.44l.94 2.06.94-2.06 2.06-.94-2.06-.94-.94-2.06-.94 2.06-2.06.94zm-11 1L8.5 8.5l.94-2.06 2.06-.94-2.06-.94L8.5 2.5l-.94 2.06-2.06.94zm10 10l.94 2.06.94-2.06 2.06-.94-2.06-.94-.94-2.06-.94 2.06-2.06.94z\"/><path d=\"M17.41 7.96l-1.37-1.37c-.4-.4-.92-.59-1.43-.59-.52 0-1.04.2-1.43.59L10.3 9.45l-7.72 7.72c-.78.78-.78 2.05 0 2.83L4 21.41c.39.39.9.59 1.41.59.51 0 1.02-.2 1.41-.59l7.78-7.78 2.81-2.81c.8-.78.8-2.07 0-2.86zM5.41 20L4 18.59l7.72-7.72 1.47 1.35L5.41 20z\"/>\n",
              "  </svg>\n",
              "      </button>\n",
              "      \n",
              "  <style>\n",
              "    .colab-df-container {\n",
              "      display:flex;\n",
              "      flex-wrap:wrap;\n",
              "      gap: 12px;\n",
              "    }\n",
              "\n",
              "    .colab-df-convert {\n",
              "      background-color: #E8F0FE;\n",
              "      border: none;\n",
              "      border-radius: 50%;\n",
              "      cursor: pointer;\n",
              "      display: none;\n",
              "      fill: #1967D2;\n",
              "      height: 32px;\n",
              "      padding: 0 0 0 0;\n",
              "      width: 32px;\n",
              "    }\n",
              "\n",
              "    .colab-df-convert:hover {\n",
              "      background-color: #E2EBFA;\n",
              "      box-shadow: 0px 1px 2px rgba(60, 64, 67, 0.3), 0px 1px 3px 1px rgba(60, 64, 67, 0.15);\n",
              "      fill: #174EA6;\n",
              "    }\n",
              "\n",
              "    [theme=dark] .colab-df-convert {\n",
              "      background-color: #3B4455;\n",
              "      fill: #D2E3FC;\n",
              "    }\n",
              "\n",
              "    [theme=dark] .colab-df-convert:hover {\n",
              "      background-color: #434B5C;\n",
              "      box-shadow: 0px 1px 3px 1px rgba(0, 0, 0, 0.15);\n",
              "      filter: drop-shadow(0px 1px 2px rgba(0, 0, 0, 0.3));\n",
              "      fill: #FFFFFF;\n",
              "    }\n",
              "  </style>\n",
              "\n",
              "      <script>\n",
              "        const buttonEl =\n",
              "          document.querySelector('#df-b7ed517c-7e41-4c15-b98f-832d478c9a1e button.colab-df-convert');\n",
              "        buttonEl.style.display =\n",
              "          google.colab.kernel.accessAllowed ? 'block' : 'none';\n",
              "\n",
              "        async function convertToInteractive(key) {\n",
              "          const element = document.querySelector('#df-b7ed517c-7e41-4c15-b98f-832d478c9a1e');\n",
              "          const dataTable =\n",
              "            await google.colab.kernel.invokeFunction('convertToInteractive',\n",
              "                                                     [key], {});\n",
              "          if (!dataTable) return;\n",
              "\n",
              "          const docLinkHtml = 'Like what you see? Visit the ' +\n",
              "            '<a target=\"_blank\" href=https://colab.research.google.com/notebooks/data_table.ipynb>data table notebook</a>'\n",
              "            + ' to learn more about interactive tables.';\n",
              "          element.innerHTML = '';\n",
              "          dataTable['output_type'] = 'display_data';\n",
              "          await google.colab.output.renderOutput(dataTable, element);\n",
              "          const docLink = document.createElement('div');\n",
              "          docLink.innerHTML = docLinkHtml;\n",
              "          element.appendChild(docLink);\n",
              "        }\n",
              "      </script>\n",
              "    </div>\n",
              "  </div>\n",
              "  "
            ]
          },
          "metadata": {},
          "execution_count": 16
        }
      ]
    },
    {
      "cell_type": "code",
      "source": [
        "# Instantiate test dataframe\n",
        "test = pd.read_csv('test.csv')\n",
        "test"
      ],
      "metadata": {
        "colab": {
          "base_uri": "https://localhost:8080/",
          "height": 424
        },
        "id": "CDDlV18ieUbe",
        "outputId": "a0f4ef1c-af99-46b8-f227-65fef7501894"
      },
      "execution_count": null,
      "outputs": [
        {
          "output_type": "execute_result",
          "data": {
            "text/plain": [
              "            id  feat_1  feat_2  feat_3  feat_4  feat_5  feat_6  feat_7  \\\n",
              "0            1       0       0       0       0       0       0       0   \n",
              "1            2       2       2      14      16       0       0       0   \n",
              "2            3       0       1      12       1       0       0       0   \n",
              "3            4       0       0       0       1       0       0       0   \n",
              "4            5       1       0       0       1       0       0       1   \n",
              "...        ...     ...     ...     ...     ...     ...     ...     ...   \n",
              "144363  144364       0       0       0       0       0       0       0   \n",
              "144364  144365       0       0       0       0       0       0       0   \n",
              "144365  144366       0       1       0       0       0       0       1   \n",
              "144366  144367       0       0       0       0       0       0       0   \n",
              "144367  144368       0       0       0       0       0       0       0   \n",
              "\n",
              "        feat_8  feat_9  ...  feat_84  feat_85  feat_86  feat_87  feat_88  \\\n",
              "0            0       0  ...        0        0       11        1       20   \n",
              "1            0       0  ...        0        0        0        0        0   \n",
              "2            0       0  ...        0        0        0        0        2   \n",
              "3            0       0  ...        0        3        1        0        0   \n",
              "4            2       0  ...        0        0        0        0        0   \n",
              "...        ...     ...  ...      ...      ...      ...      ...      ...   \n",
              "144363       0       0  ...        0        0        2        1        1   \n",
              "144364       0       0  ...        0        1        4        1       11   \n",
              "144365       1       0  ...        0        1        3        1        1   \n",
              "144366       0       0  ...        0        0        0        0        5   \n",
              "144367       0       0  ...        0        0        9        1        6   \n",
              "\n",
              "        feat_89  feat_90  feat_91  feat_92  feat_93  \n",
              "0             0        0        0        0        0  \n",
              "1             4        0        0        2        0  \n",
              "2             0        0        0        0        1  \n",
              "3             0        0        0        0        0  \n",
              "4             0        0        9        0        0  \n",
              "...         ...      ...      ...      ...      ...  \n",
              "144363        0        0        0        0        0  \n",
              "144364        0        0        0        0        0  \n",
              "144365        0        0        1        0        0  \n",
              "144366        0        0        0        1        0  \n",
              "144367        0        0        0        0        0  \n",
              "\n",
              "[144368 rows x 94 columns]"
            ],
            "text/html": [
              "\n",
              "  <div id=\"df-80a3bb55-3f01-4213-aacc-b7a5bdc477ee\">\n",
              "    <div class=\"colab-df-container\">\n",
              "      <div>\n",
              "<style scoped>\n",
              "    .dataframe tbody tr th:only-of-type {\n",
              "        vertical-align: middle;\n",
              "    }\n",
              "\n",
              "    .dataframe tbody tr th {\n",
              "        vertical-align: top;\n",
              "    }\n",
              "\n",
              "    .dataframe thead th {\n",
              "        text-align: right;\n",
              "    }\n",
              "</style>\n",
              "<table border=\"1\" class=\"dataframe\">\n",
              "  <thead>\n",
              "    <tr style=\"text-align: right;\">\n",
              "      <th></th>\n",
              "      <th>id</th>\n",
              "      <th>feat_1</th>\n",
              "      <th>feat_2</th>\n",
              "      <th>feat_3</th>\n",
              "      <th>feat_4</th>\n",
              "      <th>feat_5</th>\n",
              "      <th>feat_6</th>\n",
              "      <th>feat_7</th>\n",
              "      <th>feat_8</th>\n",
              "      <th>feat_9</th>\n",
              "      <th>...</th>\n",
              "      <th>feat_84</th>\n",
              "      <th>feat_85</th>\n",
              "      <th>feat_86</th>\n",
              "      <th>feat_87</th>\n",
              "      <th>feat_88</th>\n",
              "      <th>feat_89</th>\n",
              "      <th>feat_90</th>\n",
              "      <th>feat_91</th>\n",
              "      <th>feat_92</th>\n",
              "      <th>feat_93</th>\n",
              "    </tr>\n",
              "  </thead>\n",
              "  <tbody>\n",
              "    <tr>\n",
              "      <th>0</th>\n",
              "      <td>1</td>\n",
              "      <td>0</td>\n",
              "      <td>0</td>\n",
              "      <td>0</td>\n",
              "      <td>0</td>\n",
              "      <td>0</td>\n",
              "      <td>0</td>\n",
              "      <td>0</td>\n",
              "      <td>0</td>\n",
              "      <td>0</td>\n",
              "      <td>...</td>\n",
              "      <td>0</td>\n",
              "      <td>0</td>\n",
              "      <td>11</td>\n",
              "      <td>1</td>\n",
              "      <td>20</td>\n",
              "      <td>0</td>\n",
              "      <td>0</td>\n",
              "      <td>0</td>\n",
              "      <td>0</td>\n",
              "      <td>0</td>\n",
              "    </tr>\n",
              "    <tr>\n",
              "      <th>1</th>\n",
              "      <td>2</td>\n",
              "      <td>2</td>\n",
              "      <td>2</td>\n",
              "      <td>14</td>\n",
              "      <td>16</td>\n",
              "      <td>0</td>\n",
              "      <td>0</td>\n",
              "      <td>0</td>\n",
              "      <td>0</td>\n",
              "      <td>0</td>\n",
              "      <td>...</td>\n",
              "      <td>0</td>\n",
              "      <td>0</td>\n",
              "      <td>0</td>\n",
              "      <td>0</td>\n",
              "      <td>0</td>\n",
              "      <td>4</td>\n",
              "      <td>0</td>\n",
              "      <td>0</td>\n",
              "      <td>2</td>\n",
              "      <td>0</td>\n",
              "    </tr>\n",
              "    <tr>\n",
              "      <th>2</th>\n",
              "      <td>3</td>\n",
              "      <td>0</td>\n",
              "      <td>1</td>\n",
              "      <td>12</td>\n",
              "      <td>1</td>\n",
              "      <td>0</td>\n",
              "      <td>0</td>\n",
              "      <td>0</td>\n",
              "      <td>0</td>\n",
              "      <td>0</td>\n",
              "      <td>...</td>\n",
              "      <td>0</td>\n",
              "      <td>0</td>\n",
              "      <td>0</td>\n",
              "      <td>0</td>\n",
              "      <td>2</td>\n",
              "      <td>0</td>\n",
              "      <td>0</td>\n",
              "      <td>0</td>\n",
              "      <td>0</td>\n",
              "      <td>1</td>\n",
              "    </tr>\n",
              "    <tr>\n",
              "      <th>3</th>\n",
              "      <td>4</td>\n",
              "      <td>0</td>\n",
              "      <td>0</td>\n",
              "      <td>0</td>\n",
              "      <td>1</td>\n",
              "      <td>0</td>\n",
              "      <td>0</td>\n",
              "      <td>0</td>\n",
              "      <td>0</td>\n",
              "      <td>0</td>\n",
              "      <td>...</td>\n",
              "      <td>0</td>\n",
              "      <td>3</td>\n",
              "      <td>1</td>\n",
              "      <td>0</td>\n",
              "      <td>0</td>\n",
              "      <td>0</td>\n",
              "      <td>0</td>\n",
              "      <td>0</td>\n",
              "      <td>0</td>\n",
              "      <td>0</td>\n",
              "    </tr>\n",
              "    <tr>\n",
              "      <th>4</th>\n",
              "      <td>5</td>\n",
              "      <td>1</td>\n",
              "      <td>0</td>\n",
              "      <td>0</td>\n",
              "      <td>1</td>\n",
              "      <td>0</td>\n",
              "      <td>0</td>\n",
              "      <td>1</td>\n",
              "      <td>2</td>\n",
              "      <td>0</td>\n",
              "      <td>...</td>\n",
              "      <td>0</td>\n",
              "      <td>0</td>\n",
              "      <td>0</td>\n",
              "      <td>0</td>\n",
              "      <td>0</td>\n",
              "      <td>0</td>\n",
              "      <td>0</td>\n",
              "      <td>9</td>\n",
              "      <td>0</td>\n",
              "      <td>0</td>\n",
              "    </tr>\n",
              "    <tr>\n",
              "      <th>...</th>\n",
              "      <td>...</td>\n",
              "      <td>...</td>\n",
              "      <td>...</td>\n",
              "      <td>...</td>\n",
              "      <td>...</td>\n",
              "      <td>...</td>\n",
              "      <td>...</td>\n",
              "      <td>...</td>\n",
              "      <td>...</td>\n",
              "      <td>...</td>\n",
              "      <td>...</td>\n",
              "      <td>...</td>\n",
              "      <td>...</td>\n",
              "      <td>...</td>\n",
              "      <td>...</td>\n",
              "      <td>...</td>\n",
              "      <td>...</td>\n",
              "      <td>...</td>\n",
              "      <td>...</td>\n",
              "      <td>...</td>\n",
              "      <td>...</td>\n",
              "    </tr>\n",
              "    <tr>\n",
              "      <th>144363</th>\n",
              "      <td>144364</td>\n",
              "      <td>0</td>\n",
              "      <td>0</td>\n",
              "      <td>0</td>\n",
              "      <td>0</td>\n",
              "      <td>0</td>\n",
              "      <td>0</td>\n",
              "      <td>0</td>\n",
              "      <td>0</td>\n",
              "      <td>0</td>\n",
              "      <td>...</td>\n",
              "      <td>0</td>\n",
              "      <td>0</td>\n",
              "      <td>2</td>\n",
              "      <td>1</td>\n",
              "      <td>1</td>\n",
              "      <td>0</td>\n",
              "      <td>0</td>\n",
              "      <td>0</td>\n",
              "      <td>0</td>\n",
              "      <td>0</td>\n",
              "    </tr>\n",
              "    <tr>\n",
              "      <th>144364</th>\n",
              "      <td>144365</td>\n",
              "      <td>0</td>\n",
              "      <td>0</td>\n",
              "      <td>0</td>\n",
              "      <td>0</td>\n",
              "      <td>0</td>\n",
              "      <td>0</td>\n",
              "      <td>0</td>\n",
              "      <td>0</td>\n",
              "      <td>0</td>\n",
              "      <td>...</td>\n",
              "      <td>0</td>\n",
              "      <td>1</td>\n",
              "      <td>4</td>\n",
              "      <td>1</td>\n",
              "      <td>11</td>\n",
              "      <td>0</td>\n",
              "      <td>0</td>\n",
              "      <td>0</td>\n",
              "      <td>0</td>\n",
              "      <td>0</td>\n",
              "    </tr>\n",
              "    <tr>\n",
              "      <th>144365</th>\n",
              "      <td>144366</td>\n",
              "      <td>0</td>\n",
              "      <td>1</td>\n",
              "      <td>0</td>\n",
              "      <td>0</td>\n",
              "      <td>0</td>\n",
              "      <td>0</td>\n",
              "      <td>1</td>\n",
              "      <td>1</td>\n",
              "      <td>0</td>\n",
              "      <td>...</td>\n",
              "      <td>0</td>\n",
              "      <td>1</td>\n",
              "      <td>3</td>\n",
              "      <td>1</td>\n",
              "      <td>1</td>\n",
              "      <td>0</td>\n",
              "      <td>0</td>\n",
              "      <td>1</td>\n",
              "      <td>0</td>\n",
              "      <td>0</td>\n",
              "    </tr>\n",
              "    <tr>\n",
              "      <th>144366</th>\n",
              "      <td>144367</td>\n",
              "      <td>0</td>\n",
              "      <td>0</td>\n",
              "      <td>0</td>\n",
              "      <td>0</td>\n",
              "      <td>0</td>\n",
              "      <td>0</td>\n",
              "      <td>0</td>\n",
              "      <td>0</td>\n",
              "      <td>0</td>\n",
              "      <td>...</td>\n",
              "      <td>0</td>\n",
              "      <td>0</td>\n",
              "      <td>0</td>\n",
              "      <td>0</td>\n",
              "      <td>5</td>\n",
              "      <td>0</td>\n",
              "      <td>0</td>\n",
              "      <td>0</td>\n",
              "      <td>1</td>\n",
              "      <td>0</td>\n",
              "    </tr>\n",
              "    <tr>\n",
              "      <th>144367</th>\n",
              "      <td>144368</td>\n",
              "      <td>0</td>\n",
              "      <td>0</td>\n",
              "      <td>0</td>\n",
              "      <td>0</td>\n",
              "      <td>0</td>\n",
              "      <td>0</td>\n",
              "      <td>0</td>\n",
              "      <td>0</td>\n",
              "      <td>0</td>\n",
              "      <td>...</td>\n",
              "      <td>0</td>\n",
              "      <td>0</td>\n",
              "      <td>9</td>\n",
              "      <td>1</td>\n",
              "      <td>6</td>\n",
              "      <td>0</td>\n",
              "      <td>0</td>\n",
              "      <td>0</td>\n",
              "      <td>0</td>\n",
              "      <td>0</td>\n",
              "    </tr>\n",
              "  </tbody>\n",
              "</table>\n",
              "<p>144368 rows × 94 columns</p>\n",
              "</div>\n",
              "      <button class=\"colab-df-convert\" onclick=\"convertToInteractive('df-80a3bb55-3f01-4213-aacc-b7a5bdc477ee')\"\n",
              "              title=\"Convert this dataframe to an interactive table.\"\n",
              "              style=\"display:none;\">\n",
              "        \n",
              "  <svg xmlns=\"http://www.w3.org/2000/svg\" height=\"24px\"viewBox=\"0 0 24 24\"\n",
              "       width=\"24px\">\n",
              "    <path d=\"M0 0h24v24H0V0z\" fill=\"none\"/>\n",
              "    <path d=\"M18.56 5.44l.94 2.06.94-2.06 2.06-.94-2.06-.94-.94-2.06-.94 2.06-2.06.94zm-11 1L8.5 8.5l.94-2.06 2.06-.94-2.06-.94L8.5 2.5l-.94 2.06-2.06.94zm10 10l.94 2.06.94-2.06 2.06-.94-2.06-.94-.94-2.06-.94 2.06-2.06.94z\"/><path d=\"M17.41 7.96l-1.37-1.37c-.4-.4-.92-.59-1.43-.59-.52 0-1.04.2-1.43.59L10.3 9.45l-7.72 7.72c-.78.78-.78 2.05 0 2.83L4 21.41c.39.39.9.59 1.41.59.51 0 1.02-.2 1.41-.59l7.78-7.78 2.81-2.81c.8-.78.8-2.07 0-2.86zM5.41 20L4 18.59l7.72-7.72 1.47 1.35L5.41 20z\"/>\n",
              "  </svg>\n",
              "      </button>\n",
              "      \n",
              "  <style>\n",
              "    .colab-df-container {\n",
              "      display:flex;\n",
              "      flex-wrap:wrap;\n",
              "      gap: 12px;\n",
              "    }\n",
              "\n",
              "    .colab-df-convert {\n",
              "      background-color: #E8F0FE;\n",
              "      border: none;\n",
              "      border-radius: 50%;\n",
              "      cursor: pointer;\n",
              "      display: none;\n",
              "      fill: #1967D2;\n",
              "      height: 32px;\n",
              "      padding: 0 0 0 0;\n",
              "      width: 32px;\n",
              "    }\n",
              "\n",
              "    .colab-df-convert:hover {\n",
              "      background-color: #E2EBFA;\n",
              "      box-shadow: 0px 1px 2px rgba(60, 64, 67, 0.3), 0px 1px 3px 1px rgba(60, 64, 67, 0.15);\n",
              "      fill: #174EA6;\n",
              "    }\n",
              "\n",
              "    [theme=dark] .colab-df-convert {\n",
              "      background-color: #3B4455;\n",
              "      fill: #D2E3FC;\n",
              "    }\n",
              "\n",
              "    [theme=dark] .colab-df-convert:hover {\n",
              "      background-color: #434B5C;\n",
              "      box-shadow: 0px 1px 3px 1px rgba(0, 0, 0, 0.15);\n",
              "      filter: drop-shadow(0px 1px 2px rgba(0, 0, 0, 0.3));\n",
              "      fill: #FFFFFF;\n",
              "    }\n",
              "  </style>\n",
              "\n",
              "      <script>\n",
              "        const buttonEl =\n",
              "          document.querySelector('#df-80a3bb55-3f01-4213-aacc-b7a5bdc477ee button.colab-df-convert');\n",
              "        buttonEl.style.display =\n",
              "          google.colab.kernel.accessAllowed ? 'block' : 'none';\n",
              "\n",
              "        async function convertToInteractive(key) {\n",
              "          const element = document.querySelector('#df-80a3bb55-3f01-4213-aacc-b7a5bdc477ee');\n",
              "          const dataTable =\n",
              "            await google.colab.kernel.invokeFunction('convertToInteractive',\n",
              "                                                     [key], {});\n",
              "          if (!dataTable) return;\n",
              "\n",
              "          const docLinkHtml = 'Like what you see? Visit the ' +\n",
              "            '<a target=\"_blank\" href=https://colab.research.google.com/notebooks/data_table.ipynb>data table notebook</a>'\n",
              "            + ' to learn more about interactive tables.';\n",
              "          element.innerHTML = '';\n",
              "          dataTable['output_type'] = 'display_data';\n",
              "          await google.colab.output.renderOutput(dataTable, element);\n",
              "          const docLink = document.createElement('div');\n",
              "          docLink.innerHTML = docLinkHtml;\n",
              "          element.appendChild(docLink);\n",
              "        }\n",
              "      </script>\n",
              "    </div>\n",
              "  </div>\n",
              "  "
            ]
          },
          "metadata": {},
          "execution_count": 17
        }
      ]
    },
    {
      "cell_type": "markdown",
      "source": [
        "Something to note about the `test.csv` dataset is that it does not include the `target` feature column.\n",
        "\n",
        "This is peeking a bit ahead, but the `target` feature is the `label` the machine learning models will try to predict. Also, given this project comes from a competition from Kaggle, it makes sense the `test.csv` does not have the labels. The competition (and a requirement of this project) requires the `sampleSubmission.csv` to be overridden with the predictions from a model, where the accuracy will be compared against other submissions."
      ],
      "metadata": {
        "id": "h6PjYzQT7Jsh"
      }
    },
    {
      "cell_type": "markdown",
      "source": [
        "## 3) Data Analysis\n",
        "\n"
      ],
      "metadata": {
        "id": "dv0LbZhPWtj_"
      }
    },
    {
      "cell_type": "markdown",
      "source": [
        "### Possible Features\n",
        "\n",
        "Before picking a model, the dataset's features need to be explored because the data should determine the type of learning, such as supervised vs. unsupervised."
      ],
      "metadata": {
        "id": "iMgxC6Ycjyqr"
      }
    },
    {
      "cell_type": "code",
      "source": [
        "# Print the possible features\n",
        "print(train.columns)"
      ],
      "metadata": {
        "colab": {
          "base_uri": "https://localhost:8080/"
        },
        "id": "Y9hiqjUCJjmy",
        "outputId": "40537315-eea3-4671-ed38-57296a22600a"
      },
      "execution_count": null,
      "outputs": [
        {
          "output_type": "stream",
          "name": "stdout",
          "text": [
            "Index(['id', 'feat_1', 'feat_2', 'feat_3', 'feat_4', 'feat_5', 'feat_6',\n",
            "       'feat_7', 'feat_8', 'feat_9', 'feat_10', 'feat_11', 'feat_12',\n",
            "       'feat_13', 'feat_14', 'feat_15', 'feat_16', 'feat_17', 'feat_18',\n",
            "       'feat_19', 'feat_20', 'feat_21', 'feat_22', 'feat_23', 'feat_24',\n",
            "       'feat_25', 'feat_26', 'feat_27', 'feat_28', 'feat_29', 'feat_30',\n",
            "       'feat_31', 'feat_32', 'feat_33', 'feat_34', 'feat_35', 'feat_36',\n",
            "       'feat_37', 'feat_38', 'feat_39', 'feat_40', 'feat_41', 'feat_42',\n",
            "       'feat_43', 'feat_44', 'feat_45', 'feat_46', 'feat_47', 'feat_48',\n",
            "       'feat_49', 'feat_50', 'feat_51', 'feat_52', 'feat_53', 'feat_54',\n",
            "       'feat_55', 'feat_56', 'feat_57', 'feat_58', 'feat_59', 'feat_60',\n",
            "       'feat_61', 'feat_62', 'feat_63', 'feat_64', 'feat_65', 'feat_66',\n",
            "       'feat_67', 'feat_68', 'feat_69', 'feat_70', 'feat_71', 'feat_72',\n",
            "       'feat_73', 'feat_74', 'feat_75', 'feat_76', 'feat_77', 'feat_78',\n",
            "       'feat_79', 'feat_80', 'feat_81', 'feat_82', 'feat_83', 'feat_84',\n",
            "       'feat_85', 'feat_86', 'feat_87', 'feat_88', 'feat_89', 'feat_90',\n",
            "       'feat_91', 'feat_92', 'feat_93', 'target'],\n",
            "      dtype='object')\n"
          ]
        }
      ]
    },
    {
      "cell_type": "markdown",
      "source": [
        "The dataset should have the following:\n",
        "```\n",
        "'id', 'feat_1', 'feat_2', 'feat_3', 'feat_4', 'feat_5', 'feat_6', 'feat_7', 'feat_8', 'feat_9', 'feat_10', 'feat_11', 'feat_12',\n",
        "'feat_13', 'feat_14', 'feat_15', 'feat_16', 'feat_17', 'feat_18', 'feat_19', 'feat_20', 'feat_21', 'feat_22', 'feat_23', 'feat_24',\n",
        "'feat_25', 'feat_26', 'feat_27', 'feat_28', 'feat_29', 'feat_30', 'feat_31', 'feat_32', 'feat_33', 'feat_34', 'feat_35', 'feat_36',\n",
        "'feat_37', 'feat_38', 'feat_39', 'feat_40', 'feat_41', 'feat_42', 'feat_43', 'feat_44', 'feat_45', 'feat_46', 'feat_47', 'feat_48',\n",
        "'feat_49', 'feat_50', 'feat_51', 'feat_52', 'feat_53', 'feat_54', 'feat_55', 'feat_56', 'feat_57', 'feat_58', 'feat_59', 'feat_60',\n",
        "'feat_61', 'feat_62', 'feat_63', 'feat_64', 'feat_65', 'feat_66', 'feat_67', 'feat_68', 'feat_69', 'feat_70', 'feat_71', 'feat_72',\n",
        "'feat_73', 'feat_74', 'feat_75', 'feat_76', 'feat_77', 'feat_78', 'feat_79', 'feat_80', 'feat_81', 'feat_82', 'feat_83', 'feat_84',\n",
        "'feat_85', 'feat_86', 'feat_87', 'feat_88', 'feat_89', 'feat_90', 'feat_91', 'feat_92', 'feat_93', 'target'\n",
        "```\n",
        "\n",
        "According to the Kaggle competition,\n",
        "\n",
        "* The `id` is an anonymous id unique to a product.\n",
        "\n",
        "* The feature fields `feat_1, feat_2, ..., feat_93` are the various features of the product. These are the features the DNN will use to learn.\n",
        "\n",
        "* The `target` is the class of the product. This will be the value the DNN predicts."
      ],
      "metadata": {
        "id": "znYbiuzCJ89E"
      }
    },
    {
      "cell_type": "markdown",
      "source": [
        "#### Taking a Look at the Data\n",
        "\n",
        "The dataset contains mostly `ints`. The only feature that's not an `int` is `target`, which is a `string`.\n",
        "\n",
        "The dataset is also complete, i.e. there are no `null` or equivalent value in the dataset. This is true becuase the count for each feature and label below is the same (61878). Had there been missing data, the values would need to be replaced with `np.NaN`, which could have been done during the DataFrame instantiation or during the Cleaning Data step.\n",
        "\n",
        "\n"
      ],
      "metadata": {
        "id": "Asb7fFj7yp_a"
      }
    },
    {
      "cell_type": "code",
      "source": [
        "# Take a look at the training data\n",
        "train.describe(include=\"all\")"
      ],
      "metadata": {
        "id": "XUGwCFmhg2Bv",
        "outputId": "7206e027-8d83-4f3e-baec-e982e530a026",
        "colab": {
          "base_uri": "https://localhost:8080/",
          "height": 488
        }
      },
      "execution_count": null,
      "outputs": [
        {
          "output_type": "execute_result",
          "data": {
            "text/plain": [
              "                  id       feat_1        feat_2        feat_3        feat_4  \\\n",
              "count   61878.000000  61878.00000  61878.000000  61878.000000  61878.000000   \n",
              "unique           NaN          NaN           NaN           NaN           NaN   \n",
              "top              NaN          NaN           NaN           NaN           NaN   \n",
              "freq             NaN          NaN           NaN           NaN           NaN   \n",
              "mean    30939.500000      0.38668      0.263066      0.901467      0.779081   \n",
              "std     17862.784315      1.52533      1.252073      2.934818      2.788005   \n",
              "min         1.000000      0.00000      0.000000      0.000000      0.000000   \n",
              "25%     15470.250000      0.00000      0.000000      0.000000      0.000000   \n",
              "50%     30939.500000      0.00000      0.000000      0.000000      0.000000   \n",
              "75%     46408.750000      0.00000      0.000000      0.000000      0.000000   \n",
              "max     61878.000000     61.00000     51.000000     64.000000     70.000000   \n",
              "\n",
              "              feat_5        feat_6        feat_7        feat_8        feat_9  \\\n",
              "count   61878.000000  61878.000000  61878.000000  61878.000000  61878.000000   \n",
              "unique           NaN           NaN           NaN           NaN           NaN   \n",
              "top              NaN           NaN           NaN           NaN           NaN   \n",
              "freq             NaN           NaN           NaN           NaN           NaN   \n",
              "mean        0.071043      0.025696      0.193704      0.662433      1.011296   \n",
              "std         0.438902      0.215333      1.030102      2.255770      3.474822   \n",
              "min         0.000000      0.000000      0.000000      0.000000      0.000000   \n",
              "25%         0.000000      0.000000      0.000000      0.000000      0.000000   \n",
              "50%         0.000000      0.000000      0.000000      0.000000      0.000000   \n",
              "75%         0.000000      0.000000      0.000000      1.000000      0.000000   \n",
              "max        19.000000     10.000000     38.000000     76.000000     43.000000   \n",
              "\n",
              "        ...       feat_85       feat_86       feat_87       feat_88  \\\n",
              "count   ...  61878.000000  61878.000000  61878.000000  61878.000000   \n",
              "unique  ...           NaN           NaN           NaN           NaN   \n",
              "top     ...           NaN           NaN           NaN           NaN   \n",
              "freq    ...           NaN           NaN           NaN           NaN   \n",
              "mean    ...      0.532306      1.128576      0.393549      0.874915   \n",
              "std     ...      1.900438      2.681554      1.575455      2.115466   \n",
              "min     ...      0.000000      0.000000      0.000000      0.000000   \n",
              "25%     ...      0.000000      0.000000      0.000000      0.000000   \n",
              "50%     ...      0.000000      0.000000      0.000000      0.000000   \n",
              "75%     ...      0.000000      1.000000      0.000000      1.000000   \n",
              "max     ...     55.000000     65.000000     67.000000     30.000000   \n",
              "\n",
              "             feat_89       feat_90       feat_91       feat_92       feat_93  \\\n",
              "count   61878.000000  61878.000000  61878.000000  61878.000000  61878.000000   \n",
              "unique           NaN           NaN           NaN           NaN           NaN   \n",
              "top              NaN           NaN           NaN           NaN           NaN   \n",
              "freq             NaN           NaN           NaN           NaN           NaN   \n",
              "mean        0.457772      0.812421      0.264941      0.380119      0.126135   \n",
              "std         1.527385      4.597804      2.045646      0.982385      1.201720   \n",
              "min         0.000000      0.000000      0.000000      0.000000      0.000000   \n",
              "25%         0.000000      0.000000      0.000000      0.000000      0.000000   \n",
              "50%         0.000000      0.000000      0.000000      0.000000      0.000000   \n",
              "75%         0.000000      0.000000      0.000000      0.000000      0.000000   \n",
              "max        61.000000    130.000000     52.000000     19.000000     87.000000   \n",
              "\n",
              "         target  \n",
              "count     61878  \n",
              "unique        9  \n",
              "top     Class_2  \n",
              "freq      16122  \n",
              "mean        NaN  \n",
              "std         NaN  \n",
              "min         NaN  \n",
              "25%         NaN  \n",
              "50%         NaN  \n",
              "75%         NaN  \n",
              "max         NaN  \n",
              "\n",
              "[11 rows x 95 columns]"
            ],
            "text/html": [
              "\n",
              "  <div id=\"df-6964d22a-3e87-4f6b-8bc5-67520a271910\">\n",
              "    <div class=\"colab-df-container\">\n",
              "      <div>\n",
              "<style scoped>\n",
              "    .dataframe tbody tr th:only-of-type {\n",
              "        vertical-align: middle;\n",
              "    }\n",
              "\n",
              "    .dataframe tbody tr th {\n",
              "        vertical-align: top;\n",
              "    }\n",
              "\n",
              "    .dataframe thead th {\n",
              "        text-align: right;\n",
              "    }\n",
              "</style>\n",
              "<table border=\"1\" class=\"dataframe\">\n",
              "  <thead>\n",
              "    <tr style=\"text-align: right;\">\n",
              "      <th></th>\n",
              "      <th>id</th>\n",
              "      <th>feat_1</th>\n",
              "      <th>feat_2</th>\n",
              "      <th>feat_3</th>\n",
              "      <th>feat_4</th>\n",
              "      <th>feat_5</th>\n",
              "      <th>feat_6</th>\n",
              "      <th>feat_7</th>\n",
              "      <th>feat_8</th>\n",
              "      <th>feat_9</th>\n",
              "      <th>...</th>\n",
              "      <th>feat_85</th>\n",
              "      <th>feat_86</th>\n",
              "      <th>feat_87</th>\n",
              "      <th>feat_88</th>\n",
              "      <th>feat_89</th>\n",
              "      <th>feat_90</th>\n",
              "      <th>feat_91</th>\n",
              "      <th>feat_92</th>\n",
              "      <th>feat_93</th>\n",
              "      <th>target</th>\n",
              "    </tr>\n",
              "  </thead>\n",
              "  <tbody>\n",
              "    <tr>\n",
              "      <th>count</th>\n",
              "      <td>61878.000000</td>\n",
              "      <td>61878.00000</td>\n",
              "      <td>61878.000000</td>\n",
              "      <td>61878.000000</td>\n",
              "      <td>61878.000000</td>\n",
              "      <td>61878.000000</td>\n",
              "      <td>61878.000000</td>\n",
              "      <td>61878.000000</td>\n",
              "      <td>61878.000000</td>\n",
              "      <td>61878.000000</td>\n",
              "      <td>...</td>\n",
              "      <td>61878.000000</td>\n",
              "      <td>61878.000000</td>\n",
              "      <td>61878.000000</td>\n",
              "      <td>61878.000000</td>\n",
              "      <td>61878.000000</td>\n",
              "      <td>61878.000000</td>\n",
              "      <td>61878.000000</td>\n",
              "      <td>61878.000000</td>\n",
              "      <td>61878.000000</td>\n",
              "      <td>61878</td>\n",
              "    </tr>\n",
              "    <tr>\n",
              "      <th>unique</th>\n",
              "      <td>NaN</td>\n",
              "      <td>NaN</td>\n",
              "      <td>NaN</td>\n",
              "      <td>NaN</td>\n",
              "      <td>NaN</td>\n",
              "      <td>NaN</td>\n",
              "      <td>NaN</td>\n",
              "      <td>NaN</td>\n",
              "      <td>NaN</td>\n",
              "      <td>NaN</td>\n",
              "      <td>...</td>\n",
              "      <td>NaN</td>\n",
              "      <td>NaN</td>\n",
              "      <td>NaN</td>\n",
              "      <td>NaN</td>\n",
              "      <td>NaN</td>\n",
              "      <td>NaN</td>\n",
              "      <td>NaN</td>\n",
              "      <td>NaN</td>\n",
              "      <td>NaN</td>\n",
              "      <td>9</td>\n",
              "    </tr>\n",
              "    <tr>\n",
              "      <th>top</th>\n",
              "      <td>NaN</td>\n",
              "      <td>NaN</td>\n",
              "      <td>NaN</td>\n",
              "      <td>NaN</td>\n",
              "      <td>NaN</td>\n",
              "      <td>NaN</td>\n",
              "      <td>NaN</td>\n",
              "      <td>NaN</td>\n",
              "      <td>NaN</td>\n",
              "      <td>NaN</td>\n",
              "      <td>...</td>\n",
              "      <td>NaN</td>\n",
              "      <td>NaN</td>\n",
              "      <td>NaN</td>\n",
              "      <td>NaN</td>\n",
              "      <td>NaN</td>\n",
              "      <td>NaN</td>\n",
              "      <td>NaN</td>\n",
              "      <td>NaN</td>\n",
              "      <td>NaN</td>\n",
              "      <td>Class_2</td>\n",
              "    </tr>\n",
              "    <tr>\n",
              "      <th>freq</th>\n",
              "      <td>NaN</td>\n",
              "      <td>NaN</td>\n",
              "      <td>NaN</td>\n",
              "      <td>NaN</td>\n",
              "      <td>NaN</td>\n",
              "      <td>NaN</td>\n",
              "      <td>NaN</td>\n",
              "      <td>NaN</td>\n",
              "      <td>NaN</td>\n",
              "      <td>NaN</td>\n",
              "      <td>...</td>\n",
              "      <td>NaN</td>\n",
              "      <td>NaN</td>\n",
              "      <td>NaN</td>\n",
              "      <td>NaN</td>\n",
              "      <td>NaN</td>\n",
              "      <td>NaN</td>\n",
              "      <td>NaN</td>\n",
              "      <td>NaN</td>\n",
              "      <td>NaN</td>\n",
              "      <td>16122</td>\n",
              "    </tr>\n",
              "    <tr>\n",
              "      <th>mean</th>\n",
              "      <td>30939.500000</td>\n",
              "      <td>0.38668</td>\n",
              "      <td>0.263066</td>\n",
              "      <td>0.901467</td>\n",
              "      <td>0.779081</td>\n",
              "      <td>0.071043</td>\n",
              "      <td>0.025696</td>\n",
              "      <td>0.193704</td>\n",
              "      <td>0.662433</td>\n",
              "      <td>1.011296</td>\n",
              "      <td>...</td>\n",
              "      <td>0.532306</td>\n",
              "      <td>1.128576</td>\n",
              "      <td>0.393549</td>\n",
              "      <td>0.874915</td>\n",
              "      <td>0.457772</td>\n",
              "      <td>0.812421</td>\n",
              "      <td>0.264941</td>\n",
              "      <td>0.380119</td>\n",
              "      <td>0.126135</td>\n",
              "      <td>NaN</td>\n",
              "    </tr>\n",
              "    <tr>\n",
              "      <th>std</th>\n",
              "      <td>17862.784315</td>\n",
              "      <td>1.52533</td>\n",
              "      <td>1.252073</td>\n",
              "      <td>2.934818</td>\n",
              "      <td>2.788005</td>\n",
              "      <td>0.438902</td>\n",
              "      <td>0.215333</td>\n",
              "      <td>1.030102</td>\n",
              "      <td>2.255770</td>\n",
              "      <td>3.474822</td>\n",
              "      <td>...</td>\n",
              "      <td>1.900438</td>\n",
              "      <td>2.681554</td>\n",
              "      <td>1.575455</td>\n",
              "      <td>2.115466</td>\n",
              "      <td>1.527385</td>\n",
              "      <td>4.597804</td>\n",
              "      <td>2.045646</td>\n",
              "      <td>0.982385</td>\n",
              "      <td>1.201720</td>\n",
              "      <td>NaN</td>\n",
              "    </tr>\n",
              "    <tr>\n",
              "      <th>min</th>\n",
              "      <td>1.000000</td>\n",
              "      <td>0.00000</td>\n",
              "      <td>0.000000</td>\n",
              "      <td>0.000000</td>\n",
              "      <td>0.000000</td>\n",
              "      <td>0.000000</td>\n",
              "      <td>0.000000</td>\n",
              "      <td>0.000000</td>\n",
              "      <td>0.000000</td>\n",
              "      <td>0.000000</td>\n",
              "      <td>...</td>\n",
              "      <td>0.000000</td>\n",
              "      <td>0.000000</td>\n",
              "      <td>0.000000</td>\n",
              "      <td>0.000000</td>\n",
              "      <td>0.000000</td>\n",
              "      <td>0.000000</td>\n",
              "      <td>0.000000</td>\n",
              "      <td>0.000000</td>\n",
              "      <td>0.000000</td>\n",
              "      <td>NaN</td>\n",
              "    </tr>\n",
              "    <tr>\n",
              "      <th>25%</th>\n",
              "      <td>15470.250000</td>\n",
              "      <td>0.00000</td>\n",
              "      <td>0.000000</td>\n",
              "      <td>0.000000</td>\n",
              "      <td>0.000000</td>\n",
              "      <td>0.000000</td>\n",
              "      <td>0.000000</td>\n",
              "      <td>0.000000</td>\n",
              "      <td>0.000000</td>\n",
              "      <td>0.000000</td>\n",
              "      <td>...</td>\n",
              "      <td>0.000000</td>\n",
              "      <td>0.000000</td>\n",
              "      <td>0.000000</td>\n",
              "      <td>0.000000</td>\n",
              "      <td>0.000000</td>\n",
              "      <td>0.000000</td>\n",
              "      <td>0.000000</td>\n",
              "      <td>0.000000</td>\n",
              "      <td>0.000000</td>\n",
              "      <td>NaN</td>\n",
              "    </tr>\n",
              "    <tr>\n",
              "      <th>50%</th>\n",
              "      <td>30939.500000</td>\n",
              "      <td>0.00000</td>\n",
              "      <td>0.000000</td>\n",
              "      <td>0.000000</td>\n",
              "      <td>0.000000</td>\n",
              "      <td>0.000000</td>\n",
              "      <td>0.000000</td>\n",
              "      <td>0.000000</td>\n",
              "      <td>0.000000</td>\n",
              "      <td>0.000000</td>\n",
              "      <td>...</td>\n",
              "      <td>0.000000</td>\n",
              "      <td>0.000000</td>\n",
              "      <td>0.000000</td>\n",
              "      <td>0.000000</td>\n",
              "      <td>0.000000</td>\n",
              "      <td>0.000000</td>\n",
              "      <td>0.000000</td>\n",
              "      <td>0.000000</td>\n",
              "      <td>0.000000</td>\n",
              "      <td>NaN</td>\n",
              "    </tr>\n",
              "    <tr>\n",
              "      <th>75%</th>\n",
              "      <td>46408.750000</td>\n",
              "      <td>0.00000</td>\n",
              "      <td>0.000000</td>\n",
              "      <td>0.000000</td>\n",
              "      <td>0.000000</td>\n",
              "      <td>0.000000</td>\n",
              "      <td>0.000000</td>\n",
              "      <td>0.000000</td>\n",
              "      <td>1.000000</td>\n",
              "      <td>0.000000</td>\n",
              "      <td>...</td>\n",
              "      <td>0.000000</td>\n",
              "      <td>1.000000</td>\n",
              "      <td>0.000000</td>\n",
              "      <td>1.000000</td>\n",
              "      <td>0.000000</td>\n",
              "      <td>0.000000</td>\n",
              "      <td>0.000000</td>\n",
              "      <td>0.000000</td>\n",
              "      <td>0.000000</td>\n",
              "      <td>NaN</td>\n",
              "    </tr>\n",
              "    <tr>\n",
              "      <th>max</th>\n",
              "      <td>61878.000000</td>\n",
              "      <td>61.00000</td>\n",
              "      <td>51.000000</td>\n",
              "      <td>64.000000</td>\n",
              "      <td>70.000000</td>\n",
              "      <td>19.000000</td>\n",
              "      <td>10.000000</td>\n",
              "      <td>38.000000</td>\n",
              "      <td>76.000000</td>\n",
              "      <td>43.000000</td>\n",
              "      <td>...</td>\n",
              "      <td>55.000000</td>\n",
              "      <td>65.000000</td>\n",
              "      <td>67.000000</td>\n",
              "      <td>30.000000</td>\n",
              "      <td>61.000000</td>\n",
              "      <td>130.000000</td>\n",
              "      <td>52.000000</td>\n",
              "      <td>19.000000</td>\n",
              "      <td>87.000000</td>\n",
              "      <td>NaN</td>\n",
              "    </tr>\n",
              "  </tbody>\n",
              "</table>\n",
              "<p>11 rows × 95 columns</p>\n",
              "</div>\n",
              "      <button class=\"colab-df-convert\" onclick=\"convertToInteractive('df-6964d22a-3e87-4f6b-8bc5-67520a271910')\"\n",
              "              title=\"Convert this dataframe to an interactive table.\"\n",
              "              style=\"display:none;\">\n",
              "        \n",
              "  <svg xmlns=\"http://www.w3.org/2000/svg\" height=\"24px\"viewBox=\"0 0 24 24\"\n",
              "       width=\"24px\">\n",
              "    <path d=\"M0 0h24v24H0V0z\" fill=\"none\"/>\n",
              "    <path d=\"M18.56 5.44l.94 2.06.94-2.06 2.06-.94-2.06-.94-.94-2.06-.94 2.06-2.06.94zm-11 1L8.5 8.5l.94-2.06 2.06-.94-2.06-.94L8.5 2.5l-.94 2.06-2.06.94zm10 10l.94 2.06.94-2.06 2.06-.94-2.06-.94-.94-2.06-.94 2.06-2.06.94z\"/><path d=\"M17.41 7.96l-1.37-1.37c-.4-.4-.92-.59-1.43-.59-.52 0-1.04.2-1.43.59L10.3 9.45l-7.72 7.72c-.78.78-.78 2.05 0 2.83L4 21.41c.39.39.9.59 1.41.59.51 0 1.02-.2 1.41-.59l7.78-7.78 2.81-2.81c.8-.78.8-2.07 0-2.86zM5.41 20L4 18.59l7.72-7.72 1.47 1.35L5.41 20z\"/>\n",
              "  </svg>\n",
              "      </button>\n",
              "      \n",
              "  <style>\n",
              "    .colab-df-container {\n",
              "      display:flex;\n",
              "      flex-wrap:wrap;\n",
              "      gap: 12px;\n",
              "    }\n",
              "\n",
              "    .colab-df-convert {\n",
              "      background-color: #E8F0FE;\n",
              "      border: none;\n",
              "      border-radius: 50%;\n",
              "      cursor: pointer;\n",
              "      display: none;\n",
              "      fill: #1967D2;\n",
              "      height: 32px;\n",
              "      padding: 0 0 0 0;\n",
              "      width: 32px;\n",
              "    }\n",
              "\n",
              "    .colab-df-convert:hover {\n",
              "      background-color: #E2EBFA;\n",
              "      box-shadow: 0px 1px 2px rgba(60, 64, 67, 0.3), 0px 1px 3px 1px rgba(60, 64, 67, 0.15);\n",
              "      fill: #174EA6;\n",
              "    }\n",
              "\n",
              "    [theme=dark] .colab-df-convert {\n",
              "      background-color: #3B4455;\n",
              "      fill: #D2E3FC;\n",
              "    }\n",
              "\n",
              "    [theme=dark] .colab-df-convert:hover {\n",
              "      background-color: #434B5C;\n",
              "      box-shadow: 0px 1px 3px 1px rgba(0, 0, 0, 0.15);\n",
              "      filter: drop-shadow(0px 1px 2px rgba(0, 0, 0, 0.3));\n",
              "      fill: #FFFFFF;\n",
              "    }\n",
              "  </style>\n",
              "\n",
              "      <script>\n",
              "        const buttonEl =\n",
              "          document.querySelector('#df-6964d22a-3e87-4f6b-8bc5-67520a271910 button.colab-df-convert');\n",
              "        buttonEl.style.display =\n",
              "          google.colab.kernel.accessAllowed ? 'block' : 'none';\n",
              "\n",
              "        async function convertToInteractive(key) {\n",
              "          const element = document.querySelector('#df-6964d22a-3e87-4f6b-8bc5-67520a271910');\n",
              "          const dataTable =\n",
              "            await google.colab.kernel.invokeFunction('convertToInteractive',\n",
              "                                                     [key], {});\n",
              "          if (!dataTable) return;\n",
              "\n",
              "          const docLinkHtml = 'Like what you see? Visit the ' +\n",
              "            '<a target=\"_blank\" href=https://colab.research.google.com/notebooks/data_table.ipynb>data table notebook</a>'\n",
              "            + ' to learn more about interactive tables.';\n",
              "          element.innerHTML = '';\n",
              "          dataTable['output_type'] = 'display_data';\n",
              "          await google.colab.output.renderOutput(dataTable, element);\n",
              "          const docLink = document.createElement('div');\n",
              "          docLink.innerHTML = docLinkHtml;\n",
              "          element.appendChild(docLink);\n",
              "        }\n",
              "      </script>\n",
              "    </div>\n",
              "  </div>\n",
              "  "
            ]
          },
          "metadata": {},
          "execution_count": 19
        }
      ]
    },
    {
      "cell_type": "markdown",
      "source": [
        "#### Some Observations:\n",
        "\n",
        "* The `max` value for the features shown above range quite a bit. Therefore, they should be normalized.\n",
        "* The min, 25, and 50 percent values are all zeroes. Given the table is truncated (i.e. not displaying the middle feature columns), that observation may not be fully accurate.\n",
        "* Some features have `1` at 75 percent, which could mean that those features are a bit more common in the dataset.\n",
        "* The top target value is `Class_2`. Its `freq` is 16122, which is just over a fourth of the total instances; (16122 / 61878) * 100 = 26.1\n",
        "* There are only 9 target classes, see the `unique` row and `target` column.\n"
      ],
      "metadata": {
        "id": "AtaJEA5HhPXE"
      }
    },
    {
      "cell_type": "markdown",
      "source": [
        "#### Some Predictions:\n",
        "\n",
        "* Given the training dataset is less than half of the test dataset (61878 / 144368 = 0.4286), the DNN will not achieve a high accuracy. I suspect this is the case because a majority of the feature values are `0`. So the DNN model will likely overfit because it trained on a small set of features.\n",
        "* The features with a mean greater than 1 will have more of an influence on learning than the others."
      ],
      "metadata": {
        "id": "0NcF9tiglN_A"
      }
    },
    {
      "cell_type": "markdown",
      "source": [
        "## 4) Data Visualization\n",
        "\n",
        "### Before Visualizing\n",
        "\n",
        "* There are 93 features in this dataset. So, the visualizations will focus on a subset of the data.\n",
        "\n",
        "* The graphs below are bar charts, and some bars have a thin black line. According to the [documentation](https://seaborn.pydata.org/generated/seaborn.barplot.html), that line represents the 95% confidence interval. No line, means `seaborn` is 95% or more confident the value is correct. On the other hand, the presence of the line shows the range of values until `seaborn`'s 95% confident or more."
      ],
      "metadata": {
        "id": "141O3qDWJ2a3"
      }
    },
    {
      "cell_type": "markdown",
      "source": [
        "### Features with Means >= 1\n",
        "\n",
        "Let's take a look at the features who's mean is greater than or equal 1. These should provide interesting graphs because they appear more within the dataset than the other features (see the `Data Analysis` section for evidence of `0` frequency within the dataset)."
      ],
      "metadata": {
        "id": "ioxDeliunilc"
      }
    },
    {
      "cell_type": "code",
      "source": [
        "train_feats_mean_greater_than_or_equal_to_1 = train.drop('target', axis=1)\n",
        "train_feats_mean_greater_than_or_equal_to_1 = train_feats_mean_greater_than_or_equal_to_1.drop('id', axis=1)\n",
        "train_feats_mean_greater_than_or_equal_to_1 = train_feats_mean_greater_than_or_equal_to_1[train_feats_mean_greater_than_or_equal_to_1.columns[train_feats_mean_greater_than_or_equal_to_1.mean(axis=0) >= 1.0]]\n",
        "print('Number of features with means greater than or equal to 1')\n",
        "print(len(train_feats_mean_greater_than_or_equal_to_1.columns))\n",
        "\n",
        "print(train_feats_mean_greater_than_or_equal_to_1.columns)"
      ],
      "metadata": {
        "colab": {
          "base_uri": "https://localhost:8080/"
        },
        "id": "S7ZsE0npoC7Y",
        "outputId": "5060ee06-ac10-4ce9-8882-eea1a7a610e8"
      },
      "execution_count": null,
      "outputs": [
        {
          "output_type": "stream",
          "name": "stdout",
          "text": [
            "Number of features with means greater than or equal to 1\n",
            "16\n",
            "Index(['feat_9', 'feat_11', 'feat_14', 'feat_15', 'feat_16', 'feat_24',\n",
            "       'feat_25', 'feat_32', 'feat_40', 'feat_48', 'feat_54', 'feat_60',\n",
            "       'feat_62', 'feat_64', 'feat_67', 'feat_86'],\n",
            "      dtype='object')\n"
          ]
        }
      ]
    },
    {
      "cell_type": "markdown",
      "source": [
        "### `feat_9` feature"
      ],
      "metadata": {
        "id": "GUkotXa8sTF-"
      }
    },
    {
      "cell_type": "code",
      "source": [
        "sns.barplot(x='feat_9', y='target', data=train)"
      ],
      "metadata": {
        "colab": {
          "base_uri": "https://localhost:8080/",
          "height": 298
        },
        "id": "tpVGto5apwZn",
        "outputId": "0a863da1-452c-4380-d5c5-eca758fb454d"
      },
      "execution_count": null,
      "outputs": [
        {
          "output_type": "execute_result",
          "data": {
            "text/plain": [
              "<matplotlib.axes._subplots.AxesSubplot at 0x7fdd16102b90>"
            ]
          },
          "metadata": {},
          "execution_count": 21
        },
        {
          "output_type": "display_data",
          "data": {
            "text/plain": [
              "<Figure size 432x288 with 1 Axes>"
            ],
            "image/png": "[encoded data removed]"
          },
          "metadata": {
            "needs_background": "light"
          }
        }
      ]
    },
    {
      "cell_type": "markdown",
      "source": [
        "### `feat_11` feature\n"
      ],
      "metadata": {
        "id": "02sYa4N9slz2"
      }
    },
    {
      "cell_type": "code",
      "source": [
        "sns.barplot(x='feat_11', y='target', data=train)"
      ],
      "metadata": {
        "colab": {
          "base_uri": "https://localhost:8080/",
          "height": 298
        },
        "id": "EsJ72-kOslIC",
        "outputId": "654b6c07-9f63-4614-d2cf-8264d703c601"
      },
      "execution_count": null,
      "outputs": [
        {
          "output_type": "execute_result",
          "data": {
            "text/plain": [
              "<matplotlib.axes._subplots.AxesSubplot at 0x7fdd16040c10>"
            ]
          },
          "metadata": {},
          "execution_count": 22
        },
        {
          "output_type": "display_data",
          "data": {
            "text/plain": [
              "<Figure size 432x288 with 1 Axes>"
            ],
            "image/png": "[encoded data removed]"
          },
          "metadata": {
            "needs_background": "light"
          }
        }
      ]
    },
    {
      "cell_type": "markdown",
      "source": [
        "### `feat_14` feature\n"
      ],
      "metadata": {
        "id": "ST1XlyN7tCcC"
      }
    },
    {
      "cell_type": "code",
      "source": [
        "sns.barplot(x='feat_14', y='target', data=train)"
      ],
      "metadata": {
        "colab": {
          "base_uri": "https://localhost:8080/",
          "height": 298
        },
        "id": "0jpaP3wMtCwB",
        "outputId": "c8c00f70-3140-4192-86c0-f9f95f836eac"
      },
      "execution_count": null,
      "outputs": [
        {
          "output_type": "execute_result",
          "data": {
            "text/plain": [
              "<matplotlib.axes._subplots.AxesSubplot at 0x7fdd15f931d0>"
            ]
          },
          "metadata": {},
          "execution_count": 23
        },
        {
          "output_type": "display_data",
          "data": {
            "text/plain": [
              "<Figure size 432x288 with 1 Axes>"
            ],
            "image/png": "[encoded data removed]"
          },
          "metadata": {
            "needs_background": "light"
          }
        }
      ]
    },
    {
      "cell_type": "markdown",
      "source": [
        "### `feat_15` feature\n"
      ],
      "metadata": {
        "id": "Em_K5utVtEG7"
      }
    },
    {
      "cell_type": "code",
      "source": [
        "sns.barplot(x='feat_15', y='target', data=train)"
      ],
      "metadata": {
        "colab": {
          "base_uri": "https://localhost:8080/",
          "height": 298
        },
        "id": "5oarnFs-tEiw",
        "outputId": "2c3c409c-f3b5-4ef0-c5b3-8667f7a783ba"
      },
      "execution_count": null,
      "outputs": [
        {
          "output_type": "execute_result",
          "data": {
            "text/plain": [
              "<matplotlib.axes._subplots.AxesSubplot at 0x7fdd15eba710>"
            ]
          },
          "metadata": {},
          "execution_count": 24
        },
        {
          "output_type": "display_data",
          "data": {
            "text/plain": [
              "<Figure size 432x288 with 1 Axes>"
            ],
            "image/png": "[encoded data removed]"
          },
          "metadata": {
            "needs_background": "light"
          }
        }
      ]
    },
    {
      "cell_type": "markdown",
      "source": [
        "### `feat_16` feature\n"
      ],
      "metadata": {
        "id": "aE1gxahptGeF"
      }
    },
    {
      "cell_type": "code",
      "source": [
        "sns.barplot(x='feat_16', y='target', data=train)"
      ],
      "metadata": {
        "colab": {
          "base_uri": "https://localhost:8080/",
          "height": 298
        },
        "id": "-DpnOsyhtG0K",
        "outputId": "0e8a3a9d-5517-49a3-e169-2b3d1248c401"
      },
      "execution_count": null,
      "outputs": [
        {
          "output_type": "execute_result",
          "data": {
            "text/plain": [
              "<matplotlib.axes._subplots.AxesSubplot at 0x7fdd15dec650>"
            ]
          },
          "metadata": {},
          "execution_count": 25
        },
        {
          "output_type": "display_data",
          "data": {
            "text/plain": [
              "<Figure size 432x288 with 1 Axes>"
            ],
            "image/png": "[encoded data removed]"
          },
          "metadata": {
            "needs_background": "light"
          }
        }
      ]
    },
    {
      "cell_type": "markdown",
      "source": [
        "### `feat_24` feature\n"
      ],
      "metadata": {
        "id": "6FLzQG7CtLeE"
      }
    },
    {
      "cell_type": "code",
      "source": [
        "sns.barplot(x='feat_24', y='target', data=train)"
      ],
      "metadata": {
        "colab": {
          "base_uri": "https://localhost:8080/",
          "height": 298
        },
        "id": "Sb73Hz8otL0B",
        "outputId": "377d1fcb-d71c-4262-9f02-098661f7f3ad"
      },
      "execution_count": null,
      "outputs": [
        {
          "output_type": "execute_result",
          "data": {
            "text/plain": [
              "<matplotlib.axes._subplots.AxesSubplot at 0x7fdd15d16350>"
            ]
          },
          "metadata": {},
          "execution_count": 26
        },
        {
          "output_type": "display_data",
          "data": {
            "text/plain": [
              "<Figure size 432x288 with 1 Axes>"
            ],
            "image/png": "[encoded data removed]"
          },
          "metadata": {
            "needs_background": "light"
          }
        }
      ]
    },
    {
      "cell_type": "markdown",
      "source": [
        "### `feat_25` feature\n"
      ],
      "metadata": {
        "id": "AFvNHVBVtNf8"
      }
    },
    {
      "cell_type": "code",
      "source": [
        "sns.barplot(x='feat_25', y='target', data=train)"
      ],
      "metadata": {
        "colab": {
          "base_uri": "https://localhost:8080/",
          "height": 298
        },
        "id": "h9All0tGtN63",
        "outputId": "a9a35544-6656-4b06-8c12-2c15c1b0e1ed"
      },
      "execution_count": null,
      "outputs": [
        {
          "output_type": "execute_result",
          "data": {
            "text/plain": [
              "<matplotlib.axes._subplots.AxesSubplot at 0x7fdd15cb7590>"
            ]
          },
          "metadata": {},
          "execution_count": 27
        },
        {
          "output_type": "display_data",
          "data": {
            "text/plain": [
              "<Figure size 432x288 with 1 Axes>"
            ],
            "image/png": "[encoded data removed]"
          },
          "metadata": {
            "needs_background": "light"
          }
        }
      ]
    },
    {
      "cell_type": "markdown",
      "source": [
        "### `feat_32` feature\n"
      ],
      "metadata": {
        "id": "ZZTDkGBrtQht"
      }
    },
    {
      "cell_type": "code",
      "source": [
        "sns.barplot(x='feat_32', y='target', data=train)"
      ],
      "metadata": {
        "colab": {
          "base_uri": "https://localhost:8080/",
          "height": 298
        },
        "id": "78vyJmtStQZS",
        "outputId": "944321ef-8c45-42f3-bfeb-1e51c7a37e43"
      },
      "execution_count": null,
      "outputs": [
        {
          "output_type": "execute_result",
          "data": {
            "text/plain": [
              "<matplotlib.axes._subplots.AxesSubplot at 0x7fdd15c47650>"
            ]
          },
          "metadata": {},
          "execution_count": 28
        },
        {
          "output_type": "display_data",
          "data": {
            "text/plain": [
              "<Figure size 432x288 with 1 Axes>"
            ],
            "image/png": "[encoded data removed]"
          },
          "metadata": {
            "needs_background": "light"
          }
        }
      ]
    },
    {
      "cell_type": "markdown",
      "source": [
        "### `feat_40` feature\n"
      ],
      "metadata": {
        "id": "FL67samEtR43"
      }
    },
    {
      "cell_type": "code",
      "source": [
        "sns.barplot(x='feat_40', y='target', data=train)"
      ],
      "metadata": {
        "colab": {
          "base_uri": "https://localhost:8080/",
          "height": 298
        },
        "id": "gdiF_0LYtRvX",
        "outputId": "fc182267-4ec1-4441-cb37-8772e259dfcb"
      },
      "execution_count": null,
      "outputs": [
        {
          "output_type": "execute_result",
          "data": {
            "text/plain": [
              "<matplotlib.axes._subplots.AxesSubplot at 0x7fdd15b833d0>"
            ]
          },
          "metadata": {},
          "execution_count": 29
        },
        {
          "output_type": "display_data",
          "data": {
            "text/plain": [
              "<Figure size 432x288 with 1 Axes>"
            ],
            "image/png": "[encoded data removed]"
          },
          "metadata": {
            "needs_background": "light"
          }
        }
      ]
    },
    {
      "cell_type": "markdown",
      "source": [
        "### `feat_48` feature\n"
      ],
      "metadata": {
        "id": "wlzT3sEytTGy"
      }
    },
    {
      "cell_type": "code",
      "source": [
        "sns.barplot(x='feat_48', y='target', data=train)"
      ],
      "metadata": {
        "colab": {
          "base_uri": "https://localhost:8080/",
          "height": 298
        },
        "id": "OMOrabaNtS9Q",
        "outputId": "02716b88-ce49-430e-f85e-babd0797b702"
      },
      "execution_count": null,
      "outputs": [
        {
          "output_type": "execute_result",
          "data": {
            "text/plain": [
              "<matplotlib.axes._subplots.AxesSubplot at 0x7fdd15b64450>"
            ]
          },
          "metadata": {},
          "execution_count": 30
        },
        {
          "output_type": "display_data",
          "data": {
            "text/plain": [
              "<Figure size 432x288 with 1 Axes>"
            ],
            "image/png": "[encoded data removed]"
          },
          "metadata": {
            "needs_background": "light"
          }
        }
      ]
    },
    {
      "cell_type": "markdown",
      "source": [
        "### `feat_54` feature\n"
      ],
      "metadata": {
        "id": "3qJGwJFstUhE"
      }
    },
    {
      "cell_type": "code",
      "source": [
        "sns.barplot(x='feat_54', y='target', data=train)"
      ],
      "metadata": {
        "colab": {
          "base_uri": "https://localhost:8080/",
          "height": 298
        },
        "id": "WLZeAmzmtUZ-",
        "outputId": "4390c6e3-65e2-418d-d425-a100caaffcf9"
      },
      "execution_count": null,
      "outputs": [
        {
          "output_type": "execute_result",
          "data": {
            "text/plain": [
              "<matplotlib.axes._subplots.AxesSubplot at 0x7fdd15a28a10>"
            ]
          },
          "metadata": {},
          "execution_count": 31
        },
        {
          "output_type": "display_data",
          "data": {
            "text/plain": [
              "<Figure size 432x288 with 1 Axes>"
            ],
            "image/png": "[encoded data removed]"
          },
          "metadata": {
            "needs_background": "light"
          }
        }
      ]
    },
    {
      "cell_type": "markdown",
      "source": [
        "### `feat_60` feature\n"
      ],
      "metadata": {
        "id": "AM4kWXRxtVyA"
      }
    },
    {
      "cell_type": "code",
      "source": [
        "sns.barplot(x='feat_60', y='target', data=train)"
      ],
      "metadata": {
        "colab": {
          "base_uri": "https://localhost:8080/",
          "height": 298
        },
        "id": "PZ5xO2n9tVq2",
        "outputId": "e5d98c64-e6ed-4068-91f2-fc5280209820"
      },
      "execution_count": null,
      "outputs": [
        {
          "output_type": "execute_result",
          "data": {
            "text/plain": [
              "<matplotlib.axes._subplots.AxesSubplot at 0x7fdd16085e10>"
            ]
          },
          "metadata": {},
          "execution_count": 32
        },
        {
          "output_type": "display_data",
          "data": {
            "text/plain": [
              "<Figure size 432x288 with 1 Axes>"
            ],
            "image/png": "[encoded data removed]"
          },
          "metadata": {
            "needs_background": "light"
          }
        }
      ]
    },
    {
      "cell_type": "markdown",
      "source": [
        "### `feat_62` feature\n"
      ],
      "metadata": {
        "id": "HtGzG7iTtXYl"
      }
    },
    {
      "cell_type": "code",
      "source": [
        "sns.barplot(x='feat_62', y='target', data=train)"
      ],
      "metadata": {
        "colab": {
          "base_uri": "https://localhost:8080/",
          "height": 298
        },
        "id": "pw0g_UY7tXPr",
        "outputId": "83e32498-fa52-44f5-d5b1-38895b389e67"
      },
      "execution_count": null,
      "outputs": [
        {
          "output_type": "execute_result",
          "data": {
            "text/plain": [
              "<matplotlib.axes._subplots.AxesSubplot at 0x7fdd15897550>"
            ]
          },
          "metadata": {},
          "execution_count": 33
        },
        {
          "output_type": "display_data",
          "data": {
            "text/plain": [
              "<Figure size 432x288 with 1 Axes>"
            ],
            "image/png": "[encoded data removed]"
          },
          "metadata": {
            "needs_background": "light"
          }
        }
      ]
    },
    {
      "cell_type": "markdown",
      "source": [
        "### `feat_64` feature\n"
      ],
      "metadata": {
        "id": "TqiazCsRtZJl"
      }
    },
    {
      "cell_type": "code",
      "source": [
        "sns.barplot(x='feat_64', y='target', data=train)"
      ],
      "metadata": {
        "colab": {
          "base_uri": "https://localhost:8080/",
          "height": 298
        },
        "id": "Jre4M0odtZAw",
        "outputId": "4e732750-a3c0-4a69-e0b2-03dc6bbebed5"
      },
      "execution_count": null,
      "outputs": [
        {
          "output_type": "execute_result",
          "data": {
            "text/plain": [
              "<matplotlib.axes._subplots.AxesSubplot at 0x7fdd15836490>"
            ]
          },
          "metadata": {},
          "execution_count": 34
        },
        {
          "output_type": "display_data",
          "data": {
            "text/plain": [
              "<Figure size 432x288 with 1 Axes>"
            ],
            "image/png": "[encoded data removed]"
          },
          "metadata": {
            "needs_background": "light"
          }
        }
      ]
    },
    {
      "cell_type": "markdown",
      "source": [
        "### `feat_67` feature\n"
      ],
      "metadata": {
        "id": "aGoquYvvtaTL"
      }
    },
    {
      "cell_type": "code",
      "source": [
        "sns.barplot(x='feat_67', y='target', data=train)"
      ],
      "metadata": {
        "colab": {
          "base_uri": "https://localhost:8080/",
          "height": 298
        },
        "id": "SUpOiQwltaMI",
        "outputId": "bb0646f8-fad3-4a7b-8d51-57f5cf230afd"
      },
      "execution_count": null,
      "outputs": [
        {
          "output_type": "execute_result",
          "data": {
            "text/plain": [
              "<matplotlib.axes._subplots.AxesSubplot at 0x7fdd157bec90>"
            ]
          },
          "metadata": {},
          "execution_count": 35
        },
        {
          "output_type": "display_data",
          "data": {
            "text/plain": [
              "<Figure size 432x288 with 1 Axes>"
            ],
            "image/png": "[encoded data removed]"
          },
          "metadata": {
            "needs_background": "light"
          }
        }
      ]
    },
    {
      "cell_type": "markdown",
      "source": [
        "### `feat_86` feature"
      ],
      "metadata": {
        "id": "i8u6wvGjtbne"
      }
    },
    {
      "cell_type": "code",
      "source": [
        "sns.barplot(x='feat_86', y='target', data=train)"
      ],
      "metadata": {
        "colab": {
          "base_uri": "https://localhost:8080/",
          "height": 298
        },
        "id": "yRrwyhjItbH_",
        "outputId": "4271b007-7174-463a-84ad-fd439a80c802"
      },
      "execution_count": null,
      "outputs": [
        {
          "output_type": "execute_result",
          "data": {
            "text/plain": [
              "<matplotlib.axes._subplots.AxesSubplot at 0x7fdd1570b110>"
            ]
          },
          "metadata": {},
          "execution_count": 36
        },
        {
          "output_type": "display_data",
          "data": {
            "text/plain": [
              "<Figure size 432x288 with 1 Axes>"
            ],
            "image/png": "[encoded data removed]"
          },
          "metadata": {
            "needs_background": "light"
          }
        }
      ]
    },
    {
      "cell_type": "markdown",
      "source": [
        "### Analysis of Observations\n",
        "\n",
        "The following anaylsis only discusses the features that have a mean value greater than or equal to 1.0.\n",
        "\n",
        "* Out of the 16 features identified, 5 features appear to belong to 1 class. Taking a look at `feat_9`, `feat_11`, `feat_54`, `feat_60`, and `feat_62` have a fequency in one `target` class that's significantly greater than the others. Given the entire dataset was used to generate the charts, this analysis should hold true and is not a side-effect of having a subset of the data.\n",
        "* `Class_5` is never in the top 3. This likely means the class is made up of a variety of features.\n",
        "* `Class_6` is the top target value to appear within the analyzed dataset; frequency is 4. `Class_2` is the second top target, and `Class_3` is the third top target. (This analysis was done by counting the top 3 target classes for a feature and then counting the frequency of the class within its placement. For example, `Class_3` is the third top target. It appears in `feat_14`, `feat_15`, `feat_25`, `feat_32`, and `feat_86` as third highest.) So, classes 2, 3, and 6 are likely easier to predict but this might lead to overfitting because the test dataset could not include the same feature fequency distributions."
      ],
      "metadata": {
        "id": "jpg-EWJ9-EX5"
      }
    },
    {
      "cell_type": "markdown",
      "source": [
        "## 5) Cleaning Data\n",
        "\n",
        "Before training a model to make predictions, standard practices indicate that cleaning up the data is important. This cleaning can range from removing or replacing values that models cannot interpet to simply splitting the data into features and labels."
      ],
      "metadata": {
        "id": "Mg7mwvl2Wzvs"
      }
    },
    {
      "cell_type": "markdown",
      "source": [
        "### Splitting the data\n",
        "\n",
        "Standard practices of machine learning generally favor splitting the dataset into `training` and `test`. Their names are self-evident, but for clarity, the machine learning model will use the `training` set to learn (i.e. fit), and it will use the `test` set to make predictions.\n",
        "\n",
        "The Kaggle competition has already split the data into train and test data, and this means that both datasets need to be cleaned up at the same time. So, the following steps will be performed twice, except the drop `target` step because the test data does not include those values.\n",
        "\n",
        "Unfortunately, I still need a way to understand the model's accurarcy after fitting. Therefore, the `training` data will also be split."
      ],
      "metadata": {
        "id": "FJMU8K9BUiCm"
      }
    },
    {
      "cell_type": "markdown",
      "source": [
        "### Features\n",
        "\n",
        "These are the columns from the dataset that machine learning models will use to predict a `target` value. Therefore, the first step to clean up the data is to remove the `target`."
      ],
      "metadata": {
        "id": "44HoqabcN2VJ"
      }
    },
    {
      "cell_type": "code",
      "source": [
        "train_features = train.drop('target', axis=1)\n",
        "train_features[:3]"
      ],
      "metadata": {
        "id": "_ur6HctjKn0n",
        "outputId": "eee3d016-0aaf-4ebf-a19b-4cdde14fa421",
        "colab": {
          "base_uri": "https://localhost:8080/",
          "height": 173
        }
      },
      "execution_count": null,
      "outputs": [
        {
          "output_type": "execute_result",
          "data": {
            "text/plain": [
              "   id  feat_1  feat_2  feat_3  feat_4  feat_5  feat_6  feat_7  feat_8  feat_9  \\\n",
              "0   1       1       0       0       0       0       0       0       0       0   \n",
              "1   2       0       0       0       0       0       0       0       1       0   \n",
              "2   3       0       0       0       0       0       0       0       1       0   \n",
              "\n",
              "   ...  feat_84  feat_85  feat_86  feat_87  feat_88  feat_89  feat_90  \\\n",
              "0  ...        0        1        0        0        0        0        0   \n",
              "1  ...        0        0        0        0        0        0        0   \n",
              "2  ...        0        0        0        0        0        0        0   \n",
              "\n",
              "   feat_91  feat_92  feat_93  \n",
              "0        0        0        0  \n",
              "1        0        0        0  \n",
              "2        0        0        0  \n",
              "\n",
              "[3 rows x 94 columns]"
            ],
            "text/html": [
              "\n",
              "  <div id=\"df-91363aa8-40a7-4af1-9693-c6901ada6343\">\n",
              "    <div class=\"colab-df-container\">\n",
              "      <div>\n",
              "<style scoped>\n",
              "    .dataframe tbody tr th:only-of-type {\n",
              "        vertical-align: middle;\n",
              "    }\n",
              "\n",
              "    .dataframe tbody tr th {\n",
              "        vertical-align: top;\n",
              "    }\n",
              "\n",
              "    .dataframe thead th {\n",
              "        text-align: right;\n",
              "    }\n",
              "</style>\n",
              "<table border=\"1\" class=\"dataframe\">\n",
              "  <thead>\n",
              "    <tr style=\"text-align: right;\">\n",
              "      <th></th>\n",
              "      <th>id</th>\n",
              "      <th>feat_1</th>\n",
              "      <th>feat_2</th>\n",
              "      <th>feat_3</th>\n",
              "      <th>feat_4</th>\n",
              "      <th>feat_5</th>\n",
              "      <th>feat_6</th>\n",
              "      <th>feat_7</th>\n",
              "      <th>feat_8</th>\n",
              "      <th>feat_9</th>\n",
              "      <th>...</th>\n",
              "      <th>feat_84</th>\n",
              "      <th>feat_85</th>\n",
              "      <th>feat_86</th>\n",
              "      <th>feat_87</th>\n",
              "      <th>feat_88</th>\n",
              "      <th>feat_89</th>\n",
              "      <th>feat_90</th>\n",
              "      <th>feat_91</th>\n",
              "      <th>feat_92</th>\n",
              "      <th>feat_93</th>\n",
              "    </tr>\n",
              "  </thead>\n",
              "  <tbody>\n",
              "    <tr>\n",
              "      <th>0</th>\n",
              "      <td>1</td>\n",
              "      <td>1</td>\n",
              "      <td>0</td>\n",
              "      <td>0</td>\n",
              "      <td>0</td>\n",
              "      <td>0</td>\n",
              "      <td>0</td>\n",
              "      <td>0</td>\n",
              "      <td>0</td>\n",
              "      <td>0</td>\n",
              "      <td>...</td>\n",
              "      <td>0</td>\n",
              "      <td>1</td>\n",
              "      <td>0</td>\n",
              "      <td>0</td>\n",
              "      <td>0</td>\n",
              "      <td>0</td>\n",
              "      <td>0</td>\n",
              "      <td>0</td>\n",
              "      <td>0</td>\n",
              "      <td>0</td>\n",
              "    </tr>\n",
              "    <tr>\n",
              "      <th>1</th>\n",
              "      <td>2</td>\n",
              "      <td>0</td>\n",
              "      <td>0</td>\n",
              "      <td>0</td>\n",
              "      <td>0</td>\n",
              "      <td>0</td>\n",
              "      <td>0</td>\n",
              "      <td>0</td>\n",
              "      <td>1</td>\n",
              "      <td>0</td>\n",
              "      <td>...</td>\n",
              "      <td>0</td>\n",
              "      <td>0</td>\n",
              "      <td>0</td>\n",
              "      <td>0</td>\n",
              "      <td>0</td>\n",
              "      <td>0</td>\n",
              "      <td>0</td>\n",
              "      <td>0</td>\n",
              "      <td>0</td>\n",
              "      <td>0</td>\n",
              "    </tr>\n",
              "    <tr>\n",
              "      <th>2</th>\n",
              "      <td>3</td>\n",
              "      <td>0</td>\n",
              "      <td>0</td>\n",
              "      <td>0</td>\n",
              "      <td>0</td>\n",
              "      <td>0</td>\n",
              "      <td>0</td>\n",
              "      <td>0</td>\n",
              "      <td>1</td>\n",
              "      <td>0</td>\n",
              "      <td>...</td>\n",
              "      <td>0</td>\n",
              "      <td>0</td>\n",
              "      <td>0</td>\n",
              "      <td>0</td>\n",
              "      <td>0</td>\n",
              "      <td>0</td>\n",
              "      <td>0</td>\n",
              "      <td>0</td>\n",
              "      <td>0</td>\n",
              "      <td>0</td>\n",
              "    </tr>\n",
              "  </tbody>\n",
              "</table>\n",
              "<p>3 rows × 94 columns</p>\n",
              "</div>\n",
              "      <button class=\"colab-df-convert\" onclick=\"convertToInteractive('df-91363aa8-40a7-4af1-9693-c6901ada6343')\"\n",
              "              title=\"Convert this dataframe to an interactive table.\"\n",
              "              style=\"display:none;\">\n",
              "        \n",
              "  <svg xmlns=\"http://www.w3.org/2000/svg\" height=\"24px\"viewBox=\"0 0 24 24\"\n",
              "       width=\"24px\">\n",
              "    <path d=\"M0 0h24v24H0V0z\" fill=\"none\"/>\n",
              "    <path d=\"M18.56 5.44l.94 2.06.94-2.06 2.06-.94-2.06-.94-.94-2.06-.94 2.06-2.06.94zm-11 1L8.5 8.5l.94-2.06 2.06-.94-2.06-.94L8.5 2.5l-.94 2.06-2.06.94zm10 10l.94 2.06.94-2.06 2.06-.94-2.06-.94-.94-2.06-.94 2.06-2.06.94z\"/><path d=\"M17.41 7.96l-1.37-1.37c-.4-.4-.92-.59-1.43-.59-.52 0-1.04.2-1.43.59L10.3 9.45l-7.72 7.72c-.78.78-.78 2.05 0 2.83L4 21.41c.39.39.9.59 1.41.59.51 0 1.02-.2 1.41-.59l7.78-7.78 2.81-2.81c.8-.78.8-2.07 0-2.86zM5.41 20L4 18.59l7.72-7.72 1.47 1.35L5.41 20z\"/>\n",
              "  </svg>\n",
              "      </button>\n",
              "      \n",
              "  <style>\n",
              "    .colab-df-container {\n",
              "      display:flex;\n",
              "      flex-wrap:wrap;\n",
              "      gap: 12px;\n",
              "    }\n",
              "\n",
              "    .colab-df-convert {\n",
              "      background-color: #E8F0FE;\n",
              "      border: none;\n",
              "      border-radius: 50%;\n",
              "      cursor: pointer;\n",
              "      display: none;\n",
              "      fill: #1967D2;\n",
              "      height: 32px;\n",
              "      padding: 0 0 0 0;\n",
              "      width: 32px;\n",
              "    }\n",
              "\n",
              "    .colab-df-convert:hover {\n",
              "      background-color: #E2EBFA;\n",
              "      box-shadow: 0px 1px 2px rgba(60, 64, 67, 0.3), 0px 1px 3px 1px rgba(60, 64, 67, 0.15);\n",
              "      fill: #174EA6;\n",
              "    }\n",
              "\n",
              "    [theme=dark] .colab-df-convert {\n",
              "      background-color: #3B4455;\n",
              "      fill: #D2E3FC;\n",
              "    }\n",
              "\n",
              "    [theme=dark] .colab-df-convert:hover {\n",
              "      background-color: #434B5C;\n",
              "      box-shadow: 0px 1px 3px 1px rgba(0, 0, 0, 0.15);\n",
              "      filter: drop-shadow(0px 1px 2px rgba(0, 0, 0, 0.3));\n",
              "      fill: #FFFFFF;\n",
              "    }\n",
              "  </style>\n",
              "\n",
              "      <script>\n",
              "        const buttonEl =\n",
              "          document.querySelector('#df-91363aa8-40a7-4af1-9693-c6901ada6343 button.colab-df-convert');\n",
              "        buttonEl.style.display =\n",
              "          google.colab.kernel.accessAllowed ? 'block' : 'none';\n",
              "\n",
              "        async function convertToInteractive(key) {\n",
              "          const element = document.querySelector('#df-91363aa8-40a7-4af1-9693-c6901ada6343');\n",
              "          const dataTable =\n",
              "            await google.colab.kernel.invokeFunction('convertToInteractive',\n",
              "                                                     [key], {});\n",
              "          if (!dataTable) return;\n",
              "\n",
              "          const docLinkHtml = 'Like what you see? Visit the ' +\n",
              "            '<a target=\"_blank\" href=https://colab.research.google.com/notebooks/data_table.ipynb>data table notebook</a>'\n",
              "            + ' to learn more about interactive tables.';\n",
              "          element.innerHTML = '';\n",
              "          dataTable['output_type'] = 'display_data';\n",
              "          await google.colab.output.renderOutput(dataTable, element);\n",
              "          const docLink = document.createElement('div');\n",
              "          docLink.innerHTML = docLinkHtml;\n",
              "          element.appendChild(docLink);\n",
              "        }\n",
              "      </script>\n",
              "    </div>\n",
              "  </div>\n",
              "  "
            ]
          },
          "metadata": {},
          "execution_count": 37
        }
      ]
    },
    {
      "cell_type": "markdown",
      "source": [
        "While removing the label column, the `id` column will also be dropped. Dropping the `id` makes sense because it does not provide any value when predicting. The values in that column just increase with each entry."
      ],
      "metadata": {
        "id": "eC14xLqKKujZ"
      }
    },
    {
      "cell_type": "code",
      "source": [
        "train_features = train_features.drop('id', axis=1)\n",
        "train_features[:3]"
      ],
      "metadata": {
        "colab": {
          "base_uri": "https://localhost:8080/",
          "height": 173
        },
        "id": "M80-NIAWd_MA",
        "outputId": "80280b21-a0b7-429c-d8ad-621726e9bced"
      },
      "execution_count": null,
      "outputs": [
        {
          "output_type": "execute_result",
          "data": {
            "text/plain": [
              "   feat_1  feat_2  feat_3  feat_4  feat_5  feat_6  feat_7  feat_8  feat_9  \\\n",
              "0       1       0       0       0       0       0       0       0       0   \n",
              "1       0       0       0       0       0       0       0       1       0   \n",
              "2       0       0       0       0       0       0       0       1       0   \n",
              "\n",
              "   feat_10  ...  feat_84  feat_85  feat_86  feat_87  feat_88  feat_89  \\\n",
              "0        0  ...        0        1        0        0        0        0   \n",
              "1        0  ...        0        0        0        0        0        0   \n",
              "2        0  ...        0        0        0        0        0        0   \n",
              "\n",
              "   feat_90  feat_91  feat_92  feat_93  \n",
              "0        0        0        0        0  \n",
              "1        0        0        0        0  \n",
              "2        0        0        0        0  \n",
              "\n",
              "[3 rows x 93 columns]"
            ],
            "text/html": [
              "\n",
              "  <div id=\"df-384e580a-eae0-46da-86ed-3f1d41ce540e\">\n",
              "    <div class=\"colab-df-container\">\n",
              "      <div>\n",
              "<style scoped>\n",
              "    .dataframe tbody tr th:only-of-type {\n",
              "        vertical-align: middle;\n",
              "    }\n",
              "\n",
              "    .dataframe tbody tr th {\n",
              "        vertical-align: top;\n",
              "    }\n",
              "\n",
              "    .dataframe thead th {\n",
              "        text-align: right;\n",
              "    }\n",
              "</style>\n",
              "<table border=\"1\" class=\"dataframe\">\n",
              "  <thead>\n",
              "    <tr style=\"text-align: right;\">\n",
              "      <th></th>\n",
              "      <th>feat_1</th>\n",
              "      <th>feat_2</th>\n",
              "      <th>feat_3</th>\n",
              "      <th>feat_4</th>\n",
              "      <th>feat_5</th>\n",
              "      <th>feat_6</th>\n",
              "      <th>feat_7</th>\n",
              "      <th>feat_8</th>\n",
              "      <th>feat_9</th>\n",
              "      <th>feat_10</th>\n",
              "      <th>...</th>\n",
              "      <th>feat_84</th>\n",
              "      <th>feat_85</th>\n",
              "      <th>feat_86</th>\n",
              "      <th>feat_87</th>\n",
              "      <th>feat_88</th>\n",
              "      <th>feat_89</th>\n",
              "      <th>feat_90</th>\n",
              "      <th>feat_91</th>\n",
              "      <th>feat_92</th>\n",
              "      <th>feat_93</th>\n",
              "    </tr>\n",
              "  </thead>\n",
              "  <tbody>\n",
              "    <tr>\n",
              "      <th>0</th>\n",
              "      <td>1</td>\n",
              "      <td>0</td>\n",
              "      <td>0</td>\n",
              "      <td>0</td>\n",
              "      <td>0</td>\n",
              "      <td>0</td>\n",
              "      <td>0</td>\n",
              "      <td>0</td>\n",
              "      <td>0</td>\n",
              "      <td>0</td>\n",
              "      <td>...</td>\n",
              "      <td>0</td>\n",
              "      <td>1</td>\n",
              "      <td>0</td>\n",
              "      <td>0</td>\n",
              "      <td>0</td>\n",
              "      <td>0</td>\n",
              "      <td>0</td>\n",
              "      <td>0</td>\n",
              "      <td>0</td>\n",
              "      <td>0</td>\n",
              "    </tr>\n",
              "    <tr>\n",
              "      <th>1</th>\n",
              "      <td>0</td>\n",
              "      <td>0</td>\n",
              "      <td>0</td>\n",
              "      <td>0</td>\n",
              "      <td>0</td>\n",
              "      <td>0</td>\n",
              "      <td>0</td>\n",
              "      <td>1</td>\n",
              "      <td>0</td>\n",
              "      <td>0</td>\n",
              "      <td>...</td>\n",
              "      <td>0</td>\n",
              "      <td>0</td>\n",
              "      <td>0</td>\n",
              "      <td>0</td>\n",
              "      <td>0</td>\n",
              "      <td>0</td>\n",
              "      <td>0</td>\n",
              "      <td>0</td>\n",
              "      <td>0</td>\n",
              "      <td>0</td>\n",
              "    </tr>\n",
              "    <tr>\n",
              "      <th>2</th>\n",
              "      <td>0</td>\n",
              "      <td>0</td>\n",
              "      <td>0</td>\n",
              "      <td>0</td>\n",
              "      <td>0</td>\n",
              "      <td>0</td>\n",
              "      <td>0</td>\n",
              "      <td>1</td>\n",
              "      <td>0</td>\n",
              "      <td>0</td>\n",
              "      <td>...</td>\n",
              "      <td>0</td>\n",
              "      <td>0</td>\n",
              "      <td>0</td>\n",
              "      <td>0</td>\n",
              "      <td>0</td>\n",
              "      <td>0</td>\n",
              "      <td>0</td>\n",
              "      <td>0</td>\n",
              "      <td>0</td>\n",
              "      <td>0</td>\n",
              "    </tr>\n",
              "  </tbody>\n",
              "</table>\n",
              "<p>3 rows × 93 columns</p>\n",
              "</div>\n",
              "      <button class=\"colab-df-convert\" onclick=\"convertToInteractive('df-384e580a-eae0-46da-86ed-3f1d41ce540e')\"\n",
              "              title=\"Convert this dataframe to an interactive table.\"\n",
              "              style=\"display:none;\">\n",
              "        \n",
              "  <svg xmlns=\"http://www.w3.org/2000/svg\" height=\"24px\"viewBox=\"0 0 24 24\"\n",
              "       width=\"24px\">\n",
              "    <path d=\"M0 0h24v24H0V0z\" fill=\"none\"/>\n",
              "    <path d=\"M18.56 5.44l.94 2.06.94-2.06 2.06-.94-2.06-.94-.94-2.06-.94 2.06-2.06.94zm-11 1L8.5 8.5l.94-2.06 2.06-.94-2.06-.94L8.5 2.5l-.94 2.06-2.06.94zm10 10l.94 2.06.94-2.06 2.06-.94-2.06-.94-.94-2.06-.94 2.06-2.06.94z\"/><path d=\"M17.41 7.96l-1.37-1.37c-.4-.4-.92-.59-1.43-.59-.52 0-1.04.2-1.43.59L10.3 9.45l-7.72 7.72c-.78.78-.78 2.05 0 2.83L4 21.41c.39.39.9.59 1.41.59.51 0 1.02-.2 1.41-.59l7.78-7.78 2.81-2.81c.8-.78.8-2.07 0-2.86zM5.41 20L4 18.59l7.72-7.72 1.47 1.35L5.41 20z\"/>\n",
              "  </svg>\n",
              "      </button>\n",
              "      \n",
              "  <style>\n",
              "    .colab-df-container {\n",
              "      display:flex;\n",
              "      flex-wrap:wrap;\n",
              "      gap: 12px;\n",
              "    }\n",
              "\n",
              "    .colab-df-convert {\n",
              "      background-color: #E8F0FE;\n",
              "      border: none;\n",
              "      border-radius: 50%;\n",
              "      cursor: pointer;\n",
              "      display: none;\n",
              "      fill: #1967D2;\n",
              "      height: 32px;\n",
              "      padding: 0 0 0 0;\n",
              "      width: 32px;\n",
              "    }\n",
              "\n",
              "    .colab-df-convert:hover {\n",
              "      background-color: #E2EBFA;\n",
              "      box-shadow: 0px 1px 2px rgba(60, 64, 67, 0.3), 0px 1px 3px 1px rgba(60, 64, 67, 0.15);\n",
              "      fill: #174EA6;\n",
              "    }\n",
              "\n",
              "    [theme=dark] .colab-df-convert {\n",
              "      background-color: #3B4455;\n",
              "      fill: #D2E3FC;\n",
              "    }\n",
              "\n",
              "    [theme=dark] .colab-df-convert:hover {\n",
              "      background-color: #434B5C;\n",
              "      box-shadow: 0px 1px 3px 1px rgba(0, 0, 0, 0.15);\n",
              "      filter: drop-shadow(0px 1px 2px rgba(0, 0, 0, 0.3));\n",
              "      fill: #FFFFFF;\n",
              "    }\n",
              "  </style>\n",
              "\n",
              "      <script>\n",
              "        const buttonEl =\n",
              "          document.querySelector('#df-384e580a-eae0-46da-86ed-3f1d41ce540e button.colab-df-convert');\n",
              "        buttonEl.style.display =\n",
              "          google.colab.kernel.accessAllowed ? 'block' : 'none';\n",
              "\n",
              "        async function convertToInteractive(key) {\n",
              "          const element = document.querySelector('#df-384e580a-eae0-46da-86ed-3f1d41ce540e');\n",
              "          const dataTable =\n",
              "            await google.colab.kernel.invokeFunction('convertToInteractive',\n",
              "                                                     [key], {});\n",
              "          if (!dataTable) return;\n",
              "\n",
              "          const docLinkHtml = 'Like what you see? Visit the ' +\n",
              "            '<a target=\"_blank\" href=https://colab.research.google.com/notebooks/data_table.ipynb>data table notebook</a>'\n",
              "            + ' to learn more about interactive tables.';\n",
              "          element.innerHTML = '';\n",
              "          dataTable['output_type'] = 'display_data';\n",
              "          await google.colab.output.renderOutput(dataTable, element);\n",
              "          const docLink = document.createElement('div');\n",
              "          docLink.innerHTML = docLinkHtml;\n",
              "          element.appendChild(docLink);\n",
              "        }\n",
              "      </script>\n",
              "    </div>\n",
              "  </div>\n",
              "  "
            ]
          },
          "metadata": {},
          "execution_count": 38
        }
      ]
    },
    {
      "cell_type": "code",
      "source": [
        "test_features = test.drop('id', axis=1)\n",
        "test_features[:3]"
      ],
      "metadata": {
        "colab": {
          "base_uri": "https://localhost:8080/",
          "height": 173
        },
        "id": "Gooc9_6R8peH",
        "outputId": "ff9d9dad-c440-4276-a794-96cfcf44b510"
      },
      "execution_count": null,
      "outputs": [
        {
          "output_type": "execute_result",
          "data": {
            "text/plain": [
              "   feat_1  feat_2  feat_3  feat_4  feat_5  feat_6  feat_7  feat_8  feat_9  \\\n",
              "0       0       0       0       0       0       0       0       0       0   \n",
              "1       2       2      14      16       0       0       0       0       0   \n",
              "2       0       1      12       1       0       0       0       0       0   \n",
              "\n",
              "   feat_10  ...  feat_84  feat_85  feat_86  feat_87  feat_88  feat_89  \\\n",
              "0        3  ...        0        0       11        1       20        0   \n",
              "1        0  ...        0        0        0        0        0        4   \n",
              "2        0  ...        0        0        0        0        2        0   \n",
              "\n",
              "   feat_90  feat_91  feat_92  feat_93  \n",
              "0        0        0        0        0  \n",
              "1        0        0        2        0  \n",
              "2        0        0        0        1  \n",
              "\n",
              "[3 rows x 93 columns]"
            ],
            "text/html": [
              "\n",
              "  <div id=\"df-001df8d8-de61-451d-9a4e-ebf3f28a904b\">\n",
              "    <div class=\"colab-df-container\">\n",
              "      <div>\n",
              "<style scoped>\n",
              "    .dataframe tbody tr th:only-of-type {\n",
              "        vertical-align: middle;\n",
              "    }\n",
              "\n",
              "    .dataframe tbody tr th {\n",
              "        vertical-align: top;\n",
              "    }\n",
              "\n",
              "    .dataframe thead th {\n",
              "        text-align: right;\n",
              "    }\n",
              "</style>\n",
              "<table border=\"1\" class=\"dataframe\">\n",
              "  <thead>\n",
              "    <tr style=\"text-align: right;\">\n",
              "      <th></th>\n",
              "      <th>feat_1</th>\n",
              "      <th>feat_2</th>\n",
              "      <th>feat_3</th>\n",
              "      <th>feat_4</th>\n",
              "      <th>feat_5</th>\n",
              "      <th>feat_6</th>\n",
              "      <th>feat_7</th>\n",
              "      <th>feat_8</th>\n",
              "      <th>feat_9</th>\n",
              "      <th>feat_10</th>\n",
              "      <th>...</th>\n",
              "      <th>feat_84</th>\n",
              "      <th>feat_85</th>\n",
              "      <th>feat_86</th>\n",
              "      <th>feat_87</th>\n",
              "      <th>feat_88</th>\n",
              "      <th>feat_89</th>\n",
              "      <th>feat_90</th>\n",
              "      <th>feat_91</th>\n",
              "      <th>feat_92</th>\n",
              "      <th>feat_93</th>\n",
              "    </tr>\n",
              "  </thead>\n",
              "  <tbody>\n",
              "    <tr>\n",
              "      <th>0</th>\n",
              "      <td>0</td>\n",
              "      <td>0</td>\n",
              "      <td>0</td>\n",
              "      <td>0</td>\n",
              "      <td>0</td>\n",
              "      <td>0</td>\n",
              "      <td>0</td>\n",
              "      <td>0</td>\n",
              "      <td>0</td>\n",
              "      <td>3</td>\n",
              "      <td>...</td>\n",
              "      <td>0</td>\n",
              "      <td>0</td>\n",
              "      <td>11</td>\n",
              "      <td>1</td>\n",
              "      <td>20</td>\n",
              "      <td>0</td>\n",
              "      <td>0</td>\n",
              "      <td>0</td>\n",
              "      <td>0</td>\n",
              "      <td>0</td>\n",
              "    </tr>\n",
              "    <tr>\n",
              "      <th>1</th>\n",
              "      <td>2</td>\n",
              "      <td>2</td>\n",
              "      <td>14</td>\n",
              "      <td>16</td>\n",
              "      <td>0</td>\n",
              "      <td>0</td>\n",
              "      <td>0</td>\n",
              "      <td>0</td>\n",
              "      <td>0</td>\n",
              "      <td>0</td>\n",
              "      <td>...</td>\n",
              "      <td>0</td>\n",
              "      <td>0</td>\n",
              "      <td>0</td>\n",
              "      <td>0</td>\n",
              "      <td>0</td>\n",
              "      <td>4</td>\n",
              "      <td>0</td>\n",
              "      <td>0</td>\n",
              "      <td>2</td>\n",
              "      <td>0</td>\n",
              "    </tr>\n",
              "    <tr>\n",
              "      <th>2</th>\n",
              "      <td>0</td>\n",
              "      <td>1</td>\n",
              "      <td>12</td>\n",
              "      <td>1</td>\n",
              "      <td>0</td>\n",
              "      <td>0</td>\n",
              "      <td>0</td>\n",
              "      <td>0</td>\n",
              "      <td>0</td>\n",
              "      <td>0</td>\n",
              "      <td>...</td>\n",
              "      <td>0</td>\n",
              "      <td>0</td>\n",
              "      <td>0</td>\n",
              "      <td>0</td>\n",
              "      <td>2</td>\n",
              "      <td>0</td>\n",
              "      <td>0</td>\n",
              "      <td>0</td>\n",
              "      <td>0</td>\n",
              "      <td>1</td>\n",
              "    </tr>\n",
              "  </tbody>\n",
              "</table>\n",
              "<p>3 rows × 93 columns</p>\n",
              "</div>\n",
              "      <button class=\"colab-df-convert\" onclick=\"convertToInteractive('df-001df8d8-de61-451d-9a4e-ebf3f28a904b')\"\n",
              "              title=\"Convert this dataframe to an interactive table.\"\n",
              "              style=\"display:none;\">\n",
              "        \n",
              "  <svg xmlns=\"http://www.w3.org/2000/svg\" height=\"24px\"viewBox=\"0 0 24 24\"\n",
              "       width=\"24px\">\n",
              "    <path d=\"M0 0h24v24H0V0z\" fill=\"none\"/>\n",
              "    <path d=\"M18.56 5.44l.94 2.06.94-2.06 2.06-.94-2.06-.94-.94-2.06-.94 2.06-2.06.94zm-11 1L8.5 8.5l.94-2.06 2.06-.94-2.06-.94L8.5 2.5l-.94 2.06-2.06.94zm10 10l.94 2.06.94-2.06 2.06-.94-2.06-.94-.94-2.06-.94 2.06-2.06.94z\"/><path d=\"M17.41 7.96l-1.37-1.37c-.4-.4-.92-.59-1.43-.59-.52 0-1.04.2-1.43.59L10.3 9.45l-7.72 7.72c-.78.78-.78 2.05 0 2.83L4 21.41c.39.39.9.59 1.41.59.51 0 1.02-.2 1.41-.59l7.78-7.78 2.81-2.81c.8-.78.8-2.07 0-2.86zM5.41 20L4 18.59l7.72-7.72 1.47 1.35L5.41 20z\"/>\n",
              "  </svg>\n",
              "      </button>\n",
              "      \n",
              "  <style>\n",
              "    .colab-df-container {\n",
              "      display:flex;\n",
              "      flex-wrap:wrap;\n",
              "      gap: 12px;\n",
              "    }\n",
              "\n",
              "    .colab-df-convert {\n",
              "      background-color: #E8F0FE;\n",
              "      border: none;\n",
              "      border-radius: 50%;\n",
              "      cursor: pointer;\n",
              "      display: none;\n",
              "      fill: #1967D2;\n",
              "      height: 32px;\n",
              "      padding: 0 0 0 0;\n",
              "      width: 32px;\n",
              "    }\n",
              "\n",
              "    .colab-df-convert:hover {\n",
              "      background-color: #E2EBFA;\n",
              "      box-shadow: 0px 1px 2px rgba(60, 64, 67, 0.3), 0px 1px 3px 1px rgba(60, 64, 67, 0.15);\n",
              "      fill: #174EA6;\n",
              "    }\n",
              "\n",
              "    [theme=dark] .colab-df-convert {\n",
              "      background-color: #3B4455;\n",
              "      fill: #D2E3FC;\n",
              "    }\n",
              "\n",
              "    [theme=dark] .colab-df-convert:hover {\n",
              "      background-color: #434B5C;\n",
              "      box-shadow: 0px 1px 3px 1px rgba(0, 0, 0, 0.15);\n",
              "      filter: drop-shadow(0px 1px 2px rgba(0, 0, 0, 0.3));\n",
              "      fill: #FFFFFF;\n",
              "    }\n",
              "  </style>\n",
              "\n",
              "      <script>\n",
              "        const buttonEl =\n",
              "          document.querySelector('#df-001df8d8-de61-451d-9a4e-ebf3f28a904b button.colab-df-convert');\n",
              "        buttonEl.style.display =\n",
              "          google.colab.kernel.accessAllowed ? 'block' : 'none';\n",
              "\n",
              "        async function convertToInteractive(key) {\n",
              "          const element = document.querySelector('#df-001df8d8-de61-451d-9a4e-ebf3f28a904b');\n",
              "          const dataTable =\n",
              "            await google.colab.kernel.invokeFunction('convertToInteractive',\n",
              "                                                     [key], {});\n",
              "          if (!dataTable) return;\n",
              "\n",
              "          const docLinkHtml = 'Like what you see? Visit the ' +\n",
              "            '<a target=\"_blank\" href=https://colab.research.google.com/notebooks/data_table.ipynb>data table notebook</a>'\n",
              "            + ' to learn more about interactive tables.';\n",
              "          element.innerHTML = '';\n",
              "          dataTable['output_type'] = 'display_data';\n",
              "          await google.colab.output.renderOutput(dataTable, element);\n",
              "          const docLink = document.createElement('div');\n",
              "          docLink.innerHTML = docLinkHtml;\n",
              "          element.appendChild(docLink);\n",
              "        }\n",
              "      </script>\n",
              "    </div>\n",
              "  </div>\n",
              "  "
            ]
          },
          "metadata": {},
          "execution_count": 39
        }
      ]
    },
    {
      "cell_type": "markdown",
      "source": [
        "### Labels\n",
        "\n",
        "Labels are essentially the value a machine learning model should predict. It's effectively the answer. For this dataset, this the label column is `target`. "
      ],
      "metadata": {
        "id": "LNiLqUXTFOU6"
      }
    },
    {
      "cell_type": "code",
      "source": [
        "train_labels = train['target']\n",
        "\n",
        "train_labels[:3]"
      ],
      "metadata": {
        "colab": {
          "base_uri": "https://localhost:8080/"
        },
        "id": "c-d4NXnFFSjr",
        "outputId": "0d8e9b30-79cf-42a7-c4a3-3803e12bb7f6"
      },
      "execution_count": null,
      "outputs": [
        {
          "output_type": "execute_result",
          "data": {
            "text/plain": [
              "0    Class_1\n",
              "1    Class_1\n",
              "2    Class_1\n",
              "Name: target, dtype: object"
            ]
          },
          "metadata": {},
          "execution_count": 40
        }
      ]
    },
    {
      "cell_type": "markdown",
      "source": [
        "### Encoding\n",
        "\n",
        "Machine learning models (that have been introduced in this class so far) cannot make predictions with features that are `strings`. Fortunately, the features in this dataset are all `ints`. So no encoding is necessary.\n",
        "\n",
        "While the features do not need to be encoded, the labels need encoding for the DNN. This DataFrame will be created now but will not be used until the neural network section."
      ],
      "metadata": {
        "id": "Ee9KalRdRoI3"
      }
    },
    {
      "cell_type": "code",
      "source": [
        "# Get the unique values from the labels dataset.\n",
        "np.unique(train_labels)"
      ],
      "metadata": {
        "colab": {
          "base_uri": "https://localhost:8080/"
        },
        "id": "u33bBS3td51c",
        "outputId": "1a15e2ca-c67b-4a69-9838-a53ff713a9ef"
      },
      "execution_count": null,
      "outputs": [
        {
          "output_type": "execute_result",
          "data": {
            "text/plain": [
              "array(['Class_1', 'Class_2', 'Class_3', 'Class_4', 'Class_5', 'Class_6',\n",
              "       'Class_7', 'Class_8', 'Class_9'], dtype=object)"
            ]
          },
          "metadata": {},
          "execution_count": 41
        }
      ]
    },
    {
      "cell_type": "code",
      "source": [
        "# Create the training label set for the DNN.\n",
        "# The train dataset is copied because the replace function doesn't work with a DataFrame that has 1 column.\n",
        "train_labels_cat = train.copy()\n",
        "# The Keras utility `to_categorical` can only transform ints, the values are replaced with their int value.\n",
        "train_labels_cat = train_labels_cat.replace({'target': {'Class_1': 1, 'Class_2': 2, 'Class_3': 3, 'Class_4': 4, 'Class_5': 5, 'Class_6': 6, 'Class_7': 7, 'Class_8': 8, 'Class_9': 9}})\n",
        "train_labels_cat = train_labels_cat['target']\n",
        "train_labels_cat = to_categorical(train_labels_cat)\n",
        "train_labels_cat[:3]"
      ],
      "metadata": {
        "colab": {
          "base_uri": "https://localhost:8080/"
        },
        "id": "UtZF4nNgdBUx",
        "outputId": "17cfe48c-462c-4115-e0a2-129dcd499454"
      },
      "execution_count": null,
      "outputs": [
        {
          "output_type": "execute_result",
          "data": {
            "text/plain": [
              "array([[0., 1., 0., 0., 0., 0., 0., 0., 0., 0.],\n",
              "       [0., 1., 0., 0., 0., 0., 0., 0., 0., 0.],\n",
              "       [0., 1., 0., 0., 0., 0., 0., 0., 0., 0.]], dtype=float32)"
            ]
          },
          "metadata": {},
          "execution_count": 43
        }
      ]
    },
    {
      "cell_type": "markdown",
      "source": [
        "### Normalizing\n",
        "\n",
        "The values in the features columns range a decent amount, from `0` to `87` in some cases. Therefore, the feature values should be normalized. This is also a needed step because DNN's like the data to be normalized because it will help to stablize the gradient descent step."
      ],
      "metadata": {
        "id": "lF2OfEVr3EVS"
      }
    },
    {
      "cell_type": "code",
      "source": [
        "normalized_train_features = (train_features - train_features.min()) / (train_features.max() - train_features.min())\n",
        "normalized_train_features.describe(include=\"all\")"
      ],
      "metadata": {
        "colab": {
          "base_uri": "https://localhost:8080/",
          "height": 394
        },
        "id": "Pko-OHZ36FgZ",
        "outputId": "2f12a16f-298c-4869-b0a1-1db5304cabe6"
      },
      "execution_count": null,
      "outputs": [
        {
          "output_type": "execute_result",
          "data": {
            "text/plain": [
              "             feat_1        feat_2        feat_3        feat_4        feat_5  \\\n",
              "count  61878.000000  61878.000000  61878.000000  61878.000000  61878.000000   \n",
              "mean       0.006339      0.005158      0.014085      0.011130      0.003739   \n",
              "std        0.025005      0.024550      0.045857      0.039829      0.023100   \n",
              "min        0.000000      0.000000      0.000000      0.000000      0.000000   \n",
              "25%        0.000000      0.000000      0.000000      0.000000      0.000000   \n",
              "50%        0.000000      0.000000      0.000000      0.000000      0.000000   \n",
              "75%        0.000000      0.000000      0.000000      0.000000      0.000000   \n",
              "max        1.000000      1.000000      1.000000      1.000000      1.000000   \n",
              "\n",
              "             feat_6        feat_7        feat_8        feat_9       feat_10  \\\n",
              "count  61878.000000  61878.000000  61878.000000  61878.000000  61878.000000   \n",
              "mean       0.002570      0.005097      0.008716      0.023519      0.008797   \n",
              "std        0.021533      0.027108      0.029681      0.080810      0.036111   \n",
              "min        0.000000      0.000000      0.000000      0.000000      0.000000   \n",
              "25%        0.000000      0.000000      0.000000      0.000000      0.000000   \n",
              "50%        0.000000      0.000000      0.000000      0.000000      0.000000   \n",
              "75%        0.000000      0.000000      0.013158      0.000000      0.000000   \n",
              "max        1.000000      1.000000      1.000000      1.000000      1.000000   \n",
              "\n",
              "       ...       feat_84       feat_85       feat_86       feat_87  \\\n",
              "count  ...  61878.000000  61878.000000  61878.000000  61878.000000   \n",
              "mean   ...      0.000931      0.009678      0.017363      0.005874   \n",
              "std    ...      0.015151      0.034553      0.041255      0.023514   \n",
              "min    ...      0.000000      0.000000      0.000000      0.000000   \n",
              "25%    ...      0.000000      0.000000      0.000000      0.000000   \n",
              "50%    ...      0.000000      0.000000      0.000000      0.000000   \n",
              "75%    ...      0.000000      0.000000      0.015385      0.000000   \n",
              "max    ...      1.000000      1.000000      1.000000      1.000000   \n",
              "\n",
              "            feat_88       feat_89       feat_90       feat_91       feat_92  \\\n",
              "count  61878.000000  61878.000000  61878.000000  61878.000000  61878.000000   \n",
              "mean       0.029164      0.007504      0.006249      0.005095      0.020006   \n",
              "std        0.070516      0.025039      0.035368      0.039339      0.051704   \n",
              "min        0.000000      0.000000      0.000000      0.000000      0.000000   \n",
              "25%        0.000000      0.000000      0.000000      0.000000      0.000000   \n",
              "50%        0.000000      0.000000      0.000000      0.000000      0.000000   \n",
              "75%        0.033333      0.000000      0.000000      0.000000      0.000000   \n",
              "max        1.000000      1.000000      1.000000      1.000000      1.000000   \n",
              "\n",
              "            feat_93  \n",
              "count  61878.000000  \n",
              "mean       0.001450  \n",
              "std        0.013813  \n",
              "min        0.000000  \n",
              "25%        0.000000  \n",
              "50%        0.000000  \n",
              "75%        0.000000  \n",
              "max        1.000000  \n",
              "\n",
              "[8 rows x 93 columns]"
            ],
            "text/html": [
              "\n",
              "  <div id=\"df-b4dfb2ad-c1b6-490c-bbd7-3a3ffbcde9c3\">\n",
              "    <div class=\"colab-df-container\">\n",
              "      <div>\n",
              "<style scoped>\n",
              "    .dataframe tbody tr th:only-of-type {\n",
              "        vertical-align: middle;\n",
              "    }\n",
              "\n",
              "    .dataframe tbody tr th {\n",
              "        vertical-align: top;\n",
              "    }\n",
              "\n",
              "    .dataframe thead th {\n",
              "        text-align: right;\n",
              "    }\n",
              "</style>\n",
              "<table border=\"1\" class=\"dataframe\">\n",
              "  <thead>\n",
              "    <tr style=\"text-align: right;\">\n",
              "      <th></th>\n",
              "      <th>feat_1</th>\n",
              "      <th>feat_2</th>\n",
              "      <th>feat_3</th>\n",
              "      <th>feat_4</th>\n",
              "      <th>feat_5</th>\n",
              "      <th>feat_6</th>\n",
              "      <th>feat_7</th>\n",
              "      <th>feat_8</th>\n",
              "      <th>feat_9</th>\n",
              "      <th>feat_10</th>\n",
              "      <th>...</th>\n",
              "      <th>feat_84</th>\n",
              "      <th>feat_85</th>\n",
              "      <th>feat_86</th>\n",
              "      <th>feat_87</th>\n",
              "      <th>feat_88</th>\n",
              "      <th>feat_89</th>\n",
              "      <th>feat_90</th>\n",
              "      <th>feat_91</th>\n",
              "      <th>feat_92</th>\n",
              "      <th>feat_93</th>\n",
              "    </tr>\n",
              "  </thead>\n",
              "  <tbody>\n",
              "    <tr>\n",
              "      <th>count</th>\n",
              "      <td>61878.000000</td>\n",
              "      <td>61878.000000</td>\n",
              "      <td>61878.000000</td>\n",
              "      <td>61878.000000</td>\n",
              "      <td>61878.000000</td>\n",
              "      <td>61878.000000</td>\n",
              "      <td>61878.000000</td>\n",
              "      <td>61878.000000</td>\n",
              "      <td>61878.000000</td>\n",
              "      <td>61878.000000</td>\n",
              "      <td>...</td>\n",
              "      <td>61878.000000</td>\n",
              "      <td>61878.000000</td>\n",
              "      <td>61878.000000</td>\n",
              "      <td>61878.000000</td>\n",
              "      <td>61878.000000</td>\n",
              "      <td>61878.000000</td>\n",
              "      <td>61878.000000</td>\n",
              "      <td>61878.000000</td>\n",
              "      <td>61878.000000</td>\n",
              "      <td>61878.000000</td>\n",
              "    </tr>\n",
              "    <tr>\n",
              "      <th>mean</th>\n",
              "      <td>0.006339</td>\n",
              "      <td>0.005158</td>\n",
              "      <td>0.014085</td>\n",
              "      <td>0.011130</td>\n",
              "      <td>0.003739</td>\n",
              "      <td>0.002570</td>\n",
              "      <td>0.005097</td>\n",
              "      <td>0.008716</td>\n",
              "      <td>0.023519</td>\n",
              "      <td>0.008797</td>\n",
              "      <td>...</td>\n",
              "      <td>0.000931</td>\n",
              "      <td>0.009678</td>\n",
              "      <td>0.017363</td>\n",
              "      <td>0.005874</td>\n",
              "      <td>0.029164</td>\n",
              "      <td>0.007504</td>\n",
              "      <td>0.006249</td>\n",
              "      <td>0.005095</td>\n",
              "      <td>0.020006</td>\n",
              "      <td>0.001450</td>\n",
              "    </tr>\n",
              "    <tr>\n",
              "      <th>std</th>\n",
              "      <td>0.025005</td>\n",
              "      <td>0.024550</td>\n",
              "      <td>0.045857</td>\n",
              "      <td>0.039829</td>\n",
              "      <td>0.023100</td>\n",
              "      <td>0.021533</td>\n",
              "      <td>0.027108</td>\n",
              "      <td>0.029681</td>\n",
              "      <td>0.080810</td>\n",
              "      <td>0.036111</td>\n",
              "      <td>...</td>\n",
              "      <td>0.015151</td>\n",
              "      <td>0.034553</td>\n",
              "      <td>0.041255</td>\n",
              "      <td>0.023514</td>\n",
              "      <td>0.070516</td>\n",
              "      <td>0.025039</td>\n",
              "      <td>0.035368</td>\n",
              "      <td>0.039339</td>\n",
              "      <td>0.051704</td>\n",
              "      <td>0.013813</td>\n",
              "    </tr>\n",
              "    <tr>\n",
              "      <th>min</th>\n",
              "      <td>0.000000</td>\n",
              "      <td>0.000000</td>\n",
              "      <td>0.000000</td>\n",
              "      <td>0.000000</td>\n",
              "      <td>0.000000</td>\n",
              "      <td>0.000000</td>\n",
              "      <td>0.000000</td>\n",
              "      <td>0.000000</td>\n",
              "      <td>0.000000</td>\n",
              "      <td>0.000000</td>\n",
              "      <td>...</td>\n",
              "      <td>0.000000</td>\n",
              "      <td>0.000000</td>\n",
              "      <td>0.000000</td>\n",
              "      <td>0.000000</td>\n",
              "      <td>0.000000</td>\n",
              "      <td>0.000000</td>\n",
              "      <td>0.000000</td>\n",
              "      <td>0.000000</td>\n",
              "      <td>0.000000</td>\n",
              "      <td>0.000000</td>\n",
              "    </tr>\n",
              "    <tr>\n",
              "      <th>25%</th>\n",
              "      <td>0.000000</td>\n",
              "      <td>0.000000</td>\n",
              "      <td>0.000000</td>\n",
              "      <td>0.000000</td>\n",
              "      <td>0.000000</td>\n",
              "      <td>0.000000</td>\n",
              "      <td>0.000000</td>\n",
              "      <td>0.000000</td>\n",
              "      <td>0.000000</td>\n",
              "      <td>0.000000</td>\n",
              "      <td>...</td>\n",
              "      <td>0.000000</td>\n",
              "      <td>0.000000</td>\n",
              "      <td>0.000000</td>\n",
              "      <td>0.000000</td>\n",
              "      <td>0.000000</td>\n",
              "      <td>0.000000</td>\n",
              "      <td>0.000000</td>\n",
              "      <td>0.000000</td>\n",
              "      <td>0.000000</td>\n",
              "      <td>0.000000</td>\n",
              "    </tr>\n",
              "    <tr>\n",
              "      <th>50%</th>\n",
              "      <td>0.000000</td>\n",
              "      <td>0.000000</td>\n",
              "      <td>0.000000</td>\n",
              "      <td>0.000000</td>\n",
              "      <td>0.000000</td>\n",
              "      <td>0.000000</td>\n",
              "      <td>0.000000</td>\n",
              "      <td>0.000000</td>\n",
              "      <td>0.000000</td>\n",
              "      <td>0.000000</td>\n",
              "      <td>...</td>\n",
              "      <td>0.000000</td>\n",
              "      <td>0.000000</td>\n",
              "      <td>0.000000</td>\n",
              "      <td>0.000000</td>\n",
              "      <td>0.000000</td>\n",
              "      <td>0.000000</td>\n",
              "      <td>0.000000</td>\n",
              "      <td>0.000000</td>\n",
              "      <td>0.000000</td>\n",
              "      <td>0.000000</td>\n",
              "    </tr>\n",
              "    <tr>\n",
              "      <th>75%</th>\n",
              "      <td>0.000000</td>\n",
              "      <td>0.000000</td>\n",
              "      <td>0.000000</td>\n",
              "      <td>0.000000</td>\n",
              "      <td>0.000000</td>\n",
              "      <td>0.000000</td>\n",
              "      <td>0.000000</td>\n",
              "      <td>0.013158</td>\n",
              "      <td>0.000000</td>\n",
              "      <td>0.000000</td>\n",
              "      <td>...</td>\n",
              "      <td>0.000000</td>\n",
              "      <td>0.000000</td>\n",
              "      <td>0.015385</td>\n",
              "      <td>0.000000</td>\n",
              "      <td>0.033333</td>\n",
              "      <td>0.000000</td>\n",
              "      <td>0.000000</td>\n",
              "      <td>0.000000</td>\n",
              "      <td>0.000000</td>\n",
              "      <td>0.000000</td>\n",
              "    </tr>\n",
              "    <tr>\n",
              "      <th>max</th>\n",
              "      <td>1.000000</td>\n",
              "      <td>1.000000</td>\n",
              "      <td>1.000000</td>\n",
              "      <td>1.000000</td>\n",
              "      <td>1.000000</td>\n",
              "      <td>1.000000</td>\n",
              "      <td>1.000000</td>\n",
              "      <td>1.000000</td>\n",
              "      <td>1.000000</td>\n",
              "      <td>1.000000</td>\n",
              "      <td>...</td>\n",
              "      <td>1.000000</td>\n",
              "      <td>1.000000</td>\n",
              "      <td>1.000000</td>\n",
              "      <td>1.000000</td>\n",
              "      <td>1.000000</td>\n",
              "      <td>1.000000</td>\n",
              "      <td>1.000000</td>\n",
              "      <td>1.000000</td>\n",
              "      <td>1.000000</td>\n",
              "      <td>1.000000</td>\n",
              "    </tr>\n",
              "  </tbody>\n",
              "</table>\n",
              "<p>8 rows × 93 columns</p>\n",
              "</div>\n",
              "      <button class=\"colab-df-convert\" onclick=\"convertToInteractive('df-b4dfb2ad-c1b6-490c-bbd7-3a3ffbcde9c3')\"\n",
              "              title=\"Convert this dataframe to an interactive table.\"\n",
              "              style=\"display:none;\">\n",
              "        \n",
              "  <svg xmlns=\"http://www.w3.org/2000/svg\" height=\"24px\"viewBox=\"0 0 24 24\"\n",
              "       width=\"24px\">\n",
              "    <path d=\"M0 0h24v24H0V0z\" fill=\"none\"/>\n",
              "    <path d=\"M18.56 5.44l.94 2.06.94-2.06 2.06-.94-2.06-.94-.94-2.06-.94 2.06-2.06.94zm-11 1L8.5 8.5l.94-2.06 2.06-.94-2.06-.94L8.5 2.5l-.94 2.06-2.06.94zm10 10l.94 2.06.94-2.06 2.06-.94-2.06-.94-.94-2.06-.94 2.06-2.06.94z\"/><path d=\"M17.41 7.96l-1.37-1.37c-.4-.4-.92-.59-1.43-.59-.52 0-1.04.2-1.43.59L10.3 9.45l-7.72 7.72c-.78.78-.78 2.05 0 2.83L4 21.41c.39.39.9.59 1.41.59.51 0 1.02-.2 1.41-.59l7.78-7.78 2.81-2.81c.8-.78.8-2.07 0-2.86zM5.41 20L4 18.59l7.72-7.72 1.47 1.35L5.41 20z\"/>\n",
              "  </svg>\n",
              "      </button>\n",
              "      \n",
              "  <style>\n",
              "    .colab-df-container {\n",
              "      display:flex;\n",
              "      flex-wrap:wrap;\n",
              "      gap: 12px;\n",
              "    }\n",
              "\n",
              "    .colab-df-convert {\n",
              "      background-color: #E8F0FE;\n",
              "      border: none;\n",
              "      border-radius: 50%;\n",
              "      cursor: pointer;\n",
              "      display: none;\n",
              "      fill: #1967D2;\n",
              "      height: 32px;\n",
              "      padding: 0 0 0 0;\n",
              "      width: 32px;\n",
              "    }\n",
              "\n",
              "    .colab-df-convert:hover {\n",
              "      background-color: #E2EBFA;\n",
              "      box-shadow: 0px 1px 2px rgba(60, 64, 67, 0.3), 0px 1px 3px 1px rgba(60, 64, 67, 0.15);\n",
              "      fill: #174EA6;\n",
              "    }\n",
              "\n",
              "    [theme=dark] .colab-df-convert {\n",
              "      background-color: #3B4455;\n",
              "      fill: #D2E3FC;\n",
              "    }\n",
              "\n",
              "    [theme=dark] .colab-df-convert:hover {\n",
              "      background-color: #434B5C;\n",
              "      box-shadow: 0px 1px 3px 1px rgba(0, 0, 0, 0.15);\n",
              "      filter: drop-shadow(0px 1px 2px rgba(0, 0, 0, 0.3));\n",
              "      fill: #FFFFFF;\n",
              "    }\n",
              "  </style>\n",
              "\n",
              "      <script>\n",
              "        const buttonEl =\n",
              "          document.querySelector('#df-b4dfb2ad-c1b6-490c-bbd7-3a3ffbcde9c3 button.colab-df-convert');\n",
              "        buttonEl.style.display =\n",
              "          google.colab.kernel.accessAllowed ? 'block' : 'none';\n",
              "\n",
              "        async function convertToInteractive(key) {\n",
              "          const element = document.querySelector('#df-b4dfb2ad-c1b6-490c-bbd7-3a3ffbcde9c3');\n",
              "          const dataTable =\n",
              "            await google.colab.kernel.invokeFunction('convertToInteractive',\n",
              "                                                     [key], {});\n",
              "          if (!dataTable) return;\n",
              "\n",
              "          const docLinkHtml = 'Like what you see? Visit the ' +\n",
              "            '<a target=\"_blank\" href=https://colab.research.google.com/notebooks/data_table.ipynb>data table notebook</a>'\n",
              "            + ' to learn more about interactive tables.';\n",
              "          element.innerHTML = '';\n",
              "          dataTable['output_type'] = 'display_data';\n",
              "          await google.colab.output.renderOutput(dataTable, element);\n",
              "          const docLink = document.createElement('div');\n",
              "          docLink.innerHTML = docLinkHtml;\n",
              "          element.appendChild(docLink);\n",
              "        }\n",
              "      </script>\n",
              "    </div>\n",
              "  </div>\n",
              "  "
            ]
          },
          "metadata": {},
          "execution_count": 44
        }
      ]
    },
    {
      "cell_type": "code",
      "source": [
        "normalized_test_features = (test_features - test_features.min()) / (test_features.max() - test_features.min())\n",
        "normalized_test_features.describe(include=\"all\")"
      ],
      "metadata": {
        "colab": {
          "base_uri": "https://localhost:8080/",
          "height": 394
        },
        "id": "0ZpR49Fg8w47",
        "outputId": "bbbd0bd9-9d8b-4896-9007-70394d041eae"
      },
      "execution_count": null,
      "outputs": [
        {
          "output_type": "execute_result",
          "data": {
            "text/plain": [
              "              feat_1         feat_2         feat_3         feat_4  \\\n",
              "count  144368.000000  144368.000000  144368.000000  144368.000000   \n",
              "mean        0.006034       0.005858       0.010712       0.009521   \n",
              "std         0.022951       0.028042       0.035108       0.034710   \n",
              "min         0.000000       0.000000       0.000000       0.000000   \n",
              "25%         0.000000       0.000000       0.000000       0.000000   \n",
              "50%         0.000000       0.000000       0.000000       0.000000   \n",
              "75%         0.000000       0.000000       0.000000       0.000000   \n",
              "max         1.000000       1.000000       1.000000       1.000000   \n",
              "\n",
              "              feat_5         feat_6         feat_7         feat_8  \\\n",
              "count  144368.000000  144368.000000  144368.000000  144368.000000   \n",
              "mean        0.005107       0.002404       0.004549       0.006674   \n",
              "std         0.030612       0.020759       0.024301       0.022868   \n",
              "min         0.000000       0.000000       0.000000       0.000000   \n",
              "25%         0.000000       0.000000       0.000000       0.000000   \n",
              "50%         0.000000       0.000000       0.000000       0.000000   \n",
              "75%         0.000000       0.000000       0.000000       0.010000   \n",
              "max         1.000000       1.000000       1.000000       1.000000   \n",
              "\n",
              "              feat_9        feat_10  ...        feat_84        feat_85  \\\n",
              "count  144368.000000  144368.000000  ...  144368.000000  144368.000000   \n",
              "mean        0.022027       0.004556  ...       0.000568       0.009616   \n",
              "std         0.075503       0.020125  ...       0.009762       0.034038   \n",
              "min         0.000000       0.000000  ...       0.000000       0.000000   \n",
              "25%         0.000000       0.000000  ...       0.000000       0.000000   \n",
              "50%         0.000000       0.000000  ...       0.000000       0.000000   \n",
              "75%         0.000000       0.000000  ...       0.000000       0.000000   \n",
              "max         1.000000       1.000000  ...       1.000000       1.000000   \n",
              "\n",
              "             feat_86        feat_87        feat_88        feat_89  \\\n",
              "count  144368.000000  144368.000000  144368.000000  144368.000000   \n",
              "mean        0.015463       0.007505       0.023663       0.007634   \n",
              "std         0.036747       0.030214       0.056494       0.026094   \n",
              "min         0.000000       0.000000       0.000000       0.000000   \n",
              "25%         0.000000       0.000000       0.000000       0.000000   \n",
              "50%         0.000000       0.000000       0.000000       0.000000   \n",
              "75%         0.013699       0.000000       0.027027       0.000000   \n",
              "max         1.000000       1.000000       1.000000       1.000000   \n",
              "\n",
              "             feat_90        feat_91        feat_92        feat_93  \n",
              "count  144368.000000  144368.000000  144368.000000  144368.000000  \n",
              "mean        0.006840       0.003664       0.017652       0.001458  \n",
              "std         0.038686       0.028022       0.045770       0.014315  \n",
              "min         0.000000       0.000000       0.000000       0.000000  \n",
              "25%         0.000000       0.000000       0.000000       0.000000  \n",
              "50%         0.000000       0.000000       0.000000       0.000000  \n",
              "75%         0.000000       0.000000       0.000000       0.000000  \n",
              "max         1.000000       1.000000       1.000000       1.000000  \n",
              "\n",
              "[8 rows x 93 columns]"
            ],
            "text/html": [
              "\n",
              "  <div id=\"df-048a7354-07c2-45e8-ac87-bdf886a38391\">\n",
              "    <div class=\"colab-df-container\">\n",
              "      <div>\n",
              "<style scoped>\n",
              "    .dataframe tbody tr th:only-of-type {\n",
              "        vertical-align: middle;\n",
              "    }\n",
              "\n",
              "    .dataframe tbody tr th {\n",
              "        vertical-align: top;\n",
              "    }\n",
              "\n",
              "    .dataframe thead th {\n",
              "        text-align: right;\n",
              "    }\n",
              "</style>\n",
              "<table border=\"1\" class=\"dataframe\">\n",
              "  <thead>\n",
              "    <tr style=\"text-align: right;\">\n",
              "      <th></th>\n",
              "      <th>feat_1</th>\n",
              "      <th>feat_2</th>\n",
              "      <th>feat_3</th>\n",
              "      <th>feat_4</th>\n",
              "      <th>feat_5</th>\n",
              "      <th>feat_6</th>\n",
              "      <th>feat_7</th>\n",
              "      <th>feat_8</th>\n",
              "      <th>feat_9</th>\n",
              "      <th>feat_10</th>\n",
              "      <th>...</th>\n",
              "      <th>feat_84</th>\n",
              "      <th>feat_85</th>\n",
              "      <th>feat_86</th>\n",
              "      <th>feat_87</th>\n",
              "      <th>feat_88</th>\n",
              "      <th>feat_89</th>\n",
              "      <th>feat_90</th>\n",
              "      <th>feat_91</th>\n",
              "      <th>feat_92</th>\n",
              "      <th>feat_93</th>\n",
              "    </tr>\n",
              "  </thead>\n",
              "  <tbody>\n",
              "    <tr>\n",
              "      <th>count</th>\n",
              "      <td>144368.000000</td>\n",
              "      <td>144368.000000</td>\n",
              "      <td>144368.000000</td>\n",
              "      <td>144368.000000</td>\n",
              "      <td>144368.000000</td>\n",
              "      <td>144368.000000</td>\n",
              "      <td>144368.000000</td>\n",
              "      <td>144368.000000</td>\n",
              "      <td>144368.000000</td>\n",
              "      <td>144368.000000</td>\n",
              "      <td>...</td>\n",
              "      <td>144368.000000</td>\n",
              "      <td>144368.000000</td>\n",
              "      <td>144368.000000</td>\n",
              "      <td>144368.000000</td>\n",
              "      <td>144368.000000</td>\n",
              "      <td>144368.000000</td>\n",
              "      <td>144368.000000</td>\n",
              "      <td>144368.000000</td>\n",
              "      <td>144368.000000</td>\n",
              "      <td>144368.000000</td>\n",
              "    </tr>\n",
              "    <tr>\n",
              "      <th>mean</th>\n",
              "      <td>0.006034</td>\n",
              "      <td>0.005858</td>\n",
              "      <td>0.010712</td>\n",
              "      <td>0.009521</td>\n",
              "      <td>0.005107</td>\n",
              "      <td>0.002404</td>\n",
              "      <td>0.004549</td>\n",
              "      <td>0.006674</td>\n",
              "      <td>0.022027</td>\n",
              "      <td>0.004556</td>\n",
              "      <td>...</td>\n",
              "      <td>0.000568</td>\n",
              "      <td>0.009616</td>\n",
              "      <td>0.015463</td>\n",
              "      <td>0.007505</td>\n",
              "      <td>0.023663</td>\n",
              "      <td>0.007634</td>\n",
              "      <td>0.006840</td>\n",
              "      <td>0.003664</td>\n",
              "      <td>0.017652</td>\n",
              "      <td>0.001458</td>\n",
              "    </tr>\n",
              "    <tr>\n",
              "      <th>std</th>\n",
              "      <td>0.022951</td>\n",
              "      <td>0.028042</td>\n",
              "      <td>0.035108</td>\n",
              "      <td>0.034710</td>\n",
              "      <td>0.030612</td>\n",
              "      <td>0.020759</td>\n",
              "      <td>0.024301</td>\n",
              "      <td>0.022868</td>\n",
              "      <td>0.075503</td>\n",
              "      <td>0.020125</td>\n",
              "      <td>...</td>\n",
              "      <td>0.009762</td>\n",
              "      <td>0.034038</td>\n",
              "      <td>0.036747</td>\n",
              "      <td>0.030214</td>\n",
              "      <td>0.056494</td>\n",
              "      <td>0.026094</td>\n",
              "      <td>0.038686</td>\n",
              "      <td>0.028022</td>\n",
              "      <td>0.045770</td>\n",
              "      <td>0.014315</td>\n",
              "    </tr>\n",
              "    <tr>\n",
              "      <th>min</th>\n",
              "      <td>0.000000</td>\n",
              "      <td>0.000000</td>\n",
              "      <td>0.000000</td>\n",
              "      <td>0.000000</td>\n",
              "      <td>0.000000</td>\n",
              "      <td>0.000000</td>\n",
              "      <td>0.000000</td>\n",
              "      <td>0.000000</td>\n",
              "      <td>0.000000</td>\n",
              "      <td>0.000000</td>\n",
              "      <td>...</td>\n",
              "      <td>0.000000</td>\n",
              "      <td>0.000000</td>\n",
              "      <td>0.000000</td>\n",
              "      <td>0.000000</td>\n",
              "      <td>0.000000</td>\n",
              "      <td>0.000000</td>\n",
              "      <td>0.000000</td>\n",
              "      <td>0.000000</td>\n",
              "      <td>0.000000</td>\n",
              "      <td>0.000000</td>\n",
              "    </tr>\n",
              "    <tr>\n",
              "      <th>25%</th>\n",
              "      <td>0.000000</td>\n",
              "      <td>0.000000</td>\n",
              "      <td>0.000000</td>\n",
              "      <td>0.000000</td>\n",
              "      <td>0.000000</td>\n",
              "      <td>0.000000</td>\n",
              "      <td>0.000000</td>\n",
              "      <td>0.000000</td>\n",
              "      <td>0.000000</td>\n",
              "      <td>0.000000</td>\n",
              "      <td>...</td>\n",
              "      <td>0.000000</td>\n",
              "      <td>0.000000</td>\n",
              "      <td>0.000000</td>\n",
              "      <td>0.000000</td>\n",
              "      <td>0.000000</td>\n",
              "      <td>0.000000</td>\n",
              "      <td>0.000000</td>\n",
              "      <td>0.000000</td>\n",
              "      <td>0.000000</td>\n",
              "      <td>0.000000</td>\n",
              "    </tr>\n",
              "    <tr>\n",
              "      <th>50%</th>\n",
              "      <td>0.000000</td>\n",
              "      <td>0.000000</td>\n",
              "      <td>0.000000</td>\n",
              "      <td>0.000000</td>\n",
              "      <td>0.000000</td>\n",
              "      <td>0.000000</td>\n",
              "      <td>0.000000</td>\n",
              "      <td>0.000000</td>\n",
              "      <td>0.000000</td>\n",
              "      <td>0.000000</td>\n",
              "      <td>...</td>\n",
              "      <td>0.000000</td>\n",
              "      <td>0.000000</td>\n",
              "      <td>0.000000</td>\n",
              "      <td>0.000000</td>\n",
              "      <td>0.000000</td>\n",
              "      <td>0.000000</td>\n",
              "      <td>0.000000</td>\n",
              "      <td>0.000000</td>\n",
              "      <td>0.000000</td>\n",
              "      <td>0.000000</td>\n",
              "    </tr>\n",
              "    <tr>\n",
              "      <th>75%</th>\n",
              "      <td>0.000000</td>\n",
              "      <td>0.000000</td>\n",
              "      <td>0.000000</td>\n",
              "      <td>0.000000</td>\n",
              "      <td>0.000000</td>\n",
              "      <td>0.000000</td>\n",
              "      <td>0.000000</td>\n",
              "      <td>0.010000</td>\n",
              "      <td>0.000000</td>\n",
              "      <td>0.000000</td>\n",
              "      <td>...</td>\n",
              "      <td>0.000000</td>\n",
              "      <td>0.000000</td>\n",
              "      <td>0.013699</td>\n",
              "      <td>0.000000</td>\n",
              "      <td>0.027027</td>\n",
              "      <td>0.000000</td>\n",
              "      <td>0.000000</td>\n",
              "      <td>0.000000</td>\n",
              "      <td>0.000000</td>\n",
              "      <td>0.000000</td>\n",
              "    </tr>\n",
              "    <tr>\n",
              "      <th>max</th>\n",
              "      <td>1.000000</td>\n",
              "      <td>1.000000</td>\n",
              "      <td>1.000000</td>\n",
              "      <td>1.000000</td>\n",
              "      <td>1.000000</td>\n",
              "      <td>1.000000</td>\n",
              "      <td>1.000000</td>\n",
              "      <td>1.000000</td>\n",
              "      <td>1.000000</td>\n",
              "      <td>1.000000</td>\n",
              "      <td>...</td>\n",
              "      <td>1.000000</td>\n",
              "      <td>1.000000</td>\n",
              "      <td>1.000000</td>\n",
              "      <td>1.000000</td>\n",
              "      <td>1.000000</td>\n",
              "      <td>1.000000</td>\n",
              "      <td>1.000000</td>\n",
              "      <td>1.000000</td>\n",
              "      <td>1.000000</td>\n",
              "      <td>1.000000</td>\n",
              "    </tr>\n",
              "  </tbody>\n",
              "</table>\n",
              "<p>8 rows × 93 columns</p>\n",
              "</div>\n",
              "      <button class=\"colab-df-convert\" onclick=\"convertToInteractive('df-048a7354-07c2-45e8-ac87-bdf886a38391')\"\n",
              "              title=\"Convert this dataframe to an interactive table.\"\n",
              "              style=\"display:none;\">\n",
              "        \n",
              "  <svg xmlns=\"http://www.w3.org/2000/svg\" height=\"24px\"viewBox=\"0 0 24 24\"\n",
              "       width=\"24px\">\n",
              "    <path d=\"M0 0h24v24H0V0z\" fill=\"none\"/>\n",
              "    <path d=\"M18.56 5.44l.94 2.06.94-2.06 2.06-.94-2.06-.94-.94-2.06-.94 2.06-2.06.94zm-11 1L8.5 8.5l.94-2.06 2.06-.94-2.06-.94L8.5 2.5l-.94 2.06-2.06.94zm10 10l.94 2.06.94-2.06 2.06-.94-2.06-.94-.94-2.06-.94 2.06-2.06.94z\"/><path d=\"M17.41 7.96l-1.37-1.37c-.4-.4-.92-.59-1.43-.59-.52 0-1.04.2-1.43.59L10.3 9.45l-7.72 7.72c-.78.78-.78 2.05 0 2.83L4 21.41c.39.39.9.59 1.41.59.51 0 1.02-.2 1.41-.59l7.78-7.78 2.81-2.81c.8-.78.8-2.07 0-2.86zM5.41 20L4 18.59l7.72-7.72 1.47 1.35L5.41 20z\"/>\n",
              "  </svg>\n",
              "      </button>\n",
              "      \n",
              "  <style>\n",
              "    .colab-df-container {\n",
              "      display:flex;\n",
              "      flex-wrap:wrap;\n",
              "      gap: 12px;\n",
              "    }\n",
              "\n",
              "    .colab-df-convert {\n",
              "      background-color: #E8F0FE;\n",
              "      border: none;\n",
              "      border-radius: 50%;\n",
              "      cursor: pointer;\n",
              "      display: none;\n",
              "      fill: #1967D2;\n",
              "      height: 32px;\n",
              "      padding: 0 0 0 0;\n",
              "      width: 32px;\n",
              "    }\n",
              "\n",
              "    .colab-df-convert:hover {\n",
              "      background-color: #E2EBFA;\n",
              "      box-shadow: 0px 1px 2px rgba(60, 64, 67, 0.3), 0px 1px 3px 1px rgba(60, 64, 67, 0.15);\n",
              "      fill: #174EA6;\n",
              "    }\n",
              "\n",
              "    [theme=dark] .colab-df-convert {\n",
              "      background-color: #3B4455;\n",
              "      fill: #D2E3FC;\n",
              "    }\n",
              "\n",
              "    [theme=dark] .colab-df-convert:hover {\n",
              "      background-color: #434B5C;\n",
              "      box-shadow: 0px 1px 3px 1px rgba(0, 0, 0, 0.15);\n",
              "      filter: drop-shadow(0px 1px 2px rgba(0, 0, 0, 0.3));\n",
              "      fill: #FFFFFF;\n",
              "    }\n",
              "  </style>\n",
              "\n",
              "      <script>\n",
              "        const buttonEl =\n",
              "          document.querySelector('#df-048a7354-07c2-45e8-ac87-bdf886a38391 button.colab-df-convert');\n",
              "        buttonEl.style.display =\n",
              "          google.colab.kernel.accessAllowed ? 'block' : 'none';\n",
              "\n",
              "        async function convertToInteractive(key) {\n",
              "          const element = document.querySelector('#df-048a7354-07c2-45e8-ac87-bdf886a38391');\n",
              "          const dataTable =\n",
              "            await google.colab.kernel.invokeFunction('convertToInteractive',\n",
              "                                                     [key], {});\n",
              "          if (!dataTable) return;\n",
              "\n",
              "          const docLinkHtml = 'Like what you see? Visit the ' +\n",
              "            '<a target=\"_blank\" href=https://colab.research.google.com/notebooks/data_table.ipynb>data table notebook</a>'\n",
              "            + ' to learn more about interactive tables.';\n",
              "          element.innerHTML = '';\n",
              "          dataTable['output_type'] = 'display_data';\n",
              "          await google.colab.output.renderOutput(dataTable, element);\n",
              "          const docLink = document.createElement('div');\n",
              "          docLink.innerHTML = docLinkHtml;\n",
              "          element.appendChild(docLink);\n",
              "        }\n",
              "      </script>\n",
              "    </div>\n",
              "  </div>\n",
              "  "
            ]
          },
          "metadata": {},
          "execution_count": 45
        }
      ]
    },
    {
      "cell_type": "markdown",
      "source": [
        "### Splitting the Training Data"
      ],
      "metadata": {
        "id": "acdgzvueAm1t"
      }
    },
    {
      "cell_type": "code",
      "source": [
        "cb_train_features, cb_test_features, cb_train_labels, cb_test_labels = train_test_split(normalized_train_features, train_labels, test_size = 0.2, random_state=42)"
      ],
      "metadata": {
        "id": "JMVm_9SjAqMv"
      },
      "execution_count": null,
      "outputs": []
    },
    {
      "cell_type": "markdown",
      "source": [
        "## 6) Base Model\n",
        "\n",
        "Before creating a Dense Neural Network model, it's good practice to create a base model to have a baseline accuracy.\n",
        "\n",
        "The model used for a base accuracy will be a K-Nearest Neighbor Classifier. This classifier was chosen because it takes a supervised learning approach. This is desired because supervised learning works best with classification, and these features are meant to classify products."
      ],
      "metadata": {
        "id": "diq1t1V0_pC8"
      }
    },
    {
      "cell_type": "code",
      "source": [
        "knn = KNeighborsClassifier(n_neighbors=3)\n",
        "knn.fit(cb_train_features, cb_train_labels)\n",
        "knnPredictions = knn.predict(cb_test_features)\n",
        "\n",
        "accuracy_score(cb_test_labels, knnPredictions)"
      ],
      "metadata": {
        "colab": {
          "base_uri": "https://localhost:8080/"
        },
        "id": "kUC4cqpm_t1m",
        "outputId": "0efb5a76-3e85-47a3-81f7-1bb2ca494add"
      },
      "execution_count": null,
      "outputs": [
        {
          "output_type": "execute_result",
          "data": {
            "text/plain": [
              "0.7636554621848739"
            ]
          },
          "metadata": {},
          "execution_count": 47
        }
      ]
    },
    {
      "cell_type": "markdown",
      "source": [
        "Now that we know our base model can achieve 76.4%, let's see what a neural network can achieve."
      ],
      "metadata": {
        "id": "ivz7nTTVF-T6"
      }
    },
    {
      "cell_type": "markdown",
      "source": [
        "## 7) Dense Neural Network (DNN)\n",
        "\n",
        "To create a Dense Neural Network, I will be using [Keras](https://keras.io/api/). According to the Keras [documentation](https://keras.io/about/), \n",
        "\n",
        "> Keras is a deep learning API written in Python, running on top of the machine learning platform [TensorFlow](https://github.com/tensorflow/tensorflow).\n",
        "\n",
        "It's advantages are that it's simple, flexible, and powerful.\n",
        "\n",
        "While Keras provides the ability to create a variety of neural networks, the dense neural network will be used for this project. It was chosen because the dataset is a bit simple compared to other use cases.\n",
        "\n",
        "By simple, I mean the dataset has a dimension of 2. It's rows are the products and the features are the properties of those products. A complex dataset would be a set of images where the rows may represent the x-coordinate and the columns represent the y-coordinate of a pixel, and the value at x,y is the brightness of a pixel. A set of black and white images would therefore have a dimension of 3 because it takes 2 dimensions to store the x,y values and another dimension to store the set of pictures."
      ],
      "metadata": {
        "id": "q4riAX1pW-Yx"
      }
    },
    {
      "cell_type": "code",
      "source": [
        "# Resplit the data with a categorized training label set for the DNN.\n",
        "cb_train_features, cb_test_features, cb_train_labels, cb_test_labels = train_test_split(normalized_train_features, train_labels_cat, test_size = 0.2, random_state=42)"
      ],
      "metadata": {
        "id": "tqG-cvXtNagT"
      },
      "execution_count": null,
      "outputs": []
    },
    {
      "cell_type": "markdown",
      "source": [
        "Take a look at the shapes to understand how to build the DNN."
      ],
      "metadata": {
        "id": "T1Q52sJEOAEg"
      }
    },
    {
      "cell_type": "code",
      "source": [
        "cb_train_features.shape"
      ],
      "metadata": {
        "colab": {
          "base_uri": "https://localhost:8080/"
        },
        "id": "QPwnQa0sJvL3",
        "outputId": "bdf731b7-fdbe-4888-a314-8ac1494ef189"
      },
      "execution_count": null,
      "outputs": [
        {
          "output_type": "execute_result",
          "data": {
            "text/plain": [
              "(49502, 93)"
            ]
          },
          "metadata": {},
          "execution_count": 49
        }
      ]
    },
    {
      "cell_type": "code",
      "source": [
        "cb_train_labels.shape"
      ],
      "metadata": {
        "colab": {
          "base_uri": "https://localhost:8080/"
        },
        "id": "sud2oEDiNtXw",
        "outputId": "389c078a-8485-4fd2-e56f-4e8fddb0a922"
      },
      "execution_count": null,
      "outputs": [
        {
          "output_type": "execute_result",
          "data": {
            "text/plain": [
              "(49502, 10)"
            ]
          },
          "metadata": {},
          "execution_count": 50
        }
      ]
    },
    {
      "cell_type": "code",
      "source": [
        "cb_test_features.shape"
      ],
      "metadata": {
        "colab": {
          "base_uri": "https://localhost:8080/"
        },
        "id": "ZBW2bPe1J52O",
        "outputId": "c1bd82ea-fbf5-4b3d-a30f-6e3436fe71ef"
      },
      "execution_count": null,
      "outputs": [
        {
          "output_type": "execute_result",
          "data": {
            "text/plain": [
              "(12376, 93)"
            ]
          },
          "metadata": {},
          "execution_count": 51
        }
      ]
    },
    {
      "cell_type": "code",
      "source": [
        "cb_test_labels.shape"
      ],
      "metadata": {
        "colab": {
          "base_uri": "https://localhost:8080/"
        },
        "id": "Ey4A92kyNv3o",
        "outputId": "5c498a47-1ad9-499e-b166-02a79c7f6407"
      },
      "execution_count": null,
      "outputs": [
        {
          "output_type": "execute_result",
          "data": {
            "text/plain": [
              "(12376, 10)"
            ]
          },
          "metadata": {},
          "execution_count": 52
        }
      ]
    },
    {
      "cell_type": "markdown",
      "source": [
        "Define the parameters for the network."
      ],
      "metadata": {
        "id": "eVsrJzYhOJSI"
      }
    },
    {
      "cell_type": "code",
      "source": [
        "input_size = 93 # The input size is the number of features, 93.\n",
        "hidden_size = [512, 256, 128, 64] # These 4 values are all powers of 2 to ensure the number of possible activations decreases with each hidden layer.\n",
        "output_size = 10 # There are 9 classes and the extra output maps to none of the classes, which is a side effect of the `to_categorical` step."
      ],
      "metadata": {
        "id": "WTv-OODfImT_"
      },
      "execution_count": null,
      "outputs": []
    },
    {
      "cell_type": "markdown",
      "source": [
        "### Instantiating Networks\n",
        "\n",
        "Build the networks.\n",
        "\n",
        "A variety of networks will be instantiated, compiled, and fitted in the hopes of understanding how many hidden layers are needed."
      ],
      "metadata": {
        "id": "mkPGAPnvONhu"
      }
    },
    {
      "cell_type": "code",
      "source": [
        "network = models.Sequential()\n",
        "network.add(layers.Dense(hidden_size[0], activation='relu', input_shape=(input_size,)))\n",
        "network.add(layers.Dense(output_size, activation='softmax'))\n",
        "\n",
        "network.summary()"
      ],
      "metadata": {
        "colab": {
          "base_uri": "https://localhost:8080/"
        },
        "id": "8txaG1zrJUSM",
        "outputId": "72a78762-86ce-4d91-a53d-132f05a039fa"
      },
      "execution_count": null,
      "outputs": [
        {
          "output_type": "stream",
          "name": "stdout",
          "text": [
            "Model: \"sequential_6\"\n",
            "_________________________________________________________________\n",
            " Layer (type)                Output Shape              Param #   \n",
            "=================================================================\n",
            " dense_18 (Dense)            (None, 512)               48128     \n",
            "                                                                 \n",
            " dense_19 (Dense)            (None, 10)                5130      \n",
            "                                                                 \n",
            "=================================================================\n",
            "Total params: 53,258\n",
            "Trainable params: 53,258\n",
            "Non-trainable params: 0\n",
            "_________________________________________________________________\n"
          ]
        }
      ]
    },
    {
      "cell_type": "code",
      "source": [
        "network2 = models.Sequential()\n",
        "network2.add(layers.Dense(hidden_size[0], activation='relu', input_shape=(input_size,)))\n",
        "network2.add(layers.Dense(hidden_size[1], activation='relu'))\n",
        "network2.add(layers.Dense(output_size, activation='softmax'))\n",
        "\n",
        "network2.summary()"
      ],
      "metadata": {
        "colab": {
          "base_uri": "https://localhost:8080/"
        },
        "id": "ID1PYFgAWl8Z",
        "outputId": "38f90d2d-3240-4ea4-f845-f1e17856ed73"
      },
      "execution_count": null,
      "outputs": [
        {
          "output_type": "stream",
          "name": "stdout",
          "text": [
            "Model: \"sequential_7\"\n",
            "_________________________________________________________________\n",
            " Layer (type)                Output Shape              Param #   \n",
            "=================================================================\n",
            " dense_20 (Dense)            (None, 512)               48128     \n",
            "                                                                 \n",
            " dense_21 (Dense)            (None, 256)               131328    \n",
            "                                                                 \n",
            " dense_22 (Dense)            (None, 10)                2570      \n",
            "                                                                 \n",
            "=================================================================\n",
            "Total params: 182,026\n",
            "Trainable params: 182,026\n",
            "Non-trainable params: 0\n",
            "_________________________________________________________________\n"
          ]
        }
      ]
    },
    {
      "cell_type": "code",
      "source": [
        "network3 = models.Sequential()\n",
        "network3.add(layers.Dense(hidden_size[0], activation='relu', input_shape=(input_size,)))\n",
        "network3.add(layers.Dense(hidden_size[1], activation='relu'))\n",
        "network3.add(layers.Dense(hidden_size[2], activation='relu'))\n",
        "network3.add(layers.Dense(output_size, activation='softmax'))\n",
        "\n",
        "network3.summary()"
      ],
      "metadata": {
        "colab": {
          "base_uri": "https://localhost:8080/"
        },
        "id": "vfmpHfYJWyNb",
        "outputId": "112c60e9-86dd-4e60-b047-25c5c58af5fb"
      },
      "execution_count": null,
      "outputs": [
        {
          "output_type": "stream",
          "name": "stdout",
          "text": [
            "Model: \"sequential_8\"\n",
            "_________________________________________________________________\n",
            " Layer (type)                Output Shape              Param #   \n",
            "=================================================================\n",
            " dense_23 (Dense)            (None, 512)               48128     \n",
            "                                                                 \n",
            " dense_24 (Dense)            (None, 256)               131328    \n",
            "                                                                 \n",
            " dense_25 (Dense)            (None, 128)               32896     \n",
            "                                                                 \n",
            " dense_26 (Dense)            (None, 10)                1290      \n",
            "                                                                 \n",
            "=================================================================\n",
            "Total params: 213,642\n",
            "Trainable params: 213,642\n",
            "Non-trainable params: 0\n",
            "_________________________________________________________________\n"
          ]
        }
      ]
    },
    {
      "cell_type": "code",
      "source": [
        "network4 = models.Sequential()\n",
        "network4.add(layers.Dense(hidden_size[0], activation='relu', input_shape=(input_size,)))\n",
        "network4.add(layers.Dense(hidden_size[1], activation='relu'))\n",
        "network4.add(layers.Dense(hidden_size[2], activation='relu'))\n",
        "network4.add(layers.Dense(hidden_size[3], activation='relu'))\n",
        "network4.add(layers.Dense(output_size, activation='softmax'))\n",
        "\n",
        "network4.summary()"
      ],
      "metadata": {
        "id": "jsBwbQfEievM",
        "outputId": "a87a6ef7-9a4c-4729-a178-ba96e018bc0d",
        "colab": {
          "base_uri": "https://localhost:8080/"
        }
      },
      "execution_count": null,
      "outputs": [
        {
          "output_type": "stream",
          "name": "stdout",
          "text": [
            "Model: \"sequential_10\"\n",
            "_________________________________________________________________\n",
            " Layer (type)                Output Shape              Param #   \n",
            "=================================================================\n",
            " dense_30 (Dense)            (None, 512)               48128     \n",
            "                                                                 \n",
            " dense_31 (Dense)            (None, 256)               131328    \n",
            "                                                                 \n",
            " dense_32 (Dense)            (None, 128)               32896     \n",
            "                                                                 \n",
            " dense_33 (Dense)            (None, 64)                8256      \n",
            "                                                                 \n",
            " dense_34 (Dense)            (None, 10)                650       \n",
            "                                                                 \n",
            "=================================================================\n",
            "Total params: 221,258\n",
            "Trainable params: 221,258\n",
            "Non-trainable params: 0\n",
            "_________________________________________________________________\n"
          ]
        }
      ]
    },
    {
      "cell_type": "markdown",
      "source": [
        "### Compile Networks\n",
        "\n",
        "Compile the networks."
      ],
      "metadata": {
        "id": "YvO1s3_lOP6A"
      }
    },
    {
      "cell_type": "code",
      "source": [
        "optimizer = optimizers.RMSprop(learning_rate=1e-4)\n",
        "\n",
        "network.compile(optimizer=optimizer,\n",
        "                loss='categorical_crossentropy',\n",
        "                metrics=['accuracy'])\n",
        "\n",
        "network2.compile(optimizer=optimizer,\n",
        "                loss='categorical_crossentropy',\n",
        "                metrics=['accuracy'])\n",
        "\n",
        "network3.compile(optimizer=optimizer,\n",
        "                loss='categorical_crossentropy',\n",
        "                metrics=['accuracy'])\n",
        "\n",
        "network4.compile(optimizer=optimizer,\n",
        "                loss='categorical_crossentropy',\n",
        "                metrics=['accuracy'])"
      ],
      "metadata": {
        "id": "IFX7G3HFLW_o"
      },
      "execution_count": null,
      "outputs": []
    },
    {
      "cell_type": "markdown",
      "source": [
        "### Fitting\n",
        "\n",
        "Fit the networks to the dataset.\n",
        "\n",
        "The training dataset is 49502, which factors into `2 * 53 * 467`. So, any combination of the those factors can be used to ensure the fit uses the entire training dataset.\n",
        "\n",
        "To ensure the fitting not take a long time, there will be 53 epochs and each bach will be 934 (2 * 467 = 934)."
      ],
      "metadata": {
        "id": "aqcVd1dlORjV"
      }
    },
    {
      "cell_type": "code",
      "source": [
        "EPOCHS = 53\n",
        "BATCH_SIZE = 934"
      ],
      "metadata": {
        "id": "oRRNZj05RxEx"
      },
      "execution_count": null,
      "outputs": []
    },
    {
      "cell_type": "code",
      "source": [
        "network.fit(cb_train_features, cb_train_labels, epochs=EPOCHS, batch_size=BATCH_SIZE)"
      ],
      "metadata": {
        "colab": {
          "base_uri": "https://localhost:8080/"
        },
        "id": "Yq0WXq6pLMrR",
        "outputId": "1efcdc9d-cfde-42dd-cf38-8ce476ce0cad"
      },
      "execution_count": null,
      "outputs": [
        {
          "output_type": "stream",
          "name": "stdout",
          "text": [
            "Epoch 1/53\n",
            "53/53 [==============================] - 1s 3ms/step - loss: 2.2558 - accuracy: 0.4286\n",
            "Epoch 2/53\n",
            "53/53 [==============================] - 0s 3ms/step - loss: 2.1660 - accuracy: 0.5356\n",
            "Epoch 3/53\n",
            "53/53 [==============================] - 0s 3ms/step - loss: 2.0660 - accuracy: 0.5433\n",
            "Epoch 4/53\n",
            "53/53 [==============================] - 0s 3ms/step - loss: 1.9568 - accuracy: 0.5471\n",
            "Epoch 5/53\n",
            "53/53 [==============================] - 0s 3ms/step - loss: 1.8460 - accuracy: 0.5497\n",
            "Epoch 6/53\n",
            "53/53 [==============================] - 0s 3ms/step - loss: 1.7398 - accuracy: 0.5535\n",
            "Epoch 7/53\n",
            "53/53 [==============================] - 0s 3ms/step - loss: 1.6432 - accuracy: 0.5587\n",
            "Epoch 8/53\n",
            "53/53 [==============================] - 0s 3ms/step - loss: 1.5566 - accuracy: 0.5681\n",
            "Epoch 9/53\n",
            "53/53 [==============================] - 0s 3ms/step - loss: 1.4790 - accuracy: 0.5805\n",
            "Epoch 10/53\n",
            "53/53 [==============================] - 0s 3ms/step - loss: 1.4086 - accuracy: 0.5929\n",
            "Epoch 11/53\n",
            "53/53 [==============================] - 0s 3ms/step - loss: 1.3448 - accuracy: 0.6066\n",
            "Epoch 12/53\n",
            "53/53 [==============================] - 0s 3ms/step - loss: 1.2869 - accuracy: 0.6178\n",
            "Epoch 13/53\n",
            "53/53 [==============================] - 0s 3ms/step - loss: 1.2343 - accuracy: 0.6305\n",
            "Epoch 14/53\n",
            "53/53 [==============================] - 0s 3ms/step - loss: 1.1864 - accuracy: 0.6413\n",
            "Epoch 15/53\n",
            "53/53 [==============================] - 0s 3ms/step - loss: 1.1436 - accuracy: 0.6513\n",
            "Epoch 16/53\n",
            "53/53 [==============================] - 0s 3ms/step - loss: 1.1047 - accuracy: 0.6606\n",
            "Epoch 17/53\n",
            "53/53 [==============================] - 0s 3ms/step - loss: 1.0693 - accuracy: 0.6689\n",
            "Epoch 18/53\n",
            "53/53 [==============================] - 0s 3ms/step - loss: 1.0369 - accuracy: 0.6776\n",
            "Epoch 19/53\n",
            "53/53 [==============================] - 0s 4ms/step - loss: 1.0074 - accuracy: 0.6851\n",
            "Epoch 20/53\n",
            "53/53 [==============================] - 0s 3ms/step - loss: 0.9806 - accuracy: 0.6916\n",
            "Epoch 21/53\n",
            "53/53 [==============================] - 0s 3ms/step - loss: 0.9561 - accuracy: 0.6985\n",
            "Epoch 22/53\n",
            "53/53 [==============================] - 0s 3ms/step - loss: 0.9340 - accuracy: 0.7030\n",
            "Epoch 23/53\n",
            "53/53 [==============================] - 0s 3ms/step - loss: 0.9137 - accuracy: 0.7066\n",
            "Epoch 24/53\n",
            "53/53 [==============================] - 0s 3ms/step - loss: 0.8950 - accuracy: 0.7097\n",
            "Epoch 25/53\n",
            "53/53 [==============================] - 0s 3ms/step - loss: 0.8780 - accuracy: 0.7127\n",
            "Epoch 26/53\n",
            "53/53 [==============================] - 0s 3ms/step - loss: 0.8625 - accuracy: 0.7147\n",
            "Epoch 27/53\n",
            "53/53 [==============================] - 0s 3ms/step - loss: 0.8483 - accuracy: 0.7170\n",
            "Epoch 28/53\n",
            "53/53 [==============================] - 0s 3ms/step - loss: 0.8353 - accuracy: 0.7191\n",
            "Epoch 29/53\n",
            "53/53 [==============================] - 0s 3ms/step - loss: 0.8234 - accuracy: 0.7208\n",
            "Epoch 30/53\n",
            "53/53 [==============================] - 0s 3ms/step - loss: 0.8124 - accuracy: 0.7223\n",
            "Epoch 31/53\n",
            "53/53 [==============================] - 0s 3ms/step - loss: 0.8023 - accuracy: 0.7236\n",
            "Epoch 32/53\n",
            "53/53 [==============================] - 0s 3ms/step - loss: 0.7929 - accuracy: 0.7248\n",
            "Epoch 33/53\n",
            "53/53 [==============================] - 0s 3ms/step - loss: 0.7843 - accuracy: 0.7258\n",
            "Epoch 34/53\n",
            "53/53 [==============================] - 0s 3ms/step - loss: 0.7763 - accuracy: 0.7270\n",
            "Epoch 35/53\n",
            "53/53 [==============================] - 0s 3ms/step - loss: 0.7689 - accuracy: 0.7282\n",
            "Epoch 36/53\n",
            "53/53 [==============================] - 0s 3ms/step - loss: 0.7619 - accuracy: 0.7293\n",
            "Epoch 37/53\n",
            "53/53 [==============================] - 0s 3ms/step - loss: 0.7556 - accuracy: 0.7300\n",
            "Epoch 38/53\n",
            "53/53 [==============================] - 0s 3ms/step - loss: 0.7496 - accuracy: 0.7309\n",
            "Epoch 39/53\n",
            "53/53 [==============================] - 0s 3ms/step - loss: 0.7439 - accuracy: 0.7316\n",
            "Epoch 40/53\n",
            "53/53 [==============================] - 0s 3ms/step - loss: 0.7386 - accuracy: 0.7321\n",
            "Epoch 41/53\n",
            "53/53 [==============================] - 0s 3ms/step - loss: 0.7336 - accuracy: 0.7331\n",
            "Epoch 42/53\n",
            "53/53 [==============================] - 0s 3ms/step - loss: 0.7289 - accuracy: 0.7333\n",
            "Epoch 43/53\n",
            "53/53 [==============================] - 0s 3ms/step - loss: 0.7244 - accuracy: 0.7339\n",
            "Epoch 44/53\n",
            "53/53 [==============================] - 0s 3ms/step - loss: 0.7201 - accuracy: 0.7351\n",
            "Epoch 45/53\n",
            "53/53 [==============================] - 0s 3ms/step - loss: 0.7161 - accuracy: 0.7358\n",
            "Epoch 46/53\n",
            "53/53 [==============================] - 0s 3ms/step - loss: 0.7122 - accuracy: 0.7361\n",
            "Epoch 47/53\n",
            "53/53 [==============================] - 0s 3ms/step - loss: 0.7086 - accuracy: 0.7374\n",
            "Epoch 48/53\n",
            "53/53 [==============================] - 0s 3ms/step - loss: 0.7051 - accuracy: 0.7378\n",
            "Epoch 49/53\n",
            "53/53 [==============================] - 0s 3ms/step - loss: 0.7017 - accuracy: 0.7388\n",
            "Epoch 50/53\n",
            "53/53 [==============================] - 0s 3ms/step - loss: 0.6986 - accuracy: 0.7393\n",
            "Epoch 51/53\n",
            "53/53 [==============================] - 0s 3ms/step - loss: 0.6955 - accuracy: 0.7402\n",
            "Epoch 52/53\n",
            "53/53 [==============================] - 0s 3ms/step - loss: 0.6926 - accuracy: 0.7409\n",
            "Epoch 53/53\n",
            "53/53 [==============================] - 0s 3ms/step - loss: 0.6898 - accuracy: 0.7419\n"
          ]
        },
        {
          "output_type": "execute_result",
          "data": {
            "text/plain": [
              "<keras.callbacks.History at 0x7fdc92703050>"
            ]
          },
          "metadata": {},
          "execution_count": 80
        }
      ]
    },
    {
      "cell_type": "code",
      "source": [
        "network2.fit(cb_train_features, cb_train_labels, epochs=EPOCHS, batch_size=BATCH_SIZE)"
      ],
      "metadata": {
        "colab": {
          "base_uri": "https://localhost:8080/"
        },
        "id": "vcTk5P6uXDp7",
        "outputId": "2442b1c9-282a-4b57-fe9d-2c8778969a8f"
      },
      "execution_count": null,
      "outputs": [
        {
          "output_type": "stream",
          "name": "stdout",
          "text": [
            "Epoch 1/53\n",
            "53/53 [==============================] - 1s 3ms/step - loss: 2.1782 - accuracy: 0.4688\n",
            "Epoch 2/53\n",
            "53/53 [==============================] - 0s 3ms/step - loss: 1.9237 - accuracy: 0.5186\n",
            "Epoch 3/53\n",
            "53/53 [==============================] - 0s 4ms/step - loss: 1.6605 - accuracy: 0.5491\n",
            "Epoch 4/53\n",
            "53/53 [==============================] - 0s 3ms/step - loss: 1.4401 - accuracy: 0.5889\n",
            "Epoch 5/53\n",
            "53/53 [==============================] - 0s 3ms/step - loss: 1.2645 - accuracy: 0.6261\n",
            "Epoch 6/53\n",
            "53/53 [==============================] - 0s 3ms/step - loss: 1.1299 - accuracy: 0.6488\n",
            "Epoch 7/53\n",
            "53/53 [==============================] - 0s 3ms/step - loss: 1.0285 - accuracy: 0.6740\n",
            "Epoch 8/53\n",
            "53/53 [==============================] - 0s 3ms/step - loss: 0.9510 - accuracy: 0.6965\n",
            "Epoch 9/53\n",
            "53/53 [==============================] - 0s 3ms/step - loss: 0.8912 - accuracy: 0.7090\n",
            "Epoch 10/53\n",
            "53/53 [==============================] - 0s 3ms/step - loss: 0.8455 - accuracy: 0.7165\n",
            "Epoch 11/53\n",
            "53/53 [==============================] - 0s 3ms/step - loss: 0.8106 - accuracy: 0.7204\n",
            "Epoch 12/53\n",
            "53/53 [==============================] - 0s 3ms/step - loss: 0.7833 - accuracy: 0.7239\n",
            "Epoch 13/53\n",
            "53/53 [==============================] - 0s 3ms/step - loss: 0.7616 - accuracy: 0.7275\n",
            "Epoch 14/53\n",
            "53/53 [==============================] - 0s 4ms/step - loss: 0.7440 - accuracy: 0.7295\n",
            "Epoch 15/53\n",
            "53/53 [==============================] - 0s 3ms/step - loss: 0.7299 - accuracy: 0.7316\n",
            "Epoch 16/53\n",
            "53/53 [==============================] - 0s 3ms/step - loss: 0.7179 - accuracy: 0.7338\n",
            "Epoch 17/53\n",
            "53/53 [==============================] - 0s 3ms/step - loss: 0.7076 - accuracy: 0.7356\n",
            "Epoch 18/53\n",
            "53/53 [==============================] - 0s 3ms/step - loss: 0.6988 - accuracy: 0.7385\n",
            "Epoch 19/53\n",
            "53/53 [==============================] - 0s 3ms/step - loss: 0.6909 - accuracy: 0.7398\n",
            "Epoch 20/53\n",
            "53/53 [==============================] - 0s 3ms/step - loss: 0.6839 - accuracy: 0.7411\n",
            "Epoch 21/53\n",
            "53/53 [==============================] - 0s 3ms/step - loss: 0.6777 - accuracy: 0.7429\n",
            "Epoch 22/53\n",
            "53/53 [==============================] - 0s 3ms/step - loss: 0.6716 - accuracy: 0.7439\n",
            "Epoch 23/53\n",
            "53/53 [==============================] - 0s 3ms/step - loss: 0.6662 - accuracy: 0.7463\n",
            "Epoch 24/53\n",
            "53/53 [==============================] - 0s 3ms/step - loss: 0.6610 - accuracy: 0.7477\n",
            "Epoch 25/53\n",
            "53/53 [==============================] - 0s 4ms/step - loss: 0.6564 - accuracy: 0.7486\n",
            "Epoch 26/53\n",
            "53/53 [==============================] - 0s 3ms/step - loss: 0.6521 - accuracy: 0.7498\n",
            "Epoch 27/53\n",
            "53/53 [==============================] - 0s 3ms/step - loss: 0.6480 - accuracy: 0.7514\n",
            "Epoch 28/53\n",
            "53/53 [==============================] - 0s 3ms/step - loss: 0.6443 - accuracy: 0.7527\n",
            "Epoch 29/53\n",
            "53/53 [==============================] - 0s 3ms/step - loss: 0.6405 - accuracy: 0.7531\n",
            "Epoch 30/53\n",
            "53/53 [==============================] - 0s 3ms/step - loss: 0.6371 - accuracy: 0.7555\n",
            "Epoch 31/53\n",
            "53/53 [==============================] - 0s 4ms/step - loss: 0.6338 - accuracy: 0.7559\n",
            "Epoch 32/53\n",
            "53/53 [==============================] - 0s 3ms/step - loss: 0.6309 - accuracy: 0.7575\n",
            "Epoch 33/53\n",
            "53/53 [==============================] - 0s 3ms/step - loss: 0.6278 - accuracy: 0.7588\n",
            "Epoch 34/53\n",
            "53/53 [==============================] - 0s 3ms/step - loss: 0.6249 - accuracy: 0.7603\n",
            "Epoch 35/53\n",
            "53/53 [==============================] - 0s 3ms/step - loss: 0.6221 - accuracy: 0.7615\n",
            "Epoch 36/53\n",
            "53/53 [==============================] - 0s 3ms/step - loss: 0.6196 - accuracy: 0.7617\n",
            "Epoch 37/53\n",
            "53/53 [==============================] - 0s 3ms/step - loss: 0.6170 - accuracy: 0.7624\n",
            "Epoch 38/53\n",
            "53/53 [==============================] - 0s 3ms/step - loss: 0.6145 - accuracy: 0.7633\n",
            "Epoch 39/53\n",
            "53/53 [==============================] - 0s 3ms/step - loss: 0.6123 - accuracy: 0.7646\n",
            "Epoch 40/53\n",
            "53/53 [==============================] - 0s 3ms/step - loss: 0.6101 - accuracy: 0.7647\n",
            "Epoch 41/53\n",
            "53/53 [==============================] - 0s 3ms/step - loss: 0.6080 - accuracy: 0.7654\n",
            "Epoch 42/53\n",
            "53/53 [==============================] - 0s 3ms/step - loss: 0.6058 - accuracy: 0.7663\n",
            "Epoch 43/53\n",
            "53/53 [==============================] - 0s 3ms/step - loss: 0.6038 - accuracy: 0.7668\n",
            "Epoch 44/53\n",
            "53/53 [==============================] - 0s 3ms/step - loss: 0.6019 - accuracy: 0.7675\n",
            "Epoch 45/53\n",
            "53/53 [==============================] - 0s 3ms/step - loss: 0.6001 - accuracy: 0.7684\n",
            "Epoch 46/53\n",
            "53/53 [==============================] - 0s 3ms/step - loss: 0.5982 - accuracy: 0.7688\n",
            "Epoch 47/53\n",
            "53/53 [==============================] - 0s 4ms/step - loss: 0.5964 - accuracy: 0.7698\n",
            "Epoch 48/53\n",
            "53/53 [==============================] - 0s 3ms/step - loss: 0.5949 - accuracy: 0.7702\n",
            "Epoch 49/53\n",
            "53/53 [==============================] - 0s 3ms/step - loss: 0.5931 - accuracy: 0.7708\n",
            "Epoch 50/53\n",
            "53/53 [==============================] - 0s 3ms/step - loss: 0.5918 - accuracy: 0.7714\n",
            "Epoch 51/53\n",
            "53/53 [==============================] - 0s 3ms/step - loss: 0.5900 - accuracy: 0.7721\n",
            "Epoch 52/53\n",
            "53/53 [==============================] - 0s 4ms/step - loss: 0.5886 - accuracy: 0.7728\n",
            "Epoch 53/53\n",
            "53/53 [==============================] - 0s 4ms/step - loss: 0.5871 - accuracy: 0.7729\n"
          ]
        },
        {
          "output_type": "execute_result",
          "data": {
            "text/plain": [
              "<keras.callbacks.History at 0x7fdc92761610>"
            ]
          },
          "metadata": {},
          "execution_count": 81
        }
      ]
    },
    {
      "cell_type": "code",
      "source": [
        "network3.fit(cb_train_features, cb_train_labels, epochs=EPOCHS, batch_size=BATCH_SIZE)"
      ],
      "metadata": {
        "colab": {
          "base_uri": "https://localhost:8080/"
        },
        "id": "3yM8FHeqXEFK",
        "outputId": "f3b72350-0830-4638-a287-4413eaa5a9d1"
      },
      "execution_count": null,
      "outputs": [
        {
          "output_type": "stream",
          "name": "stdout",
          "text": [
            "Epoch 1/53\n",
            "53/53 [==============================] - 1s 4ms/step - loss: 2.1892 - accuracy: 0.4911\n",
            "Epoch 2/53\n",
            "53/53 [==============================] - 0s 4ms/step - loss: 1.8559 - accuracy: 0.5591\n",
            "Epoch 3/53\n",
            "53/53 [==============================] - 0s 4ms/step - loss: 1.5023 - accuracy: 0.5715\n",
            "Epoch 4/53\n",
            "53/53 [==============================] - 0s 4ms/step - loss: 1.2577 - accuracy: 0.6140\n",
            "Epoch 5/53\n",
            "53/53 [==============================] - 0s 4ms/step - loss: 1.0927 - accuracy: 0.6501\n",
            "Epoch 6/53\n",
            "53/53 [==============================] - 0s 4ms/step - loss: 0.9785 - accuracy: 0.6815\n",
            "Epoch 7/53\n",
            "53/53 [==============================] - 0s 4ms/step - loss: 0.8968 - accuracy: 0.7043\n",
            "Epoch 8/53\n",
            "53/53 [==============================] - 0s 4ms/step - loss: 0.8376 - accuracy: 0.7161\n",
            "Epoch 9/53\n",
            "53/53 [==============================] - 0s 4ms/step - loss: 0.7949 - accuracy: 0.7225\n",
            "Epoch 10/53\n",
            "53/53 [==============================] - 0s 4ms/step - loss: 0.7638 - accuracy: 0.7261\n",
            "Epoch 11/53\n",
            "53/53 [==============================] - 0s 4ms/step - loss: 0.7397 - accuracy: 0.7290\n",
            "Epoch 12/53\n",
            "53/53 [==============================] - 0s 4ms/step - loss: 0.7215 - accuracy: 0.7322\n",
            "Epoch 13/53\n",
            "53/53 [==============================] - 0s 4ms/step - loss: 0.7077 - accuracy: 0.7350\n",
            "Epoch 14/53\n",
            "53/53 [==============================] - 0s 3ms/step - loss: 0.6958 - accuracy: 0.7368\n",
            "Epoch 15/53\n",
            "53/53 [==============================] - 0s 4ms/step - loss: 0.6856 - accuracy: 0.7396\n",
            "Epoch 16/53\n",
            "53/53 [==============================] - 0s 4ms/step - loss: 0.6771 - accuracy: 0.7408\n",
            "Epoch 17/53\n",
            "53/53 [==============================] - 0s 4ms/step - loss: 0.6691 - accuracy: 0.7441\n",
            "Epoch 18/53\n",
            "53/53 [==============================] - 0s 4ms/step - loss: 0.6623 - accuracy: 0.7457\n",
            "Epoch 19/53\n",
            "53/53 [==============================] - 0s 4ms/step - loss: 0.6559 - accuracy: 0.7479\n",
            "Epoch 20/53\n",
            "53/53 [==============================] - 0s 4ms/step - loss: 0.6498 - accuracy: 0.7502\n",
            "Epoch 21/53\n",
            "53/53 [==============================] - 0s 4ms/step - loss: 0.6442 - accuracy: 0.7519\n",
            "Epoch 22/53\n",
            "53/53 [==============================] - 0s 3ms/step - loss: 0.6395 - accuracy: 0.7528\n",
            "Epoch 23/53\n",
            "53/53 [==============================] - 0s 3ms/step - loss: 0.6346 - accuracy: 0.7545\n",
            "Epoch 24/53\n",
            "53/53 [==============================] - 0s 4ms/step - loss: 0.6302 - accuracy: 0.7564\n",
            "Epoch 25/53\n",
            "53/53 [==============================] - 0s 4ms/step - loss: 0.6260 - accuracy: 0.7569\n",
            "Epoch 26/53\n",
            "53/53 [==============================] - 0s 4ms/step - loss: 0.6220 - accuracy: 0.7587\n",
            "Epoch 27/53\n",
            "53/53 [==============================] - 0s 4ms/step - loss: 0.6186 - accuracy: 0.7603\n",
            "Epoch 28/53\n",
            "53/53 [==============================] - 0s 4ms/step - loss: 0.6150 - accuracy: 0.7610\n",
            "Epoch 29/53\n",
            "53/53 [==============================] - 0s 4ms/step - loss: 0.6116 - accuracy: 0.7622\n",
            "Epoch 30/53\n",
            "53/53 [==============================] - 0s 4ms/step - loss: 0.6087 - accuracy: 0.7642\n",
            "Epoch 31/53\n",
            "53/53 [==============================] - 0s 4ms/step - loss: 0.6055 - accuracy: 0.7653\n",
            "Epoch 32/53\n",
            "53/53 [==============================] - 0s 4ms/step - loss: 0.6028 - accuracy: 0.7661\n",
            "Epoch 33/53\n",
            "53/53 [==============================] - 0s 4ms/step - loss: 0.6002 - accuracy: 0.7679\n",
            "Epoch 34/53\n",
            "53/53 [==============================] - 0s 4ms/step - loss: 0.5978 - accuracy: 0.7682\n",
            "Epoch 35/53\n",
            "53/53 [==============================] - 0s 4ms/step - loss: 0.5949 - accuracy: 0.7682\n",
            "Epoch 36/53\n",
            "53/53 [==============================] - 0s 4ms/step - loss: 0.5927 - accuracy: 0.7707\n",
            "Epoch 37/53\n",
            "53/53 [==============================] - 0s 3ms/step - loss: 0.5905 - accuracy: 0.7714\n",
            "Epoch 38/53\n",
            "53/53 [==============================] - 0s 4ms/step - loss: 0.5885 - accuracy: 0.7711\n",
            "Epoch 39/53\n",
            "53/53 [==============================] - 0s 4ms/step - loss: 0.5860 - accuracy: 0.7719\n",
            "Epoch 40/53\n",
            "53/53 [==============================] - 0s 4ms/step - loss: 0.5843 - accuracy: 0.7726\n",
            "Epoch 41/53\n",
            "53/53 [==============================] - 0s 4ms/step - loss: 0.5823 - accuracy: 0.7733\n",
            "Epoch 42/53\n",
            "53/53 [==============================] - 0s 4ms/step - loss: 0.5805 - accuracy: 0.7745\n",
            "Epoch 43/53\n",
            "53/53 [==============================] - 0s 4ms/step - loss: 0.5783 - accuracy: 0.7758\n",
            "Epoch 44/53\n",
            "53/53 [==============================] - 0s 4ms/step - loss: 0.5766 - accuracy: 0.7759\n",
            "Epoch 45/53\n",
            "53/53 [==============================] - 0s 4ms/step - loss: 0.5750 - accuracy: 0.7755\n",
            "Epoch 46/53\n",
            "53/53 [==============================] - 0s 4ms/step - loss: 0.5734 - accuracy: 0.7765\n",
            "Epoch 47/53\n",
            "53/53 [==============================] - 0s 4ms/step - loss: 0.5716 - accuracy: 0.7770\n",
            "Epoch 48/53\n",
            "53/53 [==============================] - 0s 4ms/step - loss: 0.5702 - accuracy: 0.7775\n",
            "Epoch 49/53\n",
            "53/53 [==============================] - 0s 4ms/step - loss: 0.5686 - accuracy: 0.7775\n",
            "Epoch 50/53\n",
            "53/53 [==============================] - 0s 4ms/step - loss: 0.5669 - accuracy: 0.7786\n",
            "Epoch 51/53\n",
            "53/53 [==============================] - 0s 4ms/step - loss: 0.5653 - accuracy: 0.7793\n",
            "Epoch 52/53\n",
            "53/53 [==============================] - 0s 4ms/step - loss: 0.5642 - accuracy: 0.7801\n",
            "Epoch 53/53\n",
            "53/53 [==============================] - 0s 4ms/step - loss: 0.5624 - accuracy: 0.7812\n"
          ]
        },
        {
          "output_type": "execute_result",
          "data": {
            "text/plain": [
              "<keras.callbacks.History at 0x7fdc92457c90>"
            ]
          },
          "metadata": {},
          "execution_count": 82
        }
      ]
    },
    {
      "cell_type": "code",
      "source": [
        "network4.fit(cb_train_features, cb_train_labels, epochs=EPOCHS, batch_size=BATCH_SIZE)"
      ],
      "metadata": {
        "id": "Vf33i4P1iovK",
        "outputId": "85b721a3-3290-411a-e390-d4e5c286f525",
        "colab": {
          "base_uri": "https://localhost:8080/"
        }
      },
      "execution_count": null,
      "outputs": [
        {
          "output_type": "stream",
          "name": "stdout",
          "text": [
            "Epoch 1/53\n",
            "53/53 [==============================] - 0s 4ms/step - loss: 0.5536 - accuracy: 0.7848\n",
            "Epoch 2/53\n",
            "53/53 [==============================] - 0s 4ms/step - loss: 0.5521 - accuracy: 0.7850\n",
            "Epoch 3/53\n",
            "53/53 [==============================] - 0s 4ms/step - loss: 0.5509 - accuracy: 0.7868\n",
            "Epoch 4/53\n",
            "53/53 [==============================] - 0s 4ms/step - loss: 0.5494 - accuracy: 0.7878\n",
            "Epoch 5/53\n",
            "53/53 [==============================] - 0s 4ms/step - loss: 0.5483 - accuracy: 0.7874\n",
            "Epoch 6/53\n",
            "53/53 [==============================] - 0s 4ms/step - loss: 0.5467 - accuracy: 0.7884\n",
            "Epoch 7/53\n",
            "53/53 [==============================] - 0s 4ms/step - loss: 0.5457 - accuracy: 0.7877\n",
            "Epoch 8/53\n",
            "53/53 [==============================] - 0s 4ms/step - loss: 0.5442 - accuracy: 0.7883\n",
            "Epoch 9/53\n",
            "53/53 [==============================] - 0s 4ms/step - loss: 0.5431 - accuracy: 0.7887\n",
            "Epoch 10/53\n",
            "53/53 [==============================] - 0s 4ms/step - loss: 0.5422 - accuracy: 0.7892\n",
            "Epoch 11/53\n",
            "53/53 [==============================] - 0s 4ms/step - loss: 0.5406 - accuracy: 0.7885\n",
            "Epoch 12/53\n",
            "53/53 [==============================] - 0s 4ms/step - loss: 0.5396 - accuracy: 0.7909\n",
            "Epoch 13/53\n",
            "53/53 [==============================] - 0s 4ms/step - loss: 0.5382 - accuracy: 0.7897\n",
            "Epoch 14/53\n",
            "53/53 [==============================] - 0s 4ms/step - loss: 0.5373 - accuracy: 0.7899\n",
            "Epoch 15/53\n",
            "53/53 [==============================] - 0s 4ms/step - loss: 0.5360 - accuracy: 0.7908\n",
            "Epoch 16/53\n",
            "53/53 [==============================] - 0s 4ms/step - loss: 0.5350 - accuracy: 0.7926\n",
            "Epoch 17/53\n",
            "53/53 [==============================] - 0s 4ms/step - loss: 0.5333 - accuracy: 0.7918\n",
            "Epoch 18/53\n",
            "53/53 [==============================] - 0s 4ms/step - loss: 0.5326 - accuracy: 0.7925\n",
            "Epoch 19/53\n",
            "53/53 [==============================] - 0s 4ms/step - loss: 0.5315 - accuracy: 0.7920\n",
            "Epoch 20/53\n",
            "53/53 [==============================] - 0s 4ms/step - loss: 0.5299 - accuracy: 0.7934\n",
            "Epoch 21/53\n",
            "53/53 [==============================] - 0s 4ms/step - loss: 0.5291 - accuracy: 0.7953\n",
            "Epoch 22/53\n",
            "53/53 [==============================] - 0s 4ms/step - loss: 0.5280 - accuracy: 0.7935\n",
            "Epoch 23/53\n",
            "53/53 [==============================] - 0s 4ms/step - loss: 0.5268 - accuracy: 0.7947\n",
            "Epoch 24/53\n",
            "53/53 [==============================] - 0s 4ms/step - loss: 0.5253 - accuracy: 0.7961\n",
            "Epoch 25/53\n",
            "53/53 [==============================] - 0s 4ms/step - loss: 0.5245 - accuracy: 0.7966\n",
            "Epoch 26/53\n",
            "53/53 [==============================] - 0s 4ms/step - loss: 0.5234 - accuracy: 0.7963\n",
            "Epoch 27/53\n",
            "53/53 [==============================] - 0s 4ms/step - loss: 0.5226 - accuracy: 0.7973\n",
            "Epoch 28/53\n",
            "53/53 [==============================] - 0s 4ms/step - loss: 0.5208 - accuracy: 0.7965\n",
            "Epoch 29/53\n",
            "53/53 [==============================] - 0s 4ms/step - loss: 0.5199 - accuracy: 0.7980\n",
            "Epoch 30/53\n",
            "53/53 [==============================] - 0s 4ms/step - loss: 0.5193 - accuracy: 0.7980\n",
            "Epoch 31/53\n",
            "53/53 [==============================] - 0s 4ms/step - loss: 0.5180 - accuracy: 0.7983\n",
            "Epoch 32/53\n",
            "53/53 [==============================] - 0s 4ms/step - loss: 0.5173 - accuracy: 0.7990\n",
            "Epoch 33/53\n",
            "53/53 [==============================] - 0s 4ms/step - loss: 0.5165 - accuracy: 0.7990\n",
            "Epoch 34/53\n",
            "53/53 [==============================] - 0s 4ms/step - loss: 0.5147 - accuracy: 0.8001\n",
            "Epoch 35/53\n",
            "53/53 [==============================] - 0s 4ms/step - loss: 0.5141 - accuracy: 0.7999\n",
            "Epoch 36/53\n",
            "53/53 [==============================] - 0s 4ms/step - loss: 0.5129 - accuracy: 0.8005\n",
            "Epoch 37/53\n",
            "53/53 [==============================] - 0s 4ms/step - loss: 0.5121 - accuracy: 0.8001\n",
            "Epoch 38/53\n",
            "53/53 [==============================] - 0s 4ms/step - loss: 0.5116 - accuracy: 0.8014\n",
            "Epoch 39/53\n",
            "53/53 [==============================] - 0s 4ms/step - loss: 0.5101 - accuracy: 0.8018\n",
            "Epoch 40/53\n",
            "53/53 [==============================] - 0s 4ms/step - loss: 0.5093 - accuracy: 0.8024\n",
            "Epoch 41/53\n",
            "53/53 [==============================] - 0s 4ms/step - loss: 0.5083 - accuracy: 0.8033\n",
            "Epoch 42/53\n",
            "53/53 [==============================] - 0s 4ms/step - loss: 0.5075 - accuracy: 0.8030\n",
            "Epoch 43/53\n",
            "53/53 [==============================] - 0s 4ms/step - loss: 0.5062 - accuracy: 0.8037\n",
            "Epoch 44/53\n",
            "53/53 [==============================] - 0s 4ms/step - loss: 0.5058 - accuracy: 0.8044\n",
            "Epoch 45/53\n",
            "53/53 [==============================] - 0s 4ms/step - loss: 0.5048 - accuracy: 0.8038\n",
            "Epoch 46/53\n",
            "53/53 [==============================] - 0s 4ms/step - loss: 0.5030 - accuracy: 0.8043\n",
            "Epoch 47/53\n",
            "53/53 [==============================] - 0s 4ms/step - loss: 0.5028 - accuracy: 0.8039\n",
            "Epoch 48/53\n",
            "53/53 [==============================] - 0s 4ms/step - loss: 0.5020 - accuracy: 0.8043\n",
            "Epoch 49/53\n",
            "53/53 [==============================] - 0s 4ms/step - loss: 0.5012 - accuracy: 0.8046\n",
            "Epoch 50/53\n",
            "53/53 [==============================] - 0s 4ms/step - loss: 0.4995 - accuracy: 0.8052\n",
            "Epoch 51/53\n",
            "53/53 [==============================] - 0s 4ms/step - loss: 0.4990 - accuracy: 0.8067\n",
            "Epoch 52/53\n",
            "53/53 [==============================] - 0s 4ms/step - loss: 0.4982 - accuracy: 0.8054\n",
            "Epoch 53/53\n",
            "53/53 [==============================] - 0s 4ms/step - loss: 0.4968 - accuracy: 0.8062\n"
          ]
        },
        {
          "output_type": "execute_result",
          "data": {
            "text/plain": [
              "<keras.callbacks.History at 0x7fdc8a385e90>"
            ]
          },
          "metadata": {},
          "execution_count": 111
        }
      ]
    },
    {
      "cell_type": "markdown",
      "source": [
        "### Accuracy of Networks"
      ],
      "metadata": {
        "id": "tLD0d0hlX7i1"
      }
    },
    {
      "cell_type": "markdown",
      "source": [
        "#### 1 Hidden Layer"
      ],
      "metadata": {
        "id": "LBz2zCW0XGRu"
      }
    },
    {
      "cell_type": "code",
      "source": [
        "test_loss, test_acc = network.evaluate(cb_test_features, cb_test_labels)"
      ],
      "metadata": {
        "colab": {
          "base_uri": "https://localhost:8080/"
        },
        "id": "9mlIZDiUPKkA",
        "outputId": "e613ce73-bf2d-490b-f990-4616c48784eb"
      },
      "execution_count": null,
      "outputs": [
        {
          "output_type": "stream",
          "name": "stdout",
          "text": [
            "387/387 [==============================] - 1s 2ms/step - loss: 0.6847 - accuracy: 0.7460\n"
          ]
        }
      ]
    },
    {
      "cell_type": "code",
      "source": [
        "print('test_acc:', test_acc)"
      ],
      "metadata": {
        "colab": {
          "base_uri": "https://localhost:8080/"
        },
        "id": "ICy2EJXxPPwO",
        "outputId": "be9594fc-9733-4d65-afd7-7a7cd9bd45ac"
      },
      "execution_count": null,
      "outputs": [
        {
          "output_type": "stream",
          "name": "stdout",
          "text": [
            "test_acc: 0.7459599375724792\n"
          ]
        }
      ]
    },
    {
      "cell_type": "markdown",
      "source": [
        "#### 2 Hidden Layers"
      ],
      "metadata": {
        "id": "TBHPe5cLXKQL"
      }
    },
    {
      "cell_type": "code",
      "source": [
        "test_loss, test_acc = network2.evaluate(cb_test_features, cb_test_labels)"
      ],
      "metadata": {
        "colab": {
          "base_uri": "https://localhost:8080/"
        },
        "id": "wCJCrZz6XMAi",
        "outputId": "8b65f0d6-258b-4c9e-f40f-84de4a18e174"
      },
      "execution_count": null,
      "outputs": [
        {
          "output_type": "stream",
          "name": "stdout",
          "text": [
            "387/387 [==============================] - 1s 2ms/step - loss: 0.5915 - accuracy: 0.7731\n"
          ]
        }
      ]
    },
    {
      "cell_type": "code",
      "source": [
        "print('test_acc:', test_acc)"
      ],
      "metadata": {
        "colab": {
          "base_uri": "https://localhost:8080/"
        },
        "id": "rWeje3XKXMg-",
        "outputId": "713bfc8e-7c9d-4687-c3a9-814375b3e485"
      },
      "execution_count": null,
      "outputs": [
        {
          "output_type": "stream",
          "name": "stdout",
          "text": [
            "test_acc: 0.7731092572212219\n"
          ]
        }
      ]
    },
    {
      "cell_type": "markdown",
      "source": [
        "#### 3 Hidden Layers"
      ],
      "metadata": {
        "id": "stimYslrXM51"
      }
    },
    {
      "cell_type": "code",
      "source": [
        "test_loss, test_acc = network3.evaluate(cb_test_features, cb_test_labels)"
      ],
      "metadata": {
        "colab": {
          "base_uri": "https://localhost:8080/"
        },
        "id": "IoZVL9LSXO4-",
        "outputId": "f3bde232-55ea-4d89-a554-9811d5daf637"
      },
      "execution_count": null,
      "outputs": [
        {
          "output_type": "stream",
          "name": "stdout",
          "text": [
            "387/387 [==============================] - 1s 2ms/step - loss: 0.5695 - accuracy: 0.7782\n"
          ]
        }
      ]
    },
    {
      "cell_type": "code",
      "source": [
        "print('test_acc:', test_acc)"
      ],
      "metadata": {
        "colab": {
          "base_uri": "https://localhost:8080/"
        },
        "id": "jWkl8zZHXOyA",
        "outputId": "2d30d264-d206-49ed-a7d7-06426dd1b1e8"
      },
      "execution_count": null,
      "outputs": [
        {
          "output_type": "stream",
          "name": "stdout",
          "text": [
            "test_acc: 0.7781997323036194\n"
          ]
        }
      ]
    },
    {
      "cell_type": "markdown",
      "source": [
        "#### 4 Hidden Layers"
      ],
      "metadata": {
        "id": "sqCqJ2QHirGj"
      }
    },
    {
      "cell_type": "code",
      "source": [
        "test_loss, test_acc = network4.evaluate(cb_test_features, cb_test_labels)"
      ],
      "metadata": {
        "id": "6UOGVtQbiruB",
        "outputId": "8f6b2351-e517-4a50-f575-a41c0f29581a",
        "colab": {
          "base_uri": "https://localhost:8080/"
        }
      },
      "execution_count": null,
      "outputs": [
        {
          "output_type": "stream",
          "name": "stdout",
          "text": [
            "387/387 [==============================] - 1s 2ms/step - loss: 0.5261 - accuracy: 0.7931\n"
          ]
        }
      ]
    },
    {
      "cell_type": "code",
      "source": [
        "print('test_acc:', test_acc)"
      ],
      "metadata": {
        "id": "PrCX974pircp",
        "outputId": "90a7f1be-a164-454e-d8c5-d28f969c1df8",
        "colab": {
          "base_uri": "https://localhost:8080/"
        }
      },
      "execution_count": null,
      "outputs": [
        {
          "output_type": "stream",
          "name": "stdout",
          "text": [
            "test_acc: 0.7931480407714844\n"
          ]
        }
      ]
    },
    {
      "cell_type": "markdown",
      "source": [
        "## 8) Conclusion\n",
        "\n",
        "The accuracy for the training dataset is 0.7931480407714844 with 4 hidden nodes. That was the best performance out of the tested models."
      ],
      "metadata": {
        "id": "7PpKPYNvXBuH"
      }
    },
    {
      "cell_type": "markdown",
      "source": [
        "### Summary of Scores\n",
        "\n",
        "| Classifier      | Score |\n",
        "| ----------- | ----------- |\n",
        "| KNN      | 0.7636554621848739       |\n",
        "| DNN (1 Hidden)   | 0.7459599375724792        |\n",
        "| DNN (2 Hidden)   | 0.7731092572212219        |\n",
        "| DNN (3 Hidden)   | 0.7781997323036194        |\n",
        "| DNN (4 Hidden)   | 0.7931480407714844        |\n",
        "\n",
        "### Best Hyperparameters\n",
        "\n",
        "Given the data above,\n",
        "\n",
        "* It seems that having at least 2 hidden layers will generate an accuracy greater than the base model (kNN, where k=3).\n",
        "* The 4th hidden layer did not improve the accuracy too much. It might be worth testing different unit values for the hidden layers to see if the last layer being 64 makes a difference. It could be that larger inputs larger than the initial input size of 93 perform better."
      ],
      "metadata": {
        "id": "KnJo30-wVY8-"
      }
    },
    {
      "cell_type": "markdown",
      "source": [
        "## 9) Kaggle Submission\n",
        "\n",
        "The Kaggle competition included a sample submission file. The file was included as a way to submit the predictions made by a model.\n",
        "\n",
        "Because DNN with 4 hidden layers performed the best, it will be used to make predictions based on the `test.csv` dataset."
      ],
      "metadata": {
        "id": "x-885yjekc5L"
      }
    },
    {
      "cell_type": "code",
      "source": [
        "best_dnn_predictions = network4.predict(test_features)"
      ],
      "metadata": {
        "id": "IOwqNVsfliti",
        "outputId": "7ace9687-eb6d-4a7e-ee08-eb5622245277",
        "colab": {
          "base_uri": "https://localhost:8080/"
        }
      },
      "execution_count": null,
      "outputs": [
        {
          "output_type": "stream",
          "name": "stdout",
          "text": [
            "4512/4512 [==============================] - 8s 2ms/step\n"
          ]
        }
      ]
    },
    {
      "cell_type": "code",
      "source": [
        "best_dnn_predictions"
      ],
      "metadata": {
        "id": "MbdTpkDlmJhk",
        "outputId": "3f5abfd2-f75e-4fe3-b057-e9071c4a724a",
        "colab": {
          "base_uri": "https://localhost:8080/"
        }
      },
      "execution_count": null,
      "outputs": [
        {
          "output_type": "execute_result",
          "data": {
            "text/plain": [
              "array([[0.0000000e+00, 0.0000000e+00, 7.1883416e-10, ..., 4.2164758e-14,\n",
              "        0.0000000e+00, 0.0000000e+00],\n",
              "       [0.0000000e+00, 0.0000000e+00, 0.0000000e+00, ..., 0.0000000e+00,\n",
              "        1.0000000e+00, 0.0000000e+00],\n",
              "       [0.0000000e+00, 0.0000000e+00, 0.0000000e+00, ..., 0.0000000e+00,\n",
              "        0.0000000e+00, 0.0000000e+00],\n",
              "       ...,\n",
              "       [0.0000000e+00, 0.0000000e+00, 2.6555371e-14, ..., 0.0000000e+00,\n",
              "        0.0000000e+00, 0.0000000e+00],\n",
              "       [0.0000000e+00, 0.0000000e+00, 9.9999821e-01, ..., 0.0000000e+00,\n",
              "        0.0000000e+00, 0.0000000e+00],\n",
              "       [0.0000000e+00, 0.0000000e+00, 1.5760923e-04, ..., 5.1747374e-02,\n",
              "        0.0000000e+00, 0.0000000e+00]], dtype=float32)"
            ]
          },
          "metadata": {},
          "execution_count": 103
        }
      ]
    },
    {
      "cell_type": "code",
      "source": [
        "predictions_df = pd.DataFrame(best_dnn_predictions, columns=['Class_0', 'Class_1', 'Class_2', 'Class_3', 'Class_4', 'Class_5', 'Class_6', 'Class_7', 'Class_8', 'Class_9'])\n",
        "predictions_df[:3]"
      ],
      "metadata": {
        "id": "CFpG6dQvop1y",
        "outputId": "193c247e-489e-4b32-e448-126769941e02",
        "colab": {
          "base_uri": "https://localhost:8080/",
          "height": 143
        }
      },
      "execution_count": null,
      "outputs": [
        {
          "output_type": "execute_result",
          "data": {
            "text/plain": [
              "   Class_0  Class_1       Class_2  Class_3       Class_4  Class_5  Class_6  \\\n",
              "0      0.0      0.0  7.188342e-10      1.0  1.491780e-09      0.0      0.0   \n",
              "1      0.0      0.0  0.000000e+00      0.0  0.000000e+00      0.0      0.0   \n",
              "2      0.0      0.0  0.000000e+00      0.0  0.000000e+00      0.0      1.0   \n",
              "\n",
              "        Class_7  Class_8  Class_9  \n",
              "0  4.216476e-14      0.0      0.0  \n",
              "1  0.000000e+00      1.0      0.0  \n",
              "2  0.000000e+00      0.0      0.0  "
            ],
            "text/html": [
              "\n",
              "  <div id=\"df-fa79da8f-2583-4c37-a1d0-64f15c29cc65\">\n",
              "    <div class=\"colab-df-container\">\n",
              "      <div>\n",
              "<style scoped>\n",
              "    .dataframe tbody tr th:only-of-type {\n",
              "        vertical-align: middle;\n",
              "    }\n",
              "\n",
              "    .dataframe tbody tr th {\n",
              "        vertical-align: top;\n",
              "    }\n",
              "\n",
              "    .dataframe thead th {\n",
              "        text-align: right;\n",
              "    }\n",
              "</style>\n",
              "<table border=\"1\" class=\"dataframe\">\n",
              "  <thead>\n",
              "    <tr style=\"text-align: right;\">\n",
              "      <th></th>\n",
              "      <th>Class_0</th>\n",
              "      <th>Class_1</th>\n",
              "      <th>Class_2</th>\n",
              "      <th>Class_3</th>\n",
              "      <th>Class_4</th>\n",
              "      <th>Class_5</th>\n",
              "      <th>Class_6</th>\n",
              "      <th>Class_7</th>\n",
              "      <th>Class_8</th>\n",
              "      <th>Class_9</th>\n",
              "    </tr>\n",
              "  </thead>\n",
              "  <tbody>\n",
              "    <tr>\n",
              "      <th>0</th>\n",
              "      <td>0.0</td>\n",
              "      <td>0.0</td>\n",
              "      <td>7.188342e-10</td>\n",
              "      <td>1.0</td>\n",
              "      <td>1.491780e-09</td>\n",
              "      <td>0.0</td>\n",
              "      <td>0.0</td>\n",
              "      <td>4.216476e-14</td>\n",
              "      <td>0.0</td>\n",
              "      <td>0.0</td>\n",
              "    </tr>\n",
              "    <tr>\n",
              "      <th>1</th>\n",
              "      <td>0.0</td>\n",
              "      <td>0.0</td>\n",
              "      <td>0.000000e+00</td>\n",
              "      <td>0.0</td>\n",
              "      <td>0.000000e+00</td>\n",
              "      <td>0.0</td>\n",
              "      <td>0.0</td>\n",
              "      <td>0.000000e+00</td>\n",
              "      <td>1.0</td>\n",
              "      <td>0.0</td>\n",
              "    </tr>\n",
              "    <tr>\n",
              "      <th>2</th>\n",
              "      <td>0.0</td>\n",
              "      <td>0.0</td>\n",
              "      <td>0.000000e+00</td>\n",
              "      <td>0.0</td>\n",
              "      <td>0.000000e+00</td>\n",
              "      <td>0.0</td>\n",
              "      <td>1.0</td>\n",
              "      <td>0.000000e+00</td>\n",
              "      <td>0.0</td>\n",
              "      <td>0.0</td>\n",
              "    </tr>\n",
              "  </tbody>\n",
              "</table>\n",
              "</div>\n",
              "      <button class=\"colab-df-convert\" onclick=\"convertToInteractive('df-fa79da8f-2583-4c37-a1d0-64f15c29cc65')\"\n",
              "              title=\"Convert this dataframe to an interactive table.\"\n",
              "              style=\"display:none;\">\n",
              "        \n",
              "  <svg xmlns=\"http://www.w3.org/2000/svg\" height=\"24px\"viewBox=\"0 0 24 24\"\n",
              "       width=\"24px\">\n",
              "    <path d=\"M0 0h24v24H0V0z\" fill=\"none\"/>\n",
              "    <path d=\"M18.56 5.44l.94 2.06.94-2.06 2.06-.94-2.06-.94-.94-2.06-.94 2.06-2.06.94zm-11 1L8.5 8.5l.94-2.06 2.06-.94-2.06-.94L8.5 2.5l-.94 2.06-2.06.94zm10 10l.94 2.06.94-2.06 2.06-.94-2.06-.94-.94-2.06-.94 2.06-2.06.94z\"/><path d=\"M17.41 7.96l-1.37-1.37c-.4-.4-.92-.59-1.43-.59-.52 0-1.04.2-1.43.59L10.3 9.45l-7.72 7.72c-.78.78-.78 2.05 0 2.83L4 21.41c.39.39.9.59 1.41.59.51 0 1.02-.2 1.41-.59l7.78-7.78 2.81-2.81c.8-.78.8-2.07 0-2.86zM5.41 20L4 18.59l7.72-7.72 1.47 1.35L5.41 20z\"/>\n",
              "  </svg>\n",
              "      </button>\n",
              "      \n",
              "  <style>\n",
              "    .colab-df-container {\n",
              "      display:flex;\n",
              "      flex-wrap:wrap;\n",
              "      gap: 12px;\n",
              "    }\n",
              "\n",
              "    .colab-df-convert {\n",
              "      background-color: #E8F0FE;\n",
              "      border: none;\n",
              "      border-radius: 50%;\n",
              "      cursor: pointer;\n",
              "      display: none;\n",
              "      fill: #1967D2;\n",
              "      height: 32px;\n",
              "      padding: 0 0 0 0;\n",
              "      width: 32px;\n",
              "    }\n",
              "\n",
              "    .colab-df-convert:hover {\n",
              "      background-color: #E2EBFA;\n",
              "      box-shadow: 0px 1px 2px rgba(60, 64, 67, 0.3), 0px 1px 3px 1px rgba(60, 64, 67, 0.15);\n",
              "      fill: #174EA6;\n",
              "    }\n",
              "\n",
              "    [theme=dark] .colab-df-convert {\n",
              "      background-color: #3B4455;\n",
              "      fill: #D2E3FC;\n",
              "    }\n",
              "\n",
              "    [theme=dark] .colab-df-convert:hover {\n",
              "      background-color: #434B5C;\n",
              "      box-shadow: 0px 1px 3px 1px rgba(0, 0, 0, 0.15);\n",
              "      filter: drop-shadow(0px 1px 2px rgba(0, 0, 0, 0.3));\n",
              "      fill: #FFFFFF;\n",
              "    }\n",
              "  </style>\n",
              "\n",
              "      <script>\n",
              "        const buttonEl =\n",
              "          document.querySelector('#df-fa79da8f-2583-4c37-a1d0-64f15c29cc65 button.colab-df-convert');\n",
              "        buttonEl.style.display =\n",
              "          google.colab.kernel.accessAllowed ? 'block' : 'none';\n",
              "\n",
              "        async function convertToInteractive(key) {\n",
              "          const element = document.querySelector('#df-fa79da8f-2583-4c37-a1d0-64f15c29cc65');\n",
              "          const dataTable =\n",
              "            await google.colab.kernel.invokeFunction('convertToInteractive',\n",
              "                                                     [key], {});\n",
              "          if (!dataTable) return;\n",
              "\n",
              "          const docLinkHtml = 'Like what you see? Visit the ' +\n",
              "            '<a target=\"_blank\" href=https://colab.research.google.com/notebooks/data_table.ipynb>data table notebook</a>'\n",
              "            + ' to learn more about interactive tables.';\n",
              "          element.innerHTML = '';\n",
              "          dataTable['output_type'] = 'display_data';\n",
              "          await google.colab.output.renderOutput(dataTable, element);\n",
              "          const docLink = document.createElement('div');\n",
              "          docLink.innerHTML = docLinkHtml;\n",
              "          element.appendChild(docLink);\n",
              "        }\n",
              "      </script>\n",
              "    </div>\n",
              "  </div>\n",
              "  "
            ]
          },
          "metadata": {},
          "execution_count": 125
        }
      ]
    },
    {
      "cell_type": "code",
      "source": [
        "submit = pd.read_csv(\"sampleSubmission.csv\")\n",
        "submit['Class_1'] = predictions_df['Class_1']\n",
        "submit['Class_2'] = predictions_df['Class_2']\n",
        "submit['Class_3'] = predictions_df['Class_3']\n",
        "submit['Class_4'] = predictions_df['Class_4']\n",
        "submit['Class_5'] = predictions_df['Class_5']\n",
        "submit['Class_6'] = predictions_df['Class_6']\n",
        "submit['Class_7'] = predictions_df['Class_7']\n",
        "submit['Class_8'] = predictions_df['Class_8']\n",
        "submit['Class_9'] = predictions_df['Class_9']\n",
        "\n",
        "submit[:3]"
      ],
      "metadata": {
        "id": "iEbZQAqclz-a",
        "outputId": "2607b0fb-9208-4d99-e452-21ffe37d01c8",
        "colab": {
          "base_uri": "https://localhost:8080/",
          "height": 143
        }
      },
      "execution_count": null,
      "outputs": [
        {
          "output_type": "execute_result",
          "data": {
            "text/plain": [
              "   id  Class_1       Class_2  Class_3       Class_4  Class_5  Class_6  \\\n",
              "0   1      0.0  7.188342e-10      1.0  1.491780e-09      0.0      0.0   \n",
              "1   2      0.0  0.000000e+00      0.0  0.000000e+00      0.0      0.0   \n",
              "2   3      0.0  0.000000e+00      0.0  0.000000e+00      0.0      1.0   \n",
              "\n",
              "        Class_7  Class_8  Class_9  \n",
              "0  4.216476e-14      0.0      0.0  \n",
              "1  0.000000e+00      1.0      0.0  \n",
              "2  0.000000e+00      0.0      0.0  "
            ],
            "text/html": [
              "\n",
              "  <div id=\"df-7dac87ff-33eb-49be-9a12-161bea00237c\">\n",
              "    <div class=\"colab-df-container\">\n",
              "      <div>\n",
              "<style scoped>\n",
              "    .dataframe tbody tr th:only-of-type {\n",
              "        vertical-align: middle;\n",
              "    }\n",
              "\n",
              "    .dataframe tbody tr th {\n",
              "        vertical-align: top;\n",
              "    }\n",
              "\n",
              "    .dataframe thead th {\n",
              "        text-align: right;\n",
              "    }\n",
              "</style>\n",
              "<table border=\"1\" class=\"dataframe\">\n",
              "  <thead>\n",
              "    <tr style=\"text-align: right;\">\n",
              "      <th></th>\n",
              "      <th>id</th>\n",
              "      <th>Class_1</th>\n",
              "      <th>Class_2</th>\n",
              "      <th>Class_3</th>\n",
              "      <th>Class_4</th>\n",
              "      <th>Class_5</th>\n",
              "      <th>Class_6</th>\n",
              "      <th>Class_7</th>\n",
              "      <th>Class_8</th>\n",
              "      <th>Class_9</th>\n",
              "    </tr>\n",
              "  </thead>\n",
              "  <tbody>\n",
              "    <tr>\n",
              "      <th>0</th>\n",
              "      <td>1</td>\n",
              "      <td>0.0</td>\n",
              "      <td>7.188342e-10</td>\n",
              "      <td>1.0</td>\n",
              "      <td>1.491780e-09</td>\n",
              "      <td>0.0</td>\n",
              "      <td>0.0</td>\n",
              "      <td>4.216476e-14</td>\n",
              "      <td>0.0</td>\n",
              "      <td>0.0</td>\n",
              "    </tr>\n",
              "    <tr>\n",
              "      <th>1</th>\n",
              "      <td>2</td>\n",
              "      <td>0.0</td>\n",
              "      <td>0.000000e+00</td>\n",
              "      <td>0.0</td>\n",
              "      <td>0.000000e+00</td>\n",
              "      <td>0.0</td>\n",
              "      <td>0.0</td>\n",
              "      <td>0.000000e+00</td>\n",
              "      <td>1.0</td>\n",
              "      <td>0.0</td>\n",
              "    </tr>\n",
              "    <tr>\n",
              "      <th>2</th>\n",
              "      <td>3</td>\n",
              "      <td>0.0</td>\n",
              "      <td>0.000000e+00</td>\n",
              "      <td>0.0</td>\n",
              "      <td>0.000000e+00</td>\n",
              "      <td>0.0</td>\n",
              "      <td>1.0</td>\n",
              "      <td>0.000000e+00</td>\n",
              "      <td>0.0</td>\n",
              "      <td>0.0</td>\n",
              "    </tr>\n",
              "  </tbody>\n",
              "</table>\n",
              "</div>\n",
              "      <button class=\"colab-df-convert\" onclick=\"convertToInteractive('df-7dac87ff-33eb-49be-9a12-161bea00237c')\"\n",
              "              title=\"Convert this dataframe to an interactive table.\"\n",
              "              style=\"display:none;\">\n",
              "        \n",
              "  <svg xmlns=\"http://www.w3.org/2000/svg\" height=\"24px\"viewBox=\"0 0 24 24\"\n",
              "       width=\"24px\">\n",
              "    <path d=\"M0 0h24v24H0V0z\" fill=\"none\"/>\n",
              "    <path d=\"M18.56 5.44l.94 2.06.94-2.06 2.06-.94-2.06-.94-.94-2.06-.94 2.06-2.06.94zm-11 1L8.5 8.5l.94-2.06 2.06-.94-2.06-.94L8.5 2.5l-.94 2.06-2.06.94zm10 10l.94 2.06.94-2.06 2.06-.94-2.06-.94-.94-2.06-.94 2.06-2.06.94z\"/><path d=\"M17.41 7.96l-1.37-1.37c-.4-.4-.92-.59-1.43-.59-.52 0-1.04.2-1.43.59L10.3 9.45l-7.72 7.72c-.78.78-.78 2.05 0 2.83L4 21.41c.39.39.9.59 1.41.59.51 0 1.02-.2 1.41-.59l7.78-7.78 2.81-2.81c.8-.78.8-2.07 0-2.86zM5.41 20L4 18.59l7.72-7.72 1.47 1.35L5.41 20z\"/>\n",
              "  </svg>\n",
              "      </button>\n",
              "      \n",
              "  <style>\n",
              "    .colab-df-container {\n",
              "      display:flex;\n",
              "      flex-wrap:wrap;\n",
              "      gap: 12px;\n",
              "    }\n",
              "\n",
              "    .colab-df-convert {\n",
              "      background-color: #E8F0FE;\n",
              "      border: none;\n",
              "      border-radius: 50%;\n",
              "      cursor: pointer;\n",
              "      display: none;\n",
              "      fill: #1967D2;\n",
              "      height: 32px;\n",
              "      padding: 0 0 0 0;\n",
              "      width: 32px;\n",
              "    }\n",
              "\n",
              "    .colab-df-convert:hover {\n",
              "      background-color: #E2EBFA;\n",
              "      box-shadow: 0px 1px 2px rgba(60, 64, 67, 0.3), 0px 1px 3px 1px rgba(60, 64, 67, 0.15);\n",
              "      fill: #174EA6;\n",
              "    }\n",
              "\n",
              "    [theme=dark] .colab-df-convert {\n",
              "      background-color: #3B4455;\n",
              "      fill: #D2E3FC;\n",
              "    }\n",
              "\n",
              "    [theme=dark] .colab-df-convert:hover {\n",
              "      background-color: #434B5C;\n",
              "      box-shadow: 0px 1px 3px 1px rgba(0, 0, 0, 0.15);\n",
              "      filter: drop-shadow(0px 1px 2px rgba(0, 0, 0, 0.3));\n",
              "      fill: #FFFFFF;\n",
              "    }\n",
              "  </style>\n",
              "\n",
              "      <script>\n",
              "        const buttonEl =\n",
              "          document.querySelector('#df-7dac87ff-33eb-49be-9a12-161bea00237c button.colab-df-convert');\n",
              "        buttonEl.style.display =\n",
              "          google.colab.kernel.accessAllowed ? 'block' : 'none';\n",
              "\n",
              "        async function convertToInteractive(key) {\n",
              "          const element = document.querySelector('#df-7dac87ff-33eb-49be-9a12-161bea00237c');\n",
              "          const dataTable =\n",
              "            await google.colab.kernel.invokeFunction('convertToInteractive',\n",
              "                                                     [key], {});\n",
              "          if (!dataTable) return;\n",
              "\n",
              "          const docLinkHtml = 'Like what you see? Visit the ' +\n",
              "            '<a target=\"_blank\" href=https://colab.research.google.com/notebooks/data_table.ipynb>data table notebook</a>'\n",
              "            + ' to learn more about interactive tables.';\n",
              "          element.innerHTML = '';\n",
              "          dataTable['output_type'] = 'display_data';\n",
              "          await google.colab.output.renderOutput(dataTable, element);\n",
              "          const docLink = document.createElement('div');\n",
              "          docLink.innerHTML = docLinkHtml;\n",
              "          element.appendChild(docLink);\n",
              "        }\n",
              "      </script>\n",
              "    </div>\n",
              "  </div>\n",
              "  "
            ]
          },
          "metadata": {},
          "execution_count": 127
        }
      ]
    },
    {
      "cell_type": "code",
      "source": [
        "submit.describe(include=\"all\")"
      ],
      "metadata": {
        "id": "GZflV9arnTnX",
        "outputId": "075fe592-9bb6-4f28-99ff-5cf7a32a3d9d",
        "colab": {
          "base_uri": "https://localhost:8080/",
          "height": 300
        }
      },
      "execution_count": null,
      "outputs": [
        {
          "output_type": "execute_result",
          "data": {
            "text/plain": [
              "                  id       Class_1       Class_2       Class_3       Class_4  \\\n",
              "count  144368.000000  1.443680e+05  1.443680e+05  1.443680e+05  1.443680e+05   \n",
              "mean    72184.500000  1.803830e-02  1.594550e-01  2.335146e-01  3.280760e-02   \n",
              "std     41675.596169  1.287376e-01  3.527546e-01  4.108443e-01  1.718909e-01   \n",
              "min         1.000000  0.000000e+00  0.000000e+00  0.000000e+00  0.000000e+00   \n",
              "25%     36092.750000  0.000000e+00  0.000000e+00  0.000000e+00  0.000000e+00   \n",
              "50%     72184.500000  0.000000e+00  1.900136e-35  8.427456e-38  0.000000e+00   \n",
              "75%    108276.250000  3.796449e-34  1.390155e-04  1.667151e-01  9.580448e-23   \n",
              "max    144368.000000  1.000000e+00  1.000000e+00  1.000000e+00  1.000000e+00   \n",
              "\n",
              "             Class_5       Class_6       Class_7       Class_8       Class_9  \n",
              "count  144368.000000  1.443680e+05  1.443680e+05  1.443680e+05  1.443680e+05  \n",
              "mean        0.044662  2.068560e-01  5.333906e-02  1.623097e-01  8.901813e-02  \n",
              "std         0.206171  4.036233e-01  2.213732e-01  3.669088e-01  2.827747e-01  \n",
              "min         0.000000  0.000000e+00  0.000000e+00  0.000000e+00  0.000000e+00  \n",
              "25%         0.000000  0.000000e+00  0.000000e+00  0.000000e+00  0.000000e+00  \n",
              "50%         0.000000  0.000000e+00  0.000000e+00  0.000000e+00  0.000000e+00  \n",
              "75%         0.000000  8.799888e-12  1.613010e-25  3.564165e-19  2.999364e-32  \n",
              "max         1.000000  1.000000e+00  1.000000e+00  1.000000e+00  1.000000e+00  "
            ],
            "text/html": [
              "\n",
              "  <div id=\"df-18e5ae4d-095b-4cec-b1e1-3d3c2c5f91ea\">\n",
              "    <div class=\"colab-df-container\">\n",
              "      <div>\n",
              "<style scoped>\n",
              "    .dataframe tbody tr th:only-of-type {\n",
              "        vertical-align: middle;\n",
              "    }\n",
              "\n",
              "    .dataframe tbody tr th {\n",
              "        vertical-align: top;\n",
              "    }\n",
              "\n",
              "    .dataframe thead th {\n",
              "        text-align: right;\n",
              "    }\n",
              "</style>\n",
              "<table border=\"1\" class=\"dataframe\">\n",
              "  <thead>\n",
              "    <tr style=\"text-align: right;\">\n",
              "      <th></th>\n",
              "      <th>id</th>\n",
              "      <th>Class_1</th>\n",
              "      <th>Class_2</th>\n",
              "      <th>Class_3</th>\n",
              "      <th>Class_4</th>\n",
              "      <th>Class_5</th>\n",
              "      <th>Class_6</th>\n",
              "      <th>Class_7</th>\n",
              "      <th>Class_8</th>\n",
              "      <th>Class_9</th>\n",
              "    </tr>\n",
              "  </thead>\n",
              "  <tbody>\n",
              "    <tr>\n",
              "      <th>count</th>\n",
              "      <td>144368.000000</td>\n",
              "      <td>1.443680e+05</td>\n",
              "      <td>1.443680e+05</td>\n",
              "      <td>1.443680e+05</td>\n",
              "      <td>1.443680e+05</td>\n",
              "      <td>144368.000000</td>\n",
              "      <td>1.443680e+05</td>\n",
              "      <td>1.443680e+05</td>\n",
              "      <td>1.443680e+05</td>\n",
              "      <td>1.443680e+05</td>\n",
              "    </tr>\n",
              "    <tr>\n",
              "      <th>mean</th>\n",
              "      <td>72184.500000</td>\n",
              "      <td>1.803830e-02</td>\n",
              "      <td>1.594550e-01</td>\n",
              "      <td>2.335146e-01</td>\n",
              "      <td>3.280760e-02</td>\n",
              "      <td>0.044662</td>\n",
              "      <td>2.068560e-01</td>\n",
              "      <td>5.333906e-02</td>\n",
              "      <td>1.623097e-01</td>\n",
              "      <td>8.901813e-02</td>\n",
              "    </tr>\n",
              "    <tr>\n",
              "      <th>std</th>\n",
              "      <td>41675.596169</td>\n",
              "      <td>1.287376e-01</td>\n",
              "      <td>3.527546e-01</td>\n",
              "      <td>4.108443e-01</td>\n",
              "      <td>1.718909e-01</td>\n",
              "      <td>0.206171</td>\n",
              "      <td>4.036233e-01</td>\n",
              "      <td>2.213732e-01</td>\n",
              "      <td>3.669088e-01</td>\n",
              "      <td>2.827747e-01</td>\n",
              "    </tr>\n",
              "    <tr>\n",
              "      <th>min</th>\n",
              "      <td>1.000000</td>\n",
              "      <td>0.000000e+00</td>\n",
              "      <td>0.000000e+00</td>\n",
              "      <td>0.000000e+00</td>\n",
              "      <td>0.000000e+00</td>\n",
              "      <td>0.000000</td>\n",
              "      <td>0.000000e+00</td>\n",
              "      <td>0.000000e+00</td>\n",
              "      <td>0.000000e+00</td>\n",
              "      <td>0.000000e+00</td>\n",
              "    </tr>\n",
              "    <tr>\n",
              "      <th>25%</th>\n",
              "      <td>36092.750000</td>\n",
              "      <td>0.000000e+00</td>\n",
              "      <td>0.000000e+00</td>\n",
              "      <td>0.000000e+00</td>\n",
              "      <td>0.000000e+00</td>\n",
              "      <td>0.000000</td>\n",
              "      <td>0.000000e+00</td>\n",
              "      <td>0.000000e+00</td>\n",
              "      <td>0.000000e+00</td>\n",
              "      <td>0.000000e+00</td>\n",
              "    </tr>\n",
              "    <tr>\n",
              "      <th>50%</th>\n",
              "      <td>72184.500000</td>\n",
              "      <td>0.000000e+00</td>\n",
              "      <td>1.900136e-35</td>\n",
              "      <td>8.427456e-38</td>\n",
              "      <td>0.000000e+00</td>\n",
              "      <td>0.000000</td>\n",
              "      <td>0.000000e+00</td>\n",
              "      <td>0.000000e+00</td>\n",
              "      <td>0.000000e+00</td>\n",
              "      <td>0.000000e+00</td>\n",
              "    </tr>\n",
              "    <tr>\n",
              "      <th>75%</th>\n",
              "      <td>108276.250000</td>\n",
              "      <td>3.796449e-34</td>\n",
              "      <td>1.390155e-04</td>\n",
              "      <td>1.667151e-01</td>\n",
              "      <td>9.580448e-23</td>\n",
              "      <td>0.000000</td>\n",
              "      <td>8.799888e-12</td>\n",
              "      <td>1.613010e-25</td>\n",
              "      <td>3.564165e-19</td>\n",
              "      <td>2.999364e-32</td>\n",
              "    </tr>\n",
              "    <tr>\n",
              "      <th>max</th>\n",
              "      <td>144368.000000</td>\n",
              "      <td>1.000000e+00</td>\n",
              "      <td>1.000000e+00</td>\n",
              "      <td>1.000000e+00</td>\n",
              "      <td>1.000000e+00</td>\n",
              "      <td>1.000000</td>\n",
              "      <td>1.000000e+00</td>\n",
              "      <td>1.000000e+00</td>\n",
              "      <td>1.000000e+00</td>\n",
              "      <td>1.000000e+00</td>\n",
              "    </tr>\n",
              "  </tbody>\n",
              "</table>\n",
              "</div>\n",
              "      <button class=\"colab-df-convert\" onclick=\"convertToInteractive('df-18e5ae4d-095b-4cec-b1e1-3d3c2c5f91ea')\"\n",
              "              title=\"Convert this dataframe to an interactive table.\"\n",
              "              style=\"display:none;\">\n",
              "        \n",
              "  <svg xmlns=\"http://www.w3.org/2000/svg\" height=\"24px\"viewBox=\"0 0 24 24\"\n",
              "       width=\"24px\">\n",
              "    <path d=\"M0 0h24v24H0V0z\" fill=\"none\"/>\n",
              "    <path d=\"M18.56 5.44l.94 2.06.94-2.06 2.06-.94-2.06-.94-.94-2.06-.94 2.06-2.06.94zm-11 1L8.5 8.5l.94-2.06 2.06-.94-2.06-.94L8.5 2.5l-.94 2.06-2.06.94zm10 10l.94 2.06.94-2.06 2.06-.94-2.06-.94-.94-2.06-.94 2.06-2.06.94z\"/><path d=\"M17.41 7.96l-1.37-1.37c-.4-.4-.92-.59-1.43-.59-.52 0-1.04.2-1.43.59L10.3 9.45l-7.72 7.72c-.78.78-.78 2.05 0 2.83L4 21.41c.39.39.9.59 1.41.59.51 0 1.02-.2 1.41-.59l7.78-7.78 2.81-2.81c.8-.78.8-2.07 0-2.86zM5.41 20L4 18.59l7.72-7.72 1.47 1.35L5.41 20z\"/>\n",
              "  </svg>\n",
              "      </button>\n",
              "      \n",
              "  <style>\n",
              "    .colab-df-container {\n",
              "      display:flex;\n",
              "      flex-wrap:wrap;\n",
              "      gap: 12px;\n",
              "    }\n",
              "\n",
              "    .colab-df-convert {\n",
              "      background-color: #E8F0FE;\n",
              "      border: none;\n",
              "      border-radius: 50%;\n",
              "      cursor: pointer;\n",
              "      display: none;\n",
              "      fill: #1967D2;\n",
              "      height: 32px;\n",
              "      padding: 0 0 0 0;\n",
              "      width: 32px;\n",
              "    }\n",
              "\n",
              "    .colab-df-convert:hover {\n",
              "      background-color: #E2EBFA;\n",
              "      box-shadow: 0px 1px 2px rgba(60, 64, 67, 0.3), 0px 1px 3px 1px rgba(60, 64, 67, 0.15);\n",
              "      fill: #174EA6;\n",
              "    }\n",
              "\n",
              "    [theme=dark] .colab-df-convert {\n",
              "      background-color: #3B4455;\n",
              "      fill: #D2E3FC;\n",
              "    }\n",
              "\n",
              "    [theme=dark] .colab-df-convert:hover {\n",
              "      background-color: #434B5C;\n",
              "      box-shadow: 0px 1px 3px 1px rgba(0, 0, 0, 0.15);\n",
              "      filter: drop-shadow(0px 1px 2px rgba(0, 0, 0, 0.3));\n",
              "      fill: #FFFFFF;\n",
              "    }\n",
              "  </style>\n",
              "\n",
              "      <script>\n",
              "        const buttonEl =\n",
              "          document.querySelector('#df-18e5ae4d-095b-4cec-b1e1-3d3c2c5f91ea button.colab-df-convert');\n",
              "        buttonEl.style.display =\n",
              "          google.colab.kernel.accessAllowed ? 'block' : 'none';\n",
              "\n",
              "        async function convertToInteractive(key) {\n",
              "          const element = document.querySelector('#df-18e5ae4d-095b-4cec-b1e1-3d3c2c5f91ea');\n",
              "          const dataTable =\n",
              "            await google.colab.kernel.invokeFunction('convertToInteractive',\n",
              "                                                     [key], {});\n",
              "          if (!dataTable) return;\n",
              "\n",
              "          const docLinkHtml = 'Like what you see? Visit the ' +\n",
              "            '<a target=\"_blank\" href=https://colab.research.google.com/notebooks/data_table.ipynb>data table notebook</a>'\n",
              "            + ' to learn more about interactive tables.';\n",
              "          element.innerHTML = '';\n",
              "          dataTable['output_type'] = 'display_data';\n",
              "          await google.colab.output.renderOutput(dataTable, element);\n",
              "          const docLink = document.createElement('div');\n",
              "          docLink.innerHTML = docLinkHtml;\n",
              "          element.appendChild(docLink);\n",
              "        }\n",
              "      </script>\n",
              "    </div>\n",
              "  </div>\n",
              "  "
            ]
          },
          "metadata": {},
          "execution_count": 128
        }
      ]
    },
    {
      "cell_type": "code",
      "source": [
        "submit.to_csv('submit.csv', index=False)"
      ],
      "metadata": {
        "id": "jUevqvGYqnFt"
      },
      "execution_count": null,
      "outputs": []
    }
  ]
}