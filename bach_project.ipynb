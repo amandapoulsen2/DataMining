{
  "nbformat": 4,
  "nbformat_minor": 0,
  "metadata": {
    "colab": {
      "provenance": [],
      "collapsed_sections": [],
      "authorship_tag": "ABX9TyOAqqGq9pC5HivLk4voA571",
      "include_colab_link": true
    },
    "kernelspec": {
      "name": "python3",
      "display_name": "Python 3"
    },
    "language_info": {
      "name": "python"
    },
    "accelerator": "GPU",
    "gpuClass": "standard"
  },
  "cells": [
    {
      "cell_type": "markdown",
      "metadata": {
        "id": "view-in-github",
        "colab_type": "text"
      },
      "source": [
        "<a href=\"https://colab.research.google.com/github/mjpoulsen/ml-class/blob/main/bach_project.ipynb\" target=\"_parent\"><img src=\"https://colab.research.google.com/assets/colab-badge.svg\" alt=\"Open In Colab\"/></a>"
      ]
    },
    {
      "cell_type": "markdown",
      "source": [
        "# Bach Chorales\n",
        "\n",
        "### The data file\n",
        "\n",
        "https://raw.githubusercontent.com/zacharski/ml-class/master/data/bach.zip\n",
        "\n",
        "\n",
        "\n",
        "Note that the data file is a compressed zip file. You will need to download it, unzip it, and then load it into a Pandas DataFrame. I wanted to give you a bit of practice in getting data in a variety of formats.\n",
        "\n",
        "### Chords\n",
        "\n",
        "A chord in music is a set of notes played together. For example, if you play the notes C, E, and G together they would form a C major chord. If you played A, C, and E together, they would form an A minor chord. Your task is to predict the chord based on the notes played and several other features. The `chord_label` column is what you are predicting. When you see a capital M in that column, as in C_M that stands for major (in this case C major) and a small m represents minor, so G_m is G minor.\n",
        "\n",
        "### Bach Chorales\n",
        "\n",
        "The dataset is of Johann Sebastian Bach's chorales and cantatas. Bach was very prolific and over 1,000 of his works still survive (some believe he composed over 10,000 pieces). Because of this, scholars have associated a identification number to each existing composition. This number is called BWV which stands for Bach-Werke-Verzeichnis. The `choral_ID` column in the dataset refers to this number. For example, the first row of the dataset and a choral_ID of 000106b_, which   stands for BWV106. If you did a Google search on this you would see it refers to the cantata: *Gottes Zeit ist die allerbeste Zeit*. The next column in the dataset is `event_number` which refers to a unique position in that composition. These two columns should not be used for training. Starting with the next column are the 12 notes of a Western Scale: C, C#, D, D#, E, F, F#, G, G#, A, A#, B. A *yes* in the column indicates that that note is currently being played during the specific event. So the first row of the data indicates that a C, F, and A are being played. The `bass` column represents what note is being played in the bass and the meter column represents the meter (how many beats per measure). \n",
        "\n",
        "### Optional Bonus XP\n",
        "If you want to try to obtain additional xp you need to divide the data intro training and testing using the following\n",
        "\n",
        "```\n",
        "bach.set_index('choral_ID', inplace=True)\n",
        "bFeatures = bach.drop('chord_label', axis=1)\n",
        "bLabels = bach['chord_label']\n",
        "from sklearn.model_selection import train_test_split\n",
        "bach_train_features, bach_test_features, bach_train_labels, bach_test_labels = train_test_split(bFeatures, bLabels, test_size = 0.2, random_state=42)\n",
        "```\n",
        "\n",
        "this will give everyone the same test set (`random_state=42` is what enables this)\n",
        "\n",
        "Bonus:\n",
        "\n",
        "bonus | criteria\n",
        ":---: | :---:\n",
        "10 | better than .85 accuracy on `accuracy_score(bach_test_labels, predictions)`\n",
        "20 | third best in class\n",
        "25 | second best in class\n",
        "30 | first in class"
      ],
      "metadata": {
        "id": "F7zUrLlXccqE"
      }
    },
    {
      "cell_type": "code",
      "source": [],
      "metadata": {
        "id": "ReNEeGgHWWAZ"
      },
      "execution_count": 41,
      "outputs": []
    },
    {
      "cell_type": "code",
      "source": [],
      "metadata": {
        "id": "RaSENXWmWV3h"
      },
      "execution_count": 41,
      "outputs": []
    },
    {
      "cell_type": "code",
      "source": [],
      "metadata": {
        "id": "1IJZi4aLWVuU"
      },
      "execution_count": 41,
      "outputs": []
    },
    {
      "cell_type": "code",
      "source": [],
      "metadata": {
        "id": "6ss5whyhWVgy"
      },
      "execution_count": 41,
      "outputs": []
    },
    {
      "cell_type": "markdown",
      "source": [
        "# Bach Chorales Project\n",
        "\n",
        "This notebook will explore a Bach Chorales dataset. Then various Decision Tree models will predict chords based on notes, the bass note, and the meter.\n",
        "\n",
        "Contents:\n",
        "\n",
        "1.   Import Necessary Libraries\n",
        "2.   Import the Data\n",
        "3.   Data Analysis\n",
        "4.   Data Visualization\n",
        "5.   Cleaning Data\n",
        "6.   Base Model\n",
        "7.   XGBoost\n",
        "8.   Conclusion\n",
        "\n"
      ],
      "metadata": {
        "id": "741-CHxRRi_i"
      }
    },
    {
      "cell_type": "markdown",
      "source": [
        "## 1) Import Necessary Libraries\n",
        "\n",
        "### Runtime\n",
        "\n",
        "Before we import libraries, let's ensure the runtime for this notebook is set to GPU. Without the GPU runtime, XGBoost will not run because the predictor is set to GPU.\n",
        "\n",
        "If the following command produces a failure, do not proceed until the runtime has been set to GPU."
      ],
      "metadata": {
        "id": "fu0MsINPSv7l"
      }
    },
    {
      "cell_type": "code",
      "source": [
        "# Prove this notebook has GPU has the runtime type. If this fails, XGboost will not work.\n",
        "!nvidia-smi"
      ],
      "metadata": {
        "id": "W9UXvRaiLUev",
        "colab": {
          "base_uri": "https://localhost:8080/"
        },
        "outputId": "b6889ed4-4664-4a18-b8d6-ffe2302362b1"
      },
      "execution_count": 42,
      "outputs": [
        {
          "output_type": "stream",
          "name": "stdout",
          "text": [
            "Sun Nov 13 13:55:34 2022       \n",
            "+-----------------------------------------------------------------------------+\n",
            "| NVIDIA-SMI 460.32.03    Driver Version: 460.32.03    CUDA Version: 11.2     |\n",
            "|-------------------------------+----------------------+----------------------+\n",
            "| GPU  Name        Persistence-M| Bus-Id        Disp.A | Volatile Uncorr. ECC |\n",
            "| Fan  Temp  Perf  Pwr:Usage/Cap|         Memory-Usage | GPU-Util  Compute M. |\n",
            "|                               |                      |               MIG M. |\n",
            "|===============================+======================+======================|\n",
            "|   0  Tesla T4            Off  | 00000000:00:04.0 Off |                    0 |\n",
            "| N/A   70C    P0    29W /  70W |    860MiB / 15109MiB |      0%      Default |\n",
            "|                               |                      |                  N/A |\n",
            "+-------------------------------+----------------------+----------------------+\n",
            "                                                                               \n",
            "+-----------------------------------------------------------------------------+\n",
            "| Processes:                                                                  |\n",
            "|  GPU   GI   CI        PID   Type   Process name                  GPU Memory |\n",
            "|        ID   ID                                                   Usage      |\n",
            "|=============================================================================|\n",
            "+-----------------------------------------------------------------------------+\n"
          ]
        }
      ]
    },
    {
      "cell_type": "markdown",
      "source": [
        "### Import Libraries\n",
        "\n",
        "This project will utilize various data anaylsis and machine learning Python libraries.\n",
        "\n"
      ],
      "metadata": {
        "id": "IW2JahfwT22d"
      }
    },
    {
      "cell_type": "code",
      "source": [
        "# Data analysis libraries\n",
        "import pandas as pd\n",
        "\n",
        "# Machine learning libraries\n",
        "from sklearn.model_selection import train_test_split\n",
        "from sklearn.metrics import accuracy_score\n",
        "from sklearn.model_selection import StratifiedKFold\n",
        "from sklearn.model_selection import RandomizedSearchCV\n",
        "from sklearn.ensemble import BaggingClassifier\n",
        "from sklearn import tree\n",
        "from xgboost import XGBClassifier\n",
        "\n",
        "# Visualizing data\n",
        "import seaborn as sns"
      ],
      "metadata": {
        "id": "CAzT7RLbcxBW"
      },
      "execution_count": 43,
      "outputs": []
    },
    {
      "cell_type": "markdown",
      "source": [
        "## 2) Import the Data\n"
      ],
      "metadata": {
        "id": "4-lmZu3JWlM4"
      }
    },
    {
      "cell_type": "markdown",
      "source": [
        "### Upload Data\n",
        "\n",
        "Upload `bach.csv` to the local drive. This csv file can be found by extracting it from https://raw.githubusercontent.com/zacharski/ml-class/master/data/bach.zip."
      ],
      "metadata": {
        "id": "SXfAxQlEVIA6"
      }
    },
    {
      "cell_type": "code",
      "source": [
        "# Show bach.csv exists locally\n",
        "!ls"
      ],
      "metadata": {
        "colab": {
          "base_uri": "https://localhost:8080/"
        },
        "id": "IOhGnlwGcvOQ",
        "outputId": "b7e66375-91ea-46f0-f626-af060426fa38"
      },
      "execution_count": 44,
      "outputs": [
        {
          "output_type": "stream",
          "name": "stdout",
          "text": [
            "bach.csv  sample_data\n"
          ]
        }
      ]
    },
    {
      "cell_type": "markdown",
      "source": [
        "### Pandas\n",
        "\n",
        "[Pandas](https://pandas.pydata.org/docs/reference/index.html) provides an easy way to read the contents of a csv file and instantiate an object, in this case a [DataFrame](https://pandas.pydata.org/docs/reference/api/pandas.DataFrame.html), that allows for easy manipulation of data. Plus, the machine learning libraries used in this notebook expect the data to be in a 2d array, which is how the contents are store in the DataFrame."
      ],
      "metadata": {
        "id": "57amNmjZEC05"
      }
    },
    {
      "cell_type": "code",
      "source": [
        "# Instantiate bach dataframe\n",
        "bach = pd.read_csv('bach.csv')\n",
        "bach"
      ],
      "metadata": {
        "colab": {
          "base_uri": "https://localhost:8080/",
          "height": 424
        },
        "id": "YPC5LS73c2pO",
        "outputId": "16d41600-cfe6-48b7-e83c-c5721da687f5"
      },
      "execution_count": 45,
      "outputs": [
        {
          "output_type": "execute_result",
          "data": {
            "text/plain": [
              "     choral_ID  event_number    C  C#    D  D#    E    F  F#    G  G#    A  \\\n",
              "0     000106b_             1  YES  NO   NO  NO   NO  YES  NO   NO  NO  YES   \n",
              "1     000106b_             2  YES  NO   NO  NO  YES   NO  NO  YES  NO   NO   \n",
              "2     000106b_             3  YES  NO   NO  NO  YES   NO  NO  YES  NO   NO   \n",
              "3     000106b_             4  YES  NO   NO  NO   NO  YES  NO   NO  NO  YES   \n",
              "4     000106b_             5  YES  NO   NO  NO   NO  YES  NO   NO  NO  YES   \n",
              "...        ...           ...  ...  ..  ...  ..  ...  ...  ..  ...  ..  ...   \n",
              "5660  015505b_           105   NO  NO  YES  NO   NO   NO  NO  YES  NO   NO   \n",
              "5661  015505b_           106   NO  NO  YES  NO   NO   NO  NO  YES  NO  YES   \n",
              "5662  015505b_           107  YES  NO   NO  NO  YES   NO  NO  YES  NO   NO   \n",
              "5663  015505b_           108  YES  NO   NO  NO  YES   NO  NO  YES  NO   NO   \n",
              "5664  015505b_           109   NO  NO   NO  NO   NO  YES  NO   NO  NO  YES   \n",
              "\n",
              "       A#   B bass  meter chord_label  \n",
              "0      NO  NO    F      3         F_M  \n",
              "1      NO  NO    E      5         C_M  \n",
              "2      NO  NO    E      2         C_M  \n",
              "3      NO  NO    F      3         F_M  \n",
              "4      NO  NO    F      2         F_M  \n",
              "...   ...  ..  ...    ...         ...  \n",
              "5660  YES  NO    G      4         G_m  \n",
              "5661   NO  NO    G      3         G_m  \n",
              "5662   NO  NO    C      5         C_M  \n",
              "5663  YES  NO    C      3         C_M  \n",
              "5664   NO  NO    F      4         F_M  \n",
              "\n",
              "[5665 rows x 17 columns]"
            ],
            "text/html": [
              "\n",
              "  <div id=\"df-5b470403-b596-4a30-9c13-dac7536d49d2\">\n",
              "    <div class=\"colab-df-container\">\n",
              "      <div>\n",
              "<style scoped>\n",
              "    .dataframe tbody tr th:only-of-type {\n",
              "        vertical-align: middle;\n",
              "    }\n",
              "\n",
              "    .dataframe tbody tr th {\n",
              "        vertical-align: top;\n",
              "    }\n",
              "\n",
              "    .dataframe thead th {\n",
              "        text-align: right;\n",
              "    }\n",
              "</style>\n",
              "<table border=\"1\" class=\"dataframe\">\n",
              "  <thead>\n",
              "    <tr style=\"text-align: right;\">\n",
              "      <th></th>\n",
              "      <th>choral_ID</th>\n",
              "      <th>event_number</th>\n",
              "      <th>C</th>\n",
              "      <th>C#</th>\n",
              "      <th>D</th>\n",
              "      <th>D#</th>\n",
              "      <th>E</th>\n",
              "      <th>F</th>\n",
              "      <th>F#</th>\n",
              "      <th>G</th>\n",
              "      <th>G#</th>\n",
              "      <th>A</th>\n",
              "      <th>A#</th>\n",
              "      <th>B</th>\n",
              "      <th>bass</th>\n",
              "      <th>meter</th>\n",
              "      <th>chord_label</th>\n",
              "    </tr>\n",
              "  </thead>\n",
              "  <tbody>\n",
              "    <tr>\n",
              "      <th>0</th>\n",
              "      <td>000106b_</td>\n",
              "      <td>1</td>\n",
              "      <td>YES</td>\n",
              "      <td>NO</td>\n",
              "      <td>NO</td>\n",
              "      <td>NO</td>\n",
              "      <td>NO</td>\n",
              "      <td>YES</td>\n",
              "      <td>NO</td>\n",
              "      <td>NO</td>\n",
              "      <td>NO</td>\n",
              "      <td>YES</td>\n",
              "      <td>NO</td>\n",
              "      <td>NO</td>\n",
              "      <td>F</td>\n",
              "      <td>3</td>\n",
              "      <td>F_M</td>\n",
              "    </tr>\n",
              "    <tr>\n",
              "      <th>1</th>\n",
              "      <td>000106b_</td>\n",
              "      <td>2</td>\n",
              "      <td>YES</td>\n",
              "      <td>NO</td>\n",
              "      <td>NO</td>\n",
              "      <td>NO</td>\n",
              "      <td>YES</td>\n",
              "      <td>NO</td>\n",
              "      <td>NO</td>\n",
              "      <td>YES</td>\n",
              "      <td>NO</td>\n",
              "      <td>NO</td>\n",
              "      <td>NO</td>\n",
              "      <td>NO</td>\n",
              "      <td>E</td>\n",
              "      <td>5</td>\n",
              "      <td>C_M</td>\n",
              "    </tr>\n",
              "    <tr>\n",
              "      <th>2</th>\n",
              "      <td>000106b_</td>\n",
              "      <td>3</td>\n",
              "      <td>YES</td>\n",
              "      <td>NO</td>\n",
              "      <td>NO</td>\n",
              "      <td>NO</td>\n",
              "      <td>YES</td>\n",
              "      <td>NO</td>\n",
              "      <td>NO</td>\n",
              "      <td>YES</td>\n",
              "      <td>NO</td>\n",
              "      <td>NO</td>\n",
              "      <td>NO</td>\n",
              "      <td>NO</td>\n",
              "      <td>E</td>\n",
              "      <td>2</td>\n",
              "      <td>C_M</td>\n",
              "    </tr>\n",
              "    <tr>\n",
              "      <th>3</th>\n",
              "      <td>000106b_</td>\n",
              "      <td>4</td>\n",
              "      <td>YES</td>\n",
              "      <td>NO</td>\n",
              "      <td>NO</td>\n",
              "      <td>NO</td>\n",
              "      <td>NO</td>\n",
              "      <td>YES</td>\n",
              "      <td>NO</td>\n",
              "      <td>NO</td>\n",
              "      <td>NO</td>\n",
              "      <td>YES</td>\n",
              "      <td>NO</td>\n",
              "      <td>NO</td>\n",
              "      <td>F</td>\n",
              "      <td>3</td>\n",
              "      <td>F_M</td>\n",
              "    </tr>\n",
              "    <tr>\n",
              "      <th>4</th>\n",
              "      <td>000106b_</td>\n",
              "      <td>5</td>\n",
              "      <td>YES</td>\n",
              "      <td>NO</td>\n",
              "      <td>NO</td>\n",
              "      <td>NO</td>\n",
              "      <td>NO</td>\n",
              "      <td>YES</td>\n",
              "      <td>NO</td>\n",
              "      <td>NO</td>\n",
              "      <td>NO</td>\n",
              "      <td>YES</td>\n",
              "      <td>NO</td>\n",
              "      <td>NO</td>\n",
              "      <td>F</td>\n",
              "      <td>2</td>\n",
              "      <td>F_M</td>\n",
              "    </tr>\n",
              "    <tr>\n",
              "      <th>...</th>\n",
              "      <td>...</td>\n",
              "      <td>...</td>\n",
              "      <td>...</td>\n",
              "      <td>...</td>\n",
              "      <td>...</td>\n",
              "      <td>...</td>\n",
              "      <td>...</td>\n",
              "      <td>...</td>\n",
              "      <td>...</td>\n",
              "      <td>...</td>\n",
              "      <td>...</td>\n",
              "      <td>...</td>\n",
              "      <td>...</td>\n",
              "      <td>...</td>\n",
              "      <td>...</td>\n",
              "      <td>...</td>\n",
              "      <td>...</td>\n",
              "    </tr>\n",
              "    <tr>\n",
              "      <th>5660</th>\n",
              "      <td>015505b_</td>\n",
              "      <td>105</td>\n",
              "      <td>NO</td>\n",
              "      <td>NO</td>\n",
              "      <td>YES</td>\n",
              "      <td>NO</td>\n",
              "      <td>NO</td>\n",
              "      <td>NO</td>\n",
              "      <td>NO</td>\n",
              "      <td>YES</td>\n",
              "      <td>NO</td>\n",
              "      <td>NO</td>\n",
              "      <td>YES</td>\n",
              "      <td>NO</td>\n",
              "      <td>G</td>\n",
              "      <td>4</td>\n",
              "      <td>G_m</td>\n",
              "    </tr>\n",
              "    <tr>\n",
              "      <th>5661</th>\n",
              "      <td>015505b_</td>\n",
              "      <td>106</td>\n",
              "      <td>NO</td>\n",
              "      <td>NO</td>\n",
              "      <td>YES</td>\n",
              "      <td>NO</td>\n",
              "      <td>NO</td>\n",
              "      <td>NO</td>\n",
              "      <td>NO</td>\n",
              "      <td>YES</td>\n",
              "      <td>NO</td>\n",
              "      <td>YES</td>\n",
              "      <td>NO</td>\n",
              "      <td>NO</td>\n",
              "      <td>G</td>\n",
              "      <td>3</td>\n",
              "      <td>G_m</td>\n",
              "    </tr>\n",
              "    <tr>\n",
              "      <th>5662</th>\n",
              "      <td>015505b_</td>\n",
              "      <td>107</td>\n",
              "      <td>YES</td>\n",
              "      <td>NO</td>\n",
              "      <td>NO</td>\n",
              "      <td>NO</td>\n",
              "      <td>YES</td>\n",
              "      <td>NO</td>\n",
              "      <td>NO</td>\n",
              "      <td>YES</td>\n",
              "      <td>NO</td>\n",
              "      <td>NO</td>\n",
              "      <td>NO</td>\n",
              "      <td>NO</td>\n",
              "      <td>C</td>\n",
              "      <td>5</td>\n",
              "      <td>C_M</td>\n",
              "    </tr>\n",
              "    <tr>\n",
              "      <th>5663</th>\n",
              "      <td>015505b_</td>\n",
              "      <td>108</td>\n",
              "      <td>YES</td>\n",
              "      <td>NO</td>\n",
              "      <td>NO</td>\n",
              "      <td>NO</td>\n",
              "      <td>YES</td>\n",
              "      <td>NO</td>\n",
              "      <td>NO</td>\n",
              "      <td>YES</td>\n",
              "      <td>NO</td>\n",
              "      <td>NO</td>\n",
              "      <td>YES</td>\n",
              "      <td>NO</td>\n",
              "      <td>C</td>\n",
              "      <td>3</td>\n",
              "      <td>C_M</td>\n",
              "    </tr>\n",
              "    <tr>\n",
              "      <th>5664</th>\n",
              "      <td>015505b_</td>\n",
              "      <td>109</td>\n",
              "      <td>NO</td>\n",
              "      <td>NO</td>\n",
              "      <td>NO</td>\n",
              "      <td>NO</td>\n",
              "      <td>NO</td>\n",
              "      <td>YES</td>\n",
              "      <td>NO</td>\n",
              "      <td>NO</td>\n",
              "      <td>NO</td>\n",
              "      <td>YES</td>\n",
              "      <td>NO</td>\n",
              "      <td>NO</td>\n",
              "      <td>F</td>\n",
              "      <td>4</td>\n",
              "      <td>F_M</td>\n",
              "    </tr>\n",
              "  </tbody>\n",
              "</table>\n",
              "<p>5665 rows × 17 columns</p>\n",
              "</div>\n",
              "      <button class=\"colab-df-convert\" onclick=\"convertToInteractive('df-5b470403-b596-4a30-9c13-dac7536d49d2')\"\n",
              "              title=\"Convert this dataframe to an interactive table.\"\n",
              "              style=\"display:none;\">\n",
              "        \n",
              "  <svg xmlns=\"http://www.w3.org/2000/svg\" height=\"24px\"viewBox=\"0 0 24 24\"\n",
              "       width=\"24px\">\n",
              "    <path d=\"M0 0h24v24H0V0z\" fill=\"none\"/>\n",
              "    <path d=\"M18.56 5.44l.94 2.06.94-2.06 2.06-.94-2.06-.94-.94-2.06-.94 2.06-2.06.94zm-11 1L8.5 8.5l.94-2.06 2.06-.94-2.06-.94L8.5 2.5l-.94 2.06-2.06.94zm10 10l.94 2.06.94-2.06 2.06-.94-2.06-.94-.94-2.06-.94 2.06-2.06.94z\"/><path d=\"M17.41 7.96l-1.37-1.37c-.4-.4-.92-.59-1.43-.59-.52 0-1.04.2-1.43.59L10.3 9.45l-7.72 7.72c-.78.78-.78 2.05 0 2.83L4 21.41c.39.39.9.59 1.41.59.51 0 1.02-.2 1.41-.59l7.78-7.78 2.81-2.81c.8-.78.8-2.07 0-2.86zM5.41 20L4 18.59l7.72-7.72 1.47 1.35L5.41 20z\"/>\n",
              "  </svg>\n",
              "      </button>\n",
              "      \n",
              "  <style>\n",
              "    .colab-df-container {\n",
              "      display:flex;\n",
              "      flex-wrap:wrap;\n",
              "      gap: 12px;\n",
              "    }\n",
              "\n",
              "    .colab-df-convert {\n",
              "      background-color: #E8F0FE;\n",
              "      border: none;\n",
              "      border-radius: 50%;\n",
              "      cursor: pointer;\n",
              "      display: none;\n",
              "      fill: #1967D2;\n",
              "      height: 32px;\n",
              "      padding: 0 0 0 0;\n",
              "      width: 32px;\n",
              "    }\n",
              "\n",
              "    .colab-df-convert:hover {\n",
              "      background-color: #E2EBFA;\n",
              "      box-shadow: 0px 1px 2px rgba(60, 64, 67, 0.3), 0px 1px 3px 1px rgba(60, 64, 67, 0.15);\n",
              "      fill: #174EA6;\n",
              "    }\n",
              "\n",
              "    [theme=dark] .colab-df-convert {\n",
              "      background-color: #3B4455;\n",
              "      fill: #D2E3FC;\n",
              "    }\n",
              "\n",
              "    [theme=dark] .colab-df-convert:hover {\n",
              "      background-color: #434B5C;\n",
              "      box-shadow: 0px 1px 3px 1px rgba(0, 0, 0, 0.15);\n",
              "      filter: drop-shadow(0px 1px 2px rgba(0, 0, 0, 0.3));\n",
              "      fill: #FFFFFF;\n",
              "    }\n",
              "  </style>\n",
              "\n",
              "      <script>\n",
              "        const buttonEl =\n",
              "          document.querySelector('#df-5b470403-b596-4a30-9c13-dac7536d49d2 button.colab-df-convert');\n",
              "        buttonEl.style.display =\n",
              "          google.colab.kernel.accessAllowed ? 'block' : 'none';\n",
              "\n",
              "        async function convertToInteractive(key) {\n",
              "          const element = document.querySelector('#df-5b470403-b596-4a30-9c13-dac7536d49d2');\n",
              "          const dataTable =\n",
              "            await google.colab.kernel.invokeFunction('convertToInteractive',\n",
              "                                                     [key], {});\n",
              "          if (!dataTable) return;\n",
              "\n",
              "          const docLinkHtml = 'Like what you see? Visit the ' +\n",
              "            '<a target=\"_blank\" href=https://colab.research.google.com/notebooks/data_table.ipynb>data table notebook</a>'\n",
              "            + ' to learn more about interactive tables.';\n",
              "          element.innerHTML = '';\n",
              "          dataTable['output_type'] = 'display_data';\n",
              "          await google.colab.output.renderOutput(dataTable, element);\n",
              "          const docLink = document.createElement('div');\n",
              "          docLink.innerHTML = docLinkHtml;\n",
              "          element.appendChild(docLink);\n",
              "        }\n",
              "      </script>\n",
              "    </div>\n",
              "  </div>\n",
              "  "
            ]
          },
          "metadata": {},
          "execution_count": 45
        }
      ]
    },
    {
      "cell_type": "markdown",
      "source": [
        "## 3) Data Analysis\n",
        "\n"
      ],
      "metadata": {
        "id": "dv0LbZhPWtj_"
      }
    },
    {
      "cell_type": "markdown",
      "source": [
        "### Possible Features\n",
        "\n",
        "Before picking a model, the dataset's features need to be explored because the data should determine the type of learning, such as supervised vs. unsupervised."
      ],
      "metadata": {
        "id": "iMgxC6Ycjyqr"
      }
    },
    {
      "cell_type": "code",
      "source": [
        "# Print the possible features\n",
        "print(bach.columns)"
      ],
      "metadata": {
        "colab": {
          "base_uri": "https://localhost:8080/"
        },
        "id": "Y9hiqjUCJjmy",
        "outputId": "fbd20f58-b3e4-48f8-9e6c-09a840b052f8"
      },
      "execution_count": 46,
      "outputs": [
        {
          "output_type": "stream",
          "name": "stdout",
          "text": [
            "Index(['choral_ID', 'event_number', 'C', 'C#', 'D', 'D#', 'E', 'F', 'F#', 'G',\n",
            "       'G#', 'A', 'A#', 'B', 'bass', 'meter', 'chord_label'],\n",
            "      dtype='object')\n"
          ]
        }
      ]
    },
    {
      "cell_type": "markdown",
      "source": [
        "The dataset should have the following:\n",
        "```\n",
        "'choral_ID', 'event_number', 'C', 'C#', 'D', 'D#', 'E', 'F', 'F#', 'G', 'G#', 'A', 'A#', 'B', 'bass', 'meter', 'chord_label'\n",
        "```\n",
        "\n",
        "* The `choral_ID` indicates the Bach-Werke-Verzeichnis number. Bach's chorales and cantatas where published in the Bach-Werke-Verzeichnis catalog, and the editor, Wolfgang Schmieder, assigned a number to help group the works by their  genre. Given this value is more of a name rather than a feature, it should not be included in the training and test feature dataset.\n",
        "\n",
        "* `event_number` this is the unique position within a composition. It will also not be of much use for learning and should not be included in the training and test feature dataset.\n",
        "\n",
        "* The 12 notes of a Western Scale columns: C, C#, D, D#, E, F, F#, G, G#, A, A#, B. These columns represent whether the note is being played for the event. A `YES` means the note is played, whereas `NO` means the note is skipped (or not played).\n",
        "\n",
        "* `bass` is the bass note played during the event.\n",
        "\n",
        "* `meter` is the beats per minute for the event.\n",
        "\n",
        "* `chord_label` is the chord played during the event. The chord is made from compositing the played notes, the bass note, and the meter. Therefore, this is the value the model will predict."
      ],
      "metadata": {
        "id": "znYbiuzCJ89E"
      }
    },
    {
      "cell_type": "markdown",
      "source": [
        "#### Taking a Look at the Data\n",
        "\n",
        "The dataset contains `strings` and `ints`.\n",
        "\n",
        "It's also complete, i.e. there are no `null` or equivalent value in the dataset. This is true becuase the count for each feature and label below is the same (5665). Had there been missing data, the values would need to be replaced with `np.NaN`, which could have been done during the DataFrame instantiation or during the Cleaning Data step.\n",
        "\n",
        "\n"
      ],
      "metadata": {
        "id": "Asb7fFj7yp_a"
      }
    },
    {
      "cell_type": "code",
      "source": [
        "#take a look at the training data\n",
        "bach.describe(include=\"all\")"
      ],
      "metadata": {
        "id": "XUGwCFmhg2Bv",
        "outputId": "572a6fdd-d381-4a4b-ac36-99d4cd71b30c",
        "colab": {
          "base_uri": "https://localhost:8080/",
          "height": 394
        }
      },
      "execution_count": 47,
      "outputs": [
        {
          "output_type": "execute_result",
          "data": {
            "text/plain": [
              "       choral_ID  event_number     C    C#     D    D#     E     F    F#  \\\n",
              "count       5665   5665.000000  5665  5665  5665  5665  5665  5665  5665   \n",
              "unique        60           NaN     2     2     2     2     2     2     2   \n",
              "top     002908ch           NaN    NO    NO    NO    NO    NO    NO    NO   \n",
              "freq         207           NaN  3875  4711  3300  4956  3540  4381  4253   \n",
              "mean         NaN     53.374404   NaN   NaN   NaN   NaN   NaN   NaN   NaN   \n",
              "std          NaN     37.268208   NaN   NaN   NaN   NaN   NaN   NaN   NaN   \n",
              "min          NaN      1.000000   NaN   NaN   NaN   NaN   NaN   NaN   NaN   \n",
              "25%          NaN     24.000000   NaN   NaN   NaN   NaN   NaN   NaN   NaN   \n",
              "50%          NaN     48.000000   NaN   NaN   NaN   NaN   NaN   NaN   NaN   \n",
              "75%          NaN     75.000000   NaN   NaN   NaN   NaN   NaN   NaN   NaN   \n",
              "max          NaN    207.000000   NaN   NaN   NaN   NaN   NaN   NaN   NaN   \n",
              "\n",
              "           G    G#     A    A#     B  bass        meter chord_label  \n",
              "count   5665  5665  5665  5665  5665  5665  5665.000000        5665  \n",
              "unique     2     2     2     2     2    16          NaN         102  \n",
              "top       NO    NO    NO    NO    NO     D          NaN         D_M  \n",
              "freq    3523  5006  3290  4644  3874   689          NaN         503  \n",
              "mean     NaN   NaN   NaN   NaN   NaN   NaN     3.134863         NaN  \n",
              "std      NaN   NaN   NaN   NaN   NaN   NaN     1.109710         NaN  \n",
              "min      NaN   NaN   NaN   NaN   NaN   NaN     1.000000         NaN  \n",
              "25%      NaN   NaN   NaN   NaN   NaN   NaN     2.000000         NaN  \n",
              "50%      NaN   NaN   NaN   NaN   NaN   NaN     3.000000         NaN  \n",
              "75%      NaN   NaN   NaN   NaN   NaN   NaN     4.000000         NaN  \n",
              "max      NaN   NaN   NaN   NaN   NaN   NaN     5.000000         NaN  "
            ],
            "text/html": [
              "\n",
              "  <div id=\"df-340e11fa-ba18-462a-86b9-bd5419da8b84\">\n",
              "    <div class=\"colab-df-container\">\n",
              "      <div>\n",
              "<style scoped>\n",
              "    .dataframe tbody tr th:only-of-type {\n",
              "        vertical-align: middle;\n",
              "    }\n",
              "\n",
              "    .dataframe tbody tr th {\n",
              "        vertical-align: top;\n",
              "    }\n",
              "\n",
              "    .dataframe thead th {\n",
              "        text-align: right;\n",
              "    }\n",
              "</style>\n",
              "<table border=\"1\" class=\"dataframe\">\n",
              "  <thead>\n",
              "    <tr style=\"text-align: right;\">\n",
              "      <th></th>\n",
              "      <th>choral_ID</th>\n",
              "      <th>event_number</th>\n",
              "      <th>C</th>\n",
              "      <th>C#</th>\n",
              "      <th>D</th>\n",
              "      <th>D#</th>\n",
              "      <th>E</th>\n",
              "      <th>F</th>\n",
              "      <th>F#</th>\n",
              "      <th>G</th>\n",
              "      <th>G#</th>\n",
              "      <th>A</th>\n",
              "      <th>A#</th>\n",
              "      <th>B</th>\n",
              "      <th>bass</th>\n",
              "      <th>meter</th>\n",
              "      <th>chord_label</th>\n",
              "    </tr>\n",
              "  </thead>\n",
              "  <tbody>\n",
              "    <tr>\n",
              "      <th>count</th>\n",
              "      <td>5665</td>\n",
              "      <td>5665.000000</td>\n",
              "      <td>5665</td>\n",
              "      <td>5665</td>\n",
              "      <td>5665</td>\n",
              "      <td>5665</td>\n",
              "      <td>5665</td>\n",
              "      <td>5665</td>\n",
              "      <td>5665</td>\n",
              "      <td>5665</td>\n",
              "      <td>5665</td>\n",
              "      <td>5665</td>\n",
              "      <td>5665</td>\n",
              "      <td>5665</td>\n",
              "      <td>5665</td>\n",
              "      <td>5665.000000</td>\n",
              "      <td>5665</td>\n",
              "    </tr>\n",
              "    <tr>\n",
              "      <th>unique</th>\n",
              "      <td>60</td>\n",
              "      <td>NaN</td>\n",
              "      <td>2</td>\n",
              "      <td>2</td>\n",
              "      <td>2</td>\n",
              "      <td>2</td>\n",
              "      <td>2</td>\n",
              "      <td>2</td>\n",
              "      <td>2</td>\n",
              "      <td>2</td>\n",
              "      <td>2</td>\n",
              "      <td>2</td>\n",
              "      <td>2</td>\n",
              "      <td>2</td>\n",
              "      <td>16</td>\n",
              "      <td>NaN</td>\n",
              "      <td>102</td>\n",
              "    </tr>\n",
              "    <tr>\n",
              "      <th>top</th>\n",
              "      <td>002908ch</td>\n",
              "      <td>NaN</td>\n",
              "      <td>NO</td>\n",
              "      <td>NO</td>\n",
              "      <td>NO</td>\n",
              "      <td>NO</td>\n",
              "      <td>NO</td>\n",
              "      <td>NO</td>\n",
              "      <td>NO</td>\n",
              "      <td>NO</td>\n",
              "      <td>NO</td>\n",
              "      <td>NO</td>\n",
              "      <td>NO</td>\n",
              "      <td>NO</td>\n",
              "      <td>D</td>\n",
              "      <td>NaN</td>\n",
              "      <td>D_M</td>\n",
              "    </tr>\n",
              "    <tr>\n",
              "      <th>freq</th>\n",
              "      <td>207</td>\n",
              "      <td>NaN</td>\n",
              "      <td>3875</td>\n",
              "      <td>4711</td>\n",
              "      <td>3300</td>\n",
              "      <td>4956</td>\n",
              "      <td>3540</td>\n",
              "      <td>4381</td>\n",
              "      <td>4253</td>\n",
              "      <td>3523</td>\n",
              "      <td>5006</td>\n",
              "      <td>3290</td>\n",
              "      <td>4644</td>\n",
              "      <td>3874</td>\n",
              "      <td>689</td>\n",
              "      <td>NaN</td>\n",
              "      <td>503</td>\n",
              "    </tr>\n",
              "    <tr>\n",
              "      <th>mean</th>\n",
              "      <td>NaN</td>\n",
              "      <td>53.374404</td>\n",
              "      <td>NaN</td>\n",
              "      <td>NaN</td>\n",
              "      <td>NaN</td>\n",
              "      <td>NaN</td>\n",
              "      <td>NaN</td>\n",
              "      <td>NaN</td>\n",
              "      <td>NaN</td>\n",
              "      <td>NaN</td>\n",
              "      <td>NaN</td>\n",
              "      <td>NaN</td>\n",
              "      <td>NaN</td>\n",
              "      <td>NaN</td>\n",
              "      <td>NaN</td>\n",
              "      <td>3.134863</td>\n",
              "      <td>NaN</td>\n",
              "    </tr>\n",
              "    <tr>\n",
              "      <th>std</th>\n",
              "      <td>NaN</td>\n",
              "      <td>37.268208</td>\n",
              "      <td>NaN</td>\n",
              "      <td>NaN</td>\n",
              "      <td>NaN</td>\n",
              "      <td>NaN</td>\n",
              "      <td>NaN</td>\n",
              "      <td>NaN</td>\n",
              "      <td>NaN</td>\n",
              "      <td>NaN</td>\n",
              "      <td>NaN</td>\n",
              "      <td>NaN</td>\n",
              "      <td>NaN</td>\n",
              "      <td>NaN</td>\n",
              "      <td>NaN</td>\n",
              "      <td>1.109710</td>\n",
              "      <td>NaN</td>\n",
              "    </tr>\n",
              "    <tr>\n",
              "      <th>min</th>\n",
              "      <td>NaN</td>\n",
              "      <td>1.000000</td>\n",
              "      <td>NaN</td>\n",
              "      <td>NaN</td>\n",
              "      <td>NaN</td>\n",
              "      <td>NaN</td>\n",
              "      <td>NaN</td>\n",
              "      <td>NaN</td>\n",
              "      <td>NaN</td>\n",
              "      <td>NaN</td>\n",
              "      <td>NaN</td>\n",
              "      <td>NaN</td>\n",
              "      <td>NaN</td>\n",
              "      <td>NaN</td>\n",
              "      <td>NaN</td>\n",
              "      <td>1.000000</td>\n",
              "      <td>NaN</td>\n",
              "    </tr>\n",
              "    <tr>\n",
              "      <th>25%</th>\n",
              "      <td>NaN</td>\n",
              "      <td>24.000000</td>\n",
              "      <td>NaN</td>\n",
              "      <td>NaN</td>\n",
              "      <td>NaN</td>\n",
              "      <td>NaN</td>\n",
              "      <td>NaN</td>\n",
              "      <td>NaN</td>\n",
              "      <td>NaN</td>\n",
              "      <td>NaN</td>\n",
              "      <td>NaN</td>\n",
              "      <td>NaN</td>\n",
              "      <td>NaN</td>\n",
              "      <td>NaN</td>\n",
              "      <td>NaN</td>\n",
              "      <td>2.000000</td>\n",
              "      <td>NaN</td>\n",
              "    </tr>\n",
              "    <tr>\n",
              "      <th>50%</th>\n",
              "      <td>NaN</td>\n",
              "      <td>48.000000</td>\n",
              "      <td>NaN</td>\n",
              "      <td>NaN</td>\n",
              "      <td>NaN</td>\n",
              "      <td>NaN</td>\n",
              "      <td>NaN</td>\n",
              "      <td>NaN</td>\n",
              "      <td>NaN</td>\n",
              "      <td>NaN</td>\n",
              "      <td>NaN</td>\n",
              "      <td>NaN</td>\n",
              "      <td>NaN</td>\n",
              "      <td>NaN</td>\n",
              "      <td>NaN</td>\n",
              "      <td>3.000000</td>\n",
              "      <td>NaN</td>\n",
              "    </tr>\n",
              "    <tr>\n",
              "      <th>75%</th>\n",
              "      <td>NaN</td>\n",
              "      <td>75.000000</td>\n",
              "      <td>NaN</td>\n",
              "      <td>NaN</td>\n",
              "      <td>NaN</td>\n",
              "      <td>NaN</td>\n",
              "      <td>NaN</td>\n",
              "      <td>NaN</td>\n",
              "      <td>NaN</td>\n",
              "      <td>NaN</td>\n",
              "      <td>NaN</td>\n",
              "      <td>NaN</td>\n",
              "      <td>NaN</td>\n",
              "      <td>NaN</td>\n",
              "      <td>NaN</td>\n",
              "      <td>4.000000</td>\n",
              "      <td>NaN</td>\n",
              "    </tr>\n",
              "    <tr>\n",
              "      <th>max</th>\n",
              "      <td>NaN</td>\n",
              "      <td>207.000000</td>\n",
              "      <td>NaN</td>\n",
              "      <td>NaN</td>\n",
              "      <td>NaN</td>\n",
              "      <td>NaN</td>\n",
              "      <td>NaN</td>\n",
              "      <td>NaN</td>\n",
              "      <td>NaN</td>\n",
              "      <td>NaN</td>\n",
              "      <td>NaN</td>\n",
              "      <td>NaN</td>\n",
              "      <td>NaN</td>\n",
              "      <td>NaN</td>\n",
              "      <td>NaN</td>\n",
              "      <td>5.000000</td>\n",
              "      <td>NaN</td>\n",
              "    </tr>\n",
              "  </tbody>\n",
              "</table>\n",
              "</div>\n",
              "      <button class=\"colab-df-convert\" onclick=\"convertToInteractive('df-340e11fa-ba18-462a-86b9-bd5419da8b84')\"\n",
              "              title=\"Convert this dataframe to an interactive table.\"\n",
              "              style=\"display:none;\">\n",
              "        \n",
              "  <svg xmlns=\"http://www.w3.org/2000/svg\" height=\"24px\"viewBox=\"0 0 24 24\"\n",
              "       width=\"24px\">\n",
              "    <path d=\"M0 0h24v24H0V0z\" fill=\"none\"/>\n",
              "    <path d=\"M18.56 5.44l.94 2.06.94-2.06 2.06-.94-2.06-.94-.94-2.06-.94 2.06-2.06.94zm-11 1L8.5 8.5l.94-2.06 2.06-.94-2.06-.94L8.5 2.5l-.94 2.06-2.06.94zm10 10l.94 2.06.94-2.06 2.06-.94-2.06-.94-.94-2.06-.94 2.06-2.06.94z\"/><path d=\"M17.41 7.96l-1.37-1.37c-.4-.4-.92-.59-1.43-.59-.52 0-1.04.2-1.43.59L10.3 9.45l-7.72 7.72c-.78.78-.78 2.05 0 2.83L4 21.41c.39.39.9.59 1.41.59.51 0 1.02-.2 1.41-.59l7.78-7.78 2.81-2.81c.8-.78.8-2.07 0-2.86zM5.41 20L4 18.59l7.72-7.72 1.47 1.35L5.41 20z\"/>\n",
              "  </svg>\n",
              "      </button>\n",
              "      \n",
              "  <style>\n",
              "    .colab-df-container {\n",
              "      display:flex;\n",
              "      flex-wrap:wrap;\n",
              "      gap: 12px;\n",
              "    }\n",
              "\n",
              "    .colab-df-convert {\n",
              "      background-color: #E8F0FE;\n",
              "      border: none;\n",
              "      border-radius: 50%;\n",
              "      cursor: pointer;\n",
              "      display: none;\n",
              "      fill: #1967D2;\n",
              "      height: 32px;\n",
              "      padding: 0 0 0 0;\n",
              "      width: 32px;\n",
              "    }\n",
              "\n",
              "    .colab-df-convert:hover {\n",
              "      background-color: #E2EBFA;\n",
              "      box-shadow: 0px 1px 2px rgba(60, 64, 67, 0.3), 0px 1px 3px 1px rgba(60, 64, 67, 0.15);\n",
              "      fill: #174EA6;\n",
              "    }\n",
              "\n",
              "    [theme=dark] .colab-df-convert {\n",
              "      background-color: #3B4455;\n",
              "      fill: #D2E3FC;\n",
              "    }\n",
              "\n",
              "    [theme=dark] .colab-df-convert:hover {\n",
              "      background-color: #434B5C;\n",
              "      box-shadow: 0px 1px 3px 1px rgba(0, 0, 0, 0.15);\n",
              "      filter: drop-shadow(0px 1px 2px rgba(0, 0, 0, 0.3));\n",
              "      fill: #FFFFFF;\n",
              "    }\n",
              "  </style>\n",
              "\n",
              "      <script>\n",
              "        const buttonEl =\n",
              "          document.querySelector('#df-340e11fa-ba18-462a-86b9-bd5419da8b84 button.colab-df-convert');\n",
              "        buttonEl.style.display =\n",
              "          google.colab.kernel.accessAllowed ? 'block' : 'none';\n",
              "\n",
              "        async function convertToInteractive(key) {\n",
              "          const element = document.querySelector('#df-340e11fa-ba18-462a-86b9-bd5419da8b84');\n",
              "          const dataTable =\n",
              "            await google.colab.kernel.invokeFunction('convertToInteractive',\n",
              "                                                     [key], {});\n",
              "          if (!dataTable) return;\n",
              "\n",
              "          const docLinkHtml = 'Like what you see? Visit the ' +\n",
              "            '<a target=\"_blank\" href=https://colab.research.google.com/notebooks/data_table.ipynb>data table notebook</a>'\n",
              "            + ' to learn more about interactive tables.';\n",
              "          element.innerHTML = '';\n",
              "          dataTable['output_type'] = 'display_data';\n",
              "          await google.colab.output.renderOutput(dataTable, element);\n",
              "          const docLink = document.createElement('div');\n",
              "          docLink.innerHTML = docLinkHtml;\n",
              "          element.appendChild(docLink);\n",
              "        }\n",
              "      </script>\n",
              "    </div>\n",
              "  </div>\n",
              "  "
            ]
          },
          "metadata": {},
          "execution_count": 47
        }
      ]
    },
    {
      "cell_type": "markdown",
      "source": [
        "#### Some Observations:\n",
        "\n",
        "* The top `chord_label` is `D_M`.\n",
        "* `meter` ranges from 1 to 5 with a mean of about 3.13.\n",
        "* The top `bass` value is `D`.\n",
        "* The top value for the 12 notes is `NO`. This should be expected because few notes are required to make a chord (two or more notes compose a chord). So each row should have more `NO`s than `YES`s.\n",
        "* Of the 12 notes, `D#` and `G#` are used the least in the dataset (i.e. they have more `NO`s than the others).\n",
        "* Of the 12 notes, `E` and `G` are used the most in the dataset (i.e. they have more `YES`s than the others)."
      ],
      "metadata": {
        "id": "AtaJEA5HhPXE"
      }
    },
    {
      "cell_type": "markdown",
      "source": [
        "#### Some Predictions:\n",
        "\n",
        "* Subspacing features with a lower boundary of 70% will yield similar accuracies to no subspacing. This prediction is based on the `D#` and `G#` observation. `G#` is not used in 5006 out of the 5665 provided chords. When the data splits for training, there's a low chance chords with `G#` will be in the training set.\n",
        "* When visualizing the data, `E` and `G` should have more `chord_label`s compared to the other notes."
      ],
      "metadata": {
        "id": "0NcF9tiglN_A"
      }
    },
    {
      "cell_type": "markdown",
      "source": [
        "## 4) Data Visualization\n",
        "\n",
        "### Before Visualizing\n",
        "\n",
        "* Given the dataset has 5665 entries, visualizing the data via a bar graph can look a bit messy. Therefore, a [list slicing](https://www.geeksforgeeks.org/python-list-slicing/) of 200 values will be used to generate more \"readable\" graphs. Given the dataset is ordered by `choral_ID`, list slicing will hopefully generate graphs with a variety of values because the first set of entries belong to the same composition and would not provide a valid representation of the data. It's worth mentioning that not all of the chords will be represented in the graphs, but the same chords will be represented in all of them. So the data should not be taken as absolute truth about the dataset.\n",
        "\n",
        "* The `seaborn` bar plot requires at least `x` or `y` to be numeric. Because the `chord_label` is not numeric, other nonnumerical features will need to be encoded to a numeric value before visualizing.\n",
        "\n",
        "* The graphs below are bar charts, and some bars have a thin black line. According to the [documentation](https://seaborn.pydata.org/generated/seaborn.barplot.html), that line represents the 95% confidence interval. No line, means `seaborn` is 95% or more confident the value is correct. On the other hand, the presence of the line shows the range of values until `seaborn`'s 95% confident or more. It's also worth noting that missing a confidence interval doesn't mean the value is correct because the data is sliced by 200. There are many sets of 199 values not represented in the graph."
      ],
      "metadata": {
        "id": "141O3qDWJ2a3"
      }
    },
    {
      "cell_type": "code",
      "source": [
        "sliceValue = 200"
      ],
      "metadata": {
        "id": "77WnZ9NZ_r9t"
      },
      "execution_count": 48,
      "outputs": []
    },
    {
      "cell_type": "markdown",
      "source": [
        "### `choral_ID` feature\n",
        "\n",
        "This feature is nonnumerical and will require mapping/encoding before it can be compared to `chord_label`."
      ],
      "metadata": {
        "id": "YU7DhBzZoUro"
      }
    },
    {
      "cell_type": "code",
      "source": [
        "# Print the unqiue choral_IDs for the mapping/encoding step.\n",
        "print(bach['choral_ID'].unique())"
      ],
      "metadata": {
        "id": "8MW3f-_yzPJm",
        "outputId": "934589ad-95cc-42b8-b417-64c54d30f918",
        "colab": {
          "base_uri": "https://localhost:8080/"
        }
      },
      "execution_count": 49,
      "outputs": [
        {
          "output_type": "stream",
          "name": "stdout",
          "text": [
            "['000106b_' '000206b_' '000306b_' '000408b_' '000507b_' '000606b_'\n",
            " '000707b_' '000907b_' '001007b_' '001106b_' '001207b_' '001306b_'\n",
            " '001606b_' '001707b_' '001805b_' '001907ch' '002406bs' '002506b_'\n",
            " '002806b_' '002908ch' '003006b_' '003109b_' '003206b_' '003306b_'\n",
            " '003608b2' '003806b_' '003907b_' '003907bv' '004006b_' '004008b_'\n",
            " '005708b_' '012006b_' '012106b_' '012206b_' '012306b_' '012406b_'\n",
            " '012506b_' '012606b_' '012606bv' '012705b_' '012805b_' '013506b_'\n",
            " '013705ch' '013906b_' '014007b_' '014403b_' '014406b_' '014500ba'\n",
            " '014505b_' '014505bv' '014608b_' '014806b_' '014806bv' '015105b_'\n",
            " '015301b_' '015305b_' '015309b_' '015403b_' '015408b_' '015505b_']\n"
          ]
        }
      ]
    },
    {
      "cell_type": "markdown",
      "source": [
        "The mapping/encoding will be simple. Each `choral_ID` will be assigned an integer."
      ],
      "metadata": {
        "id": "9uiN7VDF3dps"
      }
    },
    {
      "cell_type": "code",
      "source": [
        "# Replace the strings values with the appropriate encoded value.\n",
        "bach_encoded = bach.replace({'choral_ID': {'000106b_': 1, '000206b_': 2, '000306b_': 3, '000408b_': 4, \n",
        "                                             '000507b_': 5, '000606b_': 6, '000707b_': 7, '000907b_': 8, \n",
        "                                             '001007b_': 9, '001106b_': 10, '001207b_': 11, '001306b_': 12, \n",
        "                                             '001606b_': 13, '001707b_': 14, '001805b_': 15, '001907ch': 16, \n",
        "                                             '002406bs': 17, '002506b_': 18, '002806b_': 19, '002908ch': 20, \n",
        "                                             '003006b_': 21, '003109b_': 22, '003206b_': 23, '003306b_': 24, \n",
        "                                             '003608b2': 25, '003806b_': 26, '003907b_': 27, '003907bv': 28, \n",
        "                                             '004006b_': 29, '004008b_': 30, '005708b_': 31, '012006b_': 32, \n",
        "                                             '012106b_': 33, '012206b_': 34, '012306b_': 35, '012406b_': 36, \n",
        "                                             '012506b_': 37, '012606b_': 38, '012606bv': 39, '012705b_': 40, \n",
        "                                             '012805b_': 41, '013506b_': 42, '013705ch': 43, '013906b_': 44, \n",
        "                                             '014007b_': 45, '014403b_': 46, '014406b_': 47, '014500ba': 48, \n",
        "                                             '014505b_': 49, '014505bv': 50, '014608b_': 51, '014806b_': 52, \n",
        "                                             '014806bv': 53, '015105b_': 54, '015301b_': 55, '015305b_': 56, \n",
        "                                             '015309b_': 57, '015403b_': 58, '015408b_': 59, '015505b_': 60}})\n",
        "# Plot the encoded data.\n",
        "sns.barplot(x='choral_ID', y='chord_label', data=bach_encoded[::sliceValue])"
      ],
      "metadata": {
        "id": "XMpn5WOan5pe",
        "outputId": "1ffab4e4-4ecc-4ea4-8562-48c3d2b0a8a4",
        "colab": {
          "base_uri": "https://localhost:8080/",
          "height": 298
        }
      },
      "execution_count": 50,
      "outputs": [
        {
          "output_type": "execute_result",
          "data": {
            "text/plain": [
              "<matplotlib.axes._subplots.AxesSubplot at 0x7f7340050cd0>"
            ]
          },
          "metadata": {},
          "execution_count": 50
        },
        {
          "output_type": "display_data",
          "data": {
            "text/plain": [
              "<Figure size 432x288 with 1 Axes>"
            ],
            "image/png": "[encoded data removed]"
          },
          "metadata": {
            "needs_background": "light"
          }
        }
      ]
    },
    {
      "cell_type": "markdown",
      "source": [
        "10 out of the 17 chords appear in a specific composition. As previously mentioned, this should be not be taken as fact because the graph only shows a slice of the date, however, it's interesting to see that more than half of the chords present in the data set belong to a specific composition."
      ],
      "metadata": {
        "id": "HEIKILyC3nUU"
      }
    },
    {
      "cell_type": "markdown",
      "source": [
        "### `event_number` feature"
      ],
      "metadata": {
        "id": "hhy8JcKFuiFC"
      }
    },
    {
      "cell_type": "code",
      "source": [
        "sns.barplot(x='event_number', y='chord_label', data=bach[::sliceValue])"
      ],
      "metadata": {
        "id": "0RQEN8njumMI",
        "outputId": "c4b616c7-2f1f-4ca9-ee80-2d23ca9738fa",
        "colab": {
          "base_uri": "https://localhost:8080/",
          "height": 298
        }
      },
      "execution_count": 51,
      "outputs": [
        {
          "output_type": "execute_result",
          "data": {
            "text/plain": [
              "<matplotlib.axes._subplots.AxesSubplot at 0x7f732e0de2d0>"
            ]
          },
          "metadata": {},
          "execution_count": 51
        },
        {
          "output_type": "display_data",
          "data": {
            "text/plain": [
              "<Figure size 432x288 with 1 Axes>"
            ],
            "image/png": "[encoded data removed]"
          },
          "metadata": {
            "needs_background": "light"
          }
        }
      ]
    },
    {
      "cell_type": "markdown",
      "source": [
        "There's not much to discern from this data. If anything, the data shows when a chord might be used within a composition."
      ],
      "metadata": {
        "id": "bXPEWIPG5nmT"
      }
    },
    {
      "cell_type": "markdown",
      "source": [
        "### The Notes\n",
        "\n",
        "Before visualizing the notes, it's worth mentioning that all notes will be visualized the same.\n",
        "\n",
        "Because each column has only `YES` and `NO` values, they need to be encoded into `1` and `0` respectively.\n",
        "\n",
        "Each graph is meant to show which chords the note is present in. Those chords with a confidence interval seem to indicate the note is present sometimes but not others. This leads me to wonder how important the `bass` and `meter` features are for determining the cord. Definitely not expected or predicted."
      ],
      "metadata": {
        "id": "HmBVjIoE7qek"
      }
    },
    {
      "cell_type": "markdown",
      "source": [
        "### `C` feature"
      ],
      "metadata": {
        "id": "AmeLsGYEumiP"
      }
    },
    {
      "cell_type": "code",
      "source": [
        "bach_encoded = bach.replace({'C': {'YES': 1, 'NO': 0}})\n",
        "sns.barplot(x='C', y='chord_label', data=bach_encoded[::sliceValue])"
      ],
      "metadata": {
        "id": "4_JcLwb0uq8n",
        "outputId": "68d6902a-55e3-4802-de10-6e9ae57217ce",
        "colab": {
          "base_uri": "https://localhost:8080/",
          "height": 297
        }
      },
      "execution_count": 52,
      "outputs": [
        {
          "output_type": "execute_result",
          "data": {
            "text/plain": [
              "<matplotlib.axes._subplots.AxesSubplot at 0x7f7348f90fd0>"
            ]
          },
          "metadata": {},
          "execution_count": 52
        },
        {
          "output_type": "display_data",
          "data": {
            "text/plain": [
              "<Figure size 432x288 with 1 Axes>"
            ],
            "image/png": "[encoded data removed]"
          },
          "metadata": {
            "needs_background": "light"
          }
        }
      ]
    },
    {
      "cell_type": "markdown",
      "source": [
        "### `C#` feature"
      ],
      "metadata": {
        "id": "mPxeB6-nv7ht"
      }
    },
    {
      "cell_type": "code",
      "source": [
        "bach_encoded = bach.replace({'C#': {'YES': 1, 'NO': 0}})\n",
        "sns.barplot(x='C#', y='chord_label', data=bach_encoded[::sliceValue])"
      ],
      "metadata": {
        "id": "EgNZWciwv-xy",
        "outputId": "f273e126-2ef3-41d4-e01f-e9440ecdfa42",
        "colab": {
          "base_uri": "https://localhost:8080/",
          "height": 297
        }
      },
      "execution_count": 53,
      "outputs": [
        {
          "output_type": "execute_result",
          "data": {
            "text/plain": [
              "<matplotlib.axes._subplots.AxesSubplot at 0x7f73228e1e90>"
            ]
          },
          "metadata": {},
          "execution_count": 53
        },
        {
          "output_type": "display_data",
          "data": {
            "text/plain": [
              "<Figure size 432x288 with 1 Axes>"
            ],
            "image/png": "[encoded data removed]"
          },
          "metadata": {
            "needs_background": "light"
          }
        }
      ]
    },
    {
      "cell_type": "markdown",
      "source": [
        "### `D` feature"
      ],
      "metadata": {
        "id": "-xModKLJwFh2"
      }
    },
    {
      "cell_type": "code",
      "source": [
        "bach_encoded = bach.replace({'D': {'YES': 1, 'NO': 0}})\n",
        "sns.barplot(x='D', y='chord_label', data=bach_encoded[::sliceValue])"
      ],
      "metadata": {
        "id": "5TLrWLslwQig",
        "outputId": "af372084-5ec3-4448-d335-7dcfd6966c96",
        "colab": {
          "base_uri": "https://localhost:8080/",
          "height": 297
        }
      },
      "execution_count": 54,
      "outputs": [
        {
          "output_type": "execute_result",
          "data": {
            "text/plain": [
              "<matplotlib.axes._subplots.AxesSubplot at 0x7f73227d0650>"
            ]
          },
          "metadata": {},
          "execution_count": 54
        },
        {
          "output_type": "display_data",
          "data": {
            "text/plain": [
              "<Figure size 432x288 with 1 Axes>"
            ],
            "image/png": "[encoded data removed]"
          },
          "metadata": {
            "needs_background": "light"
          }
        }
      ]
    },
    {
      "cell_type": "markdown",
      "source": [
        "### `D#` feature"
      ],
      "metadata": {
        "id": "CUoGfugEwQ62"
      }
    },
    {
      "cell_type": "code",
      "source": [
        "bach_encoded = bach.replace({'D#': {'YES': 1, 'NO': 0}})\n",
        "sns.barplot(x='D#', y='chord_label', data=bach_encoded[::sliceValue])"
      ],
      "metadata": {
        "id": "xvpcCI6mwSC2",
        "outputId": "8769d69e-df6f-4be3-d12c-b0923dd26d00",
        "colab": {
          "base_uri": "https://localhost:8080/",
          "height": 297
        }
      },
      "execution_count": 55,
      "outputs": [
        {
          "output_type": "execute_result",
          "data": {
            "text/plain": [
              "<matplotlib.axes._subplots.AxesSubplot at 0x7f73226c4f10>"
            ]
          },
          "metadata": {},
          "execution_count": 55
        },
        {
          "output_type": "display_data",
          "data": {
            "text/plain": [
              "<Figure size 432x288 with 1 Axes>"
            ],
            "image/png": "[encoded data removed]"
          },
          "metadata": {
            "needs_background": "light"
          }
        }
      ]
    },
    {
      "cell_type": "markdown",
      "source": [
        "### `E` feature"
      ],
      "metadata": {
        "id": "8R48MR9swSas"
      }
    },
    {
      "cell_type": "code",
      "source": [
        "bach_encoded = bach.replace({'E': {'YES': 1, 'NO': 0}})\n",
        "sns.barplot(x='E', y='chord_label', data=bach_encoded[::sliceValue])"
      ],
      "metadata": {
        "id": "BQR2v_hOwVy1",
        "outputId": "9c9aa8c8-d865-4349-8a7b-536eabee5507",
        "colab": {
          "base_uri": "https://localhost:8080/",
          "height": 297
        }
      },
      "execution_count": 56,
      "outputs": [
        {
          "output_type": "execute_result",
          "data": {
            "text/plain": [
              "<matplotlib.axes._subplots.AxesSubplot at 0x7f7322639890>"
            ]
          },
          "metadata": {},
          "execution_count": 56
        },
        {
          "output_type": "display_data",
          "data": {
            "text/plain": [
              "<Figure size 432x288 with 1 Axes>"
            ],
            "image/png": "[encoded data removed]"
          },
          "metadata": {
            "needs_background": "light"
          }
        }
      ]
    },
    {
      "cell_type": "markdown",
      "source": [
        "### `F` feature"
      ],
      "metadata": {
        "id": "cZBAewNPwWJ4"
      }
    },
    {
      "cell_type": "code",
      "source": [
        "bach_encoded = bach.replace({'F': {'YES': 1, 'NO': 0}})\n",
        "sns.barplot(x='F', y='chord_label', data=bach_encoded[::sliceValue])"
      ],
      "metadata": {
        "id": "iwZMPV0xwYec",
        "outputId": "3aae04cc-e707-477e-f106-758293413b4f",
        "colab": {
          "base_uri": "https://localhost:8080/",
          "height": 297
        }
      },
      "execution_count": 57,
      "outputs": [
        {
          "output_type": "execute_result",
          "data": {
            "text/plain": [
              "<matplotlib.axes._subplots.AxesSubplot at 0x7f73226310d0>"
            ]
          },
          "metadata": {},
          "execution_count": 57
        },
        {
          "output_type": "display_data",
          "data": {
            "text/plain": [
              "<Figure size 432x288 with 1 Axes>"
            ],
            "image/png": "[encoded data removed]"
          },
          "metadata": {
            "needs_background": "light"
          }
        }
      ]
    },
    {
      "cell_type": "markdown",
      "source": [
        "### `F#` feature"
      ],
      "metadata": {
        "id": "qAmV3SWOwYzD"
      }
    },
    {
      "cell_type": "code",
      "source": [
        "bach_encoded = bach.replace({'F#': {'YES': 1, 'NO': 0}})\n",
        "sns.barplot(x='F#', y='chord_label', data=bach_encoded[::sliceValue])"
      ],
      "metadata": {
        "id": "-Ph4nWRAwazr",
        "outputId": "e777628c-d30b-4cda-891a-1e18dedf4b54",
        "colab": {
          "base_uri": "https://localhost:8080/",
          "height": 297
        }
      },
      "execution_count": 58,
      "outputs": [
        {
          "output_type": "execute_result",
          "data": {
            "text/plain": [
              "<matplotlib.axes._subplots.AxesSubplot at 0x7f7322412810>"
            ]
          },
          "metadata": {},
          "execution_count": 58
        },
        {
          "output_type": "display_data",
          "data": {
            "text/plain": [
              "<Figure size 432x288 with 1 Axes>"
            ],
            "image/png": "[encoded data removed]"
          },
          "metadata": {
            "needs_background": "light"
          }
        }
      ]
    },
    {
      "cell_type": "markdown",
      "source": [
        "### `G` feature"
      ],
      "metadata": {
        "id": "yYgi2a_twcod"
      }
    },
    {
      "cell_type": "code",
      "source": [
        "bach_encoded = bach.replace({'G': {'YES': 1, 'NO': 0}})\n",
        "sns.barplot(x='G', y='chord_label', data=bach_encoded[::sliceValue])"
      ],
      "metadata": {
        "id": "P5joQN0rweUC",
        "outputId": "0d785d1a-a9c8-4ff3-a867-bc086045ecba",
        "colab": {
          "base_uri": "https://localhost:8080/",
          "height": 297
        }
      },
      "execution_count": 59,
      "outputs": [
        {
          "output_type": "execute_result",
          "data": {
            "text/plain": [
              "<matplotlib.axes._subplots.AxesSubplot at 0x7f732230a590>"
            ]
          },
          "metadata": {},
          "execution_count": 59
        },
        {
          "output_type": "display_data",
          "data": {
            "text/plain": [
              "<Figure size 432x288 with 1 Axes>"
            ],
            "image/png": "[encoded data removed]"
          },
          "metadata": {
            "needs_background": "light"
          }
        }
      ]
    },
    {
      "cell_type": "markdown",
      "source": [
        "### `G#` feature"
      ],
      "metadata": {
        "id": "bJA8Ky5Bwe1f"
      }
    },
    {
      "cell_type": "code",
      "source": [
        "bach_encoded = bach.replace({'G#': {'YES': 1, 'NO': 0}})\n",
        "sns.barplot(x='G#', y='chord_label', data=bach_encoded[::sliceValue])"
      ],
      "metadata": {
        "id": "QfE6etP5wgoZ",
        "outputId": "e5ec062e-e740-408e-8238-aa0ae6ca9b52",
        "colab": {
          "base_uri": "https://localhost:8080/",
          "height": 297
        }
      },
      "execution_count": 60,
      "outputs": [
        {
          "output_type": "execute_result",
          "data": {
            "text/plain": [
              "<matplotlib.axes._subplots.AxesSubplot at 0x7f73222fbfd0>"
            ]
          },
          "metadata": {},
          "execution_count": 60
        },
        {
          "output_type": "display_data",
          "data": {
            "text/plain": [
              "<Figure size 432x288 with 1 Axes>"
            ],
            "image/png": "[encoded data removed]"
          },
          "metadata": {
            "needs_background": "light"
          }
        }
      ]
    },
    {
      "cell_type": "markdown",
      "source": [
        "### `A` feature"
      ],
      "metadata": {
        "id": "2OLPNivEwhLg"
      }
    },
    {
      "cell_type": "code",
      "source": [
        "bach_encoded = bach.replace({'A': {'YES': 1, 'NO': 0}})\n",
        "sns.barplot(x='A', y='chord_label', data=bach_encoded[::sliceValue])"
      ],
      "metadata": {
        "id": "LLoo_jtswiWu",
        "outputId": "ae8713c2-2e08-443d-8968-201b9cda2861",
        "colab": {
          "base_uri": "https://localhost:8080/",
          "height": 297
        }
      },
      "execution_count": 61,
      "outputs": [
        {
          "output_type": "execute_result",
          "data": {
            "text/plain": [
              "<matplotlib.axes._subplots.AxesSubplot at 0x7f7322162250>"
            ]
          },
          "metadata": {},
          "execution_count": 61
        },
        {
          "output_type": "display_data",
          "data": {
            "text/plain": [
              "<Figure size 432x288 with 1 Axes>"
            ],
            "image/png": "[encoded data removed]"
          },
          "metadata": {
            "needs_background": "light"
          }
        }
      ]
    },
    {
      "cell_type": "markdown",
      "source": [
        "### `A#` feature"
      ],
      "metadata": {
        "id": "ajZVwQuzwiwL"
      }
    },
    {
      "cell_type": "code",
      "source": [
        "bach_encoded = bach.replace({'A#': {'YES': 1, 'NO': 0}})\n",
        "sns.barplot(x='A#', y='chord_label', data=bach_encoded[::sliceValue])"
      ],
      "metadata": {
        "id": "f51tHF_pwkrj",
        "outputId": "48e5215b-b9d1-4156-92e7-ec7a4960a8fd",
        "colab": {
          "base_uri": "https://localhost:8080/",
          "height": 297
        }
      },
      "execution_count": 62,
      "outputs": [
        {
          "output_type": "execute_result",
          "data": {
            "text/plain": [
              "<matplotlib.axes._subplots.AxesSubplot at 0x7f7322047510>"
            ]
          },
          "metadata": {},
          "execution_count": 62
        },
        {
          "output_type": "display_data",
          "data": {
            "text/plain": [
              "<Figure size 432x288 with 1 Axes>"
            ],
            "image/png": "[encoded data removed]"
          },
          "metadata": {
            "needs_background": "light"
          }
        }
      ]
    },
    {
      "cell_type": "markdown",
      "source": [
        "### `B` feature"
      ],
      "metadata": {
        "id": "zCQmQYAqwlFT"
      }
    },
    {
      "cell_type": "code",
      "source": [
        "bach_encoded = bach.replace({'B': {'YES': 1, 'NO': 0}})\n",
        "sns.barplot(x='B', y='chord_label', data=bach_encoded[::sliceValue])"
      ],
      "metadata": {
        "id": "wauHH0XOwmZP",
        "outputId": "a8ca3df3-ed50-4ed8-b2be-9557b4295f06",
        "colab": {
          "base_uri": "https://localhost:8080/",
          "height": 297
        }
      },
      "execution_count": 63,
      "outputs": [
        {
          "output_type": "execute_result",
          "data": {
            "text/plain": [
              "<matplotlib.axes._subplots.AxesSubplot at 0x7f732214eb50>"
            ]
          },
          "metadata": {},
          "execution_count": 63
        },
        {
          "output_type": "display_data",
          "data": {
            "text/plain": [
              "<Figure size 432x288 with 1 Axes>"
            ],
            "image/png": "[encoded data removed]"
          },
          "metadata": {
            "needs_background": "light"
          }
        }
      ]
    },
    {
      "cell_type": "markdown",
      "source": [
        "### `bass` feature\n",
        "\n",
        "Similar to the other nonnumerical features, the `bass` notes will need to be encoded before visualizing."
      ],
      "metadata": {
        "id": "_qUH-KejurVi"
      }
    },
    {
      "cell_type": "code",
      "source": [
        "bach_encoded = bach.replace({'bass': {'A': 1, 'A#': 2, 'Ab': 3, 'B': 4, 'Bb': 5,\n",
        "                                      'C': 6,  'C#': 7, 'D': 8, 'D#': 9, 'Db': 10,\n",
        "                                      'E': 11, 'Eb': 12, 'F': 13, 'F#': 14, \n",
        "                                      'G': 15, 'G#': 16}})\n",
        "sns.barplot(x='bass', y='chord_label', data=bach_encoded[::sliceValue])"
      ],
      "metadata": {
        "id": "lR5cTsHOus75",
        "outputId": "39f58195-c09c-41da-f9ff-afcb2ea1e30d",
        "colab": {
          "base_uri": "https://localhost:8080/",
          "height": 297
        }
      },
      "execution_count": 64,
      "outputs": [
        {
          "output_type": "execute_result",
          "data": {
            "text/plain": [
              "<matplotlib.axes._subplots.AxesSubplot at 0x7f7321eead10>"
            ]
          },
          "metadata": {},
          "execution_count": 64
        },
        {
          "output_type": "display_data",
          "data": {
            "text/plain": [
              "<Figure size 432x288 with 1 Axes>"
            ],
            "image/png": "[encoded data removed]"
          },
          "metadata": {
            "needs_background": "light"
          }
        }
      ]
    },
    {
      "cell_type": "markdown",
      "source": [
        "12 out of the 17 chords have the same `bass` value, whereas the other 5 are paired with more than one value. \n",
        "\n",
        "Also, the sharp (`#`) chords seem to not have any confidence intervals."
      ],
      "metadata": {
        "id": "ZD8Y5o7k8-Mp"
      }
    },
    {
      "cell_type": "markdown",
      "source": [
        "### `meter` feature"
      ],
      "metadata": {
        "id": "qLMLhwhqutSv"
      }
    },
    {
      "cell_type": "code",
      "source": [
        "sns.barplot(x='meter', y='chord_label', data=bach[::sliceValue])"
      ],
      "metadata": {
        "id": "i2Pcsd57xihL",
        "outputId": "6e968d8a-9a33-4d06-d839-e5be3c551862",
        "colab": {
          "base_uri": "https://localhost:8080/",
          "height": 297
        }
      },
      "execution_count": 65,
      "outputs": [
        {
          "output_type": "execute_result",
          "data": {
            "text/plain": [
              "<matplotlib.axes._subplots.AxesSubplot at 0x7f732260e890>"
            ]
          },
          "metadata": {},
          "execution_count": 65
        },
        {
          "output_type": "display_data",
          "data": {
            "text/plain": [
              "<Figure size 432x288 with 1 Axes>"
            ],
            "image/png": "[encoded data removed]"
          },
          "metadata": {
            "needs_background": "light"
          }
        }
      ]
    },
    {
      "cell_type": "markdown",
      "source": [
        "Similar to the `choral_ID`, there are 10 out of 17 chords with no confidence interval."
      ],
      "metadata": {
        "id": "bOS4HxDt91Ms"
      }
    },
    {
      "cell_type": "markdown",
      "source": [
        "### Analysis of Observations\n",
        "\n",
        "* Note sure if this is due to the slicing, but it seems that a decent amount of the chords do not vary in confidence in `meter` or `bass` values. Those properties should allow the learning model to need fewer choices to classify the chords. The confident chords are `F#m`, `BbM`, `C#m`, `C_M`, `E_m`, `B_m`, `D_m`, `F#d`, `F_M7`, and `E_M7`.\n",
        "* The notes do not seem to have a pattern. For example, each of sharp notes appears in only 3 chords (they are not the same chords). Had the 3 chord subsets had a common property/feature (such as sharp and minor), then that would be interesting, but the subsets have chords with few overlapping qualities. The most overlap is a sharp chord, but `D#` doesn't appear in any of the sharp cords.\n",
        "* As predicted, `D#` and `G#` appear in fewer chords. `D#` appears in 2 chords and `G#` appears in 3 chords, but to be fair `G` and the other sharp notes (expect `F#`) only appear in 3 chords.\n",
        "  * The mean chord appearance for the note set is 4.92 (total appearance = 59, number of notes = 12, and 59 / 12 = 4.916666...).\n",
        "* The prediction for `E` and `G` was half correct. Unfortunately, `G` only appeared in 3 chords, which is the second lowest frequency as discussed above. On the other hand, `E` appears in 8 chords, which is the highest frequency out of the other notes."
      ],
      "metadata": {
        "id": "jpg-EWJ9-EX5"
      }
    },
    {
      "cell_type": "markdown",
      "source": [
        "## 5) Cleaning Data\n",
        "\n",
        "Before training a model to make predictions, standard practices indicate that cleaning up the data is important. This cleaning can range from removing or replacing values that models cannot interpet to simply splitting the data into features and labels."
      ],
      "metadata": {
        "id": "Mg7mwvl2Wzvs"
      }
    },
    {
      "cell_type": "markdown",
      "source": [
        "### Features\n",
        "\n",
        "These are the columns from the dataset that machine learning models will use to predict a `chord_label` value. Therefore, the first step to clean up the data is to remove the `chord_label`."
      ],
      "metadata": {
        "id": "44HoqabcN2VJ"
      }
    },
    {
      "cell_type": "code",
      "source": [
        "bach_features = bach.drop('chord_label', axis=1)\n",
        "bach_features[:3]"
      ],
      "metadata": {
        "id": "_ur6HctjKn0n",
        "outputId": "28787323-0971-4692-ac6e-23289cacebf7",
        "colab": {
          "base_uri": "https://localhost:8080/",
          "height": 143
        }
      },
      "execution_count": 66,
      "outputs": [
        {
          "output_type": "execute_result",
          "data": {
            "text/plain": [
              "  choral_ID  event_number    C  C#   D  D#    E    F  F#    G  G#    A  A#  \\\n",
              "0  000106b_             1  YES  NO  NO  NO   NO  YES  NO   NO  NO  YES  NO   \n",
              "1  000106b_             2  YES  NO  NO  NO  YES   NO  NO  YES  NO   NO  NO   \n",
              "2  000106b_             3  YES  NO  NO  NO  YES   NO  NO  YES  NO   NO  NO   \n",
              "\n",
              "    B bass  meter  \n",
              "0  NO    F      3  \n",
              "1  NO    E      5  \n",
              "2  NO    E      2  "
            ],
            "text/html": [
              "\n",
              "  <div id=\"df-596e96ac-c5e9-4d9f-99da-8b5f67338c59\">\n",
              "    <div class=\"colab-df-container\">\n",
              "      <div>\n",
              "<style scoped>\n",
              "    .dataframe tbody tr th:only-of-type {\n",
              "        vertical-align: middle;\n",
              "    }\n",
              "\n",
              "    .dataframe tbody tr th {\n",
              "        vertical-align: top;\n",
              "    }\n",
              "\n",
              "    .dataframe thead th {\n",
              "        text-align: right;\n",
              "    }\n",
              "</style>\n",
              "<table border=\"1\" class=\"dataframe\">\n",
              "  <thead>\n",
              "    <tr style=\"text-align: right;\">\n",
              "      <th></th>\n",
              "      <th>choral_ID</th>\n",
              "      <th>event_number</th>\n",
              "      <th>C</th>\n",
              "      <th>C#</th>\n",
              "      <th>D</th>\n",
              "      <th>D#</th>\n",
              "      <th>E</th>\n",
              "      <th>F</th>\n",
              "      <th>F#</th>\n",
              "      <th>G</th>\n",
              "      <th>G#</th>\n",
              "      <th>A</th>\n",
              "      <th>A#</th>\n",
              "      <th>B</th>\n",
              "      <th>bass</th>\n",
              "      <th>meter</th>\n",
              "    </tr>\n",
              "  </thead>\n",
              "  <tbody>\n",
              "    <tr>\n",
              "      <th>0</th>\n",
              "      <td>000106b_</td>\n",
              "      <td>1</td>\n",
              "      <td>YES</td>\n",
              "      <td>NO</td>\n",
              "      <td>NO</td>\n",
              "      <td>NO</td>\n",
              "      <td>NO</td>\n",
              "      <td>YES</td>\n",
              "      <td>NO</td>\n",
              "      <td>NO</td>\n",
              "      <td>NO</td>\n",
              "      <td>YES</td>\n",
              "      <td>NO</td>\n",
              "      <td>NO</td>\n",
              "      <td>F</td>\n",
              "      <td>3</td>\n",
              "    </tr>\n",
              "    <tr>\n",
              "      <th>1</th>\n",
              "      <td>000106b_</td>\n",
              "      <td>2</td>\n",
              "      <td>YES</td>\n",
              "      <td>NO</td>\n",
              "      <td>NO</td>\n",
              "      <td>NO</td>\n",
              "      <td>YES</td>\n",
              "      <td>NO</td>\n",
              "      <td>NO</td>\n",
              "      <td>YES</td>\n",
              "      <td>NO</td>\n",
              "      <td>NO</td>\n",
              "      <td>NO</td>\n",
              "      <td>NO</td>\n",
              "      <td>E</td>\n",
              "      <td>5</td>\n",
              "    </tr>\n",
              "    <tr>\n",
              "      <th>2</th>\n",
              "      <td>000106b_</td>\n",
              "      <td>3</td>\n",
              "      <td>YES</td>\n",
              "      <td>NO</td>\n",
              "      <td>NO</td>\n",
              "      <td>NO</td>\n",
              "      <td>YES</td>\n",
              "      <td>NO</td>\n",
              "      <td>NO</td>\n",
              "      <td>YES</td>\n",
              "      <td>NO</td>\n",
              "      <td>NO</td>\n",
              "      <td>NO</td>\n",
              "      <td>NO</td>\n",
              "      <td>E</td>\n",
              "      <td>2</td>\n",
              "    </tr>\n",
              "  </tbody>\n",
              "</table>\n",
              "</div>\n",
              "      <button class=\"colab-df-convert\" onclick=\"convertToInteractive('df-596e96ac-c5e9-4d9f-99da-8b5f67338c59')\"\n",
              "              title=\"Convert this dataframe to an interactive table.\"\n",
              "              style=\"display:none;\">\n",
              "        \n",
              "  <svg xmlns=\"http://www.w3.org/2000/svg\" height=\"24px\"viewBox=\"0 0 24 24\"\n",
              "       width=\"24px\">\n",
              "    <path d=\"M0 0h24v24H0V0z\" fill=\"none\"/>\n",
              "    <path d=\"M18.56 5.44l.94 2.06.94-2.06 2.06-.94-2.06-.94-.94-2.06-.94 2.06-2.06.94zm-11 1L8.5 8.5l.94-2.06 2.06-.94-2.06-.94L8.5 2.5l-.94 2.06-2.06.94zm10 10l.94 2.06.94-2.06 2.06-.94-2.06-.94-.94-2.06-.94 2.06-2.06.94z\"/><path d=\"M17.41 7.96l-1.37-1.37c-.4-.4-.92-.59-1.43-.59-.52 0-1.04.2-1.43.59L10.3 9.45l-7.72 7.72c-.78.78-.78 2.05 0 2.83L4 21.41c.39.39.9.59 1.41.59.51 0 1.02-.2 1.41-.59l7.78-7.78 2.81-2.81c.8-.78.8-2.07 0-2.86zM5.41 20L4 18.59l7.72-7.72 1.47 1.35L5.41 20z\"/>\n",
              "  </svg>\n",
              "      </button>\n",
              "      \n",
              "  <style>\n",
              "    .colab-df-container {\n",
              "      display:flex;\n",
              "      flex-wrap:wrap;\n",
              "      gap: 12px;\n",
              "    }\n",
              "\n",
              "    .colab-df-convert {\n",
              "      background-color: #E8F0FE;\n",
              "      border: none;\n",
              "      border-radius: 50%;\n",
              "      cursor: pointer;\n",
              "      display: none;\n",
              "      fill: #1967D2;\n",
              "      height: 32px;\n",
              "      padding: 0 0 0 0;\n",
              "      width: 32px;\n",
              "    }\n",
              "\n",
              "    .colab-df-convert:hover {\n",
              "      background-color: #E2EBFA;\n",
              "      box-shadow: 0px 1px 2px rgba(60, 64, 67, 0.3), 0px 1px 3px 1px rgba(60, 64, 67, 0.15);\n",
              "      fill: #174EA6;\n",
              "    }\n",
              "\n",
              "    [theme=dark] .colab-df-convert {\n",
              "      background-color: #3B4455;\n",
              "      fill: #D2E3FC;\n",
              "    }\n",
              "\n",
              "    [theme=dark] .colab-df-convert:hover {\n",
              "      background-color: #434B5C;\n",
              "      box-shadow: 0px 1px 3px 1px rgba(0, 0, 0, 0.15);\n",
              "      filter: drop-shadow(0px 1px 2px rgba(0, 0, 0, 0.3));\n",
              "      fill: #FFFFFF;\n",
              "    }\n",
              "  </style>\n",
              "\n",
              "      <script>\n",
              "        const buttonEl =\n",
              "          document.querySelector('#df-596e96ac-c5e9-4d9f-99da-8b5f67338c59 button.colab-df-convert');\n",
              "        buttonEl.style.display =\n",
              "          google.colab.kernel.accessAllowed ? 'block' : 'none';\n",
              "\n",
              "        async function convertToInteractive(key) {\n",
              "          const element = document.querySelector('#df-596e96ac-c5e9-4d9f-99da-8b5f67338c59');\n",
              "          const dataTable =\n",
              "            await google.colab.kernel.invokeFunction('convertToInteractive',\n",
              "                                                     [key], {});\n",
              "          if (!dataTable) return;\n",
              "\n",
              "          const docLinkHtml = 'Like what you see? Visit the ' +\n",
              "            '<a target=\"_blank\" href=https://colab.research.google.com/notebooks/data_table.ipynb>data table notebook</a>'\n",
              "            + ' to learn more about interactive tables.';\n",
              "          element.innerHTML = '';\n",
              "          dataTable['output_type'] = 'display_data';\n",
              "          await google.colab.output.renderOutput(dataTable, element);\n",
              "          const docLink = document.createElement('div');\n",
              "          docLink.innerHTML = docLinkHtml;\n",
              "          element.appendChild(docLink);\n",
              "        }\n",
              "      </script>\n",
              "    </div>\n",
              "  </div>\n",
              "  "
            ]
          },
          "metadata": {},
          "execution_count": 66
        }
      ]
    },
    {
      "cell_type": "markdown",
      "source": [
        "While removing the label column, the `choral_ID` and the `event_number` columns will also be dropped. They are removed from the dataset because a chord is not determined by the ID of an editor or the position in a composition. Instead, a chord is made of notes and a particular meter."
      ],
      "metadata": {
        "id": "eC14xLqKKujZ"
      }
    },
    {
      "cell_type": "code",
      "source": [
        "bach_features = bach_features.drop('choral_ID', axis=1)\n",
        "bach_features = bach_features.drop('event_number', axis=1)\n",
        "bach_features[:3]"
      ],
      "metadata": {
        "colab": {
          "base_uri": "https://localhost:8080/",
          "height": 143
        },
        "id": "M80-NIAWd_MA",
        "outputId": "86b30626-94f1-47f4-bdf7-3d932b3927fc"
      },
      "execution_count": 67,
      "outputs": [
        {
          "output_type": "execute_result",
          "data": {
            "text/plain": [
              "     C  C#   D  D#    E    F  F#    G  G#    A  A#   B bass  meter\n",
              "0  YES  NO  NO  NO   NO  YES  NO   NO  NO  YES  NO  NO    F      3\n",
              "1  YES  NO  NO  NO  YES   NO  NO  YES  NO   NO  NO  NO    E      5\n",
              "2  YES  NO  NO  NO  YES   NO  NO  YES  NO   NO  NO  NO    E      2"
            ],
            "text/html": [
              "\n",
              "  <div id=\"df-1cff687d-756c-46fb-9ef5-be6b934041cf\">\n",
              "    <div class=\"colab-df-container\">\n",
              "      <div>\n",
              "<style scoped>\n",
              "    .dataframe tbody tr th:only-of-type {\n",
              "        vertical-align: middle;\n",
              "    }\n",
              "\n",
              "    .dataframe tbody tr th {\n",
              "        vertical-align: top;\n",
              "    }\n",
              "\n",
              "    .dataframe thead th {\n",
              "        text-align: right;\n",
              "    }\n",
              "</style>\n",
              "<table border=\"1\" class=\"dataframe\">\n",
              "  <thead>\n",
              "    <tr style=\"text-align: right;\">\n",
              "      <th></th>\n",
              "      <th>C</th>\n",
              "      <th>C#</th>\n",
              "      <th>D</th>\n",
              "      <th>D#</th>\n",
              "      <th>E</th>\n",
              "      <th>F</th>\n",
              "      <th>F#</th>\n",
              "      <th>G</th>\n",
              "      <th>G#</th>\n",
              "      <th>A</th>\n",
              "      <th>A#</th>\n",
              "      <th>B</th>\n",
              "      <th>bass</th>\n",
              "      <th>meter</th>\n",
              "    </tr>\n",
              "  </thead>\n",
              "  <tbody>\n",
              "    <tr>\n",
              "      <th>0</th>\n",
              "      <td>YES</td>\n",
              "      <td>NO</td>\n",
              "      <td>NO</td>\n",
              "      <td>NO</td>\n",
              "      <td>NO</td>\n",
              "      <td>YES</td>\n",
              "      <td>NO</td>\n",
              "      <td>NO</td>\n",
              "      <td>NO</td>\n",
              "      <td>YES</td>\n",
              "      <td>NO</td>\n",
              "      <td>NO</td>\n",
              "      <td>F</td>\n",
              "      <td>3</td>\n",
              "    </tr>\n",
              "    <tr>\n",
              "      <th>1</th>\n",
              "      <td>YES</td>\n",
              "      <td>NO</td>\n",
              "      <td>NO</td>\n",
              "      <td>NO</td>\n",
              "      <td>YES</td>\n",
              "      <td>NO</td>\n",
              "      <td>NO</td>\n",
              "      <td>YES</td>\n",
              "      <td>NO</td>\n",
              "      <td>NO</td>\n",
              "      <td>NO</td>\n",
              "      <td>NO</td>\n",
              "      <td>E</td>\n",
              "      <td>5</td>\n",
              "    </tr>\n",
              "    <tr>\n",
              "      <th>2</th>\n",
              "      <td>YES</td>\n",
              "      <td>NO</td>\n",
              "      <td>NO</td>\n",
              "      <td>NO</td>\n",
              "      <td>YES</td>\n",
              "      <td>NO</td>\n",
              "      <td>NO</td>\n",
              "      <td>YES</td>\n",
              "      <td>NO</td>\n",
              "      <td>NO</td>\n",
              "      <td>NO</td>\n",
              "      <td>NO</td>\n",
              "      <td>E</td>\n",
              "      <td>2</td>\n",
              "    </tr>\n",
              "  </tbody>\n",
              "</table>\n",
              "</div>\n",
              "      <button class=\"colab-df-convert\" onclick=\"convertToInteractive('df-1cff687d-756c-46fb-9ef5-be6b934041cf')\"\n",
              "              title=\"Convert this dataframe to an interactive table.\"\n",
              "              style=\"display:none;\">\n",
              "        \n",
              "  <svg xmlns=\"http://www.w3.org/2000/svg\" height=\"24px\"viewBox=\"0 0 24 24\"\n",
              "       width=\"24px\">\n",
              "    <path d=\"M0 0h24v24H0V0z\" fill=\"none\"/>\n",
              "    <path d=\"M18.56 5.44l.94 2.06.94-2.06 2.06-.94-2.06-.94-.94-2.06-.94 2.06-2.06.94zm-11 1L8.5 8.5l.94-2.06 2.06-.94-2.06-.94L8.5 2.5l-.94 2.06-2.06.94zm10 10l.94 2.06.94-2.06 2.06-.94-2.06-.94-.94-2.06-.94 2.06-2.06.94z\"/><path d=\"M17.41 7.96l-1.37-1.37c-.4-.4-.92-.59-1.43-.59-.52 0-1.04.2-1.43.59L10.3 9.45l-7.72 7.72c-.78.78-.78 2.05 0 2.83L4 21.41c.39.39.9.59 1.41.59.51 0 1.02-.2 1.41-.59l7.78-7.78 2.81-2.81c.8-.78.8-2.07 0-2.86zM5.41 20L4 18.59l7.72-7.72 1.47 1.35L5.41 20z\"/>\n",
              "  </svg>\n",
              "      </button>\n",
              "      \n",
              "  <style>\n",
              "    .colab-df-container {\n",
              "      display:flex;\n",
              "      flex-wrap:wrap;\n",
              "      gap: 12px;\n",
              "    }\n",
              "\n",
              "    .colab-df-convert {\n",
              "      background-color: #E8F0FE;\n",
              "      border: none;\n",
              "      border-radius: 50%;\n",
              "      cursor: pointer;\n",
              "      display: none;\n",
              "      fill: #1967D2;\n",
              "      height: 32px;\n",
              "      padding: 0 0 0 0;\n",
              "      width: 32px;\n",
              "    }\n",
              "\n",
              "    .colab-df-convert:hover {\n",
              "      background-color: #E2EBFA;\n",
              "      box-shadow: 0px 1px 2px rgba(60, 64, 67, 0.3), 0px 1px 3px 1px rgba(60, 64, 67, 0.15);\n",
              "      fill: #174EA6;\n",
              "    }\n",
              "\n",
              "    [theme=dark] .colab-df-convert {\n",
              "      background-color: #3B4455;\n",
              "      fill: #D2E3FC;\n",
              "    }\n",
              "\n",
              "    [theme=dark] .colab-df-convert:hover {\n",
              "      background-color: #434B5C;\n",
              "      box-shadow: 0px 1px 3px 1px rgba(0, 0, 0, 0.15);\n",
              "      filter: drop-shadow(0px 1px 2px rgba(0, 0, 0, 0.3));\n",
              "      fill: #FFFFFF;\n",
              "    }\n",
              "  </style>\n",
              "\n",
              "      <script>\n",
              "        const buttonEl =\n",
              "          document.querySelector('#df-1cff687d-756c-46fb-9ef5-be6b934041cf button.colab-df-convert');\n",
              "        buttonEl.style.display =\n",
              "          google.colab.kernel.accessAllowed ? 'block' : 'none';\n",
              "\n",
              "        async function convertToInteractive(key) {\n",
              "          const element = document.querySelector('#df-1cff687d-756c-46fb-9ef5-be6b934041cf');\n",
              "          const dataTable =\n",
              "            await google.colab.kernel.invokeFunction('convertToInteractive',\n",
              "                                                     [key], {});\n",
              "          if (!dataTable) return;\n",
              "\n",
              "          const docLinkHtml = 'Like what you see? Visit the ' +\n",
              "            '<a target=\"_blank\" href=https://colab.research.google.com/notebooks/data_table.ipynb>data table notebook</a>'\n",
              "            + ' to learn more about interactive tables.';\n",
              "          element.innerHTML = '';\n",
              "          dataTable['output_type'] = 'display_data';\n",
              "          await google.colab.output.renderOutput(dataTable, element);\n",
              "          const docLink = document.createElement('div');\n",
              "          docLink.innerHTML = docLinkHtml;\n",
              "          element.appendChild(docLink);\n",
              "        }\n",
              "      </script>\n",
              "    </div>\n",
              "  </div>\n",
              "  "
            ]
          },
          "metadata": {},
          "execution_count": 67
        }
      ]
    },
    {
      "cell_type": "markdown",
      "source": [
        "### Labels\n",
        "\n",
        "Labels are essentially the value a machine learning model should predict. It's effectively the answer. For the bach dataset, this is quite straightforward because the column `chord_label` is self-evident."
      ],
      "metadata": {
        "id": "LNiLqUXTFOU6"
      }
    },
    {
      "cell_type": "code",
      "source": [
        "# Create bach label dataframe\n",
        "bach_labels = bach['chord_label']\n",
        "\n",
        "bach_labels[:3]"
      ],
      "metadata": {
        "colab": {
          "base_uri": "https://localhost:8080/"
        },
        "id": "c-d4NXnFFSjr",
        "outputId": "8afcb04b-d1bd-45c3-85f2-f35dac18f9e5"
      },
      "execution_count": 68,
      "outputs": [
        {
          "output_type": "execute_result",
          "data": {
            "text/plain": [
              "0    F_M\n",
              "1    C_M\n",
              "2    C_M\n",
              "Name: chord_label, dtype: object"
            ]
          },
          "metadata": {},
          "execution_count": 68
        }
      ]
    },
    {
      "cell_type": "markdown",
      "source": [
        "### Encoding\n",
        "\n",
        "Unfortunately, machine learning models (that have been introduced in this class so far) cannot make predictions with features that are `strings`. This means that the data needs to be encoded.\n",
        "\n",
        "As previously shown, the 12 notes values are `YES` and `NO`. Because these feature values are effectively a binary option, there are two possible encoding options: `1` and `0` or `True` and `False`. The `True` and `False` option was chosen because its more semantic with the origianl values, than `1` and `0`."
      ],
      "metadata": {
        "id": "Ee9KalRdRoI3"
      }
    },
    {
      "cell_type": "code",
      "source": [
        "# Create a new dataframe for the encoded values\n",
        "bach_feat_encoded = bach_features\n",
        "\n",
        "# Replace YES and NO with True and False\n",
        "bach_feat_encoded = bach_feat_encoded.replace({'C': {'YES': True, 'NO': False}})\n",
        "bach_feat_encoded = bach_feat_encoded.replace({'C#': {'YES': True, 'NO': False}})\n",
        "bach_feat_encoded = bach_feat_encoded.replace({'D': {'YES': True, 'NO': False}})\n",
        "bach_feat_encoded = bach_feat_encoded.replace({'D#': {'YES': True, 'NO': False}})\n",
        "bach_feat_encoded = bach_feat_encoded.replace({'E': {'YES': True, 'NO': False}})\n",
        "bach_feat_encoded = bach_feat_encoded.replace({'F': {'YES': True, 'NO': False}})\n",
        "bach_feat_encoded = bach_feat_encoded.replace({'F#': {'YES': True, 'NO': False}})\n",
        "bach_feat_encoded = bach_feat_encoded.replace({'G': {'YES': True, 'NO': False}})\n",
        "bach_feat_encoded = bach_feat_encoded.replace({'G#': {'YES': True, 'NO': False}})\n",
        "bach_feat_encoded = bach_feat_encoded.replace({'A': {'YES': True, 'NO': False}})\n",
        "bach_feat_encoded = bach_feat_encoded.replace({'A#': {'YES': True, 'NO': False}})\n",
        "bach_feat_encoded = bach_feat_encoded.replace({'B': {'YES': True, 'NO': False}})\n",
        "\n",
        "# Display the first 3 just to ensure the dataframe has been encoded properly\n",
        "bach_feat_encoded[:3]"
      ],
      "metadata": {
        "id": "ye4CjWsMde_3",
        "colab": {
          "base_uri": "https://localhost:8080/",
          "height": 143
        },
        "outputId": "3891c52a-2e28-424b-df19-505c0c54ab78"
      },
      "execution_count": 69,
      "outputs": [
        {
          "output_type": "execute_result",
          "data": {
            "text/plain": [
              "      C     C#      D     D#      E      F     F#      G     G#      A     A#  \\\n",
              "0  True  False  False  False  False   True  False  False  False   True  False   \n",
              "1  True  False  False  False   True  False  False   True  False  False  False   \n",
              "2  True  False  False  False   True  False  False   True  False  False  False   \n",
              "\n",
              "       B bass  meter  \n",
              "0  False    F      3  \n",
              "1  False    E      5  \n",
              "2  False    E      2  "
            ],
            "text/html": [
              "\n",
              "  <div id=\"df-cd9caa8a-cf28-48f8-9d0c-aef31b1ac016\">\n",
              "    <div class=\"colab-df-container\">\n",
              "      <div>\n",
              "<style scoped>\n",
              "    .dataframe tbody tr th:only-of-type {\n",
              "        vertical-align: middle;\n",
              "    }\n",
              "\n",
              "    .dataframe tbody tr th {\n",
              "        vertical-align: top;\n",
              "    }\n",
              "\n",
              "    .dataframe thead th {\n",
              "        text-align: right;\n",
              "    }\n",
              "</style>\n",
              "<table border=\"1\" class=\"dataframe\">\n",
              "  <thead>\n",
              "    <tr style=\"text-align: right;\">\n",
              "      <th></th>\n",
              "      <th>C</th>\n",
              "      <th>C#</th>\n",
              "      <th>D</th>\n",
              "      <th>D#</th>\n",
              "      <th>E</th>\n",
              "      <th>F</th>\n",
              "      <th>F#</th>\n",
              "      <th>G</th>\n",
              "      <th>G#</th>\n",
              "      <th>A</th>\n",
              "      <th>A#</th>\n",
              "      <th>B</th>\n",
              "      <th>bass</th>\n",
              "      <th>meter</th>\n",
              "    </tr>\n",
              "  </thead>\n",
              "  <tbody>\n",
              "    <tr>\n",
              "      <th>0</th>\n",
              "      <td>True</td>\n",
              "      <td>False</td>\n",
              "      <td>False</td>\n",
              "      <td>False</td>\n",
              "      <td>False</td>\n",
              "      <td>True</td>\n",
              "      <td>False</td>\n",
              "      <td>False</td>\n",
              "      <td>False</td>\n",
              "      <td>True</td>\n",
              "      <td>False</td>\n",
              "      <td>False</td>\n",
              "      <td>F</td>\n",
              "      <td>3</td>\n",
              "    </tr>\n",
              "    <tr>\n",
              "      <th>1</th>\n",
              "      <td>True</td>\n",
              "      <td>False</td>\n",
              "      <td>False</td>\n",
              "      <td>False</td>\n",
              "      <td>True</td>\n",
              "      <td>False</td>\n",
              "      <td>False</td>\n",
              "      <td>True</td>\n",
              "      <td>False</td>\n",
              "      <td>False</td>\n",
              "      <td>False</td>\n",
              "      <td>False</td>\n",
              "      <td>E</td>\n",
              "      <td>5</td>\n",
              "    </tr>\n",
              "    <tr>\n",
              "      <th>2</th>\n",
              "      <td>True</td>\n",
              "      <td>False</td>\n",
              "      <td>False</td>\n",
              "      <td>False</td>\n",
              "      <td>True</td>\n",
              "      <td>False</td>\n",
              "      <td>False</td>\n",
              "      <td>True</td>\n",
              "      <td>False</td>\n",
              "      <td>False</td>\n",
              "      <td>False</td>\n",
              "      <td>False</td>\n",
              "      <td>E</td>\n",
              "      <td>2</td>\n",
              "    </tr>\n",
              "  </tbody>\n",
              "</table>\n",
              "</div>\n",
              "      <button class=\"colab-df-convert\" onclick=\"convertToInteractive('df-cd9caa8a-cf28-48f8-9d0c-aef31b1ac016')\"\n",
              "              title=\"Convert this dataframe to an interactive table.\"\n",
              "              style=\"display:none;\">\n",
              "        \n",
              "  <svg xmlns=\"http://www.w3.org/2000/svg\" height=\"24px\"viewBox=\"0 0 24 24\"\n",
              "       width=\"24px\">\n",
              "    <path d=\"M0 0h24v24H0V0z\" fill=\"none\"/>\n",
              "    <path d=\"M18.56 5.44l.94 2.06.94-2.06 2.06-.94-2.06-.94-.94-2.06-.94 2.06-2.06.94zm-11 1L8.5 8.5l.94-2.06 2.06-.94-2.06-.94L8.5 2.5l-.94 2.06-2.06.94zm10 10l.94 2.06.94-2.06 2.06-.94-2.06-.94-.94-2.06-.94 2.06-2.06.94z\"/><path d=\"M17.41 7.96l-1.37-1.37c-.4-.4-.92-.59-1.43-.59-.52 0-1.04.2-1.43.59L10.3 9.45l-7.72 7.72c-.78.78-.78 2.05 0 2.83L4 21.41c.39.39.9.59 1.41.59.51 0 1.02-.2 1.41-.59l7.78-7.78 2.81-2.81c.8-.78.8-2.07 0-2.86zM5.41 20L4 18.59l7.72-7.72 1.47 1.35L5.41 20z\"/>\n",
              "  </svg>\n",
              "      </button>\n",
              "      \n",
              "  <style>\n",
              "    .colab-df-container {\n",
              "      display:flex;\n",
              "      flex-wrap:wrap;\n",
              "      gap: 12px;\n",
              "    }\n",
              "\n",
              "    .colab-df-convert {\n",
              "      background-color: #E8F0FE;\n",
              "      border: none;\n",
              "      border-radius: 50%;\n",
              "      cursor: pointer;\n",
              "      display: none;\n",
              "      fill: #1967D2;\n",
              "      height: 32px;\n",
              "      padding: 0 0 0 0;\n",
              "      width: 32px;\n",
              "    }\n",
              "\n",
              "    .colab-df-convert:hover {\n",
              "      background-color: #E2EBFA;\n",
              "      box-shadow: 0px 1px 2px rgba(60, 64, 67, 0.3), 0px 1px 3px 1px rgba(60, 64, 67, 0.15);\n",
              "      fill: #174EA6;\n",
              "    }\n",
              "\n",
              "    [theme=dark] .colab-df-convert {\n",
              "      background-color: #3B4455;\n",
              "      fill: #D2E3FC;\n",
              "    }\n",
              "\n",
              "    [theme=dark] .colab-df-convert:hover {\n",
              "      background-color: #434B5C;\n",
              "      box-shadow: 0px 1px 3px 1px rgba(0, 0, 0, 0.15);\n",
              "      filter: drop-shadow(0px 1px 2px rgba(0, 0, 0, 0.3));\n",
              "      fill: #FFFFFF;\n",
              "    }\n",
              "  </style>\n",
              "\n",
              "      <script>\n",
              "        const buttonEl =\n",
              "          document.querySelector('#df-cd9caa8a-cf28-48f8-9d0c-aef31b1ac016 button.colab-df-convert');\n",
              "        buttonEl.style.display =\n",
              "          google.colab.kernel.accessAllowed ? 'block' : 'none';\n",
              "\n",
              "        async function convertToInteractive(key) {\n",
              "          const element = document.querySelector('#df-cd9caa8a-cf28-48f8-9d0c-aef31b1ac016');\n",
              "          const dataTable =\n",
              "            await google.colab.kernel.invokeFunction('convertToInteractive',\n",
              "                                                     [key], {});\n",
              "          if (!dataTable) return;\n",
              "\n",
              "          const docLinkHtml = 'Like what you see? Visit the ' +\n",
              "            '<a target=\"_blank\" href=https://colab.research.google.com/notebooks/data_table.ipynb>data table notebook</a>'\n",
              "            + ' to learn more about interactive tables.';\n",
              "          element.innerHTML = '';\n",
              "          dataTable['output_type'] = 'display_data';\n",
              "          await google.colab.output.renderOutput(dataTable, element);\n",
              "          const docLink = document.createElement('div');\n",
              "          docLink.innerHTML = docLinkHtml;\n",
              "          element.appendChild(docLink);\n",
              "        }\n",
              "      </script>\n",
              "    </div>\n",
              "  </div>\n",
              "  "
            ]
          },
          "metadata": {},
          "execution_count": 69
        }
      ]
    },
    {
      "cell_type": "markdown",
      "source": [
        "The `bass` notes will be encoding with a natural ordering (i.e. 1, 2, 3, 4, ...) because the possible value set for the `bass` feature is relatively small and the natural order set values will be close together (i.e. they do not require normalization). Had the value set been larger, a hashing function would probably be a better solution."
      ],
      "metadata": {
        "id": "qesnX2XtYScZ"
      }
    },
    {
      "cell_type": "code",
      "source": [
        "# Natural order encoding for the bass notes\n",
        "bach_feat_encoded = bach_feat_encoded.replace({'bass': {'A': 1, 'A#': 2, 'Ab': 3,\n",
        "                                                        'B': 4, 'Bb': 5, 'C': 6, \n",
        "                                                        'C#': 7, 'D': 8, 'D#': 9,\n",
        "                                                        'Db': 10, 'E': 11, \n",
        "                                                        'Eb': 12, 'F': 13, \n",
        "                                                        'F#': 14, 'G': 15, \n",
        "                                                        'G#': 16}})\n",
        "\n",
        "# Display the first 3 just to ensure the dataframe has been encoded properly\n",
        "bach_feat_encoded[:3]"
      ],
      "metadata": {
        "id": "0eWYNYyPYMwF",
        "outputId": "0908504f-ce26-4ea3-ddc3-c53222844800",
        "colab": {
          "base_uri": "https://localhost:8080/",
          "height": 143
        }
      },
      "execution_count": 70,
      "outputs": [
        {
          "output_type": "execute_result",
          "data": {
            "text/plain": [
              "      C     C#      D     D#      E      F     F#      G     G#      A     A#  \\\n",
              "0  True  False  False  False  False   True  False  False  False   True  False   \n",
              "1  True  False  False  False   True  False  False   True  False  False  False   \n",
              "2  True  False  False  False   True  False  False   True  False  False  False   \n",
              "\n",
              "       B  bass  meter  \n",
              "0  False    13      3  \n",
              "1  False    11      5  \n",
              "2  False    11      2  "
            ],
            "text/html": [
              "\n",
              "  <div id=\"df-ccd49c71-1dbc-45c1-8638-bb0cbb201460\">\n",
              "    <div class=\"colab-df-container\">\n",
              "      <div>\n",
              "<style scoped>\n",
              "    .dataframe tbody tr th:only-of-type {\n",
              "        vertical-align: middle;\n",
              "    }\n",
              "\n",
              "    .dataframe tbody tr th {\n",
              "        vertical-align: top;\n",
              "    }\n",
              "\n",
              "    .dataframe thead th {\n",
              "        text-align: right;\n",
              "    }\n",
              "</style>\n",
              "<table border=\"1\" class=\"dataframe\">\n",
              "  <thead>\n",
              "    <tr style=\"text-align: right;\">\n",
              "      <th></th>\n",
              "      <th>C</th>\n",
              "      <th>C#</th>\n",
              "      <th>D</th>\n",
              "      <th>D#</th>\n",
              "      <th>E</th>\n",
              "      <th>F</th>\n",
              "      <th>F#</th>\n",
              "      <th>G</th>\n",
              "      <th>G#</th>\n",
              "      <th>A</th>\n",
              "      <th>A#</th>\n",
              "      <th>B</th>\n",
              "      <th>bass</th>\n",
              "      <th>meter</th>\n",
              "    </tr>\n",
              "  </thead>\n",
              "  <tbody>\n",
              "    <tr>\n",
              "      <th>0</th>\n",
              "      <td>True</td>\n",
              "      <td>False</td>\n",
              "      <td>False</td>\n",
              "      <td>False</td>\n",
              "      <td>False</td>\n",
              "      <td>True</td>\n",
              "      <td>False</td>\n",
              "      <td>False</td>\n",
              "      <td>False</td>\n",
              "      <td>True</td>\n",
              "      <td>False</td>\n",
              "      <td>False</td>\n",
              "      <td>13</td>\n",
              "      <td>3</td>\n",
              "    </tr>\n",
              "    <tr>\n",
              "      <th>1</th>\n",
              "      <td>True</td>\n",
              "      <td>False</td>\n",
              "      <td>False</td>\n",
              "      <td>False</td>\n",
              "      <td>True</td>\n",
              "      <td>False</td>\n",
              "      <td>False</td>\n",
              "      <td>True</td>\n",
              "      <td>False</td>\n",
              "      <td>False</td>\n",
              "      <td>False</td>\n",
              "      <td>False</td>\n",
              "      <td>11</td>\n",
              "      <td>5</td>\n",
              "    </tr>\n",
              "    <tr>\n",
              "      <th>2</th>\n",
              "      <td>True</td>\n",
              "      <td>False</td>\n",
              "      <td>False</td>\n",
              "      <td>False</td>\n",
              "      <td>True</td>\n",
              "      <td>False</td>\n",
              "      <td>False</td>\n",
              "      <td>True</td>\n",
              "      <td>False</td>\n",
              "      <td>False</td>\n",
              "      <td>False</td>\n",
              "      <td>False</td>\n",
              "      <td>11</td>\n",
              "      <td>2</td>\n",
              "    </tr>\n",
              "  </tbody>\n",
              "</table>\n",
              "</div>\n",
              "      <button class=\"colab-df-convert\" onclick=\"convertToInteractive('df-ccd49c71-1dbc-45c1-8638-bb0cbb201460')\"\n",
              "              title=\"Convert this dataframe to an interactive table.\"\n",
              "              style=\"display:none;\">\n",
              "        \n",
              "  <svg xmlns=\"http://www.w3.org/2000/svg\" height=\"24px\"viewBox=\"0 0 24 24\"\n",
              "       width=\"24px\">\n",
              "    <path d=\"M0 0h24v24H0V0z\" fill=\"none\"/>\n",
              "    <path d=\"M18.56 5.44l.94 2.06.94-2.06 2.06-.94-2.06-.94-.94-2.06-.94 2.06-2.06.94zm-11 1L8.5 8.5l.94-2.06 2.06-.94-2.06-.94L8.5 2.5l-.94 2.06-2.06.94zm10 10l.94 2.06.94-2.06 2.06-.94-2.06-.94-.94-2.06-.94 2.06-2.06.94z\"/><path d=\"M17.41 7.96l-1.37-1.37c-.4-.4-.92-.59-1.43-.59-.52 0-1.04.2-1.43.59L10.3 9.45l-7.72 7.72c-.78.78-.78 2.05 0 2.83L4 21.41c.39.39.9.59 1.41.59.51 0 1.02-.2 1.41-.59l7.78-7.78 2.81-2.81c.8-.78.8-2.07 0-2.86zM5.41 20L4 18.59l7.72-7.72 1.47 1.35L5.41 20z\"/>\n",
              "  </svg>\n",
              "      </button>\n",
              "      \n",
              "  <style>\n",
              "    .colab-df-container {\n",
              "      display:flex;\n",
              "      flex-wrap:wrap;\n",
              "      gap: 12px;\n",
              "    }\n",
              "\n",
              "    .colab-df-convert {\n",
              "      background-color: #E8F0FE;\n",
              "      border: none;\n",
              "      border-radius: 50%;\n",
              "      cursor: pointer;\n",
              "      display: none;\n",
              "      fill: #1967D2;\n",
              "      height: 32px;\n",
              "      padding: 0 0 0 0;\n",
              "      width: 32px;\n",
              "    }\n",
              "\n",
              "    .colab-df-convert:hover {\n",
              "      background-color: #E2EBFA;\n",
              "      box-shadow: 0px 1px 2px rgba(60, 64, 67, 0.3), 0px 1px 3px 1px rgba(60, 64, 67, 0.15);\n",
              "      fill: #174EA6;\n",
              "    }\n",
              "\n",
              "    [theme=dark] .colab-df-convert {\n",
              "      background-color: #3B4455;\n",
              "      fill: #D2E3FC;\n",
              "    }\n",
              "\n",
              "    [theme=dark] .colab-df-convert:hover {\n",
              "      background-color: #434B5C;\n",
              "      box-shadow: 0px 1px 3px 1px rgba(0, 0, 0, 0.15);\n",
              "      filter: drop-shadow(0px 1px 2px rgba(0, 0, 0, 0.3));\n",
              "      fill: #FFFFFF;\n",
              "    }\n",
              "  </style>\n",
              "\n",
              "      <script>\n",
              "        const buttonEl =\n",
              "          document.querySelector('#df-ccd49c71-1dbc-45c1-8638-bb0cbb201460 button.colab-df-convert');\n",
              "        buttonEl.style.display =\n",
              "          google.colab.kernel.accessAllowed ? 'block' : 'none';\n",
              "\n",
              "        async function convertToInteractive(key) {\n",
              "          const element = document.querySelector('#df-ccd49c71-1dbc-45c1-8638-bb0cbb201460');\n",
              "          const dataTable =\n",
              "            await google.colab.kernel.invokeFunction('convertToInteractive',\n",
              "                                                     [key], {});\n",
              "          if (!dataTable) return;\n",
              "\n",
              "          const docLinkHtml = 'Like what you see? Visit the ' +\n",
              "            '<a target=\"_blank\" href=https://colab.research.google.com/notebooks/data_table.ipynb>data table notebook</a>'\n",
              "            + ' to learn more about interactive tables.';\n",
              "          element.innerHTML = '';\n",
              "          dataTable['output_type'] = 'display_data';\n",
              "          await google.colab.output.renderOutput(dataTable, element);\n",
              "          const docLink = document.createElement('div');\n",
              "          docLink.innerHTML = docLinkHtml;\n",
              "          element.appendChild(docLink);\n",
              "        }\n",
              "      </script>\n",
              "    </div>\n",
              "  </div>\n",
              "  "
            ]
          },
          "metadata": {},
          "execution_count": 70
        }
      ]
    },
    {
      "cell_type": "markdown",
      "source": [
        "### Splitting the data\n",
        "\n",
        "Standard practices of machine learning generally favor splitting the dataset into `training` and `test`. Their names are self-evident, but for clarity, the machine learning model will use the `training` set to learn (i.e. fit), and it will use the `test` set to make predictions.\n",
        "\n",
        "Forunately, `SciKitLearn` has a useful tool for splitting the data: [train_test_split](https://scikit-learn.org/stable/modules/generated/sklearn.model_selection.train_test_split.html?highlight=train_test_split#sklearn.model_selection.train_test_split)"
      ],
      "metadata": {
        "id": "FJMU8K9BUiCm"
      }
    },
    {
      "cell_type": "code",
      "source": [
        "# Split the dataframe\n",
        "bach_train_features, bach_test_features, bach_train_labels, bach_test_labels = train_test_split(bach_feat_encoded, bach_labels, test_size = 0.2, random_state=42)\n",
        "bach_train_features[:3]"
      ],
      "metadata": {
        "colab": {
          "base_uri": "https://localhost:8080/",
          "height": 143
        },
        "id": "wYM0qxhbPrID",
        "outputId": "541562d1-83bd-4267-9d10-f45a03bc2b38"
      },
      "execution_count": 71,
      "outputs": [
        {
          "output_type": "execute_result",
          "data": {
            "text/plain": [
              "          C     C#      D     D#      E      F     F#      G     G#      A  \\\n",
              "4109  False  False  False  False   True  False  False  False   True  False   \n",
              "670   False  False  False   True  False  False   True  False  False   True   \n",
              "3493  False  False  False   True  False  False  False  False   True  False   \n",
              "\n",
              "         A#     B  bass  meter  \n",
              "4109  False  True    16      3  \n",
              "670   False  True     9      3  \n",
              "3493  False  True    16      5  "
            ],
            "text/html": [
              "\n",
              "  <div id=\"df-6242684c-8201-4c00-91bb-a1bdf00c9d54\">\n",
              "    <div class=\"colab-df-container\">\n",
              "      <div>\n",
              "<style scoped>\n",
              "    .dataframe tbody tr th:only-of-type {\n",
              "        vertical-align: middle;\n",
              "    }\n",
              "\n",
              "    .dataframe tbody tr th {\n",
              "        vertical-align: top;\n",
              "    }\n",
              "\n",
              "    .dataframe thead th {\n",
              "        text-align: right;\n",
              "    }\n",
              "</style>\n",
              "<table border=\"1\" class=\"dataframe\">\n",
              "  <thead>\n",
              "    <tr style=\"text-align: right;\">\n",
              "      <th></th>\n",
              "      <th>C</th>\n",
              "      <th>C#</th>\n",
              "      <th>D</th>\n",
              "      <th>D#</th>\n",
              "      <th>E</th>\n",
              "      <th>F</th>\n",
              "      <th>F#</th>\n",
              "      <th>G</th>\n",
              "      <th>G#</th>\n",
              "      <th>A</th>\n",
              "      <th>A#</th>\n",
              "      <th>B</th>\n",
              "      <th>bass</th>\n",
              "      <th>meter</th>\n",
              "    </tr>\n",
              "  </thead>\n",
              "  <tbody>\n",
              "    <tr>\n",
              "      <th>4109</th>\n",
              "      <td>False</td>\n",
              "      <td>False</td>\n",
              "      <td>False</td>\n",
              "      <td>False</td>\n",
              "      <td>True</td>\n",
              "      <td>False</td>\n",
              "      <td>False</td>\n",
              "      <td>False</td>\n",
              "      <td>True</td>\n",
              "      <td>False</td>\n",
              "      <td>False</td>\n",
              "      <td>True</td>\n",
              "      <td>16</td>\n",
              "      <td>3</td>\n",
              "    </tr>\n",
              "    <tr>\n",
              "      <th>670</th>\n",
              "      <td>False</td>\n",
              "      <td>False</td>\n",
              "      <td>False</td>\n",
              "      <td>True</td>\n",
              "      <td>False</td>\n",
              "      <td>False</td>\n",
              "      <td>True</td>\n",
              "      <td>False</td>\n",
              "      <td>False</td>\n",
              "      <td>True</td>\n",
              "      <td>False</td>\n",
              "      <td>True</td>\n",
              "      <td>9</td>\n",
              "      <td>3</td>\n",
              "    </tr>\n",
              "    <tr>\n",
              "      <th>3493</th>\n",
              "      <td>False</td>\n",
              "      <td>False</td>\n",
              "      <td>False</td>\n",
              "      <td>True</td>\n",
              "      <td>False</td>\n",
              "      <td>False</td>\n",
              "      <td>False</td>\n",
              "      <td>False</td>\n",
              "      <td>True</td>\n",
              "      <td>False</td>\n",
              "      <td>False</td>\n",
              "      <td>True</td>\n",
              "      <td>16</td>\n",
              "      <td>5</td>\n",
              "    </tr>\n",
              "  </tbody>\n",
              "</table>\n",
              "</div>\n",
              "      <button class=\"colab-df-convert\" onclick=\"convertToInteractive('df-6242684c-8201-4c00-91bb-a1bdf00c9d54')\"\n",
              "              title=\"Convert this dataframe to an interactive table.\"\n",
              "              style=\"display:none;\">\n",
              "        \n",
              "  <svg xmlns=\"http://www.w3.org/2000/svg\" height=\"24px\"viewBox=\"0 0 24 24\"\n",
              "       width=\"24px\">\n",
              "    <path d=\"M0 0h24v24H0V0z\" fill=\"none\"/>\n",
              "    <path d=\"M18.56 5.44l.94 2.06.94-2.06 2.06-.94-2.06-.94-.94-2.06-.94 2.06-2.06.94zm-11 1L8.5 8.5l.94-2.06 2.06-.94-2.06-.94L8.5 2.5l-.94 2.06-2.06.94zm10 10l.94 2.06.94-2.06 2.06-.94-2.06-.94-.94-2.06-.94 2.06-2.06.94z\"/><path d=\"M17.41 7.96l-1.37-1.37c-.4-.4-.92-.59-1.43-.59-.52 0-1.04.2-1.43.59L10.3 9.45l-7.72 7.72c-.78.78-.78 2.05 0 2.83L4 21.41c.39.39.9.59 1.41.59.51 0 1.02-.2 1.41-.59l7.78-7.78 2.81-2.81c.8-.78.8-2.07 0-2.86zM5.41 20L4 18.59l7.72-7.72 1.47 1.35L5.41 20z\"/>\n",
              "  </svg>\n",
              "      </button>\n",
              "      \n",
              "  <style>\n",
              "    .colab-df-container {\n",
              "      display:flex;\n",
              "      flex-wrap:wrap;\n",
              "      gap: 12px;\n",
              "    }\n",
              "\n",
              "    .colab-df-convert {\n",
              "      background-color: #E8F0FE;\n",
              "      border: none;\n",
              "      border-radius: 50%;\n",
              "      cursor: pointer;\n",
              "      display: none;\n",
              "      fill: #1967D2;\n",
              "      height: 32px;\n",
              "      padding: 0 0 0 0;\n",
              "      width: 32px;\n",
              "    }\n",
              "\n",
              "    .colab-df-convert:hover {\n",
              "      background-color: #E2EBFA;\n",
              "      box-shadow: 0px 1px 2px rgba(60, 64, 67, 0.3), 0px 1px 3px 1px rgba(60, 64, 67, 0.15);\n",
              "      fill: #174EA6;\n",
              "    }\n",
              "\n",
              "    [theme=dark] .colab-df-convert {\n",
              "      background-color: #3B4455;\n",
              "      fill: #D2E3FC;\n",
              "    }\n",
              "\n",
              "    [theme=dark] .colab-df-convert:hover {\n",
              "      background-color: #434B5C;\n",
              "      box-shadow: 0px 1px 3px 1px rgba(0, 0, 0, 0.15);\n",
              "      filter: drop-shadow(0px 1px 2px rgba(0, 0, 0, 0.3));\n",
              "      fill: #FFFFFF;\n",
              "    }\n",
              "  </style>\n",
              "\n",
              "      <script>\n",
              "        const buttonEl =\n",
              "          document.querySelector('#df-6242684c-8201-4c00-91bb-a1bdf00c9d54 button.colab-df-convert');\n",
              "        buttonEl.style.display =\n",
              "          google.colab.kernel.accessAllowed ? 'block' : 'none';\n",
              "\n",
              "        async function convertToInteractive(key) {\n",
              "          const element = document.querySelector('#df-6242684c-8201-4c00-91bb-a1bdf00c9d54');\n",
              "          const dataTable =\n",
              "            await google.colab.kernel.invokeFunction('convertToInteractive',\n",
              "                                                     [key], {});\n",
              "          if (!dataTable) return;\n",
              "\n",
              "          const docLinkHtml = 'Like what you see? Visit the ' +\n",
              "            '<a target=\"_blank\" href=https://colab.research.google.com/notebooks/data_table.ipynb>data table notebook</a>'\n",
              "            + ' to learn more about interactive tables.';\n",
              "          element.innerHTML = '';\n",
              "          dataTable['output_type'] = 'display_data';\n",
              "          await google.colab.output.renderOutput(dataTable, element);\n",
              "          const docLink = document.createElement('div');\n",
              "          docLink.innerHTML = docLinkHtml;\n",
              "          element.appendChild(docLink);\n",
              "        }\n",
              "      </script>\n",
              "    </div>\n",
              "  </div>\n",
              "  "
            ]
          },
          "metadata": {},
          "execution_count": 71
        }
      ]
    },
    {
      "cell_type": "markdown",
      "source": [
        "## 6) Base Model\n",
        "\n",
        "Before creating a XGBoost model, it's good practice to create a base model to have a baseline accuracy.\n",
        "\n",
        "The model used for a base accuracy will be a Decision Tree Classifier. This classifier was chosen because it takes a supervisted learning approach. This is desired because supervised learning works best with classification, and a set of notes can be classified as a chord.\n",
        "\n",
        "Another advantage of the Decision Tree is the hyperparameter `max_depth` can yield a variety of accuracies, which will be explored further in the XGBoost portion of this project."
      ],
      "metadata": {
        "id": "SXXKkcujW4Cf"
      }
    },
    {
      "cell_type": "code",
      "source": [
        "# Create Decision Tree Classifier\n",
        "bach_clf = tree.DecisionTreeClassifier(criterion='entropy', max_depth=5)\n",
        "\n",
        "# Fit the decision tree\n",
        "bach_clf.fit(bach_train_features, bach_train_labels)\n",
        "\n",
        "# Predict the decision tree\n",
        "bach_clf_predictions = bach_clf.predict(bach_test_features)\n",
        "\n",
        "# Accuracy\n",
        "accuracy_score(bach_test_labels, bach_clf_predictions)"
      ],
      "metadata": {
        "colab": {
          "base_uri": "https://localhost:8080/"
        },
        "id": "0_qrhYIiXM_b",
        "outputId": "46f366c1-e4c7-4a5f-968b-efa32fdf641f"
      },
      "execution_count": 72,
      "outputs": [
        {
          "output_type": "execute_result",
          "data": {
            "text/plain": [
              "0.6407766990291263"
            ]
          },
          "metadata": {},
          "execution_count": 72
        }
      ]
    },
    {
      "cell_type": "markdown",
      "source": [
        "### Pasting and Random Patching\n",
        "\n",
        "Now that a baseline accuracy score has been established, let's see the score of a Pasting classifier can achieve.\n",
        "\n",
        "The classifier will be the same as the baseline, but this time there will be `20 estimators`."
      ],
      "metadata": {
        "id": "9qQBg-wVWDVI"
      }
    },
    {
      "cell_type": "code",
      "source": [
        "# Create Decision Tree Classifier\n",
        "bach_clf = tree.DecisionTreeClassifier(criterion='entropy', max_depth=5)\n",
        "\n",
        "# Instantiate BagginClassifier with Random Patching\n",
        "bach_pasting_clf = BaggingClassifier(bach_clf, n_estimators=20, bootstrap=False, n_jobs=-1)\n",
        "\n",
        "# Fit the data\n",
        "bach_pasting_clf.fit(bach_train_features, bach_train_labels)\n",
        "\n",
        "# Predict\n",
        "bach_pasting_predictions = bach_pasting_clf.predict(bach_test_features)\n",
        "\n",
        "# Accuracy\n",
        "accuracy_score(bach_test_labels, bach_pasting_predictions)"
      ],
      "metadata": {
        "id": "FcfrNBukFXrM",
        "outputId": "f9e34579-4abd-4714-a5cf-576405986ece",
        "colab": {
          "base_uri": "https://localhost:8080/"
        }
      },
      "execution_count": 73,
      "outputs": [
        {
          "output_type": "execute_result",
          "data": {
            "text/plain": [
              "0.6407766990291263"
            ]
          },
          "metadata": {},
          "execution_count": 73
        }
      ]
    },
    {
      "cell_type": "markdown",
      "source": [
        "This is the same accuracy as the baseline model. So 20 estimators does not increase the accuracy."
      ],
      "metadata": {
        "id": "CQZzph71NyiI"
      }
    },
    {
      "cell_type": "markdown",
      "source": [
        "Next, let's see the score of a Pasting with Random Patching classifier.\n",
        "\n",
        "This classifier is similar to the Pasting model but will also include the hyperparameters to achieve `70% samples and features`."
      ],
      "metadata": {
        "id": "xXwrdUBfFzBq"
      }
    },
    {
      "cell_type": "code",
      "source": [
        "# Create Decision Tree Classifier\n",
        "bach_clf = tree.DecisionTreeClassifier(criterion='entropy', max_depth=5)\n",
        "\n",
        "# Instantiate BagginClassifier with Random Patching\n",
        "bach_random_patch_clf = BaggingClassifier(bach_clf, n_estimators=20, \n",
        "                                  max_samples=.7, max_features=.7, bootstrap=False, n_jobs=-1)\n",
        "\n",
        "# Fit the data\n",
        "bach_random_patch_clf.fit(bach_train_features, bach_train_labels)\n",
        "\n",
        "# Predict\n",
        "bach_random_patch_predictions = bach_random_patch_clf.predict(bach_test_features)\n",
        "\n",
        "# Accuracy\n",
        "accuracy_score(bach_test_labels, bach_random_patch_predictions)"
      ],
      "metadata": {
        "colab": {
          "base_uri": "https://localhost:8080/"
        },
        "id": "n9oHYV1mV35L",
        "outputId": "641ed2e7-752c-4a21-a8f5-425c9b24587d"
      },
      "execution_count": 74,
      "outputs": [
        {
          "output_type": "execute_result",
          "data": {
            "text/plain": [
              "0.676081200353045"
            ]
          },
          "metadata": {},
          "execution_count": 74
        }
      ]
    },
    {
      "cell_type": "markdown",
      "source": [
        "### Prediction Analysis\n",
        "\n",
        "The accuracy scores of Pasting and 70% Random Patching have a difference of 3%, which aligns with the prediction that some samples and features will not provide as much value in predicting chords."
      ],
      "metadata": {
        "id": "5YARdVL8GXdU"
      }
    },
    {
      "cell_type": "markdown",
      "source": [
        "## 7) XGBoost\n",
        "\n",
        "According to the [XGBoost documentation](https://xgboost.readthedocs.io/en/stable/), it is an optimized distributed gradient boosting library. Graident boosting is a maching learning technique used for various tasks, such as classification, by forming a model based on weaker prediction models, usually a descision tree.\n",
        "\n",
        "(This is another reason why the chosen base model was a decision tree.)"
      ],
      "metadata": {
        "id": "q4riAX1pW-Yx"
      }
    },
    {
      "cell_type": "markdown",
      "source": [
        "### Base XGBoost Model\n",
        "\n",
        "Before the XGBoost model is instantiated, a few parameters are defined. Taking a look at the `params` object, the number of estimators is the same from the previous Pasting classifiers, and the predictor will use the GPU.\n",
        "\n",
        "By setting the number of estimators to the same as the Pasting classifiers, their scores can be compared without qualifying either as having an advantage.\n",
        "\n",
        "The GPU predictor was choosen because XGBoost implements gradient descent, and GPUs can perform those calculations quicker than a CPU."
      ],
      "metadata": {
        "id": "-2v_IVnfXp0g"
      }
    },
    {
      "cell_type": "code",
      "source": [
        "# Define the params for XGBClassifier as GPU and estimators\n",
        "params = { 'n_estimators': 20, 'tree_method':'gpu_hist', 'predictor':'gpu_predictor' }\n",
        "\n",
        "model = XGBClassifier(**params)\n",
        "model"
      ],
      "metadata": {
        "colab": {
          "base_uri": "https://localhost:8080/"
        },
        "id": "Cx_-3a5gHkJC",
        "outputId": "77b27903-7060-4ad7-c823-6b5883ad7196"
      },
      "execution_count": 75,
      "outputs": [
        {
          "output_type": "execute_result",
          "data": {
            "text/plain": [
              "XGBClassifier(n_estimators=20, predictor='gpu_predictor',\n",
              "              tree_method='gpu_hist')"
            ]
          },
          "metadata": {},
          "execution_count": 75
        }
      ]
    },
    {
      "cell_type": "markdown",
      "source": [
        "Fit the data (i.e. train the model)."
      ],
      "metadata": {
        "id": "VPZkzYp5ILs1"
      }
    },
    {
      "cell_type": "code",
      "source": [
        "model.fit(bach_train_features, bach_train_labels)"
      ],
      "metadata": {
        "colab": {
          "base_uri": "https://localhost:8080/"
        },
        "id": "Ii4FEthTHvZJ",
        "outputId": "c4dcc0b8-d83a-4815-9091-3d930be334f5"
      },
      "execution_count": 76,
      "outputs": [
        {
          "output_type": "execute_result",
          "data": {
            "text/plain": [
              "XGBClassifier(n_estimators=20, objective='multi:softprob',\n",
              "              predictor='gpu_predictor', tree_method='gpu_hist')"
            ]
          },
          "metadata": {},
          "execution_count": 76
        }
      ]
    },
    {
      "cell_type": "markdown",
      "source": [
        "Evaluate the model."
      ],
      "metadata": {
        "id": "EwT8z_GvISKY"
      }
    },
    {
      "cell_type": "code",
      "source": [
        "base_boost_predictions = model.predict(bach_test_features)\n",
        "base_boost_score = accuracy_score(bach_test_labels, base_boost_predictions)\n",
        "base_boost_score"
      ],
      "metadata": {
        "colab": {
          "base_uri": "https://localhost:8080/"
        },
        "id": "uxAQhTTbHyuy",
        "outputId": "c4264757-b572-4bbf-e1bf-d8e32f1019bd"
      },
      "execution_count": 77,
      "outputs": [
        {
          "output_type": "execute_result",
          "data": {
            "text/plain": [
              "0.703442188879082"
            ]
          },
          "metadata": {},
          "execution_count": 77
        }
      ]
    },
    {
      "cell_type": "markdown",
      "source": [
        "That's a decent improvement in accuracy of about 6% from the baseline and Pasting models, but only about 3% improvement over subspacing."
      ],
      "metadata": {
        "id": "QAtX4gQxSkeG"
      }
    },
    {
      "cell_type": "markdown",
      "source": [
        "### Searching for best params\n",
        "\n",
        "Now that a baseline accuracy has been established for the XGBoost model, let's try to improve that score by finding the best hyperparameters from a set of values."
      ],
      "metadata": {
        "id": "1FKXNtdRHG_R"
      }
    },
    {
      "cell_type": "code",
      "source": [
        "# Define the params for XGBClassifier as GPU\n",
        "params = { 'tree_method':'gpu_hist', 'predictor':'gpu_predictor' }\n",
        "\n",
        "model = XGBClassifier(**params)\n",
        "model"
      ],
      "metadata": {
        "colab": {
          "base_uri": "https://localhost:8080/"
        },
        "id": "CCr3HdK2QC3U",
        "outputId": "0c5cb1b6-92a7-487c-cbf4-1d6b0993dec3"
      },
      "execution_count": 78,
      "outputs": [
        {
          "output_type": "execute_result",
          "data": {
            "text/plain": [
              "XGBClassifier(predictor='gpu_predictor', tree_method='gpu_hist')"
            ]
          },
          "metadata": {},
          "execution_count": 78
        }
      ]
    },
    {
      "cell_type": "markdown",
      "source": [
        "Define the parameters for XGBoost to test. Some of the values represented in the parameter set are the same hyperparameters as the previous classifiers. They were included in case those are the best parameters."
      ],
      "metadata": {
        "id": "3lR_of6OXjVn"
      }
    },
    {
      "cell_type": "code",
      "source": [
        "param_grid = { 'n_estimators': [20, 45, 70, 95], 'max_depth': [6, 9, 12, 15] }"
      ],
      "metadata": {
        "id": "d25cRgvwQFuj"
      },
      "execution_count": 79,
      "outputs": []
    },
    {
      "cell_type": "markdown",
      "source": [
        "Create a Random Search model with the XGBoost model.\n",
        "\n",
        "There are 16 combinations and 5 fold cross validation. That will make 80 fits with an average of 42 classifiers.\n",
        "\n",
        "The algorithm will select 5 combinations of hyperparameters at random."
      ],
      "metadata": {
        "id": "dXJaGZB0XuiY"
      }
    },
    {
      "cell_type": "code",
      "source": [
        "param_comb = 5\n",
        "folds = 5\n",
        "skf = StratifiedKFold(n_splits=folds, shuffle = True, random_state = 1001)\n",
        "random_search = RandomizedSearchCV(model, param_distributions=param_grid, n_iter=param_comb, n_jobs=-1, \n",
        "                                   cv=skf.split(bach_train_features, bach_train_labels), verbose=3)"
      ],
      "metadata": {
        "id": "3UKDW1soQH3t"
      },
      "execution_count": 80,
      "outputs": []
    },
    {
      "cell_type": "markdown",
      "source": [
        "Fit the training data by searching for best params."
      ],
      "metadata": {
        "id": "_f-CgAf3XxOF"
      }
    },
    {
      "cell_type": "code",
      "source": [
        "%%time \n",
        "grid_result = random_search.fit(bach_train_features, bach_train_labels)"
      ],
      "metadata": {
        "id": "CwLWFBKTQKl5",
        "colab": {
          "base_uri": "https://localhost:8080/"
        },
        "outputId": "39d94eba-668e-453b-daca-0c45b60aa7cf"
      },
      "execution_count": 81,
      "outputs": [
        {
          "output_type": "stream",
          "name": "stderr",
          "text": [
            "/usr/local/lib/python3.7/dist-packages/sklearn/model_selection/_split.py:680: UserWarning: The least populated class in y has only 1 members, which is less than n_splits=5.\n",
            "  UserWarning,\n"
          ]
        },
        {
          "output_type": "stream",
          "name": "stdout",
          "text": [
            "Fitting 5 folds for each of 5 candidates, totalling 25 fits\n",
            "CPU times: user 21.5 s, sys: 366 ms, total: 21.9 s\n",
            "Wall time: 10min 16s\n"
          ]
        }
      ]
    },
    {
      "cell_type": "markdown",
      "source": [
        "Display the best params."
      ],
      "metadata": {
        "id": "z8i4AzYxX2hs"
      }
    },
    {
      "cell_type": "code",
      "source": [
        "random_search.best_params_"
      ],
      "metadata": {
        "id": "w0dHCruxQOO4",
        "colab": {
          "base_uri": "https://localhost:8080/"
        },
        "outputId": "7dce4881-25ac-4c5d-edfe-8c996b19dda5"
      },
      "execution_count": 82,
      "outputs": [
        {
          "output_type": "execute_result",
          "data": {
            "text/plain": [
              "{'n_estimators': 45, 'max_depth': 9}"
            ]
          },
          "metadata": {},
          "execution_count": 82
        }
      ]
    },
    {
      "cell_type": "markdown",
      "source": [
        "Display the accuracy"
      ],
      "metadata": {
        "id": "L99-865TX5Mp"
      }
    },
    {
      "cell_type": "code",
      "source": [
        "predictions = random_search.best_estimator_.predict(bach_test_features)\n",
        "accuracy_score(bach_test_labels, predictions)"
      ],
      "metadata": {
        "id": "6SYgV7vmQQ6X",
        "colab": {
          "base_uri": "https://localhost:8080/"
        },
        "outputId": "a0b312bf-bd2a-4078-c548-10334ea2d99f"
      },
      "execution_count": 83,
      "outputs": [
        {
          "output_type": "execute_result",
          "data": {
            "text/plain": [
              "0.736098852603707"
            ]
          },
          "metadata": {},
          "execution_count": 83
        }
      ]
    },
    {
      "cell_type": "markdown",
      "source": [
        "With the best parameters from the provided set, the score improved by 3.5%.\n",
        "\n"
      ],
      "metadata": {
        "id": "18Z-uRkjVA4A"
      }
    },
    {
      "cell_type": "markdown",
      "source": [
        "## 8) Conclusion"
      ],
      "metadata": {
        "id": "7PpKPYNvXBuH"
      }
    },
    {
      "cell_type": "markdown",
      "source": [
        "### Summary of Scores\n",
        "\n",
        "| Classifier      | Score |\n",
        "| ----------- | ----------- |\n",
        "| Decision Tree Baseline Model      | 0.6407766990291263       |\n",
        "| Pasting Model   | 0.6407766990291263        |\n",
        "| Random Patching Model   | 0.6716681376875552        |\n",
        "| XGBoost Model   | 0.703442188879082        |\n",
        "| XGBoost Best Param Model   | 0.736098852603707        |\n",
        "\n",
        "### Best Hyperparameters\n",
        "\n",
        "The best hyperparameters found by the XGBoost model are `65` estimators and a max depth of `9` for the Decision Tree.\n",
        "\n",
        "So it seems that more estimators will increase the score but the max depth asymptotes around `9`."
      ],
      "metadata": {
        "id": "KnJo30-wVY8-"
      }
    }
  ]
}